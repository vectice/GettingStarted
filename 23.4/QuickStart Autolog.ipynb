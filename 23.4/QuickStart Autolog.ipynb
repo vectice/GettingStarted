{
  "cells": [
    {
      "cell_type": "markdown",
      "metadata": {
        "id": "twIzT22mtqhs"
      },
      "source": [
        "# Before you start with this Quickstart Notebook"
      ]
    },
    {
      "cell_type": "markdown",
      "metadata": {
        "id": "iUp4X8V5tqhv"
      },
      "source": [
        "You will need:\n",
        "* An account in Vectice\n",
        "* An API key to connect to Vectice\n",
        "* The Phase Id of the project where you want to log your work\n",
        "\n",
        "### Important Resources\n",
        "* Vectice autolog documentation https://api-docs.vectice.com/reference/vectice/autolog/\n"
      ]
    },
    {
      "cell_type": "markdown",
      "metadata": {
        "id": "jER4KBN0JbSw"
      },
      "source": [
        "<div class=\"alert\" style=\"color: #383d41; background-color: #e2e3e5; border-color: #d6d8db\" role=\"alert\">\n",
        "<b>Automated code lineage:</b> The code lineage functionalities are not covered as part of this QuickStart as they require to first setting up a Git repository.\n",
        "</div>\n",
        "\n",
        "\n",
        "\n",
        "---\n",
        "\n"
      ]
    },
    {
      "cell_type": "markdown",
      "metadata": {
        "id": "7LArs6J5fyIz"
      },
      "source": [
        "## What to expect\n",
        "\n",
        "In this notebook, we will re-use the classical Iris modeling example to demonstrate how you can automatically document in Vectice your assets, such as datasets, models, graphs, and notes, using a few lines of code."
      ]
    },
    {
      "cell_type": "markdown",
      "metadata": {
        "id": "BWxVwtAdgSbj"
      },
      "source": [
        "## Install the latest Vectice Python client library"
      ]
    },
    {
      "cell_type": "code",
      "execution_count": 11,
      "metadata": {
        "id": "bin0M8rKdfBU"
      },
      "outputs": [
        {
          "name": "stdout",
          "output_type": "stream",
          "text": [
            "\n",
            "\u001b[1m[\u001b[0m\u001b[34;49mnotice\u001b[0m\u001b[1;39;49m]\u001b[0m\u001b[39;49m A new release of pip is available: \u001b[0m\u001b[31;49m23.2.1\u001b[0m\u001b[39;49m -> \u001b[0m\u001b[32;49m23.3.2\u001b[0m\n",
            "\u001b[1m[\u001b[0m\u001b[34;49mnotice\u001b[0m\u001b[1;39;49m]\u001b[0m\u001b[39;49m To update, run: \u001b[0m\u001b[32;49mpip install --upgrade pip\u001b[0m\n",
            "Note: you may need to restart the kernel to use updated packages.\n",
            "\n",
            "\u001b[1m[\u001b[0m\u001b[34;49mnotice\u001b[0m\u001b[1;39;49m]\u001b[0m\u001b[39;49m A new release of pip is available: \u001b[0m\u001b[31;49m23.2.1\u001b[0m\u001b[39;49m -> \u001b[0m\u001b[32;49m23.3.2\u001b[0m\n",
            "\u001b[1m[\u001b[0m\u001b[34;49mnotice\u001b[0m\u001b[1;39;49m]\u001b[0m\u001b[39;49m To update, run: \u001b[0m\u001b[32;49mpip install --upgrade pip\u001b[0m\n",
            "Note: you may need to restart the kernel to use updated packages.\n",
            "\n",
            "\u001b[1m[\u001b[0m\u001b[34;49mnotice\u001b[0m\u001b[1;39;49m]\u001b[0m\u001b[39;49m A new release of pip is available: \u001b[0m\u001b[31;49m23.2.1\u001b[0m\u001b[39;49m -> \u001b[0m\u001b[32;49m23.3.2\u001b[0m\n",
            "\u001b[1m[\u001b[0m\u001b[34;49mnotice\u001b[0m\u001b[1;39;49m]\u001b[0m\u001b[39;49m To update, run: \u001b[0m\u001b[32;49mpip install --upgrade pip\u001b[0m\n",
            "Note: you may need to restart the kernel to use updated packages.\n",
            "zsh:1: no matches found: vectice[autolog]\n",
            "Note: you may need to restart the kernel to use updated packages.\n"
          ]
        }
      ],
      "source": [
        "%pip install -q seaborn\n",
        "%pip install -q scikit-learn\n",
        "%pip install -q vectice -U\n",
        "%pip install vectice[autolog]"
      ]
    },
    {
      "cell_type": "code",
      "execution_count": 1,
      "metadata": {},
      "outputs": [
        {
          "name": "stdout",
          "output_type": "stream",
          "text": [
            "Looking in indexes: https://test.pypi.org/simple/\n",
            "Collecting vectice==23.4.7.2\n",
            "  Obtaining dependency information for vectice==23.4.7.2 from https://test-files.pythonhosted.org/packages/07/82/7f2a232d079651fae40a641ad69cc052711a37f1060305b039ae91b7cdf0/vectice-23.4.7.2-py2.py3-none-any.whl.metadata\n",
            "  Downloading https://test-files.pythonhosted.org/packages/07/82/7f2a232d079651fae40a641ad69cc052711a37f1060305b039ae91b7cdf0/vectice-23.4.7.2-py2.py3-none-any.whl.metadata (4.3 kB)\n",
            "Requirement already satisfied: types-python-dateutil in /Users/bryandaversa/Vectice/GettingStarted/.venv/lib/python3.9/site-packages (from vectice==23.4.7.2) (2.8.19.14)\n",
            "Requirement already satisfied: python-dotenv>=0.11.0 in /Users/bryandaversa/Vectice/GettingStarted/.venv/lib/python3.9/site-packages (from vectice==23.4.7.2) (1.0.0)\n",
            "Requirement already satisfied: requests>=2.5.0 in /Users/bryandaversa/Vectice/GettingStarted/.venv/lib/python3.9/site-packages (from vectice==23.4.7.2) (2.31.0)\n",
            "Requirement already satisfied: rich in /Users/bryandaversa/Vectice/GettingStarted/.venv/lib/python3.9/site-packages (from vectice==23.4.7.2) (13.7.0)\n",
            "Requirement already satisfied: urllib3 in /Users/bryandaversa/Vectice/GettingStarted/.venv/lib/python3.9/site-packages (from vectice==23.4.7.2) (1.26.18)\n",
            "Requirement already satisfied: gql[requests] in /Users/bryandaversa/Vectice/GettingStarted/.venv/lib/python3.9/site-packages (from vectice==23.4.7.2) (3.4.1)\n",
            "Requirement already satisfied: GitPython in /Users/bryandaversa/Vectice/GettingStarted/.venv/lib/python3.9/site-packages (from vectice==23.4.7.2) (3.1.40)\n",
            "Requirement already satisfied: packaging in /Users/bryandaversa/Vectice/GettingStarted/.venv/lib/python3.9/site-packages (from vectice==23.4.7.2) (23.2)\n",
            "Requirement already satisfied: Pillow in /Users/bryandaversa/Vectice/GettingStarted/.venv/lib/python3.9/site-packages (from vectice==23.4.7.2) (10.1.0)\n",
            "Requirement already satisfied: pandas in /Users/bryandaversa/Vectice/GettingStarted/.venv/lib/python3.9/site-packages (from vectice==23.4.7.2) (2.1.3)\n",
            "Requirement already satisfied: typing-extensions>=4.5.0 in /Users/bryandaversa/Vectice/GettingStarted/.venv/lib/python3.9/site-packages (from vectice==23.4.7.2) (4.8.0)\n",
            "Requirement already satisfied: dataclasses-json==0.5.8 in /Users/bryandaversa/Vectice/GettingStarted/.venv/lib/python3.9/site-packages (from vectice==23.4.7.2) (0.5.8)\n",
            "Requirement already satisfied: marshmallow<4.0.0,>=3.3.0 in /Users/bryandaversa/Vectice/GettingStarted/.venv/lib/python3.9/site-packages (from dataclasses-json==0.5.8->vectice==23.4.7.2) (3.20.1)\n",
            "Requirement already satisfied: marshmallow-enum<2.0.0,>=1.5.1 in /Users/bryandaversa/Vectice/GettingStarted/.venv/lib/python3.9/site-packages (from dataclasses-json==0.5.8->vectice==23.4.7.2) (1.5.1)\n",
            "Requirement already satisfied: typing-inspect>=0.4.0 in /Users/bryandaversa/Vectice/GettingStarted/.venv/lib/python3.9/site-packages (from dataclasses-json==0.5.8->vectice==23.4.7.2) (0.9.0)\n",
            "Requirement already satisfied: charset-normalizer<4,>=2 in /Users/bryandaversa/Vectice/GettingStarted/.venv/lib/python3.9/site-packages (from requests>=2.5.0->vectice==23.4.7.2) (3.3.2)\n",
            "Requirement already satisfied: idna<4,>=2.5 in /Users/bryandaversa/Vectice/GettingStarted/.venv/lib/python3.9/site-packages (from requests>=2.5.0->vectice==23.4.7.2) (3.6)\n",
            "Requirement already satisfied: certifi>=2017.4.17 in /Users/bryandaversa/Vectice/GettingStarted/.venv/lib/python3.9/site-packages (from requests>=2.5.0->vectice==23.4.7.2) (2023.11.17)\n",
            "Requirement already satisfied: gitdb<5,>=4.0.1 in /Users/bryandaversa/Vectice/GettingStarted/.venv/lib/python3.9/site-packages (from GitPython->vectice==23.4.7.2) (4.0.11)\n",
            "Requirement already satisfied: graphql-core<3.3,>=3.2 in /Users/bryandaversa/Vectice/GettingStarted/.venv/lib/python3.9/site-packages (from gql[requests]->vectice==23.4.7.2) (3.2.3)\n",
            "Requirement already satisfied: yarl<2.0,>=1.6 in /Users/bryandaversa/Vectice/GettingStarted/.venv/lib/python3.9/site-packages (from gql[requests]->vectice==23.4.7.2) (1.9.3)\n",
            "Requirement already satisfied: backoff<3.0,>=1.11.1 in /Users/bryandaversa/Vectice/GettingStarted/.venv/lib/python3.9/site-packages (from gql[requests]->vectice==23.4.7.2) (2.2.1)\n",
            "Requirement already satisfied: requests-toolbelt<1,>=0.9.1 in /Users/bryandaversa/Vectice/GettingStarted/.venv/lib/python3.9/site-packages (from gql[requests]->vectice==23.4.7.2) (0.10.1)\n",
            "Requirement already satisfied: numpy<2,>=1.22.4 in /Users/bryandaversa/Vectice/GettingStarted/.venv/lib/python3.9/site-packages (from pandas->vectice==23.4.7.2) (1.26.2)\n",
            "Requirement already satisfied: python-dateutil>=2.8.2 in /Users/bryandaversa/Vectice/GettingStarted/.venv/lib/python3.9/site-packages (from pandas->vectice==23.4.7.2) (2.8.2)\n",
            "Requirement already satisfied: pytz>=2020.1 in /Users/bryandaversa/Vectice/GettingStarted/.venv/lib/python3.9/site-packages (from pandas->vectice==23.4.7.2) (2023.3.post1)\n",
            "Requirement already satisfied: tzdata>=2022.1 in /Users/bryandaversa/Vectice/GettingStarted/.venv/lib/python3.9/site-packages (from pandas->vectice==23.4.7.2) (2023.3)\n",
            "Requirement already satisfied: markdown-it-py>=2.2.0 in /Users/bryandaversa/Vectice/GettingStarted/.venv/lib/python3.9/site-packages (from rich->vectice==23.4.7.2) (3.0.0)\n",
            "Requirement already satisfied: pygments<3.0.0,>=2.13.0 in /Users/bryandaversa/Vectice/GettingStarted/.venv/lib/python3.9/site-packages (from rich->vectice==23.4.7.2) (2.17.2)\n",
            "Requirement already satisfied: smmap<6,>=3.0.1 in /Users/bryandaversa/Vectice/GettingStarted/.venv/lib/python3.9/site-packages (from gitdb<5,>=4.0.1->GitPython->vectice==23.4.7.2) (5.0.1)\n",
            "Requirement already satisfied: mdurl~=0.1 in /Users/bryandaversa/Vectice/GettingStarted/.venv/lib/python3.9/site-packages (from markdown-it-py>=2.2.0->rich->vectice==23.4.7.2) (0.1.2)\n",
            "Requirement already satisfied: six>=1.5 in /Users/bryandaversa/Vectice/GettingStarted/.venv/lib/python3.9/site-packages (from python-dateutil>=2.8.2->pandas->vectice==23.4.7.2) (1.16.0)\n",
            "Requirement already satisfied: mypy-extensions>=0.3.0 in /Users/bryandaversa/Vectice/GettingStarted/.venv/lib/python3.9/site-packages (from typing-inspect>=0.4.0->dataclasses-json==0.5.8->vectice==23.4.7.2) (1.0.0)\n",
            "Requirement already satisfied: multidict>=4.0 in /Users/bryandaversa/Vectice/GettingStarted/.venv/lib/python3.9/site-packages (from yarl<2.0,>=1.6->gql[requests]->vectice==23.4.7.2) (6.0.4)\n",
            "Downloading https://test-files.pythonhosted.org/packages/07/82/7f2a232d079651fae40a641ad69cc052711a37f1060305b039ae91b7cdf0/vectice-23.4.7.2-py2.py3-none-any.whl (170 kB)\n",
            "\u001b[2K   \u001b[90m━━━━━━━━━━━━━━━━━━━━━━━━━━━━━━━━━━━━━━━━\u001b[0m \u001b[32m170.9/170.9 kB\u001b[0m \u001b[31m2.0 MB/s\u001b[0m eta \u001b[36m0:00:00\u001b[0ma \u001b[36m0:00:01\u001b[0mm\n",
            "\u001b[?25hInstalling collected packages: vectice\n",
            "  Attempting uninstall: vectice\n",
            "    Found existing installation: vectice 23.4.7.1\n",
            "    Uninstalling vectice-23.4.7.1:\n",
            "      Successfully uninstalled vectice-23.4.7.1\n",
            "Successfully installed vectice-23.4.7.2\n",
            "\n",
            "\u001b[1m[\u001b[0m\u001b[34;49mnotice\u001b[0m\u001b[1;39;49m]\u001b[0m\u001b[39;49m A new release of pip is available: \u001b[0m\u001b[31;49m23.2.1\u001b[0m\u001b[39;49m -> \u001b[0m\u001b[32;49m23.3.2\u001b[0m\n",
            "\u001b[1m[\u001b[0m\u001b[34;49mnotice\u001b[0m\u001b[1;39;49m]\u001b[0m\u001b[39;49m To update, run: \u001b[0m\u001b[32;49mpip install --upgrade pip\u001b[0m\n",
            "Note: you may need to restart the kernel to use updated packages.\n"
          ]
        }
      ],
      "source": [
        "%pip install -i https://test.pypi.org/simple/ vectice==23.4.7.2"
      ]
    },
    {
      "cell_type": "markdown",
      "metadata": {
        "id": "1bwpySvqf5Ce"
      },
      "source": [
        "## Get started configuring the Vectice autolog"
      ]
    },
    {
      "cell_type": "markdown",
      "metadata": {},
      "source": [
        "<div class=\"alert\" style=\"color: #383d41; background-color: #e2e3e5; border-color: #d6d8db\" role=\"alert\">\n",
        "<b> Important information:</b> The Vectice Autolog feature is presently in its Beta phase, and your feedback is highly valued. It's worth noting that all environments and libraries might not be supported at this stage, and the feature is subject to change and improvements. For detailed information on supported environments and libraries, please consult our Autolog documentation provided below.\n",
        "</div>"
      ]
    },
    {
      "cell_type": "markdown",
      "metadata": {
        "id": "jx5xlQFJxxQZ"
      },
      "source": [
        "(TO REWORK) **First, we need to authenticate to the Vectice server and Phase ID inside your Quickstart project to specify where to document your work . Before proceeding further:** \n",
        "\n",
        "- Click on the key icon in the upper right corner of the Vectice app to create and copy an API key\n",
        "\n",
        "- Paste the API key in the code below"
      ]
    },
    {
      "cell_type": "code",
      "execution_count": 4,
      "metadata": {
        "id": "frnhI_W9aOoZ"
      },
      "outputs": [
        {
          "name": "stderr",
          "output_type": "stream",
          "text": [
            "Phase '[Step 2] Autolog' successfully retrieved.\n",
            "\n",
            "For quick access to the Phase in the Vectice web app, visit:\n",
            "https://app.vectice.com/browse/phase/PHA-4055\n",
            "Welcome, bdaversa. You`re now successfully connected to Vectice.\n"
          ]
        }
      ],
      "source": [
        "#import vectice\n",
        "#from vectice import autolog\n",
        "\n",
        "#autolog.config(api_token=\"your-api-key\", phase=\"your-phase-id\") #Paste your API key and Phase Id\n",
        "import vectice\n",
        "from vectice import autolog\n",
        "\n",
        "autolog.config(api_token=\"3xKMWz5Qz.O2aoPrYGR7Z8O49Ddn6X03xKMWz5QzJpvwjkANmLVlBgMWeEyb\", phase=\"PHA-4055\") #Paste your API key and Phase Id"
      ]
    },
    {
      "cell_type": "markdown",
      "metadata": {},
      "source": [
        "**Important information**: Configure autolog at the beginning of your notebook to ensure optimal performance. Failure to do so may result in difficulties capturing assets from your entire notebook, requiring you to rerun cells executed before autolog configuration. Refer to the documentation for more details."
      ]
    },
    {
      "cell_type": "markdown",
      "metadata": {
        "id": "FYeCGcgLlsOL"
      },
      "source": [
        "# Auto-Document your work in Vectice\n",
        "We will prepare an example dataset based on the well-known iris dataset. We will then train a linear regression model using scikit-learn.\n",
        "As we are doing this work and creating those assets, we will at the end log them in one line of code.\n",
        "This enables you to document your work as you go, and never forget the data that was used, the models, the code and other artifacts."
      ]
    },
    {
      "cell_type": "markdown",
      "metadata": {
        "id": "6VvbrEsKl5bH"
      },
      "source": [
        "Use the following code block to create a local dataset, generate a graph and build a model:"
      ]
    },
    {
      "cell_type": "code",
      "execution_count": 5,
      "metadata": {
        "id": "jMC05CI6epHw"
      },
      "outputs": [],
      "source": [
        "import pandas as pd\n",
        "from sklearn import datasets\n",
        "\n",
        "iris = datasets.load_iris()\n",
        "\n",
        "df_iris = pd.DataFrame(data=iris.data, columns=iris.feature_names)\n",
        "df_iris['species'] = iris.target_names[iris.target]\n"
      ]
    },
    {
      "cell_type": "code",
      "execution_count": 6,
      "metadata": {
        "id": "OMaIknlOtqh3"
      },
      "outputs": [
        {
          "data": {
            "image/png": "[encoded data removed]",
            "text/plain": [
              "<Figure size 640x480 with 1 Axes>"
            ]
          },
          "metadata": {},
          "output_type": "display_data"
        }
      ],
      "source": [
        "import seaborn as sns\n",
        "import matplotlib.pyplot as plt\n",
        "\n",
        "sns.scatterplot(data=df_iris, x='sepal length (cm)',\n",
        "                y='petal width (cm)', hue='species')\n",
        "plt.plot()\n",
        "\n",
        "#Save your graph to local file to be automatically captured by Vectice \n",
        "plt.savefig('Scatter_plot_iris.png') "
      ]
    },
    {
      "cell_type": "markdown",
      "metadata": {},
      "source": [
        "**Note**: If you wish for graphs to be automatically captured by the autolog, it is essential to save them.<br> For more information please refer to [documentation of autolog](https://api-docs.vectice.com/reference/vectice/autolog/)"
      ]
    },
    {
      "cell_type": "code",
      "execution_count": 9,
      "metadata": {
        "id": "N0wsppAltqh5"
      },
      "outputs": [],
      "source": [
        "from sklearn.neighbors import KNeighborsClassifier\n",
        "from sklearn.model_selection import train_test_split\n",
        "from sklearn.metrics import accuracy_score\n",
        "\n",
        "train_df, test_df = train_test_split(df_iris, test_size=0.2, random_state=42)\n",
        "\n",
        "knn = KNeighborsClassifier()\n",
        "knn.fit(train_df[iris.feature_names],train_df[\"species\"])\n",
        "\n",
        "# Make predictions on the test set\n",
        "y_pred_test = knn.predict(test_df[iris.feature_names])\n",
        "y_pred_train = knn.predict(train_df[iris.feature_names])\n",
        "\n",
        "# Calculate the accuracy score\n",
        "accuracy_test= accuracy_score(test_df[\"species\"], y_pred_test)\n",
        "accuracy_train = accuracy_score(train_df[\"species\"], y_pred_train)"
      ]
    },
    {
      "cell_type": "markdown",
      "metadata": {},
      "source": [
        "**Note**: To link models and metrics using Vectice autolog, ensure each model and its metrics are in the same notebook cell (only scikit metrics are currently supported).<br> For more information please refer to [documentation](https://api-docs.vectice.com/reference/vectice/autolog/) of autolog"
      ]
    },
    {
      "cell_type": "markdown",
      "metadata": {},
      "source": [
        "## Autolog your entire notebook's assets (Model, Dataframe, Graphs) with in line of code"
      ]
    },
    {
      "cell_type": "code",
      "execution_count": 10,
      "metadata": {
        "id": "g5FOnLfHnY14"
      },
      "outputs": [
        {
          "name": "stderr",
          "output_type": "stream",
          "text": [
            "New Iteration number 21 created.\n",
            "\n",
            "For quick access to the Iteration in the Vectice web app, visit:\n",
            "https://app.vectice.com/browse/iteration/ITR-1781\n",
            "Note logged in iteration 21.\n",
            "Dataset 'PHA-4055-df_iris' logged in iteration 21.\n",
            "Model 'PHA-4055-knn' logged in iteration 21.\n",
            "Graph 'Scatter_plot_iris.png' logged in iteration 21.\n"
          ]
        }
      ],
      "source": [
        "autolog.notebook(note=\"My first iteration to Vectice to document iris dataset\") #You can add a note to comment what you just logged into Vectice"
      ]
    },
    {
      "cell_type": "markdown",
      "metadata": {},
      "source": [
        "#### You have logged your assets inside Vectice in one line of code.<br> \n",
        "#### You can click on the iteration link to see your assets inside Vectice and come back to the notebook.\n",
        "**Note**: Vectice autolog also allows you to log only the content of a notebook cell, please check out our [documentation](https://api-docs.vectice.com/reference/vectice/autolog/) to learn more about the autolog functions and capabilities.<br> "
      ]
    },
    {
      "cell_type": "markdown",
      "metadata": {
        "id": "YnmFUplTpMoW"
      },
      "source": [
        "## 🥇 Congrats! You have learned how to succesfully use Vectice to auto-document your assets in one line of Code.<br> Easy right?<br>\n",
        "#### You can proceed back to the Vectice app continue documenting your work.\n"
      ]
    },
    {
      "cell_type": "markdown",
      "metadata": {},
      "source": []
    }
  ],
  "metadata": {
    "colab": {
      "provenance": []
    },
    "kernelspec": {
      "display_name": "Python 3",
      "name": "python3"
    },
    "language_info": {
      "codemirror_mode": {
        "name": "ipython",
        "version": 3
      },
      "file_extension": ".py",
      "mimetype": "text/x-python",
      "name": "python",
      "nbconvert_exporter": "python",
      "pygments_lexer": "ipython3",
      "version": "3.9.6"
    }
  },
  "nbformat": 4,
  "nbformat_minor": 0
}
