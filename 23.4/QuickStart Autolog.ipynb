{
  "cells": [
    {
      "cell_type": "markdown",
      "metadata": {
        "id": "twIzT22mtqhs"
      },
      "source": [
        "# Before you start with this Quickstart Notebook"
      ]
    },
    {
      "cell_type": "markdown",
      "metadata": {
        "id": "iUp4X8V5tqhv"
      },
      "source": [
        "You will need:\n",
        "* An account in Vectice\n",
        "* An API key to connect to Vectice\n",
        "* The Phase Id of the project where you want to log your work\n",
        "\n",
        "### Important Resources\n",
        "* Vectice autolog documentation https://api-docs.vectice.com/reference/vectice/autolog/\n"
      ]
    },
    {
      "cell_type": "markdown",
      "metadata": {
        "id": "jER4KBN0JbSw"
      },
      "source": [
        "<div class=\"alert\" style=\"color: #383d41; background-color: #e2e3e5; border-color: #d6d8db\" role=\"alert\">\n",
        "<b>Automated code lineage:</b> The code lineage functionalities are not covered as part of this QuickStart as they require to first setting up a Git repository.\n",
        "</div>\n",
        "\n",
        "\n",
        "\n",
        "---\n",
        "\n"
      ]
    },
    {
      "cell_type": "markdown",
      "metadata": {
        "id": "7LArs6J5fyIz"
      },
      "source": [
        "## What to expect\n",
        "\n",
        "In this notebook, we will re-use the classical Iris modeling example to demonstrate how you can automatically document in Vectice your assets, such as datasets, models, graphs, and notes, using a few lines of code."
      ]
    },
    {
      "cell_type": "markdown",
      "metadata": {
        "id": "BWxVwtAdgSbj"
      },
      "source": [
        "## Install the latest Vectice Python client library"
      ]
    },
    {
      "cell_type": "code",
      "execution_count": null,
      "metadata": {
        "id": "bin0M8rKdfBU"
      },
      "outputs": [],
      "source": [
        "%pip install -q seaborn\n",
        "%pip install -q scikit-learn\n",
        "%pip install -q vectice -U\n",
        "%pip install vectice[autolog]"
      ]
    },
    {
      "cell_type": "markdown",
      "metadata": {
        "id": "1bwpySvqf5Ce"
      },
      "source": [
        "## Get started configuring the Vectice autolog"
      ]
    },
    {
      "cell_type": "markdown",
      "metadata": {},
      "source": [
        "<div class=\"alert\" style=\"color: #383d41; background-color: #e2e3e5; border-color: #d6d8db\" role=\"alert\">\n",
        "<b> Important information:</b>\n",
        "<li> Vectice Autolog is currently in <b>Beta</b> and subject to change. <b>Not all environments and libraries</b> are supported yet.\n",
        "<li> Be sure to <b>configure autolog at the beginning of your notebook</b>; late setup may require rerunning previous cells.\n",
        "<li> Your feedback is highly valued. Please send any feedback to support@vectice.com.\n",
        "<br>\n",
        "\n",
        "For detailed information on supported environments and libraries, please consult our [Autolog documentation](https://api-docs.vectice.com/reference/vectice/autolog/).\n",
        "</div>"
      ]
    },
    {
      "cell_type": "markdown",
      "metadata": {
        "id": "jx5xlQFJxxQZ"
      },
      "source": [
        "**First, you need to connect to the Vectice. You will need your API key and Phase ID inside your Quickstart project to specify where to document your work. Before proceeding:**\n",
        "\n",
        "- Click the key icon in the Vectice app's top right corner to create and copy an API key, then paste it into the code below.\n",
        "\n",
        "- In your Quickstart project, locate the phase for documenting your work and copy its Phase Id to paste in the code below."
      ]
    },
    {
      "cell_type": "code",
      "execution_count": null,
      "metadata": {
        "id": "frnhI_W9aOoZ"
      },
      "outputs": [],
      "source": [
        "import vectice\n",
        "from vectice import autolog\n",
        "\n",
        "autolog.config(api_token=\"your-api-key\", phase=\"your-phase-id\") #Paste your API key and Phase Id"
      ]
    },
    {
      "cell_type": "markdown",
      "metadata": {
        "id": "FYeCGcgLlsOL"
      },
      "source": [
        "# Auto-Document your work in Vectice\n",
        "We will prepare an example dataset based on the well-known iris dataset. We will then train a linear regression model using scikit-learn.\n",
        "As we are doing this work and creating those assets, we will at the end log them in one line of code.\n",
        "This enables you to document your work as you go, and never forget the data that was used, the models, the code and other artifacts."
      ]
    },
    {
      "cell_type": "markdown",
      "metadata": {
        "id": "6VvbrEsKl5bH"
      },
      "source": [
        "Use the following code block to create a dataset, generate a graph and build a model:"
      ]
    },
    {
      "cell_type": "code",
      "execution_count": null,
      "metadata": {
        "id": "jMC05CI6epHw"
      },
      "outputs": [],
      "source": [
        "import pandas as pd\n",
        "from sklearn import datasets\n",
        "\n",
        "iris = datasets.load_iris()\n",
        "\n",
        "df_iris = pd.DataFrame(data=iris.data, columns=iris.feature_names)\n",
        "df_iris['species'] = iris.target_names[iris.target]\n"
      ]
    },
    {
      "cell_type": "code",
      "execution_count": null,
      "metadata": {
        "id": "OMaIknlOtqh3"
      },
      "outputs": [],
      "source": [
        "import seaborn as sns\n",
        "import matplotlib.pyplot as plt\n",
        "\n",
        "sns.scatterplot(data=df_iris, x='sepal length (cm)',\n",
        "                y='petal width (cm)', hue='species')\n",
        "plt.plot()\n",
        "\n",
        "#Save your graph to local file to be automatically captured by Vectice \n",
        "plt.savefig('Scatter_plot_iris.png') "
      ]
    },
    {
      "cell_type": "markdown",
      "metadata": {},
      "source": [
        "**Note**: Save graphs you want to log into a local file to be automatically captured by the autolog.<br>"
      ]
    },
    {
      "cell_type": "code",
      "execution_count": null,
      "metadata": {
        "id": "N0wsppAltqh5"
      },
      "outputs": [],
      "source": [
        "from sklearn.neighbors import KNeighborsClassifier\n",
        "from sklearn.model_selection import train_test_split\n",
        "from sklearn.metrics import accuracy_score\n",
        "\n",
        "train_df, test_df = train_test_split(df_iris, test_size=0.2, random_state=42)\n",
        "\n",
        "knn = KNeighborsClassifier()\n",
        "knn.fit(train_df[iris.feature_names],train_df[\"species\"])\n",
        "\n",
        "# Make predictions on the test set\n",
        "y_pred_test = knn.predict(test_df[iris.feature_names])\n",
        "y_pred_train = knn.predict(train_df[iris.feature_names])\n",
        "\n",
        "# Calculate the accuracy score\n",
        "accuracy_test= accuracy_score(test_df[\"species\"], y_pred_test)\n",
        "accuracy_train = accuracy_score(train_df[\"species\"], y_pred_train)"
      ]
    },
    {
      "cell_type": "markdown",
      "metadata": {},
      "source": [
        "**Note**: To link models and metrics using Vectice autolog, ensure each model and its metrics are in the same notebook cell (scikit metrics are currently supported)."
      ]
    },
    {
      "cell_type": "markdown",
      "metadata": {},
      "source": [
        "## Autolog your entire notebook's assets (Model, Dataframe, Graphs) with in line of code"
      ]
    },
    {
      "cell_type": "code",
      "execution_count": null,
      "metadata": {
        "id": "g5FOnLfHnY14"
      },
      "outputs": [],
      "source": [
        "autolog.notebook(note=\"My first iteration to Vectice to document iris dataset\") #You can add a note to comment what you just logged into Vectice"
      ]
    },
    {
      "cell_type": "markdown",
      "metadata": {},
      "source": [
        "#### You have logged your assets inside Vectice in one line of code. You can click on the iteration link above to see your assets inside Vectice.\n",
        "**Note**: Vectice autolog also allows you to log only the content of a cell, please check out our [documentation](https://api-docs.vectice.com/reference/vectice/autolog/) to learn more about the autolog functions and capabilities.<br>"
      ]
    },
    {
      "cell_type": "markdown",
      "metadata": {
        "id": "YnmFUplTpMoW"
      },
      "source": [
        "## 🥇 Congrats! You have learned how to succesfully use Vectice to auto-document your assets in one line of Code.<br> Easy right?<br>\n",
        "#### You can proceed back to the Vectice app continue documenting your work.\n"
      ]
    }
  ],
  "metadata": {
    "colab": {
      "provenance": []
    },
    "kernelspec": {
      "display_name": "Python 3",
      "name": "python3"
    },
    "language_info": {
      "codemirror_mode": {
        "name": "ipython",
        "version": 3
      },
      "file_extension": ".py",
      "mimetype": "text/x-python",
      "name": "python",
      "nbconvert_exporter": "python",
      "pygments_lexer": "ipython3",
      "version": "3.9.6"
    }
  },
  "nbformat": 4,
  "nbformat_minor": 0
}
