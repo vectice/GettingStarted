{
 "cells": [
  {
   "attachments": {},
   "cell_type": "markdown",
   "id": "c55e848f-4238-4272-bfa7-4d994617e58c",
   "metadata": {},
   "source": [
    "# Before you start with this Data Preparation Notebook\n",
    "\n",
    "This notebook is part of the Vectice tutorial project notebook series. It illustrates how to log the assets documented in the \"Data Preparation\" phase of the **\"Tutorial: Forecast in store-unit sales** project you can find in your personal Vectice workspace.\n",
    "\n",
    "### Pre-requisites:\n",
    "Before using this notebook you will need:\n",
    "* An account in Vectice\n",
    "* An API key to connect to Vectice through the APIs\n",
    "* The Phase Id of the project where you want to log your work\n",
    "\n",
    "Refer to Vectice Tutorial Guide for more detailed instructions: https://docs.vectice.com/getting-started/tutorial\n",
    "\n",
    "\n",
    "### Other Resources\n",
    "*   Vectice Documentation: https://docs.vectice.com/ </br>\n",
    "*   Vectice API documentation: https://api-docs.vectice.com/"
   ]
  },
  {
   "cell_type": "code",
   "execution_count": null,
   "id": "3ba6582a-2c82-4dee-a4d7-9ea20aa225f8",
   "metadata": {},
   "outputs": [],
   "source": [
    "import warnings\n",
    "warnings.filterwarnings(\"ignore\", category=DeprecationWarning)"
   ]
  },
  {
   "cell_type": "code",
   "execution_count": null,
   "id": "356e8192-1a31-4853-a965-f6781a8e1d5e",
   "metadata": {},
   "outputs": [],
   "source": [
    "import pandas as pd\n",
    "import numpy as np\n",
    "import seaborn as sns\n",
    "import matplotlib.pyplot as plt"
   ]
  },
  {
   "attachments": {},
   "cell_type": "markdown",
   "id": "8ed8d365-4ae0-4e70-945a-8fc83ce94cc1",
   "metadata": {},
   "source": [
    "## Install the latest Vectice Python client library"
   ]
  },
  {
   "cell_type": "code",
   "execution_count": null,
   "id": "de5b3da3-35d7-4d18-a121-9079c090a067",
   "metadata": {},
   "outputs": [],
   "source": [
    "%pip install --q vectice -U"
   ]
  },
  {
   "attachments": {},
   "cell_type": "markdown",
   "id": "bab305a9-312d-414d-b6bd-322f496db5d5",
   "metadata": {},
   "source": [
    "## Get started by connecting to Vectice"
   ]
  },
  {
   "cell_type": "code",
   "execution_count": null,
   "id": "43e7d571-0cbe-4c83-ad39-8788a6702fb7",
   "metadata": {},
   "outputs": [],
   "source": [
    "import vectice\n",
    "\n",
    "connect = vectice.connect(api_token=\"your-api-key\") #Paste your API key"
   ]
  },
  {
   "attachments": {},
   "cell_type": "markdown",
   "id": "897a6883-86b7-4c79-a1af-d5a9f50ed2f2",
   "metadata": {},
   "source": [
    "## Specify which project phase you want to document\n",
    "In Vectice app, navigate to your personal workspace inside your default Tutorial project go to the Data Preparation phase and copy paste your Phase Id below."
   ]
  },
  {
   "cell_type": "code",
   "execution_count": null,
   "id": "d5bb04d4-b19c-41d0-bfc0-757c0e9e2513",
   "metadata": {},
   "outputs": [],
   "source": [
    "phase = connect.phase(\"PHA-xxxx\") #Paste your own Data Preparation Phase ID"
   ]
  },
  {
   "attachments": {},
   "cell_type": "markdown",
   "id": "00c94b0d-aaf1-4bdf-ae07-336c92edc14e",
   "metadata": {},
   "source": [
    "## Next we are going to create an iteration\n",
    "An iteration allows you to organize your work in repeatable sequences. You can have multiple iteration within a phase. Iteration can be organized into sections."
   ]
  },
  {
   "cell_type": "code",
   "execution_count": null,
   "id": "bc134b8f-92c2-4c46-95b5-0c0264d5b4b1",
   "metadata": {},
   "outputs": [],
   "source": [
    "iteration = phase.create_or_get_current_iteration()"
   ]
  },
  {
   "cell_type": "code",
   "execution_count": null,
   "id": "53ff21f4-388c-47a1-9249-82d055eac8c7",
   "metadata": {},
   "outputs": [],
   "source": [
    "df_initial = pd.read_csv(\"https://raw.githubusercontent.com/vectice/GettingStarted/main/23.3/tutorial/SampleSuperstore.csv\", converters = {'Postal Code': str})\n",
    "df_initial.to_csv(\"SampleSuperstore.csv\", index=False)"
   ]
  },
  {
   "attachments": {},
   "cell_type": "markdown",
   "id": "045a8aec-9741-407b-99dd-a4214d1d9c2b",
   "metadata": {},
   "source": [
    "## Log your origin dataset"
   ]
  },
  {
   "cell_type": "code",
   "execution_count": null,
   "id": "0aed4dfd-8366-40a2-8768-6541eb3208b0",
   "metadata": {},
   "outputs": [],
   "source": [
    "origin_ds = vectice.FileResource(paths=\"SampleSuperstore.csv\", dataframes=df_initial)\n",
    "\n",
    "\n",
    "origin_dataset = vectice.Dataset.origin(\n",
    "    name=\"ProductSales Origin\",\n",
    "    resource=origin_ds, \n",
    ")"
   ]
  },
  {
   "cell_type": "code",
   "execution_count": null,
   "id": "fbe2af6f-0188-416b-9639-069391503af0",
   "metadata": {},
   "outputs": [],
   "source": [
    "iteration.log(origin_dataset, section = \"select data\")"
   ]
  },
  {
   "attachments": {},
   "cell_type": "markdown",
   "id": "36232ae3",
   "metadata": {},
   "source": [
    "## Apply transformation to your origin dataset "
   ]
  },
  {
   "cell_type": "code",
   "execution_count": null,
   "id": "35d87dde-7a7b-4d44-ad97-d925f4c54ed5",
   "metadata": {},
   "outputs": [],
   "source": [
    "def wrangle(df):    \n",
    "    # Reducing Cardinality\n",
    "    # Get the top 10 cities by value count \n",
    "    top_ten_cities=df[\"City\"].value_counts().head(10).index\n",
    "    # Filter the cities by top 10 cities\n",
    "    df[\"City\"]=df[\"City\"].apply(lambda c: c if c in top_ten_cities else \"others\")\n",
    "    # Get the top 10 states by value count\n",
    "    top_ten_states=df[\"State\"].value_counts().head(10).index\n",
    "    # Filter the states by top 10 states\n",
    "    df[\"State\"]=df[\"State\"].apply(lambda c: c if c in top_ten_states else \"others\")\n",
    "    \n",
    "    # Dealing with Outliers\n",
    "    # Get the 10% and 90% quantiles for profit distribution\n",
    "    q1,q2 =df[\"Profit\"].quantile([0.1,0.9])\n",
    "    # Filter the profit between the quantiles\n",
    "    df=df[df[\"Profit\"].between(q1,q2)]\n",
    "\n",
    "    return df"
   ]
  },
  {
   "cell_type": "code",
   "execution_count": null,
   "id": "9ef46fcf-1ab0-4e1c-b7a1-8acabc599926",
   "metadata": {},
   "outputs": [],
   "source": [
    "df_cleaned = wrangle(df_initial)\n",
    "df_cleaned.describe()"
   ]
  },
  {
   "cell_type": "code",
   "execution_count": null,
   "id": "668a3d7a-44ed-4596-ba8a-72d3e37320a6",
   "metadata": {},
   "outputs": [],
   "source": [
    "#Checking for outliers\n",
    "sns.displot(df_cleaned[\"Profit\"]);\n",
    "plt.savefig(\"Profit.png\")"
   ]
  },
  {
   "cell_type": "code",
   "execution_count": null,
   "id": "8eb10e84-38ee-454c-b3c4-c0ab32068bd2",
   "metadata": {},
   "outputs": [],
   "source": [
    "#Checking for outliers\n",
    "sns.displot(df_cleaned[\"Quantity\"])\n",
    "plt.savefig(\"Quantity.png\")"
   ]
  },
  {
   "cell_type": "code",
   "execution_count": null,
   "id": "f5710bd5-79c0-4c21-9a31-7a5b8f96d4a3",
   "metadata": {},
   "outputs": [],
   "source": [
    "df_cleaned.to_csv(\"ProductSales Cleaned.csv\", index=False)"
   ]
  },
  {
   "attachments": {},
   "cell_type": "markdown",
   "id": "b698099a",
   "metadata": {},
   "source": [
    "## Log your clean Dataset, add graphs attachments"
   ]
  },
  {
   "cell_type": "code",
   "execution_count": null,
   "id": "caa53736-2ba8-419d-9e57-ba759b83282a",
   "metadata": {},
   "outputs": [],
   "source": [
    "prepared_ds = vectice.FileResource(paths=\"ProductSales Cleaned.csv\", dataframes=df_cleaned)\n",
    "\n",
    "\n",
    "prepared_ds = vectice.Dataset.clean(\n",
    "    name=\"ProductSales Cleaned\",\n",
    "    resource=prepared_ds,\n",
    "    derived_from=origin_dataset,                #Origin Dataset for documenting the lineage\n",
    "    attachments=[\"Profit.png\", \"Quantity.png\"]  #Graphs attachments\n",
    ")"
   ]
  },
  {
   "attachments": {},
   "cell_type": "markdown",
   "id": "422501e6",
   "metadata": {},
   "source": [
    "### Log your \"ProductSales Cleaned\" dataset in your iteration in the section \"Clean data\""
   ]
  },
  {
   "cell_type": "code",
   "execution_count": null,
   "id": "9a546f90-5631-4d1a-b3b4-048d30443394",
   "metadata": {},
   "outputs": [],
   "source": [
    "iteration.log(prepared_ds, section = \"clean data\")"
   ]
  },
  {
   "cell_type": "code",
   "execution_count": null,
   "id": "9cf2bb94",
   "metadata": {},
   "outputs": [],
   "source": [
    "iteration.complete()"
   ]
  },
  {
   "attachments": {},
   "cell_type": "markdown",
   "id": "72b18d42",
   "metadata": {},
   "source": [
    "## 🥇 Congrats! You learn how to succesfully use Vectice to auto-document the Data Preparation phase of the Tutorial Project.<br>\n",
    "### Next we encourage you to explore other notebooks in the tutorial series. You can find those notebooks in Vectice Tutorial Guide: [Want to learn more about the other phases of the tutorial project?](https://docs.vectice.com/getting-started/tutorial#want-to-learn-more-about-the-other-phases-of-the-tutorial-project)"
   ]
  }
 ],
 "metadata": {
  "kernelspec": {
   "display_name": "Python 3",
   "language": "python",
   "name": "python3"
  },
  "language_info": {
   "codemirror_mode": {
    "name": "ipython",
    "version": 3
   },
   "file_extension": ".py",
   "mimetype": "text/x-python",
   "name": "python",
   "nbconvert_exporter": "python",
   "pygments_lexer": "ipython3",
   "version": "3.9.6"
  }
 },
 "nbformat": 4,
 "nbformat_minor": 5
}
