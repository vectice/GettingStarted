{
 "cells": [
  {
   "cell_type": "markdown",
   "id": "5d81e258",
   "metadata": {
    "papermill": {
     "duration": 0.011176,
     "end_time": "2023-11-01T16:57:36.284485",
     "exception": false,
     "start_time": "2023-11-01T16:57:36.273309",
     "status": "completed"
    },
    "tags": []
   },
   "source": [
    "# Fashion_Retail_Sales\n"
   ]
  },
  {
   "cell_type": "markdown",
   "id": "b4c6357e",
   "metadata": {
    "papermill": {
     "duration": 0.010268,
     "end_time": "2023-11-01T16:57:36.305851",
     "exception": false,
     "start_time": "2023-11-01T16:57:36.295583",
     "status": "completed"
    },
    "tags": []
   },
   "source": [
    "# Outline\n",
    "\n",
    "- [&nbsp;&nbsp;1.1 Tools](#l1.1)\n",
    "- [&nbsp;&nbsp;1.2 Data Loading](#l1.2)\n",
    "- [&nbsp;&nbsp;1.1 Goal](#l1.3)\n",
    "\n",
    "- [2 Data Observation](#l2)\n",
    "- [&nbsp;&nbsp;2.1 Null Values](#l2.1)\n",
    "- [&nbsp;&nbsp;2.4 Duplicated Data](#l2.2)\n",
    "- [&nbsp;&nbsp;2.2 General Observation](#l2.3)\n",
    "\n",
    "\n",
    "- [3 Preprocessing](#l3)\n",
    "- [&nbsp;&nbsp;3.1 Encoding](#l3.1)\n",
    "- [&nbsp;&nbsp;3.2 Corr Matrix](#l3.2)\n",
    "\n",
    "- [4 Visualization](#l4)\n",
    "- [&nbsp;&nbsp;4.1 Outliers](#l4.1)\n",
    "\n",
    "- [5 Spliting Data](#l5)\n",
    "\n",
    "- [6 Param Tunning](#l6)\n",
    "\n",
    "- [7 Evaluation](#l7)"
   ]
  },
  {
   "cell_type": "code",
   "execution_count": null,
   "id": "995bb671",
   "metadata": {},
   "outputs": [],
   "source": [
    "#%pip install -i https://test.pypi.org/simple/ vectice==23.4.2.0a11304232\n",
    "%pip install vectice\n",
    "%pip install vectice[autolog]"
   ]
  },
  {
   "cell_type": "code",
   "execution_count": null,
   "id": "6d368985",
   "metadata": {},
   "outputs": [],
   "source": [
    "from vectice import autolog\n",
    "autolog.config(api_token=\"your_api_key\", phase=\"_\")"
   ]
  },
  {
   "cell_type": "markdown",
   "id": "dd4e7f60",
   "metadata": {
    "papermill": {
     "duration": 0.010184,
     "end_time": "2023-11-01T16:57:36.326503",
     "exception": false,
     "start_time": "2023-11-01T16:57:36.316319",
     "status": "completed"
    },
    "tags": []
   },
   "source": [
    "<a name=\"l1.1\"></a>\n",
    "##  1.1 Tools\n",
    "In this lab, we will make use of: "
   ]
  },
  {
   "cell_type": "code",
   "execution_count": null,
   "id": "cf776ecf",
   "metadata": {
    "execution": {
     "iopub.execute_input": "2023-11-01T16:57:36.349442Z",
     "iopub.status.busy": "2023-11-01T16:57:36.349006Z",
     "iopub.status.idle": "2023-11-01T16:57:39.296612Z",
     "shell.execute_reply": "2023-11-01T16:57:39.295371Z"
    },
    "papermill": {
     "duration": 2.962718,
     "end_time": "2023-11-01T16:57:39.299647",
     "exception": false,
     "start_time": "2023-11-01T16:57:36.336929",
     "status": "completed"
    },
    "tags": []
   },
   "outputs": [],
   "source": [
    "import numpy as np\n",
    "import pandas as pd\n",
    "import matplotlib.pyplot as plt\n",
    "from sklearn.model_selection import train_test_split, cross_val_score, GridSearchCV, RandomizedSearchCV, ShuffleSplit\n",
    "from sklearn.preprocessing import StandardScaler\n",
    "from sklearn.metrics import ConfusionMatrixDisplay, classification_report\n",
    "from sklearn.linear_model import LogisticRegression\n",
    "from sklearn.tree import DecisionTreeClassifier\n",
    "from sklearn.ensemble import BaggingClassifier, RandomForestClassifier\n",
    "from sklearn.svm import SVC\n",
    "from sklearn.neighbors import KNeighborsClassifier\n",
    "from sklearn.linear_model import RidgeClassifier\n",
    "from sklearn.ensemble import GradientBoostingRegressor\n",
    "import seaborn as sn\n",
    "import warnings\n",
    "from xgboost import XGBClassifier\n",
    "warnings.filterwarnings('ignore')"
   ]
  },
  {
   "cell_type": "markdown",
   "id": "9f52d954",
   "metadata": {
    "papermill": {
     "duration": 0.010351,
     "end_time": "2023-11-01T16:57:39.320650",
     "exception": false,
     "start_time": "2023-11-01T16:57:39.310299",
     "status": "completed"
    },
    "tags": []
   },
   "source": [
    "<a name=\"l1.2\"></a>\n",
    "## 1.2 Data Loading\n",
    "\n",
    "- The Dataset that used in this project is <a href=\"https://www.kaggle.com/datasets/fedesoriano/heart-failure-prediction\">Heart Failure Prediction Dataset</a>"
   ]
  },
  {
   "cell_type": "code",
   "execution_count": null,
   "id": "b57d8de1",
   "metadata": {
    "execution": {
     "iopub.execute_input": "2023-11-01T16:57:39.343947Z",
     "iopub.status.busy": "2023-11-01T16:57:39.343370Z",
     "iopub.status.idle": "2023-11-01T16:57:39.393219Z",
     "shell.execute_reply": "2023-11-01T16:57:39.392345Z"
    },
    "papermill": {
     "duration": 0.064871,
     "end_time": "2023-11-01T16:57:39.395988",
     "exception": false,
     "start_time": "2023-11-01T16:57:39.331117",
     "status": "completed"
    },
    "tags": []
   },
   "outputs": [],
   "source": [
    "df = pd.read_csv(\"/Users/bryandaversa/kaggle_test/Fashion_Retail_Sales.csv\")\n",
    "df.head()"
   ]
  },
  {
   "cell_type": "markdown",
   "id": "f0ccf994",
   "metadata": {
    "papermill": {
     "duration": 0.010599,
     "end_time": "2023-11-01T16:57:39.417838",
     "exception": false,
     "start_time": "2023-11-01T16:57:39.407239",
     "status": "completed"
    },
    "tags": []
   },
   "source": [
    "<a name=\"l1.3\"></a>\n",
    "## 1.3 Goal"
   ]
  },
  {
   "cell_type": "markdown",
   "id": "f81054d6",
   "metadata": {
    "papermill": {
     "duration": 0.010619,
     "end_time": "2023-11-01T16:57:39.439901",
     "exception": false,
     "start_time": "2023-11-01T16:57:39.429282",
     "status": "completed"
    },
    "tags": []
   },
   "source": [
    "<a name=\"l2\"></a>\n",
    "#  2 Data Observation"
   ]
  },
  {
   "cell_type": "markdown",
   "id": "5efc3e41",
   "metadata": {
    "papermill": {
     "duration": 0.010908,
     "end_time": "2023-11-01T16:57:39.461651",
     "exception": false,
     "start_time": "2023-11-01T16:57:39.450743",
     "status": "completed"
    },
    "tags": []
   },
   "source": [
    "<a name=\"l2.1\"></a>\n",
    "##  2.1 null values"
   ]
  },
  {
   "cell_type": "code",
   "execution_count": null,
   "id": "adbd4137",
   "metadata": {
    "execution": {
     "iopub.execute_input": "2023-11-01T16:57:39.485840Z",
     "iopub.status.busy": "2023-11-01T16:57:39.485223Z",
     "iopub.status.idle": "2023-11-01T16:57:39.498909Z",
     "shell.execute_reply": "2023-11-01T16:57:39.497587Z"
    },
    "papermill": {
     "duration": 0.028633,
     "end_time": "2023-11-01T16:57:39.501522",
     "exception": false,
     "start_time": "2023-11-01T16:57:39.472889",
     "status": "completed"
    },
    "tags": []
   },
   "outputs": [],
   "source": [
    "df.isna().sum()"
   ]
  },
  {
   "cell_type": "code",
   "execution_count": null,
   "id": "3e691265",
   "metadata": {
    "execution": {
     "iopub.execute_input": "2023-11-01T16:57:39.526342Z",
     "iopub.status.busy": "2023-11-01T16:57:39.525450Z",
     "iopub.status.idle": "2023-11-01T16:57:39.761982Z",
     "shell.execute_reply": "2023-11-01T16:57:39.760391Z"
    },
    "papermill": {
     "duration": 0.253461,
     "end_time": "2023-11-01T16:57:39.766552",
     "exception": false,
     "start_time": "2023-11-01T16:57:39.513091",
     "status": "completed"
    },
    "tags": []
   },
   "outputs": [],
   "source": [
    "from sklearn.impute import KNNImputer\n",
    "imputer = KNNImputer(n_neighbors=5)\n",
    "df['Purchase Amount (USD)'] = imputer.fit_transform(df['Purchase Amount (USD)'].values.reshape(-1, 1))\n",
    "df['Review Rating'] = imputer.fit_transform(df['Review Rating'].values.reshape(-1, 1))"
   ]
  },
  {
   "cell_type": "markdown",
   "id": "1938a28c",
   "metadata": {
    "papermill": {
     "duration": 0.023372,
     "end_time": "2023-11-01T16:57:39.813689",
     "exception": false,
     "start_time": "2023-11-01T16:57:39.790317",
     "status": "completed"
    },
    "tags": []
   },
   "source": [
    "<a name=\"l2.2\"></a>\n",
    "## 2.2 Duplicated Data"
   ]
  },
  {
   "cell_type": "code",
   "execution_count": null,
   "id": "c475afba",
   "metadata": {
    "execution": {
     "iopub.execute_input": "2023-11-01T16:57:39.851477Z",
     "iopub.status.busy": "2023-11-01T16:57:39.851065Z",
     "iopub.status.idle": "2023-11-01T16:57:39.869076Z",
     "shell.execute_reply": "2023-11-01T16:57:39.867861Z"
    },
    "papermill": {
     "duration": 0.033126,
     "end_time": "2023-11-01T16:57:39.871612",
     "exception": false,
     "start_time": "2023-11-01T16:57:39.838486",
     "status": "completed"
    },
    "tags": []
   },
   "outputs": [],
   "source": [
    "df.duplicated().sum()"
   ]
  },
  {
   "cell_type": "markdown",
   "id": "ec43e81b",
   "metadata": {
    "papermill": {
     "duration": 0.011127,
     "end_time": "2023-11-01T16:57:39.894375",
     "exception": false,
     "start_time": "2023-11-01T16:57:39.883248",
     "status": "completed"
    },
    "tags": []
   },
   "source": [
    "<a name=\"l2.3\"></a>\n",
    "## 2.3 General Observation"
   ]
  },
  {
   "cell_type": "code",
   "execution_count": null,
   "id": "87ffb170",
   "metadata": {
    "execution": {
     "iopub.execute_input": "2023-11-01T16:57:39.919301Z",
     "iopub.status.busy": "2023-11-01T16:57:39.918894Z",
     "iopub.status.idle": "2023-11-01T16:57:39.945356Z",
     "shell.execute_reply": "2023-11-01T16:57:39.944057Z"
    },
    "papermill": {
     "duration": 0.041757,
     "end_time": "2023-11-01T16:57:39.947940",
     "exception": false,
     "start_time": "2023-11-01T16:57:39.906183",
     "status": "completed"
    },
    "tags": []
   },
   "outputs": [],
   "source": [
    "df.describe()"
   ]
  },
  {
   "cell_type": "code",
   "execution_count": null,
   "id": "71995159",
   "metadata": {
    "execution": {
     "iopub.execute_input": "2023-11-01T16:57:39.973760Z",
     "iopub.status.busy": "2023-11-01T16:57:39.973344Z",
     "iopub.status.idle": "2023-11-01T16:57:39.993607Z",
     "shell.execute_reply": "2023-11-01T16:57:39.992249Z"
    },
    "papermill": {
     "duration": 0.03798,
     "end_time": "2023-11-01T16:57:39.997863",
     "exception": false,
     "start_time": "2023-11-01T16:57:39.959883",
     "status": "completed"
    },
    "tags": []
   },
   "outputs": [],
   "source": [
    "df.info()"
   ]
  },
  {
   "cell_type": "code",
   "execution_count": null,
   "id": "b6c10b46",
   "metadata": {
    "execution": {
     "iopub.execute_input": "2023-11-01T16:57:40.024780Z",
     "iopub.status.busy": "2023-11-01T16:57:40.024366Z",
     "iopub.status.idle": "2023-11-01T16:57:40.041479Z",
     "shell.execute_reply": "2023-11-01T16:57:40.039998Z"
    },
    "papermill": {
     "duration": 0.034058,
     "end_time": "2023-11-01T16:57:40.044661",
     "exception": false,
     "start_time": "2023-11-01T16:57:40.010603",
     "status": "completed"
    },
    "tags": []
   },
   "outputs": [],
   "source": [
    "for column in df:\n",
    "    print(f\"{column} - {len(df[column].unique())} : {df[column].unique()}\")"
   ]
  },
  {
   "cell_type": "markdown",
   "id": "24b28e9c",
   "metadata": {
    "papermill": {
     "duration": 0.012741,
     "end_time": "2023-11-01T16:57:40.069865",
     "exception": false,
     "start_time": "2023-11-01T16:57:40.057124",
     "status": "completed"
    },
    "tags": []
   },
   "source": [
    "<a name=\"l3\"></a>\n",
    "#  3 Preprocessing"
   ]
  },
  {
   "cell_type": "markdown",
   "id": "c9a4648c",
   "metadata": {
    "papermill": {
     "duration": 0.013101,
     "end_time": "2023-11-01T16:57:40.095702",
     "exception": false,
     "start_time": "2023-11-01T16:57:40.082601",
     "status": "completed"
    },
    "tags": []
   },
   "source": [
    "<a name=\"l3.1\"></a>\n",
    "##  3.1 Date Purchase"
   ]
  },
  {
   "cell_type": "code",
   "execution_count": null,
   "id": "3f786225",
   "metadata": {
    "execution": {
     "iopub.execute_input": "2023-11-01T16:57:40.122732Z",
     "iopub.status.busy": "2023-11-01T16:57:40.121999Z",
     "iopub.status.idle": "2023-11-01T16:57:40.128528Z",
     "shell.execute_reply": "2023-11-01T16:57:40.127350Z"
    },
    "papermill": {
     "duration": 0.022554,
     "end_time": "2023-11-01T16:57:40.130758",
     "exception": false,
     "start_time": "2023-11-01T16:57:40.108204",
     "status": "completed"
    },
    "tags": []
   },
   "outputs": [],
   "source": [
    "def dateconvertor(df):\n",
    "    new_df = df.copy()\n",
    "    token = df[\"Date Purchase\"].split(\"-\")\n",
    "    new_df[\"Year\"] = int(token[0])\n",
    "    new_df[\"Month\"] = int(token[1])\n",
    "    new_df[\"Day\"] = int(token[2])\n",
    "    return new_df"
   ]
  },
  {
   "cell_type": "code",
   "execution_count": null,
   "id": "5b884514",
   "metadata": {
    "execution": {
     "iopub.execute_input": "2023-11-01T16:57:40.157845Z",
     "iopub.status.busy": "2023-11-01T16:57:40.157456Z",
     "iopub.status.idle": "2023-11-01T16:57:46.411813Z",
     "shell.execute_reply": "2023-11-01T16:57:46.410625Z"
    },
    "papermill": {
     "duration": 6.270894,
     "end_time": "2023-11-01T16:57:46.414532",
     "exception": false,
     "start_time": "2023-11-01T16:57:40.143638",
     "status": "completed"
    },
    "tags": []
   },
   "outputs": [],
   "source": [
    "df1 = df.apply(dateconvertor,axis=1)\n",
    "df1.head()"
   ]
  },
  {
   "cell_type": "code",
   "execution_count": null,
   "id": "6d75e4cf",
   "metadata": {
    "execution": {
     "iopub.execute_input": "2023-11-01T16:57:46.442430Z",
     "iopub.status.busy": "2023-11-01T16:57:46.441942Z",
     "iopub.status.idle": "2023-11-01T16:57:46.451084Z",
     "shell.execute_reply": "2023-11-01T16:57:46.449645Z"
    },
    "papermill": {
     "duration": 0.026165,
     "end_time": "2023-11-01T16:57:46.453738",
     "exception": false,
     "start_time": "2023-11-01T16:57:46.427573",
     "status": "completed"
    },
    "tags": []
   },
   "outputs": [],
   "source": [
    "df1.drop([\"Date Purchase\", \"Customer Reference ID\"], axis = 1, inplace = True)"
   ]
  },
  {
   "cell_type": "markdown",
   "id": "a8fc59e3",
   "metadata": {
    "papermill": {
     "duration": 0.013231,
     "end_time": "2023-11-01T16:57:46.480113",
     "exception": false,
     "start_time": "2023-11-01T16:57:46.466882",
     "status": "completed"
    },
    "tags": []
   },
   "source": [
    "<a name=\"l3.2\"></a>\n",
    "\n",
    "## 3.2 Item Purchased"
   ]
  },
  {
   "cell_type": "code",
   "execution_count": null,
   "id": "2a18a096",
   "metadata": {
    "execution": {
     "iopub.execute_input": "2023-11-01T16:57:46.508879Z",
     "iopub.status.busy": "2023-11-01T16:57:46.507878Z",
     "iopub.status.idle": "2023-11-01T16:57:46.518068Z",
     "shell.execute_reply": "2023-11-01T16:57:46.516589Z"
    },
    "papermill": {
     "duration": 0.026977,
     "end_time": "2023-11-01T16:57:46.520478",
     "exception": false,
     "start_time": "2023-11-01T16:57:46.493501",
     "status": "completed"
    },
    "tags": []
   },
   "outputs": [],
   "source": [
    "df1[\"Item Purchased\"].value_counts()"
   ]
  },
  {
   "cell_type": "code",
   "execution_count": null,
   "id": "4708bcb6",
   "metadata": {},
   "outputs": [],
   "source": [
    "df1"
   ]
  },
  {
   "cell_type": "code",
   "execution_count": null,
   "id": "95fad2a4",
   "metadata": {
    "execution": {
     "iopub.execute_input": "2023-11-01T16:57:46.549144Z",
     "iopub.status.busy": "2023-11-01T16:57:46.548466Z",
     "iopub.status.idle": "2023-11-01T16:57:46.580328Z",
     "shell.execute_reply": "2023-11-01T16:57:46.579195Z"
    },
    "papermill": {
     "duration": 0.049355,
     "end_time": "2023-11-01T16:57:46.582858",
     "exception": false,
     "start_time": "2023-11-01T16:57:46.533503",
     "status": "completed"
    },
    "scrolled": true,
    "tags": []
   },
   "outputs": [],
   "source": [
    "df2 = pd.get_dummies(df1, columns = [\"Item Purchased\"])\n",
    "df2.head()"
   ]
  },
  {
   "cell_type": "code",
   "execution_count": null,
   "id": "ca5bfa38",
   "metadata": {
    "execution": {
     "iopub.execute_input": "2023-11-01T16:57:46.673471Z",
     "iopub.status.busy": "2023-11-01T16:57:46.672692Z",
     "iopub.status.idle": "2023-11-01T16:57:46.705623Z",
     "shell.execute_reply": "2023-11-01T16:57:46.704251Z"
    },
    "papermill": {
     "duration": 0.051177,
     "end_time": "2023-11-01T16:57:46.708385",
     "exception": false,
     "start_time": "2023-11-01T16:57:46.657208",
     "status": "completed"
    },
    "scrolled": true,
    "tags": []
   },
   "outputs": [],
   "source": [
    "columns = [\"Purchase Amount (USD)\", \"Review Rating\", \"Year\", \"Month\", \"Day\"]\n",
    "scaler = StandardScaler()\n",
    "df2[columns] = scaler.fit_transform(df2[columns])\n",
    "df2.head()"
   ]
  },
  {
   "cell_type": "code",
   "execution_count": null,
   "id": "57fcfc0f",
   "metadata": {
    "execution": {
     "iopub.execute_input": "2023-11-01T16:57:46.738781Z",
     "iopub.status.busy": "2023-11-01T16:57:46.738363Z",
     "iopub.status.idle": "2023-11-01T16:57:46.769137Z",
     "shell.execute_reply": "2023-11-01T16:57:46.767729Z"
    },
    "papermill": {
     "duration": 0.04901,
     "end_time": "2023-11-01T16:57:46.771898",
     "exception": false,
     "start_time": "2023-11-01T16:57:46.722888",
     "status": "completed"
    },
    "tags": []
   },
   "outputs": [],
   "source": [
    "class_name = [\"Credit Card\", \"Cash\"]\n",
    "df2[\"Payment Method\"] = df2[\"Payment Method\"].replace(class_name, [1, 0])\n",
    "df2.head()"
   ]
  },
  {
   "cell_type": "code",
   "execution_count": null,
   "id": "4c95e7d5",
   "metadata": {
    "execution": {
     "iopub.execute_input": "2023-11-01T16:57:46.804557Z",
     "iopub.status.busy": "2023-11-01T16:57:46.804145Z",
     "iopub.status.idle": "2023-11-01T16:57:46.824177Z",
     "shell.execute_reply": "2023-11-01T16:57:46.821974Z"
    },
    "papermill": {
     "duration": 0.039323,
     "end_time": "2023-11-01T16:57:46.826905",
     "exception": false,
     "start_time": "2023-11-01T16:57:46.787582",
     "status": "completed"
    },
    "tags": []
   },
   "outputs": [],
   "source": [
    "df2.info()"
   ]
  },
  {
   "cell_type": "markdown",
   "id": "762ead71",
   "metadata": {
    "papermill": {
     "duration": 0.015382,
     "end_time": "2023-11-01T16:57:46.857569",
     "exception": false,
     "start_time": "2023-11-01T16:57:46.842187",
     "status": "completed"
    },
    "tags": []
   },
   "source": [
    "<a name=\"l4\"></a>\n",
    "#  4 Visualization"
   ]
  },
  {
   "cell_type": "code",
   "execution_count": null,
   "id": "f36ce0e5",
   "metadata": {
    "execution": {
     "iopub.execute_input": "2023-11-01T16:57:46.890192Z",
     "iopub.status.busy": "2023-11-01T16:57:46.889700Z",
     "iopub.status.idle": "2023-11-01T16:57:48.475354Z",
     "shell.execute_reply": "2023-11-01T16:57:48.473992Z"
    },
    "papermill": {
     "duration": 1.604395,
     "end_time": "2023-11-01T16:57:48.477725",
     "exception": false,
     "start_time": "2023-11-01T16:57:46.873330",
     "status": "completed"
    },
    "tags": []
   },
   "outputs": [],
   "source": [
    "df2.hist(figsize = (10, 10), rwidth = 0.95, color = \"skyblue\", grid = False)\n",
    "plt.title(\"Distributions\")\n",
    "plt.savefig(\"Distributions.png\")"
   ]
  },
  {
   "cell_type": "markdown",
   "id": "b3c0a89f",
   "metadata": {
    "papermill": {
     "duration": 0.016009,
     "end_time": "2023-11-01T16:57:48.510547",
     "exception": false,
     "start_time": "2023-11-01T16:57:48.494538",
     "status": "completed"
    },
    "tags": []
   },
   "source": [
    "<a name=\"l4.1\"></a>\n",
    "##  4.1 OutLiers"
   ]
  },
  {
   "cell_type": "code",
   "execution_count": null,
   "id": "0160afaf",
   "metadata": {
    "execution": {
     "iopub.execute_input": "2023-11-01T16:57:48.545751Z",
     "iopub.status.busy": "2023-11-01T16:57:48.545306Z",
     "iopub.status.idle": "2023-11-01T16:57:49.006692Z",
     "shell.execute_reply": "2023-11-01T16:57:49.005497Z"
    },
    "papermill": {
     "duration": 0.482534,
     "end_time": "2023-11-01T16:57:49.009659",
     "exception": false,
     "start_time": "2023-11-01T16:57:48.527125",
     "status": "completed"
    },
    "tags": []
   },
   "outputs": [],
   "source": [
    "fig, axes = plt.subplots(1, 2, figsize=(12, 6))\n",
    "\n",
    "sn.boxplot(x=df1[\"Purchase Amount (USD)\"], ax=axes[0])\n",
    "axes[0].set_title(\"Box-plot of 'Purchase Amount'\")\n",
    "\n",
    "sn.boxplot(x=df1[\"Review Rating\"], ax=axes[1])\n",
    "axes[1].set_title(\"Box-plot of Review Rating\")\n",
    "\n",
    "plt.tight_layout()\n",
    "plt.savefig(\"box_plot.png\")\n",
    "plt.show()"
   ]
  },
  {
   "cell_type": "code",
   "execution_count": null,
   "id": "aecf0d63",
   "metadata": {
    "execution": {
     "iopub.execute_input": "2023-11-01T16:57:49.048584Z",
     "iopub.status.busy": "2023-11-01T16:57:49.048123Z",
     "iopub.status.idle": "2023-11-01T16:57:49.055469Z",
     "shell.execute_reply": "2023-11-01T16:57:49.053922Z"
    },
    "papermill": {
     "duration": 0.031103,
     "end_time": "2023-11-01T16:57:49.057908",
     "exception": false,
     "start_time": "2023-11-01T16:57:49.026805",
     "status": "completed"
    },
    "tags": []
   },
   "outputs": [],
   "source": [
    "def outliers(attr):\n",
    "    Q1 = df1[attr].quantile(0.25)\n",
    "    Q2 = df1[attr].quantile(0.5)\n",
    "    Q3 = df1[attr].quantile(0.75)\n",
    "    \n",
    "    IQR = Q3 - Q1\n",
    "    lower_bound = Q1 - 1.5*IQR\n",
    "    upper_bound = Q3 + 1.5*IQR\n",
    "    \n",
    "    return df1[(df1[attr] < lower_bound) | (df1[attr]>upper_bound)]"
   ]
  },
  {
   "cell_type": "code",
   "execution_count": null,
   "id": "3660649a",
   "metadata": {
    "execution": {
     "iopub.execute_input": "2023-11-01T16:57:49.095037Z",
     "iopub.status.busy": "2023-11-01T16:57:49.094200Z",
     "iopub.status.idle": "2023-11-01T16:57:49.104550Z",
     "shell.execute_reply": "2023-11-01T16:57:49.103549Z"
    },
    "papermill": {
     "duration": 0.031381,
     "end_time": "2023-11-01T16:57:49.106830",
     "exception": false,
     "start_time": "2023-11-01T16:57:49.075449",
     "status": "completed"
    },
    "tags": []
   },
   "outputs": [],
   "source": [
    "len(outliers(\"Purchase Amount (USD)\"))"
   ]
  },
  {
   "cell_type": "markdown",
   "id": "508719a9",
   "metadata": {
    "papermill": {
     "duration": 0.016865,
     "end_time": "2023-11-01T16:57:49.141624",
     "exception": false,
     "start_time": "2023-11-01T16:57:49.124759",
     "status": "completed"
    },
    "tags": []
   },
   "source": [
    "<a name=\"l5\"></a>\n",
    "#  5 Spliting Data"
   ]
  },
  {
   "cell_type": "code",
   "execution_count": null,
   "id": "a0b8199d",
   "metadata": {
    "execution": {
     "iopub.execute_input": "2023-11-01T16:57:49.178518Z",
     "iopub.status.busy": "2023-11-01T16:57:49.177747Z",
     "iopub.status.idle": "2023-11-01T16:57:49.188024Z",
     "shell.execute_reply": "2023-11-01T16:57:49.186937Z"
    },
    "papermill": {
     "duration": 0.031835,
     "end_time": "2023-11-01T16:57:49.190535",
     "exception": false,
     "start_time": "2023-11-01T16:57:49.158700",
     "status": "completed"
    },
    "tags": []
   },
   "outputs": [],
   "source": [
    "X = df2.drop([\"Payment Method\"], axis = 1)\n",
    "y = df2[\"Payment Method\"]\n",
    "\n",
    "train_x, test_x, train_y, test_y = train_test_split(X, y, test_size = 0.2, random_state = 42)"
   ]
  },
  {
   "cell_type": "code",
   "execution_count": null,
   "id": "4d68e9c4",
   "metadata": {
    "execution": {
     "iopub.execute_input": "2023-11-01T16:59:11.413399Z",
     "iopub.status.busy": "2023-11-01T16:59:11.412969Z",
     "iopub.status.idle": "2023-11-01T16:59:15.658242Z",
     "shell.execute_reply": "2023-11-01T16:59:15.657195Z"
    },
    "papermill": {
     "duration": 4.268122,
     "end_time": "2023-11-01T16:59:15.661317",
     "exception": false,
     "start_time": "2023-11-01T16:59:11.393195",
     "status": "completed"
    },
    "tags": []
   },
   "outputs": [],
   "source": [
    "XGB_model = XGBClassifier(n_estimators = 100, learning_rate=0.01)\n",
    "XGB_model.fit(train_x, train_y)\n",
    "XGB_model.score(test_x, test_y)"
   ]
  },
  {
   "cell_type": "markdown",
   "id": "4728c31f",
   "metadata": {
    "papermill": {
     "duration": 0.017859,
     "end_time": "2023-11-01T16:59:15.698243",
     "exception": false,
     "start_time": "2023-11-01T16:59:15.680384",
     "status": "completed"
    },
    "tags": []
   },
   "source": [
    "<a name=\"l7\"></a>\n",
    "# 7 Evaluation"
   ]
  },
  {
   "cell_type": "code",
   "execution_count": null,
   "id": "1259001b",
   "metadata": {
    "execution": {
     "iopub.execute_input": "2023-11-01T16:59:15.736819Z",
     "iopub.status.busy": "2023-11-01T16:59:15.736424Z",
     "iopub.status.idle": "2023-11-01T16:59:16.064358Z",
     "shell.execute_reply": "2023-11-01T16:59:16.063113Z"
    },
    "papermill": {
     "duration": 0.350903,
     "end_time": "2023-11-01T16:59:16.067143",
     "exception": false,
     "start_time": "2023-11-01T16:59:15.716240",
     "status": "completed"
    },
    "tags": []
   },
   "outputs": [],
   "source": [
    "from sklearn.metrics import accuracy_score, roc_auc_score\n",
    "y_pred = XGB_model.predict(test_x)\n",
    "roc_auc = roc_auc_score(y_pred, test_y)\n",
    "accuracy = accuracy_score(y_pred, test_y)"
   ]
  },
  {
   "cell_type": "code",
   "execution_count": null,
   "id": "6da2a2b7",
   "metadata": {
    "execution": {
     "iopub.execute_input": "2023-11-01T16:59:16.106178Z",
     "iopub.status.busy": "2023-11-01T16:59:16.105766Z",
     "iopub.status.idle": "2023-11-01T16:59:16.123349Z",
     "shell.execute_reply": "2023-11-01T16:59:16.122098Z"
    },
    "papermill": {
     "duration": 0.040504,
     "end_time": "2023-11-01T16:59:16.126221",
     "exception": false,
     "start_time": "2023-11-01T16:59:16.085717",
     "status": "completed"
    },
    "tags": []
   },
   "outputs": [],
   "source": [
    "print(classification_report(y_pred, test_y))"
   ]
  },
  {
   "cell_type": "code",
   "execution_count": null,
   "id": "ef516a70",
   "metadata": {
    "papermill": {
     "duration": 0.018092,
     "end_time": "2023-11-01T16:59:16.163135",
     "exception": false,
     "start_time": "2023-11-01T16:59:16.145043",
     "status": "completed"
    },
    "tags": []
   },
   "outputs": [],
   "source": [
    "autolog.notebook()"
   ]
  },
  {
   "cell_type": "code",
   "execution_count": null,
   "id": "e611276e",
   "metadata": {},
   "outputs": [],
   "source": []
  }
 ],
 "metadata": {
  "kernelspec": {
   "display_name": "Python 3",
   "language": "python",
   "name": "python3"
  },
  "language_info": {
   "codemirror_mode": {
    "name": "ipython",
    "version": 3
   },
   "file_extension": ".py",
   "mimetype": "text/x-python",
   "name": "python",
   "nbconvert_exporter": "python",
   "pygments_lexer": "ipython3",
   "version": "3.9.6"
  },
  "papermill": {
   "default_parameters": {},
   "duration": 104.396425,
   "end_time": "2023-11-01T16:59:16.903490",
   "environment_variables": {},
   "exception": null,
   "input_path": "__notebook__.ipynb",
   "output_path": "__notebook__.ipynb",
   "parameters": {},
   "start_time": "2023-11-01T16:57:32.507065",
   "version": "2.4.0"
  }
 },
 "nbformat": 4,
 "nbformat_minor": 5
}
