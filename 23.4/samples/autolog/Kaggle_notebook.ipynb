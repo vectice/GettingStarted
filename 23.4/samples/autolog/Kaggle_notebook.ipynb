{
 "cells": [
  {
   "cell_type": "markdown",
   "id": "5d81e258",
   "metadata": {
    "papermill": {
     "duration": 0.011176,
     "end_time": "2023-11-01T16:57:36.284485",
     "exception": false,
     "start_time": "2023-11-01T16:57:36.273309",
     "status": "completed"
    },
    "tags": []
   },
   "source": [
    "# Fashion_Retail_Sales\n"
   ]
  },
  {
   "cell_type": "markdown",
   "id": "b4c6357e",
   "metadata": {
    "papermill": {
     "duration": 0.010268,
     "end_time": "2023-11-01T16:57:36.305851",
     "exception": false,
     "start_time": "2023-11-01T16:57:36.295583",
     "status": "completed"
    },
    "tags": []
   },
   "source": [
    "# Outline\n",
    "\n",
    "- [&nbsp;&nbsp;1.1 Tools](#l1.1)\n",
    "- [&nbsp;&nbsp;1.2 Data Loading](#l1.2)\n",
    "- [&nbsp;&nbsp;1.1 Goal](#l1.3)\n",
    "\n",
    "- [2 Data Observation](#l2)\n",
    "- [&nbsp;&nbsp;2.1 Null Values](#l2.1)\n",
    "- [&nbsp;&nbsp;2.4 Duplicated Data](#l2.2)\n",
    "- [&nbsp;&nbsp;2.2 General Observation](#l2.3)\n",
    "\n",
    "\n",
    "- [3 Preprocessing](#l3)\n",
    "- [&nbsp;&nbsp;3.1 Encoding](#l3.1)\n",
    "- [&nbsp;&nbsp;3.2 Corr Matrix](#l3.2)\n",
    "\n",
    "- [4 Visualization](#l4)\n",
    "- [&nbsp;&nbsp;4.1 Outliers](#l4.1)\n",
    "\n",
    "- [5 Spliting Data](#l5)\n",
    "\n",
    "- [6 Param Tunning](#l6)\n",
    "\n",
    "- [7 Evaluation](#l7)"
   ]
  },
  {
   "cell_type": "code",
   "execution_count": 52,
   "id": "995bb671",
   "metadata": {},
   "outputs": [
    {
     "name": "stdout",
     "output_type": "stream",
     "text": [
      "Looking in indexes: https://test.pypi.org/simple/\n",
      "Collecting vectice==23.4.2.0a11304232\n",
      "  Obtaining dependency information for vectice==23.4.2.0a11304232 from https://test-files.pythonhosted.org/packages/47/64/fc3e6c7f982257c59a26d965c956ede9a5d4f86d3c5a37ae079b2f263c2e/vectice-23.4.2.0a11304232-py2.py3-none-any.whl.metadata\n",
      "  Downloading https://test-files.pythonhosted.org/packages/47/64/fc3e6c7f982257c59a26d965c956ede9a5d4f86d3c5a37ae079b2f263c2e/vectice-23.4.2.0a11304232-py2.py3-none-any.whl.metadata (4.1 kB)\n",
      "Requirement already satisfied: types-python-dateutil in /Users/bryandaversa/Vectice/GettingStarted/.venv/lib/python3.9/site-packages (from vectice==23.4.2.0a11304232) (2.8.19.14)\n",
      "Requirement already satisfied: python-dotenv>=0.11.0 in /Users/bryandaversa/Vectice/GettingStarted/.venv/lib/python3.9/site-packages (from vectice==23.4.2.0a11304232) (1.0.0)\n",
      "Requirement already satisfied: requests>=2.5.0 in /Users/bryandaversa/Vectice/GettingStarted/.venv/lib/python3.9/site-packages (from vectice==23.4.2.0a11304232) (2.29.0)\n",
      "Requirement already satisfied: rich in /Users/bryandaversa/Vectice/GettingStarted/.venv/lib/python3.9/site-packages (from vectice==23.4.2.0a11304232) (13.3.5)\n",
      "Requirement already satisfied: urllib3 in /Users/bryandaversa/Vectice/GettingStarted/.venv/lib/python3.9/site-packages (from vectice==23.4.2.0a11304232) (1.26.15)\n",
      "Requirement already satisfied: gql[requests] in /Users/bryandaversa/Vectice/GettingStarted/.venv/lib/python3.9/site-packages (from vectice==23.4.2.0a11304232) (3.4.0)\n",
      "Requirement already satisfied: GitPython in /Users/bryandaversa/Vectice/GettingStarted/.venv/lib/python3.9/site-packages (from vectice==23.4.2.0a11304232) (3.1.31)\n",
      "Requirement already satisfied: packaging in /Users/bryandaversa/Vectice/GettingStarted/.venv/lib/python3.9/site-packages (from vectice==23.4.2.0a11304232) (23.1)\n",
      "Requirement already satisfied: Pillow in /Users/bryandaversa/Vectice/GettingStarted/.venv/lib/python3.9/site-packages (from vectice==23.4.2.0a11304232) (9.5.0)\n",
      "Requirement already satisfied: pandas in /Users/bryandaversa/Vectice/GettingStarted/.venv/lib/python3.9/site-packages (from vectice==23.4.2.0a11304232) (2.1.1)\n",
      "Requirement already satisfied: typing-extensions>=4.5.0 in /Users/bryandaversa/Vectice/GettingStarted/.venv/lib/python3.9/site-packages (from vectice==23.4.2.0a11304232) (4.6.2)\n",
      "Requirement already satisfied: dataclasses-json==0.5.8 in /Users/bryandaversa/Vectice/GettingStarted/.venv/lib/python3.9/site-packages (from vectice==23.4.2.0a11304232) (0.5.8)\n",
      "Requirement already satisfied: marshmallow<4.0.0,>=3.3.0 in /Users/bryandaversa/Vectice/GettingStarted/.venv/lib/python3.9/site-packages (from dataclasses-json==0.5.8->vectice==23.4.2.0a11304232) (3.20.1)\n",
      "Requirement already satisfied: marshmallow-enum<2.0.0,>=1.5.1 in /Users/bryandaversa/Vectice/GettingStarted/.venv/lib/python3.9/site-packages (from dataclasses-json==0.5.8->vectice==23.4.2.0a11304232) (1.5.1)\n",
      "Requirement already satisfied: typing-inspect>=0.4.0 in /Users/bryandaversa/Vectice/GettingStarted/.venv/lib/python3.9/site-packages (from dataclasses-json==0.5.8->vectice==23.4.2.0a11304232) (0.9.0)\n",
      "Requirement already satisfied: charset-normalizer<4,>=2 in /Users/bryandaversa/Vectice/GettingStarted/.venv/lib/python3.9/site-packages (from requests>=2.5.0->vectice==23.4.2.0a11304232) (3.1.0)\n",
      "Requirement already satisfied: idna<4,>=2.5 in /Users/bryandaversa/Vectice/GettingStarted/.venv/lib/python3.9/site-packages (from requests>=2.5.0->vectice==23.4.2.0a11304232) (3.4)\n",
      "Requirement already satisfied: certifi>=2017.4.17 in /Users/bryandaversa/Vectice/GettingStarted/.venv/lib/python3.9/site-packages (from requests>=2.5.0->vectice==23.4.2.0a11304232) (2022.12.7)\n",
      "Requirement already satisfied: gitdb<5,>=4.0.1 in /Users/bryandaversa/Vectice/GettingStarted/.venv/lib/python3.9/site-packages (from GitPython->vectice==23.4.2.0a11304232) (4.0.10)\n",
      "Requirement already satisfied: graphql-core<3.3,>=3.2 in /Users/bryandaversa/Vectice/GettingStarted/.venv/lib/python3.9/site-packages (from gql[requests]->vectice==23.4.2.0a11304232) (3.2.3)\n",
      "Requirement already satisfied: yarl<2.0,>=1.6 in /Users/bryandaversa/Vectice/GettingStarted/.venv/lib/python3.9/site-packages (from gql[requests]->vectice==23.4.2.0a11304232) (1.9.2)\n",
      "Requirement already satisfied: backoff<3.0,>=1.11.1 in /Users/bryandaversa/Vectice/GettingStarted/.venv/lib/python3.9/site-packages (from gql[requests]->vectice==23.4.2.0a11304232) (2.2.1)\n",
      "Requirement already satisfied: requests-toolbelt<1,>=0.9.1 in /Users/bryandaversa/Vectice/GettingStarted/.venv/lib/python3.9/site-packages (from gql[requests]->vectice==23.4.2.0a11304232) (0.10.1)\n",
      "Requirement already satisfied: numpy>=1.22.4 in /Users/bryandaversa/Vectice/GettingStarted/.venv/lib/python3.9/site-packages (from pandas->vectice==23.4.2.0a11304232) (1.26.1)\n",
      "Requirement already satisfied: python-dateutil>=2.8.2 in /Users/bryandaversa/Vectice/GettingStarted/.venv/lib/python3.9/site-packages (from pandas->vectice==23.4.2.0a11304232) (2.8.2)\n",
      "Requirement already satisfied: pytz>=2020.1 in /Users/bryandaversa/Vectice/GettingStarted/.venv/lib/python3.9/site-packages (from pandas->vectice==23.4.2.0a11304232) (2023.3)\n",
      "Requirement already satisfied: tzdata>=2022.1 in /Users/bryandaversa/Vectice/GettingStarted/.venv/lib/python3.9/site-packages (from pandas->vectice==23.4.2.0a11304232) (2023.3)\n",
      "Requirement already satisfied: markdown-it-py<3.0.0,>=2.2.0 in /Users/bryandaversa/Vectice/GettingStarted/.venv/lib/python3.9/site-packages (from rich->vectice==23.4.2.0a11304232) (2.2.0)\n",
      "Requirement already satisfied: pygments<3.0.0,>=2.13.0 in /Users/bryandaversa/Vectice/GettingStarted/.venv/lib/python3.9/site-packages (from rich->vectice==23.4.2.0a11304232) (2.15.1)\n",
      "Requirement already satisfied: smmap<6,>=3.0.1 in /Users/bryandaversa/Vectice/GettingStarted/.venv/lib/python3.9/site-packages (from gitdb<5,>=4.0.1->GitPython->vectice==23.4.2.0a11304232) (5.0.0)\n",
      "Requirement already satisfied: mdurl~=0.1 in /Users/bryandaversa/Vectice/GettingStarted/.venv/lib/python3.9/site-packages (from markdown-it-py<3.0.0,>=2.2.0->rich->vectice==23.4.2.0a11304232) (0.1.2)\n",
      "Requirement already satisfied: six>=1.5 in /Users/bryandaversa/Vectice/GettingStarted/.venv/lib/python3.9/site-packages (from python-dateutil>=2.8.2->pandas->vectice==23.4.2.0a11304232) (1.16.0)\n",
      "Requirement already satisfied: mypy-extensions>=0.3.0 in /Users/bryandaversa/Vectice/GettingStarted/.venv/lib/python3.9/site-packages (from typing-inspect>=0.4.0->dataclasses-json==0.5.8->vectice==23.4.2.0a11304232) (1.0.0)\n",
      "Requirement already satisfied: multidict>=4.0 in /Users/bryandaversa/Vectice/GettingStarted/.venv/lib/python3.9/site-packages (from yarl<2.0,>=1.6->gql[requests]->vectice==23.4.2.0a11304232) (6.0.4)\n",
      "Downloading https://test-files.pythonhosted.org/packages/47/64/fc3e6c7f982257c59a26d965c956ede9a5d4f86d3c5a37ae079b2f263c2e/vectice-23.4.2.0a11304232-py2.py3-none-any.whl (160 kB)\n",
      "\u001b[2K   \u001b[90m━━━━━━━━━━━━━━━━━━━━━━━━━━━━━━━━━━━━━━━\u001b[0m \u001b[32m160.4/160.4 kB\u001b[0m \u001b[31m509.4 kB/s\u001b[0m eta \u001b[36m0:00:00\u001b[0ma \u001b[36m0:00:01\u001b[0m\n",
      "\u001b[?25hInstalling collected packages: vectice\n",
      "  Attempting uninstall: vectice\n",
      "    Found existing installation: vectice 23.3.7.0a11304208\n",
      "    Uninstalling vectice-23.3.7.0a11304208:\n",
      "      Successfully uninstalled vectice-23.3.7.0a11304208\n",
      "Successfully installed vectice-23.4.2.0a11304232\n",
      "Note: you may need to restart the kernel to use updated packages.\n"
     ]
    }
   ],
   "source": [
    "%pip install -i https://test.pypi.org/simple/ vectice==23.4.2.0a11304232\n"
   ]
  },
  {
   "cell_type": "code",
   "execution_count": 3,
   "id": "6d368985",
   "metadata": {},
   "outputs": [
    {
     "name": "stderr",
     "output_type": "stream",
     "text": [
      "Welcome, bdaversa. You`re now successfully connected to Vectice.\n",
      "\n",
      "To access your personal workspace, use \u001b[1mconnection\u001b[0m.my_workspace\n",
      "To access a specific workspace, use \u001b[1mconnection\u001b[0m.workspace(Workspace ID)\n",
      "To get a list of workspaces you can access and their IDs, use \u001b[1mconnection\u001b[0m.list_workspaces()\n",
      "\n",
      "If you are using a notebook you can call the help by using a Vectice returned object with the builtin notebook \"?\":\n",
      ">> connection?\n",
      "\n",
      "If you are using an IDE you can call the help() method on any object returned by Vectice:\n",
      ">> help(connection)\n",
      "\n",
      "For quick access to your default workspace in the Vectice web app, visit:\n",
      "https://app.vectice.com/browse/workspace/WSP-124\n",
      "Phase 'Fashion retail sails' successfully retrieved.\n",
      "\n",
      "For quick access to the Phase in the Vectice web app, visit:\n",
      "https://app.vectice.com/browse/phase/PHA-3855\n"
     ]
    }
   ],
   "source": [
    "from vectice import autolog\n",
    "autolog.config(api_token=\"your_api_key\", phase=\"_\")"
   ]
  },
  {
   "cell_type": "code",
   "execution_count": 1,
   "id": "b57332c8",
   "metadata": {},
   "outputs": [
    {
     "name": "stderr",
     "output_type": "stream",
     "text": [
      "Welcome, bdaversa. You`re now successfully connected to Vectice.\n",
      "\n",
      "To connect to a phase, copy your phase ID from your Vectice app and use connect.phase(\"PHA-XXXX\")\n",
      "To create your first iteration do iteration = connect.phase(\"PHA-XXXX\").create_or_get_current_iteration()\n",
      "\n",
      "If you are using a notebook you can call the help by using a Vectice returned object with the builtin notebook \"?\":\n",
      ">> connection?\n",
      "\n",
      "If you are using an IDE you can call the help() method on any object returned by Vectice:\n",
      ">> help(connection)\n",
      "\n",
      "For quick access to your default workspace in the Vectice web app, visit:\n",
      "https://app.vectice.com/browse/workspace/WSP-124\n",
      "Phase 'Fashion retail sails' successfully retrieved.\n",
      "\n",
      "For quick access to the Phase in the Vectice web app, visit:\n",
      "https://app.vectice.com/browse/phase/PHA-3855\n"
     ]
    }
   ],
   "source": [
    "from vectice import autolog\n",
    "autolog.config(api_token=\"LGq0grKbo.jW0jBRvl2ZEO4PnQpJ8XALGq0grKboYx6dD3gmkNzyweMV7ra9\", phase=\"PHA-3855\")"
   ]
  },
  {
   "cell_type": "markdown",
   "id": "dd4e7f60",
   "metadata": {
    "papermill": {
     "duration": 0.010184,
     "end_time": "2023-11-01T16:57:36.326503",
     "exception": false,
     "start_time": "2023-11-01T16:57:36.316319",
     "status": "completed"
    },
    "tags": []
   },
   "source": [
    "<a name=\"l1.1\"></a>\n",
    "##  1.1 Tools\n",
    "In this lab, we will make use of: "
   ]
  },
  {
   "cell_type": "code",
   "execution_count": 2,
   "id": "cf776ecf",
   "metadata": {
    "execution": {
     "iopub.execute_input": "2023-11-01T16:57:36.349442Z",
     "iopub.status.busy": "2023-11-01T16:57:36.349006Z",
     "iopub.status.idle": "2023-11-01T16:57:39.296612Z",
     "shell.execute_reply": "2023-11-01T16:57:39.295371Z"
    },
    "papermill": {
     "duration": 2.962718,
     "end_time": "2023-11-01T16:57:39.299647",
     "exception": false,
     "start_time": "2023-11-01T16:57:36.336929",
     "status": "completed"
    },
    "tags": []
   },
   "outputs": [],
   "source": [
    "import numpy as np\n",
    "import pandas as pd\n",
    "import matplotlib.pyplot as plt\n",
    "from sklearn.model_selection import train_test_split, cross_val_score, GridSearchCV, RandomizedSearchCV, ShuffleSplit\n",
    "from sklearn.preprocessing import StandardScaler\n",
    "from sklearn.metrics import ConfusionMatrixDisplay, classification_report\n",
    "from sklearn.linear_model import LogisticRegression\n",
    "from sklearn.tree import DecisionTreeClassifier\n",
    "from sklearn.ensemble import BaggingClassifier, RandomForestClassifier\n",
    "from sklearn.svm import SVC\n",
    "from sklearn.neighbors import KNeighborsClassifier\n",
    "from sklearn.linear_model import RidgeClassifier\n",
    "from sklearn.ensemble import GradientBoostingRegressor\n",
    "import seaborn as sn\n",
    "import warnings\n",
    "from xgboost import XGBClassifier\n",
    "warnings.filterwarnings('ignore')"
   ]
  },
  {
   "cell_type": "markdown",
   "id": "9f52d954",
   "metadata": {
    "papermill": {
     "duration": 0.010351,
     "end_time": "2023-11-01T16:57:39.320650",
     "exception": false,
     "start_time": "2023-11-01T16:57:39.310299",
     "status": "completed"
    },
    "tags": []
   },
   "source": [
    "<a name=\"l1.2\"></a>\n",
    "## 1.2 Data Loading\n",
    "\n",
    "- The Dataset that used in this project is <a href=\"https://www.kaggle.com/datasets/fedesoriano/heart-failure-prediction\">Heart Failure Prediction Dataset</a>"
   ]
  },
  {
   "cell_type": "code",
   "execution_count": 3,
   "id": "b57d8de1",
   "metadata": {
    "execution": {
     "iopub.execute_input": "2023-11-01T16:57:39.343947Z",
     "iopub.status.busy": "2023-11-01T16:57:39.343370Z",
     "iopub.status.idle": "2023-11-01T16:57:39.393219Z",
     "shell.execute_reply": "2023-11-01T16:57:39.392345Z"
    },
    "papermill": {
     "duration": 0.064871,
     "end_time": "2023-11-01T16:57:39.395988",
     "exception": false,
     "start_time": "2023-11-01T16:57:39.331117",
     "status": "completed"
    },
    "tags": []
   },
   "outputs": [
    {
     "data": {
      "text/html": [
       "<div>\n",
       "<style scoped>\n",
       "    .dataframe tbody tr th:only-of-type {\n",
       "        vertical-align: middle;\n",
       "    }\n",
       "\n",
       "    .dataframe tbody tr th {\n",
       "        vertical-align: top;\n",
       "    }\n",
       "\n",
       "    .dataframe thead th {\n",
       "        text-align: right;\n",
       "    }\n",
       "</style>\n",
       "<table border=\"1\" class=\"dataframe\">\n",
       "  <thead>\n",
       "    <tr style=\"text-align: right;\">\n",
       "      <th></th>\n",
       "      <th>Customer Reference ID</th>\n",
       "      <th>Item Purchased</th>\n",
       "      <th>Purchase Amount (USD)</th>\n",
       "      <th>Date Purchase</th>\n",
       "      <th>Review Rating</th>\n",
       "      <th>Payment Method</th>\n",
       "    </tr>\n",
       "  </thead>\n",
       "  <tbody>\n",
       "    <tr>\n",
       "      <th>0</th>\n",
       "      <td>4018</td>\n",
       "      <td>Handbag</td>\n",
       "      <td>4619.0</td>\n",
       "      <td>2023-02-05</td>\n",
       "      <td>NaN</td>\n",
       "      <td>Credit Card</td>\n",
       "    </tr>\n",
       "    <tr>\n",
       "      <th>1</th>\n",
       "      <td>4115</td>\n",
       "      <td>Tunic</td>\n",
       "      <td>2456.0</td>\n",
       "      <td>2023-07-11</td>\n",
       "      <td>2.0</td>\n",
       "      <td>Credit Card</td>\n",
       "    </tr>\n",
       "    <tr>\n",
       "      <th>2</th>\n",
       "      <td>4019</td>\n",
       "      <td>Tank Top</td>\n",
       "      <td>2102.0</td>\n",
       "      <td>2023-03-23</td>\n",
       "      <td>4.1</td>\n",
       "      <td>Cash</td>\n",
       "    </tr>\n",
       "    <tr>\n",
       "      <th>3</th>\n",
       "      <td>4097</td>\n",
       "      <td>Leggings</td>\n",
       "      <td>3126.0</td>\n",
       "      <td>2023-03-15</td>\n",
       "      <td>3.2</td>\n",
       "      <td>Cash</td>\n",
       "    </tr>\n",
       "    <tr>\n",
       "      <th>4</th>\n",
       "      <td>3997</td>\n",
       "      <td>Wallet</td>\n",
       "      <td>3003.0</td>\n",
       "      <td>2022-11-27</td>\n",
       "      <td>4.7</td>\n",
       "      <td>Cash</td>\n",
       "    </tr>\n",
       "  </tbody>\n",
       "</table>\n",
       "</div>"
      ],
      "text/plain": [
       "   Customer Reference ID Item Purchased  Purchase Amount (USD) Date Purchase  \\\n",
       "0                   4018        Handbag                 4619.0    2023-02-05   \n",
       "1                   4115          Tunic                 2456.0    2023-07-11   \n",
       "2                   4019       Tank Top                 2102.0    2023-03-23   \n",
       "3                   4097       Leggings                 3126.0    2023-03-15   \n",
       "4                   3997         Wallet                 3003.0    2022-11-27   \n",
       "\n",
       "   Review Rating Payment Method  \n",
       "0            NaN    Credit Card  \n",
       "1            2.0    Credit Card  \n",
       "2            4.1           Cash  \n",
       "3            3.2           Cash  \n",
       "4            4.7           Cash  "
      ]
     },
     "execution_count": 3,
     "metadata": {},
     "output_type": "execute_result"
    }
   ],
   "source": [
    "df = pd.read_csv(\"/Users/bryandaversa/kaggle_test/Fashion_Retail_Sales.csv\")\n",
    "df.head()"
   ]
  },
  {
   "cell_type": "markdown",
   "id": "f0ccf994",
   "metadata": {
    "papermill": {
     "duration": 0.010599,
     "end_time": "2023-11-01T16:57:39.417838",
     "exception": false,
     "start_time": "2023-11-01T16:57:39.407239",
     "status": "completed"
    },
    "tags": []
   },
   "source": [
    "<a name=\"l1.3\"></a>\n",
    "## 1.3 Goal"
   ]
  },
  {
   "cell_type": "markdown",
   "id": "f81054d6",
   "metadata": {
    "papermill": {
     "duration": 0.010619,
     "end_time": "2023-11-01T16:57:39.439901",
     "exception": false,
     "start_time": "2023-11-01T16:57:39.429282",
     "status": "completed"
    },
    "tags": []
   },
   "source": [
    "<a name=\"l2\"></a>\n",
    "#  2 Data Observation"
   ]
  },
  {
   "cell_type": "markdown",
   "id": "5efc3e41",
   "metadata": {
    "papermill": {
     "duration": 0.010908,
     "end_time": "2023-11-01T16:57:39.461651",
     "exception": false,
     "start_time": "2023-11-01T16:57:39.450743",
     "status": "completed"
    },
    "tags": []
   },
   "source": [
    "<a name=\"l2.1\"></a>\n",
    "##  2.1 null values"
   ]
  },
  {
   "cell_type": "code",
   "execution_count": 4,
   "id": "adbd4137",
   "metadata": {
    "execution": {
     "iopub.execute_input": "2023-11-01T16:57:39.485840Z",
     "iopub.status.busy": "2023-11-01T16:57:39.485223Z",
     "iopub.status.idle": "2023-11-01T16:57:39.498909Z",
     "shell.execute_reply": "2023-11-01T16:57:39.497587Z"
    },
    "papermill": {
     "duration": 0.028633,
     "end_time": "2023-11-01T16:57:39.501522",
     "exception": false,
     "start_time": "2023-11-01T16:57:39.472889",
     "status": "completed"
    },
    "tags": []
   },
   "outputs": [
    {
     "data": {
      "text/plain": [
       "Customer Reference ID      0\n",
       "Item Purchased             0\n",
       "Purchase Amount (USD)    650\n",
       "Date Purchase              0\n",
       "Review Rating            324\n",
       "Payment Method             0\n",
       "dtype: int64"
      ]
     },
     "execution_count": 4,
     "metadata": {},
     "output_type": "execute_result"
    }
   ],
   "source": [
    "df.isna().sum()"
   ]
  },
  {
   "cell_type": "code",
   "execution_count": 5,
   "id": "3e691265",
   "metadata": {
    "execution": {
     "iopub.execute_input": "2023-11-01T16:57:39.526342Z",
     "iopub.status.busy": "2023-11-01T16:57:39.525450Z",
     "iopub.status.idle": "2023-11-01T16:57:39.761982Z",
     "shell.execute_reply": "2023-11-01T16:57:39.760391Z"
    },
    "papermill": {
     "duration": 0.253461,
     "end_time": "2023-11-01T16:57:39.766552",
     "exception": false,
     "start_time": "2023-11-01T16:57:39.513091",
     "status": "completed"
    },
    "tags": []
   },
   "outputs": [],
   "source": [
    "from sklearn.impute import KNNImputer\n",
    "imputer = KNNImputer(n_neighbors=5)\n",
    "df['Purchase Amount (USD)'] = imputer.fit_transform(df['Purchase Amount (USD)'].values.reshape(-1, 1))\n",
    "df['Review Rating'] = imputer.fit_transform(df['Review Rating'].values.reshape(-1, 1))"
   ]
  },
  {
   "cell_type": "markdown",
   "id": "1938a28c",
   "metadata": {
    "papermill": {
     "duration": 0.023372,
     "end_time": "2023-11-01T16:57:39.813689",
     "exception": false,
     "start_time": "2023-11-01T16:57:39.790317",
     "status": "completed"
    },
    "tags": []
   },
   "source": [
    "<a name=\"l2.2\"></a>\n",
    "## 2.2 Duplicated Data"
   ]
  },
  {
   "cell_type": "code",
   "execution_count": 6,
   "id": "c475afba",
   "metadata": {
    "execution": {
     "iopub.execute_input": "2023-11-01T16:57:39.851477Z",
     "iopub.status.busy": "2023-11-01T16:57:39.851065Z",
     "iopub.status.idle": "2023-11-01T16:57:39.869076Z",
     "shell.execute_reply": "2023-11-01T16:57:39.867861Z"
    },
    "papermill": {
     "duration": 0.033126,
     "end_time": "2023-11-01T16:57:39.871612",
     "exception": false,
     "start_time": "2023-11-01T16:57:39.838486",
     "status": "completed"
    },
    "tags": []
   },
   "outputs": [
    {
     "data": {
      "text/plain": [
       "0"
      ]
     },
     "execution_count": 6,
     "metadata": {},
     "output_type": "execute_result"
    }
   ],
   "source": [
    "df.duplicated().sum()"
   ]
  },
  {
   "cell_type": "markdown",
   "id": "ec43e81b",
   "metadata": {
    "papermill": {
     "duration": 0.011127,
     "end_time": "2023-11-01T16:57:39.894375",
     "exception": false,
     "start_time": "2023-11-01T16:57:39.883248",
     "status": "completed"
    },
    "tags": []
   },
   "source": [
    "<a name=\"l2.3\"></a>\n",
    "## 2.3 General Observation"
   ]
  },
  {
   "cell_type": "code",
   "execution_count": 7,
   "id": "87ffb170",
   "metadata": {
    "execution": {
     "iopub.execute_input": "2023-11-01T16:57:39.919301Z",
     "iopub.status.busy": "2023-11-01T16:57:39.918894Z",
     "iopub.status.idle": "2023-11-01T16:57:39.945356Z",
     "shell.execute_reply": "2023-11-01T16:57:39.944057Z"
    },
    "papermill": {
     "duration": 0.041757,
     "end_time": "2023-11-01T16:57:39.947940",
     "exception": false,
     "start_time": "2023-11-01T16:57:39.906183",
     "status": "completed"
    },
    "tags": []
   },
   "outputs": [
    {
     "data": {
      "text/html": [
       "<div>\n",
       "<style scoped>\n",
       "    .dataframe tbody tr th:only-of-type {\n",
       "        vertical-align: middle;\n",
       "    }\n",
       "\n",
       "    .dataframe tbody tr th {\n",
       "        vertical-align: top;\n",
       "    }\n",
       "\n",
       "    .dataframe thead th {\n",
       "        text-align: right;\n",
       "    }\n",
       "</style>\n",
       "<table border=\"1\" class=\"dataframe\">\n",
       "  <thead>\n",
       "    <tr style=\"text-align: right;\">\n",
       "      <th></th>\n",
       "      <th>Customer Reference ID</th>\n",
       "      <th>Purchase Amount (USD)</th>\n",
       "      <th>Review Rating</th>\n",
       "    </tr>\n",
       "  </thead>\n",
       "  <tbody>\n",
       "    <tr>\n",
       "      <th>count</th>\n",
       "      <td>3400.000000</td>\n",
       "      <td>3400.000000</td>\n",
       "      <td>3400.000000</td>\n",
       "    </tr>\n",
       "    <tr>\n",
       "      <th>mean</th>\n",
       "      <td>4039.660588</td>\n",
       "      <td>156.709818</td>\n",
       "      <td>2.999057</td>\n",
       "    </tr>\n",
       "    <tr>\n",
       "      <th>std</th>\n",
       "      <td>48.122583</td>\n",
       "      <td>377.295576</td>\n",
       "      <td>1.100005</td>\n",
       "    </tr>\n",
       "    <tr>\n",
       "      <th>min</th>\n",
       "      <td>3957.000000</td>\n",
       "      <td>10.000000</td>\n",
       "      <td>1.000000</td>\n",
       "    </tr>\n",
       "    <tr>\n",
       "      <th>25%</th>\n",
       "      <td>3997.000000</td>\n",
       "      <td>70.000000</td>\n",
       "      <td>2.100000</td>\n",
       "    </tr>\n",
       "    <tr>\n",
       "      <th>50%</th>\n",
       "      <td>4040.000000</td>\n",
       "      <td>132.000000</td>\n",
       "      <td>2.999057</td>\n",
       "    </tr>\n",
       "    <tr>\n",
       "      <th>75%</th>\n",
       "      <td>4081.000000</td>\n",
       "      <td>156.709818</td>\n",
       "      <td>3.900000</td>\n",
       "    </tr>\n",
       "    <tr>\n",
       "      <th>max</th>\n",
       "      <td>4122.000000</td>\n",
       "      <td>4932.000000</td>\n",
       "      <td>5.000000</td>\n",
       "    </tr>\n",
       "  </tbody>\n",
       "</table>\n",
       "</div>"
      ],
      "text/plain": [
       "       Customer Reference ID  Purchase Amount (USD)  Review Rating\n",
       "count            3400.000000            3400.000000    3400.000000\n",
       "mean             4039.660588             156.709818       2.999057\n",
       "std                48.122583             377.295576       1.100005\n",
       "min              3957.000000              10.000000       1.000000\n",
       "25%              3997.000000              70.000000       2.100000\n",
       "50%              4040.000000             132.000000       2.999057\n",
       "75%              4081.000000             156.709818       3.900000\n",
       "max              4122.000000            4932.000000       5.000000"
      ]
     },
     "execution_count": 7,
     "metadata": {},
     "output_type": "execute_result"
    }
   ],
   "source": [
    "df.describe()"
   ]
  },
  {
   "cell_type": "code",
   "execution_count": 8,
   "id": "71995159",
   "metadata": {
    "execution": {
     "iopub.execute_input": "2023-11-01T16:57:39.973760Z",
     "iopub.status.busy": "2023-11-01T16:57:39.973344Z",
     "iopub.status.idle": "2023-11-01T16:57:39.993607Z",
     "shell.execute_reply": "2023-11-01T16:57:39.992249Z"
    },
    "papermill": {
     "duration": 0.03798,
     "end_time": "2023-11-01T16:57:39.997863",
     "exception": false,
     "start_time": "2023-11-01T16:57:39.959883",
     "status": "completed"
    },
    "tags": []
   },
   "outputs": [
    {
     "name": "stdout",
     "output_type": "stream",
     "text": [
      "<class 'pandas.core.frame.DataFrame'>\n",
      "RangeIndex: 3400 entries, 0 to 3399\n",
      "Data columns (total 6 columns):\n",
      " #   Column                 Non-Null Count  Dtype  \n",
      "---  ------                 --------------  -----  \n",
      " 0   Customer Reference ID  3400 non-null   int64  \n",
      " 1   Item Purchased         3400 non-null   object \n",
      " 2   Purchase Amount (USD)  3400 non-null   float64\n",
      " 3   Date Purchase          3400 non-null   object \n",
      " 4   Review Rating          3400 non-null   float64\n",
      " 5   Payment Method         3400 non-null   object \n",
      "dtypes: float64(2), int64(1), object(3)\n",
      "memory usage: 159.5+ KB\n"
     ]
    }
   ],
   "source": [
    "df.info()"
   ]
  },
  {
   "cell_type": "code",
   "execution_count": 9,
   "id": "b6c10b46",
   "metadata": {
    "execution": {
     "iopub.execute_input": "2023-11-01T16:57:40.024780Z",
     "iopub.status.busy": "2023-11-01T16:57:40.024366Z",
     "iopub.status.idle": "2023-11-01T16:57:40.041479Z",
     "shell.execute_reply": "2023-11-01T16:57:40.039998Z"
    },
    "papermill": {
     "duration": 0.034058,
     "end_time": "2023-11-01T16:57:40.044661",
     "exception": false,
     "start_time": "2023-11-01T16:57:40.010603",
     "status": "completed"
    },
    "tags": []
   },
   "outputs": [
    {
     "name": "stdout",
     "output_type": "stream",
     "text": [
      "Customer Reference ID - 166 : [4018 4115 4019 4097 3997 4080 4055 3973 4044 4010 4108 4067 4068 4102\n",
      " 4096 4017 4001 3976 4103 4081 3986 4109 4075 4040 4099 3981 4070 4002\n",
      " 4035 4060 3974 4110 3984 4054 4083 4122 3972 3980 4012 3992 4105 4119\n",
      " 3957 3994 3995 4072 4093 4031 4056 4114 4104 4071 4007 4009 4038 4033\n",
      " 4034 4045 3979 4106 3959 4113 4087 3989 4032 4051 3970 4100 4048 3985\n",
      " 4029 3964 4057 4117 4011 4078 4005 4049 4063 3996 4030 3991 3975 3961\n",
      " 3993 3978 4121 4073 4111 4065 4116 4003 4098 4047 4014 4004 3958 4084\n",
      " 4085 4025 4062 4050 3965 3966 3977 4091 4028 4076 4089 4090 4077 4118\n",
      " 4095 4036 4088 4041 4064 3999 4101 4023 4000 3963 4086 4021 3990 4027\n",
      " 4022 3960 4092 4069 4120 4024 4059 4016 4037 3967 4026 4042 3982 4107\n",
      " 4006 4043 3983 4046 4013 3971 3988 3987 4053 4066 4039 3998 4082 4008\n",
      " 4079 4094 4074 3968 3969 4015 4052 4020 4061 3962 4112 4058]\n",
      "Item Purchased - 50 : ['Handbag' 'Tunic' 'Tank Top' 'Leggings' 'Wallet' 'Onesie' 'Jacket'\n",
      " 'Trousers' 'Jeans' 'Loafers' 'Slippers' 'Bowtie' 'Pajamas' 'Trench Coat'\n",
      " 'Poncho' 'Gloves' 'Romper' 'T-shirt' 'Flip-Flops' 'Shorts' 'Blazer'\n",
      " 'Boots' 'Belt' 'Hoodie' 'Sweater' 'Blouse' 'Swimsuit' 'Kimono' 'Cardigan'\n",
      " 'Socks' 'Pants' 'Scarf' 'Backpack' 'Dress' 'Camisole' 'Sneakers'\n",
      " 'Flannel Shirt' 'Tie' 'Polo Shirt' 'Umbrella' 'Hat' 'Sun Hat' 'Overalls'\n",
      " 'Coat' 'Sunglasses' 'Vest' 'Sandals' 'Jumpsuit' 'Raincoat' 'Skirt']\n",
      "Purchase Amount (USD) - 235 : [4619.         2456.         2102.         3126.         3003.\n",
      " 2914.         2571.         2419.         4771.         4233.\n",
      " 2356.         4418.         3728.         2130.         2122.\n",
      " 2383.         2895.         2952.         4069.         4465.\n",
      " 2108.         4298.         2814.         4932.         4661.\n",
      " 4872.         4232.         3718.         2902.         3839.\n",
      " 4413.         3139.         2026.         2653.         4859.\n",
      " 3731.         3393.         3138.         2636.         2881.\n",
      " 3378.         2418.         2379.          101.          164.\n",
      "   21.          147.          156.70981818   30.          170.\n",
      "  102.          190.           84.           69.          107.\n",
      "  172.           51.           63.          189.          175.\n",
      "  146.           79.          173.           66.           24.\n",
      "   18.          112.           64.          155.           90.\n",
      "  137.          174.           77.          159.           45.\n",
      "   33.           38.          162.          129.          151.\n",
      "   12.           39.           85.          126.          194.\n",
      "  138.          139.           60.          148.          145.\n",
      "  163.           14.           88.           71.           27.\n",
      "   42.          150.          165.          196.          192.\n",
      "  181.          122.          125.           96.          160.\n",
      "   28.           25.           81.          195.          156.\n",
      "   72.          114.          118.           37.           58.\n",
      "   29.           70.          188.          152.          134.\n",
      "   22.          182.          113.           73.           20.\n",
      "  117.          154.           76.          193.          127.\n",
      "   99.           50.          149.          166.          177.\n",
      "  180.           86.           36.           44.           49.\n",
      "   97.           23.           80.           43.          186.\n",
      "   55.           16.          115.          198.           78.\n",
      "  130.           68.          178.          140.           17.\n",
      "   98.          191.          143.          199.           94.\n",
      "  179.           54.           87.           10.          158.\n",
      "   92.          123.           67.           47.          131.\n",
      "  171.          136.           11.          142.           41.\n",
      "  128.          153.          119.           91.          187.\n",
      "  116.           15.          157.          121.          109.\n",
      "  183.           31.           56.          176.          104.\n",
      "   89.          106.          185.           40.           13.\n",
      "  135.          197.           32.           93.          124.\n",
      "  200.          100.          133.          144.           35.\n",
      "  132.           57.           74.          168.           48.\n",
      "   46.           95.          108.          161.           19.\n",
      "   83.          120.           75.          103.          111.\n",
      "  105.           26.           62.           65.          169.\n",
      "   59.           82.          110.           52.           61.\n",
      "  141.          184.          167.           53.           34.        ]\n",
      "Date Purchase - 365 : ['2023-02-05' '2023-07-11' '2023-03-23' '2023-03-15' '2022-11-27'\n",
      " '2022-12-11' '2023-07-08' '2022-11-10' '2023-05-19' '2023-06-11'\n",
      " '2023-03-19' '2022-11-21' '2022-12-09' '2023-01-29' '2023-08-01'\n",
      " '2023-04-10' '2023-07-17' '2023-06-13' '2023-06-18' '2023-03-25'\n",
      " '2023-04-05' '2023-02-11' '2022-12-20' '2023-04-12' '2023-08-25'\n",
      " '2022-10-25' '2023-09-10' '2023-08-04' '2023-05-26' '2022-12-23'\n",
      " '2023-01-26' '2023-04-16' '2022-10-11' '2022-12-19' '2023-03-02'\n",
      " '2023-02-28' '2023-05-12' '2023-04-09' '2023-02-22' '2023-05-06'\n",
      " '2023-05-29' '2022-12-13' '2022-10-20' '2023-04-03' '2022-11-04'\n",
      " '2023-05-16' '2022-11-23' '2022-10-15' '2023-05-25' '2023-01-14'\n",
      " '2022-11-02' '2023-06-15' '2023-05-27' '2022-12-03' '2023-02-13'\n",
      " '2023-08-31' '2023-06-05' '2023-07-01' '2023-08-26' '2023-01-27'\n",
      " '2023-09-07' '2023-01-20' '2023-06-08' '2023-03-13' '2023-03-08'\n",
      " '2023-06-30' '2022-10-10' '2023-01-05' '2022-11-08' '2023-03-05'\n",
      " '2023-06-16' '2023-03-17' '2023-09-28' '2023-01-02' '2022-10-27'\n",
      " '2022-12-29' '2023-03-21' '2023-04-21' '2023-09-17' '2023-06-29'\n",
      " '2023-04-26' '2022-12-16' '2023-05-20' '2023-07-13' '2023-06-23'\n",
      " '2023-03-04' '2023-05-03' '2023-05-09' '2023-02-07' '2022-12-10'\n",
      " '2022-10-07' '2023-05-18' '2023-09-01' '2023-04-13' '2023-09-16'\n",
      " '2023-01-15' '2022-12-14' '2023-06-03' '2022-11-05' '2023-03-24'\n",
      " '2023-01-16' '2023-07-09' '2023-04-25' '2023-06-02' '2023-09-21'\n",
      " '2023-08-07' '2022-12-05' '2023-01-21' '2023-05-10' '2023-06-17'\n",
      " '2023-08-08' '2022-10-28' '2023-04-28' '2023-09-22' '2022-10-17'\n",
      " '2023-06-26' '2023-07-31' '2023-09-14' '2022-12-31' '2022-10-31'\n",
      " '2023-03-22' '2023-01-30' '2022-10-05' '2023-03-28' '2023-09-18'\n",
      " '2023-06-27' '2022-12-15' '2023-06-01' '2023-01-12' '2023-07-24'\n",
      " '2023-05-04' '2022-11-13' '2023-03-18' '2023-08-03' '2023-02-10'\n",
      " '2022-10-06' '2023-03-11' '2023-01-08' '2023-09-02' '2023-04-30'\n",
      " '2023-08-02' '2023-06-14' '2023-09-30' '2023-03-27' '2023-02-09'\n",
      " '2022-12-22' '2023-05-13' '2023-07-29' '2023-09-27' '2022-10-16'\n",
      " '2023-02-02' '2023-06-28' '2023-01-17' '2022-12-07' '2023-05-23'\n",
      " '2022-11-01' '2022-12-30' '2023-08-27' '2022-11-25' '2022-11-09'\n",
      " '2023-06-09' '2023-05-08' '2022-12-02' '2023-06-10' '2022-12-25'\n",
      " '2023-03-01' '2022-12-21' '2023-08-13' '2023-07-07' '2022-11-29'\n",
      " '2023-02-26' '2023-02-16' '2023-07-12' '2022-10-18' '2023-04-11'\n",
      " '2022-11-24' '2023-05-07' '2023-07-25' '2023-07-28' '2023-01-01'\n",
      " '2023-05-01' '2023-07-20' '2023-07-10' '2022-10-09' '2022-11-19'\n",
      " '2023-02-15' '2023-01-04' '2023-04-23' '2023-06-12' '2022-10-14'\n",
      " '2022-11-07' '2022-11-12' '2023-04-24' '2023-01-09' '2022-10-22'\n",
      " '2023-03-26' '2023-07-27' '2023-01-11' '2023-05-24' '2023-01-03'\n",
      " '2023-02-08' '2023-01-24' '2022-11-28' '2023-05-15' '2023-02-21'\n",
      " '2023-05-17' '2023-05-11' '2022-10-04' '2023-07-05' '2023-01-23'\n",
      " '2023-02-12' '2023-03-30' '2023-08-11' '2022-11-26' '2023-09-24'\n",
      " '2023-01-22' '2023-01-25' '2022-12-06' '2023-09-25' '2022-11-15'\n",
      " '2023-07-22' '2022-12-01' '2023-04-18' '2023-03-29' '2022-10-26'\n",
      " '2023-03-03' '2023-05-21' '2023-04-22' '2023-08-28' '2023-03-20'\n",
      " '2022-12-28' '2023-05-22' '2022-12-26' '2023-03-06' '2023-04-02'\n",
      " '2023-07-30' '2023-02-14' '2023-08-17' '2023-08-18' '2022-10-13'\n",
      " '2022-10-02' '2022-10-03' '2023-04-06' '2022-12-27' '2022-10-24'\n",
      " '2023-07-18' '2023-01-31' '2023-08-15' '2023-07-06' '2022-10-19'\n",
      " '2023-02-04' '2023-08-14' '2023-02-24' '2023-04-27' '2023-07-26'\n",
      " '2023-07-15' '2022-12-24' '2022-12-08' '2023-07-04' '2023-01-28'\n",
      " '2023-02-17' '2022-11-17' '2023-08-05' '2023-08-12' '2022-10-30'\n",
      " '2023-02-03' '2023-03-09' '2022-11-18' '2023-08-16' '2023-09-26'\n",
      " '2022-11-22' '2023-02-19' '2023-03-14' '2022-12-18' '2023-09-08'\n",
      " '2023-06-19' '2023-08-20' '2023-07-21' '2023-09-04' '2023-03-12'\n",
      " '2023-01-07' '2022-11-03' '2023-04-01' '2023-09-20' '2022-12-12'\n",
      " '2023-06-07' '2023-08-24' '2023-05-28' '2023-09-29' '2023-08-19'\n",
      " '2023-09-12' '2023-06-06' '2022-10-23' '2023-08-22' '2023-04-15'\n",
      " '2023-07-23' '2023-07-14' '2023-02-27' '2023-06-25' '2023-08-23'\n",
      " '2023-03-07' '2023-04-20' '2023-07-02' '2023-03-31' '2023-09-06'\n",
      " '2023-01-06' '2022-10-08' '2023-04-29' '2023-04-04' '2023-08-29'\n",
      " '2022-11-14' '2022-10-12' '2022-10-21' '2023-02-23' '2023-09-11'\n",
      " '2023-10-01' '2023-04-19' '2023-02-20' '2022-11-30' '2023-01-10'\n",
      " '2023-05-30' '2023-05-05' '2022-11-06' '2023-06-20' '2023-02-25'\n",
      " '2023-07-03' '2023-07-19' '2023-09-19' '2023-08-06' '2023-01-18'\n",
      " '2023-05-02' '2023-04-08' '2023-06-24' '2023-08-09' '2022-12-17'\n",
      " '2023-09-23' '2023-08-30' '2023-07-16' '2023-04-17' '2023-05-31'\n",
      " '2023-06-21' '2023-09-13' '2023-09-15' '2023-06-22' '2023-03-16'\n",
      " '2023-08-10' '2023-04-14' '2023-05-14' '2023-02-18' '2022-10-29'\n",
      " '2023-09-03' '2023-09-05' '2023-08-21' '2022-11-16' '2023-02-01'\n",
      " '2023-02-06' '2022-11-11' '2023-06-04' '2022-11-20' '2023-09-09'\n",
      " '2023-04-07' '2023-03-10' '2022-12-04' '2023-01-19' '2023-01-13']\n",
      "Review Rating - 42 : [2.99905722 2.         4.1        3.2        4.7        4.5\n",
      " 1.3        4.6        4.8        3.4        1.2        3.6\n",
      " 2.2        4.9        4.2        4.4        4.         3.8\n",
      " 2.7        2.8        1.8        5.         4.3        1.7\n",
      " 2.9        3.9        2.1        3.         1.5        1.9\n",
      " 1.1        2.5        2.4        2.6        3.7        3.3\n",
      " 3.1        2.3        3.5        1.6        1.4        1.        ]\n",
      "Payment Method - 2 : ['Credit Card' 'Cash']\n"
     ]
    }
   ],
   "source": [
    "for column in df:\n",
    "    print(f\"{column} - {len(df[column].unique())} : {df[column].unique()}\")"
   ]
  },
  {
   "cell_type": "markdown",
   "id": "24b28e9c",
   "metadata": {
    "papermill": {
     "duration": 0.012741,
     "end_time": "2023-11-01T16:57:40.069865",
     "exception": false,
     "start_time": "2023-11-01T16:57:40.057124",
     "status": "completed"
    },
    "tags": []
   },
   "source": [
    "<a name=\"l3\"></a>\n",
    "#  3 Preprocessing"
   ]
  },
  {
   "cell_type": "markdown",
   "id": "c9a4648c",
   "metadata": {
    "papermill": {
     "duration": 0.013101,
     "end_time": "2023-11-01T16:57:40.095702",
     "exception": false,
     "start_time": "2023-11-01T16:57:40.082601",
     "status": "completed"
    },
    "tags": []
   },
   "source": [
    "<a name=\"l3.1\"></a>\n",
    "##  3.1 Date Purchase"
   ]
  },
  {
   "cell_type": "code",
   "execution_count": 10,
   "id": "3f786225",
   "metadata": {
    "execution": {
     "iopub.execute_input": "2023-11-01T16:57:40.122732Z",
     "iopub.status.busy": "2023-11-01T16:57:40.121999Z",
     "iopub.status.idle": "2023-11-01T16:57:40.128528Z",
     "shell.execute_reply": "2023-11-01T16:57:40.127350Z"
    },
    "papermill": {
     "duration": 0.022554,
     "end_time": "2023-11-01T16:57:40.130758",
     "exception": false,
     "start_time": "2023-11-01T16:57:40.108204",
     "status": "completed"
    },
    "tags": []
   },
   "outputs": [],
   "source": [
    "def dateconvertor(df):\n",
    "    new_df = df.copy()\n",
    "    token = df[\"Date Purchase\"].split(\"-\")\n",
    "    new_df[\"Year\"] = int(token[0])\n",
    "    new_df[\"Month\"] = int(token[1])\n",
    "    new_df[\"Day\"] = int(token[2])\n",
    "    return new_df"
   ]
  },
  {
   "cell_type": "code",
   "execution_count": 11,
   "id": "5b884514",
   "metadata": {
    "execution": {
     "iopub.execute_input": "2023-11-01T16:57:40.157845Z",
     "iopub.status.busy": "2023-11-01T16:57:40.157456Z",
     "iopub.status.idle": "2023-11-01T16:57:46.411813Z",
     "shell.execute_reply": "2023-11-01T16:57:46.410625Z"
    },
    "papermill": {
     "duration": 6.270894,
     "end_time": "2023-11-01T16:57:46.414532",
     "exception": false,
     "start_time": "2023-11-01T16:57:40.143638",
     "status": "completed"
    },
    "tags": []
   },
   "outputs": [
    {
     "data": {
      "text/html": [
       "<div>\n",
       "<style scoped>\n",
       "    .dataframe tbody tr th:only-of-type {\n",
       "        vertical-align: middle;\n",
       "    }\n",
       "\n",
       "    .dataframe tbody tr th {\n",
       "        vertical-align: top;\n",
       "    }\n",
       "\n",
       "    .dataframe thead th {\n",
       "        text-align: right;\n",
       "    }\n",
       "</style>\n",
       "<table border=\"1\" class=\"dataframe\">\n",
       "  <thead>\n",
       "    <tr style=\"text-align: right;\">\n",
       "      <th></th>\n",
       "      <th>Customer Reference ID</th>\n",
       "      <th>Item Purchased</th>\n",
       "      <th>Purchase Amount (USD)</th>\n",
       "      <th>Date Purchase</th>\n",
       "      <th>Review Rating</th>\n",
       "      <th>Payment Method</th>\n",
       "      <th>Year</th>\n",
       "      <th>Month</th>\n",
       "      <th>Day</th>\n",
       "    </tr>\n",
       "  </thead>\n",
       "  <tbody>\n",
       "    <tr>\n",
       "      <th>0</th>\n",
       "      <td>4018</td>\n",
       "      <td>Handbag</td>\n",
       "      <td>4619.0</td>\n",
       "      <td>2023-02-05</td>\n",
       "      <td>2.999057</td>\n",
       "      <td>Credit Card</td>\n",
       "      <td>2023</td>\n",
       "      <td>2</td>\n",
       "      <td>5</td>\n",
       "    </tr>\n",
       "    <tr>\n",
       "      <th>1</th>\n",
       "      <td>4115</td>\n",
       "      <td>Tunic</td>\n",
       "      <td>2456.0</td>\n",
       "      <td>2023-07-11</td>\n",
       "      <td>2.000000</td>\n",
       "      <td>Credit Card</td>\n",
       "      <td>2023</td>\n",
       "      <td>7</td>\n",
       "      <td>11</td>\n",
       "    </tr>\n",
       "    <tr>\n",
       "      <th>2</th>\n",
       "      <td>4019</td>\n",
       "      <td>Tank Top</td>\n",
       "      <td>2102.0</td>\n",
       "      <td>2023-03-23</td>\n",
       "      <td>4.100000</td>\n",
       "      <td>Cash</td>\n",
       "      <td>2023</td>\n",
       "      <td>3</td>\n",
       "      <td>23</td>\n",
       "    </tr>\n",
       "    <tr>\n",
       "      <th>3</th>\n",
       "      <td>4097</td>\n",
       "      <td>Leggings</td>\n",
       "      <td>3126.0</td>\n",
       "      <td>2023-03-15</td>\n",
       "      <td>3.200000</td>\n",
       "      <td>Cash</td>\n",
       "      <td>2023</td>\n",
       "      <td>3</td>\n",
       "      <td>15</td>\n",
       "    </tr>\n",
       "    <tr>\n",
       "      <th>4</th>\n",
       "      <td>3997</td>\n",
       "      <td>Wallet</td>\n",
       "      <td>3003.0</td>\n",
       "      <td>2022-11-27</td>\n",
       "      <td>4.700000</td>\n",
       "      <td>Cash</td>\n",
       "      <td>2022</td>\n",
       "      <td>11</td>\n",
       "      <td>27</td>\n",
       "    </tr>\n",
       "  </tbody>\n",
       "</table>\n",
       "</div>"
      ],
      "text/plain": [
       "   Customer Reference ID Item Purchased  Purchase Amount (USD) Date Purchase  \\\n",
       "0                   4018        Handbag                 4619.0    2023-02-05   \n",
       "1                   4115          Tunic                 2456.0    2023-07-11   \n",
       "2                   4019       Tank Top                 2102.0    2023-03-23   \n",
       "3                   4097       Leggings                 3126.0    2023-03-15   \n",
       "4                   3997         Wallet                 3003.0    2022-11-27   \n",
       "\n",
       "   Review Rating Payment Method  Year  Month  Day  \n",
       "0       2.999057    Credit Card  2023      2    5  \n",
       "1       2.000000    Credit Card  2023      7   11  \n",
       "2       4.100000           Cash  2023      3   23  \n",
       "3       3.200000           Cash  2023      3   15  \n",
       "4       4.700000           Cash  2022     11   27  "
      ]
     },
     "execution_count": 11,
     "metadata": {},
     "output_type": "execute_result"
    }
   ],
   "source": [
    "df1 = df.apply(dateconvertor,axis=1)\n",
    "df1.head()"
   ]
  },
  {
   "cell_type": "code",
   "execution_count": 12,
   "id": "6d75e4cf",
   "metadata": {
    "execution": {
     "iopub.execute_input": "2023-11-01T16:57:46.442430Z",
     "iopub.status.busy": "2023-11-01T16:57:46.441942Z",
     "iopub.status.idle": "2023-11-01T16:57:46.451084Z",
     "shell.execute_reply": "2023-11-01T16:57:46.449645Z"
    },
    "papermill": {
     "duration": 0.026165,
     "end_time": "2023-11-01T16:57:46.453738",
     "exception": false,
     "start_time": "2023-11-01T16:57:46.427573",
     "status": "completed"
    },
    "tags": []
   },
   "outputs": [],
   "source": [
    "df1.drop([\"Date Purchase\", \"Customer Reference ID\"], axis = 1, inplace = True)"
   ]
  },
  {
   "cell_type": "markdown",
   "id": "a8fc59e3",
   "metadata": {
    "papermill": {
     "duration": 0.013231,
     "end_time": "2023-11-01T16:57:46.480113",
     "exception": false,
     "start_time": "2023-11-01T16:57:46.466882",
     "status": "completed"
    },
    "tags": []
   },
   "source": [
    "<a name=\"l3.2\"></a>\n",
    "\n",
    "## 3.2 Item Purchased"
   ]
  },
  {
   "cell_type": "code",
   "execution_count": 13,
   "id": "2a18a096",
   "metadata": {
    "execution": {
     "iopub.execute_input": "2023-11-01T16:57:46.508879Z",
     "iopub.status.busy": "2023-11-01T16:57:46.507878Z",
     "iopub.status.idle": "2023-11-01T16:57:46.518068Z",
     "shell.execute_reply": "2023-11-01T16:57:46.516589Z"
    },
    "papermill": {
     "duration": 0.026977,
     "end_time": "2023-11-01T16:57:46.520478",
     "exception": false,
     "start_time": "2023-11-01T16:57:46.493501",
     "status": "completed"
    },
    "tags": []
   },
   "outputs": [
    {
     "data": {
      "text/plain": [
       "Item Purchased\n",
       "Belt             90\n",
       "Skirt            88\n",
       "Shorts           87\n",
       "Pants            86\n",
       "Tank Top         82\n",
       "T-shirt          82\n",
       "Pajamas          81\n",
       "Camisole         76\n",
       "Loafers          76\n",
       "Hoodie           75\n",
       "Poncho           73\n",
       "Socks            73\n",
       "Kimono           73\n",
       "Blouse           73\n",
       "Wallet           73\n",
       "Handbag          72\n",
       "Cardigan         72\n",
       "Vest             71\n",
       "Sneakers         71\n",
       "Onesie           71\n",
       "Backpack         71\n",
       "Blazer           71\n",
       "Umbrella         70\n",
       "Raincoat         69\n",
       "Trench Coat      68\n",
       "Hat              68\n",
       "Sunglasses       67\n",
       "Coat             67\n",
       "Scarf            66\n",
       "Swimsuit         66\n",
       "Boots            65\n",
       "Jacket           64\n",
       "Romper           64\n",
       "Flannel Shirt    63\n",
       "Leggings         62\n",
       "Sweater          62\n",
       "Overalls         61\n",
       "Tunic            61\n",
       "Polo Shirt       59\n",
       "Gloves           59\n",
       "Jeans            58\n",
       "Slippers         58\n",
       "Trousers         58\n",
       "Jumpsuit         57\n",
       "Dress            57\n",
       "Tie              57\n",
       "Sandals          54\n",
       "Bowtie           52\n",
       "Flip-Flops       51\n",
       "Sun Hat          50\n",
       "Name: count, dtype: int64"
      ]
     },
     "execution_count": 13,
     "metadata": {},
     "output_type": "execute_result"
    }
   ],
   "source": [
    "df1[\"Item Purchased\"].value_counts()"
   ]
  },
  {
   "cell_type": "code",
   "execution_count": 14,
   "id": "4708bcb6",
   "metadata": {},
   "outputs": [
    {
     "data": {
      "text/html": [
       "<div>\n",
       "<style scoped>\n",
       "    .dataframe tbody tr th:only-of-type {\n",
       "        vertical-align: middle;\n",
       "    }\n",
       "\n",
       "    .dataframe tbody tr th {\n",
       "        vertical-align: top;\n",
       "    }\n",
       "\n",
       "    .dataframe thead th {\n",
       "        text-align: right;\n",
       "    }\n",
       "</style>\n",
       "<table border=\"1\" class=\"dataframe\">\n",
       "  <thead>\n",
       "    <tr style=\"text-align: right;\">\n",
       "      <th></th>\n",
       "      <th>Item Purchased</th>\n",
       "      <th>Purchase Amount (USD)</th>\n",
       "      <th>Review Rating</th>\n",
       "      <th>Payment Method</th>\n",
       "      <th>Year</th>\n",
       "      <th>Month</th>\n",
       "      <th>Day</th>\n",
       "    </tr>\n",
       "  </thead>\n",
       "  <tbody>\n",
       "    <tr>\n",
       "      <th>0</th>\n",
       "      <td>Handbag</td>\n",
       "      <td>4619.000000</td>\n",
       "      <td>2.999057</td>\n",
       "      <td>Credit Card</td>\n",
       "      <td>2023</td>\n",
       "      <td>2</td>\n",
       "      <td>5</td>\n",
       "    </tr>\n",
       "    <tr>\n",
       "      <th>1</th>\n",
       "      <td>Tunic</td>\n",
       "      <td>2456.000000</td>\n",
       "      <td>2.000000</td>\n",
       "      <td>Credit Card</td>\n",
       "      <td>2023</td>\n",
       "      <td>7</td>\n",
       "      <td>11</td>\n",
       "    </tr>\n",
       "    <tr>\n",
       "      <th>2</th>\n",
       "      <td>Tank Top</td>\n",
       "      <td>2102.000000</td>\n",
       "      <td>4.100000</td>\n",
       "      <td>Cash</td>\n",
       "      <td>2023</td>\n",
       "      <td>3</td>\n",
       "      <td>23</td>\n",
       "    </tr>\n",
       "    <tr>\n",
       "      <th>3</th>\n",
       "      <td>Leggings</td>\n",
       "      <td>3126.000000</td>\n",
       "      <td>3.200000</td>\n",
       "      <td>Cash</td>\n",
       "      <td>2023</td>\n",
       "      <td>3</td>\n",
       "      <td>15</td>\n",
       "    </tr>\n",
       "    <tr>\n",
       "      <th>4</th>\n",
       "      <td>Wallet</td>\n",
       "      <td>3003.000000</td>\n",
       "      <td>4.700000</td>\n",
       "      <td>Cash</td>\n",
       "      <td>2022</td>\n",
       "      <td>11</td>\n",
       "      <td>27</td>\n",
       "    </tr>\n",
       "    <tr>\n",
       "      <th>...</th>\n",
       "      <td>...</td>\n",
       "      <td>...</td>\n",
       "      <td>...</td>\n",
       "      <td>...</td>\n",
       "      <td>...</td>\n",
       "      <td>...</td>\n",
       "      <td>...</td>\n",
       "    </tr>\n",
       "    <tr>\n",
       "      <th>3395</th>\n",
       "      <td>Shorts</td>\n",
       "      <td>37.000000</td>\n",
       "      <td>2.700000</td>\n",
       "      <td>Cash</td>\n",
       "      <td>2023</td>\n",
       "      <td>7</td>\n",
       "      <td>9</td>\n",
       "    </tr>\n",
       "    <tr>\n",
       "      <th>3396</th>\n",
       "      <td>Slippers</td>\n",
       "      <td>176.000000</td>\n",
       "      <td>2.500000</td>\n",
       "      <td>Cash</td>\n",
       "      <td>2023</td>\n",
       "      <td>3</td>\n",
       "      <td>16</td>\n",
       "    </tr>\n",
       "    <tr>\n",
       "      <th>3397</th>\n",
       "      <td>Onesie</td>\n",
       "      <td>156.709818</td>\n",
       "      <td>2.400000</td>\n",
       "      <td>Credit Card</td>\n",
       "      <td>2022</td>\n",
       "      <td>10</td>\n",
       "      <td>3</td>\n",
       "    </tr>\n",
       "    <tr>\n",
       "      <th>3398</th>\n",
       "      <td>Sandals</td>\n",
       "      <td>128.000000</td>\n",
       "      <td>1.800000</td>\n",
       "      <td>Cash</td>\n",
       "      <td>2023</td>\n",
       "      <td>1</td>\n",
       "      <td>1</td>\n",
       "    </tr>\n",
       "    <tr>\n",
       "      <th>3399</th>\n",
       "      <td>Backpack</td>\n",
       "      <td>115.000000</td>\n",
       "      <td>1.400000</td>\n",
       "      <td>Cash</td>\n",
       "      <td>2023</td>\n",
       "      <td>3</td>\n",
       "      <td>22</td>\n",
       "    </tr>\n",
       "  </tbody>\n",
       "</table>\n",
       "<p>3400 rows × 7 columns</p>\n",
       "</div>"
      ],
      "text/plain": [
       "     Item Purchased  Purchase Amount (USD)  Review Rating Payment Method  \\\n",
       "0           Handbag            4619.000000       2.999057    Credit Card   \n",
       "1             Tunic            2456.000000       2.000000    Credit Card   \n",
       "2          Tank Top            2102.000000       4.100000           Cash   \n",
       "3          Leggings            3126.000000       3.200000           Cash   \n",
       "4            Wallet            3003.000000       4.700000           Cash   \n",
       "...             ...                    ...            ...            ...   \n",
       "3395         Shorts              37.000000       2.700000           Cash   \n",
       "3396       Slippers             176.000000       2.500000           Cash   \n",
       "3397         Onesie             156.709818       2.400000    Credit Card   \n",
       "3398        Sandals             128.000000       1.800000           Cash   \n",
       "3399       Backpack             115.000000       1.400000           Cash   \n",
       "\n",
       "      Year  Month  Day  \n",
       "0     2023      2    5  \n",
       "1     2023      7   11  \n",
       "2     2023      3   23  \n",
       "3     2023      3   15  \n",
       "4     2022     11   27  \n",
       "...    ...    ...  ...  \n",
       "3395  2023      7    9  \n",
       "3396  2023      3   16  \n",
       "3397  2022     10    3  \n",
       "3398  2023      1    1  \n",
       "3399  2023      3   22  \n",
       "\n",
       "[3400 rows x 7 columns]"
      ]
     },
     "execution_count": 14,
     "metadata": {},
     "output_type": "execute_result"
    }
   ],
   "source": [
    "df1"
   ]
  },
  {
   "cell_type": "code",
   "execution_count": 15,
   "id": "95fad2a4",
   "metadata": {
    "execution": {
     "iopub.execute_input": "2023-11-01T16:57:46.549144Z",
     "iopub.status.busy": "2023-11-01T16:57:46.548466Z",
     "iopub.status.idle": "2023-11-01T16:57:46.580328Z",
     "shell.execute_reply": "2023-11-01T16:57:46.579195Z"
    },
    "papermill": {
     "duration": 0.049355,
     "end_time": "2023-11-01T16:57:46.582858",
     "exception": false,
     "start_time": "2023-11-01T16:57:46.533503",
     "status": "completed"
    },
    "scrolled": true,
    "tags": []
   },
   "outputs": [
    {
     "data": {
      "text/html": [
       "<div>\n",
       "<style scoped>\n",
       "    .dataframe tbody tr th:only-of-type {\n",
       "        vertical-align: middle;\n",
       "    }\n",
       "\n",
       "    .dataframe tbody tr th {\n",
       "        vertical-align: top;\n",
       "    }\n",
       "\n",
       "    .dataframe thead th {\n",
       "        text-align: right;\n",
       "    }\n",
       "</style>\n",
       "<table border=\"1\" class=\"dataframe\">\n",
       "  <thead>\n",
       "    <tr style=\"text-align: right;\">\n",
       "      <th></th>\n",
       "      <th>Purchase Amount (USD)</th>\n",
       "      <th>Review Rating</th>\n",
       "      <th>Payment Method</th>\n",
       "      <th>Year</th>\n",
       "      <th>Month</th>\n",
       "      <th>Day</th>\n",
       "      <th>Item Purchased_Backpack</th>\n",
       "      <th>Item Purchased_Belt</th>\n",
       "      <th>Item Purchased_Blazer</th>\n",
       "      <th>Item Purchased_Blouse</th>\n",
       "      <th>...</th>\n",
       "      <th>Item Purchased_Swimsuit</th>\n",
       "      <th>Item Purchased_T-shirt</th>\n",
       "      <th>Item Purchased_Tank Top</th>\n",
       "      <th>Item Purchased_Tie</th>\n",
       "      <th>Item Purchased_Trench Coat</th>\n",
       "      <th>Item Purchased_Trousers</th>\n",
       "      <th>Item Purchased_Tunic</th>\n",
       "      <th>Item Purchased_Umbrella</th>\n",
       "      <th>Item Purchased_Vest</th>\n",
       "      <th>Item Purchased_Wallet</th>\n",
       "    </tr>\n",
       "  </thead>\n",
       "  <tbody>\n",
       "    <tr>\n",
       "      <th>0</th>\n",
       "      <td>4619.0</td>\n",
       "      <td>2.999057</td>\n",
       "      <td>Credit Card</td>\n",
       "      <td>2023</td>\n",
       "      <td>2</td>\n",
       "      <td>5</td>\n",
       "      <td>False</td>\n",
       "      <td>False</td>\n",
       "      <td>False</td>\n",
       "      <td>False</td>\n",
       "      <td>...</td>\n",
       "      <td>False</td>\n",
       "      <td>False</td>\n",
       "      <td>False</td>\n",
       "      <td>False</td>\n",
       "      <td>False</td>\n",
       "      <td>False</td>\n",
       "      <td>False</td>\n",
       "      <td>False</td>\n",
       "      <td>False</td>\n",
       "      <td>False</td>\n",
       "    </tr>\n",
       "    <tr>\n",
       "      <th>1</th>\n",
       "      <td>2456.0</td>\n",
       "      <td>2.000000</td>\n",
       "      <td>Credit Card</td>\n",
       "      <td>2023</td>\n",
       "      <td>7</td>\n",
       "      <td>11</td>\n",
       "      <td>False</td>\n",
       "      <td>False</td>\n",
       "      <td>False</td>\n",
       "      <td>False</td>\n",
       "      <td>...</td>\n",
       "      <td>False</td>\n",
       "      <td>False</td>\n",
       "      <td>False</td>\n",
       "      <td>False</td>\n",
       "      <td>False</td>\n",
       "      <td>False</td>\n",
       "      <td>True</td>\n",
       "      <td>False</td>\n",
       "      <td>False</td>\n",
       "      <td>False</td>\n",
       "    </tr>\n",
       "    <tr>\n",
       "      <th>2</th>\n",
       "      <td>2102.0</td>\n",
       "      <td>4.100000</td>\n",
       "      <td>Cash</td>\n",
       "      <td>2023</td>\n",
       "      <td>3</td>\n",
       "      <td>23</td>\n",
       "      <td>False</td>\n",
       "      <td>False</td>\n",
       "      <td>False</td>\n",
       "      <td>False</td>\n",
       "      <td>...</td>\n",
       "      <td>False</td>\n",
       "      <td>False</td>\n",
       "      <td>True</td>\n",
       "      <td>False</td>\n",
       "      <td>False</td>\n",
       "      <td>False</td>\n",
       "      <td>False</td>\n",
       "      <td>False</td>\n",
       "      <td>False</td>\n",
       "      <td>False</td>\n",
       "    </tr>\n",
       "    <tr>\n",
       "      <th>3</th>\n",
       "      <td>3126.0</td>\n",
       "      <td>3.200000</td>\n",
       "      <td>Cash</td>\n",
       "      <td>2023</td>\n",
       "      <td>3</td>\n",
       "      <td>15</td>\n",
       "      <td>False</td>\n",
       "      <td>False</td>\n",
       "      <td>False</td>\n",
       "      <td>False</td>\n",
       "      <td>...</td>\n",
       "      <td>False</td>\n",
       "      <td>False</td>\n",
       "      <td>False</td>\n",
       "      <td>False</td>\n",
       "      <td>False</td>\n",
       "      <td>False</td>\n",
       "      <td>False</td>\n",
       "      <td>False</td>\n",
       "      <td>False</td>\n",
       "      <td>False</td>\n",
       "    </tr>\n",
       "    <tr>\n",
       "      <th>4</th>\n",
       "      <td>3003.0</td>\n",
       "      <td>4.700000</td>\n",
       "      <td>Cash</td>\n",
       "      <td>2022</td>\n",
       "      <td>11</td>\n",
       "      <td>27</td>\n",
       "      <td>False</td>\n",
       "      <td>False</td>\n",
       "      <td>False</td>\n",
       "      <td>False</td>\n",
       "      <td>...</td>\n",
       "      <td>False</td>\n",
       "      <td>False</td>\n",
       "      <td>False</td>\n",
       "      <td>False</td>\n",
       "      <td>False</td>\n",
       "      <td>False</td>\n",
       "      <td>False</td>\n",
       "      <td>False</td>\n",
       "      <td>False</td>\n",
       "      <td>True</td>\n",
       "    </tr>\n",
       "  </tbody>\n",
       "</table>\n",
       "<p>5 rows × 56 columns</p>\n",
       "</div>"
      ],
      "text/plain": [
       "   Purchase Amount (USD)  Review Rating Payment Method  Year  Month  Day  \\\n",
       "0                 4619.0       2.999057    Credit Card  2023      2    5   \n",
       "1                 2456.0       2.000000    Credit Card  2023      7   11   \n",
       "2                 2102.0       4.100000           Cash  2023      3   23   \n",
       "3                 3126.0       3.200000           Cash  2023      3   15   \n",
       "4                 3003.0       4.700000           Cash  2022     11   27   \n",
       "\n",
       "   Item Purchased_Backpack  Item Purchased_Belt  Item Purchased_Blazer  \\\n",
       "0                    False                False                  False   \n",
       "1                    False                False                  False   \n",
       "2                    False                False                  False   \n",
       "3                    False                False                  False   \n",
       "4                    False                False                  False   \n",
       "\n",
       "   Item Purchased_Blouse  ...  Item Purchased_Swimsuit  \\\n",
       "0                  False  ...                    False   \n",
       "1                  False  ...                    False   \n",
       "2                  False  ...                    False   \n",
       "3                  False  ...                    False   \n",
       "4                  False  ...                    False   \n",
       "\n",
       "   Item Purchased_T-shirt  Item Purchased_Tank Top  Item Purchased_Tie  \\\n",
       "0                   False                    False               False   \n",
       "1                   False                    False               False   \n",
       "2                   False                     True               False   \n",
       "3                   False                    False               False   \n",
       "4                   False                    False               False   \n",
       "\n",
       "   Item Purchased_Trench Coat  Item Purchased_Trousers  Item Purchased_Tunic  \\\n",
       "0                       False                    False                 False   \n",
       "1                       False                    False                  True   \n",
       "2                       False                    False                 False   \n",
       "3                       False                    False                 False   \n",
       "4                       False                    False                 False   \n",
       "\n",
       "   Item Purchased_Umbrella  Item Purchased_Vest  Item Purchased_Wallet  \n",
       "0                    False                False                  False  \n",
       "1                    False                False                  False  \n",
       "2                    False                False                  False  \n",
       "3                    False                False                  False  \n",
       "4                    False                False                   True  \n",
       "\n",
       "[5 rows x 56 columns]"
      ]
     },
     "execution_count": 15,
     "metadata": {},
     "output_type": "execute_result"
    }
   ],
   "source": [
    "df2 = pd.get_dummies(df1, columns = [\"Item Purchased\"])\n",
    "df2.head()"
   ]
  },
  {
   "cell_type": "code",
   "execution_count": 16,
   "id": "ca5bfa38",
   "metadata": {
    "execution": {
     "iopub.execute_input": "2023-11-01T16:57:46.673471Z",
     "iopub.status.busy": "2023-11-01T16:57:46.672692Z",
     "iopub.status.idle": "2023-11-01T16:57:46.705623Z",
     "shell.execute_reply": "2023-11-01T16:57:46.704251Z"
    },
    "papermill": {
     "duration": 0.051177,
     "end_time": "2023-11-01T16:57:46.708385",
     "exception": false,
     "start_time": "2023-11-01T16:57:46.657208",
     "status": "completed"
    },
    "scrolled": true,
    "tags": []
   },
   "outputs": [
    {
     "data": {
      "text/html": [
       "<div>\n",
       "<style scoped>\n",
       "    .dataframe tbody tr th:only-of-type {\n",
       "        vertical-align: middle;\n",
       "    }\n",
       "\n",
       "    .dataframe tbody tr th {\n",
       "        vertical-align: top;\n",
       "    }\n",
       "\n",
       "    .dataframe thead th {\n",
       "        text-align: right;\n",
       "    }\n",
       "</style>\n",
       "<table border=\"1\" class=\"dataframe\">\n",
       "  <thead>\n",
       "    <tr style=\"text-align: right;\">\n",
       "      <th></th>\n",
       "      <th>Purchase Amount (USD)</th>\n",
       "      <th>Review Rating</th>\n",
       "      <th>Payment Method</th>\n",
       "      <th>Year</th>\n",
       "      <th>Month</th>\n",
       "      <th>Day</th>\n",
       "      <th>Item Purchased_Backpack</th>\n",
       "      <th>Item Purchased_Belt</th>\n",
       "      <th>Item Purchased_Blazer</th>\n",
       "      <th>Item Purchased_Blouse</th>\n",
       "      <th>...</th>\n",
       "      <th>Item Purchased_Swimsuit</th>\n",
       "      <th>Item Purchased_T-shirt</th>\n",
       "      <th>Item Purchased_Tank Top</th>\n",
       "      <th>Item Purchased_Tie</th>\n",
       "      <th>Item Purchased_Trench Coat</th>\n",
       "      <th>Item Purchased_Trousers</th>\n",
       "      <th>Item Purchased_Tunic</th>\n",
       "      <th>Item Purchased_Umbrella</th>\n",
       "      <th>Item Purchased_Vest</th>\n",
       "      <th>Item Purchased_Wallet</th>\n",
       "    </tr>\n",
       "  </thead>\n",
       "  <tbody>\n",
       "    <tr>\n",
       "      <th>0</th>\n",
       "      <td>11.828780</td>\n",
       "      <td>0.000000</td>\n",
       "      <td>Credit Card</td>\n",
       "      <td>0.578709</td>\n",
       "      <td>-1.313766</td>\n",
       "      <td>-1.212841</td>\n",
       "      <td>False</td>\n",
       "      <td>False</td>\n",
       "      <td>False</td>\n",
       "      <td>False</td>\n",
       "      <td>...</td>\n",
       "      <td>False</td>\n",
       "      <td>False</td>\n",
       "      <td>False</td>\n",
       "      <td>False</td>\n",
       "      <td>False</td>\n",
       "      <td>False</td>\n",
       "      <td>False</td>\n",
       "      <td>False</td>\n",
       "      <td>False</td>\n",
       "      <td>False</td>\n",
       "    </tr>\n",
       "    <tr>\n",
       "      <th>1</th>\n",
       "      <td>6.095031</td>\n",
       "      <td>-0.908363</td>\n",
       "      <td>Credit Card</td>\n",
       "      <td>0.578709</td>\n",
       "      <td>0.140935</td>\n",
       "      <td>-0.532631</td>\n",
       "      <td>False</td>\n",
       "      <td>False</td>\n",
       "      <td>False</td>\n",
       "      <td>False</td>\n",
       "      <td>...</td>\n",
       "      <td>False</td>\n",
       "      <td>False</td>\n",
       "      <td>False</td>\n",
       "      <td>False</td>\n",
       "      <td>False</td>\n",
       "      <td>False</td>\n",
       "      <td>True</td>\n",
       "      <td>False</td>\n",
       "      <td>False</td>\n",
       "      <td>False</td>\n",
       "    </tr>\n",
       "    <tr>\n",
       "      <th>2</th>\n",
       "      <td>5.156637</td>\n",
       "      <td>1.001000</td>\n",
       "      <td>Cash</td>\n",
       "      <td>0.578709</td>\n",
       "      <td>-1.022826</td>\n",
       "      <td>0.827789</td>\n",
       "      <td>False</td>\n",
       "      <td>False</td>\n",
       "      <td>False</td>\n",
       "      <td>False</td>\n",
       "      <td>...</td>\n",
       "      <td>False</td>\n",
       "      <td>False</td>\n",
       "      <td>True</td>\n",
       "      <td>False</td>\n",
       "      <td>False</td>\n",
       "      <td>False</td>\n",
       "      <td>False</td>\n",
       "      <td>False</td>\n",
       "      <td>False</td>\n",
       "      <td>False</td>\n",
       "    </tr>\n",
       "    <tr>\n",
       "      <th>3</th>\n",
       "      <td>7.871089</td>\n",
       "      <td>0.182701</td>\n",
       "      <td>Cash</td>\n",
       "      <td>0.578709</td>\n",
       "      <td>-1.022826</td>\n",
       "      <td>-0.079158</td>\n",
       "      <td>False</td>\n",
       "      <td>False</td>\n",
       "      <td>False</td>\n",
       "      <td>False</td>\n",
       "      <td>...</td>\n",
       "      <td>False</td>\n",
       "      <td>False</td>\n",
       "      <td>False</td>\n",
       "      <td>False</td>\n",
       "      <td>False</td>\n",
       "      <td>False</td>\n",
       "      <td>False</td>\n",
       "      <td>False</td>\n",
       "      <td>False</td>\n",
       "      <td>False</td>\n",
       "    </tr>\n",
       "    <tr>\n",
       "      <th>4</th>\n",
       "      <td>7.545036</td>\n",
       "      <td>1.546532</td>\n",
       "      <td>Cash</td>\n",
       "      <td>-1.727985</td>\n",
       "      <td>1.304696</td>\n",
       "      <td>1.281262</td>\n",
       "      <td>False</td>\n",
       "      <td>False</td>\n",
       "      <td>False</td>\n",
       "      <td>False</td>\n",
       "      <td>...</td>\n",
       "      <td>False</td>\n",
       "      <td>False</td>\n",
       "      <td>False</td>\n",
       "      <td>False</td>\n",
       "      <td>False</td>\n",
       "      <td>False</td>\n",
       "      <td>False</td>\n",
       "      <td>False</td>\n",
       "      <td>False</td>\n",
       "      <td>True</td>\n",
       "    </tr>\n",
       "  </tbody>\n",
       "</table>\n",
       "<p>5 rows × 56 columns</p>\n",
       "</div>"
      ],
      "text/plain": [
       "   Purchase Amount (USD)  Review Rating Payment Method      Year     Month  \\\n",
       "0              11.828780       0.000000    Credit Card  0.578709 -1.313766   \n",
       "1               6.095031      -0.908363    Credit Card  0.578709  0.140935   \n",
       "2               5.156637       1.001000           Cash  0.578709 -1.022826   \n",
       "3               7.871089       0.182701           Cash  0.578709 -1.022826   \n",
       "4               7.545036       1.546532           Cash -1.727985  1.304696   \n",
       "\n",
       "        Day  Item Purchased_Backpack  Item Purchased_Belt  \\\n",
       "0 -1.212841                    False                False   \n",
       "1 -0.532631                    False                False   \n",
       "2  0.827789                    False                False   \n",
       "3 -0.079158                    False                False   \n",
       "4  1.281262                    False                False   \n",
       "\n",
       "   Item Purchased_Blazer  Item Purchased_Blouse  ...  Item Purchased_Swimsuit  \\\n",
       "0                  False                  False  ...                    False   \n",
       "1                  False                  False  ...                    False   \n",
       "2                  False                  False  ...                    False   \n",
       "3                  False                  False  ...                    False   \n",
       "4                  False                  False  ...                    False   \n",
       "\n",
       "   Item Purchased_T-shirt  Item Purchased_Tank Top  Item Purchased_Tie  \\\n",
       "0                   False                    False               False   \n",
       "1                   False                    False               False   \n",
       "2                   False                     True               False   \n",
       "3                   False                    False               False   \n",
       "4                   False                    False               False   \n",
       "\n",
       "   Item Purchased_Trench Coat  Item Purchased_Trousers  Item Purchased_Tunic  \\\n",
       "0                       False                    False                 False   \n",
       "1                       False                    False                  True   \n",
       "2                       False                    False                 False   \n",
       "3                       False                    False                 False   \n",
       "4                       False                    False                 False   \n",
       "\n",
       "   Item Purchased_Umbrella  Item Purchased_Vest  Item Purchased_Wallet  \n",
       "0                    False                False                  False  \n",
       "1                    False                False                  False  \n",
       "2                    False                False                  False  \n",
       "3                    False                False                  False  \n",
       "4                    False                False                   True  \n",
       "\n",
       "[5 rows x 56 columns]"
      ]
     },
     "execution_count": 16,
     "metadata": {},
     "output_type": "execute_result"
    }
   ],
   "source": [
    "columns = [\"Purchase Amount (USD)\", \"Review Rating\", \"Year\", \"Month\", \"Day\"]\n",
    "scaler = StandardScaler()\n",
    "df2[columns] = scaler.fit_transform(df2[columns])\n",
    "df2.head()"
   ]
  },
  {
   "cell_type": "code",
   "execution_count": 17,
   "id": "57fcfc0f",
   "metadata": {
    "execution": {
     "iopub.execute_input": "2023-11-01T16:57:46.738781Z",
     "iopub.status.busy": "2023-11-01T16:57:46.738363Z",
     "iopub.status.idle": "2023-11-01T16:57:46.769137Z",
     "shell.execute_reply": "2023-11-01T16:57:46.767729Z"
    },
    "papermill": {
     "duration": 0.04901,
     "end_time": "2023-11-01T16:57:46.771898",
     "exception": false,
     "start_time": "2023-11-01T16:57:46.722888",
     "status": "completed"
    },
    "tags": []
   },
   "outputs": [
    {
     "data": {
      "text/html": [
       "<div>\n",
       "<style scoped>\n",
       "    .dataframe tbody tr th:only-of-type {\n",
       "        vertical-align: middle;\n",
       "    }\n",
       "\n",
       "    .dataframe tbody tr th {\n",
       "        vertical-align: top;\n",
       "    }\n",
       "\n",
       "    .dataframe thead th {\n",
       "        text-align: right;\n",
       "    }\n",
       "</style>\n",
       "<table border=\"1\" class=\"dataframe\">\n",
       "  <thead>\n",
       "    <tr style=\"text-align: right;\">\n",
       "      <th></th>\n",
       "      <th>Purchase Amount (USD)</th>\n",
       "      <th>Review Rating</th>\n",
       "      <th>Payment Method</th>\n",
       "      <th>Year</th>\n",
       "      <th>Month</th>\n",
       "      <th>Day</th>\n",
       "      <th>Item Purchased_Backpack</th>\n",
       "      <th>Item Purchased_Belt</th>\n",
       "      <th>Item Purchased_Blazer</th>\n",
       "      <th>Item Purchased_Blouse</th>\n",
       "      <th>...</th>\n",
       "      <th>Item Purchased_Swimsuit</th>\n",
       "      <th>Item Purchased_T-shirt</th>\n",
       "      <th>Item Purchased_Tank Top</th>\n",
       "      <th>Item Purchased_Tie</th>\n",
       "      <th>Item Purchased_Trench Coat</th>\n",
       "      <th>Item Purchased_Trousers</th>\n",
       "      <th>Item Purchased_Tunic</th>\n",
       "      <th>Item Purchased_Umbrella</th>\n",
       "      <th>Item Purchased_Vest</th>\n",
       "      <th>Item Purchased_Wallet</th>\n",
       "    </tr>\n",
       "  </thead>\n",
       "  <tbody>\n",
       "    <tr>\n",
       "      <th>0</th>\n",
       "      <td>11.828780</td>\n",
       "      <td>0.000000</td>\n",
       "      <td>1</td>\n",
       "      <td>0.578709</td>\n",
       "      <td>-1.313766</td>\n",
       "      <td>-1.212841</td>\n",
       "      <td>False</td>\n",
       "      <td>False</td>\n",
       "      <td>False</td>\n",
       "      <td>False</td>\n",
       "      <td>...</td>\n",
       "      <td>False</td>\n",
       "      <td>False</td>\n",
       "      <td>False</td>\n",
       "      <td>False</td>\n",
       "      <td>False</td>\n",
       "      <td>False</td>\n",
       "      <td>False</td>\n",
       "      <td>False</td>\n",
       "      <td>False</td>\n",
       "      <td>False</td>\n",
       "    </tr>\n",
       "    <tr>\n",
       "      <th>1</th>\n",
       "      <td>6.095031</td>\n",
       "      <td>-0.908363</td>\n",
       "      <td>1</td>\n",
       "      <td>0.578709</td>\n",
       "      <td>0.140935</td>\n",
       "      <td>-0.532631</td>\n",
       "      <td>False</td>\n",
       "      <td>False</td>\n",
       "      <td>False</td>\n",
       "      <td>False</td>\n",
       "      <td>...</td>\n",
       "      <td>False</td>\n",
       "      <td>False</td>\n",
       "      <td>False</td>\n",
       "      <td>False</td>\n",
       "      <td>False</td>\n",
       "      <td>False</td>\n",
       "      <td>True</td>\n",
       "      <td>False</td>\n",
       "      <td>False</td>\n",
       "      <td>False</td>\n",
       "    </tr>\n",
       "    <tr>\n",
       "      <th>2</th>\n",
       "      <td>5.156637</td>\n",
       "      <td>1.001000</td>\n",
       "      <td>0</td>\n",
       "      <td>0.578709</td>\n",
       "      <td>-1.022826</td>\n",
       "      <td>0.827789</td>\n",
       "      <td>False</td>\n",
       "      <td>False</td>\n",
       "      <td>False</td>\n",
       "      <td>False</td>\n",
       "      <td>...</td>\n",
       "      <td>False</td>\n",
       "      <td>False</td>\n",
       "      <td>True</td>\n",
       "      <td>False</td>\n",
       "      <td>False</td>\n",
       "      <td>False</td>\n",
       "      <td>False</td>\n",
       "      <td>False</td>\n",
       "      <td>False</td>\n",
       "      <td>False</td>\n",
       "    </tr>\n",
       "    <tr>\n",
       "      <th>3</th>\n",
       "      <td>7.871089</td>\n",
       "      <td>0.182701</td>\n",
       "      <td>0</td>\n",
       "      <td>0.578709</td>\n",
       "      <td>-1.022826</td>\n",
       "      <td>-0.079158</td>\n",
       "      <td>False</td>\n",
       "      <td>False</td>\n",
       "      <td>False</td>\n",
       "      <td>False</td>\n",
       "      <td>...</td>\n",
       "      <td>False</td>\n",
       "      <td>False</td>\n",
       "      <td>False</td>\n",
       "      <td>False</td>\n",
       "      <td>False</td>\n",
       "      <td>False</td>\n",
       "      <td>False</td>\n",
       "      <td>False</td>\n",
       "      <td>False</td>\n",
       "      <td>False</td>\n",
       "    </tr>\n",
       "    <tr>\n",
       "      <th>4</th>\n",
       "      <td>7.545036</td>\n",
       "      <td>1.546532</td>\n",
       "      <td>0</td>\n",
       "      <td>-1.727985</td>\n",
       "      <td>1.304696</td>\n",
       "      <td>1.281262</td>\n",
       "      <td>False</td>\n",
       "      <td>False</td>\n",
       "      <td>False</td>\n",
       "      <td>False</td>\n",
       "      <td>...</td>\n",
       "      <td>False</td>\n",
       "      <td>False</td>\n",
       "      <td>False</td>\n",
       "      <td>False</td>\n",
       "      <td>False</td>\n",
       "      <td>False</td>\n",
       "      <td>False</td>\n",
       "      <td>False</td>\n",
       "      <td>False</td>\n",
       "      <td>True</td>\n",
       "    </tr>\n",
       "  </tbody>\n",
       "</table>\n",
       "<p>5 rows × 56 columns</p>\n",
       "</div>"
      ],
      "text/plain": [
       "   Purchase Amount (USD)  Review Rating  Payment Method      Year     Month  \\\n",
       "0              11.828780       0.000000               1  0.578709 -1.313766   \n",
       "1               6.095031      -0.908363               1  0.578709  0.140935   \n",
       "2               5.156637       1.001000               0  0.578709 -1.022826   \n",
       "3               7.871089       0.182701               0  0.578709 -1.022826   \n",
       "4               7.545036       1.546532               0 -1.727985  1.304696   \n",
       "\n",
       "        Day  Item Purchased_Backpack  Item Purchased_Belt  \\\n",
       "0 -1.212841                    False                False   \n",
       "1 -0.532631                    False                False   \n",
       "2  0.827789                    False                False   \n",
       "3 -0.079158                    False                False   \n",
       "4  1.281262                    False                False   \n",
       "\n",
       "   Item Purchased_Blazer  Item Purchased_Blouse  ...  Item Purchased_Swimsuit  \\\n",
       "0                  False                  False  ...                    False   \n",
       "1                  False                  False  ...                    False   \n",
       "2                  False                  False  ...                    False   \n",
       "3                  False                  False  ...                    False   \n",
       "4                  False                  False  ...                    False   \n",
       "\n",
       "   Item Purchased_T-shirt  Item Purchased_Tank Top  Item Purchased_Tie  \\\n",
       "0                   False                    False               False   \n",
       "1                   False                    False               False   \n",
       "2                   False                     True               False   \n",
       "3                   False                    False               False   \n",
       "4                   False                    False               False   \n",
       "\n",
       "   Item Purchased_Trench Coat  Item Purchased_Trousers  Item Purchased_Tunic  \\\n",
       "0                       False                    False                 False   \n",
       "1                       False                    False                  True   \n",
       "2                       False                    False                 False   \n",
       "3                       False                    False                 False   \n",
       "4                       False                    False                 False   \n",
       "\n",
       "   Item Purchased_Umbrella  Item Purchased_Vest  Item Purchased_Wallet  \n",
       "0                    False                False                  False  \n",
       "1                    False                False                  False  \n",
       "2                    False                False                  False  \n",
       "3                    False                False                  False  \n",
       "4                    False                False                   True  \n",
       "\n",
       "[5 rows x 56 columns]"
      ]
     },
     "execution_count": 17,
     "metadata": {},
     "output_type": "execute_result"
    }
   ],
   "source": [
    "class_name = [\"Credit Card\", \"Cash\"]\n",
    "df2[\"Payment Method\"] = df2[\"Payment Method\"].replace(class_name, [1, 0])\n",
    "df2.head()"
   ]
  },
  {
   "cell_type": "code",
   "execution_count": 18,
   "id": "4c95e7d5",
   "metadata": {
    "execution": {
     "iopub.execute_input": "2023-11-01T16:57:46.804557Z",
     "iopub.status.busy": "2023-11-01T16:57:46.804145Z",
     "iopub.status.idle": "2023-11-01T16:57:46.824177Z",
     "shell.execute_reply": "2023-11-01T16:57:46.821974Z"
    },
    "papermill": {
     "duration": 0.039323,
     "end_time": "2023-11-01T16:57:46.826905",
     "exception": false,
     "start_time": "2023-11-01T16:57:46.787582",
     "status": "completed"
    },
    "tags": []
   },
   "outputs": [
    {
     "name": "stdout",
     "output_type": "stream",
     "text": [
      "<class 'pandas.core.frame.DataFrame'>\n",
      "RangeIndex: 3400 entries, 0 to 3399\n",
      "Data columns (total 56 columns):\n",
      " #   Column                        Non-Null Count  Dtype  \n",
      "---  ------                        --------------  -----  \n",
      " 0   Purchase Amount (USD)         3400 non-null   float64\n",
      " 1   Review Rating                 3400 non-null   float64\n",
      " 2   Payment Method                3400 non-null   int64  \n",
      " 3   Year                          3400 non-null   float64\n",
      " 4   Month                         3400 non-null   float64\n",
      " 5   Day                           3400 non-null   float64\n",
      " 6   Item Purchased_Backpack       3400 non-null   bool   \n",
      " 7   Item Purchased_Belt           3400 non-null   bool   \n",
      " 8   Item Purchased_Blazer         3400 non-null   bool   \n",
      " 9   Item Purchased_Blouse         3400 non-null   bool   \n",
      " 10  Item Purchased_Boots          3400 non-null   bool   \n",
      " 11  Item Purchased_Bowtie         3400 non-null   bool   \n",
      " 12  Item Purchased_Camisole       3400 non-null   bool   \n",
      " 13  Item Purchased_Cardigan       3400 non-null   bool   \n",
      " 14  Item Purchased_Coat           3400 non-null   bool   \n",
      " 15  Item Purchased_Dress          3400 non-null   bool   \n",
      " 16  Item Purchased_Flannel Shirt  3400 non-null   bool   \n",
      " 17  Item Purchased_Flip-Flops     3400 non-null   bool   \n",
      " 18  Item Purchased_Gloves         3400 non-null   bool   \n",
      " 19  Item Purchased_Handbag        3400 non-null   bool   \n",
      " 20  Item Purchased_Hat            3400 non-null   bool   \n",
      " 21  Item Purchased_Hoodie         3400 non-null   bool   \n",
      " 22  Item Purchased_Jacket         3400 non-null   bool   \n",
      " 23  Item Purchased_Jeans          3400 non-null   bool   \n",
      " 24  Item Purchased_Jumpsuit       3400 non-null   bool   \n",
      " 25  Item Purchased_Kimono         3400 non-null   bool   \n",
      " 26  Item Purchased_Leggings       3400 non-null   bool   \n",
      " 27  Item Purchased_Loafers        3400 non-null   bool   \n",
      " 28  Item Purchased_Onesie         3400 non-null   bool   \n",
      " 29  Item Purchased_Overalls       3400 non-null   bool   \n",
      " 30  Item Purchased_Pajamas        3400 non-null   bool   \n",
      " 31  Item Purchased_Pants          3400 non-null   bool   \n",
      " 32  Item Purchased_Polo Shirt     3400 non-null   bool   \n",
      " 33  Item Purchased_Poncho         3400 non-null   bool   \n",
      " 34  Item Purchased_Raincoat       3400 non-null   bool   \n",
      " 35  Item Purchased_Romper         3400 non-null   bool   \n",
      " 36  Item Purchased_Sandals        3400 non-null   bool   \n",
      " 37  Item Purchased_Scarf          3400 non-null   bool   \n",
      " 38  Item Purchased_Shorts         3400 non-null   bool   \n",
      " 39  Item Purchased_Skirt          3400 non-null   bool   \n",
      " 40  Item Purchased_Slippers       3400 non-null   bool   \n",
      " 41  Item Purchased_Sneakers       3400 non-null   bool   \n",
      " 42  Item Purchased_Socks          3400 non-null   bool   \n",
      " 43  Item Purchased_Sun Hat        3400 non-null   bool   \n",
      " 44  Item Purchased_Sunglasses     3400 non-null   bool   \n",
      " 45  Item Purchased_Sweater        3400 non-null   bool   \n",
      " 46  Item Purchased_Swimsuit       3400 non-null   bool   \n",
      " 47  Item Purchased_T-shirt        3400 non-null   bool   \n",
      " 48  Item Purchased_Tank Top       3400 non-null   bool   \n",
      " 49  Item Purchased_Tie            3400 non-null   bool   \n",
      " 50  Item Purchased_Trench Coat    3400 non-null   bool   \n",
      " 51  Item Purchased_Trousers       3400 non-null   bool   \n",
      " 52  Item Purchased_Tunic          3400 non-null   bool   \n",
      " 53  Item Purchased_Umbrella       3400 non-null   bool   \n",
      " 54  Item Purchased_Vest           3400 non-null   bool   \n",
      " 55  Item Purchased_Wallet         3400 non-null   bool   \n",
      "dtypes: bool(50), float64(5), int64(1)\n",
      "memory usage: 325.5 KB\n"
     ]
    }
   ],
   "source": [
    "df2.info()"
   ]
  },
  {
   "cell_type": "markdown",
   "id": "762ead71",
   "metadata": {
    "papermill": {
     "duration": 0.015382,
     "end_time": "2023-11-01T16:57:46.857569",
     "exception": false,
     "start_time": "2023-11-01T16:57:46.842187",
     "status": "completed"
    },
    "tags": []
   },
   "source": [
    "<a name=\"l4\"></a>\n",
    "#  4 Visualization"
   ]
  },
  {
   "cell_type": "code",
   "execution_count": 19,
   "id": "f36ce0e5",
   "metadata": {
    "execution": {
     "iopub.execute_input": "2023-11-01T16:57:46.890192Z",
     "iopub.status.busy": "2023-11-01T16:57:46.889700Z",
     "iopub.status.idle": "2023-11-01T16:57:48.475354Z",
     "shell.execute_reply": "2023-11-01T16:57:48.473992Z"
    },
    "papermill": {
     "duration": 1.604395,
     "end_time": "2023-11-01T16:57:48.477725",
     "exception": false,
     "start_time": "2023-11-01T16:57:46.873330",
     "status": "completed"
    },
    "tags": []
   },
   "outputs": [
    {
     "data": {
      "image/png": "[encoded data removed]",
      "text/plain": [
       "<Figure size 1000x1000 with 6 Axes>"
      ]
     },
     "metadata": {},
     "output_type": "display_data"
    }
   ],
   "source": [
    "df2.hist(figsize = (10, 10), rwidth = 0.95, color = \"skyblue\", grid = False)\n",
    "plt.title(\"Distributions\")\n",
    "plt.savefig(\"Distributions.png\")"
   ]
  },
  {
   "cell_type": "markdown",
   "id": "b3c0a89f",
   "metadata": {
    "papermill": {
     "duration": 0.016009,
     "end_time": "2023-11-01T16:57:48.510547",
     "exception": false,
     "start_time": "2023-11-01T16:57:48.494538",
     "status": "completed"
    },
    "tags": []
   },
   "source": [
    "<a name=\"l4.1\"></a>\n",
    "##  4.1 OutLiers"
   ]
  },
  {
   "cell_type": "code",
   "execution_count": 20,
   "id": "0160afaf",
   "metadata": {
    "execution": {
     "iopub.execute_input": "2023-11-01T16:57:48.545751Z",
     "iopub.status.busy": "2023-11-01T16:57:48.545306Z",
     "iopub.status.idle": "2023-11-01T16:57:49.006692Z",
     "shell.execute_reply": "2023-11-01T16:57:49.005497Z"
    },
    "papermill": {
     "duration": 0.482534,
     "end_time": "2023-11-01T16:57:49.009659",
     "exception": false,
     "start_time": "2023-11-01T16:57:48.527125",
     "status": "completed"
    },
    "tags": []
   },
   "outputs": [
    {
     "data": {
      "image/png": "[encoded data removed]",
      "text/plain": [
       "<Figure size 1200x600 with 2 Axes>"
      ]
     },
     "metadata": {},
     "output_type": "display_data"
    }
   ],
   "source": [
    "fig, axes = plt.subplots(1, 2, figsize=(12, 6))\n",
    "\n",
    "sn.boxplot(x=df1[\"Purchase Amount (USD)\"], ax=axes[0])\n",
    "axes[0].set_title(\"Box-plot of 'Purchase Amount'\")\n",
    "\n",
    "sn.boxplot(x=df1[\"Review Rating\"], ax=axes[1])\n",
    "axes[1].set_title(\"Box-plot of Review Rating\")\n",
    "\n",
    "plt.tight_layout()\n",
    "plt.savefig(\"box_plot.png\")\n",
    "plt.show()"
   ]
  },
  {
   "cell_type": "code",
   "execution_count": 21,
   "id": "aecf0d63",
   "metadata": {
    "execution": {
     "iopub.execute_input": "2023-11-01T16:57:49.048584Z",
     "iopub.status.busy": "2023-11-01T16:57:49.048123Z",
     "iopub.status.idle": "2023-11-01T16:57:49.055469Z",
     "shell.execute_reply": "2023-11-01T16:57:49.053922Z"
    },
    "papermill": {
     "duration": 0.031103,
     "end_time": "2023-11-01T16:57:49.057908",
     "exception": false,
     "start_time": "2023-11-01T16:57:49.026805",
     "status": "completed"
    },
    "tags": []
   },
   "outputs": [],
   "source": [
    "def outliers(attr):\n",
    "    Q1 = df1[attr].quantile(0.25)\n",
    "    Q2 = df1[attr].quantile(0.5)\n",
    "    Q3 = df1[attr].quantile(0.75)\n",
    "    \n",
    "    IQR = Q3 - Q1\n",
    "    lower_bound = Q1 - 1.5*IQR\n",
    "    upper_bound = Q3 + 1.5*IQR\n",
    "    \n",
    "    return df1[(df1[attr] < lower_bound) | (df1[attr]>upper_bound)]"
   ]
  },
  {
   "cell_type": "code",
   "execution_count": 22,
   "id": "3660649a",
   "metadata": {
    "execution": {
     "iopub.execute_input": "2023-11-01T16:57:49.095037Z",
     "iopub.status.busy": "2023-11-01T16:57:49.094200Z",
     "iopub.status.idle": "2023-11-01T16:57:49.104550Z",
     "shell.execute_reply": "2023-11-01T16:57:49.103549Z"
    },
    "papermill": {
     "duration": 0.031381,
     "end_time": "2023-11-01T16:57:49.106830",
     "exception": false,
     "start_time": "2023-11-01T16:57:49.075449",
     "status": "completed"
    },
    "tags": []
   },
   "outputs": [
    {
     "data": {
      "text/plain": [
       "43"
      ]
     },
     "execution_count": 22,
     "metadata": {},
     "output_type": "execute_result"
    }
   ],
   "source": [
    "len(outliers(\"Purchase Amount (USD)\"))"
   ]
  },
  {
   "cell_type": "markdown",
   "id": "508719a9",
   "metadata": {
    "papermill": {
     "duration": 0.016865,
     "end_time": "2023-11-01T16:57:49.141624",
     "exception": false,
     "start_time": "2023-11-01T16:57:49.124759",
     "status": "completed"
    },
    "tags": []
   },
   "source": [
    "<a name=\"l5\"></a>\n",
    "#  5 Spliting Data"
   ]
  },
  {
   "cell_type": "code",
   "execution_count": 23,
   "id": "a0b8199d",
   "metadata": {
    "execution": {
     "iopub.execute_input": "2023-11-01T16:57:49.178518Z",
     "iopub.status.busy": "2023-11-01T16:57:49.177747Z",
     "iopub.status.idle": "2023-11-01T16:57:49.188024Z",
     "shell.execute_reply": "2023-11-01T16:57:49.186937Z"
    },
    "papermill": {
     "duration": 0.031835,
     "end_time": "2023-11-01T16:57:49.190535",
     "exception": false,
     "start_time": "2023-11-01T16:57:49.158700",
     "status": "completed"
    },
    "tags": []
   },
   "outputs": [],
   "source": [
    "X = df2.drop([\"Payment Method\"], axis = 1)\n",
    "y = df2[\"Payment Method\"]\n",
    "\n",
    "train_x, test_x, train_y, test_y = train_test_split(X, y, test_size = 0.2, random_state = 42)"
   ]
  },
  {
   "cell_type": "code",
   "execution_count": 24,
   "id": "4d68e9c4",
   "metadata": {
    "execution": {
     "iopub.execute_input": "2023-11-01T16:59:11.413399Z",
     "iopub.status.busy": "2023-11-01T16:59:11.412969Z",
     "iopub.status.idle": "2023-11-01T16:59:15.658242Z",
     "shell.execute_reply": "2023-11-01T16:59:15.657195Z"
    },
    "papermill": {
     "duration": 4.268122,
     "end_time": "2023-11-01T16:59:15.661317",
     "exception": false,
     "start_time": "2023-11-01T16:59:11.393195",
     "status": "completed"
    },
    "tags": []
   },
   "outputs": [
    {
     "data": {
      "text/plain": [
       "0.5117647058823529"
      ]
     },
     "execution_count": 24,
     "metadata": {},
     "output_type": "execute_result"
    }
   ],
   "source": [
    "XGB_model = XGBClassifier(n_estimators = 100, learning_rate=0.01)\n",
    "XGB_model.fit(train_x, train_y)\n",
    "XGB_model.score(test_x, test_y)"
   ]
  },
  {
   "cell_type": "markdown",
   "id": "4728c31f",
   "metadata": {
    "papermill": {
     "duration": 0.017859,
     "end_time": "2023-11-01T16:59:15.698243",
     "exception": false,
     "start_time": "2023-11-01T16:59:15.680384",
     "status": "completed"
    },
    "tags": []
   },
   "source": [
    "<a name=\"l7\"></a>\n",
    "# 7 Evaluation"
   ]
  },
  {
   "cell_type": "code",
   "execution_count": 25,
   "id": "1259001b",
   "metadata": {
    "execution": {
     "iopub.execute_input": "2023-11-01T16:59:15.736819Z",
     "iopub.status.busy": "2023-11-01T16:59:15.736424Z",
     "iopub.status.idle": "2023-11-01T16:59:16.064358Z",
     "shell.execute_reply": "2023-11-01T16:59:16.063113Z"
    },
    "papermill": {
     "duration": 0.350903,
     "end_time": "2023-11-01T16:59:16.067143",
     "exception": false,
     "start_time": "2023-11-01T16:59:15.716240",
     "status": "completed"
    },
    "tags": []
   },
   "outputs": [],
   "source": [
    "from sklearn.metrics import accuracy_score, roc_auc_score\n",
    "y_pred = XGB_model.predict(test_x)\n",
    "roc_auc = roc_auc_score(y_pred, test_y)\n",
    "accuracy = accuracy_score(y_pred, test_y)"
   ]
  },
  {
   "cell_type": "code",
   "execution_count": 26,
   "id": "6da2a2b7",
   "metadata": {
    "execution": {
     "iopub.execute_input": "2023-11-01T16:59:16.106178Z",
     "iopub.status.busy": "2023-11-01T16:59:16.105766Z",
     "iopub.status.idle": "2023-11-01T16:59:16.123349Z",
     "shell.execute_reply": "2023-11-01T16:59:16.122098Z"
    },
    "papermill": {
     "duration": 0.040504,
     "end_time": "2023-11-01T16:59:16.126221",
     "exception": false,
     "start_time": "2023-11-01T16:59:16.085717",
     "status": "completed"
    },
    "tags": []
   },
   "outputs": [
    {
     "name": "stdout",
     "output_type": "stream",
     "text": [
      "              precision    recall  f1-score   support\n",
      "\n",
      "           0       0.18      0.50      0.26       119\n",
      "           1       0.83      0.52      0.64       561\n",
      "\n",
      "    accuracy                           0.51       680\n",
      "   macro avg       0.50      0.51      0.45       680\n",
      "weighted avg       0.71      0.51      0.57       680\n",
      "\n"
     ]
    }
   ],
   "source": [
    "print(classification_report(y_pred, test_y))"
   ]
  },
  {
   "cell_type": "code",
   "execution_count": 27,
   "id": "ef516a70",
   "metadata": {
    "papermill": {
     "duration": 0.018092,
     "end_time": "2023-11-01T16:59:16.163135",
     "exception": false,
     "start_time": "2023-11-01T16:59:16.145043",
     "status": "completed"
    },
    "tags": []
   },
   "outputs": [
    {
     "name": "stderr",
     "output_type": "stream",
     "text": [
      "New Iteration number 18 created.\n",
      "\n",
      "For quick access to the Iteration in the Vectice web app, visit:\n",
      "https://app.vectice.com/browse/iteration/ITR-1628\n",
      "File: /Users/bryandaversa/kaggle_test/Fashion_Retail_Sales.csv wrapped successfully.\n",
      "New dataset: \"'PHA-3855'-df\" version: 'Version 1' added to iteration: 18.\n",
      "Attachments: None\n",
      "Link to iteration: https://app.vectice.com/browse/iteration/ITR-1628\n",
      "\n",
      "New dataset: \"'PHA-3855'-df1\" version: 'Version 1' added to iteration: 18.\n",
      "Attachments: None\n",
      "Link to iteration: https://app.vectice.com/browse/iteration/ITR-1628\n",
      "\n",
      "New dataset: \"'PHA-3855'-df2\" version: 'Version 1' added to iteration: 18.\n",
      "Attachments: None\n",
      "Link to iteration: https://app.vectice.com/browse/iteration/ITR-1628\n",
      "\n",
      "New dataset: \"'PHA-3855'-X\" version: 'Version 1' added to iteration: 18.\n",
      "Attachments: None\n",
      "Link to iteration: https://app.vectice.com/browse/iteration/ITR-1628\n",
      "\n",
      "New dataset: \"'PHA-3855'-train_x\" version: 'Version 1' added to iteration: 18.\n",
      "Attachments: None\n",
      "Link to iteration: https://app.vectice.com/browse/iteration/ITR-1628\n",
      "\n",
      "New dataset: \"'PHA-3855'-test_x\" version: 'Version 1' added to iteration: 18.\n",
      "Attachments: None\n",
      "Link to iteration: https://app.vectice.com/browse/iteration/ITR-1628\n",
      "\n",
      "Model XGBClassifier successfully attached to Model(name=''PHA-3855'-XGB_model', version='Version 1').\n",
      "New model: \"'PHA-3855'-XGB_model\" version: 'Version 1' added to iteration: 18.\n",
      "Attachments: None\n",
      "Link to iteration: https://app.vectice.com/browse/iteration/ITR-1628\n",
      "\n",
      "Added image: 'Distributions.png' to iteration: 18.\n",
      "Link to iteration: https://app.vectice.com/browse/iteration/ITR-1628\n",
      "\n",
      "Added image: 'box_plot.png' to iteration: 18.\n",
      "Link to iteration: https://app.vectice.com/browse/iteration/ITR-1628\n",
      "\n"
     ]
    }
   ],
   "source": [
    "autolog.notebook()"
   ]
  },
  {
   "cell_type": "code",
   "execution_count": null,
   "id": "e611276e",
   "metadata": {},
   "outputs": [],
   "source": []
  }
 ],
 "metadata": {
  "kernelspec": {
   "display_name": "Python 3",
   "language": "python",
   "name": "python3"
  },
  "language_info": {
   "codemirror_mode": {
    "name": "ipython",
    "version": 3
   },
   "file_extension": ".py",
   "mimetype": "text/x-python",
   "name": "python",
   "nbconvert_exporter": "python",
   "pygments_lexer": "ipython3",
   "version": "3.9.6"
  },
  "papermill": {
   "default_parameters": {},
   "duration": 104.396425,
   "end_time": "2023-11-01T16:59:16.903490",
   "environment_variables": {},
   "exception": null,
   "input_path": "__notebook__.ipynb",
   "output_path": "__notebook__.ipynb",
   "parameters": {},
   "start_time": "2023-11-01T16:57:32.507065",
   "version": "2.4.0"
  }
 },
 "nbformat": 4,
 "nbformat_minor": 5
}
