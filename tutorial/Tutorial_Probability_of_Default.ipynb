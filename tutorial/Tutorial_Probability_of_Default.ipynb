{
 "cells": [
  {
   "cell_type": "markdown",
   "metadata": {},
   "source": [
    "\n",
    "# 🌟 Auto-document your work with Vectice - Tutorial Probability of Default Notebook\n",
    "\n",
    "This Vectice Tutorial notebook illustrates how to use Vectice auto-documentation features in a realistic business scenario. We will follow a classic but simplified model training flow to quickly show how Vectice can help you automate your **Model Documentation**."
   ]
  },
  {
   "cell_type": "markdown",
   "metadata": {},
   "source": [
    "<div class=\"alert\" style=\"color: #383d41; background-color: #e2e3e5; border-color: #d6d8db\" role=\"alert\">\n",
    "<b> This tutorial showcases a documentation-only project with a single phase as a great way to get started. You also have the ability to define more complex project structures to organize your work in multiple phases and facilitate cross-functional collaboration.</b>\n",
    "</div>"
   ]
  },
  {
   "cell_type": "markdown",
   "metadata": {},
   "source": [
    "### Pre-requisites:\n",
    "Before using this notebook you will need:\n",
    "* An account in Vectice\n",
    "* An API key to connect to Vectice through the APIs\n",
    "\n",
    "\n",
    "### Other Resources\n",
    "*   Vectice Documentation: https://docs.vectice.com/ </br>\n",
    "*   Vectice API documentation: https://api-docs.vectice.com/"
   ]
  },
  {
   "cell_type": "markdown",
   "metadata": {},
   "source": [
    "## Install the latest Vectice Python client library"
   ]
  },
  {
   "cell_type": "code",
   "execution_count": null,
   "metadata": {},
   "outputs": [],
   "source": [
    "%pip install -q vectice -U"
   ]
  },
  {
   "cell_type": "markdown",
   "metadata": {},
   "source": [
    "## Imports"
   ]
  },
  {
   "cell_type": "code",
   "execution_count": 1,
   "metadata": {
    "_cell_guid": "b1076dfc-b9ad-4769-8c92-a6c4dae69d19",
    "_uuid": "8f2839f25d086af736a60e9eeb907d3b93b6e0e5",
    "id": "FKTpQh5HeG-s"
   },
   "outputs": [],
   "source": [
    "import numpy as np\n",
    "import pandas as pd\n",
    "import json\n",
    "\n",
    "from sklearn.preprocessing import LabelEncoder\n",
    "\n",
    "import os\n",
    "import warnings\n",
    "warnings.filterwarnings('ignore')\n",
    "\n",
    "import matplotlib.pyplot as plt\n",
    "import seaborn as sns\n",
    "#Download the data\n",
    "!wget https://vectice-examples.s3.us-west-1.amazonaws.com/Samples+Data/tutorial_data.csv -q --no-check-certificate"
   ]
  },
  {
   "cell_type": "markdown",
   "metadata": {},
   "source": [
    "## 🌟 Get started by configuring the Vectice autolog"
   ]
  },
  {
   "cell_type": "markdown",
   "metadata": {},
   "source": [
    "**First, we need to authenticate to the Vectice app:**\n",
    "\n",
    "- Visit the Vectice app to create and copy an API key (cf. https://docs.vectice.com/getting-started/create-an-api-key)\n",
    "\n",
    "- Paste the API key in the code below\n",
    "\n"
   ]
  },
  {
   "cell_type": "code",
   "execution_count": null,
   "metadata": {
    "id": "WjNhaJcSeG-t",
    "outputId": "371e58e6-ea41-4513-b3d2-425f3853fea4"
   },
   "outputs": [],
   "source": [
    "import vectice\n",
    "from vectice import autolog\n",
    "\n",
    "autolog.config(api_token=\"7bOJe5EG5.VQyk8PgwBD40LNvx2mA3q7bOJe5EG5dM91ejznrpJVKRXWo6ZY\", #Paste your API key\n",
    "  host = 'https://trial.vectice.com',  #Paste your host information\n",
    "  phase = 'PHA-XXX', #Paste your Phase Id\n",
    "  prefix = 'mdd') # Optional: a prefix for asset names\n"
   ]
  },
  {
   "cell_type": "markdown",
   "metadata": {},
   "source": [
    "<div class=\"alert\" style=\"color: #383d41; background-color: #e2e3e5; border-color: #d6d8db\" role=\"alert\">\n",
    "<b> Important information:</b>\n",
    "<li> Vectice Autolog is continuously evolving and we are actively enhancing supported libraries, environments, and functionalities to provide an improved user experience. \n",
    "<li> Be sure to <b>configure autolog at the beginning of your notebook</b>. A late setup may require rerunning previous cells.\n",
    "<br>\n",
    "\n",
    "For detailed information, <b>supported libraries and environments</b>, please consult our [Autolog documentation](https://api-docs.vectice.com/reference/vectice/autolog/).\n",
    "</div>"
   ]
  },
  {
   "cell_type": "markdown",
   "metadata": {},
   "source": [
    "## (Optional) Retrieve from Vectice the list of requirements needed to complete your documentation directly from your notebook"
   ]
  },
  {
   "cell_type": "code",
   "execution_count": null,
   "metadata": {},
   "outputs": [
    {
     "name": "stderr",
     "output_type": "stream",
     "text": [
      "Phase 'Model Development Document' successfully retrieved.\n",
      "\n",
      "For quick access to the Phase in the Vectice web app, visit:\n",
      "https://qa.vectice.com/browse/phase/PHA-9859\n"
     ]
    },
    {
     "name": "stdout",
     "output_type": "stream",
     "text": [
      "There are 2 requirements in the phase 'Model Development Document' and a maximum of 10 requirements are displayed in the table below:\n",
      "\n"
     ]
    },
    {
     "data": {
      "text/html": [
       "<pre style=\"white-space:pre;overflow-x:auto;line-height:normal;font-family:Menlo,'DejaVu Sans Mono',consolas,'Courier New',monospace\"><span style=\"font-weight: bold\"> Title                                                          </span>┃<span style=\"font-weight: bold\"> Description                                           </span>\n",
       "━━━━━━━━━━━━━━━━━━━━━━━━━━━━━━━━━━━━━━━━━━━━━━━━━━━━━━━━━━━━━━━━╇━━━━━━━━━━━━━━━━━━━━━━━━━━━━━━━━━━━━━━━━━━━━━━━━━━━━━━━\n",
       " Notebook steps to properly populate your report                │ Build your training and testing dataset               \n",
       "                                                                │ Comment your feature engineering                      \n",
       "                                                                │ Build your model                                      \n",
       " Additional assets needed inside your notebook                  │ Feature importance graph with \"importance\" in the     \n",
       "                                                                │ file name                                             \n",
       "                                                                │ Performance graphs with \"performance\" in the file     \n",
       "                                                                │ name                                                  \n",
       "</pre>\n"
      ],
      "text/plain": [
       "\u001b[1m \u001b[0m\u001b[1mTitle                                                         \u001b[0m\u001b[1m \u001b[0m┃\u001b[1m \u001b[0m\u001b[1mDescription                                          \u001b[0m\u001b[1m \u001b[0m\n",
       "━━━━━━━━━━━━━━━━━━━━━━━━━━━━━━━━━━━━━━━━━━━━━━━━━━━━━━━━━━━━━━━━╇━━━━━━━━━━━━━━━━━━━━━━━━━━━━━━━━━━━━━━━━━━━━━━━━━━━━━━━\n",
       " Notebook steps to properly populate your report                │ Build your training and testing dataset               \n",
       "                                                                │ Comment your feature engineering                      \n",
       "                                                                │ Build your model                                      \n",
       " Additional assets needed inside your notebook                  │ Feature importance graph with \"importance\" in the     \n",
       "                                                                │ file name                                             \n",
       "                                                                │ Performance graphs with \"performance\" in the file     \n",
       "                                                                │ name                                                  \n"
      ]
     },
     "metadata": {},
     "output_type": "display_data"
    },
    {
     "name": "stdout",
     "output_type": "stream",
     "text": [
      "\n",
      "For quick access to the phase requirements in the Vectice web app, visit:\n",
      "https://qa.vectice.com/phase/PHA-9859/requirements\n",
      "\n",
      "\n"
     ]
    }
   ],
   "source": [
    "requirements = autolog.get_connection().browse('your-phase-id').list_requirements(display_print=True) # Paste your Phase Id same as in the previous cell"
   ]
  },
  {
   "cell_type": "markdown",
   "metadata": {},
   "source": [
    "# Start Your Regular Data Science Work -> Not specific to Vectice\n",
    "\n",
    "In this notebook, we will work on predicting the probability of loan default using a simplified yet complete data science workflow. Here's the plan:\n",
    "\n",
    "- Dataset Loading: \n",
    "  - Load a dataset containing information about loan default applications.\n",
    "  - Select a subset of the data.\n",
    "- Data Preparation:\n",
    "  - Perform small feature engineering tasks.\n",
    "  - Apply scaling to the features.\n",
    "- Model Building and Evaluation:\n",
    "  - Build a logistic regression model to predict the probability of loan default.\n",
    "  - Evaluate the results of the model.\n",
    "\n"
   ]
  },
  {
   "cell_type": "markdown",
   "metadata": {
    "_cell_guid": "a5e67831-4751-4f11-8e07-527e3e092671",
    "_uuid": "ded520f73b9e94ed47ac2e994a5fb1bcb9093d0f",
    "id": "yauz6m0neG-t"
   },
   "source": [
    "## Dataset Loading"
   ]
  },
  {
   "cell_type": "code",
   "execution_count": 5,
   "metadata": {
    "_cell_guid": "79c7e3d0-c299-4dcb-8224-4455121ee9b0",
    "_uuid": "d629ff2d2480ee46fbb7e2d37f6b5fab8052498a",
    "id": "ihF90pQqeG-u",
    "outputId": "76973532-e7b9-4277-a95d-756af8d6878c"
   },
   "outputs": [],
   "source": [
    "from sklearn.model_selection import train_test_split\n",
    "\n",
    "selected_columns = ['SK_ID_CURR','AMT_ANNUITY','AMT_CREDIT','AMT_INCOME_TOTAL','AMT_GOODS_PRICE','CNT_CHILDREN','CNT_FAM_MEMBERS',\n",
    "           'DAYS_BIRTH','DAYS_EMPLOYED','DAYS_REGISTRATION','DAYS_ID_PUBLISH', 'EXT_SOURCE_2', 'EXT_SOURCE_3', \"NAME_INCOME_TYPE\", \"TARGET\"]\n",
    "\n",
    "# Training data\n",
    "path_train = \"./tutorial_data.csv\"\n",
    "application_cleaned_baseline = pd.read_csv(path_train)[selected_columns]\n",
    "app_train_feat, app_test_feat = train_test_split(application_cleaned_baseline, test_size=0.15, random_state=42)\n",
    "\n",
    "\n"
   ]
  },
  {
   "cell_type": "markdown",
   "metadata": {},
   "source": [
    "### Split the data"
   ]
  },
  {
   "cell_type": "code",
   "execution_count": 6,
   "metadata": {},
   "outputs": [
    {
     "name": "stdout",
     "output_type": "stream",
     "text": [
      "Training data shape:  (119840, 15)\n",
      "Testing shape:  (21149, 14)\n",
      "Testing target shape:  (21149,)\n"
     ]
    }
   ],
   "source": [
    "\n",
    "# Separate the target variable from the testing set\n",
    "\n",
    "target_variable = 'TARGET'\n",
    "app_test_feat_target = app_test_feat[target_variable]\n",
    "app_test_feat = app_test_feat.drop(target_variable, axis=1)\n",
    "\n",
    "# Print the shapes of the resulting dataframes\n",
    "print('Training data shape: ', app_train_feat.shape)\n",
    "print('Testing shape: ', app_test_feat.shape)\n",
    "print('Testing target shape: ', app_test_feat_target.shape)"
   ]
  },
  {
   "cell_type": "code",
   "execution_count": 7,
   "metadata": {
    "id": "jDIEB3zieG-u",
    "outputId": "47b3b7ca-6fea-482d-9ec2-0c7cda227e93"
   },
   "outputs": [
    {
     "data": {
      "text/html": [
       "<div>\n",
       "<style scoped>\n",
       "    .dataframe tbody tr th:only-of-type {\n",
       "        vertical-align: middle;\n",
       "    }\n",
       "\n",
       "    .dataframe tbody tr th {\n",
       "        vertical-align: top;\n",
       "    }\n",
       "\n",
       "    .dataframe thead th {\n",
       "        text-align: right;\n",
       "    }\n",
       "</style>\n",
       "<table border=\"1\" class=\"dataframe\">\n",
       "  <thead>\n",
       "    <tr style=\"text-align: right;\">\n",
       "      <th></th>\n",
       "      <th>SK_ID_CURR</th>\n",
       "      <th>AMT_ANNUITY</th>\n",
       "      <th>AMT_CREDIT</th>\n",
       "      <th>AMT_INCOME_TOTAL</th>\n",
       "      <th>AMT_GOODS_PRICE</th>\n",
       "      <th>CNT_CHILDREN</th>\n",
       "      <th>CNT_FAM_MEMBERS</th>\n",
       "      <th>DAYS_BIRTH</th>\n",
       "      <th>DAYS_EMPLOYED</th>\n",
       "      <th>DAYS_REGISTRATION</th>\n",
       "      <th>DAYS_ID_PUBLISH</th>\n",
       "      <th>EXT_SOURCE_2</th>\n",
       "      <th>EXT_SOURCE_3</th>\n",
       "      <th>NAME_INCOME_TYPE</th>\n",
       "      <th>TARGET</th>\n",
       "    </tr>\n",
       "  </thead>\n",
       "  <tbody>\n",
       "    <tr>\n",
       "      <th>18653</th>\n",
       "      <td>121749</td>\n",
       "      <td>36459.0</td>\n",
       "      <td>755190.0</td>\n",
       "      <td>180000.0</td>\n",
       "      <td>675000.0</td>\n",
       "      <td>2</td>\n",
       "      <td>4.0</td>\n",
       "      <td>31</td>\n",
       "      <td>1744</td>\n",
       "      <td>389.0</td>\n",
       "      <td>1881</td>\n",
       "      <td>0.736804</td>\n",
       "      <td>0.656158</td>\n",
       "      <td>Working</td>\n",
       "      <td>0</td>\n",
       "    </tr>\n",
       "    <tr>\n",
       "      <th>10918</th>\n",
       "      <td>112711</td>\n",
       "      <td>14652.0</td>\n",
       "      <td>206059.5</td>\n",
       "      <td>90000.0</td>\n",
       "      <td>166500.0</td>\n",
       "      <td>0</td>\n",
       "      <td>1.0</td>\n",
       "      <td>53</td>\n",
       "      <td>1109</td>\n",
       "      <td>3631.0</td>\n",
       "      <td>2010</td>\n",
       "      <td>0.728145</td>\n",
       "      <td>NaN</td>\n",
       "      <td>Commercial associate</td>\n",
       "      <td>0</td>\n",
       "    </tr>\n",
       "    <tr>\n",
       "      <th>110177</th>\n",
       "      <td>227791</td>\n",
       "      <td>13842.0</td>\n",
       "      <td>127350.0</td>\n",
       "      <td>225000.0</td>\n",
       "      <td>112500.0</td>\n",
       "      <td>1</td>\n",
       "      <td>3.0</td>\n",
       "      <td>37</td>\n",
       "      <td>4557</td>\n",
       "      <td>4535.0</td>\n",
       "      <td>3984</td>\n",
       "      <td>0.539038</td>\n",
       "      <td>0.109626</td>\n",
       "      <td>Working</td>\n",
       "      <td>0</td>\n",
       "    </tr>\n",
       "    <tr>\n",
       "      <th>113497</th>\n",
       "      <td>231627</td>\n",
       "      <td>41215.5</td>\n",
       "      <td>1494000.0</td>\n",
       "      <td>472500.0</td>\n",
       "      <td>1494000.0</td>\n",
       "      <td>0</td>\n",
       "      <td>2.0</td>\n",
       "      <td>52</td>\n",
       "      <td>3413</td>\n",
       "      <td>1774.0</td>\n",
       "      <td>1166</td>\n",
       "      <td>0.558043</td>\n",
       "      <td>0.304672</td>\n",
       "      <td>Working</td>\n",
       "      <td>0</td>\n",
       "    </tr>\n",
       "    <tr>\n",
       "      <th>67086</th>\n",
       "      <td>177795</td>\n",
       "      <td>22351.5</td>\n",
       "      <td>398016.0</td>\n",
       "      <td>135000.0</td>\n",
       "      <td>360000.0</td>\n",
       "      <td>0</td>\n",
       "      <td>2.0</td>\n",
       "      <td>57</td>\n",
       "      <td>365243</td>\n",
       "      <td>5218.0</td>\n",
       "      <td>3314</td>\n",
       "      <td>0.599026</td>\n",
       "      <td>0.542445</td>\n",
       "      <td>Pensioner</td>\n",
       "      <td>0</td>\n",
       "    </tr>\n",
       "    <tr>\n",
       "      <th>...</th>\n",
       "      <td>...</td>\n",
       "      <td>...</td>\n",
       "      <td>...</td>\n",
       "      <td>...</td>\n",
       "      <td>...</td>\n",
       "      <td>...</td>\n",
       "      <td>...</td>\n",
       "      <td>...</td>\n",
       "      <td>...</td>\n",
       "      <td>...</td>\n",
       "      <td>...</td>\n",
       "      <td>...</td>\n",
       "      <td>...</td>\n",
       "      <td>...</td>\n",
       "      <td>...</td>\n",
       "    </tr>\n",
       "    <tr>\n",
       "      <th>110268</th>\n",
       "      <td>227897</td>\n",
       "      <td>13500.0</td>\n",
       "      <td>270000.0</td>\n",
       "      <td>202500.0</td>\n",
       "      <td>270000.0</td>\n",
       "      <td>2</td>\n",
       "      <td>4.0</td>\n",
       "      <td>43</td>\n",
       "      <td>104</td>\n",
       "      <td>5622.0</td>\n",
       "      <td>330</td>\n",
       "      <td>0.767108</td>\n",
       "      <td>0.372334</td>\n",
       "      <td>Working</td>\n",
       "      <td>0</td>\n",
       "    </tr>\n",
       "    <tr>\n",
       "      <th>119879</th>\n",
       "      <td>239009</td>\n",
       "      <td>32602.5</td>\n",
       "      <td>675000.0</td>\n",
       "      <td>121500.0</td>\n",
       "      <td>675000.0</td>\n",
       "      <td>0</td>\n",
       "      <td>1.0</td>\n",
       "      <td>39</td>\n",
       "      <td>1124</td>\n",
       "      <td>3813.0</td>\n",
       "      <td>4134</td>\n",
       "      <td>0.617180</td>\n",
       "      <td>NaN</td>\n",
       "      <td>Working</td>\n",
       "      <td>0</td>\n",
       "    </tr>\n",
       "    <tr>\n",
       "      <th>103694</th>\n",
       "      <td>220345</td>\n",
       "      <td>41463.0</td>\n",
       "      <td>1503000.0</td>\n",
       "      <td>202500.0</td>\n",
       "      <td>1503000.0</td>\n",
       "      <td>0</td>\n",
       "      <td>2.0</td>\n",
       "      <td>49</td>\n",
       "      <td>1557</td>\n",
       "      <td>8992.0</td>\n",
       "      <td>1651</td>\n",
       "      <td>0.656705</td>\n",
       "      <td>NaN</td>\n",
       "      <td>Working</td>\n",
       "      <td>0</td>\n",
       "    </tr>\n",
       "    <tr>\n",
       "      <th>131932</th>\n",
       "      <td>253016</td>\n",
       "      <td>33025.5</td>\n",
       "      <td>1125000.0</td>\n",
       "      <td>450000.0</td>\n",
       "      <td>1125000.0</td>\n",
       "      <td>0</td>\n",
       "      <td>1.0</td>\n",
       "      <td>39</td>\n",
       "      <td>5929</td>\n",
       "      <td>5038.0</td>\n",
       "      <td>5123</td>\n",
       "      <td>0.608427</td>\n",
       "      <td>0.554947</td>\n",
       "      <td>Working</td>\n",
       "      <td>0</td>\n",
       "    </tr>\n",
       "    <tr>\n",
       "      <th>121958</th>\n",
       "      <td>241394</td>\n",
       "      <td>35239.5</td>\n",
       "      <td>729792.0</td>\n",
       "      <td>157500.0</td>\n",
       "      <td>630000.0</td>\n",
       "      <td>0</td>\n",
       "      <td>2.0</td>\n",
       "      <td>36</td>\n",
       "      <td>733</td>\n",
       "      <td>3034.0</td>\n",
       "      <td>4449</td>\n",
       "      <td>0.408400</td>\n",
       "      <td>0.275000</td>\n",
       "      <td>Working</td>\n",
       "      <td>1</td>\n",
       "    </tr>\n",
       "  </tbody>\n",
       "</table>\n",
       "<p>119840 rows × 15 columns</p>\n",
       "</div>"
      ],
      "text/plain": [
       "        SK_ID_CURR  AMT_ANNUITY  AMT_CREDIT  AMT_INCOME_TOTAL  \\\n",
       "18653       121749      36459.0    755190.0          180000.0   \n",
       "10918       112711      14652.0    206059.5           90000.0   \n",
       "110177      227791      13842.0    127350.0          225000.0   \n",
       "113497      231627      41215.5   1494000.0          472500.0   \n",
       "67086       177795      22351.5    398016.0          135000.0   \n",
       "...            ...          ...         ...               ...   \n",
       "110268      227897      13500.0    270000.0          202500.0   \n",
       "119879      239009      32602.5    675000.0          121500.0   \n",
       "103694      220345      41463.0   1503000.0          202500.0   \n",
       "131932      253016      33025.5   1125000.0          450000.0   \n",
       "121958      241394      35239.5    729792.0          157500.0   \n",
       "\n",
       "        AMT_GOODS_PRICE  CNT_CHILDREN  CNT_FAM_MEMBERS  DAYS_BIRTH  \\\n",
       "18653          675000.0             2              4.0          31   \n",
       "10918          166500.0             0              1.0          53   \n",
       "110177         112500.0             1              3.0          37   \n",
       "113497        1494000.0             0              2.0          52   \n",
       "67086          360000.0             0              2.0          57   \n",
       "...                 ...           ...              ...         ...   \n",
       "110268         270000.0             2              4.0          43   \n",
       "119879         675000.0             0              1.0          39   \n",
       "103694        1503000.0             0              2.0          49   \n",
       "131932        1125000.0             0              1.0          39   \n",
       "121958         630000.0             0              2.0          36   \n",
       "\n",
       "        DAYS_EMPLOYED  DAYS_REGISTRATION  DAYS_ID_PUBLISH  EXT_SOURCE_2  \\\n",
       "18653            1744              389.0             1881      0.736804   \n",
       "10918            1109             3631.0             2010      0.728145   \n",
       "110177           4557             4535.0             3984      0.539038   \n",
       "113497           3413             1774.0             1166      0.558043   \n",
       "67086          365243             5218.0             3314      0.599026   \n",
       "...               ...                ...              ...           ...   \n",
       "110268            104             5622.0              330      0.767108   \n",
       "119879           1124             3813.0             4134      0.617180   \n",
       "103694           1557             8992.0             1651      0.656705   \n",
       "131932           5929             5038.0             5123      0.608427   \n",
       "121958            733             3034.0             4449      0.408400   \n",
       "\n",
       "        EXT_SOURCE_3      NAME_INCOME_TYPE  TARGET  \n",
       "18653       0.656158               Working       0  \n",
       "10918            NaN  Commercial associate       0  \n",
       "110177      0.109626               Working       0  \n",
       "113497      0.304672               Working       0  \n",
       "67086       0.542445             Pensioner       0  \n",
       "...              ...                   ...     ...  \n",
       "110268      0.372334               Working       0  \n",
       "119879           NaN               Working       0  \n",
       "103694           NaN               Working       0  \n",
       "131932      0.554947               Working       0  \n",
       "121958      0.275000               Working       1  \n",
       "\n",
       "[119840 rows x 15 columns]"
      ]
     },
     "execution_count": 7,
     "metadata": {},
     "output_type": "execute_result"
    }
   ],
   "source": [
    "app_train_feat"
   ]
  },
  {
   "cell_type": "markdown",
   "metadata": {
    "_cell_guid": "86d1b309-5524-4298-b873-2c1c09eddec6",
    "_uuid": "1b49e667293daabffd8a4b2b6d02cf44bf6a3ba8",
    "id": "XoDuFM19eG-u"
   },
   "source": [
    "# Data preparation"
   ]
  },
  {
   "cell_type": "markdown",
   "metadata": {
    "_cell_guid": "95627792-157e-457a-88a8-3b3875c7e1d5",
    "_uuid": "46f5bf9a6de52e270aa911ffd895e704da5426ec",
    "id": "KtEi7L-YeG-u"
   },
   "source": [
    "### One-Hot Encoding"
   ]
  },
  {
   "cell_type": "code",
   "execution_count": 8,
   "metadata": {
    "_cell_guid": "70641d4d-1075-4837-8972-e58d70d8f242",
    "_uuid": "ddfaae5c3dcc7ec6bb47a2dffc10d364e8d25355",
    "id": "6-WcdOGLeG-u",
    "outputId": "cbef08cd-6b53-40db-8c80-5261268fc89b"
   },
   "outputs": [
    {
     "name": "stdout",
     "output_type": "stream",
     "text": [
      "0 columns were label encoded.\n"
     ]
    }
   ],
   "source": [
    "# Create a label encoder object\n",
    "le = LabelEncoder()\n",
    "le_count = 0\n",
    "\n",
    "for col in app_train_feat:\n",
    "    if app_train_feat[col].dtype == 'object':\n",
    "        if len(list(app_train_feat[col].unique())) <= 2:\n",
    "            le.fit(app_train_feat[col])\n",
    "            app_train_feat[col] = le.transform(app_train_feat[col])\n",
    "            app_test_feat[col] = le.transform(app_test_feat[col])\n",
    "\n",
    "            le_count += 1\n",
    "\n",
    "print('%d columns were label encoded.' % le_count)"
   ]
  },
  {
   "cell_type": "code",
   "execution_count": 9,
   "metadata": {
    "_cell_guid": "0851773b-39fd-4cf0-9a66-e30adeef3e57",
    "_uuid": "6796c6dc793a08e162b6e20c6f185ef37bdf51f3",
    "id": "vf6eQZe9eG-v",
    "outputId": "88b77463-ade7-4630-8e96-f64096ca16fd"
   },
   "outputs": [
    {
     "name": "stdout",
     "output_type": "stream",
     "text": [
      "Training Features shape:  (119840, 20)\n",
      "Testing Features shape:  (21149, 19)\n",
      "There are 3769 anomalies in the test data out of 21149 entries\n"
     ]
    }
   ],
   "source": [
    "# one-hot encoding of categorical variables\n",
    "app_train_feat = pd.get_dummies(app_train_feat)\n",
    "app_test_feat = pd.get_dummies(app_test_feat)\n",
    "train_labels = app_train_feat['TARGET']\n",
    "\n",
    "app_train_feat, app_test_feat = app_train_feat.align(app_test_feat, join = 'inner', axis = 1)\n",
    "\n",
    "app_train_feat['TARGET'] = train_labels\n",
    "\n",
    "\n",
    "app_train_feat['DAYS_EMPLOYED_ANOM'] = app_train_feat[\"DAYS_EMPLOYED\"] == 365243\n",
    "\n",
    "app_train_feat['DAYS_EMPLOYED'].replace({365243: np.nan}, inplace = True)\n",
    "\n",
    "\n",
    "app_test_feat['DAYS_EMPLOYED_ANOM'] = app_test_feat[\"DAYS_EMPLOYED\"] == 365243\n",
    "app_test_feat[\"DAYS_EMPLOYED\"].replace({365243: np.nan}, inplace = True)\n",
    "print('Training Features shape: ', app_train_feat.shape)\n",
    "print('Testing Features shape: ', app_test_feat.shape)\n",
    "print('There are %d anomalies in the test data out of %d entries' % (app_test_feat[\"DAYS_EMPLOYED_ANOM\"].sum(), len(app_test_feat)))"
   ]
  },
  {
   "cell_type": "markdown",
   "metadata": {},
   "source": [
    "## Scaling and missing Data handling\n",
    "\n",
    "### Define the feature list - drop target and fit data"
   ]
  },
  {
   "cell_type": "code",
   "execution_count": 10,
   "metadata": {
    "id": "izVPFh52eG-v",
    "outputId": "55cca63b-8244-4ded-8ba9-fdf1054c3d9d"
   },
   "outputs": [
    {
     "name": "stdout",
     "output_type": "stream",
     "text": [
      "            AMT_ANNUITY  AMT_CREDIT  AMT_INCOME_TOTAL  AMT_GOODS_PRICE  \\\n",
      "SK_ID_CURR                                                               \n",
      "121749         0.644573    0.387763          0.031120         0.369729   \n",
      "112711        -0.855855   -0.974421         -0.224359        -1.004173   \n",
      "227791        -0.911587   -1.169670          0.158859        -1.150074   \n",
      "231627         0.971844    2.220470          0.861426         2.582562   \n",
      "177795        -0.326092   -0.498250         -0.096620        -0.481361   \n",
      "\n",
      "            CNT_CHILDREN  CNT_FAM_MEMBERS  DAYS_BIRTH  DAYS_EMPLOYED  \\\n",
      "SK_ID_CURR                                                             \n",
      "121749          2.193229         2.027064   -1.035503      -0.234636   \n",
      "112711         -0.579630        -1.270135    0.803345      -0.532329   \n",
      "227791          0.806799         0.927997   -0.533999       1.084120   \n",
      "231627         -0.579630        -0.171069    0.719761       0.547804   \n",
      "177795         -0.579630        -0.171069    1.137681      -0.281048   \n",
      "\n",
      "            DAYS_REGISTRATION  DAYS_ID_PUBLISH  EXT_SOURCE_2  EXT_SOURCE_3  \\\n",
      "SK_ID_CURR                                                                   \n",
      "121749              -1.302733        -0.736182      1.164634      0.805803   \n",
      "112711              -0.383114        -0.650777      1.119494      0.114097   \n",
      "227791              -0.126688         0.656120      0.133737     -2.321536   \n",
      "231627              -0.909867        -1.209551      0.232807     -1.205455   \n",
      "177795               0.067050         0.212543      0.446438      0.155119   \n",
      "\n",
      "            NAME_INCOME_TYPE_Commercial associate  NAME_INCOME_TYPE_Pensioner  \\\n",
      "SK_ID_CURR                                                                      \n",
      "121749                                  -0.550047                   -0.468042   \n",
      "112711                                   1.818025                   -0.468042   \n",
      "227791                                  -0.550047                   -0.468042   \n",
      "231627                                  -0.550047                   -0.468042   \n",
      "177795                                  -0.550047                    2.136561   \n",
      "\n",
      "            NAME_INCOME_TYPE_State servant  NAME_INCOME_TYPE_Unemployed  \\\n",
      "SK_ID_CURR                                                                \n",
      "121749                           -0.274074                    -0.009135   \n",
      "112711                           -0.274074                    -0.009135   \n",
      "227791                           -0.274074                    -0.009135   \n",
      "231627                           -0.274074                    -0.009135   \n",
      "177795                           -0.274074                    -0.009135   \n",
      "\n",
      "            NAME_INCOME_TYPE_Working  DAYS_EMPLOYED_ANOM  \n",
      "SK_ID_CURR                                                \n",
      "121749                      0.964756           -0.468082  \n",
      "112711                     -1.036531           -0.468082  \n",
      "227791                      0.964756           -0.468082  \n",
      "231627                      0.964756           -0.468082  \n",
      "177795                     -1.036531            2.136380  \n",
      "            AMT_ANNUITY  AMT_CREDIT  AMT_INCOME_TOTAL  AMT_GOODS_PRICE  \\\n",
      "SK_ID_CURR                                                               \n",
      "132234        -0.684015   -0.853763         -0.160489        -0.846114   \n",
      "258321        -0.774115   -0.593335          0.031120        -0.615104   \n",
      "242520        -0.044336    0.746981         -0.288229         0.977650   \n",
      "152205         0.090040    0.182524         -0.186037         0.114402   \n",
      "107126        -0.581220   -0.780088         -0.288229        -0.846114   \n",
      "\n",
      "            CNT_CHILDREN  CNT_FAM_MEMBERS  DAYS_BIRTH  DAYS_EMPLOYED  \\\n",
      "SK_ID_CURR                                                             \n",
      "132234         -0.579630        -1.270135    1.889937      -0.281048   \n",
      "258321         -0.579630        -0.171069    0.719761      -0.518264   \n",
      "242520          0.806799         0.927997    0.218257      -0.281048   \n",
      "152205          0.806799         0.927997   -0.617583      -0.817832   \n",
      "107126         -0.579630        -0.171069    1.889937      -0.281048   \n",
      "\n",
      "            DAYS_REGISTRATION  DAYS_ID_PUBLISH  EXT_SOURCE_2  EXT_SOURCE_3  \\\n",
      "SK_ID_CURR                                                                   \n",
      "132234              -0.553309         0.842819     -0.023215     -0.932692   \n",
      "258321              -0.046129        -0.168801      0.858307     -2.136338   \n",
      "242520               1.072901        -1.745816      0.481874      0.114097   \n",
      "152205              -1.141331         1.110290     -1.106735     -2.019317   \n",
      "107126               1.255293         0.900418      0.774265      0.906924   \n",
      "\n",
      "            NAME_INCOME_TYPE_Commercial associate  NAME_INCOME_TYPE_Pensioner  \\\n",
      "SK_ID_CURR                                                                      \n",
      "132234                                  -0.550047                    2.136561   \n",
      "258321                                  -0.550047                   -0.468042   \n",
      "242520                                  -0.550047                    2.136561   \n",
      "152205                                  -0.550047                   -0.468042   \n",
      "107126                                  -0.550047                    2.136561   \n",
      "\n",
      "            NAME_INCOME_TYPE_State servant  NAME_INCOME_TYPE_Unemployed  \\\n",
      "SK_ID_CURR                                                                \n",
      "132234                           -0.274074                    -0.009135   \n",
      "258321                            3.648653                    -0.009135   \n",
      "242520                           -0.274074                    -0.009135   \n",
      "152205                           -0.274074                    -0.009135   \n",
      "107126                           -0.274074                    -0.009135   \n",
      "\n",
      "            NAME_INCOME_TYPE_Working  DAYS_EMPLOYED_ANOM  \n",
      "SK_ID_CURR                                                \n",
      "132234                     -1.036531            2.136380  \n",
      "258321                     -1.036531           -0.468082  \n",
      "242520                     -1.036531            2.136380  \n",
      "152205                      0.964756           -0.468082  \n",
      "107126                     -1.036531            2.136380  \n"
     ]
    }
   ],
   "source": [
    "from sklearn.impute import SimpleImputer\n",
    "from sklearn.preprocessing import StandardScaler\n",
    "\n",
    "# Drop the target from the training data\n",
    "if 'TARGET' in app_train_feat:\n",
    "    train_no_missing = app_train_feat.drop(columns=['TARGET'])\n",
    "\n",
    "# Separate 'SK_ID_CURR'\n",
    "train_ids = train_no_missing['SK_ID_CURR']\n",
    "test_ids = app_test_feat['SK_ID_CURR']\n",
    "\n",
    "# Drop 'SK_ID_CURR' from the features list\n",
    "train_no_missing = train_no_missing.drop(columns=['SK_ID_CURR'])\n",
    "test_no_missing = app_test_feat.drop(columns=['SK_ID_CURR'])\n",
    "\n",
    "# Define the features list without 'SK_ID_CURR'\n",
    "features = list(train_no_missing.columns)\n",
    "\n",
    "# Median imputation of missing values\n",
    "imputer = SimpleImputer(strategy='median')\n",
    "# Fit on the training data\n",
    "imputer.fit(train_no_missing)\n",
    "\n",
    "# Transform both training and testing data\n",
    "train_no_missing = pd.DataFrame(imputer.transform(train_no_missing), columns=features)\n",
    "test_no_missing = pd.DataFrame(imputer.transform(test_no_missing), columns=features)\n",
    "\n",
    "# Standardize the features\n",
    "scaler = StandardScaler()\n",
    "# Fit on the training data\n",
    "scaler.fit(train_no_missing)\n",
    "\n",
    "# Transform both training and testing data\n",
    "train_no_missing = pd.DataFrame(scaler.transform(train_no_missing), columns=features)\n",
    "test_no_missing = pd.DataFrame(scaler.transform(test_no_missing), columns=features)\n",
    "\n",
    "# Reattach 'SK_ID_CURR' to the DataFrames\n",
    "train_no_missing['SK_ID_CURR'] = train_ids.values\n",
    "test_no_missing['SK_ID_CURR'] = test_ids.values\n",
    "\n",
    "# Set 'SK_ID_CURR' as the index\n",
    "train_no_missing = train_no_missing.set_index('SK_ID_CURR')\n",
    "test_no_missing = test_no_missing.set_index('SK_ID_CURR')\n",
    "\n",
    "# Display the first few rows of the transformed training data\n",
    "print(train_no_missing.head())\n",
    "print(test_no_missing.head())"
   ]
  },
  {
   "cell_type": "markdown",
   "metadata": {
    "id": "FnFFx0z-eG-v"
   },
   "source": [
    "# Model building and evaluation\n",
    "### Logistic Regression Model"
   ]
  },
  {
   "cell_type": "code",
   "execution_count": null,
   "metadata": {
    "id": "mrCueQ_JeG-v",
    "outputId": "1220d525-1e6c-42f2-e39c-751c92d053ee"
   },
   "outputs": [
    {
     "name": "stdout",
     "output_type": "stream",
     "text": [
      "ROC AUC Score: 0.7292598143943803\n",
      "F1 Score: 0.2672732442422519\n",
      "Recall Score: 0.5383734249713631\n"
     ]
    },
    {
     "data": {
      "image/png": "[encoded data removed]",
      "text/plain": [
       "<Figure size 800x800 with 1 Axes>"
      ]
     },
     "metadata": {},
     "output_type": "display_data"
    },
    {
     "data": {
      "image/png": "[encoded data removed]",
      "text/plain": [
       "<Figure size 1000x600 with 1 Axes>"
      ]
     },
     "metadata": {},
     "output_type": "display_data"
    }
   ],
   "source": [
    "from sklearn.linear_model import LogisticRegression\n",
    "from sklearn.metrics import roc_auc_score, f1_score, recall_score, roc_curve, auc\n",
    "import matplotlib.pyplot as plt\n",
    "import pandas as pd\n",
    "import numpy as np\n",
    "\n",
    "# Build a logistic regression model\n",
    "# Define and train the logistic regression model\n",
    "logistic_regression = LogisticRegression(random_state=50, solver='liblinear', max_iter=1000)\n",
    "features = list(train_no_missing.columns)\n",
    "# Train on the training data\n",
    "logistic_regression.fit(train_no_missing, train_labels)\n",
    "\n",
    "# Make predictions on the test data\n",
    "predictions = logistic_regression.predict_proba(test_no_missing)[:, 1]\n",
    "\n",
    "# Evaluate the model\n",
    "roc_auc = roc_auc_score(app_test_feat_target.values, predictions)\n",
    "\n",
    "sorted_indices = np.argsort(predictions)[::-1]\n",
    "sorted_labels = app_test_feat_target.iloc[sorted_indices]\n",
    "\n",
    "desired_percentage = 0.25\n",
    "\n",
    "threshold_index = int(desired_percentage * len(predictions))\n",
    "threshold_probability = predictions[sorted_indices[threshold_index]]\n",
    "binary_predictions = (predictions >= threshold_probability).astype(int)\n",
    "\n",
    "# Calculate the recall at the desired percentage\n",
    "recall = recall_score(app_test_feat_target.values, binary_predictions)\n",
    "f1 = f1_score(app_test_feat_target.values, binary_predictions)\n",
    "\n",
    "# Print metrics\n",
    "metric = {\"auc\": float(roc_auc),\n",
    "          f\"recall at {desired_percentage}%\": float(recall),\n",
    "          f\"f1_score at {desired_percentage}%\": float(f1)}\n",
    "\n",
    "print(\"ROC AUC Score:\", roc_auc)\n",
    "print(\"F1 Score:\", f1)\n",
    "print(\"Recall Score:\", recall)\n",
    "\n",
    "# Plot ROC curve\n",
    "fpr, tpr, thresholds = roc_curve(app_test_feat_target.values, predictions)\n",
    "roc_auc = auc(fpr, tpr)\n",
    "\n",
    "plt.figure(figsize=(8, 8))\n",
    "plt.plot(fpr, tpr, color='darkorange', lw=2, label='ROC curve (area = {:.2f})'.format(roc_auc))\n",
    "plt.plot([0, 1], [0, 1], color='navy', lw=2, linestyle='--')\n",
    "plt.xlabel('False Positive Rate')\n",
    "plt.ylabel('True Positive Rate')\n",
    "plt.title('Receiver Operating Characteristic (ROC) Curve')\n",
    "plt.legend(loc=\"lower right\")\n",
    "plt.savefig(\"Performance_roc_curve.png\")\n",
    "plt.show()\n",
    "\n",
    "# Create a DataFrame with predicted probabilities and true labels\n",
    "df_results = pd.DataFrame({'Probability': predictions, 'Default': app_test_feat_target.values})\n",
    "\n",
    "# Sort instances based on predicted probabilities\n",
    "df_results = df_results.sort_values(by='Probability', ascending=False)\n",
    "\n",
    "# Divide the sorted instances into quantiles (e.g., deciles)\n",
    "num_quantiles = 10\n",
    "df_results['Quantile'] = pd.qcut(df_results['Probability'], q=num_quantiles, labels=False, duplicates='drop')\n",
    "\n",
    "# Calculate the percentage of defaults in each quantile\n",
    "quantile_defaults = df_results.groupby('Quantile')['Default'].mean() * 100\n",
    "del df_results #To not be captured by autolog\n",
    "# Plot the results\n",
    "plt.figure(figsize=(10, 6))\n",
    "plt.bar(quantile_defaults.index, quantile_defaults.values, color='blue', alpha=0.7)\n",
    "plt.xlabel('Quantile of predicted probabilities')\n",
    "plt.ylabel('Percentage of Defaults')\n",
    "plt.title('Percentage of Defaults by Quantile of Predicted Probabilities')\n",
    "plt.xticks(ticks=quantile_defaults.index, labels=[f'Q{i + 1}' for i in quantile_defaults.index])\n",
    "plt.savefig(\"Performance_Percentage_of_Defaults_by_Quantile.png\")\n",
    "plt.show()\n"
   ]
  },
  {
   "cell_type": "markdown",
   "metadata": {},
   "source": [
    "### Feature importance"
   ]
  },
  {
   "cell_type": "code",
   "execution_count": 12,
   "metadata": {},
   "outputs": [],
   "source": [
    "def plot_feature_importance(model, column_names):\n",
    "    # Extract feature importance (coefficients) and their absolute values\n",
    "    coefficients = model.coef_[0]\n",
    "    feature_importance = np.abs(coefficients)\n",
    "\n",
    "    # Create a DataFrame for easier visualization\n",
    "    importance_df = pd.DataFrame({\n",
    "        'Feature': column_names,\n",
    "        'Importance': feature_importance\n",
    "    }).sort_values(by='Importance', ascending=False)\n",
    "\n",
    "    # Plot feature importance\n",
    "    plt.figure(figsize=(10, 6))\n",
    "    plt.barh(importance_df['Feature'], importance_df['Importance'], align='center')\n",
    "    plt.gca().invert_yaxis()  # Reverse the order for better visualization\n",
    "    plt.title('Feature Importance in Logistic Regression')\n",
    "    plt.xlabel('Importance (Absolute Coefficient Value)')\n",
    "    plt.ylabel('Feature')\n",
    "\n",
    "    # Adjust layout to avoid cutting labels\n",
    "    plt.tight_layout()\n",
    "    plt.savefig('Feature Importance.png')\n",
    "    plt.show()"
   ]
  },
  {
   "cell_type": "code",
   "execution_count": 13,
   "metadata": {},
   "outputs": [
    {
     "data": {
      "image/png": "[encoded data removed]",
      "text/plain": [
       "<Figure size 1000x600 with 1 Axes>"
      ]
     },
     "metadata": {},
     "output_type": "display_data"
    }
   ],
   "source": [
    "plot_feature_importance(logistic_regression, train_no_missing.columns)"
   ]
  },
  {
   "cell_type": "markdown",
   "metadata": {},
   "source": [
    "# 🌟 Once done with your regular data science work -> Autolog your entire notebook\n",
    "**With one single line of code Autolog all your assets (Model, Dataset, Graphs, Notes, Test Results).**"
   ]
  },
  {
   "cell_type": "code",
   "execution_count": 14,
   "metadata": {
    "id": "FnrKcTdweG-v",
    "outputId": "b04294e4-f52f-463d-b289-871628e050e7"
   },
   "outputs": [
    {
     "name": "stderr",
     "output_type": "stream",
     "text": [
      "New Iteration 'Iteration 1' created.\n",
      "\n",
      "For quick access to the Iteration in the Vectice web app, visit:\n",
      "https://qa.vectice.com/browse/iteration/ITR-10264\n",
      "File: ./tutorial_data.csv wrapped successfully.\n",
      "Note logged in iteration 'Iteration 1'.\n",
      "Dataset 'mdd-application_cleaned_baseline' logged in iteration 'Iteration 1'.\n",
      "Dataset 'mdd-app_train_feat' logged in iteration 'Iteration 1'.\n",
      "Dataset 'mdd-app_test_feat' logged in iteration 'Iteration 1'.\n",
      "Dataset 'mdd-train_no_missing' logged in iteration 'Iteration 1'.\n",
      "Dataset 'mdd-test_no_missing' logged in iteration 'Iteration 1'.\n",
      "Model 'mdd-logistic_regression' logged in iteration 'Iteration 1'.\n",
      "Graph 'Performance_roc_curve.png' logged in iteration 'Iteration 1'.\n",
      "Graph 'Performance_Percentage_of_Defaults_by_Quantile.png' logged in iteration 'Iteration 1'.\n",
      "Graph 'Feature Importance.png' logged in iteration 'Iteration 1'.\n"
     ]
    }
   ],
   "source": [
    "autolog.notebook(note= \"Baseline model logistic regression\", capture_schema_only=False)"
   ]
  },
  {
   "cell_type": "markdown",
   "metadata": {},
   "source": [
    "#### You have logged your assets to Vectice with a single line of code.\n",
    "\n",
    "**Note**: Vectice also offers a full API to wrap any assets you want to log and give you more control: https://api-docs.vectice.com/<br>"
   ]
  },
  {
   "cell_type": "markdown",
   "metadata": {},
   "source": [
    "## 🥇 Congrats! You have learned how to successfully use Vectice to autolog your work in one line of code.<br> Easy right?<br>\n",
    "# 🌟You can proceed back to the Vectice app to auto-document your work.\n"
   ]
  }
 ],
 "metadata": {
  "colab": {
   "provenance": []
  },
  "kernelspec": {
   "display_name": "3.11.3",
   "language": "python",
   "name": "python3"
  },
  "language_info": {
   "codemirror_mode": {
    "name": "ipython",
    "version": 3
   },
   "file_extension": ".py",
   "mimetype": "text/x-python",
   "name": "python",
   "nbconvert_exporter": "python",
   "pygments_lexer": "ipython3",
   "version": "3.11.3"
  }
 },
 "nbformat": 4,
 "nbformat_minor": 4
}
