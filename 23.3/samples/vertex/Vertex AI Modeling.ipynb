{
 "cells": [
  {
   "cell_type": "markdown",
   "id": "267a5abb-312f-436f-99ee-43b9bba7a743",
   "metadata": {},
   "source": [
    "# Before you start with this Modeling Notebook\n",
    "\n",
    "This notebook is part of the Vectice tutorial project notebook series. It illustrates how the forcast model was trained in the \"Modeling\" phase of the **\"Tutorial: Forecast in store-unit sales\"** project you can find in your personal Vectice workspace.\n",
    "\n",
    "### Pre-requisites:\n",
    "Before using this notebook you will need:\n",
    "* An account in Vectice\n",
    "* An API token to connect to Vectice through the APIs\n",
    "* The Phase Id of the project where you want to log your work\n",
    "\n",
    "Refer to Vectice Tutorial Guide for more detailed instructions: https://docs.vectice.com/getting-started/tutorial\n",
    "\n",
    "\n",
    "### Other Resources\n",
    "*   Vectice Documentation: https://docs.vectice.com/ </br>\n",
    "*   Vectice API documentation: https://api-docs.vectice.com/"
   ]
  },
  {
   "cell_type": "code",
   "execution_count": null,
   "id": "8b0ced23-cc10-4fd0-b1d3-b032efb3fcfc",
   "metadata": {},
   "outputs": [],
   "source": [
    "import warnings\n",
    "warnings.filterwarnings(\"ignore\", category=DeprecationWarning)"
   ]
  },
  {
   "cell_type": "markdown",
   "id": "9c94ff6a-2eb2-4a27-8ee4-2b9712b47b17",
   "metadata": {},
   "source": [
    "## Install the latest Vectice Python client library"
   ]
  },
  {
   "cell_type": "code",
   "execution_count": null,
   "id": "8fd7daee",
   "metadata": {},
   "outputs": [],
   "source": [
    "%pip install --q vectice -U"
   ]
  },
  {
   "cell_type": "code",
   "execution_count": null,
   "id": "9925c2b4-1873-42ba-a487-6ba08c71df12",
   "metadata": {},
   "outputs": [],
   "source": [
    "import pandas as pd\n",
    "import numpy as np\n",
    "import matplotlib.pyplot as plt\n",
    "from sklearn.model_selection import train_test_split\n",
    "from sklearn.metrics import mean_absolute_error\n",
    "from sklearn.linear_model import Ridge\n",
    "from sklearn.pipeline import make_pipeline\n",
    "from sklearn.compose import ColumnTransformer\n",
    "from sklearn.preprocessing import OneHotEncoder, StandardScaler"
   ]
  },
  {
   "cell_type": "code",
   "execution_count": null,
   "id": "d47121b6-acfc-46bd-827d-493c068eb4b4",
   "metadata": {},
   "outputs": [],
   "source": [
    "from google.cloud import aiplatform"
   ]
  },
  {
   "cell_type": "markdown",
   "id": "e4b94319-e1d0-4a0b-baf6-0eb59ed5e06e",
   "metadata": {},
   "source": [
    "## Get started by connecting to Vectice\n",
    "\n",
    "You can learn more about the `Connection` object in the [documentation](https://api-docs.vectice.com/reference/vectice/connection/)"
   ]
  },
  {
   "cell_type": "markdown",
   "id": "0bb00473",
   "metadata": {},
   "source": [
    "<div class=\"alert\" style=\"color: #383d41; background-color: #e2e3e5; border-color: #d6d8db\" role=\"alert\">\n",
    "<b>Automated code lineage:</b> The code lineage functionalities are not covered as part of this Tutorial as they require to first setting up a Git repository.\n",
    "</div>"
   ]
  },
  {
   "cell_type": "markdown",
   "id": "a6d77236",
   "metadata": {},
   "source": [
    "**First, we need to authenticate to the Vectice server. Before proceeding further:**\n",
    "\n",
    "- Visit the Vectice app to create and copy an API token (cf. https://docs.vectice.com/getting-started/create-an-api-token)\n",
    "\n",
    "- Paste the API token in the code below"
   ]
  },
  {
   "cell_type": "code",
   "execution_count": null,
   "id": "f15b5e87-ceea-41cf-90f2-11fa6c7b4633",
   "metadata": {},
   "outputs": [],
   "source": [
    "import vectice\n",
    "\n",
    "vec = vectice.connect(api_token=\"my-api-token\") #Paste your API token"
   ]
  },
  {
   "cell_type": "markdown",
   "id": "14681ed0-a7c5-4175-b95c-87186fb28bc2",
   "metadata": {},
   "source": [
    "## Specify which project phase you want to document\n",
    "In Vectice UI, navigate to your personal workspace inside your default Tutorial project go to the Modeling phase and copy paste your Phase Id below."
   ]
  },
  {
   "cell_type": "code",
   "execution_count": null,
   "id": "552f544a-8b61-45dc-b2c5-d7bd1972e659",
   "metadata": {},
   "outputs": [],
   "source": [
    "phase = vec.phase(\"PHA-xxxx\") #Paste your own Modeling Phase ID"
   ]
  },
  {
   "cell_type": "markdown",
   "id": "36522f13-0925-4f14-80a9-072890887f68",
   "metadata": {},
   "source": [
    "## Next we are going to create an iteration\n",
    "An iteration allows you to organize your work in repeatable sequences of steps. You can have multiple iteration within a phase."
   ]
  },
  {
   "cell_type": "code",
   "execution_count": null,
   "id": "16d37d91-8f63-4fbc-b6eb-8aaff588e84c",
   "metadata": {},
   "outputs": [],
   "source": [
    "model_iteration = phase.create_iteration()"
   ]
  },
  {
   "cell_type": "markdown",
   "id": "fb4809d8-bd1c-486e-9cce-36afdf478570",
   "metadata": {},
   "source": [
    "## Retrieve your cleaned Dataset previously created in your Data Preparation phase of the project\n",
    "You can retrieve a variety of Vectice Objects with the `browse('VECTICE-ID')` method. Namely, Phases, Iterations, Datasets, Models etc"
   ]
  },
  {
   "cell_type": "code",
   "execution_count": null,
   "id": "62198b33-db5a-4c6e-8370-938b02ffca4b",
   "metadata": {},
   "outputs": [],
   "source": [
    "cleaned_ds = vec.browse(\"DTV-xxxx\") #Get the ID of your Clean Dataset created in the Data Preparation phase"
   ]
  },
  {
   "cell_type": "markdown",
   "id": "ee0aba94-baf2-49bb-a9bc-9b2c16852dc2",
   "metadata": {},
   "source": [
    "## Log a Dataset version\n",
    "\n",
    "Use the following code block to log a local Dataset"
   ]
  },
  {
   "cell_type": "code",
   "execution_count": null,
   "id": "02c4e722-a008-4989-84bb-500cc5f0534c",
   "metadata": {},
   "outputs": [],
   "source": [
    "df = pd.read_csv(\"https://raw.githubusercontent.com/vectice/GettingStarted/main/23.2/tutorial/ProductSales%20Cleaned.csv\", converters = {'Postal Code': str})\n",
    "df.to_csv(\"ProductSales Cleaned.csv\")\n",
    "df.head()"
   ]
  },
  {
   "cell_type": "code",
   "execution_count": null,
   "id": "99534610-4ed8-4672-8ab3-d8b2df33664b",
   "metadata": {},
   "outputs": [],
   "source": [
    "target=\"Sales\"\n",
    "X=df.drop([target],axis=1)\n",
    "y=df[target]\n",
    "print(X.shape)\n",
    "print(y.shape)"
   ]
  },
  {
   "cell_type": "code",
   "execution_count": null,
   "id": "3423b731-454e-4909-850a-d503ca9f2bf5",
   "metadata": {},
   "outputs": [],
   "source": [
    "X_train, X_test, y_train, y_test=train_test_split(X, y, test_size=0.2, random_state=42)"
   ]
  },
  {
   "cell_type": "code",
   "execution_count": null,
   "id": "0d074b66-37a5-4882-b600-b630a0288b71",
   "metadata": {},
   "outputs": [],
   "source": [
    "# Save the modeling train test split datasets as csv files\n",
    "train_df = X_train.copy()\n",
    "test_df = X_test.copy()\n",
    "\n",
    "train_df[\"Sales\"] = y_train\n",
    "test_df[\"Sales\"] = y_test\n",
    "\n",
    "train_df.to_csv(\"train dataset.csv\", index=False)\n",
    "test_df.to_csv(\"test dataset.csv\", index=False)"
   ]
  },
  {
   "cell_type": "markdown",
   "id": "bb81eaf7-f880-4c77-923a-f5deb7832cf3",
   "metadata": {},
   "source": [
    "### Log a modeling Dataset\n",
    "The Vectice resource will automatically extract pertinent metadata from the local dataset file and collect statistics from the pandas dataframe. This information will be documented within the iteration as part of a Dataset version."
   ]
  },
  {
   "cell_type": "code",
   "execution_count": null,
   "id": "016c1281-3880-498e-8a8c-ab45113f2688",
   "metadata": {},
   "outputs": [],
   "source": [
    "train_ds = vectice.FileResource(paths=\"train dataset.csv\", dataframes=train_df)\n",
    "test_ds = vectice.FileResource(paths=\"test dataset.csv\", dataframes=test_df)"
   ]
  },
  {
   "cell_type": "code",
   "execution_count": null,
   "id": "0416ab44-16c4-4905-a582-306cb87b6566",
   "metadata": {},
   "outputs": [],
   "source": [
    "modeling_dataset = vectice.Dataset.modeling(\n",
    "        name=\"ProductSales Modeling\",\n",
    "        training_resource=train_ds,\n",
    "        testing_resource=test_ds, \n",
    "        derived_from=cleaned_ds,\n",
    "    )"
   ]
  },
  {
   "cell_type": "code",
   "execution_count": null,
   "id": "f7d80585-cbfe-40a0-b360-ef7798d1cfed",
   "metadata": {},
   "outputs": [],
   "source": [
    "model_iteration.step_model_input_data = modeling_dataset"
   ]
  },
  {
   "cell_type": "markdown",
   "id": "2d95e45a-af82-4d76-b619-2ad7b5a2c6bd",
   "metadata": {},
   "source": [
    "# Vertex AI Log A Dataset "
   ]
  },
  {
   "cell_type": "code",
   "execution_count": null,
   "id": "363e0813-8611-46b9-b215-92dabc3c27cf",
   "metadata": {},
   "outputs": [],
   "source": [
    "aiplatform.init(project=\"tries-and-spikes\", location=\"us-central1\")\n",
    "\n",
    "dataset = aiplatform.TabularDataset.create(\n",
    "    display_name=\"ProductSales Modeling\",\n",
    "    gcs_source=[\"gs://aidan_vertex_tutorial/tutorial/test dataset.csv\",\"gs://aidan_vertex_tutorial/tutorial/train dataset.csv\"],\n",
    ")\n",
    "\n",
    "dataset.wait()\n",
    "\n",
    "print(f'\\tDataset: \"{dataset.display_name}\"')\n",
    "print(f'\\tname: \"{dataset.resource_name}\"')"
   ]
  },
  {
   "cell_type": "code",
   "execution_count": null,
   "id": "269f9dde-af16-4940-a967-6a8ecffb20f5",
   "metadata": {},
   "outputs": [],
   "source": [
    "from google.cloud import storage\n",
    "# Setup the Google Cloud Storage client, this is used to create the vectice.GCSResource below.\n",
    "gcs_client = storage.Client() # You might need to pass credentials, depending on the environment you're in."
   ]
  },
  {
   "cell_type": "code",
   "execution_count": null,
   "id": "7eb35ca3-6818-43b6-9418-e68077cb4307",
   "metadata": {},
   "outputs": [],
   "source": [
    "# Pass a GCS uri and a pandas DataFrame (this capture statistics) and the GCS Client variable.\n",
    "train_dataset = vectice.GCSResource(\"gs://aidan_vertex_tutorial/tutorial/train dataset.csv\", pd.read_csv(\"gs://aidan_vertex_tutorial/tutorial/train dataset.csv\"), gcs_client=gcs_client)"
   ]
  },
  {
   "cell_type": "code",
   "execution_count": null,
   "id": "f178efb9-4b04-468a-85bd-b793fd11faae",
   "metadata": {},
   "outputs": [],
   "source": [
    "test_dataset = vectice.GCSResource(\"gs://aidan_vertex_tutorial/tutorial/test dataset.csv\", pd.read_csv(\"gs://aidan_vertex_tutorial/tutorial/test dataset.csv\"), gcs_client=gcs_client)"
   ]
  },
  {
   "cell_type": "code",
   "execution_count": null,
   "id": "359537aa-3406-4511-abdd-3a2c79d5bd05",
   "metadata": {},
   "outputs": [],
   "source": [
    "modeling_dataset = vectice.Dataset.modeling(\n",
    "        name=\"ProductSales Modeling\",\n",
    "        training_resource=train_dataset,\n",
    "        testing_resource=test_dataset, \n",
    "        derived_from=cleaned_ds,\n",
    "    )"
   ]
  },
  {
   "cell_type": "code",
   "execution_count": null,
   "id": "3f41824c-4da0-4aea-94bd-f8d9a232eca5",
   "metadata": {},
   "outputs": [],
   "source": [
    "model_iteration.step_model_input_data = modeling_dataset"
   ]
  },
  {
   "cell_type": "code",
   "execution_count": null,
   "id": "a369acc5-d7ed-4388-9fa2-17f0170aaf15",
   "metadata": {},
   "outputs": [],
   "source": [
    "##  baseline mean absolute error\n",
    "y_mean=y_train.mean()\n",
    "y_mean_pred=[y_mean] * len(y_train)\n",
    "baseline_mae=mean_absolute_error(y_train,y_mean_pred)\n",
    "round(baseline_mae,2)"
   ]
  },
  {
   "cell_type": "markdown",
   "id": "e46d5171-b9fb-4ca5-982b-8777744fe747",
   "metadata": {
    "tags": []
   },
   "source": [
    "## Log a Baseline model with Vertex AI & Vectice\n",
    "\n",
    "First we log a Naive model to Vectice that always return the average sales to establish a Baseline."
   ]
  },
  {
   "cell_type": "code",
   "execution_count": null,
   "id": "b110a470-dba7-47a9-970b-576e5309bef3",
   "metadata": {},
   "outputs": [],
   "source": [
    "aiplatform.init(project=\"tries-and-spikes\", experiment='baseline-01')"
   ]
  },
  {
   "cell_type": "code",
   "execution_count": null,
   "id": "50a0d5ab-1cae-43e3-8603-d810d7121081",
   "metadata": {},
   "outputs": [],
   "source": [
    "experiment_run = aiplatform.start_run(\"run-003\")"
   ]
  },
  {
   "cell_type": "code",
   "execution_count": null,
   "id": "f85dc2cb-8af0-4fa2-8477-629c28efef40",
   "metadata": {},
   "outputs": [],
   "source": [
    "aiplatform.log_metrics({\"mae_baseline\": round(baseline_mae,2)})"
   ]
  },
  {
   "cell_type": "code",
   "execution_count": null,
   "id": "d34059f9-b780-4d7f-a18f-4ab42ed9ab0d",
   "metadata": {},
   "outputs": [],
   "source": [
    "aiplatform.log_params({\"technique\": \"Constant predictor\"})"
   ]
  },
  {
   "cell_type": "code",
   "execution_count": null,
   "id": "1c53e072-37d6-4e3c-8cc6-859cc9a55193",
   "metadata": {},
   "outputs": [],
   "source": [
    "aiplatform.end_run()"
   ]
  },
  {
   "cell_type": "code",
   "execution_count": null,
   "id": "dc69b28d-62a8-4b7a-bdff-6cf14e49ca38",
   "metadata": {},
   "outputs": [],
   "source": [
    "baseline_metrics = experiment_run.get_metrics()"
   ]
  },
  {
   "cell_type": "code",
   "execution_count": null,
   "id": "e442c6d8-6d3b-46da-84e0-c51e63e509f3",
   "metadata": {},
   "outputs": [],
   "source": [
    "base_line_params = experiment_run.get_params()"
   ]
  },
  {
   "cell_type": "markdown",
   "id": "71488050-2a0c-40ee-80f1-fe8755c5d152",
   "metadata": {},
   "source": [
    "### Vectice log Baseline model "
   ]
  },
  {
   "cell_type": "code",
   "execution_count": null,
   "id": "d3b70807-22b0-4c38-8ac9-d85408d20656",
   "metadata": {},
   "outputs": [],
   "source": [
    "# Baseline `model` to compare the Ridge Regression against\n",
    "vect_baseline_model = vectice.Model(name = \"Baseline\", library=\"Own\", technique=\"Constant predictor\",properties=base_line_params , metrics=baseline_metrics, derived_from=modeling_dataset)"
   ]
  },
  {
   "cell_type": "code",
   "execution_count": null,
   "id": "f6dd561c-2d9c-42fb-8762-8dc99e1ea239",
   "metadata": {},
   "outputs": [],
   "source": [
    "model_iteration.step_build_model = vect_baseline_model"
   ]
  },
  {
   "cell_type": "markdown",
   "id": "377d7923",
   "metadata": {},
   "source": [
    "### Train a Ridge regressor as a challenger"
   ]
  },
  {
   "cell_type": "code",
   "execution_count": null,
   "id": "ea42122c",
   "metadata": {},
   "outputs": [],
   "source": [
    "OHE = OneHotEncoder(handle_unknown='ignore')\n",
    "scaler = StandardScaler()\n",
    "\n",
    "cat_cols = ['Ship Mode', 'Segment', 'Country', 'City', 'State', 'Postal Code','Region', 'Category', 'Sub-Category']\n",
    "num_cols = ['Quantity', 'Discount', 'Profit']\n",
    "\n",
    "transformer = ColumnTransformer([('cat_cols', OHE, cat_cols),\n",
    "                                ('num_cols', scaler, num_cols)])\n",
    "\n",
    "model = make_pipeline(transformer,Ridge())\n",
    "model.fit(X_train,y_train)"
   ]
  },
  {
   "cell_type": "code",
   "execution_count": null,
   "id": "cfaa69c9-83d5-4fa8-82c6-37628ad258b6",
   "metadata": {},
   "outputs": [],
   "source": [
    "# Making Prediction with the training data\n",
    "y_train_pred = model.predict(X_train)"
   ]
  },
  {
   "cell_type": "code",
   "execution_count": null,
   "id": "e350276a-2fd4-4f7d-8765-026f64a51232",
   "metadata": {},
   "outputs": [],
   "source": [
    "#Evaluating the model \n",
    "mae_train=mean_absolute_error(y_train, y_train_pred)\n",
    "print(round(mae_train,2))"
   ]
  },
  {
   "cell_type": "code",
   "execution_count": null,
   "id": "8e16f056-b366-4f5f-b1a3-a031b8316074",
   "metadata": {},
   "outputs": [],
   "source": [
    "#Making prediction on test\n",
    "y_test_pred = model.predict(X_test)"
   ]
  },
  {
   "cell_type": "code",
   "execution_count": null,
   "id": "c6cee489-948a-4538-9d84-b7547a08e494",
   "metadata": {},
   "outputs": [],
   "source": [
    "#Evaluating the model \n",
    "mae_test = mean_absolute_error(y_test, y_test_pred)\n",
    "print(round(mae_test,2))"
   ]
  },
  {
   "cell_type": "code",
   "execution_count": null,
   "id": "de507cdf-0576-4ef0-ba5e-10fd1f69c176",
   "metadata": {},
   "outputs": [],
   "source": [
    "feature_names = transformer.get_feature_names_out()\n",
    "feature_importances = model.named_steps['ridge'].coef_\n",
    "\n",
    "feat_imf = pd.Series(feature_importances, index=feature_names).sort_values()\n",
    "\n",
    "feat_imf.tail(10).plot(kind=\"barh\")\n",
    "plt.ylabel(\"Features\")\n",
    "plt.xlabel(\"Importance\")\n",
    "plt.title(\"Feature Importance\")\n",
    "plt.tight_layout()\n",
    "plt.savefig(\"Feature Importance.png\")"
   ]
  },
  {
   "cell_type": "markdown",
   "id": "f5c77b20-35b4-464b-a5a2-6d6ed2b664da",
   "metadata": {},
   "source": [
    "# Log Model With Vertex AI & Then Vectice\n",
    "- Log the Ridge model we created with the feature importance graph as attachment\n"
   ]
  },
  {
   "cell_type": "code",
   "execution_count": null,
   "id": "4285ebc2-d286-4e95-a5ed-75f7ae675b49",
   "metadata": {},
   "outputs": [],
   "source": [
    "aiplatform.init(experiment=\"ridge-regression-001\")"
   ]
  },
  {
   "cell_type": "code",
   "execution_count": null,
   "id": "d615b6c7-fb93-4c56-a9f7-00dabdeb5024",
   "metadata": {},
   "outputs": [],
   "source": [
    "# assign the experiment to a variable to easily capture metrics and parameters with Vectice\n",
    "experiment = aiplatform.start_run(\"run-003\")"
   ]
  },
  {
   "cell_type": "code",
   "execution_count": null,
   "id": "0cdce324-1477-48b9-a34c-23bc0f988527",
   "metadata": {},
   "outputs": [],
   "source": [
    "aiplatform.log_model(model)"
   ]
  },
  {
   "cell_type": "code",
   "execution_count": null,
   "id": "0c5f384d-c222-4cf0-8458-188d55df08c8",
   "metadata": {},
   "outputs": [],
   "source": [
    "aiplatform.log_metrics({\"mae_train\": round(mae_train,2), \"mae_test\": round(mae_test,2)})"
   ]
  },
  {
   "cell_type": "code",
   "execution_count": null,
   "id": "57e0f3e3-ef3b-4551-af61-e8fa01c94aef",
   "metadata": {},
   "outputs": [],
   "source": [
    "parameters = {key: str(val) for key, val in model.named_steps.items()}"
   ]
  },
  {
   "cell_type": "code",
   "execution_count": null,
   "id": "cb2c638b-b2a5-478d-aa69-e9f4b888f7d9",
   "metadata": {},
   "outputs": [],
   "source": [
    "aiplatform.log_params(parameters)  #  We should prevent or flag object capture"
   ]
  },
  {
   "cell_type": "code",
   "execution_count": null,
   "id": "0a6ef0d7-f4d3-4d93-870a-396b0d2dafb0",
   "metadata": {},
   "outputs": [],
   "source": [
    "aiplatform.end_run()"
   ]
  },
  {
   "cell_type": "markdown",
   "id": "d36c37a3-9bca-4efe-a050-c8f5f0db782d",
   "metadata": {},
   "source": [
    "## Log the Ridge model with Vectice\n",
    "- You can log everything as you do in Vertex AI\n",
    "- However, with Vectice you can pass attachments such as graphs too"
   ]
  },
  {
   "cell_type": "code",
   "execution_count": null,
   "id": "ce8afa6c-ac94-4846-9032-80457024d40f",
   "metadata": {},
   "outputs": [],
   "source": [
    "vect_model = vectice.Model(library=\"scikit-learn\", \n",
    "                            technique=\"Ridge Regression\",\n",
    "                            metrics={\"mae_train\": round(mae_train,2), \"mae_test\": round(mae_test,2)}, \n",
    "                            properties=parameters, \n",
    "                            predictor=model,                        # Pass your model as a predictor to save it as a pickle file\n",
    "                            derived_from=modeling_dataset,          # Pass your modeling dataset to document the lineage\n",
    "                            attachments=\"Feature Importance.png\")   # Pass your Feature Important graph as an attachment"
   ]
  },
  {
   "cell_type": "markdown",
   "id": "8c84c7ad-5798-4115-8aa8-ddc8ace6fcd5",
   "metadata": {},
   "source": [
    "#### Retrieve a past Vertex Experiment\n",
    "- You can retrieve a past Experiment and capture with Vectice with the following\n",
    "- Then simply pass these to the `vectice.Model`"
   ]
  },
  {
   "cell_type": "code",
   "execution_count": null,
   "id": "171c343a-194d-44ef-abcf-18a84ac06f6d",
   "metadata": {},
   "outputs": [],
   "source": [
    "# Retrieve past experiments and capture them with Vectice\n",
    "experiment = aiplatform.ExperimentRun(\"run-002\", \"ridge-regression-001\")"
   ]
  },
  {
   "cell_type": "code",
   "execution_count": null,
   "id": "442d37ca-adc6-482e-b9ed-83059116f02f",
   "metadata": {},
   "outputs": [],
   "source": [
    "# Get metrics from the experiment \n",
    "ridge_metrics = experiment.get_metrics()"
   ]
  },
  {
   "cell_type": "code",
   "execution_count": null,
   "id": "6ee75c7d-b419-4b65-a240-af9d542e4f6b",
   "metadata": {},
   "outputs": [],
   "source": [
    "# Get parameters from the experiment\n",
    "ridge_params = experiment.get_params()"
   ]
  },
  {
   "cell_type": "code",
   "execution_count": null,
   "id": "432fa277-0ad3-468f-aa57-007ecd388209",
   "metadata": {},
   "outputs": [],
   "source": [
    "### Get the predictor, you need to navigate the UI for the artifact id\n",
    "vertex_model = aiplatform.get_experiment_model(artifact_id=\"tutorial-ridge-sklearn-2023-07-18-07-10-16-0fae2-tb-run\")"
   ]
  },
  {
   "cell_type": "markdown",
   "id": "3ea7f45c-acc9-4180-921b-955284a2d59e",
   "metadata": {},
   "source": [
    "### Assign the Ridge model to the step\n",
    "\n",
    "You can add multiple models to a single step by using the `+=` operator."
   ]
  },
  {
   "cell_type": "code",
   "execution_count": null,
   "id": "d4e6bc65-158a-48ea-9dfd-8f2643a3443c",
   "metadata": {},
   "outputs": [],
   "source": [
    "model_iteration.step_build_model += vect_model"
   ]
  },
  {
   "cell_type": "markdown",
   "id": "f7b88397-21ad-4c4c-abfd-55f143914e2d",
   "metadata": {
    "tags": []
   },
   "source": [
    "# Log a Model With Vertex AI using autolog & Vectice\n",
    "This section outlines how to take advantage of Vertex autologging and Vectice, this is only for illustration purposes."
   ]
  },
  {
   "cell_type": "code",
   "execution_count": null,
   "id": "a6d94f21-fa0f-4282-a64b-a49b9b8c7647",
   "metadata": {},
   "outputs": [],
   "source": [
    "aiplatform.init(\n",
    "    experiment=\"tutorial-ridge\",\n",
    "    project=\"tries-and-spikes\",\n",
    "    location=\"us-central1\",\n",
    ")\n",
    "\n",
    "aiplatform.autolog()\n",
    "\n",
    "# Your model training code goes here\n",
    "OHE = OneHotEncoder(handle_unknown='ignore')\n",
    "scaler = StandardScaler()\n",
    "\n",
    "cat_cols = ['Ship Mode', 'Segment', 'Country', 'City', 'State', 'Postal Code','Region', 'Category', 'Sub-Category']\n",
    "num_cols = ['Quantity', 'Discount', 'Profit']\n",
    "\n",
    "transformer = ColumnTransformer([('cat_cols', OHE, cat_cols),\n",
    "                                ('num_cols', scaler, num_cols)])\n",
    "\n",
    "model = make_pipeline(transformer,Ridge())\n",
    "model.fit(X_train,y_train)\n",
    "\n",
    "y_train_pred = model.predict(X_train)\n",
    "mae_train=mean_absolute_error(y_train, y_train_pred)\n",
    "y_test_pred = model.predict(X_test)\n",
    "mae_test = mean_absolute_error(y_test, y_test_pred)\n",
    "\n",
    "# Insert Vectice to capture\n",
    "vect_model = vectice.Model(library=\"scikit-learn\", \n",
    "                            technique=\"Ridge Regression\",\n",
    "                            metrics={\"mae_train\": round(mae_train,2), \"mae_test\": round(mae_test,2)}, \n",
    "                            properties=model.named_steps, \n",
    "                            predictor=model,                        # Pass your model as a predictor to save it as a pickle file\n",
    "                            derived_from=modeling_dataset,          # Pass your modeling dataset to document the lineage\n",
    "                            attachments=\"Feature Importance.png\")   # Pass your Feature Important graph as an attachment\n",
    "\n",
    "aiplatform.autolog(disable=True)"
   ]
  },
  {
   "cell_type": "code",
   "execution_count": null,
   "id": "f4f5b7fa-ba3c-49a5-ae92-ac4af0ccad76",
   "metadata": {},
   "outputs": [],
   "source": [
    "# You can get the run and experiment from the logging output. Experiment name = `tutorial-ridge` & Run name = `sklearn-2023-06-29-09-55-07-3acb6`\n",
    "# `Associating projects/599225543291/locations/us-central1/metadataStores/default/contexts/tutorial-ridge-sklearn-2023-06-29-09-55-07-3acb6 to Experiment: tutorial-ridge`\n",
    "autolog_exp = aiplatform.ExperimentRun(\"sklearn-2023-07-18-07-10-16-0fae2\", \"tutorial-ridge\")"
   ]
  },
  {
   "cell_type": "code",
   "execution_count": null,
   "id": "cb3f8551-43a6-4946-986d-e57d7e4ef7ae",
   "metadata": {},
   "outputs": [],
   "source": [
    "### Retrieve the predictor ###\n",
    "autolog_model = aiplatform.get_experiment_model(artifact_id=\"tutorial-ridge-sklearn-2023-07-18-07-10-16-0fae2-tb-run\")"
   ]
  },
  {
   "cell_type": "code",
   "execution_count": null,
   "id": "06f77d15-60af-4618-81e4-68902fd11fed",
   "metadata": {},
   "outputs": [],
   "source": [
    "autolog_metrics = autolog_exp.get_metrics()\n",
    "autolog_params = autolog_exp.get_params()"
   ]
  },
  {
   "cell_type": "code",
   "execution_count": null,
   "id": "c8805307-71aa-48c5-ada7-8ca72e789fdf",
   "metadata": {},
   "outputs": [],
   "source": [
    "# Pass the metrics, parameters and model to the `vectice.Model`\n",
    "# You would then assign this model to a step as seen in the above examples\n",
    "vect_model = vectice.Model(library=\"scikit-learn\", \n",
    "                            technique=\"Ridge Regression\",\n",
    "                            metrics=autolog_metrics, \n",
    "                            properties=autolog_params, \n",
    "                            predictor=model,                        # Pass your model as a predictor to save it as a pickle file\n",
    "                            derived_from=modeling_dataset,          # Pass your modeling dataset to document the lineage\n",
    "                            attachments=\"Feature Importance.png\")   # Pass your Feature Important graph as an attachment"
   ]
  },
  {
   "cell_type": "markdown",
   "id": "3aa5e8d5-154d-4420-ae95-bf7a8bf7e9bb",
   "metadata": {},
   "source": [
    "## Add a comment \n",
    "\n",
    "Passing a `string` to a step will add a comment."
   ]
  },
  {
   "cell_type": "code",
   "execution_count": null,
   "id": "3b2560ad-6cab-4978-98fb-06a8a2cbf0a3",
   "metadata": {},
   "outputs": [],
   "source": [
    "# Select the model to be staged\n",
    "model_iteration.step_model_validation = f\"Model passed acceptance criteria\\nMAE Train: {round(mae_train,2)}\\nMAE Test: {round(mae_test,2)}\""
   ]
  },
  {
   "cell_type": "code",
   "execution_count": null,
   "id": "ab7554b8",
   "metadata": {},
   "outputs": [],
   "source": [
    "model_iteration.complete()"
   ]
  },
  {
   "cell_type": "markdown",
   "id": "5cd90849",
   "metadata": {},
   "source": [
    "## 🥇 Congrats! You learn how to succesfully use Vectice to auto-document the Modeling phase of the Tutorial Project.<br>\n",
    "### Next we encourage you to explore other notebooks in the tutorial series. You can find those notebooks in Vectice public GitHub repository : https://github.com/vectice/GettingStarted/"
   ]
  },
  {
   "cell_type": "markdown",
   "id": "481b0162-f5de-4137-8271-9524090202f7",
   "metadata": {},
   "source": [
    "✴ You can view your registered assets and comments in the UI by clicking the links in the output messages.."
   ]
  }
 ],
 "metadata": {
  "environment": {
   "kernel": "python3",
   "name": "tf2-gpu.2-11.m108",
   "type": "gcloud",
   "uri": "gcr.io/deeplearning-platform-release/tf2-gpu.2-11:m108"
  },
  "kernelspec": {
   "display_name": "Python 3 (ipykernel)",
   "language": "python",
   "name": "python3"
  },
  "language_info": {
   "codemirror_mode": {
    "name": "ipython",
    "version": 3
   },
   "file_extension": ".py",
   "mimetype": "text/x-python",
   "name": "python",
   "nbconvert_exporter": "python",
   "pygments_lexer": "ipython3",
   "version": "3.7.12"
  }
 },
 "nbformat": 4,
 "nbformat_minor": 5
}
