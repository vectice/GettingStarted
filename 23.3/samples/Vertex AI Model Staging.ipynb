{
 "cells": [
  {
   "cell_type": "markdown",
   "id": "43ca7ce4-3223-401e-a4af-cc7603f196a0",
   "metadata": {},
   "source": [
    "# Before you start with this Model Staging Notebook\n",
    "\n",
    "This notebook is part of the Vectice tutorial project notebook series. It illustrates how to log the assets documented in the \"Model Staging\" phase of the **\"Tutorial: Forecast in store-unit sales\"** project you can find in your personal Vectice workspace.\n",
    "\n",
    "### Pre-requisites:\n",
    "Before using this notebook you will need:\n",
    "* An account in Vectice\n",
    "* An API token to connect to Vectice through the APIs\n",
    "* The Phase Id of the project where you want to log your work\n",
    "\n",
    "Refer to Vectice Tutorial Guide for more detailed instructions: https://docs.vectice.com/getting-started/tutorial\n",
    "\n",
    "\n",
    "### Other Resources\n",
    "*   Vectice Documentation: https://docs.vectice.com/ </br>\n",
    "*   Vectice API documentation: https://api-docs.vectice.com/"
   ]
  },
  {
   "cell_type": "markdown",
   "id": "156659ab-68d8-42bf-a296-b81419b77f59",
   "metadata": {},
   "source": [
    "## Install the latest Vectice Python client library"
   ]
  },
  {
   "cell_type": "code",
   "execution_count": null,
   "id": "13672b5c-e784-4c7c-a47b-1215a47a593a",
   "metadata": {},
   "outputs": [],
   "source": [
    "%pip install --q vectice -U"
   ]
  },
  {
   "cell_type": "markdown",
   "id": "00d29059-b8b9-422e-bc6f-5c66fce6596c",
   "metadata": {},
   "source": [
    "## Get started by connecting to Vectice"
   ]
  },
  {
   "cell_type": "code",
   "execution_count": 21,
   "id": "1645ed95-ef27-444a-b991-b35b7c9cad88",
   "metadata": {},
   "outputs": [
    {
     "name": "stderr",
     "output_type": "stream",
     "text": [
      "Welcome, anell. You`re now successfully connected to Vectice.\n",
      "\n",
      "To access your personal workspace, use \u001b[1mconnection\u001b[0m.my_workspace\n",
      "To access a specific workspace, use \u001b[1mconnection\u001b[0m.workspace(Workspace ID)\n",
      "To get a list of workspaces you can access and their IDs, use \u001b[1mconnection\u001b[0m.list_workspaces()\n",
      "\n",
      "If you are using a notebook you can call the help by using a Vectice returned object with the builtin notebook \"?\":\n",
      ">> connection?\n",
      "\n",
      "If you are using an IDE you can call the help() method on any object returned by Vectice:\n",
      ">> help(connection)\n",
      "\n",
      "For quick access to the list of workspaces in the Vectice web app, visit:\n",
      "https://app.vectice.com/workspaces\n"
     ]
    }
   ],
   "source": [
    "import vectice\n",
    "\n",
    "vec = vectice.connect(api_token=\"token\") #Paste your API token"
   ]
  },
  {
   "cell_type": "markdown",
   "id": "be757d4c-5049-43f6-b932-84b49c7038a0",
   "metadata": {},
   "source": [
    "## Specify which project phase you want to document\n",
    "In Vectice UI, navigate to your personal workspace inside your default Tutorial project go to the Model Staging and copy paste your Phase Id below."
   ]
  },
  {
   "cell_type": "code",
   "execution_count": 22,
   "id": "cfc1ff71-4a3b-4a70-adcd-7bbf690c5134",
   "metadata": {},
   "outputs": [
    {
     "name": "stderr",
     "output_type": "stream",
     "text": [
      "Phase 'Model Staging' successfully retrieved.\"\n",
      "\n",
      "For quick access to the Phase in the Vectice web app, visit:\n",
      "https://app.vectice.com/browse/phase/PHA-3299\n"
     ]
    }
   ],
   "source": [
    "phase = vec.phase(\"PHA-xxxx\") #Paste your own Model Staging Phase ID"
   ]
  },
  {
   "cell_type": "markdown",
   "id": "361081b0-0995-4c05-924f-8feaab8fdde1",
   "metadata": {},
   "source": [
    "## Next we are going to create an iteration\n",
    "An iteration allows you to organize your work in repeatable sequences of steps. You can have multiple iteration within a phase"
   ]
  },
  {
   "cell_type": "code",
   "execution_count": 23,
   "id": "94afc70e-37c1-475d-bc62-1bb8bdb887cd",
   "metadata": {},
   "outputs": [
    {
     "name": "stderr",
     "output_type": "stream",
     "text": [
      "New Iteration number 2 created.\n",
      "\n",
      "For quick access to the Iteration in the Vectice web app, visit:\n",
      "https://app.vectice.com/browse/iteration/ITR-1254\n"
     ]
    }
   ],
   "source": [
    "staging_iteration = phase.create_iteration()"
   ]
  },
  {
   "cell_type": "markdown",
   "id": "8667308a-bf28-4b8d-8553-9d05a8158e03",
   "metadata": {},
   "source": [
    "## Retrieve previously created Datasets\n",
    "You can retrieve a variety of Vectice Objects with the browse('VECTICE-ID') method. Namely, Phases, Iterations, Datasets, Models..."
   ]
  },
  {
   "cell_type": "code",
   "execution_count": 24,
   "id": "d934877d-cbba-4bc2-93d5-d723fa37b654",
   "metadata": {},
   "outputs": [
    {
     "name": "stderr",
     "output_type": "stream",
     "text": [
      "Dataset 'ProductSales Origin' successfully retrieved.\"\n",
      "\n",
      "For quick access to the Dataset in the Vectice web app, visit:\n",
      "https://app.vectice.com/browse/dataset/DTS-1459\n",
      "Dataset 'ProductSales Cleaned' successfully retrieved.\"\n",
      "\n",
      "For quick access to the Dataset in the Vectice web app, visit:\n",
      "https://app.vectice.com/browse/dataset/DTS-1460\n",
      "Dataset 'ProductSales Modeling' successfully retrieved.\"\n",
      "\n",
      "For quick access to the Dataset in the Vectice web app, visit:\n",
      "https://app.vectice.com/browse/dataset/DTS-1461\n"
     ]
    }
   ],
   "source": [
    "origin_ds = vec.browse(\"DTS-xxxx\")  #Paste your Origin Dataset ID (i.e ProductSales Origin) created on Data Understanding phase\n",
    "cleaned_ds = vec.browse(\"DTS-xxxx\")  #Paste your Cleaned Dataset ID (i.e ProductSales Cleaned) created on Data Preparation phase\n",
    "modeling_dataset = vec.browse(\"DTS-xxxx\")  #Paste your Model Dataset ID (i.e ProductSales Modeling) created on Data Modeling phase"
   ]
  },
  {
   "cell_type": "markdown",
   "id": "5562fc69-f3fd-41f2-a09b-21c0322f4a6a",
   "metadata": {},
   "source": [
    "## Log a Staging Model\n",
    "\n",
    "Imaging you created this model through an automated training pipeline and you log it at the end of the process.<br> For the purpose of the tutorial we will simply create an empty model."
   ]
  },
  {
   "cell_type": "markdown",
   "id": "39f82d6c-a67b-4156-934d-61c99d079dba",
   "metadata": {},
   "source": [
    "## Retrieve Staged Vertex AI Model "
   ]
  },
  {
   "cell_type": "code",
   "execution_count": 1,
   "id": "8559f081-2bf3-4a90-8fac-ac028d64124b",
   "metadata": {},
   "outputs": [],
   "source": [
    "from google.cloud import aiplatform"
   ]
  },
  {
   "cell_type": "code",
   "execution_count": 2,
   "id": "05cfe98a-40b2-4beb-953e-d7c048f6609a",
   "metadata": {},
   "outputs": [],
   "source": [
    "model = aiplatform.ModelRegistry(\"794509301254193152\")"
   ]
  },
  {
   "cell_type": "code",
   "execution_count": 8,
   "id": "a6beb64a-caeb-4f03-95c3-3992b9f72d89",
   "metadata": {},
   "outputs": [
    {
     "name": "stdout",
     "output_type": "stream",
     "text": [
      "Getting versions for projects/tries-and-spikes/locations/us-central1/models/794509301254193152\n"
     ]
    },
    {
     "data": {
      "text/plain": [
       "[VersionInfo(version_id='1', version_create_time=DatetimeWithNanoseconds(2023, 5, 17, 10, 20, 9, 980348, tzinfo=datetime.timezone.utc), version_update_time=DatetimeWithNanoseconds(2023, 5, 17, 10, 20, 11, 816422, tzinfo=datetime.timezone.utc), model_display_name='ridge', model_resource_name='projects/599225543291/locations/us-central1/models/794509301254193152', version_aliases=['default'], version_description='')]"
      ]
     },
     "execution_count": 8,
     "metadata": {},
     "output_type": "execute_result"
    }
   ],
   "source": [
    "model.list_versions()"
   ]
  },
  {
   "cell_type": "code",
   "execution_count": 3,
   "id": "ee77c2af-84b7-4c28-bbdb-9d9a75bdddff",
   "metadata": {},
   "outputs": [
    {
     "name": "stdout",
     "output_type": "stream",
     "text": [
      "Getting version 1 info for projects/tries-and-spikes/locations/us-central1/models/794509301254193152\n"
     ]
    }
   ],
   "source": [
    "model_version = model.get_version_info(\"1\")"
   ]
  },
  {
   "cell_type": "code",
   "execution_count": 4,
   "id": "b70ba973-2874-47c8-a31c-768007d6b5d6",
   "metadata": {},
   "outputs": [
    {
     "data": {
      "text/plain": [
       "'ridge'"
      ]
     },
     "execution_count": 4,
     "metadata": {},
     "output_type": "execute_result"
    }
   ],
   "source": [
    "model_version.model_display_name"
   ]
  },
  {
   "cell_type": "code",
   "execution_count": 5,
   "id": "eefecdb5-f6b3-4d65-91ea-b581b98ba09a",
   "metadata": {},
   "outputs": [
    {
     "data": {
      "text/plain": [
       "'projects/599225543291/locations/us-central1/models/794509301254193152'"
      ]
     },
     "execution_count": 5,
     "metadata": {},
     "output_type": "execute_result"
    }
   ],
   "source": [
    "model_version.model_resource_name"
   ]
  },
  {
   "cell_type": "code",
   "execution_count": 6,
   "id": "0869c370-6d57-478d-bcc5-5ac284277abf",
   "metadata": {},
   "outputs": [
    {
     "data": {
      "text/plain": [
       "['default']"
      ]
     },
     "execution_count": 6,
     "metadata": {},
     "output_type": "execute_result"
    }
   ],
   "source": [
    "model_version.version_aliases"
   ]
  },
  {
   "cell_type": "code",
   "execution_count": 9,
   "id": "076b5694-f0a7-4dff-ae9c-a40f70d19e0b",
   "metadata": {},
   "outputs": [],
   "source": [
    "endpoint = aiplatform.Endpoint(\"3685206734537752576\")"
   ]
  },
  {
   "cell_type": "code",
   "execution_count": 37,
   "id": "a22bcfda-7544-4786-b4aa-e0cc76a6e869",
   "metadata": {},
   "outputs": [
    {
     "data": {
      "text/plain": [
       "{'name': 'projects/599225543291/locations/us-central1/endpoints/3685206734537752576',\n",
       " 'displayName': 'ridge_prediction',\n",
       " 'deployedModels': [{'id': '4245119836843147264',\n",
       "   'model': 'projects/599225543291/locations/us-central1/models/794509301254193152',\n",
       "   'displayName': 'ridge',\n",
       "   'createTime': '2023-07-19T05:39:52.188700Z',\n",
       "   'dedicatedResources': {'machineSpec': {'machineType': 'n1-standard-2'},\n",
       "    'minReplicaCount': 1,\n",
       "    'maxReplicaCount': 1,\n",
       "    'autoscalingMetricSpecs': [{'metricName': 'aiplatform.googleapis.com/prediction/online/cpu/utilization',\n",
       "      'target': 60}]},\n",
       "   'enableAccessLogging': True,\n",
       "   'modelVersionId': '1'}],\n",
       " 'trafficSplit': {'4245119836843147264': 100},\n",
       " 'etag': 'AMEw9yPFEYbTU-nouMYrfWna_xprjSUovDEkmGwXiapmGPUG6Xy_3FnIDLE_QrQi_EBt',\n",
       " 'createTime': '2023-07-19T05:39:52.188700Z',\n",
       " 'updateTime': '2023-07-19T05:51:29.828457Z'}"
      ]
     },
     "execution_count": 37,
     "metadata": {},
     "output_type": "execute_result"
    }
   ],
   "source": [
    "endpoint.to_dict()"
   ]
  },
  {
   "cell_type": "code",
   "execution_count": 20,
   "id": "6a00ba92-b048-49fe-b323-b1414fa3c31a",
   "metadata": {},
   "outputs": [
    {
     "data": {
      "text/plain": [
       "name: \"projects/599225543291/locations/us-central1/endpoints/3685206734537752576\"\n",
       "display_name: \"ridge_prediction\"\n",
       "deployed_models {\n",
       "  id: \"4245119836843147264\"\n",
       "  model: \"projects/599225543291/locations/us-central1/models/794509301254193152\"\n",
       "  display_name: \"ridge\"\n",
       "  create_time {\n",
       "    seconds: 1689745192\n",
       "    nanos: 188700000\n",
       "  }\n",
       "  dedicated_resources {\n",
       "    machine_spec {\n",
       "      machine_type: \"n1-standard-2\"\n",
       "    }\n",
       "    min_replica_count: 1\n",
       "    max_replica_count: 1\n",
       "    autoscaling_metric_specs {\n",
       "      metric_name: \"aiplatform.googleapis.com/prediction/online/cpu/utilization\"\n",
       "      target: 60\n",
       "    }\n",
       "  }\n",
       "  enable_access_logging: true\n",
       "  model_version_id: \"1\"\n",
       "}\n",
       "traffic_split {\n",
       "  key: \"4245119836843147264\"\n",
       "  value: 100\n",
       "}\n",
       "etag: \"AMEw9yPFEYbTU-nouMYrfWna_xprjSUovDEkmGwXiapmGPUG6Xy_3FnIDLE_QrQi_EBt\"\n",
       "create_time {\n",
       "  seconds: 1689745192\n",
       "  nanos: 188700000\n",
       "}\n",
       "update_time {\n",
       "  seconds: 1689745889\n",
       "  nanos: 828457000\n",
       "}"
      ]
     },
     "execution_count": 20,
     "metadata": {},
     "output_type": "execute_result"
    }
   ],
   "source": [
    "endpoint.gca_resource"
   ]
  },
  {
   "cell_type": "code",
   "execution_count": null,
   "id": "9c60a55b-0b03-4600-bfe1-070b912ffa4f",
   "metadata": {},
   "outputs": [],
   "source": [
    "# prediction endpoint\n",
    "# https://us-central1-aiplatform.googleapis.com/v1/projects/tries-and-spikes/locations/us-central1/endpoints/3685206734537752576:predict\n",
    "\n",
    "# Model artifact\n",
    "# https://console.cloud.google.com/storage/browser/dataproc-staging-us-west2-599225543291-rt9b6nzx/models?project=tries-and-spikes"
   ]
  },
  {
   "cell_type": "code",
   "execution_count": 25,
   "id": "94d501da-41e2-46f6-890c-21a36e188b42",
   "metadata": {},
   "outputs": [],
   "source": [
    "vect_model = vectice.Model(library=\"scikit-learn\", technique=\"Ridge Regression Stage\", properties={\"quarter\": \"Q1\", \"artfiact\": \"https://console.cloud.google.com/storage/browser/dataproc-staging-us-west2-599225543291-rt9b6nzx/models?project=tries-and-spikes\", \"prediction endpoint\": \"https://console.cloud.google.com/storage/browser/dataproc-staging-us-west2-599225543291-rt9b6nzx/models?project=tries-and-spikes\"}, derived_from=modeling_dataset)"
   ]
  },
  {
   "cell_type": "code",
   "execution_count": 26,
   "id": "dc49e9c6-93f6-473a-84ff-13e5f72052bb",
   "metadata": {},
   "outputs": [
    {
     "name": "stderr",
     "output_type": "stream",
     "text": [
      "New Version: 'Version 2' of Dataset: 'ProductSales Origin' added to Step: Ingest Data\n",
      "Attachments: None\n",
      "Link to Step: https://app.vectice.com/browse/iteration/ITR-1254\n",
      "\n"
     ]
    }
   ],
   "source": [
    "staging_iteration.step_ingest_data = origin_ds"
   ]
  },
  {
   "cell_type": "code",
   "execution_count": 27,
   "id": "703aa51a-8476-4356-9326-58e0582e7b3c",
   "metadata": {},
   "outputs": [
    {
     "name": "stderr",
     "output_type": "stream",
     "text": [
      "New Version: 'Version 2' of Dataset: 'ProductSales Cleaned' added to Step: Preprocess Data\n",
      "Attachments: Quantity.png, Profit.png\n",
      "Link to Step: https://app.vectice.com/browse/iteration/ITR-1254\n",
      "\n"
     ]
    }
   ],
   "source": [
    "staging_iteration.step_preprocess_data = cleaned_ds"
   ]
  },
  {
   "cell_type": "code",
   "execution_count": 28,
   "id": "145e04ed-09e3-4d33-bff5-c8ab51425594",
   "metadata": {},
   "outputs": [
    {
     "name": "stderr",
     "output_type": "stream",
     "text": [
      "New Version: 'Version 2' of Model: 'scikit-learn Ridge Regression Stage model' added to Step: Train Model\n",
      "Attachments: None\n",
      "Link to Step: https://app.vectice.com/browse/iteration/ITR-1254\n",
      "\n"
     ]
    }
   ],
   "source": [
    "staging_iteration.step_train_model = vect_model"
   ]
  },
  {
   "cell_type": "markdown",
   "id": "42e6cd6b-f39e-4b2d-a69f-22e9a5ab7bbd",
   "metadata": {},
   "source": [
    "## Add a Comment\n",
    "Use the following code block to save key performance metrics as a comment that will be use for approving deployment to production"
   ]
  },
  {
   "cell_type": "code",
   "execution_count": null,
   "id": "eeb854e4-9e1e-4fdb-9709-19bea0083f38",
   "metadata": {},
   "outputs": [],
   "source": [
    "# Use ModelEvaluation "
   ]
  },
  {
   "cell_type": "code",
   "execution_count": null,
   "id": "e33d20d7-e6ca-49bf-b4e5-fbe72795edfd",
   "metadata": {},
   "outputs": [],
   "source": [
    "staging_iteration.step_evaluate_model = \"\"\"Evaluation:\\nMAE vs Threshold: 63.02 vs 98 from Baseline \\nModel passed acceptance critera.\"\"\""
   ]
  },
  {
   "cell_type": "code",
   "execution_count": null,
   "id": "e2b804da",
   "metadata": {},
   "outputs": [],
   "source": [
    "staging_iteration.complete()\n"
   ]
  },
  {
   "cell_type": "markdown",
   "id": "e091dc76",
   "metadata": {},
   "source": [
    "## 🥇 Congrats! You learn how to succesfully use Vectice to auto-document the Model Staging phase of the Tutorial Project.<br>\n",
    "### Next we encourage you to explore other notebooks in the tutorial series. You can find those notebooks in Vectice public GitHub repository : https://github.com/vectice/GettingStarted/"
   ]
  },
  {
   "cell_type": "markdown",
   "id": "7a3e3b30",
   "metadata": {},
   "source": []
  }
 ],
 "metadata": {
  "environment": {
   "kernel": "python3",
   "name": "tf2-gpu.2-11.m108",
   "type": "gcloud",
   "uri": "gcr.io/deeplearning-platform-release/tf2-gpu.2-11:m108"
  },
  "kernelspec": {
   "display_name": "Python 3 (ipykernel)",
   "language": "python",
   "name": "python3"
  },
  "language_info": {
   "codemirror_mode": {
    "name": "ipython",
    "version": 3
   },
   "file_extension": ".py",
   "mimetype": "text/x-python",
   "name": "python",
   "nbconvert_exporter": "python",
   "pygments_lexer": "ipython3",
   "version": "3.7.12"
  }
 },
 "nbformat": 4,
 "nbformat_minor": 5
}
