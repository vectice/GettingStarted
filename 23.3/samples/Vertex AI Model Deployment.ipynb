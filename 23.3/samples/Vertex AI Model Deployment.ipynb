{
 "cells": [
  {
   "cell_type": "markdown",
   "id": "ce429bd4-5bcc-47f6-9a7a-19b039cc87c1",
   "metadata": {},
   "source": [
    "# Before you start with this Model Deployment Notebook\n",
    "\n",
    "This notebook is part of the Vectice tutorial project notebook series. It illustrates how to log the assets documented in the \"Model Deployment\" phase of the **\"Tutorial: Forecast in store-unit sales\"** project you can find in your personal Vectice workspace.\n",
    "\n",
    "### Pre-requisites:\n",
    "Before using this notebook you will need:\n",
    "* An account in Vectice\n",
    "* An API token to connect to Vectice through the APIs\n",
    "* The Phase Id of the project where you want to log your work\n",
    "\n",
    "Refer to Vectice Tutorial Guide for more detailed instructions: https://docs.vectice.com/getting-started/tutorial\n",
    "\n",
    "\n",
    "### Other Resources\n",
    "*   Vectice Documentation: https://docs.vectice.com/ </br>\n",
    "*   Vectice API documentation: https://api-docs.vectice.com/"
   ]
  },
  {
   "cell_type": "markdown",
   "id": "3f34332a-2546-4d1f-86a5-cd263dd98f0d",
   "metadata": {},
   "source": [
    "## Install the latest Vectice Python client library"
   ]
  },
  {
   "cell_type": "code",
   "execution_count": null,
   "id": "3d9a66a7-e62d-459d-ab53-579644517548",
   "metadata": {},
   "outputs": [],
   "source": [
    "%pip install --q vectice -U"
   ]
  },
  {
   "cell_type": "markdown",
   "id": "ccd2d28a-abbc-4b5c-abf4-d9d6337bc28e",
   "metadata": {},
   "source": [
    "## Get started by connecting to Vectice"
   ]
  },
  {
   "cell_type": "code",
   "execution_count": null,
   "id": "cd4f068f-60c6-436b-99b5-55575ecdbcb6",
   "metadata": {},
   "outputs": [],
   "source": [
    "import vectice\n",
    "\n",
    "vec = vectice.connect(api_token=\"my-api-token\") #Paste your API token"
   ]
  },
  {
   "cell_type": "markdown",
   "id": "202bb8e0-4466-4383-b98e-ac735655a0af",
   "metadata": {},
   "source": [
    "## Specify which project phase you want to document\n",
    "In Vectice UI, navigate to your personal workspace inside your default Tutorial project go to the Model Deployment phase and copy paste your Phase Id below."
   ]
  },
  {
   "cell_type": "code",
   "execution_count": null,
   "id": "3e19c58a-c203-4c84-8e1d-cd5ecbfa2d35",
   "metadata": {},
   "outputs": [],
   "source": [
    "phase = vec.phase(\"PHA-xxxx\") # Paste your Model Deployment phase ID"
   ]
  },
  {
   "cell_type": "markdown",
   "id": "c9d27a6f-19e4-4f25-a50e-73e8fe0cc9d7",
   "metadata": {},
   "source": [
    "## Next we are going to create an iteration\n",
    "An iteration allows you to organize your work in repeatable sequences of steps. You can have multiple iteration within a phase"
   ]
  },
  {
   "cell_type": "code",
   "execution_count": null,
   "id": "ef0de711-6ae8-484c-9831-f73d404f3e59",
   "metadata": {},
   "outputs": [],
   "source": [
    "deploy_iteration = phase.create_iteration()"
   ]
  },
  {
   "cell_type": "markdown",
   "id": "1ccf931b-9676-4f1b-868c-79c7f15eb0bf",
   "metadata": {},
   "source": [
    "## Retrieve A Previously Created Model\n",
    "We assume the model you stage in the previous Staging phase was approuved for deployment. For simplicity reasons, we will just fetch this model from Vectice retrieve its properties and add a fake endpoint "
   ]
  },
  {
   "cell_type": "code",
   "execution_count": null,
   "id": "81554fb3-316c-47ee-b04c-83c3f433285f",
   "metadata": {},
   "outputs": [],
   "source": [
    "vect_model = vec.browse(\"MDV-xxxx\") #Pass your model ID Ridge Staging created on the Staging phase"
   ]
  },
  {
   "cell_type": "markdown",
   "id": "38b747d7-e400-48a3-95ca-ceb61fb0d85c",
   "metadata": {},
   "source": [
    "## Log a Model\n",
    "Use the following code block to create a local Model"
   ]
  },
  {
   "cell_type": "code",
   "execution_count": null,
   "id": "0f73bd6f-b828-4603-ad8f-05cdb68f888b",
   "metadata": {},
   "outputs": [],
   "source": [
    "deploy_iteration.step_deploy_model = vect_model"
   ]
  },
  {
   "cell_type": "markdown",
   "id": "8ae90c1d-b385-422f-975e-9d7af6cadd0e",
   "metadata": {},
   "source": [
    "## Add a Comment\n",
    "Log the information for the deployment endpoint and model packaging as a comment."
   ]
  },
  {
   "cell_type": "code",
   "execution_count": 1,
   "id": "57deab70-e8fd-4446-98e9-17cb21aeb92f",
   "metadata": {},
   "outputs": [],
   "source": [
    "from google.cloud import aiplatform\n",
    "\n",
    "endpoint = aiplatform.Endpoint(\"5877615328137052160\")"
   ]
  },
  {
   "cell_type": "code",
   "execution_count": 3,
   "id": "9b7fae63-91fb-4062-97b2-419418a7dff9",
   "metadata": {},
   "outputs": [
    {
     "data": {
      "text/plain": [
       "name: \"projects/599225543291/locations/us-central1/endpoints/5877615328137052160\"\n",
       "display_name: \"tutorial_ridge\"\n",
       "deployed_models {\n",
       "  id: \"233186625041989632\"\n",
       "  model: \"projects/599225543291/locations/us-central1/models/794509301254193152\"\n",
       "  display_name: \"ridge\"\n",
       "  create_time {\n",
       "    seconds: 1690187708\n",
       "    nanos: 62809000\n",
       "  }\n",
       "  dedicated_resources {\n",
       "    machine_spec {\n",
       "      machine_type: \"n1-standard-2\"\n",
       "    }\n",
       "    min_replica_count: 1\n",
       "    max_replica_count: 1\n",
       "    autoscaling_metric_specs {\n",
       "      metric_name: \"aiplatform.googleapis.com/prediction/online/cpu/utilization\"\n",
       "      target: 60\n",
       "    }\n",
       "  }\n",
       "  enable_access_logging: true\n",
       "  model_version_id: \"1\"\n",
       "}\n",
       "traffic_split {\n",
       "  key: \"233186625041989632\"\n",
       "  value: 100\n",
       "}\n",
       "etag: \"AMEw9yNFgHZhcv8dZ6WwpzusDoMtK8MrOnRwIW_ATMCPpIyrZKNXf_WAFQ6Bu6utzY8=\"\n",
       "create_time {\n",
       "  seconds: 1690187708\n",
       "  nanos: 62809000\n",
       "}\n",
       "update_time {\n",
       "  seconds: 1690188406\n",
       "  nanos: 20788000\n",
       "}"
      ]
     },
     "execution_count": 3,
     "metadata": {},
     "output_type": "execute_result"
    }
   ],
   "source": [
    "endpoint.gca_resource"
   ]
  },
  {
   "cell_type": "code",
   "execution_count": 17,
   "id": "cc0658d5-7c3f-48cf-9b01-c118bf8547f9",
   "metadata": {},
   "outputs": [
    {
     "data": {
      "text/plain": [
       "'2023-07-24 08:35:08.062809+00:00'"
      ]
     },
     "execution_count": 17,
     "metadata": {},
     "output_type": "execute_result"
    }
   ],
   "source": [
    "str(endpoint.create_time)"
   ]
  },
  {
   "cell_type": "code",
   "execution_count": null,
   "id": "92b0b8f3-9fa0-4b33-bcf6-4fc5ee5593f4",
   "metadata": {},
   "outputs": [],
   "source": [
    "# prediction endpoint\n",
    "# https://us-central1-aiplatform.googleapis.com/v1/projects/tries-and-spikes/locations/us-central1/endpoints/3685206734537752576:predict\n",
    "\n",
    "# Model artifact\n",
    "# https://console.cloud.google.com/storage/browser/dataproc-staging-us-west2-599225543291-rt9b6nzx/models?project=tries-and-spikes\n",
    "\n",
    "# Container image\n",
    "# us-docker.pkg.dev/vertex-ai/prediction/sklearn-cpu.0-24:latest"
   ]
  },
  {
   "cell_type": "code",
   "execution_count": null,
   "id": "c7f7b1ec-19b2-4799-99f6-a4088e3fbc8c",
   "metadata": {},
   "outputs": [],
   "source": [
    "deploy_iteration.step_deploy_model += \"\"\"{\n",
    "  \"Container image\": \"us-docker.pkg.dev/vertex-ai/prediction/sklearn-cpu.0-24:latest\",\n",
    "  \"Prediction endpoint\": \"https://us-central1-aiplatform.googleapis.com/v1/projects/tries-and-spikes/locations/us-central1/endpoints/3685206734537752576:predict\"\n",
    "  \"machine_type: \"n1-standard-2\"\n",
    "  \"Created: 2023-07-24 08:35:08.062809+00:00\"\n",
    "}\"\"\""
   ]
  },
  {
   "cell_type": "markdown",
   "id": "64ccc91e",
   "metadata": {},
   "source": [
    "## 🥇 Congrats! You learn how to succesfully use Vectice to auto-document the Model Deployment phase of the Tutorial Project.<br>\n",
    "### Next we encourage you to explore other notebooks in the tutorial series. You can find those notebooks in Vectice public GitHub repository : https://github.com/vectice/GettingStarted/"
   ]
  }
 ],
 "metadata": {
  "environment": {
   "kernel": "python3",
   "name": "tf2-gpu.2-11.m108",
   "type": "gcloud",
   "uri": "gcr.io/deeplearning-platform-release/tf2-gpu.2-11:m108"
  },
  "kernelspec": {
   "display_name": "Python 3 (ipykernel)",
   "language": "python",
   "name": "python3"
  },
  "language_info": {
   "codemirror_mode": {
    "name": "ipython",
    "version": 3
   },
   "file_extension": ".py",
   "mimetype": "text/x-python",
   "name": "python",
   "nbconvert_exporter": "python",
   "pygments_lexer": "ipython3",
   "version": "3.7.12"
  }
 },
 "nbformat": 4,
 "nbformat_minor": 5
}
