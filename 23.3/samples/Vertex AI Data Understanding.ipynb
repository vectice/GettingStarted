{
 "cells": [
  {
   "cell_type": "markdown",
   "id": "eabedfd0-bda4-4a9f-9ef2-6514a91dbb98",
   "metadata": {},
   "source": [
    "# Before you start with this Data Understanding Notebook\n",
    "\n",
    "This notebook is part of the Vectice tutorial project notebook series. It illustrates how to log the assets documented in the \"Data Understanding\" phase of the **\"Tutorial: Forecast in store-unit sales\"** project you can find in your personal Vectice workspace.\n",
    "\n",
    "### Pre-requisites:\n",
    "Before using this notebook you will need:\n",
    "* An account in Vectice\n",
    "* An API token to connect to Vectice through the APIs\n",
    "* The Phase Id of the project where you want to log your work\n",
    "\n",
    "Refer to Vectice Tutorial Guide for more detailed instructions: https://docs.vectice.com/getting-started/tutorial\n",
    "\n",
    "\n",
    "### Other Resources\n",
    "*   Vectice Documentation: https://docs.vectice.com/ </br>\n",
    "*   Vectice API documentation: https://api-docs.vectice.com/"
   ]
  },
  {
   "cell_type": "code",
   "execution_count": 1,
   "id": "0d53f19b-15ca-48c1-8f6e-85c9d91adb86",
   "metadata": {},
   "outputs": [
    {
     "name": "stdout",
     "output_type": "stream",
     "text": [
      "\u001b[33mWARNING: Ignoring invalid distribution -ensorflow-hub (/opt/conda/lib/python3.7/site-packages)\u001b[0m\u001b[33m\n",
      "\u001b[0m\u001b[33mWARNING: Ignoring invalid distribution -hapely (/opt/conda/lib/python3.7/site-packages)\u001b[0m\u001b[33m\n",
      "\u001b[0m\u001b[33mWARNING: Ignoring invalid distribution -upyterlab-widgets (/opt/conda/lib/python3.7/site-packages)\u001b[0m\u001b[33m\n",
      "\u001b[0m\u001b[33mWARNING: Ignoring invalid distribution -yyaml (/opt/conda/lib/python3.7/site-packages)\u001b[0m\u001b[33m\n",
      "\u001b[0m\u001b[31mERROR: Ignored the following versions that require a different python version: 2.0.0 Requires-Python >=3.8; 2.0.0rc0 Requires-Python >=3.8; 2.0.1 Requires-Python >=3.8; 2.1.0 Requires-Python >=3.8; 2.1.1 Requires-Python >=3.8; 2.2.0 Requires-Python >=3.8; 2.2.1 Requires-Python >=3.8; 2.2.2 Requires-Python >=3.8; 2.3.0 Requires-Python >=3.8; 2.3.1 Requires-Python >=3.8; 2.3.2 Requires-Python >=3.8; 2.4.0 Requires-Python >=3.8; 2.4.1 Requires-Python >=3.8; 2.4.2 Requires-Python >=3.8; 2.5.0 Requires-Python >=3.8\u001b[0m\u001b[31m\n",
      "\u001b[0m\u001b[31mERROR: Could not find a version that satisfies the requirement mlflow==2.5.0 (from versions: 0.0.1, 0.1.0, 0.2.0, 0.2.1, 0.3.0, 0.4.0, 0.4.1, 0.4.2, 0.5.0, 0.5.1, 0.5.2, 0.6.0, 0.7.0, 0.8.0, 0.8.1, 0.8.2, 0.9.0, 0.9.0.1, 0.9.1, 1.0.0, 1.1.0, 1.1.1.dev0, 1.2.0, 1.3.0, 1.4.0, 1.5.0, 1.6.0, 1.7.0, 1.7.1, 1.7.2, 1.8.0, 1.9.0, 1.9.1, 1.10.0, 1.11.0, 1.12.0, 1.12.1, 1.13, 1.13.1, 1.14.0, 1.14.1, 1.15.0, 1.16.0, 1.17.0, 1.18.0, 1.19.0, 1.20.0, 1.20.1, 1.20.2, 1.21.0, 1.22.0, 1.23.0, 1.23.1, 1.24.0, 1.25.0, 1.25.1, 1.26.0, 1.26.1, 1.27.0, 1.28.0, 1.29.0, 1.30.0, 1.30.1)\u001b[0m\u001b[31m\n",
      "\u001b[0m\u001b[31mERROR: No matching distribution found for mlflow==2.5.0\u001b[0m\u001b[31m\n",
      "\u001b[0m"
     ]
    }
   ],
   "source": [
    "!pip install mlflow==2.5.0"
   ]
  },
  {
   "cell_type": "code",
   "execution_count": null,
   "id": "6e6350fb-5aec-448e-9e86-4715055033ee",
   "metadata": {},
   "outputs": [],
   "source": [
    "import warnings\n",
    "warnings.filterwarnings(\"ignore\", category=DeprecationWarning)"
   ]
  },
  {
   "cell_type": "code",
   "execution_count": null,
   "id": "dc1525e3-eb5c-4e5b-855f-47dc2229afbf",
   "metadata": {},
   "outputs": [],
   "source": [
    "import pandas as pd\n",
    "import numpy as np\n",
    "import seaborn as sns\n",
    "import matplotlib.pyplot as plt"
   ]
  },
  {
   "cell_type": "markdown",
   "id": "6da9fd84-09a0-4d30-bc00-c91dea5cd98f",
   "metadata": {},
   "source": [
    "## Install the latest Vectice Python client library"
   ]
  },
  {
   "cell_type": "code",
   "execution_count": null,
   "id": "43c38240-69a2-41fb-bda7-46b7c40b963f",
   "metadata": {},
   "outputs": [],
   "source": [
    "%pip install --q vectice -U"
   ]
  },
  {
   "cell_type": "markdown",
   "id": "10195b2a-a959-4a7b-a20b-e45c292930ef",
   "metadata": {},
   "source": [
    "## Get started by connecting to Vectice"
   ]
  },
  {
   "cell_type": "code",
   "execution_count": null,
   "id": "d34bced5-491f-400b-ac5d-e4665f6f6ae8",
   "metadata": {},
   "outputs": [],
   "source": [
    "import vectice\n",
    "\n",
    "vec = vectice.connect(api_token=\"my-api-token\") #Paste your API token"
   ]
  },
  {
   "cell_type": "markdown",
   "id": "90a36ebc-023d-4f18-8382-8d92044492e3",
   "metadata": {},
   "source": [
    "## Specify which project phase you want to document\n",
    "In Vectice UI, navigate to your personal workspace inside your default Tutorial project go to the Data Understanding phase and copy paste your Phase Id below."
   ]
  },
  {
   "cell_type": "code",
   "execution_count": null,
   "id": "9d57e0e9-fc47-4b91-81b0-2f79907c901a",
   "metadata": {},
   "outputs": [],
   "source": [
    "phase = vec.phase(\"PHA-xxxx\") #Paste your own Data Understanding Phase ID"
   ]
  },
  {
   "cell_type": "markdown",
   "id": "9a7957b4-c5dc-49ff-9612-f58ee9e63146",
   "metadata": {},
   "source": [
    "## Next we are going to create an iteration\n",
    "An iteration allows you to organize your work in repeatable sequences of steps. You can have multiple iteration within a phase"
   ]
  },
  {
   "cell_type": "code",
   "execution_count": null,
   "id": "b315169a-d68f-4a17-9b39-56694b8be697",
   "metadata": {},
   "outputs": [],
   "source": [
    "iteration = phase.create_iteration()"
   ]
  },
  {
   "cell_type": "code",
   "execution_count": null,
   "id": "6c59effc-5b3f-4b75-aae4-f3d46be1218f",
   "metadata": {},
   "outputs": [],
   "source": [
    "df = pd.read_csv(\"https://raw.githubusercontent.com/vectice/GettingStarted/main/23.2/tutorial/SampleSuperstore.csv\", converters = {'Postal Code': str})\n",
    "df.to_csv(\"SampleSuperstore.csv\", index=False)"
   ]
  },
  {
   "cell_type": "markdown",
   "id": "ef495b02-b785-41d5-8741-0796c3cf8da2",
   "metadata": {},
   "source": [
    "## Log a dataset\n",
    "Use the following code block to create a local dataset and generate a graph:"
   ]
  },
  {
   "cell_type": "code",
   "execution_count": null,
   "id": "4722446c-389d-4543-9280-9558e0a07bb7",
   "metadata": {},
   "outputs": [],
   "source": [
    "origin_ds = vectice.FileResource(paths=\"SampleSuperstore.csv\", dataframes=df)\n",
    "\n",
    "\n",
    "origin_dataset = vectice.Dataset.origin(\n",
    "    name=\"ProductSales Origin\",\n",
    "    resource=origin_ds, \n",
    ")"
   ]
  },
  {
   "cell_type": "code",
   "execution_count": null,
   "id": "53bdadfd-c9d3-4c6e-acb4-930751df7a54",
   "metadata": {},
   "outputs": [],
   "source": [
    "iteration.step_collect_initial_data = origin_dataset"
   ]
  },
  {
   "cell_type": "code",
   "execution_count": null,
   "id": "140a4667-ba4c-492b-820b-cfa676dfe184",
   "metadata": {},
   "outputs": [],
   "source": [
    "iteration.step_describe_data = str(df.columns.values)"
   ]
  },
  {
   "cell_type": "code",
   "execution_count": null,
   "id": "473c3d35-7050-4a06-b867-b2861755ee3d",
   "metadata": {},
   "outputs": [],
   "source": [
    "## Checking for Multicollinearity\n",
    "corr_matrix=df.select_dtypes(\"number\").drop(\"Sales\",axis=1).corr()\n",
    "sns.heatmap(corr_matrix);\n",
    "plt.savefig(\"corr_matrix.png\")"
   ]
  },
  {
   "cell_type": "markdown",
   "id": "437759e3",
   "metadata": {},
   "source": [
    "## Log graphs"
   ]
  },
  {
   "cell_type": "markdown",
   "id": "45b5eb6d",
   "metadata": {},
   "source": [
    "You can add multiple items to a single step by using the `+=` operator."
   ]
  },
  {
   "cell_type": "code",
   "execution_count": null,
   "id": "e95ed5c6-fb4b-47be-bd7c-00747f8a4f3e",
   "metadata": {},
   "outputs": [],
   "source": [
    "iteration.step_explore_data += \"corr_matrix.png\""
   ]
  },
  {
   "cell_type": "code",
   "execution_count": null,
   "id": "9e200853-9172-4e9a-a2e0-476beaabcd91",
   "metadata": {},
   "outputs": [],
   "source": [
    "#Checking for outliers\n",
    "sns.distplot(df[\"Quantity\"])\n",
    "plt.savefig(\"Quantity.png\")"
   ]
  },
  {
   "cell_type": "code",
   "execution_count": null,
   "id": "07eff006-fef5-476c-859a-c01947c84c4e",
   "metadata": {},
   "outputs": [],
   "source": [
    "iteration.step_explore_data += \"Quantity.png\""
   ]
  },
  {
   "cell_type": "code",
   "execution_count": null,
   "id": "4ec7ecfc",
   "metadata": {},
   "outputs": [],
   "source": [
    "iteration.complete()"
   ]
  },
  {
   "cell_type": "markdown",
   "id": "421b65ad",
   "metadata": {},
   "source": [
    "## 🥇 Congrats! You learn how to succesfully use Vectice to auto-document the Data Understanding phase of the Tutorial Project.<br>\n",
    "### Next we encourage you to explore other notebooks in the tutorial series. You can find those notebooks in Vectice public GitHub repository : https://github.com/vectice/GettingStarted/"
   ]
  }
 ],
 "metadata": {
  "environment": {
   "kernel": "python3",
   "name": "tf2-gpu.2-11.m108",
   "type": "gcloud",
   "uri": "gcr.io/deeplearning-platform-release/tf2-gpu.2-11:m108"
  },
  "kernelspec": {
   "display_name": "Python 3 (ipykernel)",
   "language": "python",
   "name": "python3"
  },
  "language_info": {
   "codemirror_mode": {
    "name": "ipython",
    "version": 3
   },
   "file_extension": ".py",
   "mimetype": "text/x-python",
   "name": "python",
   "nbconvert_exporter": "python",
   "pygments_lexer": "ipython3",
   "version": "3.7.12"
  }
 },
 "nbformat": 4,
 "nbformat_minor": 5
}
