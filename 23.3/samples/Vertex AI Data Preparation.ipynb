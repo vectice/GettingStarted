{
 "cells": [
  {
   "cell_type": "markdown",
   "id": "c55e848f-4238-4272-bfa7-4d994617e58c",
   "metadata": {},
   "source": [
    "# Before you start with this Data Preparation Notebook\n",
    "\n",
    "This notebook is part of the Vectice tutorial project notebook series. It illustrates how to log the assets documented in the \"Data Preparation\" phase of the **\"Tutorial: Forecast in store-unit sales** project you can find in your personal Vectice workspace.\n",
    "\n",
    "### Pre-requisites:\n",
    "Before using this notebook you will need:\n",
    "* An account in Vectice\n",
    "* An API token to connect to Vectice through the APIs\n",
    "* The Phase Id of the project where you want to log your work\n",
    "\n",
    "Refer to Vectice Tutorial Guide for more detailed instructions: https://docs.vectice.com/getting-started/tutorial\n",
    "\n",
    "\n",
    "### Other Resources\n",
    "*   Vectice Documentation: https://docs.vectice.com/ </br>\n",
    "*   Vectice API documentation: https://api-docs.vectice.com/"
   ]
  },
  {
   "cell_type": "code",
   "execution_count": 3,
   "id": "3ba6582a-2c82-4dee-a4d7-9ea20aa225f8",
   "metadata": {},
   "outputs": [],
   "source": [
    "import warnings\n",
    "warnings.filterwarnings(\"ignore\", category=DeprecationWarning)"
   ]
  },
  {
   "cell_type": "code",
   "execution_count": 4,
   "id": "356e8192-1a31-4853-a965-f6781a8e1d5e",
   "metadata": {},
   "outputs": [],
   "source": [
    "import pandas as pd\n",
    "import numpy as np\n",
    "import seaborn as sns\n",
    "import matplotlib.pyplot as plt"
   ]
  },
  {
   "cell_type": "markdown",
   "id": "8ed8d365-4ae0-4e70-945a-8fc83ce94cc1",
   "metadata": {},
   "source": [
    "## Install the latest Vectice Python client library"
   ]
  },
  {
   "cell_type": "code",
   "execution_count": null,
   "id": "de5b3da3-35d7-4d18-a121-9079c090a067",
   "metadata": {},
   "outputs": [],
   "source": [
    "%pip install --q vectice -U"
   ]
  },
  {
   "cell_type": "markdown",
   "id": "bab305a9-312d-414d-b6bd-322f496db5d5",
   "metadata": {},
   "source": [
    "## Get started by connecting to Vectice"
   ]
  },
  {
   "cell_type": "code",
   "execution_count": 10,
   "id": "43e7d571-0cbe-4c83-ad39-8788a6702fb7",
   "metadata": {},
   "outputs": [
    {
     "name": "stderr",
     "output_type": "stream",
     "text": [
      "Welcome, anell. You`re now successfully connected to Vectice.\n",
      "\n",
      "To access your personal workspace, use \u001b[1mconnection\u001b[0m.my_workspace\n",
      "To access a specific workspace, use \u001b[1mconnection\u001b[0m.workspace(Workspace ID)\n",
      "To get a list of workspaces you can access and their IDs, use \u001b[1mconnection\u001b[0m.list_workspaces()\n",
      "\n",
      "If you are using a notebook you can call the help by using a Vectice returned object with the builtin notebook \"?\":\n",
      ">> connection?\n",
      "\n",
      "If you are using an IDE you can call the help() method on any object returned by Vectice:\n",
      ">> help(connection)\n",
      "\n",
      "For quick access to the list of workspaces in the Vectice web app, visit:\n",
      "https://app.vectice.com/workspaces\n"
     ]
    }
   ],
   "source": [
    "import vectice\n",
    "\n",
    "vec = vectice.connect(api_token=\"Er1z6v19n.pLVDjaWp34dw0XNG7ZzMxEr1z6v19nmObBP6goy2YRQJ8vlkAe\") #Paste your API token"
   ]
  },
  {
   "cell_type": "markdown",
   "id": "897a6883-86b7-4c79-a1af-d5a9f50ed2f2",
   "metadata": {},
   "source": [
    "## Specify which project phase you want to document\n",
    "In Vectice UI, navigate to your personal workspace inside your default Tutorial project go to the Data Preparation phase and copy paste your Phase Id below."
   ]
  },
  {
   "cell_type": "code",
   "execution_count": 13,
   "id": "d5bb04d4-b19c-41d0-bfc0-757c0e9e2513",
   "metadata": {},
   "outputs": [
    {
     "name": "stderr",
     "output_type": "stream",
     "text": [
      "Phase 'Data Preparation' successfully retrieved.\"\n",
      "\n",
      "For quick access to the Phase in the Vectice web app, visit:\n",
      "https://app.vectice.com/browse/phase/PHA-3297\n"
     ]
    }
   ],
   "source": [
    "phase = vec.phase(\"PHA-3297\") #Put your own Data Preparation Phase ID"
   ]
  },
  {
   "cell_type": "markdown",
   "id": "00c94b0d-aaf1-4bdf-ae07-336c92edc14e",
   "metadata": {},
   "source": [
    "## Next we are going to create an iteration\n",
    "An iteration allows you to organize your work in repeatable sequences of steps. You can have multiple iteration within a phase"
   ]
  },
  {
   "cell_type": "code",
   "execution_count": 14,
   "id": "bc134b8f-92c2-4c46-95b5-0c0264d5b4b1",
   "metadata": {},
   "outputs": [
    {
     "name": "stderr",
     "output_type": "stream",
     "text": [
      "New Iteration number 2 created.\n",
      "\n",
      "For quick access to the Iteration in the Vectice web app, visit:\n",
      "https://app.vectice.com/browse/iteration/ITR-1247\n"
     ]
    }
   ],
   "source": [
    "prep_iteration = phase.create_iteration()"
   ]
  },
  {
   "cell_type": "code",
   "execution_count": 15,
   "id": "53ff21f4-388c-47a1-9249-82d055eac8c7",
   "metadata": {},
   "outputs": [],
   "source": [
    "df_initial = pd.read_csv(\"https://raw.githubusercontent.com/vectice/GettingStarted/main/23.2/tutorial/SampleSuperstore.csv\", converters = {'Postal Code': str})\n",
    "df_initial.to_csv(\"SampleSuperstore.csv\", index=False)"
   ]
  },
  {
   "cell_type": "markdown",
   "id": "672635fe-2cf6-4bde-85e4-507249633fc5",
   "metadata": {},
   "source": [
    "## Create Vertex AI Dataset"
   ]
  },
  {
   "cell_type": "code",
   "execution_count": 9,
   "id": "dab5fe48-3d96-4a3c-b5d1-3febd6d5b6ce",
   "metadata": {},
   "outputs": [
    {
     "name": "stdout",
     "output_type": "stream",
     "text": [
      "Creating TabularDataset\n",
      "Create TabularDataset backing LRO: projects/599225543291/locations/us-central1/datasets/5798065661867458560/operations/4884091329878949888\n",
      "TabularDataset created. Resource name: projects/599225543291/locations/us-central1/datasets/5798065661867458560\n",
      "To use this TabularDataset in another session:\n",
      "ds = aiplatform.TabularDataset('projects/599225543291/locations/us-central1/datasets/5798065661867458560')\n",
      "\tDataset: \"ProductSales Origin\"\n",
      "\tname: \"projects/599225543291/locations/us-central1/datasets/5798065661867458560\"\n"
     ]
    }
   ],
   "source": [
    "from google.cloud import aiplatform\n",
    "\n",
    "aiplatform.init(project=\"tries-and-spikes\", location=\"us-central1\")\n",
    "\n",
    "dataset = aiplatform.TabularDataset.create_from_dataframe(\n",
    "    df_initial,\n",
    "    display_name=\"ProductSales Origin\",\n",
    "    staging_path=\"bq://tries-and-spikes.tutorial.productsales-origin\"\n",
    ")\n",
    "\n",
    "dataset.wait()\n",
    "\n",
    "print(f'\\tDataset: \"{dataset.display_name}\"')\n",
    "print(f'\\tname: \"{dataset.resource_name}\"')"
   ]
  },
  {
   "cell_type": "markdown",
   "id": "045a8aec-9741-407b-99dd-a4214d1d9c2b",
   "metadata": {},
   "source": [
    "## Log your origin dataset"
   ]
  },
  {
   "cell_type": "code",
   "execution_count": 20,
   "id": "c3ce85bc-645d-4fd5-832d-f980b21185b5",
   "metadata": {},
   "outputs": [],
   "source": [
    "from google.cloud import bigquery\n",
    "\n",
    "bq_client = bigquery.Client()\n",
    "\n",
    "origin_ds = vectice.BigQueryResource(\"tries-and-spikes.tutorial.productsales-origin\", df_initial, bq_client)"
   ]
  },
  {
   "cell_type": "code",
   "execution_count": 21,
   "id": "0aed4dfd-8366-40a2-8768-6541eb3208b0",
   "metadata": {},
   "outputs": [],
   "source": [
    "origin_dataset = vectice.Dataset.origin(\n",
    "    name=\"ProductSales Origin\",\n",
    "    resource=origin_ds, \n",
    ")"
   ]
  },
  {
   "cell_type": "code",
   "execution_count": 22,
   "id": "fbe2af6f-0188-416b-9639-069391503af0",
   "metadata": {},
   "outputs": [
    {
     "name": "stderr",
     "output_type": "stream",
     "text": [
      "New Version: 'Version 2' of Dataset: 'ProductSales Origin' added to Step: Select Data\n",
      "Attachments: None\n",
      "Link to Step: https://app.vectice.com/browse/iteration/ITR-1247\n",
      "\n"
     ]
    }
   ],
   "source": [
    "prep_iteration.step_select_data = origin_dataset"
   ]
  },
  {
   "cell_type": "markdown",
   "id": "36232ae3",
   "metadata": {},
   "source": [
    "## Apply transformation to your origin dataset "
   ]
  },
  {
   "cell_type": "code",
   "execution_count": 24,
   "id": "35d87dde-7a7b-4d44-ad97-d925f4c54ed5",
   "metadata": {},
   "outputs": [],
   "source": [
    "def wrangle(df):\n",
    "    \n",
    "    #Reducing Cardinality\n",
    "    top_ten_cities=df[\"City\"].value_counts().head(10).index\n",
    "    df[\"City\"]=df[\"City\"].apply(lambda c: c if c in top_ten_cities else \"others\")\n",
    "    top_ten_states=df[\"State\"].value_counts().head(10).index\n",
    "    df[\"State\"]=df[\"State\"].apply(lambda c: c if c in top_ten_states else \"others\")\n",
    "    \n",
    "    ## Dealing with Outliers\n",
    "    q1,q2 =df[\"Profit\"].quantile([0.1,0.9])\n",
    "    df=df[df[\"Profit\"].between(q1,q2)]\n",
    "    \n",
    "    \n",
    "    return df"
   ]
  },
  {
   "cell_type": "code",
   "execution_count": 25,
   "id": "9ef46fcf-1ab0-4e1c-b7a1-8acabc599926",
   "metadata": {},
   "outputs": [
    {
     "data": {
      "text/html": [
       "<div>\n",
       "<style scoped>\n",
       "    .dataframe tbody tr th:only-of-type {\n",
       "        vertical-align: middle;\n",
       "    }\n",
       "\n",
       "    .dataframe tbody tr th {\n",
       "        vertical-align: top;\n",
       "    }\n",
       "\n",
       "    .dataframe thead th {\n",
       "        text-align: right;\n",
       "    }\n",
       "</style>\n",
       "<table border=\"1\" class=\"dataframe\">\n",
       "  <thead>\n",
       "    <tr style=\"text-align: right;\">\n",
       "      <th></th>\n",
       "      <th>Sales</th>\n",
       "      <th>Quantity</th>\n",
       "      <th>Discount</th>\n",
       "      <th>Profit</th>\n",
       "    </tr>\n",
       "  </thead>\n",
       "  <tbody>\n",
       "    <tr>\n",
       "      <th>count</th>\n",
       "      <td>7994.000000</td>\n",
       "      <td>7994.000000</td>\n",
       "      <td>7994.000000</td>\n",
       "      <td>7994.000000</td>\n",
       "    </tr>\n",
       "    <tr>\n",
       "      <th>mean</th>\n",
       "      <td>98.123799</td>\n",
       "      <td>3.558419</td>\n",
       "      <td>0.131893</td>\n",
       "      <td>15.795750</td>\n",
       "    </tr>\n",
       "    <tr>\n",
       "      <th>std</th>\n",
       "      <td>178.131556</td>\n",
       "      <td>2.083735</td>\n",
       "      <td>0.182274</td>\n",
       "      <td>20.670667</td>\n",
       "    </tr>\n",
       "    <tr>\n",
       "      <th>min</th>\n",
       "      <td>0.444000</td>\n",
       "      <td>1.000000</td>\n",
       "      <td>0.000000</td>\n",
       "      <td>-15.466600</td>\n",
       "    </tr>\n",
       "    <tr>\n",
       "      <th>25%</th>\n",
       "      <td>14.016000</td>\n",
       "      <td>2.000000</td>\n",
       "      <td>0.000000</td>\n",
       "      <td>2.957400</td>\n",
       "    </tr>\n",
       "    <tr>\n",
       "      <th>50%</th>\n",
       "      <td>36.328000</td>\n",
       "      <td>3.000000</td>\n",
       "      <td>0.000000</td>\n",
       "      <td>8.666500</td>\n",
       "    </tr>\n",
       "    <tr>\n",
       "      <th>75%</th>\n",
       "      <td>105.520000</td>\n",
       "      <td>5.000000</td>\n",
       "      <td>0.200000</td>\n",
       "      <td>22.200000</td>\n",
       "    </tr>\n",
       "    <tr>\n",
       "      <th>max</th>\n",
       "      <td>4164.050000</td>\n",
       "      <td>14.000000</td>\n",
       "      <td>0.800000</td>\n",
       "      <td>89.222400</td>\n",
       "    </tr>\n",
       "  </tbody>\n",
       "</table>\n",
       "</div>"
      ],
      "text/plain": [
       "             Sales     Quantity     Discount       Profit\n",
       "count  7994.000000  7994.000000  7994.000000  7994.000000\n",
       "mean     98.123799     3.558419     0.131893    15.795750\n",
       "std     178.131556     2.083735     0.182274    20.670667\n",
       "min       0.444000     1.000000     0.000000   -15.466600\n",
       "25%      14.016000     2.000000     0.000000     2.957400\n",
       "50%      36.328000     3.000000     0.000000     8.666500\n",
       "75%     105.520000     5.000000     0.200000    22.200000\n",
       "max    4164.050000    14.000000     0.800000    89.222400"
      ]
     },
     "execution_count": 25,
     "metadata": {},
     "output_type": "execute_result"
    }
   ],
   "source": [
    "df_cleaned = wrangle(df_initial)\n",
    "df_cleaned.describe()"
   ]
  },
  {
   "cell_type": "code",
   "execution_count": 26,
   "id": "668a3d7a-44ed-4596-ba8a-72d3e37320a6",
   "metadata": {},
   "outputs": [
    {
     "name": "stderr",
     "output_type": "stream",
     "text": [
      "/opt/conda/lib/python3.7/site-packages/ipykernel_launcher.py:2: UserWarning: \n",
      "\n",
      "`distplot` is a deprecated function and will be removed in seaborn v0.14.0.\n",
      "\n",
      "Please adapt your code to use either `displot` (a figure-level function with\n",
      "similar flexibility) or `histplot` (an axes-level function for histograms).\n",
      "\n",
      "For a guide to updating your code to use the new functions, please see\n",
      "https://gist.github.com/mwaskom/de44147ed2974457ad6372750bbe5751\n",
      "\n",
      "  \n"
     ]
    },
    {
     "data": {
      "image/png": "[encoded data removed]",
      "text/plain": [
       "<Figure size 640x480 with 1 Axes>"
      ]
     },
     "metadata": {},
     "output_type": "display_data"
    }
   ],
   "source": [
    "#Checking for outliers\n",
    "sns.distplot(df_cleaned[\"Profit\"]);\n",
    "plt.savefig(\"Profit.png\")"
   ]
  },
  {
   "cell_type": "code",
   "execution_count": 27,
   "id": "8eb10e84-38ee-454c-b3c4-c0ab32068bd2",
   "metadata": {},
   "outputs": [
    {
     "name": "stderr",
     "output_type": "stream",
     "text": [
      "/opt/conda/lib/python3.7/site-packages/ipykernel_launcher.py:2: UserWarning: \n",
      "\n",
      "`distplot` is a deprecated function and will be removed in seaborn v0.14.0.\n",
      "\n",
      "Please adapt your code to use either `displot` (a figure-level function with\n",
      "similar flexibility) or `histplot` (an axes-level function for histograms).\n",
      "\n",
      "For a guide to updating your code to use the new functions, please see\n",
      "https://gist.github.com/mwaskom/de44147ed2974457ad6372750bbe5751\n",
      "\n",
      "  \n"
     ]
    },
    {
     "data": {
      "image/png": "[encoded data removed]",
      "text/plain": [
       "<Figure size 640x480 with 1 Axes>"
      ]
     },
     "metadata": {},
     "output_type": "display_data"
    }
   ],
   "source": [
    "#Checking for outliers\n",
    "sns.distplot(df_cleaned[\"Quantity\"])\n",
    "plt.savefig(\"Quantity.png\")"
   ]
  },
  {
   "cell_type": "markdown",
   "id": "a6e8d0c4-9891-485c-80f0-091496ae7435",
   "metadata": {},
   "source": [
    "## Create Vertex AI Dataset "
   ]
  },
  {
   "cell_type": "code",
   "execution_count": 28,
   "id": "df90e5fe-1435-4845-9d7c-9ff801fc20e2",
   "metadata": {},
   "outputs": [
    {
     "name": "stdout",
     "output_type": "stream",
     "text": [
      "Creating TabularDataset\n",
      "Create TabularDataset backing LRO: projects/599225543291/locations/us-central1/datasets/4284856187070971904/operations/4569965255869857792\n",
      "TabularDataset created. Resource name: projects/599225543291/locations/us-central1/datasets/4284856187070971904\n",
      "To use this TabularDataset in another session:\n",
      "ds = aiplatform.TabularDataset('projects/599225543291/locations/us-central1/datasets/4284856187070971904')\n",
      "\tDataset: \"ProductSales Cleaned\"\n",
      "\tname: \"projects/599225543291/locations/us-central1/datasets/4284856187070971904\"\n"
     ]
    }
   ],
   "source": [
    "from google.cloud import aiplatform\n",
    "\n",
    "aiplatform.init(project=\"tries-and-spikes\", location=\"us-central1\")\n",
    "\n",
    "dataset = aiplatform.TabularDataset.create_from_dataframe(\n",
    "    df_cleaned,\n",
    "    display_name=\"ProductSales Cleaned\",\n",
    "    staging_path=\"bq://tries-and-spikes.tutorial.productsales-cleaned\"\n",
    ")\n",
    "\n",
    "dataset.wait()\n",
    "\n",
    "print(f'\\tDataset: \"{dataset.display_name}\"')\n",
    "print(f'\\tname: \"{dataset.resource_name}\"')"
   ]
  },
  {
   "cell_type": "markdown",
   "id": "b698099a",
   "metadata": {},
   "source": [
    "## Log your clean Dataset, add graphs attachments"
   ]
  },
  {
   "cell_type": "code",
   "execution_count": 29,
   "id": "caa53736-2ba8-419d-9e57-ba759b83282a",
   "metadata": {},
   "outputs": [],
   "source": [
    "from google.cloud import bigquery\n",
    "\n",
    "bq_client = bigquery.Client()\n",
    "\n",
    "prepared_ds = vectice.BigQueryResource(\"tries-and-spikes.tutorial.productsales-cleaned\", df_initial, bq_client)\n",
    "\n",
    "\n",
    "prepared_ds = vectice.Dataset.clean(\n",
    "    name=\"ProductSales Cleaned\",\n",
    "    resource=prepared_ds,\n",
    "    derived_from=origin_dataset,                #Origin Dataset for documenting the lineage\n",
    "    attachments=[\"Profit.png\", \"Quantity.png\"]  #Graphs attachments\n",
    ")"
   ]
  },
  {
   "cell_type": "code",
   "execution_count": 30,
   "id": "bb691d55-456a-4e8a-bdd1-3b49edb9ed51",
   "metadata": {},
   "outputs": [
    {
     "name": "stderr",
     "output_type": "stream",
     "text": [
      "New Version: 'Version 2' of Dataset: 'ProductSales Cleaned' added to Step: Clean data\n",
      "Attachments: Quantity.png, Profit.png\n",
      "Link to Step: https://app.vectice.com/browse/iteration/ITR-1247\n",
      "\n"
     ]
    }
   ],
   "source": [
    "prep_iteration.step_clean_data = prepared_ds "
   ]
  },
  {
   "cell_type": "markdown",
   "id": "422501e6",
   "metadata": {},
   "source": [
    "### Log your \"ProductSales Cleaned\" dataset in your step \"Clean Data\""
   ]
  },
  {
   "cell_type": "code",
   "execution_count": null,
   "id": "9cf2bb94",
   "metadata": {},
   "outputs": [],
   "source": [
    "prep_iteration.complete()"
   ]
  },
  {
   "cell_type": "markdown",
   "id": "72b18d42",
   "metadata": {},
   "source": [
    "## 🥇 Congrats! You learn how to succesfully use Vectice to auto-document the Data Preparation phase of the Tutorial Project.<br>\n",
    "### Next we encourage you to explore other notebooks in the tutorial series. You can find those notebooks in Vectice public GitHub repository : https://github.com/vectice/GettingStarted/"
   ]
  }
 ],
 "metadata": {
  "environment": {
   "kernel": "python3",
   "name": "tf2-gpu.2-11.m108",
   "type": "gcloud",
   "uri": "gcr.io/deeplearning-platform-release/tf2-gpu.2-11:m108"
  },
  "kernelspec": {
   "display_name": "Python 3 (ipykernel)",
   "language": "python",
   "name": "python3"
  },
  "language_info": {
   "codemirror_mode": {
    "name": "ipython",
    "version": 3
   },
   "file_extension": ".py",
   "mimetype": "text/x-python",
   "name": "python",
   "nbconvert_exporter": "python",
   "pygments_lexer": "ipython3",
   "version": "3.7.12"
  }
 },
 "nbformat": 4,
 "nbformat_minor": 5
}
