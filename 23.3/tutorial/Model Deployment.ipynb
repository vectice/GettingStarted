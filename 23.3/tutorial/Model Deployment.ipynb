{
 "cells": [
  {
   "attachments": {},
   "cell_type": "markdown",
   "id": "ce429bd4-5bcc-47f6-9a7a-19b039cc87c1",
   "metadata": {},
   "source": [
    "# Before you start with this Model Deployment Notebook\n",
    "\n",
    "This notebook is part of the Vectice tutorial project notebook series. It illustrates how to log the assets documented in the \"Model Deployment\" phase of the **\"Tutorial: Forecast in store-unit sales\"** project you can find in your personal Vectice workspace.\n",
    "\n",
    "### Pre-requisites:\n",
    "Before using this notebook you will need:\n",
    "* An account in Vectice\n",
    "* An API key to connect to Vectice through the APIs\n",
    "* The Phase Id of the project where you want to log your work\n",
    "\n",
    "Refer to Vectice Tutorial Guide for more detailed instructions: https://docs.vectice.com/getting-started/tutorial\n",
    "\n",
    "\n",
    "### Other Resources\n",
    "*   Vectice Documentation: https://docs.vectice.com/ </br>\n",
    "*   Vectice API documentation: https://api-docs.vectice.com/"
   ]
  },
  {
   "attachments": {},
   "cell_type": "markdown",
   "id": "3f34332a-2546-4d1f-86a5-cd263dd98f0d",
   "metadata": {},
   "source": [
    "## Install the latest Vectice Python client library"
   ]
  },
  {
   "cell_type": "code",
   "execution_count": null,
   "id": "3d9a66a7-e62d-459d-ab53-579644517548",
   "metadata": {},
   "outputs": [],
   "source": [
    "%pip install --q vectice -U"
   ]
  },
  {
   "attachments": {},
   "cell_type": "markdown",
   "id": "ccd2d28a-abbc-4b5c-abf4-d9d6337bc28e",
   "metadata": {},
   "source": [
    "## Get started by connecting to Vectice"
   ]
  },
  {
   "cell_type": "code",
   "execution_count": null,
   "id": "cd4f068f-60c6-436b-99b5-55575ecdbcb6",
   "metadata": {},
   "outputs": [],
   "source": [
    "import vectice\n",
    "\n",
    "connect = vectice.connect(api_token=\"your-api-key\") #Paste your API key"
   ]
  },
  {
   "attachments": {},
   "cell_type": "markdown",
   "id": "202bb8e0-4466-4383-b98e-ac735655a0af",
   "metadata": {},
   "source": [
    "## Specify which project phase you want to document\n",
    "In Vectice App, navigate to your personal workspace inside your default Tutorial project go to the Model Deployment phase and copy paste your Phase Id below."
   ]
  },
  {
   "cell_type": "code",
   "execution_count": null,
   "id": "3e19c58a-c203-4c84-8e1d-cd5ecbfa2d35",
   "metadata": {},
   "outputs": [],
   "source": [
    "phase = connect.phase(\"PHA-xxxx\") # Paste your Model Deployment phase ID"
   ]
  },
  {
   "attachments": {},
   "cell_type": "markdown",
   "id": "c9d27a6f-19e4-4f25-a50e-73e8fe0cc9d7",
   "metadata": {},
   "source": [
    "## Next we are going to create an iteration\n",
    "An iteration allows you to organize your work in repeatable sequences. You can have multiple iteration within a phase. Iteration can be organized into sections."
   ]
  },
  {
   "cell_type": "code",
   "execution_count": null,
   "id": "ef0de711-6ae8-484c-9831-f73d404f3e59",
   "metadata": {},
   "outputs": [],
   "source": [
    "iteration = phase.create_or_get_current_iteration()"
   ]
  },
  {
   "attachments": {},
   "cell_type": "markdown",
   "id": "1ccf931b-9676-4f1b-868c-79c7f15eb0bf",
   "metadata": {},
   "source": [
    "## Retrieve A Previously Created Model\n",
    "We assume the model you stage in the previous Staging phase was approuved for deployment. For simplicity reasons, we will just fetch this model from Vectice retrieve its properties and add a fake endpoint "
   ]
  },
  {
   "cell_type": "code",
   "execution_count": null,
   "id": "81554fb3-316c-47ee-b04c-83c3f433285f",
   "metadata": {},
   "outputs": [],
   "source": [
    "vect_model = connect.browse(\"MDV-xxxx\") #Pass your model ID Ridge Staging created on the Staging phase"
   ]
  },
  {
   "attachments": {},
   "cell_type": "markdown",
   "id": "38b747d7-e400-48a3-95ca-ceb61fb0d85c",
   "metadata": {},
   "source": [
    "## Log a Model\n",
    "Use the following code block to create a local Model"
   ]
  },
  {
   "cell_type": "code",
   "execution_count": null,
   "id": "0f73bd6f-b828-4603-ad8f-05cdb68f888b",
   "metadata": {},
   "outputs": [],
   "source": [
    "iteration.log(vect_model, section = \"deploy model\")"
   ]
  },
  {
   "attachments": {},
   "cell_type": "markdown",
   "id": "8ae90c1d-b385-422f-975e-9d7af6cadd0e",
   "metadata": {},
   "source": [
    "## Add a note\n",
    "Log the information for the deployment endpoint and model packaging as a note."
   ]
  },
  {
   "cell_type": "code",
   "execution_count": null,
   "id": "c7f7b1ec-19b2-4799-99f6-a4088e3fbc8c",
   "metadata": {},
   "outputs": [],
   "source": [
    "details = \"\"\"{\n",
    "              \"Container image\": \"us-docker.pkg.dev/vertex-ai/prediction/sklearn-cpu.0-24:latest\",\n",
    "              \"Model artifact location\": \"gs://dataproc-staging-us-west2-599225543291-rt9b6nzx/models/\",\n",
    "              \"Prediction endpoint\": \"https://retail_prediction_service.com/predict\"\n",
    "              }\"\"\"\n",
    "iteration.log(details, section = \"deploy model\")"
   ]
  },
  {
   "cell_type": "code",
   "execution_count": null,
   "id": "66ccf63e",
   "metadata": {},
   "outputs": [],
   "source": [
    "iteration.complete()"
   ]
  },
  {
   "attachments": {},
   "cell_type": "markdown",
   "id": "64ccc91e",
   "metadata": {},
   "source": [
    "## 🥇 Congrats! You learn how to succesfully use Vectice to auto-document the Model Deployment phase of the Tutorial Project.<br>\n",
    "### Next we encourage you to explore other notebooks in the tutorial series. You can find those notebooks in Vectice Tutorial Guide: [Want to learn more about the other phases of the tutorial project?](https://docs.vectice.com/getting-started/tutorial#want-to-learn-more-about-the-other-phases-of-the-tutorial-project)"
   ]
  }
 ],
 "metadata": {
  "kernelspec": {
   "display_name": "Python 3",
   "language": "python",
   "name": "python3"
  },
  "language_info": {
   "codemirror_mode": {
    "name": "ipython",
    "version": 3
   },
   "file_extension": ".py",
   "mimetype": "text/x-python",
   "name": "python",
   "nbconvert_exporter": "python",
   "pygments_lexer": "ipython3",
   "version": "3.9.6"
  }
 },
 "nbformat": 4,
 "nbformat_minor": 5
}
