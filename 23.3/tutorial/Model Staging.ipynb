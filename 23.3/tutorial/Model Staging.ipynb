{
 "cells": [
  {
   "attachments": {},
   "cell_type": "markdown",
   "id": "43ca7ce4-3223-401e-a4af-cc7603f196a0",
   "metadata": {},
   "source": [
    "# Before you start with this Model Staging Notebook\n",
    "\n",
    "This notebook is part of the Vectice tutorial project notebook series. It illustrates how to log the assets documented in the \"Model Staging\" phase of the **\"Tutorial: Forecast in store-unit sales\"** project you can find in your personal Vectice workspace.\n",
    "\n",
    "### Pre-requisites:\n",
    "Before using this notebook you will need:\n",
    "* An account in Vectice\n",
    "* An API token to connect to Vectice through the APIs\n",
    "* The Phase Id of the project where you want to log your work\n",
    "\n",
    "Refer to Vectice Tutorial Guide for more detailed instructions: https://docs.vectice.com/getting-started/tutorial\n",
    "\n",
    "\n",
    "### Other Resources\n",
    "*   Vectice Documentation: https://docs.vectice.com/ </br>\n",
    "*   Vectice API documentation: https://api-docs.vectice.com/"
   ]
  },
  {
   "attachments": {},
   "cell_type": "markdown",
   "id": "156659ab-68d8-42bf-a296-b81419b77f59",
   "metadata": {},
   "source": [
    "## Install the latest Vectice Python client library"
   ]
  },
  {
   "cell_type": "code",
   "execution_count": null,
   "id": "13672b5c-e784-4c7c-a47b-1215a47a593a",
   "metadata": {},
   "outputs": [],
   "source": [
    "%pip install --q vectice -U"
   ]
  },
  {
   "attachments": {},
   "cell_type": "markdown",
   "id": "00d29059-b8b9-422e-bc6f-5c66fce6596c",
   "metadata": {},
   "source": [
    "## Get started by connecting to Vectice"
   ]
  },
  {
   "cell_type": "code",
   "execution_count": null,
   "id": "1645ed95-ef27-444a-b991-b35b7c9cad88",
   "metadata": {},
   "outputs": [],
   "source": [
    "import vectice\n",
    "\n",
    "connect = vectice.connect(api_token=\"my-api-token\") #Paste your API token"
   ]
  },
  {
   "attachments": {},
   "cell_type": "markdown",
   "id": "be757d4c-5049-43f6-b932-84b49c7038a0",
   "metadata": {},
   "source": [
    "## Specify which project phase you want to document\n",
    "In Vectice UI, navigate to your personal workspace inside your default Tutorial project go to the Model Staging and copy paste your Phase Id below."
   ]
  },
  {
   "cell_type": "code",
   "execution_count": null,
   "id": "cfc1ff71-4a3b-4a70-adcd-7bbf690c5134",
   "metadata": {},
   "outputs": [],
   "source": [
    "phase = connect.phase(\"PHA-xxxx\") #Paste your own Model Staging Phase ID"
   ]
  },
  {
   "attachments": {},
   "cell_type": "markdown",
   "id": "361081b0-0995-4c05-924f-8feaab8fdde1",
   "metadata": {},
   "source": [
    "## Next we are going to create an iteration\n",
    "An iteration allows you to organize your work in repeatable sequences. You can have multiple iteration within a phase. Iteration can be organized into sections."
   ]
  },
  {
   "cell_type": "code",
   "execution_count": null,
   "id": "94afc70e-37c1-475d-bc62-1bb8bdb887cd",
   "metadata": {},
   "outputs": [],
   "source": [
    "iteration = phase.create_or_get_current_iteration()"
   ]
  },
  {
   "attachments": {},
   "cell_type": "markdown",
   "id": "8667308a-bf28-4b8d-8553-9d05a8158e03",
   "metadata": {},
   "source": [
    "## Retrieve previously created Datasets\n",
    "You can retrieve a variety of Vectice Objects with the browse('VECTICE-ID') method. Namely, Phases, Iterations, Datasets, Models..."
   ]
  },
  {
   "cell_type": "code",
   "execution_count": null,
   "id": "d934877d-cbba-4bc2-93d5-d723fa37b654",
   "metadata": {},
   "outputs": [],
   "source": [
    "origin_ds = connect.browse(\"DTV-xxxx\")  #Paste your Origin Dataset ID (i.e ProductSales Origin) created on Data Understanding phase\n",
    "cleaned_ds = connect.browse(\"DTV-xxxx\")  #Paste your Cleaned Dataset ID (i.e ProductSales Cleaned) created on Data Preparation phase\n",
    "modeling_dataset = connect.browse(\"DTV-xxxx\")  #Paste your Model Dataset ID (i.e ProductSales Modeling) created on Data Modeling phase"
   ]
  },
  {
   "attachments": {},
   "cell_type": "markdown",
   "id": "5562fc69-f3fd-41f2-a09b-21c0322f4a6a",
   "metadata": {},
   "source": [
    "## Log a Staging Model\n",
    "\n",
    "Imaging you created this model through an automated training pipeline and you log it at the end of the process.<br> For the purpose of the tutorial we will simply create an empty model."
   ]
  },
  {
   "cell_type": "code",
   "execution_count": null,
   "id": "94d501da-41e2-46f6-890c-21a36e188b42",
   "metadata": {},
   "outputs": [],
   "source": [
    "vect_model = vectice.Model(name=\"scikit-learn Ridge Regression Stage model\",library=\"scikit-learn\", technique=\"Ridge Regression\", metrics={\"mae_test\": 63.02}, properties={\"quarter\": \"Q1\"}, derived_from=modeling_dataset)"
   ]
  },
  {
   "cell_type": "code",
   "execution_count": null,
   "id": "dc49e9c6-93f6-473a-84ff-13e5f72052bb",
   "metadata": {},
   "outputs": [],
   "source": [
    "iteration.log(origin_ds, section = \"ingest data\")"
   ]
  },
  {
   "cell_type": "code",
   "execution_count": null,
   "id": "703aa51a-8476-4356-9326-58e0582e7b3c",
   "metadata": {},
   "outputs": [],
   "source": [
    "iteration.log(cleaned_ds, section = \"preprocess data\")"
   ]
  },
  {
   "cell_type": "code",
   "execution_count": null,
   "id": "145e04ed-09e3-4d33-bff5-c8ab51425594",
   "metadata": {},
   "outputs": [],
   "source": [
    "iteration.log(vect_model, section = \"train model\")"
   ]
  },
  {
   "attachments": {},
   "cell_type": "markdown",
   "id": "42e6cd6b-f39e-4b2d-a69f-22e9a5ab7bbd",
   "metadata": {},
   "source": [
    "## Add a Comment\n",
    "Use the following code block to save key performance metrics as a comment that will be use for approving deployment to production"
   ]
  },
  {
   "cell_type": "code",
   "execution_count": null,
   "id": "e33d20d7-e6ca-49bf-b4e5-fbe72795edfd",
   "metadata": {},
   "outputs": [],
   "source": [
    "iteration.log(\"\"\"Evaluation:\\nMAE vs Threshold: 63.02 vs 98 from Baseline \\nModel passed acceptance critera.\"\"\", section = \"evaluate model\")"
   ]
  },
  {
   "cell_type": "code",
   "execution_count": null,
   "id": "e2b804da",
   "metadata": {},
   "outputs": [],
   "source": [
    "iteration.complete()\n"
   ]
  },
  {
   "attachments": {},
   "cell_type": "markdown",
   "id": "e091dc76",
   "metadata": {},
   "source": [
    "## 🥇 Congrats! You learn how to succesfully use Vectice to auto-document the Model Staging phase of the Tutorial Project.<br>\n",
    "### Next we encourage you to explore other notebooks in the tutorial series. You can find those notebooks in Vectice Tutorial Guide: [Want to learn more about the other phases of the tutorial project?](https://docs.vectice.com/getting-started/tutorial#want-to-learn-more-about-the-other-phases-of-the-tutorial-project)"
   ]
  },
  {
   "attachments": {},
   "cell_type": "markdown",
   "id": "7a3e3b30",
   "metadata": {},
   "source": []
  }
 ],
 "metadata": {
  "kernelspec": {
   "display_name": "Python 3",
   "language": "python",
   "name": "python3"
  },
  "language_info": {
   "codemirror_mode": {
    "name": "ipython",
    "version": 3
   },
   "file_extension": ".py",
   "mimetype": "text/x-python",
   "name": "python",
   "nbconvert_exporter": "python",
   "pygments_lexer": "ipython3",
   "version": "3.9.6"
  }
 },
 "nbformat": 4,
 "nbformat_minor": 5
}
