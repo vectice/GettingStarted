{
 "cells": [
  {
   "attachments": {},
   "cell_type": "markdown",
   "id": "eabedfd0-bda4-4a9f-9ef2-6514a91dbb98",
   "metadata": {},
   "source": [
    "# Before you start with this Data Understanding Notebook\n",
    "\n",
    "This notebook is part of the Vectice tutorial project notebook series. It illustrates how to log the assets documented in the \"Data Understanding\" phase of the **\"Tutorial: Forecast in store-unit sales\"** project you can find in your personal Vectice workspace.\n",
    "\n",
    "### Pre-requisites:\n",
    "Before using this notebook you will need:\n",
    "* An account in Vectice\n",
    "* An API key to connect to Vectice through the APIs\n",
    "* The Phase Id of the project where you want to log your work\n",
    "\n",
    "Refer to Vectice Tutorial Guide for more detailed instructions: https://docs.vectice.com/getting-started/tutorial\n",
    "\n",
    "\n",
    "### Other Resources\n",
    "*   Vectice Documentation: https://docs.vectice.com/ </br>\n",
    "*   Vectice API documentation: https://api-docs.vectice.com/"
   ]
  },
  {
   "cell_type": "code",
   "execution_count": 15,
   "id": "6e6350fb-5aec-448e-9e86-4715055033ee",
   "metadata": {},
   "outputs": [],
   "source": [
    "import warnings\n",
    "warnings.filterwarnings(\"ignore\", category=DeprecationWarning)"
   ]
  },
  {
   "cell_type": "code",
   "execution_count": 16,
   "id": "dc1525e3-eb5c-4e5b-855f-47dc2229afbf",
   "metadata": {},
   "outputs": [],
   "source": [
    "import pandas as pd\n",
    "import numpy as np\n",
    "import seaborn as sns\n",
    "import matplotlib.pyplot as plt"
   ]
  },
  {
   "attachments": {},
   "cell_type": "markdown",
   "id": "6da9fd84-09a0-4d30-bc00-c91dea5cd98f",
   "metadata": {},
   "source": [
    "## Install the latest Vectice Python client library"
   ]
  },
  {
   "cell_type": "code",
   "execution_count": null,
   "id": "43c38240-69a2-41fb-bda7-46b7c40b963f",
   "metadata": {},
   "outputs": [],
   "source": [
    "%pip install --q vectice -U"
   ]
  },
  {
   "attachments": {},
   "cell_type": "markdown",
   "id": "10195b2a-a959-4a7b-a20b-e45c292930ef",
   "metadata": {},
   "source": [
    "## Get started by connecting to Vectice"
   ]
  },
  {
   "cell_type": "code",
   "execution_count": null,
   "id": "d34bced5-491f-400b-ac5d-e4665f6f6ae8",
   "metadata": {},
   "outputs": [],
   "source": [
    "import vectice\n",
    "\n",
    "connect = vectice.connect(api_token=\"your-api-key\") #Paste your API key"
   ]
  },
  {
   "attachments": {},
   "cell_type": "markdown",
   "id": "90a36ebc-023d-4f18-8382-8d92044492e3",
   "metadata": {},
   "source": [
    "## Specify which project phase you want to document\n",
    "In Vectice app, navigate to your personal workspace inside your default Tutorial project go to the Data Understanding phase and copy paste your Phase Id below."
   ]
  },
  {
   "cell_type": "code",
   "execution_count": null,
   "id": "9d57e0e9-fc47-4b91-81b0-2f79907c901a",
   "metadata": {},
   "outputs": [],
   "source": [
    "phase = connect.phase(\"PHA-xxxx\") #Paste your own Data Understanding Phase ID"
   ]
  },
  {
   "attachments": {},
   "cell_type": "markdown",
   "id": "9a7957b4-c5dc-49ff-9612-f58ee9e63146",
   "metadata": {},
   "source": [
    "## Next we are going to create an iteration\n",
    "An iteration allows you to organize your work in repeatable sequences. You can have multiple iteration within a phase. Iteration can be organized into sections."
   ]
  },
  {
   "cell_type": "code",
   "execution_count": null,
   "id": "b315169a-d68f-4a17-9b39-56694b8be697",
   "metadata": {},
   "outputs": [],
   "source": [
    "iteration = phase.create_or_get_current_iteration()"
   ]
  },
  {
   "cell_type": "code",
   "execution_count": 17,
   "id": "6c59effc-5b3f-4b75-aae4-f3d46be1218f",
   "metadata": {},
   "outputs": [],
   "source": [
    "df = pd.read_csv(\"https://raw.githubusercontent.com/vectice/GettingStarted/main/23.3/tutorial/SampleSuperstore.csv\", converters = {'Postal Code': str})\n",
    "df.to_csv(\"SampleSuperstore.csv\", index=False)"
   ]
  },
  {
   "attachments": {},
   "cell_type": "markdown",
   "id": "ef495b02-b785-41d5-8741-0796c3cf8da2",
   "metadata": {},
   "source": [
    "## Log a dataset\n",
    "Use the following code block to create a local dataset and generate a graph:"
   ]
  },
  {
   "cell_type": "code",
   "execution_count": null,
   "id": "4722446c-389d-4543-9280-9558e0a07bb7",
   "metadata": {},
   "outputs": [],
   "source": [
    "origin_ds = vectice.FileResource(paths=\"SampleSuperstore.csv\", dataframes=df)\n",
    "\n",
    "\n",
    "origin_dataset = vectice.Dataset.origin(\n",
    "    name=\"ProductSales Origin\",\n",
    "    resource=origin_ds, \n",
    ")"
   ]
  },
  {
   "cell_type": "code",
   "execution_count": null,
   "id": "53bdadfd-c9d3-4c6e-acb4-930751df7a54",
   "metadata": {},
   "outputs": [],
   "source": [
    "iteration.log(origin_dataset, section = \"collect initial data\")"
   ]
  },
  {
   "cell_type": "code",
   "execution_count": null,
   "id": "140a4667-ba4c-492b-820b-cfa676dfe184",
   "metadata": {},
   "outputs": [],
   "source": [
    "iteration.log(str(df.columns.values), section = \"describe data\")"
   ]
  },
  {
   "cell_type": "code",
   "execution_count": null,
   "id": "473c3d35-7050-4a06-b867-b2861755ee3d",
   "metadata": {},
   "outputs": [],
   "source": [
    "## Checking for Multicollinearity\n",
    "corr_matrix=df.select_dtypes(\"number\").drop(\"Sales\",axis=1).corr()\n",
    "sns.heatmap(corr_matrix);\n",
    "plt.savefig(\"corr_matrix.png\")"
   ]
  },
  {
   "attachments": {},
   "cell_type": "markdown",
   "id": "437759e3",
   "metadata": {},
   "source": [
    "## Log graphs"
   ]
  },
  {
   "attachments": {},
   "cell_type": "markdown",
   "id": "45b5eb6d",
   "metadata": {},
   "source": [
    "You can log multiple items to a single iteration by using the `iterarion.log()` method."
   ]
  },
  {
   "cell_type": "code",
   "execution_count": null,
   "id": "e95ed5c6-fb4b-47be-bd7c-00747f8a4f3e",
   "metadata": {},
   "outputs": [],
   "source": [
    "iteration.log(\"corr_matrix.png\", section = \"explore data\")"
   ]
  },
  {
   "cell_type": "code",
   "execution_count": 22,
   "id": "9e200853-9172-4e9a-a2e0-476beaabcd91",
   "metadata": {},
   "outputs": [
    {
     "name": "stderr",
     "output_type": "stream",
     "text": [
      "/var/folders/db/rdyx07495wxbzv8q924p0tph0000gn/T/ipykernel_56551/862432529.py:2: UserWarning: \n",
      "\n",
      "`distplot` is a deprecated function and will be removed in seaborn v0.14.0.\n",
      "\n",
      "Please adapt your code to use either `displot` (a figure-level function with\n",
      "similar flexibility) or `histplot` (an axes-level function for histograms).\n",
      "\n",
      "For a guide to updating your code to use the new functions, please see\n",
      "https://gist.github.com/mwaskom/de44147ed2974457ad6372750bbe5751\n",
      "\n",
      "  sns.distplot(df[\"Quantity\"])\n"
     ]
    },
    {
     "data": {
      "image/png": "[encoded data removed]",
      "text/plain": [
       "<Figure size 640x480 with 1 Axes>"
      ]
     },
     "metadata": {},
     "output_type": "display_data"
    }
   ],
   "source": [
    "#Checking for outliers\n",
    "sns.distplot(df[\"Quantity\"])\n",
    "plt.savefig(\"Quantity.png\")"
   ]
  },
  {
   "cell_type": "code",
   "execution_count": 23,
   "id": "b9aaa351",
   "metadata": {},
   "outputs": [
    {
     "data": {
      "image/png": "[encoded data removed]",
      "text/plain": [
       "<Figure size 500x500 with 1 Axes>"
      ]
     },
     "metadata": {},
     "output_type": "display_data"
    }
   ],
   "source": [
    "#Checking for outliers\n",
    "sns.displot(df[\"Quantity\"])\n",
    "plt.savefig(\"Quantity.png\")"
   ]
  },
  {
   "cell_type": "code",
   "execution_count": null,
   "id": "07eff006-fef5-476c-859a-c01947c84c4e",
   "metadata": {},
   "outputs": [],
   "source": [
    "iteration.log(\"Quantity.png\", section = \"explore data\")"
   ]
  },
  {
   "cell_type": "code",
   "execution_count": null,
   "id": "4ec7ecfc",
   "metadata": {},
   "outputs": [],
   "source": [
    "iteration.complete()"
   ]
  },
  {
   "attachments": {},
   "cell_type": "markdown",
   "id": "421b65ad",
   "metadata": {},
   "source": [
    "## 🥇 Congrats! You learn how to succesfully use Vectice to auto-document the Data Understanding phase of the Tutorial Project.<br>\n",
    "### Next we encourage you to explore other notebooks in the tutorial series. You can find those notebooks in Vectice Tutorial Guide: [Want to learn more about the other phases of the tutorial project?](https://docs.vectice.com/getting-started/tutorial#want-to-learn-more-about-the-other-phases-of-the-tutorial-project)"
   ]
  }
 ],
 "metadata": {
  "kernelspec": {
   "display_name": "Python 3",
   "language": "python",
   "name": "python3"
  },
  "language_info": {
   "codemirror_mode": {
    "name": "ipython",
    "version": 3
   },
   "file_extension": ".py",
   "mimetype": "text/x-python",
   "name": "python",
   "nbconvert_exporter": "python",
   "pygments_lexer": "ipython3",
   "version": "3.9.6"
  }
 },
 "nbformat": 4,
 "nbformat_minor": 5
}
