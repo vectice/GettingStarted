{
 "cells": [
  {
   "cell_type": "markdown",
   "id": "267a5abb-312f-436f-99ee-43b9bba7a743",
   "metadata": {},
   "source": [
    "# Before you start with this Modeling Notebook\n",
    "\n",
    "This notebook is part of the Vectice tutorial project notebook series. It illustrates how the forcast model was trained in the \"Modeling\" phase of the **\"Tutorial: Forecast in store-unit sales\"** project you can find in your personal Vectice workspace.\n",
    "\n",
    "### Pre-requisites:\n",
    "Before using this notebook you will need:\n",
    "* An account in Vectice\n",
    "* An API token to connect to Vectice through the APIs\n",
    "* The Phase Id of the project where you want to log your work\n",
    "\n",
    "Refer to Vectice Tutorial Guide for more detailed instructions: https://docs.vectice.com/getting-started/tutorial\n",
    "\n",
    "\n",
    "### Other Resources\n",
    "*   Vectice Documentation: https://docs.vectice.com/ </br>\n",
    "*   Vectice API documentation: https://api-docs.vectice.com/"
   ]
  },
  {
   "cell_type": "code",
   "execution_count": null,
   "id": "8b0ced23-cc10-4fd0-b1d3-b032efb3fcfc",
   "metadata": {},
   "outputs": [],
   "source": [
    "import warnings\n",
    "warnings.filterwarnings(\"ignore\", category=DeprecationWarning)"
   ]
  },
  {
   "cell_type": "markdown",
   "id": "9c94ff6a-2eb2-4a27-8ee4-2b9712b47b17",
   "metadata": {},
   "source": [
    "## Install the latest Vectice Python client library"
   ]
  },
  {
   "cell_type": "code",
   "execution_count": null,
   "id": "8fd7daee",
   "metadata": {},
   "outputs": [],
   "source": [
    "%pip install --q vectice -U"
   ]
  },
  {
   "cell_type": "code",
   "execution_count": 2,
   "id": "9925c2b4-1873-42ba-a487-6ba08c71df12",
   "metadata": {},
   "outputs": [],
   "source": [
    "import pandas as pd\n",
    "import numpy as np\n",
    "import matplotlib.pyplot as plt\n",
    "from sklearn.model_selection import train_test_split\n",
    "from sklearn.metrics import mean_absolute_error\n",
    "from sklearn.linear_model import Ridge\n",
    "from sklearn.pipeline import make_pipeline\n",
    "from sklearn.compose import ColumnTransformer\n",
    "from sklearn.preprocessing import OneHotEncoder, StandardScaler"
   ]
  },
  {
   "cell_type": "code",
   "execution_count": 3,
   "id": "d47121b6-acfc-46bd-827d-493c068eb4b4",
   "metadata": {},
   "outputs": [],
   "source": [
    "import mlflow"
   ]
  },
  {
   "cell_type": "markdown",
   "id": "e4b94319-e1d0-4a0b-baf6-0eb59ed5e06e",
   "metadata": {},
   "source": [
    "## Get started by connecting to Vectice\n",
    "\n",
    "You can learn more about the `Connection` object in the [documentation](https://api-docs.vectice.com/reference/vectice/connection/)"
   ]
  },
  {
   "cell_type": "markdown",
   "id": "0bb00473",
   "metadata": {},
   "source": [
    "<div class=\"alert\" style=\"color: #383d41; background-color: #e2e3e5; border-color: #d6d8db\" role=\"alert\">\n",
    "<b>Automated code lineage:</b> The code lineage functionalities are not covered as part of this Tutorial as they require to first setting up a Git repository.\n",
    "</div>"
   ]
  },
  {
   "cell_type": "markdown",
   "id": "a6d77236",
   "metadata": {},
   "source": [
    "**First, we need to authenticate to the Vectice server. Before proceeding further:**\n",
    "\n",
    "- Visit the Vectice app to create and copy an API token (cf. https://docs.vectice.com/getting-started/create-an-api-token)\n",
    "\n",
    "- Paste the API token in the code below"
   ]
  },
  {
   "cell_type": "code",
   "execution_count": null,
   "id": "f15b5e87-ceea-41cf-90f2-11fa6c7b4633",
   "metadata": {},
   "outputs": [],
   "source": [
    "import vectice\n",
    "\n",
    "vec = vectice.connect(api_token=\"my-api-token\") #Paste your API token"
   ]
  },
  {
   "cell_type": "markdown",
   "id": "14681ed0-a7c5-4175-b95c-87186fb28bc2",
   "metadata": {},
   "source": [
    "## Specify which project phase you want to document\n",
    "In Vectice UI, navigate to your personal workspace inside your default Tutorial project go to the Modeling phase and copy paste your Phase Id below."
   ]
  },
  {
   "cell_type": "code",
   "execution_count": null,
   "id": "552f544a-8b61-45dc-b2c5-d7bd1972e659",
   "metadata": {},
   "outputs": [],
   "source": [
    "phase = vec.phase(\"PHA-xxxx\") #Paste your own Modeling Phase ID"
   ]
  },
  {
   "cell_type": "markdown",
   "id": "36522f13-0925-4f14-80a9-072890887f68",
   "metadata": {},
   "source": [
    "## Next we are going to create an iteration\n",
    "An iteration allows you to organize your work in repeatable sequences of steps. You can have multiple iteration within a phase."
   ]
  },
  {
   "cell_type": "code",
   "execution_count": null,
   "id": "16d37d91-8f63-4fbc-b6eb-8aaff588e84c",
   "metadata": {},
   "outputs": [],
   "source": [
    "model_iteration = phase.create_iteration()"
   ]
  },
  {
   "cell_type": "markdown",
   "id": "fb4809d8-bd1c-486e-9cce-36afdf478570",
   "metadata": {},
   "source": [
    "## Retrieve your cleaned Dataset previously created in your Data Preparation phase of the project\n",
    "You can retrieve a variety of Vectice Objects with the `browse('VECTICE-ID')` method. Namely, Phases, Iterations, Datasets, Models etc"
   ]
  },
  {
   "cell_type": "code",
   "execution_count": null,
   "id": "62198b33-db5a-4c6e-8370-938b02ffca4b",
   "metadata": {},
   "outputs": [],
   "source": [
    "cleaned_ds = vec.browse(\"DTV-xxxx\") #Get the ID of your Clean Dataset created in the Data Preparation phase"
   ]
  },
  {
   "cell_type": "markdown",
   "id": "ee0aba94-baf2-49bb-a9bc-9b2c16852dc2",
   "metadata": {},
   "source": [
    "## Log a Dataset version\n",
    "\n",
    "Use the following code block to log a local Dataset"
   ]
  },
  {
   "cell_type": "code",
   "execution_count": 4,
   "id": "02c4e722-a008-4989-84bb-500cc5f0534c",
   "metadata": {},
   "outputs": [
    {
     "data": {
      "text/html": [
       "<div>\n",
       "<style scoped>\n",
       "    .dataframe tbody tr th:only-of-type {\n",
       "        vertical-align: middle;\n",
       "    }\n",
       "\n",
       "    .dataframe tbody tr th {\n",
       "        vertical-align: top;\n",
       "    }\n",
       "\n",
       "    .dataframe thead th {\n",
       "        text-align: right;\n",
       "    }\n",
       "</style>\n",
       "<table border=\"1\" class=\"dataframe\">\n",
       "  <thead>\n",
       "    <tr style=\"text-align: right;\">\n",
       "      <th></th>\n",
       "      <th>Ship Mode</th>\n",
       "      <th>Segment</th>\n",
       "      <th>Country</th>\n",
       "      <th>City</th>\n",
       "      <th>State</th>\n",
       "      <th>Postal Code</th>\n",
       "      <th>Region</th>\n",
       "      <th>Category</th>\n",
       "      <th>Sub-Category</th>\n",
       "      <th>Sales</th>\n",
       "      <th>Quantity</th>\n",
       "      <th>Discount</th>\n",
       "      <th>Profit</th>\n",
       "    </tr>\n",
       "  </thead>\n",
       "  <tbody>\n",
       "    <tr>\n",
       "      <th>0</th>\n",
       "      <td>Second Class</td>\n",
       "      <td>Consumer</td>\n",
       "      <td>United States</td>\n",
       "      <td>others</td>\n",
       "      <td>others</td>\n",
       "      <td>42420</td>\n",
       "      <td>South</td>\n",
       "      <td>Furniture</td>\n",
       "      <td>Bookcases</td>\n",
       "      <td>261.960</td>\n",
       "      <td>2</td>\n",
       "      <td>0.0</td>\n",
       "      <td>41.9136</td>\n",
       "    </tr>\n",
       "    <tr>\n",
       "      <th>1</th>\n",
       "      <td>Second Class</td>\n",
       "      <td>Corporate</td>\n",
       "      <td>United States</td>\n",
       "      <td>Los Angeles</td>\n",
       "      <td>California</td>\n",
       "      <td>90036</td>\n",
       "      <td>West</td>\n",
       "      <td>Office Supplies</td>\n",
       "      <td>Labels</td>\n",
       "      <td>14.620</td>\n",
       "      <td>2</td>\n",
       "      <td>0.0</td>\n",
       "      <td>6.8714</td>\n",
       "    </tr>\n",
       "    <tr>\n",
       "      <th>2</th>\n",
       "      <td>Standard Class</td>\n",
       "      <td>Consumer</td>\n",
       "      <td>United States</td>\n",
       "      <td>others</td>\n",
       "      <td>Florida</td>\n",
       "      <td>33311</td>\n",
       "      <td>South</td>\n",
       "      <td>Office Supplies</td>\n",
       "      <td>Storage</td>\n",
       "      <td>22.368</td>\n",
       "      <td>2</td>\n",
       "      <td>0.2</td>\n",
       "      <td>2.5164</td>\n",
       "    </tr>\n",
       "    <tr>\n",
       "      <th>3</th>\n",
       "      <td>Standard Class</td>\n",
       "      <td>Consumer</td>\n",
       "      <td>United States</td>\n",
       "      <td>Los Angeles</td>\n",
       "      <td>California</td>\n",
       "      <td>90032</td>\n",
       "      <td>West</td>\n",
       "      <td>Furniture</td>\n",
       "      <td>Furnishings</td>\n",
       "      <td>48.860</td>\n",
       "      <td>7</td>\n",
       "      <td>0.0</td>\n",
       "      <td>14.1694</td>\n",
       "    </tr>\n",
       "    <tr>\n",
       "      <th>4</th>\n",
       "      <td>Standard Class</td>\n",
       "      <td>Consumer</td>\n",
       "      <td>United States</td>\n",
       "      <td>Los Angeles</td>\n",
       "      <td>California</td>\n",
       "      <td>90032</td>\n",
       "      <td>West</td>\n",
       "      <td>Office Supplies</td>\n",
       "      <td>Art</td>\n",
       "      <td>7.280</td>\n",
       "      <td>4</td>\n",
       "      <td>0.0</td>\n",
       "      <td>1.9656</td>\n",
       "    </tr>\n",
       "  </tbody>\n",
       "</table>\n",
       "</div>"
      ],
      "text/plain": [
       "        Ship Mode    Segment        Country         City       State  \\\n",
       "0    Second Class   Consumer  United States       others      others   \n",
       "1    Second Class  Corporate  United States  Los Angeles  California   \n",
       "2  Standard Class   Consumer  United States       others     Florida   \n",
       "3  Standard Class   Consumer  United States  Los Angeles  California   \n",
       "4  Standard Class   Consumer  United States  Los Angeles  California   \n",
       "\n",
       "  Postal Code Region         Category Sub-Category    Sales  Quantity  \\\n",
       "0       42420  South        Furniture    Bookcases  261.960         2   \n",
       "1       90036   West  Office Supplies       Labels   14.620         2   \n",
       "2       33311  South  Office Supplies      Storage   22.368         2   \n",
       "3       90032   West        Furniture  Furnishings   48.860         7   \n",
       "4       90032   West  Office Supplies          Art    7.280         4   \n",
       "\n",
       "   Discount   Profit  \n",
       "0       0.0  41.9136  \n",
       "1       0.0   6.8714  \n",
       "2       0.2   2.5164  \n",
       "3       0.0  14.1694  \n",
       "4       0.0   1.9656  "
      ]
     },
     "execution_count": 4,
     "metadata": {},
     "output_type": "execute_result"
    }
   ],
   "source": [
    "df = pd.read_csv(\"https://raw.githubusercontent.com/vectice/GettingStarted/main/23.2/tutorial/ProductSales%20Cleaned.csv\", converters = {'Postal Code': str})\n",
    "df.to_csv(\"ProductSales Cleaned.csv\")\n",
    "df.head()"
   ]
  },
  {
   "cell_type": "code",
   "execution_count": 5,
   "id": "99534610-4ed8-4672-8ab3-d8b2df33664b",
   "metadata": {},
   "outputs": [
    {
     "name": "stdout",
     "output_type": "stream",
     "text": [
      "(7994, 12)\n",
      "(7994,)\n"
     ]
    }
   ],
   "source": [
    "target=\"Sales\"\n",
    "X=df.drop([target],axis=1)\n",
    "y=df[target]\n",
    "print(X.shape)\n",
    "print(y.shape)"
   ]
  },
  {
   "cell_type": "code",
   "execution_count": 6,
   "id": "3423b731-454e-4909-850a-d503ca9f2bf5",
   "metadata": {},
   "outputs": [],
   "source": [
    "X_train, X_test, y_train, y_test=train_test_split(X, y, test_size=0.2, random_state=42)"
   ]
  },
  {
   "cell_type": "code",
   "execution_count": 7,
   "id": "0d074b66-37a5-4882-b600-b630a0288b71",
   "metadata": {},
   "outputs": [],
   "source": [
    "# Save the modeling train test split datasets as csv files\n",
    "train_df = X_train.copy()\n",
    "test_df = X_test.copy()\n",
    "\n",
    "train_df[\"Sales\"] = y_train\n",
    "test_df[\"Sales\"] = y_test\n",
    "\n",
    "train_df.to_csv(\"train dataset.csv\", index=False)\n",
    "test_df.to_csv(\"test dataset.csv\", index=False)"
   ]
  },
  {
   "cell_type": "markdown",
   "id": "bb81eaf7-f880-4c77-923a-f5deb7832cf3",
   "metadata": {},
   "source": [
    "### Log a modeling Dataset\n",
    "The Vectice resource will automatically extract pertinent metadata from the local dataset file and collect statistics from the pandas dataframe. This information will be documented within the iteration as part of a Dataset version."
   ]
  },
  {
   "cell_type": "code",
   "execution_count": null,
   "id": "016c1281-3880-498e-8a8c-ab45113f2688",
   "metadata": {},
   "outputs": [],
   "source": [
    "train_ds = vectice.FileResource(paths=\"train dataset.csv\", dataframes=train_df)\n",
    "test_ds = vectice.FileResource(paths=\"test dataset.csv\", dataframes=test_df)"
   ]
  },
  {
   "cell_type": "code",
   "execution_count": null,
   "id": "0416ab44-16c4-4905-a582-306cb87b6566",
   "metadata": {},
   "outputs": [],
   "source": [
    "modeling_dataset = vectice.Dataset.modeling(\n",
    "        name=\"ProductSales Modeling\",\n",
    "        training_resource=train_ds,\n",
    "        testing_resource=test_ds, \n",
    "        derived_from=cleaned_ds,\n",
    "    )"
   ]
  },
  {
   "cell_type": "code",
   "execution_count": null,
   "id": "f7d80585-cbfe-40a0-b360-ef7798d1cfed",
   "metadata": {},
   "outputs": [],
   "source": [
    "model_iteration.step_model_input_data = modeling_dataset"
   ]
  },
  {
   "cell_type": "markdown",
   "id": "2d95e45a-af82-4d76-b619-2ad7b5a2c6bd",
   "metadata": {},
   "source": [
    "# MLflow Log A Dataset "
   ]
  },
  {
   "cell_type": "code",
   "execution_count": 8,
   "id": "12fcb1fa-61a3-45db-a1b5-55d446f12444",
   "metadata": {},
   "outputs": [],
   "source": [
    "mlflow.set_tracking_uri('https://mlflow-dev.vectice.com/')"
   ]
  },
  {
   "cell_type": "code",
   "execution_count": 9,
   "id": "363e0813-8611-46b9-b215-92dabc3c27cf",
   "metadata": {},
   "outputs": [
    {
     "ename": "AttributeError",
     "evalue": "module 'mlflow' has no attribute 'log_input'",
     "output_type": "error",
     "traceback": [
      "\u001b[0;31m---------------------------------------------------------------------------\u001b[0m",
      "\u001b[0;31mAttributeError\u001b[0m                            Traceback (most recent call last)",
      "\u001b[0;32m/var/tmp/ipykernel_6755/2085048242.py\u001b[0m in \u001b[0;36m<module>\u001b[0;34m\u001b[0m\n\u001b[1;32m      2\u001b[0m     \u001b[0;31m# Log the dataset to the MLflow Run. Specify the \"training\" context to indicate that the\u001b[0m\u001b[0;34m\u001b[0m\u001b[0;34m\u001b[0m\u001b[0;34m\u001b[0m\u001b[0m\n\u001b[1;32m      3\u001b[0m     \u001b[0;31m# dataset is used for model training\u001b[0m\u001b[0;34m\u001b[0m\u001b[0;34m\u001b[0m\u001b[0;34m\u001b[0m\u001b[0m\n\u001b[0;32m----> 4\u001b[0;31m     \u001b[0mmlflow\u001b[0m\u001b[0;34m.\u001b[0m\u001b[0mlog_input\u001b[0m\u001b[0;34m(\u001b[0m\u001b[0mdf\u001b[0m\u001b[0;34m,\u001b[0m \u001b[0mcontext\u001b[0m\u001b[0;34m=\u001b[0m\u001b[0;34m\"training\"\u001b[0m\u001b[0;34m)\u001b[0m\u001b[0;34m\u001b[0m\u001b[0;34m\u001b[0m\u001b[0m\n\u001b[0m\u001b[1;32m      5\u001b[0m \u001b[0;34m\u001b[0m\u001b[0m\n\u001b[1;32m      6\u001b[0m \u001b[0;31m# Retrieve the run, including dataset information\u001b[0m\u001b[0;34m\u001b[0m\u001b[0;34m\u001b[0m\u001b[0;34m\u001b[0m\u001b[0m\n",
      "\u001b[0;31mAttributeError\u001b[0m: module 'mlflow' has no attribute 'log_input'"
     ]
    }
   ],
   "source": [
    "with mlflow.start_run():\n",
    "    # Log the dataset to the MLflow Run. Specify the \"training\" context to indicate that the\n",
    "    # dataset is used for model training\n",
    "    mlflow.log_input(df, context=\"training\")\n",
    "\n",
    "# Retrieve the run, including dataset information\n",
    "run = mlflow.get_run(mlflow.last_active_run().info.run_id)\n",
    "dataset_info = run.inputs.dataset_inputs[0].dataset\n",
    "print(f\"Dataset name: {dataset_info.name}\")\n",
    "print(f\"Dataset digest: {dataset_info.digest}\")\n",
    "print(f\"Dataset profile: {dataset_info.profile}\")\n",
    "print(f\"Dataset schema: {dataset_info.schema}\")\n",
    "\n",
    "# Load the dataset's source, which downloads the content from the source URL to the local\n",
    "# filesystem\n",
    "dataset_source = mlflow.data.get_source(dataset_info)\n",
    "dataset_source.load()"
   ]
  },
  {
   "cell_type": "code",
   "execution_count": null,
   "id": "359537aa-3406-4511-abdd-3a2c79d5bd05",
   "metadata": {},
   "outputs": [],
   "source": [
    "modeling_dataset = vectice.Dataset.modeling(\n",
    "        name=\"ProductSales Modeling\",\n",
    "        training_resource=train_dataset,\n",
    "        testing_resource=test_dataset, \n",
    "        derived_from=cleaned_ds,\n",
    "    )"
   ]
  },
  {
   "cell_type": "code",
   "execution_count": null,
   "id": "3f41824c-4da0-4aea-94bd-f8d9a232eca5",
   "metadata": {},
   "outputs": [],
   "source": [
    "model_iteration.step_model_input_data = modeling_dataset"
   ]
  },
  {
   "cell_type": "markdown",
   "id": "e46d5171-b9fb-4ca5-982b-8777744fe747",
   "metadata": {
    "tags": []
   },
   "source": [
    "## Log a Baseline model with MLflow & Vectice\n",
    "\n",
    "First we log a Naive model to Vectice that always return the average sales to establish a Baseline."
   ]
  },
  {
   "cell_type": "code",
   "execution_count": null,
   "id": "a369acc5-d7ed-4388-9fa2-17f0170aaf15",
   "metadata": {},
   "outputs": [],
   "source": [
    "##  baseline mean absolute error\n",
    "y_mean=y_train.mean()\n",
    "y_mean_pred=[y_mean] * len(y_train)\n",
    "baseline_mae=mean_absolute_error(y_train,y_mean_pred)\n",
    "round(baseline_mae,2)"
   ]
  },
  {
   "cell_type": "code",
   "execution_count": null,
   "id": "f54e0422-a12a-46e1-9ddb-ce5539b879f7",
   "metadata": {},
   "outputs": [],
   "source": [
    "mlflow.set_tracking_uri('http://localhost:5000')"
   ]
  },
  {
   "cell_type": "code",
   "execution_count": null,
   "id": "b110a470-dba7-47a9-970b-576e5309bef3",
   "metadata": {},
   "outputs": [],
   "source": [
    "experiment_id = mlflow.create_experiment(\"baseline\")"
   ]
  },
  {
   "cell_type": "code",
   "execution_count": null,
   "id": "50a0d5ab-1cae-43e3-8603-d810d7121081",
   "metadata": {},
   "outputs": [],
   "source": [
    "experiment_run = mlflow.start_run(\"run-003\", experiment_id=experiment_id)"
   ]
  },
  {
   "cell_type": "code",
   "execution_count": null,
   "id": "f85dc2cb-8af0-4fa2-8477-629c28efef40",
   "metadata": {},
   "outputs": [],
   "source": [
    "mlflow.log_metrics({\"mae_baseline\": round(baseline_mae,2)})"
   ]
  },
  {
   "cell_type": "code",
   "execution_count": null,
   "id": "d34059f9-b780-4d7f-a18f-4ab42ed9ab0d",
   "metadata": {},
   "outputs": [],
   "source": [
    "mlflow.log_params({\"technique\": \"Constant predictor\"})"
   ]
  },
  {
   "cell_type": "code",
   "execution_count": null,
   "id": "1c53e072-37d6-4e3c-8cc6-859cc9a55193",
   "metadata": {},
   "outputs": [],
   "source": [
    "mlflow.end_run()"
   ]
  },
  {
   "cell_type": "code",
   "execution_count": null,
   "id": "c3385edb-abc1-4d20-8d12-c3a92a160504",
   "metadata": {},
   "outputs": [],
   "source": [
    "run_id = experiment_run.info.run_uuid"
   ]
  },
  {
   "cell_type": "markdown",
   "id": "71488050-2a0c-40ee-80f1-fe8755c5d152",
   "metadata": {},
   "source": [
    "### Vectice log Baseline model "
   ]
  },
  {
   "cell_type": "code",
   "execution_count": null,
   "id": "d3b70807-22b0-4c38-8ac9-d85408d20656",
   "metadata": {},
   "outputs": [],
   "source": [
    "# Baseline `model` to compare the Ridge Regression against\n",
    "vect_baseline_model = model = Model.mlflow(run_id=run_id, client=mlflow, derived_from='DTV-59110')"
   ]
  },
  {
   "cell_type": "code",
   "execution_count": null,
   "id": "f6dd561c-2d9c-42fb-8762-8dc99e1ea239",
   "metadata": {},
   "outputs": [],
   "source": [
    "model_iteration.step_build_model = vect_baseline_model"
   ]
  },
  {
   "cell_type": "markdown",
   "id": "377d7923",
   "metadata": {},
   "source": [
    "### Train a Ridge regressor as a challenger"
   ]
  },
  {
   "cell_type": "code",
   "execution_count": null,
   "id": "ea42122c",
   "metadata": {},
   "outputs": [],
   "source": [
    "with mlflow.start_run(run_name='mlFlow_test', experiment_id=experiment_id) as run:\n",
    "    OHE = OneHotEncoder(handle_unknown='ignore')\n",
    "    scaler = StandardScaler()\n",
    "\n",
    "    cat_cols = ['Ship Mode', 'Segment', 'Country', 'City', 'State', 'Postal Code','Region', 'Category', 'Sub-Category']\n",
    "    num_cols = ['Quantity', 'Discount', 'Profit']\n",
    "\n",
    "    transformer = ColumnTransformer([('cat_cols', OHE, cat_cols),\n",
    "                                    ('num_cols', scaler, num_cols)])\n",
    "\n",
    "    model = make_pipeline(transformer,Ridge())\n",
    "    model.fit(X_train,y_train)\n",
    "    \n",
    "    # Making Prediction with the training data\n",
    "    y_train_pred = model.predict(X_train)\n",
    "\n",
    "    #Evaluating the model \n",
    "    mae_train=mean_absolute_error(y_train, y_train_pred)\n",
    "    print(round(mae_train,2))\n",
    "    \n",
    "    #Making prediction on test\n",
    "    y_test_pred = model.predict(X_test)\n",
    "    \n",
    "    #Evaluating the model \n",
    "    mae_test = mean_absolute_error(y_test, y_test_pred)\n",
    "    print(round(mae_test,2))"
   ]
  },
  {
   "cell_type": "code",
   "execution_count": null,
   "id": "c6cee489-948a-4538-9d84-b7547a08e494",
   "metadata": {},
   "outputs": [],
   "source": [
    "# Start mlflow session\n",
    "run_id = run.info.run_uuid"
   ]
  },
  {
   "cell_type": "code",
   "execution_count": null,
   "id": "de507cdf-0576-4ef0-ba5e-10fd1f69c176",
   "metadata": {},
   "outputs": [],
   "source": [
    "feature_names = transformer.get_feature_names_out()\n",
    "feature_importances = model.named_steps['ridge'].coef_\n",
    "\n",
    "feat_imf = pd.Series(feature_importances, index=feature_names).sort_values()\n",
    "\n",
    "feat_imf.tail(10).plot(kind=\"barh\")\n",
    "plt.ylabel(\"Features\")\n",
    "plt.xlabel(\"Importance\")\n",
    "plt.title(\"Feature Importance\")\n",
    "plt.tight_layout()\n",
    "plt.savefig(\"Feature Importance.png\")"
   ]
  },
  {
   "cell_type": "code",
   "execution_count": null,
   "id": "7e62c2e6-5fd0-47f5-8f3b-0d14fd5deeb3",
   "metadata": {},
   "outputs": [],
   "source": [
    "vect_model = Model.mlflow(run_id=run_id, client=mlflow, \n",
    "                          derived_from=modeling_dataset,          # Pass your modeling dataset to document the lineage\n",
    "                          attachments=\"Feature Importance.png\")   # Pass your Feature Important graph as an attachment"
   ]
  },
  {
   "cell_type": "markdown",
   "id": "3ea7f45c-acc9-4180-921b-955284a2d59e",
   "metadata": {},
   "source": [
    "### Assign the Ridge model to the step\n",
    "\n",
    "You can add multiple models to a single step by using the `+=` operator."
   ]
  },
  {
   "cell_type": "code",
   "execution_count": null,
   "id": "d4e6bc65-158a-48ea-9dfd-8f2643a3443c",
   "metadata": {},
   "outputs": [],
   "source": [
    "model_iteration.step_build_model += vect_model"
   ]
  },
  {
   "cell_type": "markdown",
   "id": "3aa5e8d5-154d-4420-ae95-bf7a8bf7e9bb",
   "metadata": {},
   "source": [
    "## Add a comment \n",
    "\n",
    "Passing a `string` to a step will add a comment."
   ]
  },
  {
   "cell_type": "code",
   "execution_count": null,
   "id": "3b2560ad-6cab-4978-98fb-06a8a2cbf0a3",
   "metadata": {},
   "outputs": [],
   "source": [
    "# Select the model to be staged\n",
    "model_iteration.step_model_validation = f\"Model passed acceptance criteria\\nMAE Train: {round(mae_train,2)}\\nMAE Test: {round(mae_test,2)}\""
   ]
  },
  {
   "cell_type": "code",
   "execution_count": null,
   "id": "ab7554b8",
   "metadata": {},
   "outputs": [],
   "source": [
    "model_iteration.complete()"
   ]
  },
  {
   "cell_type": "markdown",
   "id": "5cd90849",
   "metadata": {},
   "source": [
    "## 🥇 Congrats! You learn how to succesfully use Vectice to auto-document the Modeling phase of the Tutorial Project.<br>\n",
    "### Next we encourage you to explore other notebooks in the tutorial series. You can find those notebooks in Vectice public GitHub repository : https://github.com/vectice/GettingStarted/"
   ]
  },
  {
   "cell_type": "markdown",
   "id": "481b0162-f5de-4137-8271-9524090202f7",
   "metadata": {},
   "source": [
    "✴ You can view your registered assets and comments in the UI by clicking the links in the output messages.."
   ]
  },
  {
   "cell_type": "code",
   "execution_count": 19,
   "id": "d089e093-badb-422b-a4e9-abf09a9564f6",
   "metadata": {},
   "outputs": [
    {
     "name": "stdout",
     "output_type": "stream",
     "text": [
      "/bin/bash: mlflow: command not found\n"
     ]
    }
   ],
   "source": [
    "!mlflow"
   ]
  },
  {
   "cell_type": "code",
   "execution_count": null,
   "id": "876609e7-015a-4e42-955f-d68a0542b390",
   "metadata": {},
   "outputs": [],
   "source": []
  }
 ],
 "metadata": {
  "environment": {
   "kernel": "python3",
   "name": "tf2-gpu.2-11.m108",
   "type": "gcloud",
   "uri": "gcr.io/deeplearning-platform-release/tf2-gpu.2-11:m108"
  },
  "kernelspec": {
   "display_name": "Python 3 (ipykernel)",
   "language": "python",
   "name": "python3"
  },
  "language_info": {
   "codemirror_mode": {
    "name": "ipython",
    "version": 3
   },
   "file_extension": ".py",
   "mimetype": "text/x-python",
   "name": "python",
   "nbconvert_exporter": "python",
   "pygments_lexer": "ipython3",
   "version": "3.7.12"
  }
 },
 "nbformat": 4,
 "nbformat_minor": 5
}
