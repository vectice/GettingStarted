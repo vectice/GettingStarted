{
 "cells": [
  {
   "cell_type": "markdown",
   "id": "b3764ea8-6e4e-494a-ac05-a82241cd1a0c",
   "metadata": {},
   "source": [
    "# Get Last Execution"
   ]
  },
  {
   "cell_type": "code",
   "execution_count": 1,
   "id": "63cfe13d-9ce3-41f8-816a-45d93cd7afb8",
   "metadata": {},
   "outputs": [],
   "source": [
    "from IPython import get_ipython"
   ]
  },
  {
   "cell_type": "code",
   "execution_count": 2,
   "id": "ac65b093-1e1f-4e98-9c1a-65e87f4ba693",
   "metadata": {},
   "outputs": [],
   "source": [
    "session = get_ipython()"
   ]
  },
  {
   "cell_type": "code",
   "execution_count": 3,
   "id": "5969f3f9-4e12-4b1e-81fe-bb1a9c1af14f",
   "metadata": {},
   "outputs": [
    {
     "data": {
      "text/plain": [
       "<ExecutionResult object at 2b25fdd69d0, execution_count=2 error_before_exec=None error_in_exec=None info=<ExecutionInfo object at 2b25fdd6880, raw_cell=\"session = get_ipython()\" store_history=True silent=False shell_futures=True> result=None>"
      ]
     },
     "execution_count": 3,
     "metadata": {},
     "output_type": "execute_result"
    }
   ],
   "source": [
    "session.last_execution_result"
   ]
  },
  {
   "cell_type": "code",
   "execution_count": 4,
   "id": "c926cd6e-eba6-4e1a-b177-756307ef353a",
   "metadata": {},
   "outputs": [],
   "source": [
    "from IPython.core.magics import ExecutionMagics"
   ]
  },
  {
   "cell_type": "markdown",
   "id": "4779c487-13d1-46ea-8c0c-7140d53e8b33",
   "metadata": {},
   "source": [
    "# Create A Magic"
   ]
  },
  {
   "cell_type": "code",
   "execution_count": 8,
   "id": "9ecadbe2-d39f-4ee0-8020-2586c0cce31b",
   "metadata": {},
   "outputs": [],
   "source": [
    "# This code can be put in any Python module, it does not require IPython\n",
    "# itself to be running already.  It only creates the magics subclass but\n",
    "# doesn't instantiate it yet.\n",
    "from __future__ import print_function\n",
    "from IPython.core.magic import (Magics, magics_class, line_magic,\n",
    "                                cell_magic, line_cell_magic)\n",
    "\n",
    "# The class MUST call this class decorator at creation time\n",
    "@magics_class\n",
    "class MyMagics(Magics):\n",
    "\n",
    "    @line_magic\n",
    "    def lmagic(self, line):\n",
    "        \"my line magic\"\n",
    "        print(\"Full access to the main IPython object:\", self.shell)\n",
    "        print(\"Variables in the user namespace:\", list(self.shell.user_ns.keys()))\n",
    "        return line\n",
    "\n",
    "    @cell_magic\n",
    "    def cmagic(self, line, cell):\n",
    "        \"my cell magic\"\n",
    "        return line, cell\n",
    "\n",
    "    @line_cell_magic\n",
    "    def lcmagic(self, line, cell=None):\n",
    "        \"Magic that works both as %lcmagic and as %%lcmagic\"\n",
    "        if cell is None:\n",
    "            print(\"Called as line magic\")\n",
    "            return line\n",
    "        else:\n",
    "            print(\"Called as cell magic\")\n",
    "            return line, cell\n",
    "\n",
    "\n",
    "# In order to actually use these magics, you must register them with a\n",
    "# running IPython.\n",
    "\n",
    "def load_ipython_extension(ipython):\n",
    "    \"\"\"\n",
    "    Any module file that define a function named `load_ipython_extension`\n",
    "    can be loaded via `%load_ext module.path` or be configured to be\n",
    "    autoloaded by IPython at startup time.\n",
    "    \"\"\"\n",
    "    # You can register the class itself without instantiating it.  IPython will\n",
    "    # call the default constructor on it.\n",
    "    ipython.register_magics(MyMagics)"
   ]
  },
  {
   "cell_type": "code",
   "execution_count": null,
   "id": "53323c1f-8148-4573-b6a3-d6c3b6b5b56c",
   "metadata": {},
   "outputs": [],
   "source": [
    "%load_ext MyMagics"
   ]
  },
  {
   "cell_type": "code",
   "execution_count": 16,
   "id": "685b44d1-34bf-440d-b3d7-cd8edb762e9d",
   "metadata": {},
   "outputs": [
    {
     "name": "stdout",
     "output_type": "stream",
     "text": [
      "Object `register_magics` not found.\n"
     ]
    }
   ],
   "source": [
    "from IPython import get_ipython\n",
    "get_ipython().register_magics(MyMagics)"
   ]
  },
  {
   "cell_type": "code",
   "execution_count": 1,
   "id": "239a5e29-4293-45fb-a95a-532b9a938367",
   "metadata": {},
   "outputs": [
    {
     "name": "stderr",
     "output_type": "stream",
     "text": [
      "UsageError: Line magic function `%mymagics` not found.\n"
     ]
    }
   ],
   "source": [
    "%mymagics"
   ]
  },
  {
   "cell_type": "code",
   "execution_count": 2,
   "id": "e19a24b5-a5df-47e4-bdf1-8742d084e550",
   "metadata": {},
   "outputs": [
    {
     "data": {
      "application/json": {
       "cell": {
        "!": "OSMagics",
        "HTML": "Other",
        "SVG": "Other",
        "bash": "Other",
        "capture": "ExecutionMagics",
        "cmagic": "MyMagics",
        "cmd": "Other",
        "debug": "ExecutionMagics",
        "file": "Other",
        "html": "DisplayMagics",
        "javascript": "DisplayMagics",
        "js": "DisplayMagics",
        "latex": "DisplayMagics",
        "lcmagic": "MyMagics",
        "markdown": "DisplayMagics",
        "perl": "Other",
        "prun": "ExecutionMagics",
        "pypy": "Other",
        "python": "Other",
        "python2": "Other",
        "python3": "Other",
        "ruby": "Other",
        "script": "ScriptMagics",
        "sh": "Other",
        "svg": "DisplayMagics",
        "sx": "OSMagics",
        "system": "OSMagics",
        "time": "ExecutionMagics",
        "timeit": "ExecutionMagics",
        "writefile": "OSMagics"
       },
       "line": {
        "alias": "OSMagics",
        "alias_magic": "BasicMagics",
        "autoawait": "AsyncMagics",
        "autocall": "AutoMagics",
        "automagic": "AutoMagics",
        "autosave": "KernelMagics",
        "bookmark": "OSMagics",
        "cd": "OSMagics",
        "clear": "KernelMagics",
        "cls": "KernelMagics",
        "colors": "BasicMagics",
        "conda": "PackagingMagics",
        "config": "ConfigMagics",
        "connect_info": "KernelMagics",
        "copy": "Other",
        "ddir": "Other",
        "debug": "ExecutionMagics",
        "dhist": "OSMagics",
        "dirs": "OSMagics",
        "doctest_mode": "BasicMagics",
        "echo": "Other",
        "ed": "Other",
        "edit": "KernelMagics",
        "env": "OSMagics",
        "gui": "BasicMagics",
        "hist": "Other",
        "history": "HistoryMagics",
        "killbgscripts": "ScriptMagics",
        "lcmagic": "MyMagics",
        "ldir": "Other",
        "less": "KernelMagics",
        "lmagic": "MyMagics",
        "load": "CodeMagics",
        "load_ext": "ExtensionMagics",
        "loadpy": "CodeMagics",
        "logoff": "LoggingMagics",
        "logon": "LoggingMagics",
        "logstart": "LoggingMagics",
        "logstate": "LoggingMagics",
        "logstop": "LoggingMagics",
        "ls": "Other",
        "lsmagic": "BasicMagics",
        "macro": "ExecutionMagics",
        "magic": "BasicMagics",
        "matplotlib": "PylabMagics",
        "mkdir": "Other",
        "more": "KernelMagics",
        "notebook": "BasicMagics",
        "page": "BasicMagics",
        "pastebin": "CodeMagics",
        "pdb": "ExecutionMagics",
        "pdef": "NamespaceMagics",
        "pdoc": "NamespaceMagics",
        "pfile": "NamespaceMagics",
        "pinfo": "NamespaceMagics",
        "pinfo2": "NamespaceMagics",
        "pip": "PackagingMagics",
        "popd": "OSMagics",
        "pprint": "BasicMagics",
        "precision": "BasicMagics",
        "prun": "ExecutionMagics",
        "psearch": "NamespaceMagics",
        "psource": "NamespaceMagics",
        "pushd": "OSMagics",
        "pwd": "OSMagics",
        "pycat": "OSMagics",
        "pylab": "PylabMagics",
        "qtconsole": "KernelMagics",
        "quickref": "BasicMagics",
        "recall": "HistoryMagics",
        "rehashx": "OSMagics",
        "reload_ext": "ExtensionMagics",
        "ren": "Other",
        "rep": "Other",
        "rerun": "HistoryMagics",
        "reset": "NamespaceMagics",
        "reset_selective": "NamespaceMagics",
        "rmdir": "Other",
        "run": "ExecutionMagics",
        "save": "CodeMagics",
        "sc": "OSMagics",
        "set_env": "OSMagics",
        "store": "StoreMagics",
        "sx": "OSMagics",
        "system": "OSMagics",
        "tb": "ExecutionMagics",
        "time": "ExecutionMagics",
        "timeit": "ExecutionMagics",
        "unalias": "OSMagics",
        "unload_ext": "ExtensionMagics",
        "who": "NamespaceMagics",
        "who_ls": "NamespaceMagics",
        "whos": "NamespaceMagics",
        "xdel": "NamespaceMagics",
        "xmode": "BasicMagics"
       }
      },
      "text/plain": [
       "Available line magics:\n",
       "%alias  %alias_magic  %autoawait  %autocall  %automagic  %autosave  %bookmark  %cd  %clear  %cls  %colors  %conda  %config  %connect_info  %copy  %ddir  %debug  %dhist  %dirs  %doctest_mode  %echo  %ed  %edit  %env  %gui  %hist  %history  %killbgscripts  %lcmagic  %ldir  %less  %lmagic  %load  %load_ext  %loadpy  %logoff  %logon  %logstart  %logstate  %logstop  %ls  %lsmagic  %macro  %magic  %matplotlib  %mkdir  %more  %notebook  %page  %pastebin  %pdb  %pdef  %pdoc  %pfile  %pinfo  %pinfo2  %pip  %popd  %pprint  %precision  %prun  %psearch  %psource  %pushd  %pwd  %pycat  %pylab  %qtconsole  %quickref  %recall  %rehashx  %reload_ext  %ren  %rep  %rerun  %reset  %reset_selective  %rmdir  %run  %save  %sc  %set_env  %store  %sx  %system  %tb  %time  %timeit  %unalias  %unload_ext  %who  %who_ls  %whos  %xdel  %xmode\n",
       "\n",
       "Available cell magics:\n",
       "%%!  %%HTML  %%SVG  %%bash  %%capture  %%cmagic  %%cmd  %%debug  %%file  %%html  %%javascript  %%js  %%latex  %%lcmagic  %%markdown  %%perl  %%prun  %%pypy  %%python  %%python2  %%python3  %%ruby  %%script  %%sh  %%svg  %%sx  %%system  %%time  %%timeit  %%writefile\n",
       "\n",
       "Automagic is ON, % prefix IS NOT needed for line magics."
      ]
     },
     "execution_count": 2,
     "metadata": {},
     "output_type": "execute_result"
    }
   ],
   "source": [
    "%lsmagic"
   ]
  },
  {
   "cell_type": "code",
   "execution_count": 4,
   "id": "8abcb321-091a-4f48-97ef-8c1201063dc5",
   "metadata": {},
   "outputs": [
    {
     "name": "stdout",
     "output_type": "stream",
     "text": [
      "Full access to the main IPython object: <ipykernel.zmqshell.ZMQInteractiveShell object at 0x000002958C96E850>\n",
      "Variables in the user namespace: ['__name__', '__doc__', '__package__', '__loader__', '__spec__', '__builtin__', '__builtins__', '_ih', '_oh', '_dh', 'In', 'Out', 'get_ipython', 'exit', 'quit', '_', '__', '___', 'print_function', 'Magics', 'magics_class', 'line_magic', 'cell_magic', 'line_cell_magic', 'MyMagics', 'load_ipython_extension', '_i', '_ii', '_iii', '_i1', '_i2', '_2', '_i3', '_3', '_i4']\n"
     ]
    },
    {
     "data": {
      "text/plain": [
       "''"
      ]
     },
     "execution_count": 4,
     "metadata": {},
     "output_type": "execute_result"
    }
   ],
   "source": [
    "%lmagic"
   ]
  },
  {
   "cell_type": "markdown",
   "id": "7e0fb15e-240d-4445-85fc-303943fcde1c",
   "metadata": {},
   "source": [
    "### Access The Variables"
   ]
  },
  {
   "cell_type": "code",
   "execution_count": 5,
   "id": "da5c5f64-e337-45c6-9f8f-e21ff4037f15",
   "metadata": {},
   "outputs": [],
   "source": [
    "number = 1"
   ]
  },
  {
   "cell_type": "code",
   "execution_count": null,
   "id": "ef4d620a-27d8-4bd7-928a-5236059f90ce",
   "metadata": {},
   "outputs": [],
   "source": [
    "locals()"
   ]
  },
  {
   "cell_type": "code",
   "execution_count": null,
   "id": "e7a2bcee-e32e-496d-a9aa-0f3d6e4fd22a",
   "metadata": {},
   "outputs": [],
   "source": [
    "globals()"
   ]
  },
  {
   "cell_type": "code",
   "execution_count": 8,
   "id": "aff97af5-fec9-4f4a-ab4d-9dee9c9f63bb",
   "metadata": {},
   "outputs": [],
   "source": [
    "vectice_num = locals()[\"number\"]"
   ]
  },
  {
   "cell_type": "code",
   "execution_count": 9,
   "id": "b81d8aa1-6acb-4dc2-87f8-48c8c25427aa",
   "metadata": {},
   "outputs": [
    {
     "data": {
      "text/plain": [
       "1"
      ]
     },
     "execution_count": 9,
     "metadata": {},
     "output_type": "execute_result"
    }
   ],
   "source": [
    "vectice_num"
   ]
  },
  {
   "cell_type": "code",
   "execution_count": 13,
   "id": "dbf238fa-98db-4ca7-b162-94de81e15c38",
   "metadata": {},
   "outputs": [
    {
     "name": "stdout",
     "output_type": "stream",
     "text": [
      "number = 1\n"
     ]
    }
   ],
   "source": [
    "import io\n",
    "from nbformat import read\n",
    "\n",
    "def print_cell_code(fname, cellno):\n",
    "    with io.open(fname, 'r', encoding='utf-8') as f:\n",
    "        nb = read(f, 4)\n",
    "    cell = nb.cells[cellno]\n",
    "    print(cell.source)\n",
    "\n",
    "print_cell_code(\"Untitled.ipynb\",13)"
   ]
  },
  {
   "cell_type": "markdown",
   "id": "fb96da42-07a3-42ae-870e-234b5a8c2e20",
   "metadata": {},
   "source": [
    "# Get Cell Information\n",
    "- The cell number and contents\n",
    "- https://ipython.readthedocs.io/en/stable/api/generated/IPython.core.events.html#IPython.core.events.pre_run_cell\n",
    "- stacks so events registered need to be cleaned up\n",
    "- There is pre_execute, pre_run_cell, post_execute, post_run_cell "
   ]
  },
  {
   "cell_type": "code",
   "execution_count": 2,
   "id": "75d565fa-88d3-4a32-b2d2-96f712cb5ea0",
   "metadata": {},
   "outputs": [],
   "source": [
    "# This captures the code called, we then use regex to identify the variables in locals. The variables found can then be logged to vectice.\n",
    "import IPython\n",
    "ip = IPython.get_ipython()\n",
    "global run \n",
    "run = 0\n",
    "def f():\n",
    "    global cell_content\n",
    "    global cell_info\n",
    "    global run\n",
    "    if run < 2:\n",
    "        cell_content = ip.get_parent()['content']['code']\n",
    "        cell_info = ip.get_parent()\n",
    "        run += 1\n",
    "        \n",
    "ip.events.register('post_run_cell', f)"
   ]
  },
  {
   "cell_type": "code",
   "execution_count": 1,
   "id": "1b4906ca-0dfc-45c8-9a92-1bdc53187162",
   "metadata": {},
   "outputs": [],
   "source": [
    "from autolog.autolog import autolog"
   ]
  },
  {
   "cell_type": "code",
   "execution_count": 2,
   "id": "ec4e334d-2f84-4898-81c2-97cb0a5c278b",
   "metadata": {},
   "outputs": [
    {
     "name": "stdout",
     "output_type": "stream",
     "text": [
      "{'getOrgConfig': {'organization': {'configuration': {'dfStatisticsRowThreshold': 100}}, '__typename': 'OrgConfigOutput'}}\n"
     ]
    },
    {
     "name": "stderr",
     "output_type": "stream",
     "text": [
      "Welcome, anell. You`re now successfully connected to Vectice.\n",
      "\n",
      "To access your personal workspace, use \u001b[1mconnection\u001b[0m.my_workspace\n",
      "To access a specific workspace, use \u001b[1mconnection\u001b[0m.workspace(Workspace ID)\n",
      "To get a list of workspaces you can access and their IDs, use \u001b[1mconnection\u001b[0m.list_workspaces()\n",
      "\n",
      "If you are using a notebook you can call the help by using a Vectice returned object with the builtin notebook \"?\":\n",
      ">> connection?\n",
      "\n",
      "If you are using an IDE you can call the help() method on any object returned by Vectice:\n",
      ">> help(connection)\n",
      "\n",
      "For quick access to the list of workspaces in the Vectice web app, visit:\n",
      "https://app.vectice.com/workspaces\n",
      "Phase 'log test 10' successfully retrieved.\"\n",
      "\n",
      "For quick access to the Phase in the Vectice web app, visit:\n",
      "https://app.vectice.com/browse/phase/PHA-3661\n",
      "Iteration number 1 successfully retrieved.\n",
      "\n",
      "For quick access to the Iteration in the Vectice web app, visit:\n",
      "https://app.vectice.com/browse/iteration/ITR-1486\n",
      "Model LogisticRegression successfully attached to Model(name='sklearn LogisticRegression'> model', version='Version 2').\n",
      "New Version: 'Version 2' of Model: \"sklearn LogisticRegression'> model\" added to Step: test\n",
      "Attachments: None\n",
      "Link to Step: https://app.vectice.com/browse/iteration/ITR-1486\n",
      "\n"
     ]
    }
   ],
   "source": [
    "# A vectice.autolog() method would be called here to invoke the above even to be registered and we capture the local variables\n",
    "from sklearn.linear_model import LogisticRegression\n",
    "from sklearn.datasets import load_iris\n",
    "import pandas as pd\n",
    "\n",
    "params = {\n",
    "        \"C\": 1e5,\n",
    "        \"class_weight\": None,\n",
    "        \"dual\": False,\n",
    "        \"fit_intercept\": True,\n",
    "        \"intercept_scaling\": 1,\n",
    "        \"l1_ratio\": None,\n",
    "        \"max_iter\": 100,\n",
    "        \"multi_class\": \"auto\",\n",
    "        \"n_jobs\": None,\n",
    "        \"penalty\": \"l2\",\n",
    "        \"random_state\": 0,\n",
    "        \"solver\": \"lbfgs\",\n",
    "        \"tol\": 0.0001,\n",
    "        \"verbose\": 0,\n",
    "        \"warm_start\": False,\n",
    "    }\n",
    "iris = load_iris()\n",
    "dummy_df = pd.DataFrame(iris.data)\n",
    "x = iris.data[:, :2]  # we only take the first two features.\n",
    "y = iris.target\n",
    "\n",
    "logreg = LogisticRegression(**params).fit(x, y)\n",
    "autolog(locals())"
   ]
  },
  {
   "cell_type": "code",
   "execution_count": 4,
   "id": "f5edd5c3-c7f8-430a-9685-8c1e4f2a0945",
   "metadata": {},
   "outputs": [
    {
     "name": "stderr",
     "output_type": "stream",
     "text": [
      "C:\\Users\\Aidan\\AppData\\Local\\Programs\\Python\\Python39\\lib\\site-packages\\ipykernel\\ipkernel.py:283: DeprecationWarning: `should_run_async` will not call `transform_cell` automatically in the future. Please pass the result to `transformed_cell` argument and any exception that happen during thetransform in `preprocessing_exc_tuple` in IPython 7.17 and above.\n",
      "  and should_run_async(code)\n"
     ]
    },
    {
     "data": {
      "text/plain": [
       "numpy.ndarray"
      ]
     },
     "execution_count": 4,
     "metadata": {},
     "output_type": "execute_result"
    }
   ],
   "source": [
    "type(x)"
   ]
  },
  {
   "cell_type": "code",
   "execution_count": 5,
   "id": "88f2d061-933d-4140-896f-b70bb614e1c1",
   "metadata": {},
   "outputs": [
    {
     "data": {
      "text/plain": [
       "['params', 'iris', 'dummy_df', 'x', 'y', 'logreg']"
      ]
     },
     "execution_count": 5,
     "metadata": {},
     "output_type": "execute_result"
    }
   ],
   "source": [
    "import re\n",
    "matches = re.findall(r'(.*?) =', cell_content)\n",
    "matches"
   ]
  },
  {
   "cell_type": "code",
   "execution_count": 6,
   "id": "a61ae50b-071b-44c7-9ef5-14832539dcbc",
   "metadata": {},
   "outputs": [],
   "source": [
    "local_vars = locals() # calling locals in the list comprehension causes inconsistencies \n",
    "vectice_data = {variable: local_vars[variable] for variable in matches}"
   ]
  },
  {
   "cell_type": "code",
   "execution_count": null,
   "id": "35a46e96-a39b-48f4-9bc2-e251aef4be9f",
   "metadata": {},
   "outputs": [],
   "source": [
    "vectice_data"
   ]
  },
  {
   "cell_type": "code",
   "execution_count": 9,
   "id": "51277e10-1242-4a07-ae45-cb1a6792119b",
   "metadata": {},
   "outputs": [
    {
     "name": "stdout",
     "output_type": "stream",
     "text": [
      "LogisticRegression(C=100000.0, random_state=0)\n",
      "       0    1    2    3\n",
      "0    5.1  3.5  1.4  0.2\n",
      "1    4.9  3.0  1.4  0.2\n",
      "2    4.7  3.2  1.3  0.2\n",
      "3    4.6  3.1  1.5  0.2\n",
      "4    5.0  3.6  1.4  0.2\n",
      "..   ...  ...  ...  ...\n",
      "145  6.7  3.0  5.2  2.3\n",
      "146  6.3  2.5  5.0  1.9\n",
      "147  6.5  3.0  5.2  2.0\n",
      "148  6.2  3.4  5.4  2.3\n",
      "149  5.9  3.0  5.1  1.8\n",
      "\n",
      "[150 rows x 4 columns]\n"
     ]
    }
   ],
   "source": [
    "print(vectice_data['logreg'])\n",
    "print(vectice_data['dummy_df'])"
   ]
  },
  {
   "cell_type": "code",
   "execution_count": 9,
   "id": "2821dd93-9fef-4a18-98ee-509229ae3422",
   "metadata": {},
   "outputs": [
    {
     "data": {
      "text/html": [
       "<style>#sk-container-id-1 {color: black;background-color: white;}#sk-container-id-1 pre{padding: 0;}#sk-container-id-1 div.sk-toggleable {background-color: white;}#sk-container-id-1 label.sk-toggleable__label {cursor: pointer;display: block;width: 100%;margin-bottom: 0;padding: 0.3em;box-sizing: border-box;text-align: center;}#sk-container-id-1 label.sk-toggleable__label-arrow:before {content: \"▸\";float: left;margin-right: 0.25em;color: #696969;}#sk-container-id-1 label.sk-toggleable__label-arrow:hover:before {color: black;}#sk-container-id-1 div.sk-estimator:hover label.sk-toggleable__label-arrow:before {color: black;}#sk-container-id-1 div.sk-toggleable__content {max-height: 0;max-width: 0;overflow: hidden;text-align: left;background-color: #f0f8ff;}#sk-container-id-1 div.sk-toggleable__content pre {margin: 0.2em;color: black;border-radius: 0.25em;background-color: #f0f8ff;}#sk-container-id-1 input.sk-toggleable__control:checked~div.sk-toggleable__content {max-height: 200px;max-width: 100%;overflow: auto;}#sk-container-id-1 input.sk-toggleable__control:checked~label.sk-toggleable__label-arrow:before {content: \"▾\";}#sk-container-id-1 div.sk-estimator input.sk-toggleable__control:checked~label.sk-toggleable__label {background-color: #d4ebff;}#sk-container-id-1 div.sk-label input.sk-toggleable__control:checked~label.sk-toggleable__label {background-color: #d4ebff;}#sk-container-id-1 input.sk-hidden--visually {border: 0;clip: rect(1px 1px 1px 1px);clip: rect(1px, 1px, 1px, 1px);height: 1px;margin: -1px;overflow: hidden;padding: 0;position: absolute;width: 1px;}#sk-container-id-1 div.sk-estimator {font-family: monospace;background-color: #f0f8ff;border: 1px dotted black;border-radius: 0.25em;box-sizing: border-box;margin-bottom: 0.5em;}#sk-container-id-1 div.sk-estimator:hover {background-color: #d4ebff;}#sk-container-id-1 div.sk-parallel-item::after {content: \"\";width: 100%;border-bottom: 1px solid gray;flex-grow: 1;}#sk-container-id-1 div.sk-label:hover label.sk-toggleable__label {background-color: #d4ebff;}#sk-container-id-1 div.sk-serial::before {content: \"\";position: absolute;border-left: 1px solid gray;box-sizing: border-box;top: 0;bottom: 0;left: 50%;z-index: 0;}#sk-container-id-1 div.sk-serial {display: flex;flex-direction: column;align-items: center;background-color: white;padding-right: 0.2em;padding-left: 0.2em;position: relative;}#sk-container-id-1 div.sk-item {position: relative;z-index: 1;}#sk-container-id-1 div.sk-parallel {display: flex;align-items: stretch;justify-content: center;background-color: white;position: relative;}#sk-container-id-1 div.sk-item::before, #sk-container-id-1 div.sk-parallel-item::before {content: \"\";position: absolute;border-left: 1px solid gray;box-sizing: border-box;top: 0;bottom: 0;left: 50%;z-index: -1;}#sk-container-id-1 div.sk-parallel-item {display: flex;flex-direction: column;z-index: 1;position: relative;background-color: white;}#sk-container-id-1 div.sk-parallel-item:first-child::after {align-self: flex-end;width: 50%;}#sk-container-id-1 div.sk-parallel-item:last-child::after {align-self: flex-start;width: 50%;}#sk-container-id-1 div.sk-parallel-item:only-child::after {width: 0;}#sk-container-id-1 div.sk-dashed-wrapped {border: 1px dashed gray;margin: 0 0.4em 0.5em 0.4em;box-sizing: border-box;padding-bottom: 0.4em;background-color: white;}#sk-container-id-1 div.sk-label label {font-family: monospace;font-weight: bold;display: inline-block;line-height: 1.2em;}#sk-container-id-1 div.sk-label-container {text-align: center;}#sk-container-id-1 div.sk-container {/* jupyter's `normalize.less` sets `[hidden] { display: none; }` but bootstrap.min.css set `[hidden] { display: none !important; }` so we also need the `!important` here to be able to override the default hidden behavior on the sphinx rendered scikit-learn.org. See: https://github.com/scikit-learn/scikit-learn/issues/21755 */display: inline-block !important;position: relative;}#sk-container-id-1 div.sk-text-repr-fallback {display: none;}</style><div id=\"sk-container-id-1\" class=\"sk-top-container\"><div class=\"sk-text-repr-fallback\"><pre>LogisticRegression(C=100000.0, random_state=0)</pre><b>In a Jupyter environment, please rerun this cell to show the HTML representation or trust the notebook. <br />On GitHub, the HTML representation is unable to render, please try loading this page with nbviewer.org.</b></div><div class=\"sk-container\" hidden><div class=\"sk-item\"><div class=\"sk-estimator sk-toggleable\"><input class=\"sk-toggleable__control sk-hidden--visually\" id=\"sk-estimator-id-1\" type=\"checkbox\" checked><label for=\"sk-estimator-id-1\" class=\"sk-toggleable__label sk-toggleable__label-arrow\">LogisticRegression</label><div class=\"sk-toggleable__content\"><pre>LogisticRegression(C=100000.0, random_state=0)</pre></div></div></div></div></div>"
      ],
      "text/plain": [
       "LogisticRegression(C=100000.0, random_state=0)"
      ]
     },
     "execution_count": 9,
     "metadata": {},
     "output_type": "execute_result"
    }
   ],
   "source": [
    "vectice_data['logreg']"
   ]
  },
  {
   "cell_type": "code",
   "execution_count": 10,
   "id": "802a7edc-10cd-4d9d-9844-3dd61f3a4d26",
   "metadata": {},
   "outputs": [],
   "source": [
    "import copy\n",
    "def get_model(vectice_data):\n",
    "    for key in vectice_data.keys():\n",
    "        if \"sklearn\" and \"model\" in str(vectice_data[key].__class__):\n",
    "            return copy.deepcopy(vectice_data[key])\n",
    "    return None"
   ]
  },
  {
   "cell_type": "code",
   "execution_count": 11,
   "id": "e36edd7a-cb58-4755-9dad-bf19ad063628",
   "metadata": {},
   "outputs": [],
   "source": [
    "sklearn_model = get_model(vectice_data)"
   ]
  },
  {
   "cell_type": "code",
   "execution_count": 12,
   "id": "f84a1f9f-e8c0-48cc-b1e6-9629f033e317",
   "metadata": {},
   "outputs": [
    {
     "data": {
      "text/plain": [
       "{'C': 100000.0,\n",
       " 'class_weight': None,\n",
       " 'dual': False,\n",
       " 'fit_intercept': True,\n",
       " 'intercept_scaling': 1,\n",
       " 'l1_ratio': None,\n",
       " 'max_iter': 100,\n",
       " 'multi_class': 'auto',\n",
       " 'n_jobs': None,\n",
       " 'penalty': 'l2',\n",
       " 'random_state': 0,\n",
       " 'solver': 'lbfgs',\n",
       " 'tol': 0.0001,\n",
       " 'verbose': 0,\n",
       " 'warm_start': False}"
      ]
     },
     "execution_count": 12,
     "metadata": {},
     "output_type": "execute_result"
    }
   ],
   "source": [
    "sklearn_model.get_params()"
   ]
  },
  {
   "cell_type": "code",
   "execution_count": 11,
   "id": "da43972d-172d-412e-936d-db955a2346fb",
   "metadata": {},
   "outputs": [],
   "source": [
    "from pandas import DataFrame"
   ]
  },
  {
   "cell_type": "code",
   "execution_count": 12,
   "id": "124ee033-f54c-4e1d-9aa0-3906800f7df9",
   "metadata": {},
   "outputs": [],
   "source": [
    "def get_df(vectice_data):\n",
    "    for key in vectice_data.keys():\n",
    "        if isinstance(vectice_data[key], DataFrame):\n",
    "            return copy.deepcopy(vectice_data[key])\n",
    "    return None"
   ]
  },
  {
   "cell_type": "code",
   "execution_count": 13,
   "id": "d5bce32f-22ac-4ace-894d-19095f271f46",
   "metadata": {},
   "outputs": [],
   "source": [
    "pandas_df = get_df(vectice_data)"
   ]
  },
  {
   "cell_type": "code",
   "execution_count": 17,
   "id": "cc936959-dfd9-4031-8242-8d679bee7579",
   "metadata": {},
   "outputs": [
    {
     "data": {
      "text/html": [
       "<div>\n",
       "<style scoped>\n",
       "    .dataframe tbody tr th:only-of-type {\n",
       "        vertical-align: middle;\n",
       "    }\n",
       "\n",
       "    .dataframe tbody tr th {\n",
       "        vertical-align: top;\n",
       "    }\n",
       "\n",
       "    .dataframe thead th {\n",
       "        text-align: right;\n",
       "    }\n",
       "</style>\n",
       "<table border=\"1\" class=\"dataframe\">\n",
       "  <thead>\n",
       "    <tr style=\"text-align: right;\">\n",
       "      <th></th>\n",
       "      <th>0</th>\n",
       "      <th>1</th>\n",
       "      <th>2</th>\n",
       "      <th>3</th>\n",
       "    </tr>\n",
       "  </thead>\n",
       "  <tbody>\n",
       "    <tr>\n",
       "      <th>0</th>\n",
       "      <td>5.1</td>\n",
       "      <td>3.5</td>\n",
       "      <td>1.4</td>\n",
       "      <td>0.2</td>\n",
       "    </tr>\n",
       "    <tr>\n",
       "      <th>1</th>\n",
       "      <td>4.9</td>\n",
       "      <td>3.0</td>\n",
       "      <td>1.4</td>\n",
       "      <td>0.2</td>\n",
       "    </tr>\n",
       "    <tr>\n",
       "      <th>2</th>\n",
       "      <td>4.7</td>\n",
       "      <td>3.2</td>\n",
       "      <td>1.3</td>\n",
       "      <td>0.2</td>\n",
       "    </tr>\n",
       "    <tr>\n",
       "      <th>3</th>\n",
       "      <td>4.6</td>\n",
       "      <td>3.1</td>\n",
       "      <td>1.5</td>\n",
       "      <td>0.2</td>\n",
       "    </tr>\n",
       "    <tr>\n",
       "      <th>4</th>\n",
       "      <td>5.0</td>\n",
       "      <td>3.6</td>\n",
       "      <td>1.4</td>\n",
       "      <td>0.2</td>\n",
       "    </tr>\n",
       "  </tbody>\n",
       "</table>\n",
       "</div>"
      ],
      "text/plain": [
       "     0    1    2    3\n",
       "0  5.1  3.5  1.4  0.2\n",
       "1  4.9  3.0  1.4  0.2\n",
       "2  4.7  3.2  1.3  0.2\n",
       "3  4.6  3.1  1.5  0.2\n",
       "4  5.0  3.6  1.4  0.2"
      ]
     },
     "execution_count": 17,
     "metadata": {},
     "output_type": "execute_result"
    }
   ],
   "source": [
    "pandas_df.head()"
   ]
  },
  {
   "cell_type": "code",
   "execution_count": 16,
   "id": "e144bb79-2cc4-4a38-a7c7-6ee275a29522",
   "metadata": {},
   "outputs": [
    {
     "data": {
      "text/html": [
       "<style>#sk-container-id-2 {color: black;background-color: white;}#sk-container-id-2 pre{padding: 0;}#sk-container-id-2 div.sk-toggleable {background-color: white;}#sk-container-id-2 label.sk-toggleable__label {cursor: pointer;display: block;width: 100%;margin-bottom: 0;padding: 0.3em;box-sizing: border-box;text-align: center;}#sk-container-id-2 label.sk-toggleable__label-arrow:before {content: \"▸\";float: left;margin-right: 0.25em;color: #696969;}#sk-container-id-2 label.sk-toggleable__label-arrow:hover:before {color: black;}#sk-container-id-2 div.sk-estimator:hover label.sk-toggleable__label-arrow:before {color: black;}#sk-container-id-2 div.sk-toggleable__content {max-height: 0;max-width: 0;overflow: hidden;text-align: left;background-color: #f0f8ff;}#sk-container-id-2 div.sk-toggleable__content pre {margin: 0.2em;color: black;border-radius: 0.25em;background-color: #f0f8ff;}#sk-container-id-2 input.sk-toggleable__control:checked~div.sk-toggleable__content {max-height: 200px;max-width: 100%;overflow: auto;}#sk-container-id-2 input.sk-toggleable__control:checked~label.sk-toggleable__label-arrow:before {content: \"▾\";}#sk-container-id-2 div.sk-estimator input.sk-toggleable__control:checked~label.sk-toggleable__label {background-color: #d4ebff;}#sk-container-id-2 div.sk-label input.sk-toggleable__control:checked~label.sk-toggleable__label {background-color: #d4ebff;}#sk-container-id-2 input.sk-hidden--visually {border: 0;clip: rect(1px 1px 1px 1px);clip: rect(1px, 1px, 1px, 1px);height: 1px;margin: -1px;overflow: hidden;padding: 0;position: absolute;width: 1px;}#sk-container-id-2 div.sk-estimator {font-family: monospace;background-color: #f0f8ff;border: 1px dotted black;border-radius: 0.25em;box-sizing: border-box;margin-bottom: 0.5em;}#sk-container-id-2 div.sk-estimator:hover {background-color: #d4ebff;}#sk-container-id-2 div.sk-parallel-item::after {content: \"\";width: 100%;border-bottom: 1px solid gray;flex-grow: 1;}#sk-container-id-2 div.sk-label:hover label.sk-toggleable__label {background-color: #d4ebff;}#sk-container-id-2 div.sk-serial::before {content: \"\";position: absolute;border-left: 1px solid gray;box-sizing: border-box;top: 0;bottom: 0;left: 50%;z-index: 0;}#sk-container-id-2 div.sk-serial {display: flex;flex-direction: column;align-items: center;background-color: white;padding-right: 0.2em;padding-left: 0.2em;position: relative;}#sk-container-id-2 div.sk-item {position: relative;z-index: 1;}#sk-container-id-2 div.sk-parallel {display: flex;align-items: stretch;justify-content: center;background-color: white;position: relative;}#sk-container-id-2 div.sk-item::before, #sk-container-id-2 div.sk-parallel-item::before {content: \"\";position: absolute;border-left: 1px solid gray;box-sizing: border-box;top: 0;bottom: 0;left: 50%;z-index: -1;}#sk-container-id-2 div.sk-parallel-item {display: flex;flex-direction: column;z-index: 1;position: relative;background-color: white;}#sk-container-id-2 div.sk-parallel-item:first-child::after {align-self: flex-end;width: 50%;}#sk-container-id-2 div.sk-parallel-item:last-child::after {align-self: flex-start;width: 50%;}#sk-container-id-2 div.sk-parallel-item:only-child::after {width: 0;}#sk-container-id-2 div.sk-dashed-wrapped {border: 1px dashed gray;margin: 0 0.4em 0.5em 0.4em;box-sizing: border-box;padding-bottom: 0.4em;background-color: white;}#sk-container-id-2 div.sk-label label {font-family: monospace;font-weight: bold;display: inline-block;line-height: 1.2em;}#sk-container-id-2 div.sk-label-container {text-align: center;}#sk-container-id-2 div.sk-container {/* jupyter's `normalize.less` sets `[hidden] { display: none; }` but bootstrap.min.css set `[hidden] { display: none !important; }` so we also need the `!important` here to be able to override the default hidden behavior on the sphinx rendered scikit-learn.org. See: https://github.com/scikit-learn/scikit-learn/issues/21755 */display: inline-block !important;position: relative;}#sk-container-id-2 div.sk-text-repr-fallback {display: none;}</style><div id=\"sk-container-id-2\" class=\"sk-top-container\"><div class=\"sk-text-repr-fallback\"><pre>LogisticRegression(C=100000.0, random_state=0)</pre><b>In a Jupyter environment, please rerun this cell to show the HTML representation or trust the notebook. <br />On GitHub, the HTML representation is unable to render, please try loading this page with nbviewer.org.</b></div><div class=\"sk-container\" hidden><div class=\"sk-item\"><div class=\"sk-estimator sk-toggleable\"><input class=\"sk-toggleable__control sk-hidden--visually\" id=\"sk-estimator-id-2\" type=\"checkbox\" checked><label for=\"sk-estimator-id-2\" class=\"sk-toggleable__label sk-toggleable__label-arrow\">LogisticRegression</label><div class=\"sk-toggleable__content\"><pre>LogisticRegression(C=100000.0, random_state=0)</pre></div></div></div></div></div>"
      ],
      "text/plain": [
       "LogisticRegression(C=100000.0, random_state=0)"
      ]
     },
     "execution_count": 16,
     "metadata": {},
     "output_type": "execute_result"
    }
   ],
   "source": [
    "sklearn_model"
   ]
  },
  {
   "cell_type": "code",
   "execution_count": null,
   "id": "d6054971-7a0b-42ec-a1b3-f7c4a637db30",
   "metadata": {},
   "outputs": [],
   "source": [
    "# This will unregister our event and prevent stacking \n",
    "ip.events.unregister('post_run_cell', f)"
   ]
  },
  {
   "cell_type": "code",
   "execution_count": 1,
   "id": "1c19f392-9e1a-4428-8757-568aec9ea118",
   "metadata": {},
   "outputs": [
    {
     "name": "stdout",
     "output_type": "stream",
     "text": [
      "oh no\n"
     ]
    },
    {
     "ename": "ImportError",
     "evalue": "cannot import name '_identify_assets' from partially initialized module 'autolog' (most likely due to a circular import) (C:\\Users\\Aidan\\autolog\\autolog\\__init__.py)",
     "output_type": "error",
     "traceback": [
      "\u001b[1;31m---------------------------------------------------------------------------\u001b[0m",
      "\u001b[1;31mImportError\u001b[0m                               Traceback (most recent call last)",
      "\u001b[1;32m<ipython-input-1-233f7653ce21>\u001b[0m in \u001b[0;36m<module>\u001b[1;34m\u001b[0m\n\u001b[1;32m----> 1\u001b[1;33m \u001b[1;32mfrom\u001b[0m \u001b[0mautolog\u001b[0m \u001b[1;32mimport\u001b[0m \u001b[0m_identify_assets\u001b[0m\u001b[1;33m\u001b[0m\u001b[1;33m\u001b[0m\u001b[0m\n\u001b[0m",
      "\u001b[1;32m~\\autolog\\autolog\\__init__.py\u001b[0m in \u001b[0;36m<module>\u001b[1;34m\u001b[0m\n\u001b[0;32m      1\u001b[0m \u001b[0mprint\u001b[0m\u001b[1;33m(\u001b[0m\u001b[1;34m\"oh no\"\u001b[0m\u001b[1;33m)\u001b[0m\u001b[1;33m\u001b[0m\u001b[1;33m\u001b[0m\u001b[0m\n\u001b[1;32m----> 2\u001b[1;33m \u001b[1;32mfrom\u001b[0m \u001b[1;33m.\u001b[0m \u001b[1;32mimport\u001b[0m \u001b[0m_identify_assets\u001b[0m\u001b[1;33m\u001b[0m\u001b[1;33m\u001b[0m\u001b[0m\n\u001b[0m",
      "\u001b[1;31mImportError\u001b[0m: cannot import name '_identify_assets' from partially initialized module 'autolog' (most likely due to a circular import) (C:\\Users\\Aidan\\autolog\\autolog\\__init__.py)"
     ]
    }
   ],
   "source": [
    "from autolog import _identify_assets"
   ]
  },
  {
   "cell_type": "code",
   "execution_count": null,
   "id": "0c682292-debf-49f6-8bb5-3e3ee8838711",
   "metadata": {},
   "outputs": [],
   "source": []
  }
 ],
 "metadata": {
  "kernelspec": {
   "display_name": "Python 3",
   "language": "python",
   "name": "python3"
  },
  "language_info": {
   "codemirror_mode": {
    "name": "ipython",
    "version": 3
   },
   "file_extension": ".py",
   "mimetype": "text/x-python",
   "name": "python",
   "nbconvert_exporter": "python",
   "pygments_lexer": "ipython3",
   "version": "3.9.5"
  }
 },
 "nbformat": 4,
 "nbformat_minor": 5
}
