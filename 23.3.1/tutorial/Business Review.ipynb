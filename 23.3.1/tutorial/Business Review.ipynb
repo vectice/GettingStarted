{
 "cells": [
  {
   "attachments": {},
   "cell_type": "markdown",
   "id": "267a5abb-312f-436f-99ee-43b9bba7a743",
   "metadata": {},
   "source": [
    "# References\n",
    "\n",
    "- Vectice Documentation: https://docs.vectice.com/v/23.3.1/\n",
    "- Vectice API Documentation: https://api-docs.vectice.com/"
   ]
  },
  {
   "cell_type": "code",
   "execution_count": null,
   "id": "8b0ced23-cc10-4fd0-b1d3-b032efb3fcfc",
   "metadata": {},
   "outputs": [],
   "source": [
    "import warnings\n",
    "warnings.filterwarnings(\"ignore\", category=DeprecationWarning)"
   ]
  },
  {
   "attachments": {},
   "cell_type": "markdown",
   "id": "9c94ff6a-2eb2-4a27-8ee4-2b9712b47b17",
   "metadata": {},
   "source": [
    "## Install the latest Vectice Python client library"
   ]
  },
  {
   "cell_type": "code",
   "execution_count": null,
   "id": "8fd7daee",
   "metadata": {},
   "outputs": [],
   "source": [
    "%pip install --q vectice -U"
   ]
  },
  {
   "cell_type": "code",
   "execution_count": null,
   "id": "9925c2b4-1873-42ba-a487-6ba08c71df12",
   "metadata": {},
   "outputs": [],
   "source": [
    "import pandas as pd\n",
    "import numpy as np\n",
    "import matplotlib.pyplot as plt"
   ]
  },
  {
   "attachments": {},
   "cell_type": "markdown",
   "id": "e4b94319-e1d0-4a0b-baf6-0eb59ed5e06e",
   "metadata": {},
   "source": [
    "## Get started by connecting to Vectice\n",
    "\n",
    "You can learn more about the `Connection` object in the [documentation](https://api-docs.vectice.com/v/23.3.1/reference/vectice/connection/)"
   ]
  },
  {
   "attachments": {},
   "cell_type": "markdown",
   "id": "871795f0-3ad3-462e-a855-b9347d4ff2d0",
   "metadata": {},
   "source": [
    "**First, we need to authenticate to the Vectice server. Before proceeding further:**\n",
    "\n",
    "- Visit the Vectice app to create and copy an API token (cf. https://docs.vectice.com/v/23.3.1/getting-started/create-an-api-token)\n",
    "\n",
    "- Paste the API token in the code below"
   ]
  },
  {
   "cell_type": "code",
   "execution_count": null,
   "id": "f15b5e87-ceea-41cf-90f2-11fa6c7b4633",
   "metadata": {},
   "outputs": [],
   "source": [
    "import vectice as vect\n",
    "\n",
    "vec = vect.connect(api_token=\"my-api-token\") #Put your own token"
   ]
  },
  {
   "attachments": {},
   "cell_type": "markdown",
   "id": "14681ed0-a7c5-4175-b95c-87186fb28bc2",
   "metadata": {},
   "source": [
    "## Specify which project phase you want to document\n",
    "In Vectice UI, navigate to your personal workspace inside your default Tutorial project go to the Quarterly Business Review phase and copy paste your Phase Id below."
   ]
  },
  {
   "cell_type": "code",
   "execution_count": null,
   "id": "552f544a-8b61-45dc-b2c5-d7bd1972e659",
   "metadata": {},
   "outputs": [],
   "source": [
    "phase = vec.phase(\"PHA-xxxx\") #Pass your own Quarterly Business Review Phase ID"
   ]
  },
  {
   "attachments": {},
   "cell_type": "markdown",
   "id": "1b865a5c-de22-46fa-b644-8876b4f46b03",
   "metadata": {},
   "source": [
    "## Next we are going to create an iteration\n",
    "An iteration allows you to organize your work in repeatable sequences of steps. You can have multiple iteration within a phase."
   ]
  },
  {
   "cell_type": "code",
   "execution_count": null,
   "id": "3eaf5e9c-3a69-4230-995a-fb91a48abcff",
   "metadata": {},
   "outputs": [],
   "source": [
    "review_iteration = phase.create_or_get_current_iteration()"
   ]
  },
  {
   "cell_type": "code",
   "execution_count": null,
   "id": "3cb8c24e-5567-4c64-a13f-d16e87432a9b",
   "metadata": {},
   "outputs": [],
   "source": [
    "# Retrieve the MAE by month dataset\n",
    "mae_df = pd.read_csv(\"https://raw.githubusercontent.com/vectice/GettingStarted/main/23.3.1/tutorial/MAE%20by%20month.csv\")\n",
    "mae_df.to_csv(\"MAE by month.csv\", index=False)"
   ]
  },
  {
   "attachments": {},
   "cell_type": "markdown",
   "id": "27f79ea4-b39f-4517-8772-b5d1dccebb2e",
   "metadata": {},
   "source": [
    "## Log your MAE by month dataset"
   ]
  },
  {
   "cell_type": "code",
   "execution_count": null,
   "id": "abca305c-4f2f-4473-986b-65833ba171d7",
   "metadata": {},
   "outputs": [],
   "source": [
    "mae_ds = vect.FileResource(paths=\"MAE by month.csv\", dataframes=mae_df)\n",
    "\n",
    "\n",
    "mae_dataset = vect.Dataset.origin(\n",
    "    name=\"MAE by month\",\n",
    "    resource=mae_ds, \n",
    ")"
   ]
  },
  {
   "cell_type": "code",
   "execution_count": null,
   "id": "c27b1ea2-95a9-46e7-bd5b-d17b416a58cf",
   "metadata": {},
   "outputs": [],
   "source": [
    "# Log the dataset \n",
    "review_iteration.step_review_content = mae_dataset"
   ]
  },
  {
   "cell_type": "code",
   "execution_count": null,
   "id": "ad75305e-c431-4f52-90ce-3670121e1a72",
   "metadata": {},
   "outputs": [],
   "source": [
    "# Create the MAE by month graph\n",
    "size = mae_df.shape[0]\n",
    "fig = plt.figure(figsize = (10, 5))\n",
    "plt.xlabel(\"Months\")\n",
    "plt.ylabel(\"MAE\")\n",
    "plt.plot(mae_df.Month, mae_df.MAE, label='lower is better', color='steelblue')\n",
    "plt.legend(loc='best')\n",
    "plt.title('MAE overtime')\n",
    "fig.savefig(\"MAE by month Q1.png\")\n",
    "plt.show()"
   ]
  },
  {
   "attachments": {},
   "cell_type": "markdown",
   "id": "46c3644a-f098-487a-b9c7-65a2285637ad",
   "metadata": {},
   "source": [
    "## Add an image\n",
    "\n",
    "Passing a `file path` to a step will add an image."
   ]
  },
  {
   "cell_type": "code",
   "execution_count": null,
   "id": "a26718de-6f89-48ba-a8c0-a53737ce7003",
   "metadata": {},
   "outputs": [],
   "source": [
    "review_iteration.step_review_content += \"MAE by month Q1.png\""
   ]
  },
  {
   "cell_type": "code",
   "execution_count": null,
   "id": "07a1aac8-4312-4fe8-b448-2ce7c572adbc",
   "metadata": {},
   "outputs": [],
   "source": [
    "# Retrieve the predictions and actuals datasets\n",
    "pred_actuals = pd.read_csv(\"https://raw.githubusercontent.com/vectice/GettingStarted/main/23.3.1/tutorial/Predictions%20and%20Actuals.csv\")"
   ]
  },
  {
   "attachments": {},
   "cell_type": "markdown",
   "id": "047f3414-4730-43da-9d91-db612ab32750",
   "metadata": {},
   "source": [
    "### Quarter 1 validate Ridge regressor\n",
    "\n",
    "##### Inventory Turnover Ratio: \n",
    "This measures how many times a company's inventory is sold and replaced over a certain period. Higher inventory turnover is generally a positive sign, indicating goods are sold quick Auto industry has a ratio of 55 and grocery chains have a 23 ratio.\n",
    "\n",
    "##### Stock Out Rate:\n",
    "\n",
    "Increasing inventory turnover (a positive sign of sales efficiency) might lead to a higher risk of stock-outs (when demand exceeds supply). A high stock out rate can lead to lost sales and customer dissatisfaction. It's crucial to find a balance that ensures optimal stock availability without carrying excess inventory."
   ]
  },
  {
   "attachments": {},
   "cell_type": "markdown",
   "id": "2ea47132-ea88-40b8-b3e0-1f806ec783d5",
   "metadata": {},
   "source": [
    "##### Model Performance\n",
    "\n",
    "A comparasion between the predictions and actual sales for Q1."
   ]
  },
  {
   "cell_type": "code",
   "execution_count": null,
   "id": "e3118df6-3ef5-44a8-9347-94f94cd4e71b",
   "metadata": {},
   "outputs": [],
   "source": [
    "# Create the Predictions vs Actuals comparison graph\n",
    "fig = plt.figure(figsize = (14, 5))\n",
    "plt.xlabel(\"Months\")\n",
    "plt.ylabel(\"Sales\")\n",
    "plt.plot(pred_actuals.Months, pred_actuals.Predictions, label='predicted', color='coral')\n",
    "plt.plot(pred_actuals.Months, pred_actuals.Actuals, label='real', color='steelblue')\n",
    "plt.legend(loc='best')\n",
    "plt.title('Predicted vs Real')\n",
    "fig.savefig(\"Predicted vs Real Q1.png\")\n",
    "plt.show()"
   ]
  },
  {
   "cell_type": "code",
   "execution_count": null,
   "id": "b930b2ac-4b7e-4386-b26e-33cef11796d6",
   "metadata": {},
   "outputs": [],
   "source": [
    "# Log the image \n",
    "review_iteration.step_review_content += \"Predicted vs Real Q1.png\""
   ]
  },
  {
   "attachments": {},
   "cell_type": "markdown",
   "id": "db64c12f-227b-4925-8028-cd2967fd1201",
   "metadata": {},
   "source": [
    "1. Inventory Turnover Ratio "
   ]
  },
  {
   "attachments": {},
   "cell_type": "markdown",
   "id": "0ca8f372-8f67-40f6-9461-23287f4c6505",
   "metadata": {},
   "source": [
    "$$\\frac{COGS}{Avg Value of Inventory}$$"
   ]
  },
  {
   "cell_type": "code",
   "execution_count": null,
   "id": "7702e7c5-20e4-4046-86d7-7d3129bcf578",
   "metadata": {},
   "outputs": [],
   "source": [
    "# Inventory turnover for each forecasted month graph. The US Store Average is 23 \n",
    "x = np.arange(3)\n",
    "data_2021 = {'Jan': 21, 'Feb': 22, 'Mar':26}\n",
    "data_2022 = {'Jan': 23, 'Feb': 23, 'Mar':29}\n",
    "values_2021 = list(data_2021.values())\n",
    "values_2022 = list(data_2022.values())\n",
    "  \n",
    "fig = plt.figure(figsize = (10, 5))\n",
    " \n",
    "# creating the bar plot\n",
    "plt.bar(x + 0.2, values_2021, color ='coral',\n",
    "        width = 0.4)\n",
    "\n",
    "plt.bar(x - 0.2, values_2022, color ='steelblue',\n",
    "        width = 0.4)\n",
    " \n",
    "plt.xlabel(\"Months\")\n",
    "plt.xticks(x, ['Jan', 'Feb', 'Mar'])\n",
    "plt.ylabel(\"Inventory Turnover Ratio\")\n",
    "plt.title(\"Inventory Turnover Ratio By Month\")\n",
    "plt.legend([\"Previous Year\", \"Current Year\"])\n",
    "fig.savefig(\"Inventory Turnover Q1.png\")\n",
    "plt.show()"
   ]
  },
  {
   "cell_type": "code",
   "execution_count": null,
   "id": "8da2e369-a855-44aa-81b0-26dcad7c52bf",
   "metadata": {},
   "outputs": [],
   "source": [
    "# Log the image \n",
    "review_iteration.step_review_content += \"Inventory Turnover Q1.png\""
   ]
  },
  {
   "attachments": {},
   "cell_type": "markdown",
   "id": "4e1b3959-3374-431a-b8a2-69e9d2cc1c0a",
   "metadata": {},
   "source": [
    "2. Stock Out Ratio\n",
    "\n",
    "$$\\frac{Lost Sales  \\times  0.1}{Revenue + Lost Sales}$$\n"
   ]
  },
  {
   "cell_type": "code",
   "execution_count": null,
   "id": "99ae7b96-29f9-476d-862a-5f6d4352c8c9",
   "metadata": {},
   "outputs": [],
   "source": [
    "# Stock out ratio by month graph. The general baseline is 8\n",
    "x = np.arange(3)\n",
    "data_2021 = {'Jan':8, 'Feb':12, 'Mar':10}\n",
    "data_2022 = {'Jan':6, 'Feb':10, 'Mar':7}\n",
    "\n",
    "values_2021 = list(data_2021.values())\n",
    "values_2022 = list(data_2022.values())\n",
    "  \n",
    "fig = plt.figure(figsize = (10, 5))\n",
    " \n",
    "# creating the bar plot\n",
    "plt.bar(x + 0.2, values_2021, color ='coral',\n",
    "        width = 0.4)\n",
    "plt.bar(x - 0.2, values_2022, color ='steelblue',\n",
    "        width = 0.4)\n",
    " \n",
    "plt.xlabel(\"Months\")\n",
    "plt.xticks(x, ['Jan', 'Feb', 'Mar'])\n",
    "plt.ylabel(\"Stock Out Ratio\")\n",
    "plt.title(\"Stock Out Ratio By Month\")\n",
    "plt.legend([\"Previous Year\", \"Current Year\"])\n",
    "fig.savefig(\"Stock Out Q1.png\")\n",
    "plt.show()"
   ]
  },
  {
   "cell_type": "code",
   "execution_count": null,
   "id": "712a1619-b4e3-4853-8d67-1471506732c1",
   "metadata": {},
   "outputs": [],
   "source": [
    "# Log the image \n",
    "review_iteration.step_review_content += \"Stock Out Q1.png\""
   ]
  },
  {
   "cell_type": "markdown",
   "id": "7cb79864",
   "metadata": {},
   "source": [
    "### Next we encourage you to explore other notebooks in the tutorial series. You can find those notebooks in Vectice Tutorial Guide: [Want to learn more about the other phases of the tutorial project?](https://docs.vectice.com/v/23.3.1/getting-started/tutorial#want-to-learn-more-about-the-other-phases-of-the-tutorial-project)"
   ]
  },
  {
   "attachments": {},
   "cell_type": "markdown",
   "id": "481b0162-f5de-4137-8271-9524090202f7",
   "metadata": {},
   "source": [
    "✴ You can view your registered assets and comments in the UI by clicking the links in the output messages.."
   ]
  }
 ],
 "metadata": {
  "kernelspec": {
   "display_name": "Python 3",
   "language": "python",
   "name": "python3"
  },
  "language_info": {
   "codemirror_mode": {
    "name": "ipython",
    "version": 3
   },
   "file_extension": ".py",
   "mimetype": "text/x-python",
   "name": "python",
   "nbconvert_exporter": "python",
   "pygments_lexer": "ipython3",
   "version": "3.9.5"
  }
 },
 "nbformat": 4,
 "nbformat_minor": 5
}
