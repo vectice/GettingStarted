{
  "cells": [
    {
      "cell_type": "code",
      "execution_count": null,
      "id": "cc5eb131-23c1-411e-aa1e-9954ea69aec0",
      "metadata": {
        "colab": {
          "base_uri": "https://localhost:8080/"
        },
        "id": "cc5eb131-23c1-411e-aa1e-9954ea69aec0",
        "outputId": "876050ef-be3e-45d8-ceb1-4c733af33949",
        "tags": []
      },
      "outputs": [],
      "source": [
        "from vectice import connect\n",
        "vec_project = connect(config=\"token.json\")\n",
        "iteration = vec_project.phase(\"Modeling\").iteration()"
      ]
    },
    {
      "attachments": {},
      "cell_type": "markdown",
      "id": "a87f4e1c",
      "metadata": {},
      "source": [
        "# Vectice auto-document your model"
      ]
    },
    {
      "cell_type": "markdown",
      "id": "6958f765-98a7-4e7b-a4af-dfbcff249ed4",
      "metadata": {
        "id": "6958f765-98a7-4e7b-a4af-dfbcff249ed4",
        "tags": []
      },
      "source": [
        "### Read dataset for modeling:\n",
        " - modelingdata - Saved from DataPrep to BQ\n"
      ]
    },
    {
      "cell_type": "code",
      "execution_count": null,
      "id": "d05a5d74-5e95-47d1-9cf0-c7458b5619d7",
      "metadata": {
        "colab": {
          "base_uri": "https://localhost:8080/"
        },
        "id": "d05a5d74-5e95-47d1-9cf0-c7458b5619d7",
        "outputId": "8fa3f3e9-263a-4c62-ddf5-79beff2beefb"
      },
      "outputs": [],
      "source": [
        "# Connect to BigQuery Dev using Service Account\n",
        "from google.cloud import bigquery\n",
        "from google.oauth2 import service_account\n",
        "creds = service_account.Credentials.from_service_account_file(\"bq_dev_sa.json\", scopes=[\"https://www.googleapis.com/auth/cloud-platform\"])\n",
        "\n",
        "bigquery_client = bigquery.Client(\n",
        "    credentials= creds,\n",
        "    project=creds.project_id\n",
        ")"
      ]
    },
    {
      "cell_type": "markdown",
      "id": "a_GFv6vBdDjz",
      "metadata": {
        "id": "a_GFv6vBdDjz"
      },
      "source": [
        "Query PTY_ID_MAIN and HIST_TRX from our Dev BigQUery env. Retrieving full tables, we will need to remove non US customers from the resultsets as per compliance."
      ]
    },
    {
      "cell_type": "code",
      "execution_count": null,
      "id": "def55e9f-c05c-4c34-accd-4beceeeb317e",
      "metadata": {
        "colab": {
          "base_uri": "https://localhost:8080/",
          "height": 458
        },
        "id": "def55e9f-c05c-4c34-accd-4beceeeb317e",
        "outputId": "a7c98b38-a24f-4df9-e1ca-86840f214608",
        "tags": []
      },
      "outputs": [],
      "source": [
        "# Query ModelingData table\n",
        "qry_ModelingDS = \"SELECT * FROM `solutions-engineering-363108.FFBank_CoBranded_project.modelingdata`\"\n",
        "#Run the query and write result to a pandas data frame\n",
        "Query_Results = bigquery_client.query(qry_ModelingDS)\n",
        "df_qry_ModelingDS = Query_Results.to_dataframe()\n",
        "#View top few rows of result\n",
        "\n",
        "df_qry_ModelingDS = df_qry_ModelingDS.select_dtypes(exclude=['dbdate'])\n",
        "df_qry_ModelingDS.head()"
      ]
    },
    {
      "cell_type": "markdown",
      "id": "7-Np_tRKx4wq",
      "metadata": {
        "id": "7-Np_tRKx4wq"
      },
      "source": [
        "Split the modeling dataset into training, testing and validation datasets"
      ]
    },
    {
      "cell_type": "code",
      "execution_count": null,
      "id": "TZBu6DfC6gOx",
      "metadata": {
        "colab": {
          "base_uri": "https://localhost:8080/"
        },
        "id": "TZBu6DfC6gOx",
        "outputId": "17ed316a-bd08-487f-ea62-7844de92a188"
      },
      "outputs": [],
      "source": [
        "# Let's log the datasets generated and our split strategy\n",
        "from vectice import FileResource\n",
        "\n",
        "train_ds = FileResource(path=\"traindataset.csv\")\n",
        "test_ds = FileResource(path=\"testdataset.csv\")\n",
        "validate_ds = FileResource(path=\"validatedataset.csv\")"
      ]
    },
    {
      "cell_type": "code",
      "execution_count": null,
      "id": "d9c370c9",
      "metadata": {},
      "outputs": [],
      "source": [
        "# Capture model dataset insights\n",
        "msg = f\"We split the dataset in a training, testing and validation datasets. \"\\\n",
        "      f\"{test_size * 100}% of the data is set aside for testing.\\n \"\\\n",
        "      f\"- Training dataset size: {X_train.shape[0]}\\n \"\\\n",
        "      f\"- Testing dataset size: {X_test.shape[0]}\\n \"\\\n",
        "      f\"- Validation dataset size: {y_test.shape[0]}\\n\"\\\n",
        "      f\"Our seed to generate repeatable datasets is {random_state}\"\n",
        "iteration.step_generate_test_design = msg"
      ]
    },
    {
      "cell_type": "code",
      "execution_count": null,
      "id": "tFtB06lJx_e2",
      "metadata": {
        "colab": {
          "base_uri": "https://localhost:8080/",
          "height": 108
        },
        "id": "tFtB06lJx_e2",
        "outputId": "3be35258-6f29-48c8-b28b-06ec08e336d0"
      },
      "outputs": [],
      "source": [
        "# import some essential math libraries\n",
        "import pandas as pd; import matplotlib.pyplot as plt; import numpy as np\n",
        "import plotly.offline as py; from matplotlib import pyplot as plt\n",
        "import IPython.display\n",
        "%matplotlib inline\n",
        "py.init_notebook_mode(connected=True)\n",
        "\n",
        "\n",
        "# load scikit-learn modeling packages\n",
        "from sklearn.model_selection import train_test_split\n",
        "from sklearn.linear_model import LinearRegression\n",
        "from sklearn.metrics import mean_squared_error,mean_absolute_error\n",
        "import seaborn as sb\n",
        "\n",
        "# specify how much of the dataset to set aside for testing\n",
        "test_size = 0.40\n",
        "# specify a seed value so we can always generate the same split\n",
        "random_state = 42\n",
        "\n",
        "# Generate X_train, X_test, y_train, y_test, which we will need for modeling\n",
        "X = df_qry_ModelingDS.drop(['accepted_offer'], axis=1)\n",
        "y = df_qry_ModelingDS[\"accepted_offer\"]\n",
        "X_train, X_test, y_train, y_test =\\\n",
        "train_test_split(X, y, test_size = test_size, random_state = random_state)\n",
        "\n",
        "# save the 3 split datasets locally\n",
        "X_train.to_csv(\"traindataset.csv\")\n",
        "X_test.to_csv(\"testdataset.csv\")\n",
        "y_test.to_csv(\"validatedataset.csv\")"
      ]
    },
    {
      "cell_type": "code",
      "execution_count": null,
      "id": "c49d6d1b",
      "metadata": {},
      "outputs": [],
      "source": [
        "from vectice import Dataset, Model\n",
        "iteration.list_steps()"
      ]
    },
    {
      "attachments": {},
      "cell_type": "markdown",
      "id": "-0vth_er7YXV",
      "metadata": {
        "id": "-0vth_er7YXV"
      },
      "source": [
        "## Create our Linear Regression model"
      ]
    },
    {
      "cell_type": "code",
      "execution_count": null,
      "id": "1cJI6WmH7YCq",
      "metadata": {
        "colab": {
          "base_uri": "https://localhost:8080/",
          "height": 543
        },
        "id": "1cJI6WmH7YCq",
        "outputId": "71e63ae0-5402-47cd-9aae-ff50ee78d1bd"
      },
      "outputs": [],
      "source": [
        "# create a linear regression model\n",
        "model_linreg = LinearRegression()\n",
        "\n",
        "X_train = X_train.apply(pd.to_numeric, errors='coerce')\n",
        "y_train = y_train.apply(pd.to_numeric, errors='coerce')\n",
        "X_test = X_test.apply(pd.to_numeric, errors='coerce')\n",
        "\n",
        "X_train.fillna(0, inplace=True)\n",
        "y_train.fillna(0, inplace=True)\n",
        "X_test.fillna(0, inplace=True)\n",
        "\n",
        "model_linreg.fit(X_train.values, y_train.values)\n",
        "\n",
        "# evaluate, define and save the RMSE and MAE summary statistics\n",
        "pred = model_linreg.predict(X_test.values)    \n",
        "RMSE = np.sqrt(mean_squared_error(y_test.values, pred))\n",
        "MAE = mean_absolute_error(y_test.values, pred)\n",
        "\n",
        "# the metrics object holds our two key summary statistics\n",
        "summary_stats = {\"RMSE\": RMSE, \"MAE\": MAE}\n",
        "\n",
        "# finally, generate and save a pretty plot\n",
        "plt.ioff()\n",
        "plt.scatter(X_train.iloc[:,0].values, y_train ,color='g')\n",
        "plt.plot(X_test, pred,color='k')"
      ]
    },
    {
      "attachments": {},
      "cell_type": "markdown",
      "id": "a12cb4b0",
      "metadata": {},
      "source": [
        "# Vectice Documentation Pipeline"
      ]
    },
    {
      "cell_type": "code",
      "execution_count": null,
      "id": "0eb50c9f",
      "metadata": {},
      "outputs": [],
      "source": [
        "iteration.step_select_modeling_techniques = \"For this first iteration we are going to use a Linear Regression model to get a base model.\""
      ]
    },
    {
      "cell_type": "code",
      "execution_count": null,
      "id": "57e7b5d3",
      "metadata": {},
      "outputs": [],
      "source": [
        "# Catalog the modeling dataset\n",
        "dataset = Dataset.modeling(name=\"Modeling dataset\", training_resource=train_ds, training_dataframe=X_train, testing_resource=test_ds, testing_dataframe=X_test, validation_resource=validate_ds)\n",
        "iteration.step_generate_test_design = dataset"
      ]
    },
    {
      "cell_type": "code",
      "execution_count": null,
      "id": "3-_H1j_T8tgF",
      "metadata": {
        "colab": {
          "base_uri": "https://localhost:8080/"
        },
        "id": "3-_H1j_T8tgF",
        "outputId": "91c622cb-f05c-458e-817f-a0b38f12ec57"
      },
      "outputs": [],
      "source": [
        "# Catalog the model\n",
        "model = Model(name=\"AcceptancePredictor\", library= \"scikit-learn\", technique=\"linear regression\", metrics=summary_stats, attachments=[\"26_LiftChart_holdout.png\",\"Confusion_Matrix.png\"], predictor=model_linreg, derived_from=[24312])\n",
        "iteration.step_build_model = model"
      ]
    },
    {
      "cell_type": "code",
      "execution_count": null,
      "id": "f8d979ac",
      "metadata": {},
      "outputs": [],
      "source": [
        "iteration.complete()"
      ]
    }
  ],
  "metadata": {
    "colab": {
      "provenance": []
    },
    "kernelspec": {
      "display_name": "Python 3 (ipykernel)",
      "language": "python",
      "name": "python3"
    },
    "language_info": {
      "codemirror_mode": {
        "name": "ipython",
        "version": 3
      },
      "file_extension": ".py",
      "mimetype": "text/x-python",
      "name": "python",
      "nbconvert_exporter": "python",
      "pygments_lexer": "ipython3",
      "version": "3.9.2"
    }
  },
  "nbformat": 4,
  "nbformat_minor": 5
}
