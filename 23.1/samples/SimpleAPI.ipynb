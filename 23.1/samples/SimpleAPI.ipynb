{
 "cells": [
  {
   "cell_type": "code",
   "execution_count": null,
   "id": "2fd33a25-9629-44b5-8a81-16be8b75ed19",
   "metadata": {
    "tags": []
   },
   "outputs": [],
   "source": [
    "from vectice import connect, S3Resource, Dataset, Model\n",
    "from boto3 import client \n",
    "from botocore import UNSIGNED\n",
    "from botocore.client import Config\n",
    "\n",
    "s3_client = client('s3', config=Config(signature_version=UNSIGNED), region_name='us-west-1')\n",
    "users_ds = S3Resource(s3_client, bucket_name='vectice-examples' ,resource_path=\"Tutorial/ForecastTutorial/users.csv\")\n",
    "comp_ds = S3Resource(s3_client, bucket_name='vectice-examples' ,resource_path=\"Tutorial/ForecastTutorial/competitor_info.csv\")\n",
    "clean_ds = S3Resource(s3_client, bucket_name='vectice-examples' ,resource_path=\"Tutorial/ForecastTutorial/competitor_info.csv\")\n",
    "train_ds = S3Resource(s3_client, bucket_name='vectice-examples' ,resource_path=\"Tutorial/ForecastTutorial/traindataset.csv\")\n",
    "test_ds = S3Resource(s3_client, bucket_name='vectice-examples' ,resource_path=\"Tutorial/ForecastTutorial/testdataset.csv\")\n",
    "val_ds = S3Resource(s3_client, bucket_name='vectice-examples' ,resource_path=\"Tutorial/ForecastTutorial/validatedataset.csv\")"
   ]
  },
  {
   "cell_type": "code",
   "execution_count": null,
   "id": "80e8b4d6-431d-446e-aad6-85f1c4013211",
   "metadata": {
    "tags": []
   },
   "outputs": [],
   "source": [
    "vtc_prj = connect(config=\"vectice-config.json\")"
   ]
  },
  {
   "cell_type": "code",
   "execution_count": null,
   "id": "66a0a8fc-de0c-4aca-b7a1-aafef86a8146",
   "metadata": {
    "tags": []
   },
   "outputs": [],
   "source": [
    "# List out the phases in the project\n",
    "vtc_prj.list_phases()"
   ]
  },
  {
   "cell_type": "code",
   "execution_count": null,
   "id": "ca25a334-ec20-4741-81fe-c1c60b71b50d",
   "metadata": {
    "tags": []
   },
   "outputs": [],
   "source": [
    "vtc_phase = vtc_prj.phase(34412)"
   ]
  },
  {
   "cell_type": "code",
   "execution_count": null,
   "id": "be586c1f-3740-492a-9e61-368c1960fe23",
   "metadata": {
    "tags": []
   },
   "outputs": [],
   "source": [
    "vtc_phase.list_step_definitions()"
   ]
  },
  {
   "cell_type": "code",
   "execution_count": null,
   "id": "368aa999-c363-48b7-8b36-173a28a0d555",
   "metadata": {
    "tags": []
   },
   "outputs": [],
   "source": [
    "# Document the project origin datasets\n",
    "vtc_iter = vtc_phase.iteration()\n",
    "vtc_iter.step_data_collection = Dataset.origin( name=\"Users\", resource=users_ds)\n",
    "vtc_iter.step_data_collection += Dataset.origin( name=\"Competitor_Info\", resource=comp_ds)"
   ]
  },
  {
   "cell_type": "code",
   "execution_count": null,
   "id": "8ece774a-d09a-4ded-9e14-435625ceaad7",
   "metadata": {
    "tags": []
   },
   "outputs": [],
   "source": []
  },
  {
   "cell_type": "code",
   "execution_count": null,
   "id": "dba387c3-684a-4bb6-bfd4-e5f356455a71",
   "metadata": {},
   "outputs": [],
   "source": [
    "# EDA on the datasets\n",
    "...\n",
    "\n",
    "# Document our EDA process\n",
    "vtc_iter.step_eda = Dataset.clean(name=\"Clean Dataset\",resource=clean_ds, derived_from=[23974, 23975])\n",
    "\n",
    "\n",
    "# Split datasets for model and register them\n",
    "...\n",
    "\n",
    "vtc_iter.step_split_dataset = Dataset.modeling(name=\"Modeling Dataset\", training_resource=train_ds,testing_resource=test_ds,validation_resource=val_ds)\n",
    "\n",
    "\n",
    "# All steps on the phase are completed, mark the iteration as complete\n",
    "vtc_iter.complete()"
   ]
  },
  {
   "cell_type": "code",
   "execution_count": null,
   "id": "3ead1ef3-1251-42e7-b7c7-e7457bb83ef4",
   "metadata": {
    "tags": []
   },
   "outputs": [],
   "source": [
    "# Get the next phase (modeling)\n",
    "vtc_iter = vtc_prj.phase(34413).iteration()\n",
    "\n",
    "# Build the model\n",
    "...\n",
    "\n",
    "# Document the model technique used\n",
    "vtc_iter.step_document_modeling_technique = \"Using a Linear Regression model.\"\n",
    "\n",
    "# Connecting your model to an iteration will automatically sync the information to Vectice UI\n",
    "vtc_iter.step_build_model = Model(library=\"sklearn\", \n",
    "                                      technique=\"ln\", \n",
    "                                      attachments=[\"Feature_Importance.png\", \"26_LiftChart_holdout.png\"], \n",
    "                                      name=\"Base_LR_Model\")\n",
    "\n",
    "\n",
    "# Fine tune hyper-parameters\n",
    "...\n",
    "\n",
    "# Register model in Vectice\n",
    "vtc_iter.step_fine_tune_model = Model(library=\"sklearn\", \n",
    "                                      technique=\"ln\", \n",
    "                                      attachments=[\"Feature_Importance.png\", \"26_LiftChart_holdout.png\"], \n",
    "                                      name=\"Tuned_LR_Model\",\n",
    "                                      metrics={\"metric_1\": 1, \"metric_2\": 1}, \n",
    "                                      properties={\"prop\": \"value\"})\n",
    "\n",
    "# All steps on the phase are completed, mark the iteration as complete\n",
    "vtc_iter.complete()"
   ]
  },
  {
   "cell_type": "code",
   "execution_count": null,
   "id": "be8abe94-0fa2-4400-b36f-18ffc6bcbf13",
   "metadata": {},
   "outputs": [],
   "source": []
  }
 ],
 "metadata": {
  "kernelspec": {
   "display_name": "Python 3 (ipykernel)",
   "language": "python",
   "name": "python3"
  },
  "language_info": {
   "codemirror_mode": {
    "name": "ipython",
    "version": 3
   },
   "file_extension": ".py",
   "mimetype": "text/x-python",
   "name": "python",
   "nbconvert_exporter": "python",
   "pygments_lexer": "ipython3",
   "version": "3.9.2"
  }
 },
 "nbformat": 4,
 "nbformat_minor": 5
}
