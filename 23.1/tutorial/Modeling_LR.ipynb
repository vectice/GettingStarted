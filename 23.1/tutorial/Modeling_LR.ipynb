{
  "cells": [
    {
      "attachments": {},
      "cell_type": "markdown",
      "id": "8wNagshCYiQe",
      "metadata": {
        "id": "8wNagshCYiQe"
      },
      "source": [
        "# Before your start with this Tutorial\n",
        "\n",
        "**Tutorial Intention:** Providing an example of iteration and related step on a modeling phase for you to:\n",
        "\n",
        "*   Experience the data science lifecycle using Vectice\n",
        "*   See how simple it is to connect your notebook to Vectice\n",
        "*   Learn how to structure and log your work using Vectice\n",
        "\n",
        "**Resources needed:**\n",
        "*   <b>Tutorial Project: Forecast in-store unit sales (23.1)</b> - You can find it as part of your personal workspace named after your name\n",
        "*   Dataset ready for modeling: https://vectice-examples.s3.us-west-1.amazonaws.com/Tutorial/ForecastTutorial/train_clean.csv\n",
        "*   Vectice Webapp Documentation: https://docs.vectice.com/\n",
        "*   Vectice API documentation: https://api-docs.vectice.com/sdk/index.html"
      ]
    },
    {
      "cell_type": "markdown",
      "id": "52cc6000",
      "metadata": {},
      "source": [
        "## Installing Vectice"
      ]
    },
    {
      "cell_type": "code",
      "execution_count": null,
      "id": "6e490e5d",
      "metadata": {},
      "outputs": [],
      "source": [
        "%pip install --q vectice -U"
      ]
    },
    {
      "cell_type": "markdown",
      "id": "8G9I3coFz_Hg",
      "metadata": {
        "id": "8G9I3coFz_Hg"
      },
      "source": [
        "## Install optional packages for your project"
      ]
    },
    {
      "cell_type": "code",
      "execution_count": null,
      "id": "fF8kHhHFz_Hl",
      "metadata": {
        "colab": {
          "base_uri": "https://localhost:8080/",
          "height": 1000
        },
        "id": "fF8kHhHFz_Hl",
        "outputId": "73f58724-5545-438c-a9f5-f7a216fa4fe6"
      },
      "outputs": [],
      "source": [
        "%pip install --q squarify\n",
        "%pip install --q plotly"
      ]
    },
    {
      "cell_type": "markdown",
      "id": "hskKudnYIn35",
      "metadata": {
        "id": "hskKudnYIn35"
      },
      "source": [
        "## Import libraries"
      ]
    },
    {
      "cell_type": "code",
      "execution_count": null,
      "id": "THRC-14Bz_Hp",
      "metadata": {
        "_cell_guid": "b1076dfc-b9ad-4769-8c92-a6c4dae69d19",
        "_uuid": "8f2839f25d086af736a60e9eeb907d3b93b6e0e5",
        "colab": {
          "base_uri": "https://localhost:8080/",
          "height": 17
        },
        "id": "THRC-14Bz_Hp",
        "outputId": "9bc26780-bfa8-463a-9d67-30bb06447c59",
        "papermill": {
          "duration": 0.098471,
          "end_time": "2022-01-15T09:50:45.169883",
          "exception": false,
          "start_time": "2022-01-15T09:50:45.071412",
          "status": "completed"
        },
        "tags": []
      },
      "outputs": [],
      "source": [
        "# importing mathematical and ds libraries\n",
        "import pandas as pd  # data science essentials\n",
        "import matplotlib.pyplot as plt  # essential graphical output\n",
        "import numpy as np   # mathematical essentials\n",
        "%matplotlib inline\n",
        "\n",
        "# import Visual libraries\n",
        "import plotly.offline as py\n",
        "py.init_notebook_mode(connected=True)\n",
        "from matplotlib import pyplot as plt\n",
        "#import seaborn as sns  # enhanced graphical output\n",
        "\n",
        "# Load scikit-learn packages for modeling\n",
        "from sklearn.model_selection import train_test_split #Split function\n",
        "from sklearn.linear_model import LinearRegression #LR function\n",
        "from sklearn.metrics import mean_squared_error,mean_absolute_error\n",
        "\n",
        "#import the Vectice Library\n",
        "import vectice\n",
        "from vectice import FileDataWrapper, DatasetSourceUsage\n",
        "\n",
        "#importing other libraries\n",
        "import IPython.display #this is for our data pipeline"
      ]
    },
    {
      "attachments": {},
      "cell_type": "markdown",
      "id": "b420ffd1",
      "metadata": {},
      "source": [
        "##  Vectice Config     \n",
        "- To log your work to Vectice, you need to connect your notebook to your profile using your personal API token       \n",
        "- Click on your profile at the top right corner of the Vectice application --> API Tokens --> Create API Token       \n",
        "- Provide a name and description for the key. We recommend you name the API Token: \"Tutorial_API_Token\" to avoid having to make additional changes to the notebook.\n",
        "- Save it in a location accessible by this code\n",
        "- #### If you are viewing this notebook in Google Colab, click the folder icon on the left bar and upload the file\n",
        "\n",
        "\n",
        "#### Update the workspace name below to match the workspace name your project is in"
      ]
    },
    {
      "cell_type": "code",
      "execution_count": null,
      "id": "cBDLOY6S3Zay",
      "metadata": {
        "colab": {
          "base_uri": "https://localhost:8080/"
        },
        "id": "cBDLOY6S3Zay",
        "outputId": "7d06dd35-e9dc-4b26-b6ac-562a7f400602"
      },
      "outputs": [],
      "source": [
        "my_vectice = vectice.connect(config=\"Tutorial_API_token.json\")\n",
        "my_workspace = my_vectice.workspace(\"YOUR WORKSPACE NAME\") # replace workspace name\n",
        "my_project = my_workspace.project(\"Tutorial Project: Forecast in store unit sales (23.1)\")"
      ]
    },
    {
      "cell_type": "markdown",
      "id": "c3464f9a",
      "metadata": {
        "tags": []
      },
      "source": [
        "## Capture milestones for the Modeling phase"
      ]
    },
    {
      "cell_type": "code",
      "execution_count": null,
      "id": "SsGRrCJTaqwI",
      "metadata": {
        "colab": {
          "base_uri": "https://localhost:8080/"
        },
        "id": "SsGRrCJTaqwI",
        "outputId": "d68c8c21-1840-49e9-964b-4ba5fe1b2202"
      },
      "outputs": [],
      "source": [
        "# Let's pick the first step of the Modeling phase\n",
        "step = my_project.phase(\"Modeling\").iteration().step(\"Select Modeling Techniques\")\n",
        "\n",
        "# Here we are documenting the modeling technique that we will use on this iteration\n",
        "step = step.next_step(message=\"For this first iteration we are going to use a Linear Regression model to get a base model.\")"
      ]
    },
    {
      "cell_type": "markdown",
      "id": "mtV07v27z_H0",
      "metadata": {
        "id": "mtV07v27z_H0",
        "papermill": {
          "duration": 0.168275,
          "end_time": "2022-01-15T09:54:43.166038",
          "exception": false,
          "start_time": "2022-01-15T09:54:42.997763",
          "status": "completed"
        },
        "tags": []
      },
      "source": [
        "# Linear Regression Model"
      ]
    },
    {
      "attachments": {},
      "cell_type": "markdown",
      "id": "pG7J6w0VxtIB",
      "metadata": {
        "id": "pG7J6w0VxtIB"
      },
      "source": [
        "### Generate Test Design\n",
        "\n",
        "* [Dataset ready for modeling](https://vectice-examples.s3.us-west-1.amazonaws.com/Tutorial/ForecastTutorial/train_clean.csv)          "
      ]
    },
    {
      "cell_type": "code",
      "execution_count": null,
      "id": "10e4c4e2",
      "metadata": {},
      "outputs": [],
      "source": [
        "# Download the files locally\n",
        "!wget https://vectice-examples.s3.us-west-1.amazonaws.com/Tutorial/ForecastTutorial/train_clean.csv -q --no-check-certificate"
      ]
    },
    {
      "cell_type": "code",
      "execution_count": null,
      "id": "j3mFoQpkz_Hv",
      "metadata": {
        "id": "j3mFoQpkz_Hv"
      },
      "outputs": [],
      "source": [
        "#read the dataset\n",
        "model_ds =pd.read_csv(\"train_clean.csv\")\n",
        "model_ds = model_ds.fillna(0)\n",
        "\n",
        "# Set split sizes\n",
        "test_size = 0.40\n",
        "# We will set the random seed so we always generate the same split.\n",
        "random_state = 42\n",
        "\n",
        "# Generate X_train, X_test, y_train, y_test, which we will need for modeling\n",
        "X = model_ds.drop(['unit_sales'], axis=1)\n",
        "y = model_ds[\"unit_sales\"]\n",
        "X_train, X_test, y_train, y_test = train_test_split(X, y, test_size=test_size, random_state=random_state)\n",
        "\n",
        "X_train.to_csv(\"traindataset.csv\")\n",
        "X_test.to_csv(\"testdataset.csv\")\n",
        "y_test.to_csv(\"validatedataset.csv\")"
      ]
    },
    {
      "attachments": {},
      "cell_type": "markdown",
      "id": "04dd1630",
      "metadata": {},
      "source": [
        "### Document the split strategy in Vectice"
      ]
    },
    {
      "cell_type": "code",
      "execution_count": null,
      "id": "2068d571",
      "metadata": {},
      "outputs": [],
      "source": [
        "# Document, close the step and get the next one.\n",
        "step = step.next_step(message=f\"We split the dataset in a training, testing and validation datasets. {test_size * 100}% of the data is set aside for testing.\\n - Training dataset size: {X_train.shape[0]}\\n - Testing dataset size: {X_test.shape[0]}\\n - Validation dataset size: {y_test.shape[0]}\\nOur seed to generate repeatable datasets is {random_state}\")"
      ]
    },
    {
      "cell_type": "markdown",
      "id": "3PnFDr12x3ex",
      "metadata": {
        "id": "3PnFDr12x3ex"
      },
      "source": [
        "### Linear Regression"
      ]
    },
    {
      "cell_type": "code",
      "execution_count": null,
      "id": "mDlAxPxgz_H1",
      "metadata": {
        "colab": {
          "base_uri": "https://localhost:8080/"
        },
        "id": "mDlAxPxgz_H1",
        "outputId": "62f97927-296b-4e68-ef3e-df0972a40083"
      },
      "outputs": [],
      "source": [
        "#Lets create a linear regression model\n",
        "model = LinearRegression()\n",
        "\n",
        "model.fit(X_train.values, y_train.values)\n",
        "    \n",
        "pred = model.predict(X_test.values)\n",
        "\n",
        "print(f\"predicted responses:\\n {pred}\")\n",
        "    \n",
        "RMSE = np.sqrt(mean_squared_error(y_test.values, pred))\n",
        "MAE = mean_absolute_error(y_test.values, pred)\n",
        "\n",
        "print(\"root_mean_squared_error: \",RMSE) \n",
        "print(\"mean_absolute_error: \", MAE)\n",
        "\n",
        "metrics = {\"RMSE\": RMSE, \"MAE\": MAE}"
      ]
    },
    {
      "cell_type": "code",
      "execution_count": null,
      "id": "w29MOHcB1hhd",
      "metadata": {
        "colab": {
          "base_uri": "https://localhost:8080/",
          "height": 659
        },
        "id": "w29MOHcB1hhd",
        "outputId": "3d072643-c87f-4b7c-f2a4-be891e4a562f"
      },
      "outputs": [],
      "source": [
        "plt.scatter(X_train.iloc[:,0].values, y_train ,color='g') \n",
        "plt.plot(X_test, pred,color='k') \n",
        "plt.savefig(\"regression_graph.png\")\n",
        "plt.show()"
      ]
    },
    {
      "attachments": {},
      "cell_type": "markdown",
      "id": "03bd8e6f",
      "metadata": {},
      "source": [
        "### Document model and its lineage in Vectice"
      ]
    },
    {
      "cell_type": "code",
      "execution_count": null,
      "id": "3PPsuPhR1bzo",
      "metadata": {
        "id": "3PPsuPhR1bzo"
      },
      "outputs": [],
      "source": [
        "# Let's log the model we trained along with its metrics, as a new version of the \"Regression\" model in Vectice.\n",
        "# Define a testing, training and validation datawrapper\n",
        "train_ds = FileDataWrapper(name=\"Modeling Dataset\", path=\"traindataset.csv\", usage=DatasetSourceUsage.TRAINING)\n",
        "test_ds = FileDataWrapper(name=\"Modeling Dataset\", path=\"testdataset.csv\", usage=DatasetSourceUsage.TESTING)\n",
        "validate_ds = FileDataWrapper(name=\"Modeling Dataset\", path=\"validatedataset.csv\", usage=DatasetSourceUsage.VALIDATION)\n",
        "step.modeling_dataset = [train_ds, test_ds, validate_ds]\n",
        "\n",
        "# Get the modeling dataset ID to use in the lineage property of the model object\n",
        "\n",
        "\n",
        "step.iteration.model = vectice.Model(name=\"Unit Sales Predictor\", library=\"scikit-learn\", technique=\"linear regression\", metrics=metrics, attachments=\"regression_graph.png\", predictor=model)\n",
        "step = step.next_step(message=\"RMSE= \" + str(metrics[\"RMSE\"]) +  \" and MAE= \" + str(metrics[\"MAE\"])) "
      ]
    },
    {
      "cell_type": "markdown",
      "id": "KyPTA029AYNf",
      "metadata": {
        "id": "KyPTA029AYNf"
      },
      "source": [
        "## Assess Model"
      ]
    },
    {
      "cell_type": "code",
      "execution_count": null,
      "id": "UHIqtI-3Ajbe",
      "metadata": {
        "colab": {
          "base_uri": "https://localhost:8080/"
        },
        "id": "UHIqtI-3Ajbe",
        "outputId": "538ffd9e-05e4-479a-9a86-3ccc65bafe4f"
      },
      "outputs": [],
      "source": [
        "\n",
        "step.close(message=\"As expected the model performs better however this is not good enough and we should try a different method. We recommend doing a Random Forest as a new iteration\")"
      ]
    }
  ],
  "metadata": {
    "colab": {
      "machine_shape": "hm",
      "provenance": []
    },
    "environment": {
      "kernel": "python3",
      "name": "common-cpu.m94",
      "type": "gcloud",
      "uri": "gcr.io/deeplearning-platform-release/base-cpu:m94"
    },
    "gpuClass": "standard",
    "kernelspec": {
      "display_name": "Python 3.9.2 64-bit",
      "language": "python",
      "name": "python3"
    },
    "language_info": {
      "codemirror_mode": {
        "name": "ipython",
        "version": 3
      },
      "file_extension": ".py",
      "mimetype": "text/x-python",
      "name": "python",
      "nbconvert_exporter": "python",
      "pygments_lexer": "ipython3",
      "version": "3.9.2 (v3.9.2:1a79785e3e, Feb 19 2021, 09:06:10) \n[Clang 6.0 (clang-600.0.57)]"
    },
    "papermill": {
      "default_parameters": {},
      "duration": 4527.062431,
      "end_time": "2022-01-15T11:06:02.218444",
      "environment_variables": {},
      "exception": null,
      "input_path": "__notebook__.ipynb",
      "output_path": "__notebook__.ipynb",
      "parameters": {},
      "start_time": "2022-01-15T09:50:35.156013",
      "version": "2.3.3"
    },
    "vscode": {
      "interpreter": {
        "hash": "397704579725e15f5c7cb49fe5f0341eb7531c82d19f2c29d197e8b64ab5776b"
      }
    }
  },
  "nbformat": 4,
  "nbformat_minor": 5
}
