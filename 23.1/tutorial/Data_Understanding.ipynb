{
  "cells": [
    {
      "attachments": {},
      "cell_type": "markdown",
      "metadata": {
        "id": "dVBtetrcYTrN"
      },
      "source": [
        "# Before your start with this Tutorial\n",
        "\n",
        "**Tutorial Intention:** Providing an example of iteration and related step on a data understanding phase for you to:\n",
        "\n",
        "*   Experience the data science lifecycle using Vectice\n",
        "*   See how simple it is to connect your notebook to Vectice\n",
        "*   Learn how to structure and log your work using Vectice\n",
        "\n",
        "**Resources needed:**\n",
        "*   <b>Tutorial Project: Forecast in-store unit sales (23.1)</b> - You can find it as part of your personal workspace named after your name\n",
        "*   Vectice Webapp Documentation: https://docs.vectice.com/\n",
        "*   Vectice API documentation: https://api-docs.vectice.com/sdk/index.html\n",
        "\n"
      ]
    },
    {
      "cell_type": "markdown",
      "metadata": {
        "id": "HilzKVwhI3pO"
      },
      "source": [
        "### Optional pip Install Packages"
      ]
    },
    {
      "cell_type": "code",
      "execution_count": 43,
      "metadata": {
        "colab": {
          "base_uri": "https://localhost:8080/",
          "height": 589
        },
        "id": "jKmib-N-WZlf",
        "outputId": "229c57b0-ff5a-4789-fed7-7715c0a942cb"
      },
      "outputs": [
        {
          "name": "stderr",
          "output_type": "stream",
          "text": [
            "1462774.32s - pydevd: Sending message related to process being replaced timed-out after 5 seconds\n"
          ]
        },
        {
          "name": "stdout",
          "output_type": "stream",
          "text": [
            "Note: you may need to restart the kernel to use updated packages.\n"
          ]
        }
      ],
      "source": [
        "%pip install --q vectice -U"
      ]
    },
    {
      "cell_type": "markdown",
      "metadata": {},
      "source": [
        "## Optional libraries - depending on your project"
      ]
    },
    {
      "cell_type": "code",
      "execution_count": 44,
      "metadata": {
        "colab": {
          "base_uri": "https://localhost:8080/"
        },
        "id": "tyQZ1xOOWY1m",
        "outputId": "764f624c-e86a-4fc8-d73d-1f5756c194ac"
      },
      "outputs": [
        {
          "name": "stderr",
          "output_type": "stream",
          "text": [
            "1462783.56s - pydevd: Sending message related to process being replaced timed-out after 5 seconds\n"
          ]
        },
        {
          "name": "stdout",
          "output_type": "stream",
          "text": [
            "Note: you may need to restart the kernel to use updated packages.\n"
          ]
        },
        {
          "name": "stderr",
          "output_type": "stream",
          "text": [
            "1462791.39s - pydevd: Sending message related to process being replaced timed-out after 5 seconds\n"
          ]
        },
        {
          "name": "stdout",
          "output_type": "stream",
          "text": [
            "Note: you may need to restart the kernel to use updated packages.\n"
          ]
        },
        {
          "name": "stderr",
          "output_type": "stream",
          "text": [
            "1462799.36s - pydevd: Sending message related to process being replaced timed-out after 5 seconds\n"
          ]
        },
        {
          "name": "stdout",
          "output_type": "stream",
          "text": [
            "Note: you may need to restart the kernel to use updated packages.\n"
          ]
        },
        {
          "name": "stderr",
          "output_type": "stream",
          "text": [
            "1462807.32s - pydevd: Sending message related to process being replaced timed-out after 5 seconds\n"
          ]
        },
        {
          "name": "stdout",
          "output_type": "stream",
          "text": [
            "Note: you may need to restart the kernel to use updated packages.\n"
          ]
        }
      ],
      "source": [
        "%pip install --q squarify\n",
        "%pip install --q plotly\n",
        "%pip install --q seaborn\n",
        "%pip install --q nbformat -U"
      ]
    },
    {
      "attachments": {},
      "cell_type": "markdown",
      "metadata": {
        "id": "CwFejewmI-Zm"
      },
      "source": [
        "## Import libraries"
      ]
    },
    {
      "cell_type": "code",
      "execution_count": 2,
      "metadata": {
        "id": "c7mlZg-ATcWF"
      },
      "outputs": [
        {
          "data": {
            "text/html": [
              "        <script type=\"text/javascript\">\n",
              "        window.PlotlyConfig = {MathJaxConfig: 'local'};\n",
              "        if (window.MathJax && window.MathJax.Hub && window.MathJax.Hub.Config) {window.MathJax.Hub.Config({SVG: {font: \"STIX-Web\"}});}\n",
              "        if (typeof require !== 'undefined') {\n",
              "        require.undef(\"plotly\");\n",
              "        requirejs.config({\n",
              "            paths: {\n",
              "                'plotly': ['https://cdn.plot.ly/plotly-2.16.1.min']\n",
              "            }\n",
              "        });\n",
              "        require(['plotly'], function(Plotly) {\n",
              "            window._Plotly = Plotly;\n",
              "        });\n",
              "        }\n",
              "        </script>\n",
              "        "
            ]
          },
          "metadata": {},
          "output_type": "display_data"
        }
      ],
      "source": [
        "# importing libraries\n",
        "import pandas as pd  # data science essentials\n",
        "import matplotlib as mpl\n",
        "mpl.rcParams['agg.path.chunksize'] = 10000\n",
        "import matplotlib.pyplot as plt  # essential graphical output\n",
        "import seaborn as sns  # enhanced graphical output\n",
        "import numpy as np   # mathematical essentials\n",
        "import squarify\n",
        "import plotly.offline as py\n",
        "py.init_notebook_mode(connected=True)\n",
        "import plotly.graph_objs as go\n",
        "from plotly.subplots import make_subplots\n",
        "import plotly.express as px"
      ]
    },
    {
      "cell_type": "code",
      "execution_count": 3,
      "metadata": {
        "colab": {
          "base_uri": "https://localhost:8080/"
        },
        "id": "o_hAaMj8VpoM",
        "outputId": "3a3b5d0d-1e3c-413a-bb2c-85f2f07eed4a"
      },
      "outputs": [],
      "source": [
        "# import Vectice library\n",
        "import vectice\n",
        "from vectice import FileDataWrapper, DatasetSourceUsage "
      ]
    },
    {
      "cell_type": "markdown",
      "metadata": {},
      "source": [
        "## Download the datasets and config file used in this notebook (if on Colab or Jupyter)\n",
        "\n",
        "The dataset used in this project can be found here:<br>\n",
        "* [items.csv](https://vectice-examples.s3.us-west-1.amazonaws.com/Tutorial/ForecastTutorial/items.csv)<br>\n",
        "* [holidays_events.csv](https://vectice-examples.s3.us-west-1.amazonaws.com/Tutorial/ForecastTutorial/holidays_events.csv)<br>\n",
        "* [stores.csv](https://vectice-examples.s3.us-west-1.amazonaws.com/Tutorial/ForecastTutorial/stores.csv)<br>\n",
        "* [oil.csv](https://vectice-examples.s3.us-west-1.amazonaws.com/Tutorial/ForecastTutorial/oil.csv)<br>\n",
        "* [transactions.csv](https://vectice-examples.s3.us-west-1.amazonaws.com/Tutorial/ForecastTutorial/transactions.csv)<br>\n",
        "* [train_reduced.csv](https://vectice-examples.s3.us-west-1.amazonaws.com/Tutorial/ForecastTutorial/train_reduced.csv)"
      ]
    },
    {
      "cell_type": "code",
      "execution_count": 47,
      "metadata": {},
      "outputs": [
        {
          "name": "stderr",
          "output_type": "stream",
          "text": [
            "1462815.95s - pydevd: Sending message related to process being replaced timed-out after 5 seconds\n",
            "1462822.51s - pydevd: Sending message related to process being replaced timed-out after 5 seconds\n",
            "1462828.73s - pydevd: Sending message related to process being replaced timed-out after 5 seconds\n",
            "1462834.71s - pydevd: Sending message related to process being replaced timed-out after 5 seconds\n",
            "1462841.05s - pydevd: Sending message related to process being replaced timed-out after 5 seconds\n",
            "1462853.20s - pydevd: Sending message related to process being replaced timed-out after 5 seconds\n"
          ]
        }
      ],
      "source": [
        "# Download the files locally\n",
        "!wget https://vectice-examples.s3.us-west-1.amazonaws.com/Tutorial/ForecastTutorial/items.csv -q --no-check-certificate\n",
        "!wget https://vectice-examples.s3.us-west-1.amazonaws.com/Tutorial/ForecastTutorial/holidays_events.csv -q --no-check-certificate\n",
        "!wget https://vectice-examples.s3.us-west-1.amazonaws.com/Tutorial/ForecastTutorial/stores.csv -q --no-check-certificate\n",
        "!wget https://vectice-examples.s3.us-west-1.amazonaws.com/Tutorial/ForecastTutorial/oil.csv -q --no-check-certificate\n",
        "!wget https://vectice-examples.s3.us-west-1.amazonaws.com/Tutorial/ForecastTutorial/transactions.csv -q --no-check-certificate\n",
        "!wget https://vectice-examples.s3.us-west-1.amazonaws.com/Tutorial/ForecastTutorial/train_reduced.csv -q --no-check-certificate"
      ]
    },
    {
      "cell_type": "markdown",
      "id": "b420ffd1",
      "metadata": {},
      "source": [
        "##  Vectice Config     \n",
        "- To log your work to Vectice, you need to connect your notebook to your profile using your personal API token       \n",
        "- Click on your profile at the top right corner of the Vectice application --> API Tokens --> Create API Token       \n",
        "- Provide a name and description for the key. We recommend you name the API Token: \"Tutorial_API_Token\" to avoid having to make additional changes to the notebook.\n",
        "- Save it in a location accessible by this code\n",
        "- #### If you are viewing this notebook in Google Colab, click the folder icon on the left bar and upload the file\n",
        "\n",
        "#### Update the workspace name below to match the workspace name your project is in"
      ]
    },
    {
      "cell_type": "code",
      "execution_count": 4,
      "id": "cBDLOY6S3Zay",
      "metadata": {
        "colab": {
          "base_uri": "https://localhost:8080/"
        },
        "id": "cBDLOY6S3Zay",
        "outputId": "7d06dd35-e9dc-4b26-b6ac-562a7f400602"
      },
      "outputs": [
        {
          "name": "stderr",
          "output_type": "stream",
          "text": [
            "2023/02/17 11:24:32 INFO vectice.connection: Vectice successfully connected.\n",
            "2023/02/17 11:24:33 INFO vectice.connection: Your current workspace: .Retail Ops and project: Corp Forecast in-store unit sales\n",
            "2023/02/17 11:24:34 WARNING vectice.connection: No Iteration exists with activity. When an Iteration is created, last used assets will be displayed.\n"
          ]
        }
      ],
      "source": [
        "#my_vectice = vectice.connect(config=\"Tutorial_API_token.json\")\n",
        "#my_workspace = my_vectice.workspace(\"YOUR WORKSPACE NAME\") # replace workspace name\n",
        "#my_project = my_workspace.project(\"Tutorial Project: Forecast in store unit sales (23.1)\")\n",
        "my_project = vectice.connect(config=\"vectice-config.json\")"
      ]
    },
    {
      "cell_type": "markdown",
      "metadata": {
        "id": "DVSSuWZ6UMce"
      },
      "source": [
        "# Collect Initial Data"
      ]
    },
    {
      "attachments": {},
      "cell_type": "markdown",
      "metadata": {},
      "source": [
        "### Build dataframes"
      ]
    },
    {
      "cell_type": "code",
      "execution_count": 5,
      "metadata": {
        "id": "PxfvoLbxUYZ4"
      },
      "outputs": [],
      "source": [
        "#read datasets\n",
        "items = pd.read_csv(\"items.csv\")\n",
        "holiday_events = pd.read_csv(\"holidays_events.csv\", parse_dates=['date'])\n",
        "stores = pd.read_csv(\"stores.csv\")\n",
        "oil = pd.read_csv(\"oil.csv\", parse_dates=['date'])\n",
        "transactions = pd.read_csv(\"transactions.csv\", parse_dates=['date'])\n",
        "df = pd.read_csv(\"train_reduced.csv\")"
      ]
    },
    {
      "attachments": {},
      "cell_type": "markdown",
      "metadata": {},
      "source": [
        "### Create Vectice dataset assets"
      ]
    },
    {
      "cell_type": "code",
      "execution_count": 6,
      "metadata": {
        "id": "0k9eHyO4Ua6q"
      },
      "outputs": [
        {
          "name": "stderr",
          "output_type": "stream",
          "text": [
            "2023/02/17 11:24:36 INFO vectice.models.project: Phase with id: 32681 successfully retrieved.\n",
            "2023/02/17 11:24:37 INFO vectice.models.phase: Iteration number 2 (id 4561) successfully retrieved.\n",
            "2023/02/17 11:24:37 INFO vectice.models.iteration: Step: Collect Initial Data successfully retrieved.\n",
            "2023/02/17 11:24:37 INFO vectice.models.datasource.datawrapper.file_data_wrapper: File: items.csv wrapped successfully.\n",
            "2023/02/17 11:24:38 INFO vectice.models.phase: Iteration number 2 (id 4561) successfully retrieved.\n",
            "2023/02/17 11:24:39 INFO vectice.models.step: Code captured and will be linked to asset.\n",
            "2023/02/17 11:24:44 INFO vectice.models.git_version: Code captured the following changed files; .gitignore, 22.4/samples/SimpleProject_HelloWorld.ipynb, 23.1/samples/howto_captureDatasets.ipynb, 23.1/samples/howto_captureModels.ipynb, 23.1/tutorial/Data_Preparation.ipynb\n",
            "2023/02/17 11:24:44 INFO vectice.api.client: Successfully registered Dataset(name='Items origin', id=22589, version='Version 1', type=ORIGIN).\n",
            "2023/02/17 11:24:45 INFO vectice.models.step: Successfully added Dataset(name='Items origin', id=22589, version='Version 1', type=ORIGIN) to Collect Initial Data\n",
            "2023/02/17 11:24:45 INFO vectice.models.datasource.datawrapper.file_data_wrapper: File: holidays_events.csv wrapped successfully.\n",
            "2023/02/17 11:24:46 INFO vectice.models.phase: Iteration number 2 (id 4561) successfully retrieved.\n",
            "2023/02/17 11:24:48 WARNING vectice.models.step: The code commit exists already.\n",
            "2023/02/17 11:24:48 INFO vectice.api.client: Successfully registered Dataset(name='Holiday origin', id=22590, version='Version 1', type=ORIGIN).\n",
            "2023/02/17 11:24:49 INFO vectice.models.step: Successfully added Dataset(name='Holiday origin', id=22590, version='Version 1', type=ORIGIN) to Collect Initial Data\n",
            "2023/02/17 11:24:49 INFO vectice.models.datasource.datawrapper.file_data_wrapper: File: stores.csv wrapped successfully.\n",
            "2023/02/17 11:24:49 INFO vectice.models.phase: Iteration number 2 (id 4561) successfully retrieved.\n",
            "2023/02/17 11:24:51 WARNING vectice.models.step: The code commit exists already.\n",
            "2023/02/17 11:24:52 INFO vectice.api.client: Successfully registered Dataset(name='Stores origin', id=22591, version='Version 1', type=ORIGIN).\n",
            "2023/02/17 11:24:53 INFO vectice.models.step: Successfully added Dataset(name='Stores origin', id=22591, version='Version 1', type=ORIGIN) to Collect Initial Data\n",
            "2023/02/17 11:24:53 INFO vectice.models.datasource.datawrapper.file_data_wrapper: File: oil.csv wrapped successfully.\n",
            "2023/02/17 11:24:53 INFO vectice.models.phase: Iteration number 2 (id 4561) successfully retrieved.\n",
            "2023/02/17 11:24:55 WARNING vectice.models.step: The code commit exists already.\n",
            "2023/02/17 11:24:56 INFO vectice.api.client: Successfully registered Dataset(name='Oil origin', id=22592, version='Version 1', type=ORIGIN).\n",
            "2023/02/17 11:24:57 INFO vectice.models.step: Successfully added Dataset(name='Oil origin', id=22592, version='Version 1', type=ORIGIN) to Collect Initial Data\n",
            "2023/02/17 11:24:57 INFO vectice.models.datasource.datawrapper.file_data_wrapper: File: transactions.csv wrapped successfully.\n",
            "2023/02/17 11:24:57 INFO vectice.models.phase: Iteration number 2 (id 4561) successfully retrieved.\n",
            "2023/02/17 11:24:59 WARNING vectice.models.step: The code commit exists already.\n",
            "2023/02/17 11:25:00 INFO vectice.api.client: Successfully registered Dataset(name='Transactions origin', id=22593, version='Version 1', type=ORIGIN).\n",
            "2023/02/17 11:25:01 INFO vectice.models.step: Successfully added Dataset(name='Transactions origin', id=22593, version='Version 1', type=ORIGIN) to Collect Initial Data\n",
            "2023/02/17 11:25:01 INFO vectice.models.step: 'Collect Initial Data' was successfully closed.\n",
            "2023/02/17 11:25:02 INFO vectice.models.step: Next step : Step(name='Describe Data', id=17203, description='Examine the data and document its properties like data format, number of records, or field properties. Ex: data summary, frequency distribution, data shape.', completed=False)\n"
          ]
        }
      ],
      "source": [
        "\n",
        "# get the first step of the 'Data Understanding' phase\n",
        "step = my_project.phase(\"Data Understanding\").iteration().step(\"Collect Initial Data\")\n",
        "\n",
        "# Document the origin_datasets in Vectice:\n",
        "step.origin_dataset = FileDataWrapper(path=\"items.csv\", name=\"Items origin\")\n",
        "step.origin_dataset = FileDataWrapper(path=\"holidays_events.csv\", name=\"Holiday origin\")\n",
        "step.origin_dataset = FileDataWrapper(path=\"stores.csv\", name=\"Stores origin\")\n",
        "step.origin_dataset = FileDataWrapper(path=\"oil.csv\", name=\"Oil origin\")\n",
        "step.origin_dataset = FileDataWrapper(path=\"transactions.csv\", name=\"Transactions origin\")\n",
        "\n",
        "# Close step, mark it as completed in the webapp and publish message\n",
        "# The next_step() method closes the current step and opens the next one in one call\n",
        "step = step.next_step(message=\"The datasets for this project have been identified.\")"
      ]
    },
    {
      "cell_type": "markdown",
      "metadata": {
        "id": "SfwKihjqUjpZ"
      },
      "source": [
        "# Describe data"
      ]
    },
    {
      "attachments": {},
      "cell_type": "markdown",
      "metadata": {},
      "source": [
        "### Collect basic data properties"
      ]
    },
    {
      "cell_type": "code",
      "execution_count": 7,
      "metadata": {
        "colab": {
          "base_uri": "https://localhost:8080/"
        },
        "id": "mKNyC245sOLX",
        "outputId": "5e5118a8-9306-448f-b681-4f4a653a957f"
      },
      "outputs": [
        {
          "name": "stdout",
          "output_type": "stream",
          "text": [
            "<class 'pandas.core.frame.DataFrame'>\n",
            "RangeIndex: 4100 entries, 0 to 4099\n",
            "Data columns (total 4 columns):\n",
            " #   Column      Non-Null Count  Dtype \n",
            "---  ------      --------------  ----- \n",
            " 0   item_nbr    4100 non-null   int64 \n",
            " 1   family      4100 non-null   object\n",
            " 2   class       4100 non-null   int64 \n",
            " 3   perishable  4100 non-null   int64 \n",
            "dtypes: int64(3), object(1)\n",
            "memory usage: 128.2+ KB\n"
          ]
        }
      ],
      "source": [
        "#provide info about the item dataset\n",
        "items.info()"
      ]
    },
    {
      "cell_type": "code",
      "execution_count": 8,
      "metadata": {
        "colab": {
          "base_uri": "https://localhost:8080/"
        },
        "id": "FA85FzOXsTsY",
        "outputId": "d659a11d-b7f9-4705-a9c5-094f61171aad"
      },
      "outputs": [
        {
          "name": "stdout",
          "output_type": "stream",
          "text": [
            "<class 'pandas.core.frame.DataFrame'>\n",
            "RangeIndex: 54 entries, 0 to 53\n",
            "Data columns (total 5 columns):\n",
            " #   Column     Non-Null Count  Dtype \n",
            "---  ------     --------------  ----- \n",
            " 0   store_nbr  54 non-null     int64 \n",
            " 1   city       54 non-null     object\n",
            " 2   state      54 non-null     object\n",
            " 3   type       54 non-null     object\n",
            " 4   cluster    54 non-null     int64 \n",
            "dtypes: int64(2), object(3)\n",
            "memory usage: 2.2+ KB\n"
          ]
        }
      ],
      "source": [
        "#provide info about the stores dataset\n",
        "stores.info()"
      ]
    },
    {
      "cell_type": "code",
      "execution_count": 9,
      "metadata": {
        "colab": {
          "base_uri": "https://localhost:8080/"
        },
        "id": "vsvtlQBj1KVz",
        "outputId": "53738a0f-7d3a-464f-9b2c-707754f818f0"
      },
      "outputs": [
        {
          "name": "stdout",
          "output_type": "stream",
          "text": [
            "<class 'pandas.core.frame.DataFrame'>\n",
            "RangeIndex: 350 entries, 0 to 349\n",
            "Data columns (total 6 columns):\n",
            " #   Column       Non-Null Count  Dtype         \n",
            "---  ------       --------------  -----         \n",
            " 0   date         350 non-null    datetime64[ns]\n",
            " 1   type         350 non-null    object        \n",
            " 2   locale       350 non-null    object        \n",
            " 3   locale_name  350 non-null    object        \n",
            " 4   description  350 non-null    object        \n",
            " 5   transferred  350 non-null    bool          \n",
            "dtypes: bool(1), datetime64[ns](1), object(4)\n",
            "memory usage: 14.1+ KB\n"
          ]
        }
      ],
      "source": [
        "#provide info about the holiday_events dataset\n",
        "holiday_events.info()"
      ]
    },
    {
      "cell_type": "code",
      "execution_count": 10,
      "metadata": {
        "id": "zTWrm45HsZ3_"
      },
      "outputs": [],
      "source": [
        "#perform date formating\n",
        "holiday_events['date'] = pd.to_datetime(holiday_events['date'], format=\"%Y-%m-%d\")"
      ]
    },
    {
      "attachments": {},
      "cell_type": "markdown",
      "metadata": {},
      "source": [
        "### Document the \"Describe Data\" step and close it"
      ]
    },
    {
      "cell_type": "code",
      "execution_count": 11,
      "metadata": {
        "id": "WWDAagDCzxPe"
      },
      "outputs": [
        {
          "name": "stderr",
          "output_type": "stream",
          "text": [
            "2023/02/17 11:25:03 INFO vectice.models.step: 'Describe Data' was successfully closed.\n",
            "2023/02/17 11:25:03 INFO vectice.models.step: Next step : Step(name='Explore data', id=17201, description='Identify meaningful variables. Compute numerical variables mean, median, and mode. Visualize distributions, identify outliers, and data relationships. Create hypotheses to test.', completed=False)\n"
          ]
        }
      ],
      "source": [
        "# Document the \"Describe Data\" step and close it\n",
        "# formatting the dimensions of the dataset (ROWS, COLUMNS)\n",
        "msg = \"\\nSize of Original Dataset:\\n\"\\\n",
        "\"Items dataset: Observations: \" + str(items.shape[0]) + \" - Features: \" + str(items.shape[1])  + \"\\n\" \\\n",
        "\"Holiday dataset: Observations: \" + str(holiday_events.shape[0])  + \"- Features: \" + str(holiday_events.shape[1])  + \"\\n\" \\\n",
        "\"Stores dataset: Observations: \" + str(stores.shape[0])  + \" - Features: \" + str(stores.shape[1])  + \"\\n\" \\\n",
        "\"Oil: Observations: \" + str(oil.shape[0])  + \" - Features: \" + str(oil.shape[1])  + \"\\n\" \\\n",
        "\"Transactions: Observations: \" + str(transactions.shape[0])  + \" - Features: \" + str(transactions.shape[1])\n",
        "\n",
        "# Document current step and get next one\n",
        "step = step.next_step(message=\"The data properties have been reviewed for the datasets identified\\n\" + msg)"
      ]
    },
    {
      "cell_type": "markdown",
      "metadata": {
        "id": "RLBzj6roxdZP"
      },
      "source": [
        "# Explore Data"
      ]
    },
    {
      "attachments": {},
      "cell_type": "markdown",
      "metadata": {},
      "source": [
        "### Visualizations"
      ]
    },
    {
      "attachments": {},
      "cell_type": "markdown",
      "metadata": {
        "id": "33suQbJdyg98"
      },
      "source": [
        "#### Stores Visualizations"
      ]
    },
    {
      "cell_type": "code",
      "execution_count": 12,
      "metadata": {
        "colab": {
          "base_uri": "https://localhost:8080/",
          "height": 1000
        },
        "id": "7eq5k76Vxr9J",
        "outputId": "e3c603f3-5ac7-4f43-9eb0-0251e57feec2"
      },
      "outputs": [
        {
          "data": {
            "image/png": "[encoded data removed]",
            "text/plain": [
              "<Figure size 4000x2500 with 1 Axes>"
            ]
          },
          "metadata": {},
          "output_type": "display_data"
        }
      ],
      "source": [
        "#Treemap of store counts across different cities\n",
        "fig = plt.figure(figsize=(25, 21))\n",
        "marrimeko=stores.city.value_counts().to_frame()\n",
        "ax = fig.add_subplot(111, aspect=\"equal\")\n",
        "ax = squarify.plot(sizes=marrimeko['city'].values,label=marrimeko.index,\n",
        "              color=sns.color_palette('cubehelix_r', 28), alpha=1)\n",
        "ax.set_xticks([])\n",
        "ax.set_yticks([])\n",
        "fig=plt.gcf()\n",
        "fig.set_size_inches(40,25)\n",
        "plt.title(\"Treemap of store counts across different cities\", fontsize=18)\n",
        "fig.savefig('Store1.png', dpi=300)\n",
        "plt.show()"
      ]
    },
    {
      "cell_type": "code",
      "execution_count": 13,
      "metadata": {
        "id": "NeMawONLxwR-"
      },
      "outputs": [
        {
          "data": {
            "image/png": "[encoded data removed]",
            "text/plain": [
              "<Figure size 4000x2500 with 1 Axes>"
            ]
          },
          "metadata": {},
          "output_type": "display_data"
        }
      ],
      "source": [
        "#Treemap of store counts across different States\n",
        "fig = plt.figure(figsize=(25, 21))\n",
        "marrimeko=stores.state.value_counts().to_frame()\n",
        "ax = fig.add_subplot(111, aspect=\"equal\")\n",
        "ax = squarify.plot(sizes=marrimeko['state'].values,label=marrimeko.index,\n",
        "              color=sns.color_palette('viridis_r', 28), alpha=1)\n",
        "ax.set_xticks([])\n",
        "ax.set_yticks([])\n",
        "fig=plt.gcf()\n",
        "fig.set_size_inches(40,25)\n",
        "plt.title(\"Treemap of store counts across different States\", fontsize=18)\n",
        "fig.savefig('Store2.png', dpi=300)\n",
        "plt.show()"
      ]
    },
    {
      "attachments": {},
      "cell_type": "markdown",
      "metadata": {
        "id": "WwBc_y79yFqX"
      },
      "source": [
        "##### Inspecting the allocation of clusters to store numbers - Visualizations"
      ]
    },
    {
      "cell_type": "code",
      "execution_count": 14,
      "metadata": {
        "id": "OO02mCAnx_1B"
      },
      "outputs": [
        {
          "name": "stderr",
          "output_type": "stream",
          "text": [
            "/var/folders/3_/l7f8whx5221gn40trqt3h6l80000gn/T/ipykernel_90934/292514687.py:11: FutureWarning:\n",
            "\n",
            "In a future version of pandas all arguments of DataFrame.pivot will be keyword-only.\n",
            "\n"
          ]
        },
        {
          "data": {
            "image/png": "[encoded data removed]",
            "text/plain": [
              "<Figure size 1500x1200 with 2 Axes>"
            ]
          },
          "metadata": {},
          "output_type": "display_data"
        },
        {
          "data": {
            "text/plain": [
              "<Figure size 640x480 with 0 Axes>"
            ]
          },
          "metadata": {},
          "output_type": "display_data"
        }
      ],
      "source": [
        "#Store numbers and the clusters they are assigned to\n",
        "# Unhide to see the sorted zip order\n",
        "neworder = [23, 24, 26, 36, 41, 15, 29, 31, 32, 34, 39, \n",
        "            53, 4, 37, 40, 43, 8, 10, 19, 20, 33, 38, 13, \n",
        "            21, 2, 6, 7, 3, 22, 25, 27, 28, 30, 35, 42, 44, \n",
        "            48, 51, 16, 0, 1, 5, 52, 45, 46, 47, 49, 9, 11, 12, 14, 18, 17, 50]\n",
        "\n",
        "# Finally plot the seaborn heatmap\n",
        "plt.style.use('dark_background')\n",
        "plt.figure(figsize=(15,12))\n",
        "store_pivot = stores.dropna().pivot(\"store_nbr\",\"cluster\", \"store_nbr\")\n",
        "ax = sns.heatmap(store_pivot, cmap='jet', annot=True, linewidths=0, linecolor='white')\n",
        "plt.title('Store numbers and the clusters they are assigned to')\n",
        "plt.show()\n",
        "plt.savefig('Store3.png', dpi=300)"
      ]
    },
    {
      "cell_type": "code",
      "execution_count": 15,
      "metadata": {
        "id": "3s05H0tryP3_"
      },
      "outputs": [
        {
          "data": {
            "image/png": "[encoded data removed]",
            "text/plain": [
              "<Figure size 1300x1100 with 1 Axes>"
            ]
          },
          "metadata": {},
          "output_type": "display_data"
        }
      ],
      "source": [
        "#Stacked Barplot of Store types and their cluster distribution\n",
        "plt.style.use('dark_background')\n",
        "type_cluster = stores.groupby(['type','cluster']).size()\n",
        "type_cluster.unstack().plot(kind='bar',stacked=True, colormap= 'PuBu', figsize=(13,11),  grid=False)\n",
        "plt.title('Stacked Barplot of Store types and their cluster distribution', fontsize=18)\n",
        "plt.ylabel('Count of clusters in a particular store type', fontsize=16)\n",
        "plt.xlabel('Store type', fontsize=16)\n",
        "plt.savefig('Store4.png', dpi=300);\n",
        "plt.show()"
      ]
    },
    {
      "attachments": {},
      "cell_type": "markdown",
      "metadata": {
        "id": "nbCDun8JyWIg"
      },
      "source": [
        "#### Holidays Visualization"
      ]
    },
    {
      "cell_type": "code",
      "execution_count": 16,
      "metadata": {
        "id": "quNhl7BoyYuG"
      },
      "outputs": [
        {
          "data": {
            "image/png": "[encoded data removed]",
            "text/plain": [
              "<Figure size 1200x1000 with 1 Axes>"
            ]
          },
          "metadata": {},
          "output_type": "display_data"
        }
      ],
      "source": [
        "#Stacked Barplot of locale name against event type\n",
        "holiday_local_type = holiday_events.groupby(['locale_name', 'type']).size()\n",
        "holiday_local_type.unstack().plot(kind='bar',stacked=True, colormap= 'magma_r', figsize=(12,10),  grid=False)\n",
        "plt.title('Stacked Barplot of locale name against event type')\n",
        "plt.ylabel('Count of entries')\n",
        "plt.savefig('holiday.png')\n",
        "plt.show()"
      ]
    },
    {
      "attachments": {},
      "cell_type": "markdown",
      "metadata": {
        "id": "PHZGLYcfypu0"
      },
      "source": [
        "#### Transactions Visualization"
      ]
    },
    {
      "cell_type": "code",
      "execution_count": 17,
      "metadata": {
        "id": "o7C9nPDGysYS"
      },
      "outputs": [
        {
          "name": "stderr",
          "output_type": "stream",
          "text": [
            "/var/folders/3_/l7f8whx5221gn40trqt3h6l80000gn/T/ipykernel_90934/3320900153.py:2: MatplotlibDeprecationWarning:\n",
            "\n",
            "The seaborn styles shipped by Matplotlib are deprecated since 3.6, as they no longer correspond to the styles shipped by seaborn. However, they will remain available as 'seaborn-v0_8-<style>'. Alternatively, directly use the seaborn API instead.\n",
            "\n"
          ]
        },
        {
          "data": {
            "image/png": "[encoded data removed]",
            "text/plain": [
              "<Figure size 1300x1100 with 1 Axes>"
            ]
          },
          "metadata": {},
          "output_type": "display_data"
        }
      ],
      "source": [
        "#Distribution of transactions per day from 2013 till 2017\n",
        "plt.style.use('seaborn-white')\n",
        "plt.figure(figsize=(13,11))\n",
        "plt.plot(transactions.date.values, transactions.transactions.values, color='darkblue')\n",
        "plt.ylim(-50, 10000)\n",
        "plt.title(\"Distribution of transactions per day from 2013 till 2017\")\n",
        "plt.ylabel('transactions per day', fontsize= 16)\n",
        "plt.xlabel('Date', fontsize= 16)\n",
        "plt.savefig('transaction1317.png')\n",
        "plt.show()"
      ]
    },
    {
      "attachments": {},
      "cell_type": "markdown",
      "metadata": {
        "id": "QTrASVhPytTW"
      },
      "source": [
        "#### Items Visualizations"
      ]
    },
    {
      "cell_type": "code",
      "execution_count": 18,
      "metadata": {
        "id": "0FCb6wM-yzyU"
      },
      "outputs": [
        {
          "data": {
            "application/vnd.plotly.v1+json": {
              "config": {
                "linkText": "Export to plot.ly",
                "plotlyServerURL": "https://plot.ly",
                "showLink": false
              },
              "data": [
                {
                  "marker": {
                    "color": [
                      1334,
                      613,
                      446,
                      306,
                      242,
                      153,
                      134,
                      108,
                      91,
                      84,
                      77,
                      73,
                      55,
                      54,
                      45,
                      41,
                      31,
                      26,
                      26,
                      21,
                      20,
                      20,
                      19,
                      17,
                      15,
                      14,
                      14,
                      8,
                      6,
                      4,
                      1,
                      1,
                      1
                    ],
                    "colorscale": [
                      [
                        0,
                        "rgb(12,51,131)"
                      ],
                      [
                        0.25,
                        "rgb(10,136,186)"
                      ],
                      [
                        0.5,
                        "rgb(242,211,56)"
                      ],
                      [
                        0.75,
                        "rgb(242,143,56)"
                      ],
                      [
                        1,
                        "rgb(217,30,30)"
                      ]
                    ],
                    "reversescale": false
                  },
                  "orientation": "v",
                  "type": "bar",
                  "x": [
                    "GROCERY I",
                    "BEVERAGES",
                    "CLEANING",
                    "PRODUCE",
                    "DAIRY",
                    "PERSONAL CARE",
                    "BREAD/BAKERY",
                    "HOME CARE",
                    "DELI",
                    "MEATS",
                    "HOME AND KITCHEN I",
                    "LIQUOR,WINE,BEER",
                    "FROZEN FOODS",
                    "POULTRY",
                    "HOME AND KITCHEN II",
                    "EGGS",
                    "CELEBRATION",
                    "LAWN AND GARDEN",
                    "PREPARED FOODS",
                    "LADIESWEAR",
                    "AUTOMOTIVE",
                    "LINGERIE",
                    "BEAUTY",
                    "PLAYERS AND ELECTRONICS",
                    "SCHOOL AND OFFICE SUPPLIES",
                    "GROCERY II",
                    "PET SUPPLIES",
                    "SEAFOOD",
                    "MAGAZINES",
                    "HARDWARE",
                    "HOME APPLIANCES",
                    "BABY CARE",
                    "BOOKS"
                  ],
                  "y": [
                    1334,
                    613,
                    446,
                    306,
                    242,
                    153,
                    134,
                    108,
                    91,
                    84,
                    77,
                    73,
                    55,
                    54,
                    45,
                    41,
                    31,
                    26,
                    26,
                    21,
                    20,
                    20,
                    19,
                    17,
                    15,
                    14,
                    14,
                    8,
                    6,
                    4,
                    1,
                    1,
                    1
                  ]
                }
              ],
              "layout": {
                "height": 800,
                "template": {
                  "data": {
                    "bar": [
                      {
                        "error_x": {
                          "color": "#2a3f5f"
                        },
                        "error_y": {
                          "color": "#2a3f5f"
                        },
                        "marker": {
                          "line": {
                            "color": "#E5ECF6",
                            "width": 0.5
                          },
                          "pattern": {
                            "fillmode": "overlay",
                            "size": 10,
                            "solidity": 0.2
                          }
                        },
                        "type": "bar"
                      }
                    ],
                    "barpolar": [
                      {
                        "marker": {
                          "line": {
                            "color": "#E5ECF6",
                            "width": 0.5
                          },
                          "pattern": {
                            "fillmode": "overlay",
                            "size": 10,
                            "solidity": 0.2
                          }
                        },
                        "type": "barpolar"
                      }
                    ],
                    "carpet": [
                      {
                        "aaxis": {
                          "endlinecolor": "#2a3f5f",
                          "gridcolor": "white",
                          "linecolor": "white",
                          "minorgridcolor": "white",
                          "startlinecolor": "#2a3f5f"
                        },
                        "baxis": {
                          "endlinecolor": "#2a3f5f",
                          "gridcolor": "white",
                          "linecolor": "white",
                          "minorgridcolor": "white",
                          "startlinecolor": "#2a3f5f"
                        },
                        "type": "carpet"
                      }
                    ],
                    "choropleth": [
                      {
                        "colorbar": {
                          "outlinewidth": 0,
                          "ticks": ""
                        },
                        "type": "choropleth"
                      }
                    ],
                    "contour": [
                      {
                        "colorbar": {
                          "outlinewidth": 0,
                          "ticks": ""
                        },
                        "colorscale": [
                          [
                            0,
                            "#0d0887"
                          ],
                          [
                            0.1111111111111111,
                            "#46039f"
                          ],
                          [
                            0.2222222222222222,
                            "#7201a8"
                          ],
                          [
                            0.3333333333333333,
                            "#9c179e"
                          ],
                          [
                            0.4444444444444444,
                            "#bd3786"
                          ],
                          [
                            0.5555555555555556,
                            "#d8576b"
                          ],
                          [
                            0.6666666666666666,
                            "#ed7953"
                          ],
                          [
                            0.7777777777777778,
                            "#fb9f3a"
                          ],
                          [
                            0.8888888888888888,
                            "#fdca26"
                          ],
                          [
                            1,
                            "#f0f921"
                          ]
                        ],
                        "type": "contour"
                      }
                    ],
                    "contourcarpet": [
                      {
                        "colorbar": {
                          "outlinewidth": 0,
                          "ticks": ""
                        },
                        "type": "contourcarpet"
                      }
                    ],
                    "heatmap": [
                      {
                        "colorbar": {
                          "outlinewidth": 0,
                          "ticks": ""
                        },
                        "colorscale": [
                          [
                            0,
                            "#0d0887"
                          ],
                          [
                            0.1111111111111111,
                            "#46039f"
                          ],
                          [
                            0.2222222222222222,
                            "#7201a8"
                          ],
                          [
                            0.3333333333333333,
                            "#9c179e"
                          ],
                          [
                            0.4444444444444444,
                            "#bd3786"
                          ],
                          [
                            0.5555555555555556,
                            "#d8576b"
                          ],
                          [
                            0.6666666666666666,
                            "#ed7953"
                          ],
                          [
                            0.7777777777777778,
                            "#fb9f3a"
                          ],
                          [
                            0.8888888888888888,
                            "#fdca26"
                          ],
                          [
                            1,
                            "#f0f921"
                          ]
                        ],
                        "type": "heatmap"
                      }
                    ],
                    "heatmapgl": [
                      {
                        "colorbar": {
                          "outlinewidth": 0,
                          "ticks": ""
                        },
                        "colorscale": [
                          [
                            0,
                            "#0d0887"
                          ],
                          [
                            0.1111111111111111,
                            "#46039f"
                          ],
                          [
                            0.2222222222222222,
                            "#7201a8"
                          ],
                          [
                            0.3333333333333333,
                            "#9c179e"
                          ],
                          [
                            0.4444444444444444,
                            "#bd3786"
                          ],
                          [
                            0.5555555555555556,
                            "#d8576b"
                          ],
                          [
                            0.6666666666666666,
                            "#ed7953"
                          ],
                          [
                            0.7777777777777778,
                            "#fb9f3a"
                          ],
                          [
                            0.8888888888888888,
                            "#fdca26"
                          ],
                          [
                            1,
                            "#f0f921"
                          ]
                        ],
                        "type": "heatmapgl"
                      }
                    ],
                    "histogram": [
                      {
                        "marker": {
                          "pattern": {
                            "fillmode": "overlay",
                            "size": 10,
                            "solidity": 0.2
                          }
                        },
                        "type": "histogram"
                      }
                    ],
                    "histogram2d": [
                      {
                        "colorbar": {
                          "outlinewidth": 0,
                          "ticks": ""
                        },
                        "colorscale": [
                          [
                            0,
                            "#0d0887"
                          ],
                          [
                            0.1111111111111111,
                            "#46039f"
                          ],
                          [
                            0.2222222222222222,
                            "#7201a8"
                          ],
                          [
                            0.3333333333333333,
                            "#9c179e"
                          ],
                          [
                            0.4444444444444444,
                            "#bd3786"
                          ],
                          [
                            0.5555555555555556,
                            "#d8576b"
                          ],
                          [
                            0.6666666666666666,
                            "#ed7953"
                          ],
                          [
                            0.7777777777777778,
                            "#fb9f3a"
                          ],
                          [
                            0.8888888888888888,
                            "#fdca26"
                          ],
                          [
                            1,
                            "#f0f921"
                          ]
                        ],
                        "type": "histogram2d"
                      }
                    ],
                    "histogram2dcontour": [
                      {
                        "colorbar": {
                          "outlinewidth": 0,
                          "ticks": ""
                        },
                        "colorscale": [
                          [
                            0,
                            "#0d0887"
                          ],
                          [
                            0.1111111111111111,
                            "#46039f"
                          ],
                          [
                            0.2222222222222222,
                            "#7201a8"
                          ],
                          [
                            0.3333333333333333,
                            "#9c179e"
                          ],
                          [
                            0.4444444444444444,
                            "#bd3786"
                          ],
                          [
                            0.5555555555555556,
                            "#d8576b"
                          ],
                          [
                            0.6666666666666666,
                            "#ed7953"
                          ],
                          [
                            0.7777777777777778,
                            "#fb9f3a"
                          ],
                          [
                            0.8888888888888888,
                            "#fdca26"
                          ],
                          [
                            1,
                            "#f0f921"
                          ]
                        ],
                        "type": "histogram2dcontour"
                      }
                    ],
                    "mesh3d": [
                      {
                        "colorbar": {
                          "outlinewidth": 0,
                          "ticks": ""
                        },
                        "type": "mesh3d"
                      }
                    ],
                    "parcoords": [
                      {
                        "line": {
                          "colorbar": {
                            "outlinewidth": 0,
                            "ticks": ""
                          }
                        },
                        "type": "parcoords"
                      }
                    ],
                    "pie": [
                      {
                        "automargin": true,
                        "type": "pie"
                      }
                    ],
                    "scatter": [
                      {
                        "fillpattern": {
                          "fillmode": "overlay",
                          "size": 10,
                          "solidity": 0.2
                        },
                        "type": "scatter"
                      }
                    ],
                    "scatter3d": [
                      {
                        "line": {
                          "colorbar": {
                            "outlinewidth": 0,
                            "ticks": ""
                          }
                        },
                        "marker": {
                          "colorbar": {
                            "outlinewidth": 0,
                            "ticks": ""
                          }
                        },
                        "type": "scatter3d"
                      }
                    ],
                    "scattercarpet": [
                      {
                        "marker": {
                          "colorbar": {
                            "outlinewidth": 0,
                            "ticks": ""
                          }
                        },
                        "type": "scattercarpet"
                      }
                    ],
                    "scattergeo": [
                      {
                        "marker": {
                          "colorbar": {
                            "outlinewidth": 0,
                            "ticks": ""
                          }
                        },
                        "type": "scattergeo"
                      }
                    ],
                    "scattergl": [
                      {
                        "marker": {
                          "colorbar": {
                            "outlinewidth": 0,
                            "ticks": ""
                          }
                        },
                        "type": "scattergl"
                      }
                    ],
                    "scattermapbox": [
                      {
                        "marker": {
                          "colorbar": {
                            "outlinewidth": 0,
                            "ticks": ""
                          }
                        },
                        "type": "scattermapbox"
                      }
                    ],
                    "scatterpolar": [
                      {
                        "marker": {
                          "colorbar": {
                            "outlinewidth": 0,
                            "ticks": ""
                          }
                        },
                        "type": "scatterpolar"
                      }
                    ],
                    "scatterpolargl": [
                      {
                        "marker": {
                          "colorbar": {
                            "outlinewidth": 0,
                            "ticks": ""
                          }
                        },
                        "type": "scatterpolargl"
                      }
                    ],
                    "scatterternary": [
                      {
                        "marker": {
                          "colorbar": {
                            "outlinewidth": 0,
                            "ticks": ""
                          }
                        },
                        "type": "scatterternary"
                      }
                    ],
                    "surface": [
                      {
                        "colorbar": {
                          "outlinewidth": 0,
                          "ticks": ""
                        },
                        "colorscale": [
                          [
                            0,
                            "#0d0887"
                          ],
                          [
                            0.1111111111111111,
                            "#46039f"
                          ],
                          [
                            0.2222222222222222,
                            "#7201a8"
                          ],
                          [
                            0.3333333333333333,
                            "#9c179e"
                          ],
                          [
                            0.4444444444444444,
                            "#bd3786"
                          ],
                          [
                            0.5555555555555556,
                            "#d8576b"
                          ],
                          [
                            0.6666666666666666,
                            "#ed7953"
                          ],
                          [
                            0.7777777777777778,
                            "#fb9f3a"
                          ],
                          [
                            0.8888888888888888,
                            "#fdca26"
                          ],
                          [
                            1,
                            "#f0f921"
                          ]
                        ],
                        "type": "surface"
                      }
                    ],
                    "table": [
                      {
                        "cells": {
                          "fill": {
                            "color": "#EBF0F8"
                          },
                          "line": {
                            "color": "white"
                          }
                        },
                        "header": {
                          "fill": {
                            "color": "#C8D4E3"
                          },
                          "line": {
                            "color": "white"
                          }
                        },
                        "type": "table"
                      }
                    ]
                  },
                  "layout": {
                    "annotationdefaults": {
                      "arrowcolor": "#2a3f5f",
                      "arrowhead": 0,
                      "arrowwidth": 1
                    },
                    "autotypenumbers": "strict",
                    "coloraxis": {
                      "colorbar": {
                        "outlinewidth": 0,
                        "ticks": ""
                      }
                    },
                    "colorscale": {
                      "diverging": [
                        [
                          0,
                          "#8e0152"
                        ],
                        [
                          0.1,
                          "#c51b7d"
                        ],
                        [
                          0.2,
                          "#de77ae"
                        ],
                        [
                          0.3,
                          "#f1b6da"
                        ],
                        [
                          0.4,
                          "#fde0ef"
                        ],
                        [
                          0.5,
                          "#f7f7f7"
                        ],
                        [
                          0.6,
                          "#e6f5d0"
                        ],
                        [
                          0.7,
                          "#b8e186"
                        ],
                        [
                          0.8,
                          "#7fbc41"
                        ],
                        [
                          0.9,
                          "#4d9221"
                        ],
                        [
                          1,
                          "#276419"
                        ]
                      ],
                      "sequential": [
                        [
                          0,
                          "#0d0887"
                        ],
                        [
                          0.1111111111111111,
                          "#46039f"
                        ],
                        [
                          0.2222222222222222,
                          "#7201a8"
                        ],
                        [
                          0.3333333333333333,
                          "#9c179e"
                        ],
                        [
                          0.4444444444444444,
                          "#bd3786"
                        ],
                        [
                          0.5555555555555556,
                          "#d8576b"
                        ],
                        [
                          0.6666666666666666,
                          "#ed7953"
                        ],
                        [
                          0.7777777777777778,
                          "#fb9f3a"
                        ],
                        [
                          0.8888888888888888,
                          "#fdca26"
                        ],
                        [
                          1,
                          "#f0f921"
                        ]
                      ],
                      "sequentialminus": [
                        [
                          0,
                          "#0d0887"
                        ],
                        [
                          0.1111111111111111,
                          "#46039f"
                        ],
                        [
                          0.2222222222222222,
                          "#7201a8"
                        ],
                        [
                          0.3333333333333333,
                          "#9c179e"
                        ],
                        [
                          0.4444444444444444,
                          "#bd3786"
                        ],
                        [
                          0.5555555555555556,
                          "#d8576b"
                        ],
                        [
                          0.6666666666666666,
                          "#ed7953"
                        ],
                        [
                          0.7777777777777778,
                          "#fb9f3a"
                        ],
                        [
                          0.8888888888888888,
                          "#fdca26"
                        ],
                        [
                          1,
                          "#f0f921"
                        ]
                      ]
                    },
                    "colorway": [
                      "#636efa",
                      "#EF553B",
                      "#00cc96",
                      "#ab63fa",
                      "#FFA15A",
                      "#19d3f3",
                      "#FF6692",
                      "#B6E880",
                      "#FF97FF",
                      "#FECB52"
                    ],
                    "font": {
                      "color": "#2a3f5f"
                    },
                    "geo": {
                      "bgcolor": "white",
                      "lakecolor": "white",
                      "landcolor": "#E5ECF6",
                      "showlakes": true,
                      "showland": true,
                      "subunitcolor": "white"
                    },
                    "hoverlabel": {
                      "align": "left"
                    },
                    "hovermode": "closest",
                    "mapbox": {
                      "style": "light"
                    },
                    "paper_bgcolor": "white",
                    "plot_bgcolor": "#E5ECF6",
                    "polar": {
                      "angularaxis": {
                        "gridcolor": "white",
                        "linecolor": "white",
                        "ticks": ""
                      },
                      "bgcolor": "#E5ECF6",
                      "radialaxis": {
                        "gridcolor": "white",
                        "linecolor": "white",
                        "ticks": ""
                      }
                    },
                    "scene": {
                      "xaxis": {
                        "backgroundcolor": "#E5ECF6",
                        "gridcolor": "white",
                        "gridwidth": 2,
                        "linecolor": "white",
                        "showbackground": true,
                        "ticks": "",
                        "zerolinecolor": "white"
                      },
                      "yaxis": {
                        "backgroundcolor": "#E5ECF6",
                        "gridcolor": "white",
                        "gridwidth": 2,
                        "linecolor": "white",
                        "showbackground": true,
                        "ticks": "",
                        "zerolinecolor": "white"
                      },
                      "zaxis": {
                        "backgroundcolor": "#E5ECF6",
                        "gridcolor": "white",
                        "gridwidth": 2,
                        "linecolor": "white",
                        "showbackground": true,
                        "ticks": "",
                        "zerolinecolor": "white"
                      }
                    },
                    "shapedefaults": {
                      "line": {
                        "color": "#2a3f5f"
                      }
                    },
                    "ternary": {
                      "aaxis": {
                        "gridcolor": "white",
                        "linecolor": "white",
                        "ticks": ""
                      },
                      "baxis": {
                        "gridcolor": "white",
                        "linecolor": "white",
                        "ticks": ""
                      },
                      "bgcolor": "#E5ECF6",
                      "caxis": {
                        "gridcolor": "white",
                        "linecolor": "white",
                        "ticks": ""
                      }
                    },
                    "title": {
                      "x": 0.05
                    },
                    "xaxis": {
                      "automargin": true,
                      "gridcolor": "white",
                      "linecolor": "white",
                      "ticks": "",
                      "title": {
                        "standoff": 15
                      },
                      "zerolinecolor": "white",
                      "zerolinewidth": 2
                    },
                    "yaxis": {
                      "automargin": true,
                      "gridcolor": "white",
                      "linecolor": "white",
                      "ticks": "",
                      "title": {
                        "standoff": 15
                      },
                      "zerolinecolor": "white",
                      "zerolinewidth": 2
                    }
                  }
                },
                "title": {
                  "text": "Counts of items per family category"
                },
                "width": 800,
                "yaxis": {
                  "showgrid": false,
                  "showline": false,
                  "showticklabels": true
                }
              }
            },
            "text/html": [
              "<div>                            <div id=\"4ee3b971-fac5-4d5a-8504-c61ee67fc313\" class=\"plotly-graph-div\" style=\"height:800px; width:800px;\"></div>            <script type=\"text/javascript\">                require([\"plotly\"], function(Plotly) {                    window.PLOTLYENV=window.PLOTLYENV || {};                                    if (document.getElementById(\"4ee3b971-fac5-4d5a-8504-c61ee67fc313\")) {                    Plotly.newPlot(                        \"4ee3b971-fac5-4d5a-8504-c61ee67fc313\",                        [{\"marker\":{\"color\":[1334,613,446,306,242,153,134,108,91,84,77,73,55,54,45,41,31,26,26,21,20,20,19,17,15,14,14,8,6,4,1,1,1],\"colorscale\":[[0.0,\"rgb(12,51,131)\"],[0.25,\"rgb(10,136,186)\"],[0.5,\"rgb(242,211,56)\"],[0.75,\"rgb(242,143,56)\"],[1.0,\"rgb(217,30,30)\"]],\"reversescale\":false},\"orientation\":\"v\",\"x\":[\"GROCERY I\",\"BEVERAGES\",\"CLEANING\",\"PRODUCE\",\"DAIRY\",\"PERSONAL CARE\",\"BREAD/BAKERY\",\"HOME CARE\",\"DELI\",\"MEATS\",\"HOME AND KITCHEN I\",\"LIQUOR,WINE,BEER\",\"FROZEN FOODS\",\"POULTRY\",\"HOME AND KITCHEN II\",\"EGGS\",\"CELEBRATION\",\"LAWN AND GARDEN\",\"PREPARED FOODS\",\"LADIESWEAR\",\"AUTOMOTIVE\",\"LINGERIE\",\"BEAUTY\",\"PLAYERS AND ELECTRONICS\",\"SCHOOL AND OFFICE SUPPLIES\",\"GROCERY II\",\"PET SUPPLIES\",\"SEAFOOD\",\"MAGAZINES\",\"HARDWARE\",\"HOME APPLIANCES\",\"BABY CARE\",\"BOOKS\"],\"y\":[1334,613,446,306,242,153,134,108,91,84,77,73,55,54,45,41,31,26,26,21,20,20,19,17,15,14,14,8,6,4,1,1,1],\"type\":\"bar\"}],                        {\"height\":800,\"template\":{\"data\":{\"barpolar\":[{\"marker\":{\"line\":{\"color\":\"#E5ECF6\",\"width\":0.5},\"pattern\":{\"fillmode\":\"overlay\",\"size\":10,\"solidity\":0.2}},\"type\":\"barpolar\"}],\"bar\":[{\"error_x\":{\"color\":\"#2a3f5f\"},\"error_y\":{\"color\":\"#2a3f5f\"},\"marker\":{\"line\":{\"color\":\"#E5ECF6\",\"width\":0.5},\"pattern\":{\"fillmode\":\"overlay\",\"size\":10,\"solidity\":0.2}},\"type\":\"bar\"}],\"carpet\":[{\"aaxis\":{\"endlinecolor\":\"#2a3f5f\",\"gridcolor\":\"white\",\"linecolor\":\"white\",\"minorgridcolor\":\"white\",\"startlinecolor\":\"#2a3f5f\"},\"baxis\":{\"endlinecolor\":\"#2a3f5f\",\"gridcolor\":\"white\",\"linecolor\":\"white\",\"minorgridcolor\":\"white\",\"startlinecolor\":\"#2a3f5f\"},\"type\":\"carpet\"}],\"choropleth\":[{\"colorbar\":{\"outlinewidth\":0,\"ticks\":\"\"},\"type\":\"choropleth\"}],\"contourcarpet\":[{\"colorbar\":{\"outlinewidth\":0,\"ticks\":\"\"},\"type\":\"contourcarpet\"}],\"contour\":[{\"colorbar\":{\"outlinewidth\":0,\"ticks\":\"\"},\"colorscale\":[[0.0,\"#0d0887\"],[0.1111111111111111,\"#46039f\"],[0.2222222222222222,\"#7201a8\"],[0.3333333333333333,\"#9c179e\"],[0.4444444444444444,\"#bd3786\"],[0.5555555555555556,\"#d8576b\"],[0.6666666666666666,\"#ed7953\"],[0.7777777777777778,\"#fb9f3a\"],[0.8888888888888888,\"#fdca26\"],[1.0,\"#f0f921\"]],\"type\":\"contour\"}],\"heatmapgl\":[{\"colorbar\":{\"outlinewidth\":0,\"ticks\":\"\"},\"colorscale\":[[0.0,\"#0d0887\"],[0.1111111111111111,\"#46039f\"],[0.2222222222222222,\"#7201a8\"],[0.3333333333333333,\"#9c179e\"],[0.4444444444444444,\"#bd3786\"],[0.5555555555555556,\"#d8576b\"],[0.6666666666666666,\"#ed7953\"],[0.7777777777777778,\"#fb9f3a\"],[0.8888888888888888,\"#fdca26\"],[1.0,\"#f0f921\"]],\"type\":\"heatmapgl\"}],\"heatmap\":[{\"colorbar\":{\"outlinewidth\":0,\"ticks\":\"\"},\"colorscale\":[[0.0,\"#0d0887\"],[0.1111111111111111,\"#46039f\"],[0.2222222222222222,\"#7201a8\"],[0.3333333333333333,\"#9c179e\"],[0.4444444444444444,\"#bd3786\"],[0.5555555555555556,\"#d8576b\"],[0.6666666666666666,\"#ed7953\"],[0.7777777777777778,\"#fb9f3a\"],[0.8888888888888888,\"#fdca26\"],[1.0,\"#f0f921\"]],\"type\":\"heatmap\"}],\"histogram2dcontour\":[{\"colorbar\":{\"outlinewidth\":0,\"ticks\":\"\"},\"colorscale\":[[0.0,\"#0d0887\"],[0.1111111111111111,\"#46039f\"],[0.2222222222222222,\"#7201a8\"],[0.3333333333333333,\"#9c179e\"],[0.4444444444444444,\"#bd3786\"],[0.5555555555555556,\"#d8576b\"],[0.6666666666666666,\"#ed7953\"],[0.7777777777777778,\"#fb9f3a\"],[0.8888888888888888,\"#fdca26\"],[1.0,\"#f0f921\"]],\"type\":\"histogram2dcontour\"}],\"histogram2d\":[{\"colorbar\":{\"outlinewidth\":0,\"ticks\":\"\"},\"colorscale\":[[0.0,\"#0d0887\"],[0.1111111111111111,\"#46039f\"],[0.2222222222222222,\"#7201a8\"],[0.3333333333333333,\"#9c179e\"],[0.4444444444444444,\"#bd3786\"],[0.5555555555555556,\"#d8576b\"],[0.6666666666666666,\"#ed7953\"],[0.7777777777777778,\"#fb9f3a\"],[0.8888888888888888,\"#fdca26\"],[1.0,\"#f0f921\"]],\"type\":\"histogram2d\"}],\"histogram\":[{\"marker\":{\"pattern\":{\"fillmode\":\"overlay\",\"size\":10,\"solidity\":0.2}},\"type\":\"histogram\"}],\"mesh3d\":[{\"colorbar\":{\"outlinewidth\":0,\"ticks\":\"\"},\"type\":\"mesh3d\"}],\"parcoords\":[{\"line\":{\"colorbar\":{\"outlinewidth\":0,\"ticks\":\"\"}},\"type\":\"parcoords\"}],\"pie\":[{\"automargin\":true,\"type\":\"pie\"}],\"scatter3d\":[{\"line\":{\"colorbar\":{\"outlinewidth\":0,\"ticks\":\"\"}},\"marker\":{\"colorbar\":{\"outlinewidth\":0,\"ticks\":\"\"}},\"type\":\"scatter3d\"}],\"scattercarpet\":[{\"marker\":{\"colorbar\":{\"outlinewidth\":0,\"ticks\":\"\"}},\"type\":\"scattercarpet\"}],\"scattergeo\":[{\"marker\":{\"colorbar\":{\"outlinewidth\":0,\"ticks\":\"\"}},\"type\":\"scattergeo\"}],\"scattergl\":[{\"marker\":{\"colorbar\":{\"outlinewidth\":0,\"ticks\":\"\"}},\"type\":\"scattergl\"}],\"scattermapbox\":[{\"marker\":{\"colorbar\":{\"outlinewidth\":0,\"ticks\":\"\"}},\"type\":\"scattermapbox\"}],\"scatterpolargl\":[{\"marker\":{\"colorbar\":{\"outlinewidth\":0,\"ticks\":\"\"}},\"type\":\"scatterpolargl\"}],\"scatterpolar\":[{\"marker\":{\"colorbar\":{\"outlinewidth\":0,\"ticks\":\"\"}},\"type\":\"scatterpolar\"}],\"scatter\":[{\"fillpattern\":{\"fillmode\":\"overlay\",\"size\":10,\"solidity\":0.2},\"type\":\"scatter\"}],\"scatterternary\":[{\"marker\":{\"colorbar\":{\"outlinewidth\":0,\"ticks\":\"\"}},\"type\":\"scatterternary\"}],\"surface\":[{\"colorbar\":{\"outlinewidth\":0,\"ticks\":\"\"},\"colorscale\":[[0.0,\"#0d0887\"],[0.1111111111111111,\"#46039f\"],[0.2222222222222222,\"#7201a8\"],[0.3333333333333333,\"#9c179e\"],[0.4444444444444444,\"#bd3786\"],[0.5555555555555556,\"#d8576b\"],[0.6666666666666666,\"#ed7953\"],[0.7777777777777778,\"#fb9f3a\"],[0.8888888888888888,\"#fdca26\"],[1.0,\"#f0f921\"]],\"type\":\"surface\"}],\"table\":[{\"cells\":{\"fill\":{\"color\":\"#EBF0F8\"},\"line\":{\"color\":\"white\"}},\"header\":{\"fill\":{\"color\":\"#C8D4E3\"},\"line\":{\"color\":\"white\"}},\"type\":\"table\"}]},\"layout\":{\"annotationdefaults\":{\"arrowcolor\":\"#2a3f5f\",\"arrowhead\":0,\"arrowwidth\":1},\"autotypenumbers\":\"strict\",\"coloraxis\":{\"colorbar\":{\"outlinewidth\":0,\"ticks\":\"\"}},\"colorscale\":{\"diverging\":[[0,\"#8e0152\"],[0.1,\"#c51b7d\"],[0.2,\"#de77ae\"],[0.3,\"#f1b6da\"],[0.4,\"#fde0ef\"],[0.5,\"#f7f7f7\"],[0.6,\"#e6f5d0\"],[0.7,\"#b8e186\"],[0.8,\"#7fbc41\"],[0.9,\"#4d9221\"],[1,\"#276419\"]],\"sequential\":[[0.0,\"#0d0887\"],[0.1111111111111111,\"#46039f\"],[0.2222222222222222,\"#7201a8\"],[0.3333333333333333,\"#9c179e\"],[0.4444444444444444,\"#bd3786\"],[0.5555555555555556,\"#d8576b\"],[0.6666666666666666,\"#ed7953\"],[0.7777777777777778,\"#fb9f3a\"],[0.8888888888888888,\"#fdca26\"],[1.0,\"#f0f921\"]],\"sequentialminus\":[[0.0,\"#0d0887\"],[0.1111111111111111,\"#46039f\"],[0.2222222222222222,\"#7201a8\"],[0.3333333333333333,\"#9c179e\"],[0.4444444444444444,\"#bd3786\"],[0.5555555555555556,\"#d8576b\"],[0.6666666666666666,\"#ed7953\"],[0.7777777777777778,\"#fb9f3a\"],[0.8888888888888888,\"#fdca26\"],[1.0,\"#f0f921\"]]},\"colorway\":[\"#636efa\",\"#EF553B\",\"#00cc96\",\"#ab63fa\",\"#FFA15A\",\"#19d3f3\",\"#FF6692\",\"#B6E880\",\"#FF97FF\",\"#FECB52\"],\"font\":{\"color\":\"#2a3f5f\"},\"geo\":{\"bgcolor\":\"white\",\"lakecolor\":\"white\",\"landcolor\":\"#E5ECF6\",\"showlakes\":true,\"showland\":true,\"subunitcolor\":\"white\"},\"hoverlabel\":{\"align\":\"left\"},\"hovermode\":\"closest\",\"mapbox\":{\"style\":\"light\"},\"paper_bgcolor\":\"white\",\"plot_bgcolor\":\"#E5ECF6\",\"polar\":{\"angularaxis\":{\"gridcolor\":\"white\",\"linecolor\":\"white\",\"ticks\":\"\"},\"bgcolor\":\"#E5ECF6\",\"radialaxis\":{\"gridcolor\":\"white\",\"linecolor\":\"white\",\"ticks\":\"\"}},\"scene\":{\"xaxis\":{\"backgroundcolor\":\"#E5ECF6\",\"gridcolor\":\"white\",\"gridwidth\":2,\"linecolor\":\"white\",\"showbackground\":true,\"ticks\":\"\",\"zerolinecolor\":\"white\"},\"yaxis\":{\"backgroundcolor\":\"#E5ECF6\",\"gridcolor\":\"white\",\"gridwidth\":2,\"linecolor\":\"white\",\"showbackground\":true,\"ticks\":\"\",\"zerolinecolor\":\"white\"},\"zaxis\":{\"backgroundcolor\":\"#E5ECF6\",\"gridcolor\":\"white\",\"gridwidth\":2,\"linecolor\":\"white\",\"showbackground\":true,\"ticks\":\"\",\"zerolinecolor\":\"white\"}},\"shapedefaults\":{\"line\":{\"color\":\"#2a3f5f\"}},\"ternary\":{\"aaxis\":{\"gridcolor\":\"white\",\"linecolor\":\"white\",\"ticks\":\"\"},\"baxis\":{\"gridcolor\":\"white\",\"linecolor\":\"white\",\"ticks\":\"\"},\"bgcolor\":\"#E5ECF6\",\"caxis\":{\"gridcolor\":\"white\",\"linecolor\":\"white\",\"ticks\":\"\"}},\"title\":{\"x\":0.05},\"xaxis\":{\"automargin\":true,\"gridcolor\":\"white\",\"linecolor\":\"white\",\"ticks\":\"\",\"title\":{\"standoff\":15},\"zerolinecolor\":\"white\",\"zerolinewidth\":2},\"yaxis\":{\"automargin\":true,\"gridcolor\":\"white\",\"linecolor\":\"white\",\"ticks\":\"\",\"title\":{\"standoff\":15},\"zerolinecolor\":\"white\",\"zerolinewidth\":2}}},\"title\":{\"text\":\"Counts of items per family category\"},\"width\":800,\"yaxis\":{\"showgrid\":false,\"showline\":false,\"showticklabels\":true}},                        {\"responsive\": true}                    ).then(function(){\n",
              "                            \n",
              "var gd = document.getElementById('4ee3b971-fac5-4d5a-8504-c61ee67fc313');\n",
              "var x = new MutationObserver(function (mutations, observer) {{\n",
              "        var display = window.getComputedStyle(gd).display;\n",
              "        if (!display || display === 'none') {{\n",
              "            console.log([gd, 'removed!']);\n",
              "            Plotly.purge(gd);\n",
              "            observer.disconnect();\n",
              "        }}\n",
              "}});\n",
              "\n",
              "// Listen for the removal of the full notebook cells\n",
              "var notebookContainer = gd.closest('#notebook-container');\n",
              "if (notebookContainer) {{\n",
              "    x.observe(notebookContainer, {childList: true});\n",
              "}}\n",
              "\n",
              "// Listen for the clearing of the current output cell\n",
              "var outputEl = gd.closest('.output');\n",
              "if (outputEl) {{\n",
              "    x.observe(outputEl, {childList: true});\n",
              "}}\n",
              "\n",
              "                        })                };                });            </script>        </div>"
            ]
          },
          "metadata": {},
          "output_type": "display_data"
        },
        {
          "data": {
            "text/plain": [
              "<Figure size 640x480 with 0 Axes>"
            ]
          },
          "metadata": {},
          "output_type": "display_data"
        }
      ],
      "source": [
        "\n",
        "#Counts of items per family category\n",
        "x, y = (list(x) for x in zip(*sorted(zip(items.family.value_counts().index, \n",
        "                                         items.family.value_counts().values), \n",
        "                                        reverse = False)))\n",
        "trace2 = go.Bar(\n",
        "    y=items.family.value_counts().values,\n",
        "    x=items.family.value_counts().index,\n",
        "    marker=dict(\n",
        "        color=items.family.value_counts().values,\n",
        "        colorscale = 'Portland',\n",
        "        reversescale = False\n",
        "    ),\n",
        "    orientation='v',\n",
        ")\n",
        "\n",
        "layout = dict(\n",
        "    title='Counts of items per family category',\n",
        "     width = 800, height = 800,\n",
        "    yaxis=dict(\n",
        "        showgrid=False,\n",
        "        showline=False,\n",
        "        showticklabels=True,\n",
        "#         domain=[0, 0.85],\n",
        "    ))\n",
        "\n",
        "fig1 = go.Figure(data=[trace2])\n",
        "fig1['layout'].update(layout)\n",
        "py.iplot(fig1, filename='plots')\n",
        "plt.savefig('Item1.png')"
      ]
    },
    {
      "cell_type": "code",
      "execution_count": 19,
      "metadata": {
        "id": "ANKpI9May3vO"
      },
      "outputs": [
        {
          "data": {
            "application/vnd.plotly.v1+json": {
              "config": {
                "linkText": "Export to plot.ly",
                "plotlyServerURL": "https://plot.ly",
                "showLink": false
              },
              "data": [
                {
                  "marker": {
                    "color": [
                      133,
                      110,
                      100,
                      98,
                      81,
                      70,
                      65,
                      62,
                      61,
                      60,
                      59,
                      54,
                      53,
                      51,
                      51,
                      48,
                      42,
                      41,
                      41,
                      40,
                      40,
                      39,
                      39,
                      37,
                      36,
                      36,
                      36,
                      35,
                      35,
                      34,
                      33,
                      32,
                      31,
                      31,
                      31,
                      30,
                      30,
                      30,
                      29,
                      29,
                      29,
                      28,
                      28,
                      27,
                      27,
                      27,
                      27,
                      26,
                      26,
                      26,
                      25,
                      24,
                      24,
                      23,
                      23,
                      23,
                      22,
                      22,
                      22,
                      22,
                      21,
                      21,
                      21,
                      20,
                      20,
                      20,
                      20,
                      19,
                      19,
                      19,
                      19,
                      19,
                      19,
                      19,
                      18,
                      18,
                      18,
                      18,
                      17,
                      17,
                      17,
                      17,
                      17,
                      17,
                      17,
                      17,
                      17,
                      16,
                      16,
                      16,
                      16,
                      16,
                      15,
                      15,
                      15,
                      14,
                      14,
                      14,
                      14,
                      13,
                      13,
                      12,
                      12,
                      12,
                      12,
                      11,
                      11,
                      11,
                      11,
                      11,
                      10,
                      10,
                      10,
                      10,
                      10,
                      10,
                      10,
                      10,
                      9,
                      9,
                      9,
                      9,
                      9,
                      9,
                      9,
                      9,
                      9,
                      9,
                      9,
                      9,
                      8,
                      8,
                      8,
                      8,
                      8,
                      8,
                      8,
                      8,
                      8,
                      7,
                      7,
                      7,
                      7,
                      7,
                      7,
                      7,
                      7,
                      7,
                      7,
                      6,
                      6,
                      6,
                      6,
                      6,
                      6,
                      6,
                      6,
                      5,
                      5,
                      5,
                      5,
                      5,
                      5,
                      5,
                      5,
                      5,
                      5,
                      5,
                      5,
                      5,
                      5,
                      5,
                      5,
                      5,
                      4,
                      4,
                      4,
                      4,
                      4,
                      4,
                      4,
                      4,
                      4,
                      4,
                      4,
                      4,
                      4,
                      4,
                      4,
                      4,
                      4,
                      4,
                      4,
                      4,
                      4,
                      4,
                      4,
                      4,
                      4,
                      4,
                      4,
                      4,
                      4,
                      3,
                      3,
                      3,
                      3,
                      3,
                      3,
                      3,
                      3,
                      3,
                      3,
                      3,
                      3,
                      3,
                      3,
                      3,
                      3,
                      2,
                      2,
                      2,
                      2,
                      2,
                      2,
                      2,
                      2,
                      2,
                      2,
                      2,
                      2,
                      2,
                      2,
                      2,
                      2,
                      2,
                      2,
                      2,
                      2,
                      2,
                      2,
                      2,
                      2,
                      2,
                      2,
                      2,
                      2,
                      2,
                      2,
                      2,
                      2,
                      2,
                      2,
                      2,
                      2,
                      2,
                      2,
                      2,
                      2,
                      2,
                      2,
                      2,
                      2,
                      2,
                      2,
                      2,
                      2,
                      2,
                      2,
                      1,
                      1,
                      1,
                      1,
                      1,
                      1,
                      1,
                      1,
                      1,
                      1,
                      1,
                      1,
                      1,
                      1,
                      1,
                      1,
                      1,
                      1,
                      1,
                      1,
                      1,
                      1,
                      1,
                      1,
                      1,
                      1,
                      1,
                      1,
                      1,
                      1,
                      1,
                      1,
                      1,
                      1,
                      1,
                      1,
                      1,
                      1,
                      1,
                      1,
                      1,
                      1,
                      1,
                      1,
                      1,
                      1,
                      1,
                      1,
                      1,
                      1,
                      1,
                      1,
                      1,
                      1,
                      1,
                      1,
                      1,
                      1,
                      1,
                      1,
                      1,
                      1,
                      1,
                      1,
                      1,
                      1,
                      1,
                      1
                    ],
                    "colorscale": [
                      [
                        0,
                        "rgb(12,51,131)"
                      ],
                      [
                        0.25,
                        "rgb(10,136,186)"
                      ],
                      [
                        0.5,
                        "rgb(242,211,56)"
                      ],
                      [
                        0.75,
                        "rgb(242,143,56)"
                      ],
                      [
                        1,
                        "rgb(217,30,30)"
                      ]
                    ],
                    "reversescale": true
                  },
                  "orientation": "v",
                  "type": "bar",
                  "x": [
                    1016,
                    1040,
                    1124,
                    1034,
                    1122,
                    1072,
                    1032,
                    1148,
                    1120,
                    3020,
                    2302,
                    1026,
                    3106,
                    1030,
                    1042,
                    1028,
                    1114,
                    2006,
                    3034,
                    1190,
                    4126,
                    1074,
                    1004,
                    1142,
                    2420,
                    1126,
                    2502,
                    1144,
                    3046,
                    2008,
                    2028,
                    1318,
                    3110,
                    2018,
                    1002,
                    1044,
                    1062,
                    2116,
                    3032,
                    4138,
                    3026,
                    4114,
                    3040,
                    2016,
                    3004,
                    1036,
                    1136,
                    1014,
                    1118,
                    3008,
                    2124,
                    2708,
                    1045,
                    1076,
                    3038,
                    2644,
                    2718,
                    5324,
                    1010,
                    1068,
                    7780,
                    2170,
                    1132,
                    1084,
                    3044,
                    1048,
                    2174,
                    2636,
                    1060,
                    6269,
                    2032,
                    1092,
                    4118,
                    3016,
                    2172,
                    2166,
                    1116,
                    1096,
                    3014,
                    3024,
                    2026,
                    2712,
                    1086,
                    2416,
                    1088,
                    3018,
                    5446,
                    3108,
                    2004,
                    2632,
                    1058,
                    2162,
                    1094,
                    2012,
                    6242,
                    2702,
                    2014,
                    1236,
                    2020,
                    2306,
                    4176,
                    1006,
                    2756,
                    1008,
                    1078,
                    2226,
                    2228,
                    2112,
                    3022,
                    1052,
                    3028,
                    2128,
                    1080,
                    2630,
                    2130,
                    7034,
                    1012,
                    3030,
                    2304,
                    1138,
                    2714,
                    1022,
                    2716,
                    6516,
                    1056,
                    2030,
                    2142,
                    2752,
                    2102,
                    2002,
                    1330,
                    1039,
                    6257,
                    6330,
                    2022,
                    2108,
                    1050,
                    2010,
                    6920,
                    1082,
                    2218,
                    2164,
                    1063,
                    3090,
                    2986,
                    6350,
                    1146,
                    2034,
                    6392,
                    2220,
                    2210,
                    2152,
                    2104,
                    1035,
                    7002,
                    4122,
                    6810,
                    6922,
                    6517,
                    6848,
                    6344,
                    5322,
                    4104,
                    2178,
                    4130,
                    6482,
                    6258,
                    1093,
                    1066,
                    2966,
                    6806,
                    4254,
                    4252,
                    2114,
                    1070,
                    2662,
                    1386,
                    7016,
                    6706,
                    1152,
                    2786,
                    6329,
                    2650,
                    1024,
                    3060,
                    6212,
                    6352,
                    2222,
                    6246,
                    1038,
                    6936,
                    1003,
                    3010,
                    6918,
                    2722,
                    3015,
                    2168,
                    2652,
                    1310,
                    3104,
                    4162,
                    2246,
                    6448,
                    6328,
                    3012,
                    2704,
                    3102,
                    5308,
                    6222,
                    6206,
                    6414,
                    2208,
                    1087,
                    2506,
                    1077,
                    1338,
                    2962,
                    2750,
                    1033,
                    4214,
                    2664,
                    2956,
                    2802,
                    1314,
                    1067,
                    1115,
                    4222,
                    2850,
                    1054,
                    2960,
                    2690,
                    2980,
                    3006,
                    2074,
                    6808,
                    2720,
                    5222,
                    1027,
                    6253,
                    5224,
                    2504,
                    1064,
                    2646,
                    1302,
                    6960,
                    1075,
                    1025,
                    2654,
                    1320,
                    1334,
                    1326,
                    2904,
                    1073,
                    1312,
                    1154,
                    6338,
                    1364,
                    1013,
                    2156,
                    2372,
                    6353,
                    2642,
                    1387,
                    6954,
                    6266,
                    6262,
                    2854,
                    6824,
                    6232,
                    2806,
                    1306,
                    4228,
                    1018,
                    1156,
                    2906,
                    6155,
                    1370,
                    1041,
                    1316,
                    2412,
                    6924,
                    6248,
                    1089,
                    4198,
                    5192,
                    1150,
                    1083,
                    3116,
                    5244,
                    4255,
                    5250,
                    6233,
                    6241,
                    4212,
                    1336,
                    2024,
                    3029,
                    1005,
                    6267,
                    2238,
                    2103,
                    2782,
                    4250,
                    2864,
                    2214,
                    3035,
                    4210,
                    2784,
                    4141,
                    4140,
                    2070,
                    2122,
                    2242,
                    1029,
                    1380,
                    6238,
                    6223,
                    6260,
                    6322,
                    6393,
                    6230,
                    6426,
                    5325,
                    2954,
                    6412,
                    6404,
                    2640,
                    6022,
                    1079,
                    3005,
                    2970,
                    1153,
                    2340,
                    4139,
                    1046,
                    6301,
                    1328
                  ],
                  "y": [
                    133,
                    110,
                    100,
                    98,
                    81,
                    70,
                    65,
                    62,
                    61,
                    60,
                    59,
                    54,
                    53,
                    51,
                    51,
                    48,
                    42,
                    41,
                    41,
                    40,
                    40,
                    39,
                    39,
                    37,
                    36,
                    36,
                    36,
                    35,
                    35,
                    34,
                    33,
                    32,
                    31,
                    31,
                    31,
                    30,
                    30,
                    30,
                    29,
                    29,
                    29,
                    28,
                    28,
                    27,
                    27,
                    27,
                    27,
                    26,
                    26,
                    26,
                    25,
                    24,
                    24,
                    23,
                    23,
                    23,
                    22,
                    22,
                    22,
                    22,
                    21,
                    21,
                    21,
                    20,
                    20,
                    20,
                    20,
                    19,
                    19,
                    19,
                    19,
                    19,
                    19,
                    19,
                    18,
                    18,
                    18,
                    18,
                    17,
                    17,
                    17,
                    17,
                    17,
                    17,
                    17,
                    17,
                    17,
                    16,
                    16,
                    16,
                    16,
                    16,
                    15,
                    15,
                    15,
                    14,
                    14,
                    14,
                    14,
                    13,
                    13,
                    12,
                    12,
                    12,
                    12,
                    11,
                    11,
                    11,
                    11,
                    11,
                    10,
                    10,
                    10,
                    10,
                    10,
                    10,
                    10,
                    10,
                    9,
                    9,
                    9,
                    9,
                    9,
                    9,
                    9,
                    9,
                    9,
                    9,
                    9,
                    9,
                    8,
                    8,
                    8,
                    8,
                    8,
                    8,
                    8,
                    8,
                    8,
                    7,
                    7,
                    7,
                    7,
                    7,
                    7,
                    7,
                    7,
                    7,
                    7,
                    6,
                    6,
                    6,
                    6,
                    6,
                    6,
                    6,
                    6,
                    5,
                    5,
                    5,
                    5,
                    5,
                    5,
                    5,
                    5,
                    5,
                    5,
                    5,
                    5,
                    5,
                    5,
                    5,
                    5,
                    5,
                    4,
                    4,
                    4,
                    4,
                    4,
                    4,
                    4,
                    4,
                    4,
                    4,
                    4,
                    4,
                    4,
                    4,
                    4,
                    4,
                    4,
                    4,
                    4,
                    4,
                    4,
                    4,
                    4,
                    4,
                    4,
                    4,
                    4,
                    4,
                    4,
                    3,
                    3,
                    3,
                    3,
                    3,
                    3,
                    3,
                    3,
                    3,
                    3,
                    3,
                    3,
                    3,
                    3,
                    3,
                    3,
                    2,
                    2,
                    2,
                    2,
                    2,
                    2,
                    2,
                    2,
                    2,
                    2,
                    2,
                    2,
                    2,
                    2,
                    2,
                    2,
                    2,
                    2,
                    2,
                    2,
                    2,
                    2,
                    2,
                    2,
                    2,
                    2,
                    2,
                    2,
                    2,
                    2,
                    2,
                    2,
                    2,
                    2,
                    2,
                    2,
                    2,
                    2,
                    2,
                    2,
                    2,
                    2,
                    2,
                    2,
                    2,
                    2,
                    2,
                    2,
                    2,
                    2,
                    1,
                    1,
                    1,
                    1,
                    1,
                    1,
                    1,
                    1,
                    1,
                    1,
                    1,
                    1,
                    1,
                    1,
                    1,
                    1,
                    1,
                    1,
                    1,
                    1,
                    1,
                    1,
                    1,
                    1,
                    1,
                    1,
                    1,
                    1,
                    1,
                    1,
                    1,
                    1,
                    1,
                    1,
                    1,
                    1,
                    1,
                    1,
                    1,
                    1,
                    1,
                    1,
                    1,
                    1,
                    1,
                    1,
                    1,
                    1,
                    1,
                    1,
                    1,
                    1,
                    1,
                    1,
                    1,
                    1,
                    1,
                    1,
                    1,
                    1,
                    1,
                    1,
                    1,
                    1,
                    1,
                    1,
                    1,
                    1
                  ]
                }
              ],
              "layout": {
                "height": 1400,
                "template": {
                  "data": {
                    "bar": [
                      {
                        "error_x": {
                          "color": "#2a3f5f"
                        },
                        "error_y": {
                          "color": "#2a3f5f"
                        },
                        "marker": {
                          "line": {
                            "color": "#E5ECF6",
                            "width": 0.5
                          },
                          "pattern": {
                            "fillmode": "overlay",
                            "size": 10,
                            "solidity": 0.2
                          }
                        },
                        "type": "bar"
                      }
                    ],
                    "barpolar": [
                      {
                        "marker": {
                          "line": {
                            "color": "#E5ECF6",
                            "width": 0.5
                          },
                          "pattern": {
                            "fillmode": "overlay",
                            "size": 10,
                            "solidity": 0.2
                          }
                        },
                        "type": "barpolar"
                      }
                    ],
                    "carpet": [
                      {
                        "aaxis": {
                          "endlinecolor": "#2a3f5f",
                          "gridcolor": "white",
                          "linecolor": "white",
                          "minorgridcolor": "white",
                          "startlinecolor": "#2a3f5f"
                        },
                        "baxis": {
                          "endlinecolor": "#2a3f5f",
                          "gridcolor": "white",
                          "linecolor": "white",
                          "minorgridcolor": "white",
                          "startlinecolor": "#2a3f5f"
                        },
                        "type": "carpet"
                      }
                    ],
                    "choropleth": [
                      {
                        "colorbar": {
                          "outlinewidth": 0,
                          "ticks": ""
                        },
                        "type": "choropleth"
                      }
                    ],
                    "contour": [
                      {
                        "colorbar": {
                          "outlinewidth": 0,
                          "ticks": ""
                        },
                        "colorscale": [
                          [
                            0,
                            "#0d0887"
                          ],
                          [
                            0.1111111111111111,
                            "#46039f"
                          ],
                          [
                            0.2222222222222222,
                            "#7201a8"
                          ],
                          [
                            0.3333333333333333,
                            "#9c179e"
                          ],
                          [
                            0.4444444444444444,
                            "#bd3786"
                          ],
                          [
                            0.5555555555555556,
                            "#d8576b"
                          ],
                          [
                            0.6666666666666666,
                            "#ed7953"
                          ],
                          [
                            0.7777777777777778,
                            "#fb9f3a"
                          ],
                          [
                            0.8888888888888888,
                            "#fdca26"
                          ],
                          [
                            1,
                            "#f0f921"
                          ]
                        ],
                        "type": "contour"
                      }
                    ],
                    "contourcarpet": [
                      {
                        "colorbar": {
                          "outlinewidth": 0,
                          "ticks": ""
                        },
                        "type": "contourcarpet"
                      }
                    ],
                    "heatmap": [
                      {
                        "colorbar": {
                          "outlinewidth": 0,
                          "ticks": ""
                        },
                        "colorscale": [
                          [
                            0,
                            "#0d0887"
                          ],
                          [
                            0.1111111111111111,
                            "#46039f"
                          ],
                          [
                            0.2222222222222222,
                            "#7201a8"
                          ],
                          [
                            0.3333333333333333,
                            "#9c179e"
                          ],
                          [
                            0.4444444444444444,
                            "#bd3786"
                          ],
                          [
                            0.5555555555555556,
                            "#d8576b"
                          ],
                          [
                            0.6666666666666666,
                            "#ed7953"
                          ],
                          [
                            0.7777777777777778,
                            "#fb9f3a"
                          ],
                          [
                            0.8888888888888888,
                            "#fdca26"
                          ],
                          [
                            1,
                            "#f0f921"
                          ]
                        ],
                        "type": "heatmap"
                      }
                    ],
                    "heatmapgl": [
                      {
                        "colorbar": {
                          "outlinewidth": 0,
                          "ticks": ""
                        },
                        "colorscale": [
                          [
                            0,
                            "#0d0887"
                          ],
                          [
                            0.1111111111111111,
                            "#46039f"
                          ],
                          [
                            0.2222222222222222,
                            "#7201a8"
                          ],
                          [
                            0.3333333333333333,
                            "#9c179e"
                          ],
                          [
                            0.4444444444444444,
                            "#bd3786"
                          ],
                          [
                            0.5555555555555556,
                            "#d8576b"
                          ],
                          [
                            0.6666666666666666,
                            "#ed7953"
                          ],
                          [
                            0.7777777777777778,
                            "#fb9f3a"
                          ],
                          [
                            0.8888888888888888,
                            "#fdca26"
                          ],
                          [
                            1,
                            "#f0f921"
                          ]
                        ],
                        "type": "heatmapgl"
                      }
                    ],
                    "histogram": [
                      {
                        "marker": {
                          "pattern": {
                            "fillmode": "overlay",
                            "size": 10,
                            "solidity": 0.2
                          }
                        },
                        "type": "histogram"
                      }
                    ],
                    "histogram2d": [
                      {
                        "colorbar": {
                          "outlinewidth": 0,
                          "ticks": ""
                        },
                        "colorscale": [
                          [
                            0,
                            "#0d0887"
                          ],
                          [
                            0.1111111111111111,
                            "#46039f"
                          ],
                          [
                            0.2222222222222222,
                            "#7201a8"
                          ],
                          [
                            0.3333333333333333,
                            "#9c179e"
                          ],
                          [
                            0.4444444444444444,
                            "#bd3786"
                          ],
                          [
                            0.5555555555555556,
                            "#d8576b"
                          ],
                          [
                            0.6666666666666666,
                            "#ed7953"
                          ],
                          [
                            0.7777777777777778,
                            "#fb9f3a"
                          ],
                          [
                            0.8888888888888888,
                            "#fdca26"
                          ],
                          [
                            1,
                            "#f0f921"
                          ]
                        ],
                        "type": "histogram2d"
                      }
                    ],
                    "histogram2dcontour": [
                      {
                        "colorbar": {
                          "outlinewidth": 0,
                          "ticks": ""
                        },
                        "colorscale": [
                          [
                            0,
                            "#0d0887"
                          ],
                          [
                            0.1111111111111111,
                            "#46039f"
                          ],
                          [
                            0.2222222222222222,
                            "#7201a8"
                          ],
                          [
                            0.3333333333333333,
                            "#9c179e"
                          ],
                          [
                            0.4444444444444444,
                            "#bd3786"
                          ],
                          [
                            0.5555555555555556,
                            "#d8576b"
                          ],
                          [
                            0.6666666666666666,
                            "#ed7953"
                          ],
                          [
                            0.7777777777777778,
                            "#fb9f3a"
                          ],
                          [
                            0.8888888888888888,
                            "#fdca26"
                          ],
                          [
                            1,
                            "#f0f921"
                          ]
                        ],
                        "type": "histogram2dcontour"
                      }
                    ],
                    "mesh3d": [
                      {
                        "colorbar": {
                          "outlinewidth": 0,
                          "ticks": ""
                        },
                        "type": "mesh3d"
                      }
                    ],
                    "parcoords": [
                      {
                        "line": {
                          "colorbar": {
                            "outlinewidth": 0,
                            "ticks": ""
                          }
                        },
                        "type": "parcoords"
                      }
                    ],
                    "pie": [
                      {
                        "automargin": true,
                        "type": "pie"
                      }
                    ],
                    "scatter": [
                      {
                        "fillpattern": {
                          "fillmode": "overlay",
                          "size": 10,
                          "solidity": 0.2
                        },
                        "type": "scatter"
                      }
                    ],
                    "scatter3d": [
                      {
                        "line": {
                          "colorbar": {
                            "outlinewidth": 0,
                            "ticks": ""
                          }
                        },
                        "marker": {
                          "colorbar": {
                            "outlinewidth": 0,
                            "ticks": ""
                          }
                        },
                        "type": "scatter3d"
                      }
                    ],
                    "scattercarpet": [
                      {
                        "marker": {
                          "colorbar": {
                            "outlinewidth": 0,
                            "ticks": ""
                          }
                        },
                        "type": "scattercarpet"
                      }
                    ],
                    "scattergeo": [
                      {
                        "marker": {
                          "colorbar": {
                            "outlinewidth": 0,
                            "ticks": ""
                          }
                        },
                        "type": "scattergeo"
                      }
                    ],
                    "scattergl": [
                      {
                        "marker": {
                          "colorbar": {
                            "outlinewidth": 0,
                            "ticks": ""
                          }
                        },
                        "type": "scattergl"
                      }
                    ],
                    "scattermapbox": [
                      {
                        "marker": {
                          "colorbar": {
                            "outlinewidth": 0,
                            "ticks": ""
                          }
                        },
                        "type": "scattermapbox"
                      }
                    ],
                    "scatterpolar": [
                      {
                        "marker": {
                          "colorbar": {
                            "outlinewidth": 0,
                            "ticks": ""
                          }
                        },
                        "type": "scatterpolar"
                      }
                    ],
                    "scatterpolargl": [
                      {
                        "marker": {
                          "colorbar": {
                            "outlinewidth": 0,
                            "ticks": ""
                          }
                        },
                        "type": "scatterpolargl"
                      }
                    ],
                    "scatterternary": [
                      {
                        "marker": {
                          "colorbar": {
                            "outlinewidth": 0,
                            "ticks": ""
                          }
                        },
                        "type": "scatterternary"
                      }
                    ],
                    "surface": [
                      {
                        "colorbar": {
                          "outlinewidth": 0,
                          "ticks": ""
                        },
                        "colorscale": [
                          [
                            0,
                            "#0d0887"
                          ],
                          [
                            0.1111111111111111,
                            "#46039f"
                          ],
                          [
                            0.2222222222222222,
                            "#7201a8"
                          ],
                          [
                            0.3333333333333333,
                            "#9c179e"
                          ],
                          [
                            0.4444444444444444,
                            "#bd3786"
                          ],
                          [
                            0.5555555555555556,
                            "#d8576b"
                          ],
                          [
                            0.6666666666666666,
                            "#ed7953"
                          ],
                          [
                            0.7777777777777778,
                            "#fb9f3a"
                          ],
                          [
                            0.8888888888888888,
                            "#fdca26"
                          ],
                          [
                            1,
                            "#f0f921"
                          ]
                        ],
                        "type": "surface"
                      }
                    ],
                    "table": [
                      {
                        "cells": {
                          "fill": {
                            "color": "#EBF0F8"
                          },
                          "line": {
                            "color": "white"
                          }
                        },
                        "header": {
                          "fill": {
                            "color": "#C8D4E3"
                          },
                          "line": {
                            "color": "white"
                          }
                        },
                        "type": "table"
                      }
                    ]
                  },
                  "layout": {
                    "annotationdefaults": {
                      "arrowcolor": "#2a3f5f",
                      "arrowhead": 0,
                      "arrowwidth": 1
                    },
                    "autotypenumbers": "strict",
                    "coloraxis": {
                      "colorbar": {
                        "outlinewidth": 0,
                        "ticks": ""
                      }
                    },
                    "colorscale": {
                      "diverging": [
                        [
                          0,
                          "#8e0152"
                        ],
                        [
                          0.1,
                          "#c51b7d"
                        ],
                        [
                          0.2,
                          "#de77ae"
                        ],
                        [
                          0.3,
                          "#f1b6da"
                        ],
                        [
                          0.4,
                          "#fde0ef"
                        ],
                        [
                          0.5,
                          "#f7f7f7"
                        ],
                        [
                          0.6,
                          "#e6f5d0"
                        ],
                        [
                          0.7,
                          "#b8e186"
                        ],
                        [
                          0.8,
                          "#7fbc41"
                        ],
                        [
                          0.9,
                          "#4d9221"
                        ],
                        [
                          1,
                          "#276419"
                        ]
                      ],
                      "sequential": [
                        [
                          0,
                          "#0d0887"
                        ],
                        [
                          0.1111111111111111,
                          "#46039f"
                        ],
                        [
                          0.2222222222222222,
                          "#7201a8"
                        ],
                        [
                          0.3333333333333333,
                          "#9c179e"
                        ],
                        [
                          0.4444444444444444,
                          "#bd3786"
                        ],
                        [
                          0.5555555555555556,
                          "#d8576b"
                        ],
                        [
                          0.6666666666666666,
                          "#ed7953"
                        ],
                        [
                          0.7777777777777778,
                          "#fb9f3a"
                        ],
                        [
                          0.8888888888888888,
                          "#fdca26"
                        ],
                        [
                          1,
                          "#f0f921"
                        ]
                      ],
                      "sequentialminus": [
                        [
                          0,
                          "#0d0887"
                        ],
                        [
                          0.1111111111111111,
                          "#46039f"
                        ],
                        [
                          0.2222222222222222,
                          "#7201a8"
                        ],
                        [
                          0.3333333333333333,
                          "#9c179e"
                        ],
                        [
                          0.4444444444444444,
                          "#bd3786"
                        ],
                        [
                          0.5555555555555556,
                          "#d8576b"
                        ],
                        [
                          0.6666666666666666,
                          "#ed7953"
                        ],
                        [
                          0.7777777777777778,
                          "#fb9f3a"
                        ],
                        [
                          0.8888888888888888,
                          "#fdca26"
                        ],
                        [
                          1,
                          "#f0f921"
                        ]
                      ]
                    },
                    "colorway": [
                      "#636efa",
                      "#EF553B",
                      "#00cc96",
                      "#ab63fa",
                      "#FFA15A",
                      "#19d3f3",
                      "#FF6692",
                      "#B6E880",
                      "#FF97FF",
                      "#FECB52"
                    ],
                    "font": {
                      "color": "#2a3f5f"
                    },
                    "geo": {
                      "bgcolor": "white",
                      "lakecolor": "white",
                      "landcolor": "#E5ECF6",
                      "showlakes": true,
                      "showland": true,
                      "subunitcolor": "white"
                    },
                    "hoverlabel": {
                      "align": "left"
                    },
                    "hovermode": "closest",
                    "mapbox": {
                      "style": "light"
                    },
                    "paper_bgcolor": "white",
                    "plot_bgcolor": "#E5ECF6",
                    "polar": {
                      "angularaxis": {
                        "gridcolor": "white",
                        "linecolor": "white",
                        "ticks": ""
                      },
                      "bgcolor": "#E5ECF6",
                      "radialaxis": {
                        "gridcolor": "white",
                        "linecolor": "white",
                        "ticks": ""
                      }
                    },
                    "scene": {
                      "xaxis": {
                        "backgroundcolor": "#E5ECF6",
                        "gridcolor": "white",
                        "gridwidth": 2,
                        "linecolor": "white",
                        "showbackground": true,
                        "ticks": "",
                        "zerolinecolor": "white"
                      },
                      "yaxis": {
                        "backgroundcolor": "#E5ECF6",
                        "gridcolor": "white",
                        "gridwidth": 2,
                        "linecolor": "white",
                        "showbackground": true,
                        "ticks": "",
                        "zerolinecolor": "white"
                      },
                      "zaxis": {
                        "backgroundcolor": "#E5ECF6",
                        "gridcolor": "white",
                        "gridwidth": 2,
                        "linecolor": "white",
                        "showbackground": true,
                        "ticks": "",
                        "zerolinecolor": "white"
                      }
                    },
                    "shapedefaults": {
                      "line": {
                        "color": "#2a3f5f"
                      }
                    },
                    "ternary": {
                      "aaxis": {
                        "gridcolor": "white",
                        "linecolor": "white",
                        "ticks": ""
                      },
                      "baxis": {
                        "gridcolor": "white",
                        "linecolor": "white",
                        "ticks": ""
                      },
                      "bgcolor": "#E5ECF6",
                      "caxis": {
                        "gridcolor": "white",
                        "linecolor": "white",
                        "ticks": ""
                      }
                    },
                    "title": {
                      "x": 0.05
                    },
                    "xaxis": {
                      "automargin": true,
                      "gridcolor": "white",
                      "linecolor": "white",
                      "ticks": "",
                      "title": {
                        "standoff": 15
                      },
                      "zerolinecolor": "white",
                      "zerolinewidth": 2
                    },
                    "yaxis": {
                      "automargin": true,
                      "gridcolor": "white",
                      "linecolor": "white",
                      "ticks": "",
                      "title": {
                        "standoff": 15
                      },
                      "zerolinecolor": "white",
                      "zerolinewidth": 2
                    }
                  }
                },
                "title": {
                  "text": "Number of items attributed to a particular item class"
                },
                "width": 800,
                "yaxis": {
                  "showgrid": false,
                  "showline": false,
                  "showticklabels": true
                }
              }
            },
            "text/html": [
              "<div>                            <div id=\"5dc731bf-a6e0-41ee-97a4-b7acaeecfe14\" class=\"plotly-graph-div\" style=\"height:1400px; width:800px;\"></div>            <script type=\"text/javascript\">                require([\"plotly\"], function(Plotly) {                    window.PLOTLYENV=window.PLOTLYENV || {};                                    if (document.getElementById(\"5dc731bf-a6e0-41ee-97a4-b7acaeecfe14\")) {                    Plotly.newPlot(                        \"5dc731bf-a6e0-41ee-97a4-b7acaeecfe14\",                        [{\"marker\":{\"color\":[133,110,100,98,81,70,65,62,61,60,59,54,53,51,51,48,42,41,41,40,40,39,39,37,36,36,36,35,35,34,33,32,31,31,31,30,30,30,29,29,29,28,28,27,27,27,27,26,26,26,25,24,24,23,23,23,22,22,22,22,21,21,21,20,20,20,20,19,19,19,19,19,19,19,18,18,18,18,17,17,17,17,17,17,17,17,17,16,16,16,16,16,15,15,15,14,14,14,14,13,13,12,12,12,12,11,11,11,11,11,10,10,10,10,10,10,10,10,9,9,9,9,9,9,9,9,9,9,9,9,8,8,8,8,8,8,8,8,8,7,7,7,7,7,7,7,7,7,7,6,6,6,6,6,6,6,6,5,5,5,5,5,5,5,5,5,5,5,5,5,5,5,5,5,4,4,4,4,4,4,4,4,4,4,4,4,4,4,4,4,4,4,4,4,4,4,4,4,4,4,4,4,4,3,3,3,3,3,3,3,3,3,3,3,3,3,3,3,3,2,2,2,2,2,2,2,2,2,2,2,2,2,2,2,2,2,2,2,2,2,2,2,2,2,2,2,2,2,2,2,2,2,2,2,2,2,2,2,2,2,2,2,2,2,2,2,2,2,2,1,1,1,1,1,1,1,1,1,1,1,1,1,1,1,1,1,1,1,1,1,1,1,1,1,1,1,1,1,1,1,1,1,1,1,1,1,1,1,1,1,1,1,1,1,1,1,1,1,1,1,1,1,1,1,1,1,1,1,1,1,1,1,1,1,1,1,1],\"colorscale\":[[0.0,\"rgb(12,51,131)\"],[0.25,\"rgb(10,136,186)\"],[0.5,\"rgb(242,211,56)\"],[0.75,\"rgb(242,143,56)\"],[1.0,\"rgb(217,30,30)\"]],\"reversescale\":true},\"orientation\":\"v\",\"x\":[1016,1040,1124,1034,1122,1072,1032,1148,1120,3020,2302,1026,3106,1030,1042,1028,1114,2006,3034,1190,4126,1074,1004,1142,2420,1126,2502,1144,3046,2008,2028,1318,3110,2018,1002,1044,1062,2116,3032,4138,3026,4114,3040,2016,3004,1036,1136,1014,1118,3008,2124,2708,1045,1076,3038,2644,2718,5324,1010,1068,7780,2170,1132,1084,3044,1048,2174,2636,1060,6269,2032,1092,4118,3016,2172,2166,1116,1096,3014,3024,2026,2712,1086,2416,1088,3018,5446,3108,2004,2632,1058,2162,1094,2012,6242,2702,2014,1236,2020,2306,4176,1006,2756,1008,1078,2226,2228,2112,3022,1052,3028,2128,1080,2630,2130,7034,1012,3030,2304,1138,2714,1022,2716,6516,1056,2030,2142,2752,2102,2002,1330,1039,6257,6330,2022,2108,1050,2010,6920,1082,2218,2164,1063,3090,2986,6350,1146,2034,6392,2220,2210,2152,2104,1035,7002,4122,6810,6922,6517,6848,6344,5322,4104,2178,4130,6482,6258,1093,1066,2966,6806,4254,4252,2114,1070,2662,1386,7016,6706,1152,2786,6329,2650,1024,3060,6212,6352,2222,6246,1038,6936,1003,3010,6918,2722,3015,2168,2652,1310,3104,4162,2246,6448,6328,3012,2704,3102,5308,6222,6206,6414,2208,1087,2506,1077,1338,2962,2750,1033,4214,2664,2956,2802,1314,1067,1115,4222,2850,1054,2960,2690,2980,3006,2074,6808,2720,5222,1027,6253,5224,2504,1064,2646,1302,6960,1075,1025,2654,1320,1334,1326,2904,1073,1312,1154,6338,1364,1013,2156,2372,6353,2642,1387,6954,6266,6262,2854,6824,6232,2806,1306,4228,1018,1156,2906,6155,1370,1041,1316,2412,6924,6248,1089,4198,5192,1150,1083,3116,5244,4255,5250,6233,6241,4212,1336,2024,3029,1005,6267,2238,2103,2782,4250,2864,2214,3035,4210,2784,4141,4140,2070,2122,2242,1029,1380,6238,6223,6260,6322,6393,6230,6426,5325,2954,6412,6404,2640,6022,1079,3005,2970,1153,2340,4139,1046,6301,1328],\"y\":[133,110,100,98,81,70,65,62,61,60,59,54,53,51,51,48,42,41,41,40,40,39,39,37,36,36,36,35,35,34,33,32,31,31,31,30,30,30,29,29,29,28,28,27,27,27,27,26,26,26,25,24,24,23,23,23,22,22,22,22,21,21,21,20,20,20,20,19,19,19,19,19,19,19,18,18,18,18,17,17,17,17,17,17,17,17,17,16,16,16,16,16,15,15,15,14,14,14,14,13,13,12,12,12,12,11,11,11,11,11,10,10,10,10,10,10,10,10,9,9,9,9,9,9,9,9,9,9,9,9,8,8,8,8,8,8,8,8,8,7,7,7,7,7,7,7,7,7,7,6,6,6,6,6,6,6,6,5,5,5,5,5,5,5,5,5,5,5,5,5,5,5,5,5,4,4,4,4,4,4,4,4,4,4,4,4,4,4,4,4,4,4,4,4,4,4,4,4,4,4,4,4,4,3,3,3,3,3,3,3,3,3,3,3,3,3,3,3,3,2,2,2,2,2,2,2,2,2,2,2,2,2,2,2,2,2,2,2,2,2,2,2,2,2,2,2,2,2,2,2,2,2,2,2,2,2,2,2,2,2,2,2,2,2,2,2,2,2,2,1,1,1,1,1,1,1,1,1,1,1,1,1,1,1,1,1,1,1,1,1,1,1,1,1,1,1,1,1,1,1,1,1,1,1,1,1,1,1,1,1,1,1,1,1,1,1,1,1,1,1,1,1,1,1,1,1,1,1,1,1,1,1,1,1,1,1,1],\"type\":\"bar\"}],                        {\"height\":1400,\"template\":{\"data\":{\"barpolar\":[{\"marker\":{\"line\":{\"color\":\"#E5ECF6\",\"width\":0.5},\"pattern\":{\"fillmode\":\"overlay\",\"size\":10,\"solidity\":0.2}},\"type\":\"barpolar\"}],\"bar\":[{\"error_x\":{\"color\":\"#2a3f5f\"},\"error_y\":{\"color\":\"#2a3f5f\"},\"marker\":{\"line\":{\"color\":\"#E5ECF6\",\"width\":0.5},\"pattern\":{\"fillmode\":\"overlay\",\"size\":10,\"solidity\":0.2}},\"type\":\"bar\"}],\"carpet\":[{\"aaxis\":{\"endlinecolor\":\"#2a3f5f\",\"gridcolor\":\"white\",\"linecolor\":\"white\",\"minorgridcolor\":\"white\",\"startlinecolor\":\"#2a3f5f\"},\"baxis\":{\"endlinecolor\":\"#2a3f5f\",\"gridcolor\":\"white\",\"linecolor\":\"white\",\"minorgridcolor\":\"white\",\"startlinecolor\":\"#2a3f5f\"},\"type\":\"carpet\"}],\"choropleth\":[{\"colorbar\":{\"outlinewidth\":0,\"ticks\":\"\"},\"type\":\"choropleth\"}],\"contourcarpet\":[{\"colorbar\":{\"outlinewidth\":0,\"ticks\":\"\"},\"type\":\"contourcarpet\"}],\"contour\":[{\"colorbar\":{\"outlinewidth\":0,\"ticks\":\"\"},\"colorscale\":[[0.0,\"#0d0887\"],[0.1111111111111111,\"#46039f\"],[0.2222222222222222,\"#7201a8\"],[0.3333333333333333,\"#9c179e\"],[0.4444444444444444,\"#bd3786\"],[0.5555555555555556,\"#d8576b\"],[0.6666666666666666,\"#ed7953\"],[0.7777777777777778,\"#fb9f3a\"],[0.8888888888888888,\"#fdca26\"],[1.0,\"#f0f921\"]],\"type\":\"contour\"}],\"heatmapgl\":[{\"colorbar\":{\"outlinewidth\":0,\"ticks\":\"\"},\"colorscale\":[[0.0,\"#0d0887\"],[0.1111111111111111,\"#46039f\"],[0.2222222222222222,\"#7201a8\"],[0.3333333333333333,\"#9c179e\"],[0.4444444444444444,\"#bd3786\"],[0.5555555555555556,\"#d8576b\"],[0.6666666666666666,\"#ed7953\"],[0.7777777777777778,\"#fb9f3a\"],[0.8888888888888888,\"#fdca26\"],[1.0,\"#f0f921\"]],\"type\":\"heatmapgl\"}],\"heatmap\":[{\"colorbar\":{\"outlinewidth\":0,\"ticks\":\"\"},\"colorscale\":[[0.0,\"#0d0887\"],[0.1111111111111111,\"#46039f\"],[0.2222222222222222,\"#7201a8\"],[0.3333333333333333,\"#9c179e\"],[0.4444444444444444,\"#bd3786\"],[0.5555555555555556,\"#d8576b\"],[0.6666666666666666,\"#ed7953\"],[0.7777777777777778,\"#fb9f3a\"],[0.8888888888888888,\"#fdca26\"],[1.0,\"#f0f921\"]],\"type\":\"heatmap\"}],\"histogram2dcontour\":[{\"colorbar\":{\"outlinewidth\":0,\"ticks\":\"\"},\"colorscale\":[[0.0,\"#0d0887\"],[0.1111111111111111,\"#46039f\"],[0.2222222222222222,\"#7201a8\"],[0.3333333333333333,\"#9c179e\"],[0.4444444444444444,\"#bd3786\"],[0.5555555555555556,\"#d8576b\"],[0.6666666666666666,\"#ed7953\"],[0.7777777777777778,\"#fb9f3a\"],[0.8888888888888888,\"#fdca26\"],[1.0,\"#f0f921\"]],\"type\":\"histogram2dcontour\"}],\"histogram2d\":[{\"colorbar\":{\"outlinewidth\":0,\"ticks\":\"\"},\"colorscale\":[[0.0,\"#0d0887\"],[0.1111111111111111,\"#46039f\"],[0.2222222222222222,\"#7201a8\"],[0.3333333333333333,\"#9c179e\"],[0.4444444444444444,\"#bd3786\"],[0.5555555555555556,\"#d8576b\"],[0.6666666666666666,\"#ed7953\"],[0.7777777777777778,\"#fb9f3a\"],[0.8888888888888888,\"#fdca26\"],[1.0,\"#f0f921\"]],\"type\":\"histogram2d\"}],\"histogram\":[{\"marker\":{\"pattern\":{\"fillmode\":\"overlay\",\"size\":10,\"solidity\":0.2}},\"type\":\"histogram\"}],\"mesh3d\":[{\"colorbar\":{\"outlinewidth\":0,\"ticks\":\"\"},\"type\":\"mesh3d\"}],\"parcoords\":[{\"line\":{\"colorbar\":{\"outlinewidth\":0,\"ticks\":\"\"}},\"type\":\"parcoords\"}],\"pie\":[{\"automargin\":true,\"type\":\"pie\"}],\"scatter3d\":[{\"line\":{\"colorbar\":{\"outlinewidth\":0,\"ticks\":\"\"}},\"marker\":{\"colorbar\":{\"outlinewidth\":0,\"ticks\":\"\"}},\"type\":\"scatter3d\"}],\"scattercarpet\":[{\"marker\":{\"colorbar\":{\"outlinewidth\":0,\"ticks\":\"\"}},\"type\":\"scattercarpet\"}],\"scattergeo\":[{\"marker\":{\"colorbar\":{\"outlinewidth\":0,\"ticks\":\"\"}},\"type\":\"scattergeo\"}],\"scattergl\":[{\"marker\":{\"colorbar\":{\"outlinewidth\":0,\"ticks\":\"\"}},\"type\":\"scattergl\"}],\"scattermapbox\":[{\"marker\":{\"colorbar\":{\"outlinewidth\":0,\"ticks\":\"\"}},\"type\":\"scattermapbox\"}],\"scatterpolargl\":[{\"marker\":{\"colorbar\":{\"outlinewidth\":0,\"ticks\":\"\"}},\"type\":\"scatterpolargl\"}],\"scatterpolar\":[{\"marker\":{\"colorbar\":{\"outlinewidth\":0,\"ticks\":\"\"}},\"type\":\"scatterpolar\"}],\"scatter\":[{\"fillpattern\":{\"fillmode\":\"overlay\",\"size\":10,\"solidity\":0.2},\"type\":\"scatter\"}],\"scatterternary\":[{\"marker\":{\"colorbar\":{\"outlinewidth\":0,\"ticks\":\"\"}},\"type\":\"scatterternary\"}],\"surface\":[{\"colorbar\":{\"outlinewidth\":0,\"ticks\":\"\"},\"colorscale\":[[0.0,\"#0d0887\"],[0.1111111111111111,\"#46039f\"],[0.2222222222222222,\"#7201a8\"],[0.3333333333333333,\"#9c179e\"],[0.4444444444444444,\"#bd3786\"],[0.5555555555555556,\"#d8576b\"],[0.6666666666666666,\"#ed7953\"],[0.7777777777777778,\"#fb9f3a\"],[0.8888888888888888,\"#fdca26\"],[1.0,\"#f0f921\"]],\"type\":\"surface\"}],\"table\":[{\"cells\":{\"fill\":{\"color\":\"#EBF0F8\"},\"line\":{\"color\":\"white\"}},\"header\":{\"fill\":{\"color\":\"#C8D4E3\"},\"line\":{\"color\":\"white\"}},\"type\":\"table\"}]},\"layout\":{\"annotationdefaults\":{\"arrowcolor\":\"#2a3f5f\",\"arrowhead\":0,\"arrowwidth\":1},\"autotypenumbers\":\"strict\",\"coloraxis\":{\"colorbar\":{\"outlinewidth\":0,\"ticks\":\"\"}},\"colorscale\":{\"diverging\":[[0,\"#8e0152\"],[0.1,\"#c51b7d\"],[0.2,\"#de77ae\"],[0.3,\"#f1b6da\"],[0.4,\"#fde0ef\"],[0.5,\"#f7f7f7\"],[0.6,\"#e6f5d0\"],[0.7,\"#b8e186\"],[0.8,\"#7fbc41\"],[0.9,\"#4d9221\"],[1,\"#276419\"]],\"sequential\":[[0.0,\"#0d0887\"],[0.1111111111111111,\"#46039f\"],[0.2222222222222222,\"#7201a8\"],[0.3333333333333333,\"#9c179e\"],[0.4444444444444444,\"#bd3786\"],[0.5555555555555556,\"#d8576b\"],[0.6666666666666666,\"#ed7953\"],[0.7777777777777778,\"#fb9f3a\"],[0.8888888888888888,\"#fdca26\"],[1.0,\"#f0f921\"]],\"sequentialminus\":[[0.0,\"#0d0887\"],[0.1111111111111111,\"#46039f\"],[0.2222222222222222,\"#7201a8\"],[0.3333333333333333,\"#9c179e\"],[0.4444444444444444,\"#bd3786\"],[0.5555555555555556,\"#d8576b\"],[0.6666666666666666,\"#ed7953\"],[0.7777777777777778,\"#fb9f3a\"],[0.8888888888888888,\"#fdca26\"],[1.0,\"#f0f921\"]]},\"colorway\":[\"#636efa\",\"#EF553B\",\"#00cc96\",\"#ab63fa\",\"#FFA15A\",\"#19d3f3\",\"#FF6692\",\"#B6E880\",\"#FF97FF\",\"#FECB52\"],\"font\":{\"color\":\"#2a3f5f\"},\"geo\":{\"bgcolor\":\"white\",\"lakecolor\":\"white\",\"landcolor\":\"#E5ECF6\",\"showlakes\":true,\"showland\":true,\"subunitcolor\":\"white\"},\"hoverlabel\":{\"align\":\"left\"},\"hovermode\":\"closest\",\"mapbox\":{\"style\":\"light\"},\"paper_bgcolor\":\"white\",\"plot_bgcolor\":\"#E5ECF6\",\"polar\":{\"angularaxis\":{\"gridcolor\":\"white\",\"linecolor\":\"white\",\"ticks\":\"\"},\"bgcolor\":\"#E5ECF6\",\"radialaxis\":{\"gridcolor\":\"white\",\"linecolor\":\"white\",\"ticks\":\"\"}},\"scene\":{\"xaxis\":{\"backgroundcolor\":\"#E5ECF6\",\"gridcolor\":\"white\",\"gridwidth\":2,\"linecolor\":\"white\",\"showbackground\":true,\"ticks\":\"\",\"zerolinecolor\":\"white\"},\"yaxis\":{\"backgroundcolor\":\"#E5ECF6\",\"gridcolor\":\"white\",\"gridwidth\":2,\"linecolor\":\"white\",\"showbackground\":true,\"ticks\":\"\",\"zerolinecolor\":\"white\"},\"zaxis\":{\"backgroundcolor\":\"#E5ECF6\",\"gridcolor\":\"white\",\"gridwidth\":2,\"linecolor\":\"white\",\"showbackground\":true,\"ticks\":\"\",\"zerolinecolor\":\"white\"}},\"shapedefaults\":{\"line\":{\"color\":\"#2a3f5f\"}},\"ternary\":{\"aaxis\":{\"gridcolor\":\"white\",\"linecolor\":\"white\",\"ticks\":\"\"},\"baxis\":{\"gridcolor\":\"white\",\"linecolor\":\"white\",\"ticks\":\"\"},\"bgcolor\":\"#E5ECF6\",\"caxis\":{\"gridcolor\":\"white\",\"linecolor\":\"white\",\"ticks\":\"\"}},\"title\":{\"x\":0.05},\"xaxis\":{\"automargin\":true,\"gridcolor\":\"white\",\"linecolor\":\"white\",\"ticks\":\"\",\"title\":{\"standoff\":15},\"zerolinecolor\":\"white\",\"zerolinewidth\":2},\"yaxis\":{\"automargin\":true,\"gridcolor\":\"white\",\"linecolor\":\"white\",\"ticks\":\"\",\"title\":{\"standoff\":15},\"zerolinecolor\":\"white\",\"zerolinewidth\":2}}},\"title\":{\"text\":\"Number of items attributed to a particular item class\"},\"width\":800,\"yaxis\":{\"showgrid\":false,\"showline\":false,\"showticklabels\":true}},                        {\"responsive\": true}                    ).then(function(){\n",
              "                            \n",
              "var gd = document.getElementById('5dc731bf-a6e0-41ee-97a4-b7acaeecfe14');\n",
              "var x = new MutationObserver(function (mutations, observer) {{\n",
              "        var display = window.getComputedStyle(gd).display;\n",
              "        if (!display || display === 'none') {{\n",
              "            console.log([gd, 'removed!']);\n",
              "            Plotly.purge(gd);\n",
              "            observer.disconnect();\n",
              "        }}\n",
              "}});\n",
              "\n",
              "// Listen for the removal of the full notebook cells\n",
              "var notebookContainer = gd.closest('#notebook-container');\n",
              "if (notebookContainer) {{\n",
              "    x.observe(notebookContainer, {childList: true});\n",
              "}}\n",
              "\n",
              "// Listen for the clearing of the current output cell\n",
              "var outputEl = gd.closest('.output');\n",
              "if (outputEl) {{\n",
              "    x.observe(outputEl, {childList: true});\n",
              "}}\n",
              "\n",
              "                        })                };                });            </script>        </div>"
            ]
          },
          "metadata": {},
          "output_type": "display_data"
        },
        {
          "data": {
            "text/plain": [
              "<Figure size 640x480 with 0 Axes>"
            ]
          },
          "metadata": {},
          "output_type": "display_data"
        }
      ],
      "source": [
        "#Number of items attributed to a particular item class\n",
        "x, y = (list(x) for x in zip(*sorted(zip(items['class'].value_counts().index, \n",
        "                                         items['class'].value_counts().values), \n",
        "                                        reverse = False)))\n",
        "trace2 = go.Bar(\n",
        "    x=items['class'].value_counts().index,\n",
        "    y=items['class'].value_counts().values,\n",
        "    marker=dict(\n",
        "        color=items['class'].value_counts().values,\n",
        "        colorscale = 'Portland',\n",
        "        reversescale = True\n",
        "    ),\n",
        "    orientation='v',\n",
        ")\n",
        "\n",
        "layout = dict(\n",
        "    title='Number of items attributed to a particular item class',\n",
        "     width = 800, height = 1400,\n",
        "    yaxis=dict(\n",
        "        showgrid=False,\n",
        "        showline=False,\n",
        "        showticklabels=True,\n",
        "#         domain=[0, 0.85],\n",
        "    ))\n",
        "\n",
        "fig1 = go.Figure(data=[trace2])\n",
        "fig1['layout'].update(layout)\n",
        "py.iplot(fig1, filename='plots')\n",
        "plt.savefig('Item2.png')"
      ]
    },
    {
      "cell_type": "code",
      "execution_count": 20,
      "metadata": {
        "id": "Z_yQrcUazFLI"
      },
      "outputs": [
        {
          "name": "stderr",
          "output_type": "stream",
          "text": [
            "/var/folders/3_/l7f8whx5221gn40trqt3h6l80000gn/T/ipykernel_90934/3886071574.py:2: MatplotlibDeprecationWarning:\n",
            "\n",
            "The seaborn styles shipped by Matplotlib are deprecated since 3.6, as they no longer correspond to the styles shipped by seaborn. However, they will remain available as 'seaborn-v0_8-<style>'. Alternatively, directly use the seaborn API instead.\n",
            "\n"
          ]
        },
        {
          "data": {
            "image/png": "[encoded data removed]",
            "text/plain": [
              "<Figure size 1200x1000 with 1 Axes>"
            ]
          },
          "metadata": {},
          "output_type": "display_data"
        }
      ],
      "source": [
        "#Stacked Barplot of locale name against event type\n",
        "plt.style.use('seaborn-white')\n",
        "fam_perishable = items.groupby(['family', 'perishable']).size()\n",
        "fam_perishable.unstack().plot(kind='bar',stacked=True, colormap= 'coolwarm', figsize=(12,10),  grid=False)\n",
        "plt.title('Stacked Barplot of locale name against event type')\n",
        "plt.ylabel('Count of entries')\n",
        "plt.savefig('Item3.png')"
      ]
    },
    {
      "attachments": {},
      "cell_type": "markdown",
      "metadata": {},
      "source": [
        "### Document our findings in Vectice"
      ]
    },
    {
      "cell_type": "code",
      "execution_count": 21,
      "metadata": {
        "id": "6BCtsho33CZy"
      },
      "outputs": [
        {
          "name": "stderr",
          "output_type": "stream",
          "text": [
            "2023/02/17 11:25:29 INFO vectice.models.step: 'Explore data' was successfully closed.\n",
            "2023/02/17 11:25:29 INFO vectice.models.step: Next step : Step(name='Verify Data Quality', id=17204, description='Ensure and sustain data quality by assessing data accuracy, relevancy, completeness, timeliness, and consistency.', completed=False)\n"
          ]
        }
      ],
      "source": [
        "#Close step, mark it as completed in the webapp and publish message\n",
        "step = step.next_step(message=\"We created visualization for each of our datasets for value distribution, outliers and join candidates across all datasets.\\nSome side reseach also gave sense to some data incoherence that could be observed, caused by black swan events, such as the earthquake of 2016 and the pandemic of 2020.\")"
      ]
    },
    {
      "cell_type": "markdown",
      "metadata": {
        "id": "3kfw8zVM4jw8"
      },
      "source": [
        "# Verify Data Quality"
      ]
    },
    {
      "attachments": {},
      "cell_type": "markdown",
      "metadata": {},
      "source": [
        "### Basic EDA"
      ]
    },
    {
      "cell_type": "code",
      "execution_count": 22,
      "metadata": {},
      "outputs": [
        {
          "name": "stdout",
          "output_type": "stream",
          "text": [
            "Dataset: items\n",
            "There are 4100 rows in the dataset.\n",
            "Isnull report:\n",
            "item_nbr      0\n",
            "family        0\n",
            "class         0\n",
            "perishable    0\n",
            "dtype: int64\n",
            "Missing values report:\n",
            "      item_nbr  family  class  perishable\n",
            "0        False   False  False       False\n",
            "1        False   False  False       False\n",
            "2        False   False  False       False\n",
            "3        False   False  False       False\n",
            "4        False   False  False       False\n",
            "...        ...     ...    ...         ...\n",
            "4095     False   False  False       False\n",
            "4096     False   False  False       False\n",
            "4097     False   False  False       False\n",
            "4098     False   False  False       False\n",
            "4099     False   False  False       False\n",
            "\n",
            "[4100 rows x 4 columns]\n",
            "-----------------------\n",
            "Dataset: holiday_events\n",
            "There are 350 rows in the dataset.\n",
            "Isnull report:\n",
            "date           0\n",
            "type           0\n",
            "locale         0\n",
            "locale_name    0\n",
            "description    0\n",
            "transferred    0\n",
            "dtype: int64\n",
            "Missing values report:\n",
            "      date   type  locale  locale_name  description  transferred\n",
            "0    False  False   False        False        False        False\n",
            "1    False  False   False        False        False        False\n",
            "2    False  False   False        False        False        False\n",
            "3    False  False   False        False        False        False\n",
            "4    False  False   False        False        False        False\n",
            "..     ...    ...     ...          ...          ...          ...\n",
            "345  False  False   False        False        False        False\n",
            "346  False  False   False        False        False        False\n",
            "347  False  False   False        False        False        False\n",
            "348  False  False   False        False        False        False\n",
            "349  False  False   False        False        False        False\n",
            "\n",
            "[350 rows x 6 columns]\n",
            "-----------------------\n",
            "Dataset: stores\n",
            "There are 54 rows in the dataset.\n",
            "Isnull report:\n",
            "store_nbr    0\n",
            "city         0\n",
            "state        0\n",
            "type         0\n",
            "cluster      0\n",
            "dtype: int64\n",
            "Missing values report:\n",
            "    store_nbr   city  state   type  cluster\n",
            "0       False  False  False  False    False\n",
            "1       False  False  False  False    False\n",
            "2       False  False  False  False    False\n",
            "3       False  False  False  False    False\n",
            "4       False  False  False  False    False\n",
            "5       False  False  False  False    False\n",
            "6       False  False  False  False    False\n",
            "7       False  False  False  False    False\n",
            "8       False  False  False  False    False\n",
            "9       False  False  False  False    False\n",
            "10      False  False  False  False    False\n",
            "11      False  False  False  False    False\n",
            "12      False  False  False  False    False\n",
            "13      False  False  False  False    False\n",
            "14      False  False  False  False    False\n",
            "15      False  False  False  False    False\n",
            "16      False  False  False  False    False\n",
            "17      False  False  False  False    False\n",
            "18      False  False  False  False    False\n",
            "19      False  False  False  False    False\n",
            "20      False  False  False  False    False\n",
            "21      False  False  False  False    False\n",
            "22      False  False  False  False    False\n",
            "23      False  False  False  False    False\n",
            "24      False  False  False  False    False\n",
            "25      False  False  False  False    False\n",
            "26      False  False  False  False    False\n",
            "27      False  False  False  False    False\n",
            "28      False  False  False  False    False\n",
            "29      False  False  False  False    False\n",
            "30      False  False  False  False    False\n",
            "31      False  False  False  False    False\n",
            "32      False  False  False  False    False\n",
            "33      False  False  False  False    False\n",
            "34      False  False  False  False    False\n",
            "35      False  False  False  False    False\n",
            "36      False  False  False  False    False\n",
            "37      False  False  False  False    False\n",
            "38      False  False  False  False    False\n",
            "39      False  False  False  False    False\n",
            "40      False  False  False  False    False\n",
            "41      False  False  False  False    False\n",
            "42      False  False  False  False    False\n",
            "43      False  False  False  False    False\n",
            "44      False  False  False  False    False\n",
            "45      False  False  False  False    False\n",
            "46      False  False  False  False    False\n",
            "47      False  False  False  False    False\n",
            "48      False  False  False  False    False\n",
            "49      False  False  False  False    False\n",
            "50      False  False  False  False    False\n",
            "51      False  False  False  False    False\n",
            "52      False  False  False  False    False\n",
            "53      False  False  False  False    False\n",
            "-----------------------\n",
            "Dataset: oil\n",
            "There are 1218 rows in the dataset.\n",
            "Isnull report:\n",
            "date           0\n",
            "dcoilwtico    43\n",
            "dtype: int64\n",
            "Missing values report:\n",
            "       date  dcoilwtico\n",
            "0     False        True\n",
            "1     False       False\n",
            "2     False       False\n",
            "3     False       False\n",
            "4     False       False\n",
            "...     ...         ...\n",
            "1213  False       False\n",
            "1214  False       False\n",
            "1215  False       False\n",
            "1216  False       False\n",
            "1217  False       False\n",
            "\n",
            "[1218 rows x 2 columns]\n",
            "-----------------------\n",
            "Dataset: transaction\n",
            "There are 83488 rows in the dataset.\n",
            "Isnull report:\n",
            "date            0\n",
            "store_nbr       0\n",
            "transactions    0\n",
            "dtype: int64\n",
            "Missing values report:\n",
            "        date  store_nbr  transactions\n",
            "0      False      False         False\n",
            "1      False      False         False\n",
            "2      False      False         False\n",
            "3      False      False         False\n",
            "4      False      False         False\n",
            "...      ...        ...           ...\n",
            "83483  False      False         False\n",
            "83484  False      False         False\n",
            "83485  False      False         False\n",
            "83486  False      False         False\n",
            "83487  False      False         False\n",
            "\n",
            "[83488 rows x 3 columns]\n",
            "-----------------------\n"
          ]
        }
      ],
      "source": [
        "\n",
        "datasets = {\"items\": items, \"holiday_events\": holiday_events, \"stores\": stores, \"oil\": oil, \"transaction\": transactions}\n",
        "for name, ds in datasets.items():\n",
        "    print(f\"Dataset: {name}\")\n",
        "    print(f\"There are {len(ds)} rows in the dataset.\")\n",
        "    print(\"Isnull report:\")\n",
        "    print(ds.isnull().sum())\n",
        "    print(\"Missing values report:\")\n",
        "    print(ds.isna())\n",
        "    print(\"-----------------------\")"
      ]
    },
    {
      "attachments": {},
      "cell_type": "markdown",
      "metadata": {},
      "source": [
        "### Document our findings in Vectice"
      ]
    },
    {
      "cell_type": "code",
      "execution_count": 23,
      "metadata": {
        "id": "7VcpjIN44tBQ"
      },
      "outputs": [
        {
          "name": "stderr",
          "output_type": "stream",
          "text": [
            "2023/02/17 11:25:31 INFO vectice.models.step: 'Verify Data Quality' was successfully closed.\n"
          ]
        }
      ],
      "source": [
        "#Close step, mark it as completed in the webapp and publish message\n",
        "step.close(message=\"The information comprise in this dataset is accurate and comprehensive.\\nAs the information aligns with other trusted resources, the dataset was considered as reliable and also relevant to the business problem we are trying to solve.\\nHowever, this data can not be used for real time reporting as the data does not update itself.\\nFurther data preparation is required.\")"
      ]
    }
  ],
  "metadata": {
    "colab": {
      "provenance": []
    },
    "kernelspec": {
      "display_name": "Python 3.9.2 64-bit",
      "language": "python",
      "name": "python3"
    },
    "language_info": {
      "codemirror_mode": {
        "name": "ipython",
        "version": 3
      },
      "file_extension": ".py",
      "mimetype": "text/x-python",
      "name": "python",
      "nbconvert_exporter": "python",
      "pygments_lexer": "ipython3",
      "version": "3.9.2"
    },
    "toc": {
      "base_numbering": 1,
      "nav_menu": {},
      "number_sections": true,
      "sideBar": true,
      "skip_h1_title": false,
      "title_cell": "Table of Contents",
      "title_sidebar": "Contents",
      "toc_cell": false,
      "toc_position": {},
      "toc_section_display": true,
      "toc_window_display": false
    },
    "varInspector": {
      "cols": {
        "lenName": 16,
        "lenType": 16,
        "lenVar": 40
      },
      "kernels_config": {
        "python": {
          "delete_cmd_postfix": "",
          "delete_cmd_prefix": "del ",
          "library": "var_list.py",
          "varRefreshCmd": "print(var_dic_list())"
        },
        "r": {
          "delete_cmd_postfix": ") ",
          "delete_cmd_prefix": "rm(",
          "library": "var_list.r",
          "varRefreshCmd": "cat(var_dic_list()) "
        }
      },
      "types_to_exclude": [
        "module",
        "function",
        "builtin_function_or_method",
        "instance",
        "_Feature"
      ],
      "window_display": false
    },
    "vscode": {
      "interpreter": {
        "hash": "397704579725e15f5c7cb49fe5f0341eb7531c82d19f2c29d197e8b64ab5776b"
      }
    }
  },
  "nbformat": 4,
  "nbformat_minor": 0
}
