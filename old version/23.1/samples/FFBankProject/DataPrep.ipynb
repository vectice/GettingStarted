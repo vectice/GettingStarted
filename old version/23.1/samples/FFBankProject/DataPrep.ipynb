{
  "cells": [
    {
      "cell_type": "code",
      "execution_count": null,
      "id": "cc5eb131-23c1-411e-aa1e-9954ea69aec0",
      "metadata": {
        "colab": {
          "base_uri": "https://localhost:8080/"
        },
        "id": "cc5eb131-23c1-411e-aa1e-9954ea69aec0",
        "outputId": "baff1946-0c9c-42a7-9d35-78d41ef1febe",
        "tags": []
      },
      "outputs": [],
      "source": [
        "import vectice as vct\n",
        "\n",
        "vec_project = vct.connect(config=\"token_i.json\")"
      ]
    },
    {
      "cell_type": "markdown",
      "id": "6958f765-98a7-4e7b-a4af-dfbcff249ed4",
      "metadata": {
        "id": "6958f765-98a7-4e7b-a4af-dfbcff249ed4",
        "tags": []
      },
      "source": [
        "### Read datasets:\n",
        " - PTY_ID_MAIN - From our BigQuery Dev environment\n",
        " - HIST_TRANS - From our BigQuery Dev environment\n",
        " - LuxAir_Accts - S3\n",
        " - OFAC_SDN - S3"
      ]
    },
    {
      "cell_type": "code",
      "execution_count": null,
      "id": "d05a5d74-5e95-47d1-9cf0-c7458b5619d7",
      "metadata": {
        "colab": {
          "base_uri": "https://localhost:8080/"
        },
        "id": "d05a5d74-5e95-47d1-9cf0-c7458b5619d7",
        "outputId": "94e2382e-27b4-4205-ad65-49ed15176cd1"
      },
      "outputs": [],
      "source": [
        "# Connect to BigQuery Dev using Service Account\n",
        "from google.cloud import bigquery\n",
        "from google.oauth2 import service_account\n",
        "creds = service_account.Credentials.from_service_account_file(\"bq_dev_sa.json\", scopes=[\"https://www.googleapis.com/auth/cloud-platform\"])\n",
        "\n",
        "bigquery_client = bigquery.Client(\n",
        "    credentials= creds,\n",
        "    project=creds.project_id\n",
        ")"
      ]
    },
    {
      "cell_type": "markdown",
      "id": "a_GFv6vBdDjz",
      "metadata": {
        "id": "a_GFv6vBdDjz"
      },
      "source": [
        "Query PTY_ID_MAIN and HIST_TRX from our Dev BigQUery env. Retrieving full tables, we will need to remove non US customers from the resultsets as per compliance."
      ]
    },
    {
      "cell_type": "code",
      "execution_count": null,
      "id": "def55e9f-c05c-4c34-accd-4beceeeb317e",
      "metadata": {
        "colab": {
          "base_uri": "https://localhost:8080/",
          "height": 306
        },
        "id": "def55e9f-c05c-4c34-accd-4beceeeb317e",
        "outputId": "d03f4722-2b13-402d-8b0d-340ba1500843",
        "tags": []
      },
      "outputs": [],
      "source": [
        "# Query PTY_ID_MAIN table\n",
        "qry_PTY_ID_MAIN = \"SELECT * FROM `solutions-engineering-363108.CUST_PTY_INFO.PTY_ID_MAIN`\"\n",
        "#Run the query and write result to a pandas data frame\n",
        "Query_Results = bigquery_client.query(qry_PTY_ID_MAIN)\n",
        "df_PTY_ID_MAIN = Query_Results.to_dataframe()\n",
        "#View top few rows of result\n",
        "df_PTY_ID_MAIN.head()"
      ]
    },
    {
      "cell_type": "code",
      "execution_count": null,
      "id": "f8f2b2bb-048d-41f8-ac85-ffee0dadedeb",
      "metadata": {
        "colab": {
          "base_uri": "https://localhost:8080/",
          "height": 262
        },
        "id": "f8f2b2bb-048d-41f8-ac85-ffee0dadedeb",
        "outputId": "aedbb200-6005-4c61-d873-c7d63c2b283a",
        "tags": []
      },
      "outputs": [],
      "source": [
        "# Query HIST_TRANS table\n",
        "qry_HIST_TRX = \"SELECT * FROM `solutions-engineering-363108.HIST_CUST_INFO.HIST_TRANS`\"\n",
        "#Run the query and write result to a pandas data frame\n",
        "Query_Results = bigquery_client.query(qry_HIST_TRX)\n",
        "df_HIST_TRX = Query_Results.to_dataframe()\n",
        "#View top few rows of result\n",
        "df_HIST_TRX.head()"
      ]
    },
    {
      "cell_type": "markdown",
      "id": "Ny0o6xKLdpJ9",
      "metadata": {
        "id": "Ny0o6xKLdpJ9"
      },
      "source": [
        "Reading the two external files from our S3 bucket."
      ]
    },
    {
      "cell_type": "code",
      "execution_count": null,
      "id": "7211ebf5-23ad-4e9f-8fd0-42883a214e35",
      "metadata": {
        "colab": {
          "base_uri": "https://localhost:8080/"
        },
        "id": "7211ebf5-23ad-4e9f-8fd0-42883a214e35",
        "outputId": "76229894-0f02-45b7-a058-cb0a668024e7"
      },
      "outputs": [],
      "source": [
        "# Read the external files from S3\n",
        "# Create connection\n",
        "from boto3 import client\n",
        "from botocore import UNSIGNED\n",
        "from botocore.client import Config\n",
        "import s3fs\n",
        "\n",
        "s3_client = client('s3', config=Config(signature_version=UNSIGNED), region_name='us-west-1')\n"
      ]
    },
    {
      "cell_type": "code",
      "execution_count": null,
      "id": "he-ZSrTxUry7",
      "metadata": {
        "colab": {
          "base_uri": "https://localhost:8080/"
        },
        "id": "he-ZSrTxUry7",
        "outputId": "6efb8a07-4364-4c07-fe20-1dff1d5b47de"
      },
      "outputs": [],
      "source": [
        "import pandas as pd\n",
        "\n",
        "# Read the external files in dataframes\n",
        "s3 = s3fs.S3FileSystem(anon=True)\n",
        "\n",
        "with s3.open(\"vectice-examples/Samples Data/LuxAir_Accts.csv\", mode=\"rb\") as f:\n",
        "    df_LuxAir_Accts = pd.read_csv(f)\n",
        "\n",
        "with s3.open(\"vectice-examples/Samples Data/OFAC_SDN.csv\", mode=\"rb\") as f:\n",
        "    df_OFAC_SDN = pd.read_csv(f)"
      ]
    },
    {
      "cell_type": "markdown",
      "id": "mM_9Ej32cOMe",
      "metadata": {
        "id": "mM_9Ej32cOMe"
      },
      "source": [
        "Drop features that are not needed, create target, split LuxAIr_Accts.CUST_NAME into CUST_F_NAME and CUST_L_NAME."
      ]
    },
    {
      "cell_type": "code",
      "execution_count": null,
      "id": "KZGopXATcNY6",
      "metadata": {
        "colab": {
          "base_uri": "https://localhost:8080/"
        },
        "id": "KZGopXATcNY6",
        "outputId": "fa742495-35b9-4629-f3a6-7152ca813208"
      },
      "outputs": [],
      "source": [
        "# Prep LuxAir dataset\n",
        "# Remove NAs\n",
        "df_LuxAir_Accts = df_LuxAir_Accts.dropna()\n",
        "# Split columns\n",
        "df_LuxAir_Accts[['CUST_F_NAME', 'CUST_L_NAME']] = df_LuxAir_Accts['CUST_NAME'].str.split(pat=' ', n=1,expand=True)\n",
        "# Drop features\n",
        "df_LuxAir_Accts = df_LuxAir_Accts.drop(columns=['CUST_NAME','CUST_PREFS'])\n",
        "df_LuxAir_Accts.shape[0]\n",
        "\n"
      ]
    },
    {
      "cell_type": "code",
      "execution_count": null,
      "id": "v3x5uUJOfsy_",
      "metadata": {
        "colab": {
          "base_uri": "https://localhost:8080/"
        },
        "id": "v3x5uUJOfsy_",
        "outputId": "2a4e8d5f-41dd-40f5-cd65-4a851b375494"
      },
      "outputs": [],
      "source": [
        "# Prep PTY_ID_MAIN dataset\n",
        "# Remove NAs\n",
        "df_PTY_ID_MAIN = df_PTY_ID_MAIN.dropna()\n",
        "# Only keep US accts\n",
        "df_PTY_ID_MAIN = df_PTY_ID_MAIN.loc[df_PTY_ID_MAIN[\"Customer_Address_Cntry\"] == 'US' ]\n",
        "df_PTY_ID_MAIN.shape[0]"
      ]
    },
    {
      "cell_type": "code",
      "execution_count": null,
      "id": "iUDk4hoHlJFu",
      "metadata": {
        "colab": {
          "base_uri": "https://localhost:8080/",
          "height": 422
        },
        "id": "iUDk4hoHlJFu",
        "outputId": "dd041d33-fdd6-47d6-f8f7-066925dde896"
      },
      "outputs": [],
      "source": [
        "# Join the datasets to create a clean dataset ready for modeling\n",
        "df_JOINED_DS = pd.merge(df_PTY_ID_MAIN, df_LuxAir_Accts, how='inner', left_on='Customer_POB', right_on = 'CUST_CITY')\n",
        "\n",
        "df_JOINED_DS.head()"
      ]
    },
    {
      "cell_type": "code",
      "execution_count": null,
      "id": "lKdG78s405bE",
      "metadata": {
        "colab": {
          "base_uri": "https://localhost:8080/",
          "height": 422
        },
        "id": "lKdG78s405bE",
        "outputId": "2038f979-9098-4a75-b28f-7747fca53c25"
      },
      "outputs": [],
      "source": [
        "import numpy as np\n",
        "df_JOINED_DS[\"accepted_offer\"] = np.where((df_JOINED_DS['YTD_SEGMENTS'] > 54), 0, 1)\n",
        "df_JOINED_DS.head()"
      ]
    },
    {
      "cell_type": "markdown",
      "id": "-KcI5uvwn2wo",
      "metadata": {
        "id": "-KcI5uvwn2wo"
      },
      "source": [
        "Save the clean dataset in BQ dev"
      ]
    },
    {
      "cell_type": "code",
      "execution_count": null,
      "id": "ti_HwHS5n0iL",
      "metadata": {
        "colab": {
          "base_uri": "https://localhost:8080/"
        },
        "id": "ti_HwHS5n0iL",
        "outputId": "6c4a6314-e680-4c30-d2d7-c23e2da55b9d"
      },
      "outputs": [],
      "source": [
        "table_id = 'FFBank_CoBranded_project.modelingdata'\n",
        "\n",
        "# Since string columns use the \"object\" dtype, pass in a (partial) schema\n",
        "# to ensure the correct BigQuery data type.\n",
        "job_config = bigquery.LoadJobConfig(schema=[\n",
        "    bigquery.SchemaField(\"Customer_PTY_Id\", \"STRING\"),\n",
        "])\n",
        "\n",
        "job = bigquery_client.load_table_from_dataframe(\n",
        "    df_JOINED_DS, table_id, job_config=job_config\n",
        ")"
      ]
    },
    {
      "attachments": {},
      "cell_type": "markdown",
      "id": "Vv8YggM7iR6p",
      "metadata": {
        "id": "Vv8YggM7iR6p"
      },
      "source": [
        "# Vectice Documentation Pipeline"
      ]
    },
    {
      "cell_type": "code",
      "execution_count": null,
      "id": "XL4uYSJuQQDy",
      "metadata": {
        "colab": {
          "base_uri": "https://localhost:8080/"
        },
        "id": "XL4uYSJuQQDy",
        "outputId": "95f549de-246b-493e-f797-b16aa1626e27"
      },
      "outputs": [],
      "source": [
        "from vectice import Dataset, S3Resource\n",
        "from vectice.models.resource import BigQueryResource\n",
        "\n",
        "iteration = vec_project.phase(\"Data Analysis\").iteration()"
      ]
    },
    {
      "cell_type": "code",
      "execution_count": null,
      "id": "JTIsylHLmgmH",
      "metadata": {
        "colab": {
          "base_uri": "https://localhost:8080/"
        },
        "id": "JTIsylHLmgmH",
        "outputId": "d0abe9e3-8f1d-491b-86b5-23d715d1eb16"
      },
      "outputs": [],
      "source": [
        "# Log insights in Vectice\n",
        "msg = \"We dropped rows with NA values from both the LuxAir_Accts and the PTY_ID_MAIN dataframes.\\n\"\\\n",
        "\"We split the LuxAir CUST_NAME into CUST_F_NAME and CUST_L_NAME, dropped CUST_NAME and CUST_PREFS.\\n\"\n",
        "\n",
        "iteration.step_construct_data = msg\n",
        "\n",
        "# Add the clean dataset to Vectice\n",
        "vct_JOINED_DS = BigQueryResource (bq_client=bigquery_client, path=\"solutions-engineering-363108.\" + table_id)\n",
        "iteration.step_integrate_data = Dataset.clean(name=\"Clean dataset\", resource=vct_JOINED_DS, dataframe = df_JOINED_DS, properties={\"BQ Table Name\":table_id})\n",
        "\n",
        "iteration.step_integrate_data = \"We removed non US customers fromour datasets as per compliance.\\n We merged the dataframes and saved the dataset on our BigQuery environemnt as \\\"modelingdata\\\".\"\n",
        "\n",
        "iteration.step_format_data = \"We generated a dataset ready for modeling.\\nIn order to productionalize this we will need to establish a data pipeline and automated processes.\"\n",
        "\n",
        "iteration.step_certify_compliance = f\"\\'Customer_Address_Cntry\\' unique value(s):{df_JOINED_DS.Customer_Address_Cntry.unique()}\"\\\n",
        "    f\"\\nLuxAir KYC check done against the OFAC_SDN dataset, removed 1 account(s)\"\n",
        "\n",
        "iteration.complete()"
      ]
    }
  ],
  "metadata": {
    "colab": {
      "provenance": []
    },
    "kernelspec": {
      "display_name": "Python 3 (ipykernel)",
      "language": "python",
      "name": "python3"
    },
    "language_info": {
      "codemirror_mode": {
        "name": "ipython",
        "version": 3
      },
      "file_extension": ".py",
      "mimetype": "text/x-python",
      "name": "python",
      "nbconvert_exporter": "python",
      "pygments_lexer": "ipython3",
      "version": "3.9.2"
    }
  },
  "nbformat": 4,
  "nbformat_minor": 5
}
