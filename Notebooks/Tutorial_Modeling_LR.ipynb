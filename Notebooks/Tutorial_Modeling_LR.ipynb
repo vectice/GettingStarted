{
  "cells": [
    {
      "cell_type": "markdown",
      "id": "8wNagshCYiQe",
      "metadata": {
        "id": "8wNagshCYiQe"
      },
      "source": [
        "#Before your start with this Tutorial\n",
        "\n",
        "**Tutorial Intention:** Providing an example of iteration and related step on a modeling phase for you to:\n",
        "\n",
        "*   Experience the data science lifecycle using Vectice\n",
        "*   See how simple it is to connect your notebook to Vectice\n",
        "*   Learn how to structure and log your work using Vectice\n",
        "\n",
        "**Resources needed:**\n",
        "*   Forecast Unit Sales Tutorial Project: You can find it as part of your personal workspace named after your name\n",
        "*   Vectice Webapp Documentation: \n",
        "*   Vectice API documentation: "
      ]
    },
    {
      "cell_type": "markdown",
      "id": "8G9I3coFz_Hg",
      "metadata": {
        "id": "8G9I3coFz_Hg"
      },
      "source": [
        "# PIP and package Installation"
      ]
    },
    {
      "cell_type": "code",
      "execution_count": 3,
      "id": "fF8kHhHFz_Hl",
      "metadata": {
        "colab": {
          "base_uri": "https://localhost:8080/",
          "height": 1000
        },
        "id": "fF8kHhHFz_Hl",
        "outputId": "73f58724-5545-438c-a9f5-f7a216fa4fe6"
      },
      "source": [
        "# You might need to install some packages before the actual Vectice Package installation as the build doesn't have a good wheel\n",
        "!pip install -q python-dotenv gql Deprecated requests_toolbelt\n",
        "!pip install s3fs\n",
        "!pip install --upgrade setuptools\n",
        "!pip install -q mypy_boto3_s3 boto3\n",
        "!pip install --upgrade requests urllib3\n",
        "\n",
        "# You need to replace the version with the version you want to install from the artfiact registry\n",
        "!pip install -i https://test.pypi.org/simple/ vectice==22.4.9.0b4"
      ]
    },
    {
      "cell_type": "markdown",
      "id": "hskKudnYIn35",
      "metadata": {
        "id": "hskKudnYIn35"
      },
      "source": [
        "#Import libraries"
      ]
    },
    {
      "cell_type": "code",
      "execution_count": 2,
      "id": "THRC-14Bz_Hp",
      "metadata": {
        "_cell_guid": "b1076dfc-b9ad-4769-8c92-a6c4dae69d19",
        "_uuid": "8f2839f25d086af736a60e9eeb907d3b93b6e0e5",
        "colab": {
          "base_uri": "https://localhost:8080/",
          "height": 17
        },
        "id": "THRC-14Bz_Hp",
        "outputId": "9bc26780-bfa8-463a-9d67-30bb06447c59",
        "papermill": {
          "duration": 0.098471,
          "end_time": "2022-01-15T09:50:45.169883",
          "exception": false,
          "start_time": "2022-01-15T09:50:45.071412",
          "status": "completed"
        },
        "tags": []
      },
      "outputs": [
        {
          "data": {
            "text/html": [
              "        <script type=\"text/javascript\">\n",
              "        window.PlotlyConfig = {MathJaxConfig: 'local'};\n",
              "        if (window.MathJax) {MathJax.Hub.Config({SVG: {font: \"STIX-Web\"}});}\n",
              "        if (typeof require !== 'undefined') {\n",
              "        require.undef(\"plotly\");\n",
              "        requirejs.config({\n",
              "            paths: {\n",
              "                'plotly': ['https://cdn.plot.ly/plotly-2.8.3.min']\n",
              "            }\n",
              "        });\n",
              "        require(['plotly'], function(Plotly) {\n",
              "            window._Plotly = Plotly;\n",
              "        });\n",
              "        }\n",
              "        </script>\n",
              "        "
            ]
          },
          "metadata": {},
          "output_type": "display_data"
        }
      ],
      "source": [
        "# importing mathematical and ds libraries\n",
        "import pandas as pd  # data science essentials\n",
        "import matplotlib.pyplot as plt  # essential graphical output\n",
        "import numpy as np   # mathematical essentials\n",
        "import seaborn as sns\n",
        "%matplotlib inline\n",
        "\n",
        "# import Visual libraries\n",
        "import plotly.offline as py\n",
        "py.init_notebook_mode(connected=True)\n",
        "import plotly.graph_objs as go\n",
        "import plotly.tools as tls\n",
        "from matplotlib import pyplot as plt\n",
        "import seaborn as sns  # enhanced graphical output\n",
        "\n",
        "#importing other libraries\n",
        "import IPython.display #this is for our data pipeline\n",
        "import os\n",
        "import logging\n",
        "import json\n",
        "logging.basicConfig(level=logging.INFO)\n",
        "\n",
        "# D3 modules\n",
        "from IPython.core.display import display, HTML, Javascript\n",
        "from string import Template\n",
        "import datetime\n",
        "from datetime import timedelta\n",
        "from math import sqrt\n",
        "\n",
        "# Load scikit-learn packages for modeling\n",
        "from sklearn.model_selection import train_test_split #Split function\n",
        "from sklearn.linear_model import LinearRegression #LR function\n",
        "from sklearn.pipeline import make_pipeline \n",
        "from sklearn.preprocessing import StandardScaler\n",
        "from sklearn.metrics import mean_squared_error,mean_absolute_error\n",
        "from sklearn import datasets"
      ]
    },
    {
      "cell_type": "code",
      "execution_count": 3,
      "id": "u432CjnM5OVK",
      "metadata": {
        "id": "u432CjnM5OVK"
      },
      "outputs": [],
      "source": [
        "#import the Vectice Library\n",
        "import vectice\n",
        "from vectice import FileDataWrapper, DatasetSourceUsage"
      ]
    },
    {
      "cell_type": "markdown",
      "id": "hJAE9rsVz_Hq",
      "metadata": {
        "id": "hJAE9rsVz_Hq"
      },
      "source": [
        "# Vectice notebook configuration"
      ]
    },
    {
      "cell_type": "code",
      "execution_count": 2,
      "id": "tVrDRWDGaJtI",
      "metadata": {
        "id": "tVrDRWDGaJtI"
      },
      "outputs": [
        {
          "name": "stdout",
          "output_type": "stream",
          "text": [
            "/bin/bash: wget: command not found\n"
          ]
        }
      ],
      "source": [
        "# For this tutorial we will use a pre-defined configuration file located on our GitHub\n",
        "!wget -o Tutorial_API_token.json https://github.com/vectice/GettingStarted/blob/d49c258b57aef99c8538791447e2d8819b3512e2/Notebooks/VecticeConfig.json"
      ]
    },
    {
      "cell_type": "code",
      "execution_count": 4,
      "id": "cBDLOY6S3Zay",
      "metadata": {
        "colab": {
          "base_uri": "https://localhost:8080/"
        },
        "id": "cBDLOY6S3Zay",
        "outputId": "7d06dd35-e9dc-4b26-b6ac-562a7f400602"
      },
      "outputs": [
        {
          "name": "stderr",
          "output_type": "stream",
          "text": [
            "2022/11/23 23:14:28 INFO vectice.connection: Vectice successfully connected.\n",
            "2022/11/23 23:14:29 INFO vectice.connection: Your current workspace: Retail Ops\n"
          ]
        }
      ],
      "source": [
        "# To log your work to Vectice, you need to connect your notebook to your profile using your personal API token.\n",
        "# You can find it in our web app, under your profile > API tokens\n",
        "# Update the file downloaded above with you API token, along with the name of the workspace\n",
        "retail_ws = vectice.connect(config=r\"Tutorial_API_token.json\")"
      ]
    },
    {
      "cell_type": "code",
      "execution_count": 6,
      "id": "mhgJV_9n3b2P",
      "metadata": {
        "colab": {
          "base_uri": "https://localhost:8080/"
        },
        "id": "mhgJV_9n3b2P",
        "outputId": "074d4da9-f383-4b34-fac6-dc3540ad5827"
      },
      "outputs": [
        {
          "name": "stderr",
          "output_type": "stream",
          "text": [
            "2022/11/23 23:15:36 INFO vectice.models.workspace: Your current project: 65\n"
          ]
        }
      ],
      "source": [
        "#You are going to work on the \"Forecast in store unit sales\" project to complete this Tutorial\n",
        "retail_project = retail_ws.project(project=\"Tutorial Project: Forecast in store unit sales\")"
      ]
    },
    {
      "cell_type": "code",
      "execution_count": 7,
      "id": "Z7tUO--W3fx0",
      "metadata": {
        "colab": {
          "base_uri": "https://localhost:8080/"
        },
        "id": "Z7tUO--W3fx0",
        "outputId": "2a94750a-0be6-4b57-f6d7-191bbdac380d"
      },
      "outputs": [
        {
          "name": "stderr",
          "output_type": "stream",
          "text": [
            "2022/11/23 23:15:38 INFO vectice.models.project: Phase with id: 294 successfully retrieved.\n"
          ]
        }
      ],
      "source": [
        "# You are looking to create a new model in our \"Modeling\" phase\n",
        "Modeling = retail_project.phase(\"Modeling\")"
      ]
    },
    {
      "cell_type": "code",
      "execution_count": 8,
      "id": "Y1zIixNh4mJN",
      "metadata": {
        "colab": {
          "base_uri": "https://localhost:8080/"
        },
        "id": "Y1zIixNh4mJN",
        "outputId": "43705094-bb84-40eb-bcdf-a3a124ea4b66"
      },
      "outputs": [
        {
          "name": "stderr",
          "output_type": "stream",
          "text": [
            "2022/11/23 23:15:40 INFO vectice.models.phase: Iteration with id: 11 successfully retrieved.\n"
          ]
        }
      ],
      "source": [
        "# Let s start working by starting a new iteration for the Modeling Phase\n",
        "iter = Modeling.iteration"
      ]
    },
    {
      "cell_type": "code",
      "execution_count": 9,
      "id": "SsGRrCJTaqwI",
      "metadata": {
        "colab": {
          "base_uri": "https://localhost:8080/"
        },
        "id": "SsGRrCJTaqwI",
        "outputId": "d68c8c21-1840-49e9-964b-4ba5fe1b2202"
      },
      "outputs": [
        {
          "data": {
            "text/plain": [
              "[Step (name=Select Modeling Techniques, id=40, description=, completed=False,\n",
              " Step (name=Generate Test Design, id=39, description=Define testing workflow overview., smoke test, unit and integration tests, manual model evaluation and validation, completed=False,\n",
              " Step (name=Build Model, id=42, description=Set parameters for the model, add model description, run model, completed=False,\n",
              " Step (name=Assess model, id=41, description=Review model accuracy, precision and recall\n",
              " Review model parameters, completed=False]"
            ]
          },
          "execution_count": 9,
          "metadata": {},
          "output_type": "execute_result"
        }
      ],
      "source": [
        "# Let see all the steps that need to be completed as part of this iteration\n",
        "# \n",
        "# Replace ______ by steps to see the list of steps\n",
        "modelingSteps = iter.steps\n",
        "\n",
        "# As you see, you have 4 steps to complete.\n",
        "modelingSteps"
      ]
    },
    {
      "cell_type": "markdown",
      "id": "mtV07v27z_H0",
      "metadata": {
        "id": "mtV07v27z_H0",
        "papermill": {
          "duration": 0.168275,
          "end_time": "2022-01-15T09:54:43.166038",
          "exception": false,
          "start_time": "2022-01-15T09:54:42.997763",
          "status": "completed"
        },
        "tags": []
      },
      "source": [
        "# Linear Regression"
      ]
    },
    {
      "cell_type": "markdown",
      "id": "i3xa9068_eFs",
      "metadata": {
        "id": "i3xa9068_eFs"
      },
      "source": [
        "## Select modeling Techniques"
      ]
    },
    {
      "cell_type": "code",
      "execution_count": 10,
      "id": "oaEaF8Wl4pt3",
      "metadata": {
        "colab": {
          "base_uri": "https://localhost:8080/"
        },
        "id": "oaEaF8Wl4pt3",
        "outputId": "6298c487-88a4-4216-cb6f-6e0b6f5d554e"
      },
      "outputs": [
        {
          "name": "stderr",
          "output_type": "stream",
          "text": [
            "2022/11/23 23:15:48 INFO vectice.models.iteration: Step with id: 40 successfully retrieved.\n"
          ]
        }
      ],
      "source": [
        "# Get the Collect Initial Data step\n",
        "modelingSteps = iter.step(\"Select Modeling Techniques\")"
      ]
    },
    {
      "cell_type": "code",
      "execution_count": 11,
      "id": "G0q60GbH_TUy",
      "metadata": {
        "colab": {
          "base_uri": "https://localhost:8080/",
          "height": 532
        },
        "id": "G0q60GbH_TUy",
        "outputId": "2a85529a-bd15-4607-bbfa-3382d262ac86"
      },
      "outputs": [
        {
          "ename": "RuntimeError",
          "evalue": "ignored",
          "output_type": "error",
          "traceback": [
            "\u001b[0;31m---------------------------------------------------------------------------\u001b[0m",
            "\u001b[0;31mTransportQueryError\u001b[0m                       Traceback (most recent call last)",
            "\u001b[0;32m/usr/local/lib/python3.7/dist-packages/vectice/api/step.py\u001b[0m in \u001b[0;36mclose_step\u001b[0;34m(self, step_id, step_update)\u001b[0m\n\u001b[1;32m     87\u001b[0m         \u001b[0;32mtry\u001b[0m\u001b[0;34m:\u001b[0m\u001b[0;34m\u001b[0m\u001b[0;34m\u001b[0m\u001b[0m\n\u001b[0;32m---> 88\u001b[0;31m             \u001b[0mresponse\u001b[0m \u001b[0;34m=\u001b[0m \u001b[0mself\u001b[0m\u001b[0;34m.\u001b[0m\u001b[0mexecute\u001b[0m\u001b[0;34m(\u001b[0m\u001b[0mquery_built\u001b[0m\u001b[0;34m,\u001b[0m \u001b[0mvariables\u001b[0m\u001b[0;34m)\u001b[0m\u001b[0;34m\u001b[0m\u001b[0;34m\u001b[0m\u001b[0m\n\u001b[0m\u001b[1;32m     89\u001b[0m             \u001b[0mstep_output\u001b[0m\u001b[0;34m:\u001b[0m \u001b[0mStepOutput\u001b[0m \u001b[0;34m=\u001b[0m \u001b[0mParser\u001b[0m\u001b[0;34m(\u001b[0m\u001b[0;34m)\u001b[0m\u001b[0;34m.\u001b[0m\u001b[0mparse_item\u001b[0m\u001b[0;34m(\u001b[0m\u001b[0mresponse\u001b[0m\u001b[0;34m[\u001b[0m\u001b[0mgql_query\u001b[0m\u001b[0;34m]\u001b[0m\u001b[0;34m)\u001b[0m\u001b[0;34m\u001b[0m\u001b[0;34m\u001b[0m\u001b[0m\n",
            "\u001b[0;32m/usr/local/lib/python3.7/dist-packages/vectice/api/gql_api.py\u001b[0m in \u001b[0;36mexecute\u001b[0;34m(self, query, variables)\u001b[0m\n\u001b[1;32m     71\u001b[0m         \u001b[0mself\u001b[0m\u001b[0;34m.\u001b[0m\u001b[0mclient\u001b[0m\u001b[0;34m.\u001b[0m\u001b[0mtransport\u001b[0m\u001b[0;34m.\u001b[0m\u001b[0mheaders\u001b[0m \u001b[0;34m=\u001b[0m \u001b[0mself\u001b[0m\u001b[0;34m.\u001b[0m\u001b[0mauth\u001b[0m\u001b[0;34m.\u001b[0m\u001b[0mhttp_headers\u001b[0m\u001b[0;34m\u001b[0m\u001b[0;34m\u001b[0m\u001b[0m\n\u001b[0;32m---> 72\u001b[0;31m         \u001b[0;32mreturn\u001b[0m \u001b[0mself\u001b[0m\u001b[0;34m.\u001b[0m\u001b[0mclient\u001b[0m\u001b[0;34m.\u001b[0m\u001b[0mexecute\u001b[0m\u001b[0;34m(\u001b[0m\u001b[0mquery\u001b[0m\u001b[0;34m,\u001b[0m \u001b[0mvariables\u001b[0m\u001b[0;34m)\u001b[0m\u001b[0;34m\u001b[0m\u001b[0;34m\u001b[0m\u001b[0m\n\u001b[0m\u001b[1;32m     73\u001b[0m \u001b[0;34m\u001b[0m\u001b[0m\n",
            "\u001b[0;32m/usr/local/lib/python3.7/dist-packages/gql/client.py\u001b[0m in \u001b[0;36mexecute\u001b[0;34m(self, document, variable_values, operation_name, serialize_variables, parse_result, get_execution_result, **kwargs)\u001b[0m\n\u001b[1;32m    409\u001b[0m                 \u001b[0mget_execution_result\u001b[0m\u001b[0;34m=\u001b[0m\u001b[0mget_execution_result\u001b[0m\u001b[0;34m,\u001b[0m\u001b[0;34m\u001b[0m\u001b[0;34m\u001b[0m\u001b[0m\n\u001b[0;32m--> 410\u001b[0;31m                 \u001b[0;34m**\u001b[0m\u001b[0mkwargs\u001b[0m\u001b[0;34m,\u001b[0m\u001b[0;34m\u001b[0m\u001b[0;34m\u001b[0m\u001b[0m\n\u001b[0m\u001b[1;32m    411\u001b[0m             )\n",
            "\u001b[0;32m/usr/local/lib/python3.7/dist-packages/gql/client.py\u001b[0m in \u001b[0;36mexecute_sync\u001b[0;34m(self, document, variable_values, operation_name, serialize_variables, parse_result, get_execution_result, **kwargs)\u001b[0m\n\u001b[1;32m    227\u001b[0m                 \u001b[0mget_execution_result\u001b[0m\u001b[0;34m=\u001b[0m\u001b[0mget_execution_result\u001b[0m\u001b[0;34m,\u001b[0m\u001b[0;34m\u001b[0m\u001b[0;34m\u001b[0m\u001b[0m\n\u001b[0;32m--> 228\u001b[0;31m                 \u001b[0;34m**\u001b[0m\u001b[0mkwargs\u001b[0m\u001b[0;34m,\u001b[0m\u001b[0;34m\u001b[0m\u001b[0;34m\u001b[0m\u001b[0m\n\u001b[0m\u001b[1;32m    229\u001b[0m             )\n",
            "\u001b[0;32m/usr/local/lib/python3.7/dist-packages/gql/client.py\u001b[0m in \u001b[0;36mexecute\u001b[0;34m(self, document, variable_values, operation_name, serialize_variables, parse_result, get_execution_result, **kwargs)\u001b[0m\n\u001b[1;32m    863\u001b[0m                 \u001b[0mdata\u001b[0m\u001b[0;34m=\u001b[0m\u001b[0mresult\u001b[0m\u001b[0;34m.\u001b[0m\u001b[0mdata\u001b[0m\u001b[0;34m,\u001b[0m\u001b[0;34m\u001b[0m\u001b[0;34m\u001b[0m\u001b[0m\n\u001b[0;32m--> 864\u001b[0;31m                 \u001b[0mextensions\u001b[0m\u001b[0;34m=\u001b[0m\u001b[0mresult\u001b[0m\u001b[0;34m.\u001b[0m\u001b[0mextensions\u001b[0m\u001b[0;34m,\u001b[0m\u001b[0;34m\u001b[0m\u001b[0;34m\u001b[0m\u001b[0m\n\u001b[0m\u001b[1;32m    865\u001b[0m             )\n",
            "\u001b[0;31mTransportQueryError\u001b[0m: {'message': 'IterationStep 40 is already completed.', 'locations': [{'line': 2, 'column': 3}], 'path': ['completeIterationStep'], 'extensions': {'code': 'BAD_REQUEST', 'exception': {'status': 400, 'stacktrace': ['BadRequestServiceError: IterationStep 40 is already completed.']}}}",
            "\nDuring handling of the above exception, another exception occurred:\n",
            "\u001b[0;31mRuntimeError\u001b[0m                              Traceback (most recent call last)",
            "\u001b[0;32m/usr/local/lib/python3.7/dist-packages/vectice/models/step.py\u001b[0m in \u001b[0;36mclose\u001b[0;34m(self, message, dataset_versions)\u001b[0m\n\u001b[1;32m    118\u001b[0m         \u001b[0;32mtry\u001b[0m\u001b[0;34m:\u001b[0m\u001b[0;34m\u001b[0m\u001b[0;34m\u001b[0m\u001b[0m\n\u001b[0;32m--> 119\u001b[0;31m             \u001b[0mself\u001b[0m\u001b[0;34m.\u001b[0m\u001b[0m_client\u001b[0m\u001b[0;34m.\u001b[0m\u001b[0mclose_step\u001b[0m\u001b[0;34m(\u001b[0m\u001b[0mself\u001b[0m\u001b[0;34m.\u001b[0m\u001b[0mid\u001b[0m\u001b[0;34m,\u001b[0m \u001b[0mmessage\u001b[0m\u001b[0;34m,\u001b[0m \u001b[0martifacts_input\u001b[0m\u001b[0;34m)\u001b[0m\u001b[0;34m\u001b[0m\u001b[0;34m\u001b[0m\u001b[0m\n\u001b[0m\u001b[1;32m    120\u001b[0m             \u001b[0;32mfor\u001b[0m \u001b[0mlog\u001b[0m \u001b[0;32min\u001b[0m \u001b[0martifacts_logs\u001b[0m\u001b[0;34m:\u001b[0m\u001b[0;34m\u001b[0m\u001b[0;34m\u001b[0m\u001b[0m\n",
            "\u001b[0;32m/usr/local/lib/python3.7/dist-packages/vectice/api/client.py\u001b[0m in \u001b[0;36mclose_step\u001b[0;34m(self, step_id, message, artifacts)\u001b[0m\n\u001b[1;32m   1467\u001b[0m         \u001b[0mstep_update\u001b[0m \u001b[0;34m=\u001b[0m \u001b[0mStepUpdateInput\u001b[0m\u001b[0;34m(\u001b[0m\u001b[0mtext\u001b[0m\u001b[0;34m=\u001b[0m\u001b[0mmessage\u001b[0m\u001b[0;34m,\u001b[0m \u001b[0martifacts\u001b[0m\u001b[0;34m=\u001b[0m\u001b[0martifacts\u001b[0m\u001b[0;34m)\u001b[0m\u001b[0;34m\u001b[0m\u001b[0;34m\u001b[0m\u001b[0m\n\u001b[0;32m-> 1468\u001b[0;31m         \u001b[0;32mreturn\u001b[0m \u001b[0mStepApi\u001b[0m\u001b[0;34m(\u001b[0m\u001b[0mself\u001b[0m\u001b[0;34m.\u001b[0m\u001b[0m_gql_client\u001b[0m\u001b[0;34m,\u001b[0m \u001b[0mself\u001b[0m\u001b[0;34m.\u001b[0m\u001b[0mauth\u001b[0m\u001b[0;34m)\u001b[0m\u001b[0;34m.\u001b[0m\u001b[0mclose_step\u001b[0m\u001b[0;34m(\u001b[0m\u001b[0mstep_id\u001b[0m\u001b[0;34m,\u001b[0m \u001b[0mstep_update\u001b[0m\u001b[0;34m)\u001b[0m\u001b[0;34m\u001b[0m\u001b[0;34m\u001b[0m\u001b[0m\n\u001b[0m\u001b[1;32m   1469\u001b[0m \u001b[0;34m\u001b[0m\u001b[0m\n",
            "\u001b[0;32m/usr/local/lib/python3.7/dist-packages/vectice/api/step.py\u001b[0m in \u001b[0;36mclose_step\u001b[0;34m(self, step_id, step_update)\u001b[0m\n\u001b[1;32m     91\u001b[0m         \u001b[0;32mexcept\u001b[0m \u001b[0mTransportQueryError\u001b[0m \u001b[0;32mas\u001b[0m \u001b[0me\u001b[0m\u001b[0;34m:\u001b[0m\u001b[0;34m\u001b[0m\u001b[0;34m\u001b[0m\u001b[0m\n\u001b[0;32m---> 92\u001b[0;31m             \u001b[0;32mraise\u001b[0m \u001b[0mself\u001b[0m\u001b[0;34m.\u001b[0m\u001b[0m_error_handler\u001b[0m\u001b[0;34m.\u001b[0m\u001b[0mhandle_put_gql_error\u001b[0m\u001b[0;34m(\u001b[0m\u001b[0me\u001b[0m\u001b[0;34m,\u001b[0m \u001b[0;34m\"step\"\u001b[0m\u001b[0;34m,\u001b[0m \u001b[0mstep_id\u001b[0m\u001b[0;34m)\u001b[0m\u001b[0;34m\u001b[0m\u001b[0;34m\u001b[0m\u001b[0m\n\u001b[0m\u001b[1;32m     93\u001b[0m \u001b[0;34m\u001b[0m\u001b[0m\n",
            "\u001b[0;31mRuntimeError\u001b[0m: Can not access step: ['BadRequestServiceError: IterationStep 40 is already completed.']",
            "\nDuring handling of the above exception, another exception occurred:\n",
            "\u001b[0;31mRuntimeError\u001b[0m                              Traceback (most recent call last)",
            "\u001b[0;32m<ipython-input-11-f0535aaea216>\u001b[0m in \u001b[0;36m<module>\u001b[0;34m\u001b[0m\n\u001b[1;32m      1\u001b[0m \u001b[0;31m# In our first step, we don t have any attachements but we need to document the model technique we selected\u001b[0m\u001b[0;34m\u001b[0m\u001b[0;34m\u001b[0m\u001b[0;34m\u001b[0m\u001b[0m\n\u001b[1;32m      2\u001b[0m \u001b[0;31m# Replase ____ by close to log your message to the corresponding step\u001b[0m\u001b[0;34m\u001b[0m\u001b[0;34m\u001b[0m\u001b[0;34m\u001b[0m\u001b[0m\n\u001b[0;32m----> 3\u001b[0;31m \u001b[0mmodelingSteps\u001b[0m\u001b[0;34m.\u001b[0m\u001b[0mclose\u001b[0m\u001b[0;34m(\u001b[0m\u001b[0mmessage\u001b[0m\u001b[0;34m=\u001b[0m\u001b[0;34m\"Following Shyam Iteration, we decide to create an improved Linear regression Model with fewer parameters.\"\u001b[0m\u001b[0;34m)\u001b[0m\u001b[0;34m\u001b[0m\u001b[0;34m\u001b[0m\u001b[0m\n\u001b[0m\u001b[1;32m      4\u001b[0m \u001b[0;34m\u001b[0m\u001b[0m\n\u001b[1;32m      5\u001b[0m \u001b[0;31m#see the below API respond confirming your message is now on Vectice\u001b[0m\u001b[0;34m\u001b[0m\u001b[0;34m\u001b[0m\u001b[0;34m\u001b[0m\u001b[0m\n",
            "\u001b[0;32m/usr/local/lib/python3.7/dist-packages/vectice/models/step.py\u001b[0m in \u001b[0;36mclose\u001b[0;34m(self, message, dataset_versions)\u001b[0m\n\u001b[1;32m    122\u001b[0m             \u001b[0m_logger\u001b[0m\u001b[0;34m.\u001b[0m\u001b[0minfo\u001b[0m\u001b[0;34m(\u001b[0m\u001b[0;34mf\"{self.name} was successfully closed.\"\u001b[0m\u001b[0;34m)\u001b[0m\u001b[0;34m\u001b[0m\u001b[0;34m\u001b[0m\u001b[0m\n\u001b[1;32m    123\u001b[0m         \u001b[0;32mexcept\u001b[0m \u001b[0mException\u001b[0m \u001b[0;32mas\u001b[0m \u001b[0me\u001b[0m\u001b[0;34m:\u001b[0m\u001b[0;34m\u001b[0m\u001b[0;34m\u001b[0m\u001b[0m\n\u001b[0;32m--> 124\u001b[0;31m             \u001b[0;32mraise\u001b[0m \u001b[0mRuntimeError\u001b[0m\u001b[0;34m(\u001b[0m\u001b[0;34mf\"The step failed to close and artifacts were not handled. Due to the following:\\n{e}\"\u001b[0m\u001b[0;34m)\u001b[0m\u001b[0;34m\u001b[0m\u001b[0;34m\u001b[0m\u001b[0m\n\u001b[0m",
            "\u001b[0;31mRuntimeError\u001b[0m: The step failed to close and artifacts were not handled. Due to the following:\nCan not access step: ['BadRequestServiceError: IterationStep 40 is already completed.']"
          ]
        }
      ],
      "source": [
        "# In our first step, we don t have any attachements but we need to document the model technique we selected  \n",
        "# Replase ____ by close to log your message to the corresponding step\n",
        "modelingSteps.close(message=\"Following Shyam Iteration, we decide to create an improved Linear regression Model with fewer parameters.\")\n",
        "\n",
        "#see the below API respond confirming your message is now on Vectice"
      ]
    },
    {
      "cell_type": "markdown",
      "id": "pG7J6w0VxtIB",
      "metadata": {
        "id": "pG7J6w0VxtIB"
      },
      "source": [
        "##Generate Test Design"
      ]
    },
    {
      "cell_type": "code",
      "execution_count": 12,
      "id": "DagrLmg9_rMM",
      "metadata": {
        "colab": {
          "base_uri": "https://localhost:8080/"
        },
        "id": "DagrLmg9_rMM",
        "outputId": "65d670db-e6e8-4d9c-bd18-47b28f68113e"
      },
      "outputs": [
        {
          "name": "stderr",
          "output_type": "stream",
          "text": [
            "2022/11/23 23:16:23 INFO vectice.models.iteration: Step with id: 39 successfully retrieved.\n"
          ]
        }
      ],
      "source": [
        "# Get the Collect Initial Data step\n",
        "modelingSteps = iter.step(\"Generate Test Design\")"
      ]
    },
    {
      "cell_type": "code",
      "execution_count": 13,
      "id": "iFgf3kVMz_Hu",
      "metadata": {
        "colab": {
          "base_uri": "https://localhost:8080/"
        },
        "id": "iFgf3kVMz_Hu",
        "outputId": "6689ffd3-288b-49b2-c3b5-9504727c092d"
      },
      "outputs": [
        {
          "name": "stderr",
          "output_type": "stream",
          "text": [
            "2022/11/23 23:16:26 INFO vectice.models.datasource.datawrapper.file_data_wrapper: File: r4modeling.csv wrapped successfully.\n",
            "2022/11/23 23:16:26 INFO vectice.api.client: Successfully registered Dataset(name='Ready4modeling', id=327, version='Version 1', type=ORIGIN).\n",
            "2022/11/23 23:16:27 INFO vectice.models.phase: Iteration with id: 11 successfully retrieved.\n",
            "2022/11/23 23:16:27 INFO vectice.models.project: Successfully added Dataset(name='Ready4modeling', id=327, version='Version 1', type=ORIGIN) to Generate Test Design\n"
          ]
        }
      ],
      "source": [
        "#read the dataset\n",
        "r4m =pd.read_csv(\"r4modeling.csv\")\n",
        "\n",
        "#record the dataset usafe to Vectice\n",
        "r4m_file_wrapped = FileDataWrapper(path=\"r4modeling.csv\", name=\"Ready4modeling\")\n",
        "retail_project.origin_dataset = r4m_file_wrapped"
      ]
    },
    {
      "cell_type": "code",
      "execution_count": 30,
      "id": "j3mFoQpkz_Hv",
      "metadata": {
        "id": "j3mFoQpkz_Hv"
      },
      "outputs": [],
      "source": [
        "test_size = 0.20\n",
        "# We will set the random seed so we always generate the same split.\n",
        "random_state = 42\n",
        "\n",
        "train, test = train_test_split(r4m, test_size = test_size, random_state = random_state)\n",
        "\n",
        "\n",
        "# Generate X_train, X_test, y_train, y_test, which we will need for modeling\n",
        "X = r4m.drop(['unit_sales'], axis=1)\n",
        "y = r4m[\"unit_sales\"]\n",
        "X_train, X_test, y_train, y_test = train_test_split(X, y, test_size=test_size, random_state=random_state)\n",
        "\n",
        "# Generate our 2 new datasets for training and testing\n",
        "train.to_csv(\"train_lr.csv\")\n",
        "test.to_csv(\"test_lr.csv\")"
      ]
    },
    {
      "cell_type": "code",
      "execution_count": 28,
      "id": "U7cLLblYyq8w",
      "metadata": {
        "id": "U7cLLblYyq8w"
      },
      "outputs": [],
      "source": [
        "r4m=r4m.fillna(0) "
      ]
    },
    {
      "cell_type": "code",
      "execution_count": 15,
      "id": "3-PWMymZbr30",
      "metadata": {
        "colab": {
          "base_uri": "https://localhost:8080/"
        },
        "id": "3-PWMymZbr30",
        "outputId": "bffd6287-086c-410d-d218-71b415e4cc0b"
      },
      "outputs": [
        {
          "name": "stderr",
          "output_type": "stream",
          "text": [
            "2022/11/23 23:16:42 INFO vectice.models.datasource.datawrapper.file_data_wrapper: File: train_lr.csv wrapped successfully.\n",
            "2022/11/23 23:16:42 INFO vectice.models.datasource.datawrapper.file_data_wrapper: File: test_lr.csv wrapped successfully.\n"
          ]
        }
      ],
      "source": [
        "# Add the newly created train and test dataset to be saved and logged in Vectice\n",
        "train_file_wrapped = vectice.FileDataWrapper(path=\"train_lr.csv\", name=\"Train Dataset for Linear Regression\")\n",
        "test_file_wrapped = vectice.FileDataWrapper(path=\"test_lr.csv\", name=\"Test Dataset for Linear Regression\")"
      ]
    },
    {
      "cell_type": "code",
      "execution_count": 16,
      "id": "TncDf0yv_uUF",
      "metadata": {
        "colab": {
          "base_uri": "https://localhost:8080/"
        },
        "id": "TncDf0yv_uUF",
        "outputId": "e3fd798a-dfe2-4775-8041-f26b2cf22c77"
      },
      "outputs": [
        {
          "name": "stderr",
          "output_type": "stream",
          "text": [
            "2022/11/23 23:16:45 INFO vectice.models.step: Generate Test Design was successfully closed.\n"
          ]
        }
      ],
      "source": [
        "#Now that we completed this step, let's close it with a message to let our coworker know what we achieved in the webb app\n",
        "modelingSteps.close(message=\"With our improved linear regression we expect better results on the RSME and the MAE as some tuning has been done and this is not a row linear regression anymore\")"
      ]
    },
    {
      "cell_type": "markdown",
      "id": "F79z6RkZAAL3",
      "metadata": {
        "id": "F79z6RkZAAL3"
      },
      "source": [
        "## Build Model"
      ]
    },
    {
      "cell_type": "code",
      "execution_count": 26,
      "id": "bU_-3WMJAErQ",
      "metadata": {
        "id": "bU_-3WMJAErQ"
      },
      "outputs": [],
      "source": [
        "# Get the Build Model step\n",
        "modelingSteps = iter.step(\"Build Model\")"
      ]
    },
    {
      "cell_type": "markdown",
      "id": "3PnFDr12x3ex",
      "metadata": {
        "id": "3PnFDr12x3ex"
      },
      "source": [
        "### Linear Regression"
      ]
    },
    {
      "cell_type": "code",
      "execution_count": 31,
      "id": "mDlAxPxgz_H1",
      "metadata": {
        "colab": {
          "base_uri": "https://localhost:8080/"
        },
        "id": "mDlAxPxgz_H1",
        "outputId": "62f97927-296b-4e68-ef3e-df0972a40083"
      },
      "outputs": [
        {
          "name": "stdout",
          "output_type": "stream",
          "text": [
            "predicted responses:\n",
            " [-0.08408611  0.09856632 -0.06820865 ... -0.05892351 -0.06532665\n",
            " -0.07608528]\n",
            "\n",
            " root_mean_squared_error:  1347692.5026021237\n",
            "mean_absolute_error:  10958.029858989928\n"
          ]
        }
      ],
      "source": [
        "#Lets create a linear regression model\n",
        "model = LinearRegression()\n",
        "\n",
        "results= model.fit(X_train.values, y_train.values)\n",
        "    \n",
        "pred = model.predict(X_test.values)\n",
        "\n",
        "print(f\"predicted responses:\\n {pred}\")\n",
        "    \n",
        "RMSE = np.sqrt(mean_squared_error(y_test.values, pred))\n",
        "MAE = mean_absolute_error(y_test.values, pred)\n",
        "\n",
        "print(\"\\n root_mean_squared_error: \",RMSE) \n",
        "print(\"mean_absolute_error: \", MAE)\n",
        "\n",
        "metrics = {\"RMSE\": RMSE, \"MAE\": MAE}"
      ]
    },
    {
      "cell_type": "code",
      "execution_count": 34,
      "id": "w29MOHcB1hhd",
      "metadata": {
        "colab": {
          "base_uri": "https://localhost:8080/",
          "height": 659
        },
        "id": "w29MOHcB1hhd",
        "outputId": "3d072643-c87f-4b7c-f2a4-be891e4a562f"
      },
      "outputs": [
        {
          "ename": "ValueError",
          "evalue": "ignored",
          "output_type": "error",
          "traceback": [
            "\u001b[0;31m---------------------------------------------------------------------------\u001b[0m",
            "\u001b[0;31mValueError\u001b[0m                                Traceback (most recent call last)",
            "\u001b[0;32m<ipython-input-34-2ed3977b03bb>\u001b[0m in \u001b[0;36m<module>\u001b[0;34m\u001b[0m\n\u001b[0;32m----> 1\u001b[0;31m \u001b[0mplt\u001b[0m\u001b[0;34m.\u001b[0m\u001b[0mscatter\u001b[0m\u001b[0;34m(\u001b[0m\u001b[0mX_train\u001b[0m\u001b[0;34m,\u001b[0m \u001b[0my_train\u001b[0m \u001b[0;34m,\u001b[0m\u001b[0mcolor\u001b[0m\u001b[0;34m=\u001b[0m\u001b[0;34m'g'\u001b[0m\u001b[0;34m)\u001b[0m\u001b[0;34m\u001b[0m\u001b[0;34m\u001b[0m\u001b[0m\n\u001b[0m\u001b[1;32m      2\u001b[0m \u001b[0mplt\u001b[0m\u001b[0;34m.\u001b[0m\u001b[0mplot\u001b[0m\u001b[0;34m(\u001b[0m\u001b[0mX_test\u001b[0m\u001b[0;34m,\u001b[0m \u001b[0mpred\u001b[0m\u001b[0;34m,\u001b[0m\u001b[0mcolor\u001b[0m\u001b[0;34m=\u001b[0m\u001b[0;34m'k'\u001b[0m\u001b[0;34m)\u001b[0m\u001b[0;34m\u001b[0m\u001b[0;34m\u001b[0m\u001b[0m\n\u001b[1;32m      3\u001b[0m \u001b[0;34m\u001b[0m\u001b[0m\n\u001b[1;32m      4\u001b[0m \u001b[0mplt\u001b[0m\u001b[0;34m.\u001b[0m\u001b[0mshow\u001b[0m\u001b[0;34m(\u001b[0m\u001b[0;34m)\u001b[0m\u001b[0;34m\u001b[0m\u001b[0;34m\u001b[0m\u001b[0m\n\u001b[1;32m      5\u001b[0m \u001b[0mplt\u001b[0m\u001b[0;34m.\u001b[0m\u001b[0msavefig\u001b[0m\u001b[0;34m(\u001b[0m\u001b[0;34m\"regression_graph.png\"\u001b[0m\u001b[0;34m)\u001b[0m\u001b[0;34m\u001b[0m\u001b[0;34m\u001b[0m\u001b[0m\n",
            "\u001b[0;32m/usr/local/lib/python3.7/dist-packages/matplotlib/pyplot.py\u001b[0m in \u001b[0;36mscatter\u001b[0;34m(x, y, s, c, marker, cmap, norm, vmin, vmax, alpha, linewidths, verts, edgecolors, plotnonfinite, data, **kwargs)\u001b[0m\n\u001b[1;32m   2814\u001b[0m         \u001b[0mverts\u001b[0m\u001b[0;34m=\u001b[0m\u001b[0mverts\u001b[0m\u001b[0;34m,\u001b[0m \u001b[0medgecolors\u001b[0m\u001b[0;34m=\u001b[0m\u001b[0medgecolors\u001b[0m\u001b[0;34m,\u001b[0m\u001b[0;34m\u001b[0m\u001b[0;34m\u001b[0m\u001b[0m\n\u001b[1;32m   2815\u001b[0m         plotnonfinite=plotnonfinite, **({\"data\": data} if data is not\n\u001b[0;32m-> 2816\u001b[0;31m         None else {}), **kwargs)\n\u001b[0m\u001b[1;32m   2817\u001b[0m     \u001b[0msci\u001b[0m\u001b[0;34m(\u001b[0m\u001b[0m__ret\u001b[0m\u001b[0;34m)\u001b[0m\u001b[0;34m\u001b[0m\u001b[0;34m\u001b[0m\u001b[0m\n\u001b[1;32m   2818\u001b[0m     \u001b[0;32mreturn\u001b[0m \u001b[0m__ret\u001b[0m\u001b[0;34m\u001b[0m\u001b[0;34m\u001b[0m\u001b[0m\n",
            "\u001b[0;32m/usr/local/lib/python3.7/dist-packages/matplotlib/__init__.py\u001b[0m in \u001b[0;36minner\u001b[0;34m(ax, data, *args, **kwargs)\u001b[0m\n\u001b[1;32m   1563\u001b[0m     \u001b[0;32mdef\u001b[0m \u001b[0minner\u001b[0m\u001b[0;34m(\u001b[0m\u001b[0max\u001b[0m\u001b[0;34m,\u001b[0m \u001b[0;34m*\u001b[0m\u001b[0margs\u001b[0m\u001b[0;34m,\u001b[0m \u001b[0mdata\u001b[0m\u001b[0;34m=\u001b[0m\u001b[0;32mNone\u001b[0m\u001b[0;34m,\u001b[0m \u001b[0;34m**\u001b[0m\u001b[0mkwargs\u001b[0m\u001b[0;34m)\u001b[0m\u001b[0;34m:\u001b[0m\u001b[0;34m\u001b[0m\u001b[0;34m\u001b[0m\u001b[0m\n\u001b[1;32m   1564\u001b[0m         \u001b[0;32mif\u001b[0m \u001b[0mdata\u001b[0m \u001b[0;32mis\u001b[0m \u001b[0;32mNone\u001b[0m\u001b[0;34m:\u001b[0m\u001b[0;34m\u001b[0m\u001b[0;34m\u001b[0m\u001b[0m\n\u001b[0;32m-> 1565\u001b[0;31m             \u001b[0;32mreturn\u001b[0m \u001b[0mfunc\u001b[0m\u001b[0;34m(\u001b[0m\u001b[0max\u001b[0m\u001b[0;34m,\u001b[0m \u001b[0;34m*\u001b[0m\u001b[0mmap\u001b[0m\u001b[0;34m(\u001b[0m\u001b[0msanitize_sequence\u001b[0m\u001b[0;34m,\u001b[0m \u001b[0margs\u001b[0m\u001b[0;34m)\u001b[0m\u001b[0;34m,\u001b[0m \u001b[0;34m**\u001b[0m\u001b[0mkwargs\u001b[0m\u001b[0;34m)\u001b[0m\u001b[0;34m\u001b[0m\u001b[0;34m\u001b[0m\u001b[0m\n\u001b[0m\u001b[1;32m   1566\u001b[0m \u001b[0;34m\u001b[0m\u001b[0m\n\u001b[1;32m   1567\u001b[0m         \u001b[0mbound\u001b[0m \u001b[0;34m=\u001b[0m \u001b[0mnew_sig\u001b[0m\u001b[0;34m.\u001b[0m\u001b[0mbind\u001b[0m\u001b[0;34m(\u001b[0m\u001b[0max\u001b[0m\u001b[0;34m,\u001b[0m \u001b[0;34m*\u001b[0m\u001b[0margs\u001b[0m\u001b[0;34m,\u001b[0m \u001b[0;34m**\u001b[0m\u001b[0mkwargs\u001b[0m\u001b[0;34m)\u001b[0m\u001b[0;34m\u001b[0m\u001b[0;34m\u001b[0m\u001b[0m\n",
            "\u001b[0;32m/usr/local/lib/python3.7/dist-packages/matplotlib/cbook/deprecation.py\u001b[0m in \u001b[0;36mwrapper\u001b[0;34m(*args, **kwargs)\u001b[0m\n\u001b[1;32m    356\u001b[0m                 \u001b[0;34mf\"%(removal)s.  If any parameter follows {name!r}, they \"\u001b[0m\u001b[0;34m\u001b[0m\u001b[0;34m\u001b[0m\u001b[0m\n\u001b[1;32m    357\u001b[0m                 f\"should be pass as keyword, not positionally.\")\n\u001b[0;32m--> 358\u001b[0;31m         \u001b[0;32mreturn\u001b[0m \u001b[0mfunc\u001b[0m\u001b[0;34m(\u001b[0m\u001b[0;34m*\u001b[0m\u001b[0margs\u001b[0m\u001b[0;34m,\u001b[0m \u001b[0;34m**\u001b[0m\u001b[0mkwargs\u001b[0m\u001b[0;34m)\u001b[0m\u001b[0;34m\u001b[0m\u001b[0;34m\u001b[0m\u001b[0m\n\u001b[0m\u001b[1;32m    359\u001b[0m \u001b[0;34m\u001b[0m\u001b[0m\n\u001b[1;32m    360\u001b[0m     \u001b[0;32mreturn\u001b[0m \u001b[0mwrapper\u001b[0m\u001b[0;34m\u001b[0m\u001b[0;34m\u001b[0m\u001b[0m\n",
            "\u001b[0;32m/usr/local/lib/python3.7/dist-packages/matplotlib/axes/_axes.py\u001b[0m in \u001b[0;36mscatter\u001b[0;34m(self, x, y, s, c, marker, cmap, norm, vmin, vmax, alpha, linewidths, verts, edgecolors, plotnonfinite, **kwargs)\u001b[0m\n\u001b[1;32m   4389\u001b[0m         \u001b[0my\u001b[0m \u001b[0;34m=\u001b[0m \u001b[0mnp\u001b[0m\u001b[0;34m.\u001b[0m\u001b[0mma\u001b[0m\u001b[0;34m.\u001b[0m\u001b[0mravel\u001b[0m\u001b[0;34m(\u001b[0m\u001b[0my\u001b[0m\u001b[0;34m)\u001b[0m\u001b[0;34m\u001b[0m\u001b[0;34m\u001b[0m\u001b[0m\n\u001b[1;32m   4390\u001b[0m         \u001b[0;32mif\u001b[0m \u001b[0mx\u001b[0m\u001b[0;34m.\u001b[0m\u001b[0msize\u001b[0m \u001b[0;34m!=\u001b[0m \u001b[0my\u001b[0m\u001b[0;34m.\u001b[0m\u001b[0msize\u001b[0m\u001b[0;34m:\u001b[0m\u001b[0;34m\u001b[0m\u001b[0;34m\u001b[0m\u001b[0m\n\u001b[0;32m-> 4391\u001b[0;31m             \u001b[0;32mraise\u001b[0m \u001b[0mValueError\u001b[0m\u001b[0;34m(\u001b[0m\u001b[0;34m\"x and y must be the same size\"\u001b[0m\u001b[0;34m)\u001b[0m\u001b[0;34m\u001b[0m\u001b[0;34m\u001b[0m\u001b[0m\n\u001b[0m\u001b[1;32m   4392\u001b[0m \u001b[0;34m\u001b[0m\u001b[0m\n\u001b[1;32m   4393\u001b[0m         \u001b[0;32mif\u001b[0m \u001b[0ms\u001b[0m \u001b[0;32mis\u001b[0m \u001b[0;32mNone\u001b[0m\u001b[0;34m:\u001b[0m\u001b[0;34m\u001b[0m\u001b[0;34m\u001b[0m\u001b[0m\n",
            "\u001b[0;31mValueError\u001b[0m: x and y must be the same size"
          ]
        },
        {
          "data": {
            "image/png": "[encoded data removed]",
            "text/plain": [
              "<Figure size 432x288 with 1 Axes>"
            ]
          },
          "metadata": {
            "needs_background": "light"
          },
          "output_type": "display_data"
        }
      ],
      "source": [
        "plt.scatter(X_train, y_train ,color='g') \n",
        "plt.plot(X_test, pred,color='k') \n",
        "\n",
        "plt.show()\n",
        "plt.savefig(\"regression_graph.png\")"
      ]
    },
    {
      "cell_type": "code",
      "execution_count": null,
      "id": "3PPsuPhR1bzo",
      "metadata": {
        "id": "3PPsuPhR1bzo"
      },
      "outputs": [],
      "source": [
        "# Let's log the model we trained along with its metrics, as a new version of the \"Regression\" model in Vectice.\n",
        "# Replase ____ by ModelRegister to log your model information to Vectice\n",
        "model = vectice.ModelRegister(name=\"Unit Sales Predictor\", library=\"scikit-learn\", technique=\"linear regression\", metrics=metrics, attachments=\"regression_graph.png\")"
      ]
    },
    {
      "cell_type": "code",
      "execution_count": null,
      "id": "Zi40A4oQ7HWL",
      "metadata": {
        "colab": {
          "base_uri": "https://localhost:8080/"
        },
        "id": "Zi40A4oQ7HWL",
        "outputId": "39f91b0f-6db4-4463-b521-3fcc2bcbd3a9"
      },
      "outputs": [
        {
          "name": "stderr",
          "output_type": "stream",
          "text": [
            "2022/11/18 17:20:40 INFO vectice.models.iteration: Successfully registered Model(name='Unit Sales Predictor', id=153, version='Version 1').\n",
            "2022/11/18 17:20:41 INFO vectice.models.iteration: Step with id: 105 successfully retrieved.\n",
            "2022/11/18 17:20:41 INFO vectice.models.iteration: Successfully added Model(name='Unit Sales Predictor', id=153, version='Version 1') to Build Model\n"
          ]
        }
      ],
      "source": [
        "# Automatically adds to step from above\n",
        "# If no step is selected during session then it defaults to active iteration and currently active step\n",
        "iter.model = model"
      ]
    },
    {
      "cell_type": "code",
      "execution_count": 35,
      "id": "FRPP9IqT7IFh",
      "metadata": {
        "colab": {
          "base_uri": "https://localhost:8080/",
          "height": 187
        },
        "id": "FRPP9IqT7IFh",
        "outputId": "f5ad1867-2a3c-4894-b82e-c2f177b4f3d2"
      },
      "outputs": [
        {
          "ename": "AttributeError",
          "evalue": "ignored",
          "output_type": "error",
          "traceback": [
            "\u001b[0;31m---------------------------------------------------------------------------\u001b[0m",
            "\u001b[0;31mAttributeError\u001b[0m                            Traceback (most recent call last)",
            "\u001b[0;32m<ipython-input-35-416e080af047>\u001b[0m in \u001b[0;36m<module>\u001b[0;34m\u001b[0m\n\u001b[0;32m----> 1\u001b[0;31m \u001b[0mmodelingSteps\u001b[0m\u001b[0;34m.\u001b[0m\u001b[0mclose\u001b[0m\u001b[0;34m(\u001b[0m\u001b[0mmessage\u001b[0m\u001b[0;34m=\u001b[0m\u001b[0;34m\"RMSE=\"\u001b[0m \u001b[0;34m+\u001b[0m \u001b[0mstr\u001b[0m\u001b[0;34m(\u001b[0m\u001b[0mmetrics\u001b[0m\u001b[0;34m.\u001b[0m\u001b[0mvalue\u001b[0m\u001b[0;34m[\u001b[0m\u001b[0;36m0\u001b[0m\u001b[0;34m]\u001b[0m\u001b[0;34m)\u001b[0m \u001b[0;34m+\u001b[0m  \u001b[0;34m\"and MAE=\"\u001b[0m \u001b[0;34m+\u001b[0m \u001b[0mstr\u001b[0m\u001b[0;34m(\u001b[0m\u001b[0mmetrics\u001b[0m\u001b[0;34m.\u001b[0m\u001b[0mvalue\u001b[0m\u001b[0;34m[\u001b[0m\u001b[0;36m1\u001b[0m\u001b[0;34m]\u001b[0m\u001b[0;34m)\u001b[0m\u001b[0;34m)\u001b[0m\u001b[0;34m\u001b[0m\u001b[0;34m\u001b[0m\u001b[0m\n\u001b[0m\u001b[1;32m      2\u001b[0m \u001b[0;31m# you should be able to see the model in the ui, with the name, metrics, algorithm\u001b[0m\u001b[0;34m\u001b[0m\u001b[0;34m\u001b[0m\u001b[0;34m\u001b[0m\u001b[0m\n",
            "\u001b[0;31mAttributeError\u001b[0m: 'dict' object has no attribute 'value'"
          ]
        }
      ],
      "source": [
        "modelingSteps.close(message=\"RMSE=\" + str(metrics.value[0]) +  \"and MAE=\" + str(metrics.value[1])) \n",
        "# you should be able to see the model in the ui, with the name, metrics, algorithm"
      ]
    },
    {
      "cell_type": "markdown",
      "id": "KyPTA029AYNf",
      "metadata": {
        "id": "KyPTA029AYNf"
      },
      "source": [
        "##Assess Model"
      ]
    },
    {
      "cell_type": "code",
      "execution_count": null,
      "id": "1MYmf_QHAeQS",
      "metadata": {
        "colab": {
          "base_uri": "https://localhost:8080/"
        },
        "id": "1MYmf_QHAeQS",
        "outputId": "bc087138-5457-43f1-d2b1-88286c94486d"
      },
      "outputs": [
        {
          "name": "stderr",
          "output_type": "stream",
          "text": [
            "2022/11/18 17:31:25 INFO vectice.models.iteration: Step with id: 106 successfully retrieved.\n"
          ]
        }
      ],
      "source": [
        "# Get the Collect Initial Data step\n",
        "modelingSteps = iter.step(\"Assess model\")"
      ]
    },
    {
      "cell_type": "code",
      "execution_count": null,
      "id": "UHIqtI-3Ajbe",
      "metadata": {
        "colab": {
          "base_uri": "https://localhost:8080/"
        },
        "id": "UHIqtI-3Ajbe",
        "outputId": "538ffd9e-05e4-479a-9a86-3ccc65bafe4f"
      },
      "outputs": [
        {
          "name": "stderr",
          "output_type": "stream",
          "text": [
            "2022/11/18 17:31:26 INFO vectice.models.step: Assess model was successfully closed.\n"
          ]
        }
      ],
      "source": [
        "modelingSteps.close(message=\"As expected the model performs better however this is not good enough and we should try a different method. We recommend doing a Random Forest as a new iteration\")"
      ]
    }
  ],
  "metadata": {
    "colab": {
      "machine_shape": "hm",
      "provenance": []
    },
    "environment": {
      "kernel": "python3",
      "name": "common-cpu.m94",
      "type": "gcloud",
      "uri": "gcr.io/deeplearning-platform-release/base-cpu:m94"
    },
    "gpuClass": "standard",
    "kernelspec": {
      "display_name": "Python 3.9.2 64-bit",
      "language": "python",
      "name": "python3"
    },
    "language_info": {
      "codemirror_mode": {
        "name": "ipython",
        "version": 3
      },
      "file_extension": ".py",
      "mimetype": "text/x-python",
      "name": "python",
      "nbconvert_exporter": "python",
      "pygments_lexer": "ipython3",
      "version": "3.9.2"
    },
    "papermill": {
      "default_parameters": {},
      "duration": 4527.062431,
      "end_time": "2022-01-15T11:06:02.218444",
      "environment_variables": {},
      "exception": null,
      "input_path": "__notebook__.ipynb",
      "output_path": "__notebook__.ipynb",
      "parameters": {},
      "start_time": "2022-01-15T09:50:35.156013",
      "version": "2.3.3"
    },
    "vscode": {
      "interpreter": {
        "hash": "397704579725e15f5c7cb49fe5f0341eb7531c82d19f2c29d197e8b64ab5776b"
      }
    }
  },
  "nbformat": 4,
  "nbformat_minor": 5
}
