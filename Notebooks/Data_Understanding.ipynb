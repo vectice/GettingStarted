{
  "cells": [
    {
      "cell_type": "markdown",
      "source": [
        "#Before your start with this Tutorial\n",
        "\n",
        "**Tutorial Intention:** Providing an example of iteration and related step on a modeling phase for you to:\n",
        "\n",
        "*   Experience the data science lifecycle using Vectice\n",
        "*   See how simple it is to connect your notebook to Vectice\n",
        "*   Learn how to structure and log your work using Vectice\n",
        "\n",
        "**Resources needed:**\n",
        "*   Forecast Unit Sales Tutorial Project: You can find it as part of your personal workspace named after your name\n",
        "*   Vectice Webapp Documentation: \n",
        "*   Vectice API documentation: \n",
        "\n"
      ],
      "metadata": {
        "id": "dVBtetrcYTrN"
      }
    },
    {
      "cell_type": "markdown",
      "source": [
        "#PIP Install Packages"
      ],
      "metadata": {
        "id": "HilzKVwhI3pO"
      }
    },
    {
      "cell_type": "code",
      "source": [
        "!pip install -q python-dotenv gql Deprecated requests_toolbelt\n",
        "!pip install --index-url https://test.pypi.org/simple/ vectice==22.4.9.0b4"
      ],
      "metadata": {
        "colab": {
          "base_uri": "https://localhost:8080/",
          "height": 589
        },
        "id": "jKmib-N-WZlf",
        "outputId": "229c57b0-ff5a-4789-fed7-7715c0a942cb"
      },
      "execution_count": null,
      "outputs": [
        {
          "output_type": "stream",
          "name": "stdout",
          "text": [
            "\u001b[31mERROR: pip's dependency resolver does not currently take into account all the packages that are installed. This behaviour is the source of the following dependency conflicts.\n",
            "aiobotocore 2.4.0 requires botocore<1.27.60,>=1.27.59, but you have botocore 1.29.15 which is incompatible.\u001b[0m\n",
            "Looking in indexes: https://test.pypi.org/simple/, https://us-python.pkg.dev/colab-wheels/public/simple/\n",
            "Collecting vectice==22.4.9.0b4\n",
            "  Downloading https://test-files.pythonhosted.org/packages/11/9a/d8343effbf820369e0f86e0fa8660f012d6a209e07bf2b3433a9f90e81bf/vectice-22.4.9.0b4-py2.py3-none-any.whl (127 kB)\n",
            "\u001b[K     |████████████████████████████████| 127 kB 4.9 MB/s \n",
            "\u001b[?25hRequirement already satisfied: urllib3 in /usr/local/lib/python3.7/dist-packages (from vectice==22.4.9.0b4) (1.25.11)\n",
            "Requirement already satisfied: gql in /usr/local/lib/python3.7/dist-packages (from vectice==22.4.9.0b4) (3.4.0)\n",
            "Requirement already satisfied: Deprecated in /usr/local/lib/python3.7/dist-packages (from vectice==22.4.9.0b4) (1.2.13)\n",
            "Requirement already satisfied: python-dotenv>=0.11.0 in /usr/local/lib/python3.7/dist-packages (from vectice==22.4.9.0b4) (0.21.0)\n",
            "Requirement already satisfied: requests>=2.5.0 in /usr/local/lib/python3.7/dist-packages (from vectice==22.4.9.0b4) (2.23.0)\n",
            "Requirement already satisfied: certifi>=2017.4.17 in /usr/local/lib/python3.7/dist-packages (from requests>=2.5.0->vectice==22.4.9.0b4) (2022.9.24)\n",
            "Requirement already satisfied: idna<3,>=2.5 in /usr/local/lib/python3.7/dist-packages (from requests>=2.5.0->vectice==22.4.9.0b4) (2.10)\n",
            "Requirement already satisfied: chardet<4,>=3.0.2 in /usr/local/lib/python3.7/dist-packages (from requests>=2.5.0->vectice==22.4.9.0b4) (3.0.4)\n",
            "Requirement already satisfied: wrapt<2,>=1.10 in /usr/local/lib/python3.7/dist-packages (from Deprecated->vectice==22.4.9.0b4) (1.14.1)\n",
            "Requirement already satisfied: backoff<3.0,>=1.11.1 in /usr/local/lib/python3.7/dist-packages (from gql->vectice==22.4.9.0b4) (2.2.1)\n",
            "Requirement already satisfied: yarl<2.0,>=1.6 in /usr/local/lib/python3.7/dist-packages (from gql->vectice==22.4.9.0b4) (1.8.1)\n",
            "Requirement already satisfied: graphql-core<3.3,>=3.2 in /usr/local/lib/python3.7/dist-packages (from gql->vectice==22.4.9.0b4) (3.2.3)\n",
            "Requirement already satisfied: typing-extensions<5,>=4.2 in /usr/local/lib/python3.7/dist-packages (from graphql-core<3.3,>=3.2->gql->vectice==22.4.9.0b4) (4.4.0)\n",
            "Requirement already satisfied: multidict>=4.0 in /usr/local/lib/python3.7/dist-packages (from yarl<2.0,>=1.6->gql->vectice==22.4.9.0b4) (6.0.2)\n",
            "Installing collected packages: vectice\n",
            "  Attempting uninstall: vectice\n",
            "    Found existing installation: vectice 22.4.7.1\n",
            "    Uninstalling vectice-22.4.7.1:\n",
            "      Successfully uninstalled vectice-22.4.7.1\n",
            "Successfully installed vectice-22.4.9.0b4\n"
          ]
        },
        {
          "output_type": "display_data",
          "data": {
            "application/vnd.colab-display-data+json": {
              "pip_warning": {
                "packages": [
                  "vectice"
                ]
              }
            }
          },
          "metadata": {}
        }
      ]
    },
    {
      "cell_type": "code",
      "source": [
        "!pip install --q squarify\n",
        "!pip install --q s3fs\n",
        "!pip install --upgrade boto3\n",
        "!pip install --q plotly"
      ],
      "metadata": {
        "colab": {
          "base_uri": "https://localhost:8080/"
        },
        "id": "tyQZ1xOOWY1m",
        "outputId": "764f624c-e86a-4fc8-d73d-1f5756c194ac"
      },
      "execution_count": null,
      "outputs": [
        {
          "output_type": "stream",
          "name": "stdout",
          "text": [
            "\u001b[31mERROR: pip's dependency resolver does not currently take into account all the packages that are installed. This behaviour is the source of the following dependency conflicts.\n",
            "requests 2.23.0 requires urllib3!=1.25.0,!=1.25.1,<1.26,>=1.21.1, but you have urllib3 1.26.12 which is incompatible.\n",
            "boto3 1.26.15 requires botocore<1.30.0,>=1.29.15, but you have botocore 1.27.59 which is incompatible.\u001b[0m\n",
            "Looking in indexes: https://pypi.org/simple, https://us-python.pkg.dev/colab-wheels/public/simple/\n",
            "Requirement already satisfied: boto3 in /usr/local/lib/python3.7/dist-packages (1.26.15)\n",
            "Collecting botocore<1.30.0,>=1.29.15\n",
            "  Using cached botocore-1.29.15-py3-none-any.whl (9.9 MB)\n",
            "Requirement already satisfied: s3transfer<0.7.0,>=0.6.0 in /usr/local/lib/python3.7/dist-packages (from boto3) (0.6.0)\n",
            "Requirement already satisfied: jmespath<2.0.0,>=0.7.1 in /usr/local/lib/python3.7/dist-packages (from boto3) (1.0.1)\n",
            "Requirement already satisfied: python-dateutil<3.0.0,>=2.1 in /usr/local/lib/python3.7/dist-packages (from botocore<1.30.0,>=1.29.15->boto3) (2.8.2)\n",
            "Requirement already satisfied: urllib3<1.27,>=1.25.4 in /usr/local/lib/python3.7/dist-packages (from botocore<1.30.0,>=1.29.15->boto3) (1.26.12)\n",
            "Requirement already satisfied: six>=1.5 in /usr/local/lib/python3.7/dist-packages (from python-dateutil<3.0.0,>=2.1->botocore<1.30.0,>=1.29.15->boto3) (1.15.0)\n",
            "Installing collected packages: botocore\n",
            "  Attempting uninstall: botocore\n",
            "    Found existing installation: botocore 1.27.59\n",
            "    Uninstalling botocore-1.27.59:\n",
            "      Successfully uninstalled botocore-1.27.59\n",
            "\u001b[31mERROR: pip's dependency resolver does not currently take into account all the packages that are installed. This behaviour is the source of the following dependency conflicts.\n",
            "aiobotocore 2.4.0 requires botocore<1.27.60,>=1.27.59, but you have botocore 1.29.15 which is incompatible.\u001b[0m\n",
            "Successfully installed botocore-1.29.15\n"
          ]
        }
      ]
    },
    {
      "cell_type": "markdown",
      "source": [
        "#Import libraries"
      ],
      "metadata": {
        "id": "CwFejewmI-Zm"
      }
    },
    {
      "cell_type": "code",
      "execution_count": null,
      "metadata": {
        "id": "c7mlZg-ATcWF"
      },
      "outputs": [],
      "source": [
        "# importing libraries\n",
        "import pandas as pd  # data science essentials\n",
        "import matplotlib.pyplot as plt  # essential graphical output\n",
        "import seaborn as sns  # enhanced graphical output\n",
        "import numpy as np   # mathematical essentials\n",
        "\n",
        "#import other libraries\n",
        "import logging\n",
        "import json\n",
        "logging.basicConfig(level=logging.INFO)"
      ]
    },
    {
      "cell_type": "code",
      "source": [
        "# import Vectice library\n",
        "import vectice\n",
        "from vectice import FileDataWrapper, DatasetSourceUsage "
      ],
      "metadata": {
        "colab": {
          "base_uri": "https://localhost:8080/"
        },
        "id": "o_hAaMj8VpoM",
        "outputId": "3a3b5d0d-1e3c-413a-bb2c-85f2f07eed4a"
      },
      "execution_count": null,
      "outputs": [
        {
          "output_type": "stream",
          "name": "stderr",
          "text": [
            "/usr/local/lib/python3.7/dist-packages/requests/__init__.py:91: RequestsDependencyWarning: urllib3 (1.26.12) or chardet (3.0.4) doesn't match a supported version!\n",
            "  RequestsDependencyWarning)\n"
          ]
        }
      ]
    },
    {
      "cell_type": "markdown",
      "source": [
        "#Connect to Vectice, Project and Phase"
      ],
      "metadata": {
        "id": "xJ7FRKD5T-Ht"
      }
    },
    {
      "cell_type": "code",
      "source": [
        "#Connect to vectice Using the API\n",
        "retail_ws = vectice.connect(config=r\"API_token.json\")"
      ],
      "metadata": {
        "id": "dmVYX9S5Tl48"
      },
      "execution_count": null,
      "outputs": []
    },
    {
      "cell_type": "code",
      "source": [
        "#Connect to the project\n",
        "retail_project = retail_ws.project(project=\"Tutorial Project: Forecast in store unit sales\")"
      ],
      "metadata": {
        "id": "a4SK0LnnUBDy"
      },
      "execution_count": null,
      "outputs": []
    },
    {
      "cell_type": "code",
      "source": [
        "# Get the phase for Data Understanding \n",
        "DU = retail_project.phase(\"Data Understanding\")"
      ],
      "metadata": {
        "id": "K-hBq_fYUIOX"
      },
      "execution_count": null,
      "outputs": []
    },
    {
      "cell_type": "code",
      "source": [
        "# Get the currently active iteration\n",
        "iter = DU.iteration"
      ],
      "metadata": {
        "id": "s8PeXbP3ULzR"
      },
      "execution_count": null,
      "outputs": []
    },
    {
      "cell_type": "markdown",
      "source": [
        "#Collect Initial Data"
      ],
      "metadata": {
        "id": "DVSSuWZ6UMce"
      }
    },
    {
      "cell_type": "code",
      "source": [
        "# Get the Collect Initial Data step\n",
        "step = iter.step(\"Collect Initial Data\")"
      ],
      "metadata": {
        "id": "OUt-GmmdUX7m"
      },
      "execution_count": null,
      "outputs": []
    },
    {
      "cell_type": "code",
      "source": [
        "#read datasets\n",
        "items = pd.read_csv(\"items.csv\")\n",
        "holiday_events = pd.read_csv(\"holidays_events.csv\", parse_dates=['date'])\n",
        "stores = pd.read_csv(\"stores.csv\")\n",
        "oil = pd.read_csv(\"oil.csv\", parse_dates=['date'])\n",
        "transactions = pd.read_csv(\"transactions.csv\", parse_dates=['date'])\n",
        "df = pd.read_csv(\"train_trimmed.csv\")"
      ],
      "metadata": {
        "id": "PxfvoLbxUYZ4"
      },
      "execution_count": null,
      "outputs": []
    },
    {
      "cell_type": "code",
      "source": [
        "#Wrap datasets to export metadata to Vectice \n",
        "items_file_wrapped = FileDataWrapper(path=\"items.csv\", name=\"Items origin\")\n",
        "holiday_file_wrapped = FileDataWrapper(path=\"holidays_events.csv\", name=\"Holiday origin\")\n",
        "stores_file_wrapped = FileDataWrapper(path=\"stores.csv\", name=\"Stores origin\")\n",
        "oil_file_wrapped = FileDataWrapper(path=\"oil.csv\", name=\"Oil origin\")\n",
        "transactions_file_wrapped = FileDataWrapper(path=\"transactions.csv\", name=\"Transactions origin\")\n",
        "df_file_wrapped = FileDataWrapper(path=\"train_trimmed.csv\", name=\"Training origin\")"
      ],
      "metadata": {
        "id": "0k9eHyO4Ua6q"
      },
      "execution_count": null,
      "outputs": []
    },
    {
      "cell_type": "code",
      "source": [
        "#push dataset metadata to Vectice webapp for versioning purposes\n",
        "retail_project.origin_dataset = items_file_wrapped\n",
        "retail_project.origin_dataset = holiday_file_wrapped\n",
        "retail_project.origin_dataset = oil_file_wrapped\n",
        "retail_project.origin_dataset = transactions_file_wrapped\n",
        "retail_project.origin_dataset = df_file_wrapped"
      ],
      "metadata": {
        "id": "_qpFA5NiUfZW"
      },
      "execution_count": null,
      "outputs": []
    },
    {
      "cell_type": "code",
      "source": [
        "#Close step, mark it as completed in the webapp and publish message\n",
        "step.close(message=\"We selected all the dataset available\")"
      ],
      "metadata": {
        "id": "dJJTqGFmUhfc"
      },
      "execution_count": null,
      "outputs": []
    },
    {
      "cell_type": "markdown",
      "source": [
        "#Describe data"
      ],
      "metadata": {
        "id": "SfwKihjqUjpZ"
      }
    },
    {
      "cell_type": "code",
      "source": [
        "# Get the Describe Data step\n",
        "step = iter.step(\"Describe Data\")"
      ],
      "metadata": {
        "id": "jYqMWHZOzp1i"
      },
      "execution_count": null,
      "outputs": []
    },
    {
      "cell_type": "code",
      "execution_count": null,
      "metadata": {
        "colab": {
          "base_uri": "https://localhost:8080/"
        },
        "id": "tY5tfKvfTcWI",
        "outputId": "b9fe6fae-9ced-4aa5-ac56-b3eed036596d"
      },
      "outputs": [
        {
          "output_type": "stream",
          "name": "stdout",
          "text": [
            "\n",
            "Size of Original Dataset\n",
            "                  All | Items | holiday | stores |  oil  | transactions\n",
            "Observations:  1500930|  4100 |   350   |   54   |  1218 | 83488 \n",
            "Features:          6  |    4  |    6    |   5    |    2  | 3  \n",
            "\n"
          ]
        }
      ],
      "source": [
        "# formatting and printing the dimensions of the dataset (ROWS, COLUMNS)\n",
        "print(f\"\"\"\n",
        "Size of Original Dataset\n",
        "                  All | Items | holiday | stores |  oil  | transactions\n",
        "Observations:  {df.shape[0]}|  {items.shape[0]} |   {holiday_events.shape[0]}   |   {stores.shape[0]}   |  {oil.shape[0]} | {transactions.shape[0]} \n",
        "Features:          {df.shape[1]}  |    {items.shape[1]}  |    {holiday_events.shape[1]}    |   {stores.shape[1]}    |    {oil.shape[1]}  | {transactions.shape[1]}  \n",
        "\"\"\")\n",
        "\n"
      ]
    },
    {
      "cell_type": "code",
      "execution_count": null,
      "metadata": {
        "colab": {
          "base_uri": "https://localhost:8080/"
        },
        "id": "kSSoNnfmTcWL",
        "outputId": "db9e851e-64db-4e32-d5f1-374333350885"
      },
      "outputs": [
        {
          "output_type": "stream",
          "name": "stdout",
          "text": [
            "<class 'pandas.core.frame.DataFrame'>\n",
            "RangeIndex: 21855606 entries, 0 to 21855605\n",
            "Data columns (total 6 columns):\n",
            " #   Column       Dtype  \n",
            "---  ------       -----  \n",
            " 0   id           int64  \n",
            " 1   date         object \n",
            " 2   store_nbr    float64\n",
            " 3   item_nbr     float64\n",
            " 4   unit_sales   float64\n",
            " 5   onpromotion  object \n",
            "dtypes: float64(3), int64(1), object(2)\n",
            "memory usage: 1000.5+ MB\n"
          ]
        }
      ],
      "source": [
        "#provide info about the main dataset\n",
        "df.info()"
      ]
    },
    {
      "cell_type": "code",
      "source": [
        "# to handle NaN’s\n",
        "df.fillna(0) \n",
        "#pd.DatetimeIndex(df['date']).year # to get the year from the date."
      ],
      "metadata": {
        "colab": {
          "base_uri": "https://localhost:8080/",
          "height": 514
        },
        "id": "Hl1HXMM8nzoa",
        "outputId": "c468e608-815d-4908-b699-8e11d9282e10"
      },
      "execution_count": null,
      "outputs": [
        {
          "output_type": "error",
          "ename": "KeyboardInterrupt",
          "evalue": "ignored",
          "traceback": [
            "\u001b[0;31m---------------------------------------------------------------------------\u001b[0m",
            "\u001b[0;31mValueError\u001b[0m                                Traceback (most recent call last)",
            "\u001b[0;32m/usr/local/lib/python3.7/dist-packages/pandas/_libs/tslib.pyx\u001b[0m in \u001b[0;36mpandas._libs.tslib.array_to_datetime\u001b[0;34m()\u001b[0m\n",
            "\u001b[0;32m/usr/local/lib/python3.7/dist-packages/pandas/_libs/tslibs/parsing.pyx\u001b[0m in \u001b[0;36mpandas._libs.tslibs.parsing.parse_datetime_string\u001b[0;34m()\u001b[0m\n",
            "\u001b[0;31mValueError\u001b[0m: Given date string not likely a datetime.",
            "\nDuring handling of the above exception, another exception occurred:\n",
            "\u001b[0;31mTypeError\u001b[0m                                 Traceback (most recent call last)",
            "\u001b[0;32m/usr/local/lib/python3.7/dist-packages/pandas/_libs/tslib.pyx\u001b[0m in \u001b[0;36mpandas._libs.tslib.array_to_datetime\u001b[0;34m()\u001b[0m\n",
            "\u001b[0;31mTypeError\u001b[0m: invalid string coercion to datetime",
            "\nDuring handling of the above exception, another exception occurred:\n",
            "\u001b[0;31mKeyboardInterrupt\u001b[0m                         Traceback (most recent call last)",
            "\u001b[0;32m<ipython-input-61-e253ac14af6d>\u001b[0m in \u001b[0;36m<module>\u001b[0;34m\u001b[0m\n\u001b[1;32m      1\u001b[0m \u001b[0mdf\u001b[0m\u001b[0;34m.\u001b[0m\u001b[0mfillna\u001b[0m\u001b[0;34m(\u001b[0m\u001b[0;36m0\u001b[0m\u001b[0;34m)\u001b[0m \u001b[0;31m# to handle NaN’s on promotion\u001b[0m\u001b[0;34m\u001b[0m\u001b[0;34m\u001b[0m\u001b[0m\n\u001b[0;32m----> 2\u001b[0;31m \u001b[0mpd\u001b[0m\u001b[0;34m.\u001b[0m\u001b[0mDatetimeIndex\u001b[0m\u001b[0;34m(\u001b[0m\u001b[0mdf\u001b[0m\u001b[0;34m[\u001b[0m\u001b[0;34m'date'\u001b[0m\u001b[0;34m]\u001b[0m\u001b[0;34m)\u001b[0m\u001b[0;34m.\u001b[0m\u001b[0myear\u001b[0m \u001b[0;31m# to get the year from the date.\u001b[0m\u001b[0;34m\u001b[0m\u001b[0;34m\u001b[0m\u001b[0m\n\u001b[0m",
            "\u001b[0;32m/usr/local/lib/python3.7/dist-packages/pandas/core/indexes/datetimes.py\u001b[0m in \u001b[0;36m__new__\u001b[0;34m(cls, data, freq, tz, normalize, closed, ambiguous, dayfirst, yearfirst, dtype, copy, name)\u001b[0m\n\u001b[1;32m    339\u001b[0m             \u001b[0mdayfirst\u001b[0m\u001b[0;34m=\u001b[0m\u001b[0mdayfirst\u001b[0m\u001b[0;34m,\u001b[0m\u001b[0;34m\u001b[0m\u001b[0;34m\u001b[0m\u001b[0m\n\u001b[1;32m    340\u001b[0m             \u001b[0myearfirst\u001b[0m\u001b[0;34m=\u001b[0m\u001b[0myearfirst\u001b[0m\u001b[0;34m,\u001b[0m\u001b[0;34m\u001b[0m\u001b[0;34m\u001b[0m\u001b[0m\n\u001b[0;32m--> 341\u001b[0;31m             \u001b[0mambiguous\u001b[0m\u001b[0;34m=\u001b[0m\u001b[0mambiguous\u001b[0m\u001b[0;34m,\u001b[0m\u001b[0;34m\u001b[0m\u001b[0;34m\u001b[0m\u001b[0m\n\u001b[0m\u001b[1;32m    342\u001b[0m         )\n\u001b[1;32m    343\u001b[0m \u001b[0;34m\u001b[0m\u001b[0m\n",
            "\u001b[0;32m/usr/local/lib/python3.7/dist-packages/pandas/core/arrays/datetimes.py\u001b[0m in \u001b[0;36m_from_sequence_not_strict\u001b[0;34m(cls, data, dtype, copy, tz, freq, dayfirst, yearfirst, ambiguous)\u001b[0m\n\u001b[1;32m    360\u001b[0m             \u001b[0mdayfirst\u001b[0m\u001b[0;34m=\u001b[0m\u001b[0mdayfirst\u001b[0m\u001b[0;34m,\u001b[0m\u001b[0;34m\u001b[0m\u001b[0;34m\u001b[0m\u001b[0m\n\u001b[1;32m    361\u001b[0m             \u001b[0myearfirst\u001b[0m\u001b[0;34m=\u001b[0m\u001b[0myearfirst\u001b[0m\u001b[0;34m,\u001b[0m\u001b[0;34m\u001b[0m\u001b[0;34m\u001b[0m\u001b[0m\n\u001b[0;32m--> 362\u001b[0;31m             \u001b[0mambiguous\u001b[0m\u001b[0;34m=\u001b[0m\u001b[0mambiguous\u001b[0m\u001b[0;34m,\u001b[0m\u001b[0;34m\u001b[0m\u001b[0;34m\u001b[0m\u001b[0m\n\u001b[0m\u001b[1;32m    363\u001b[0m         )\n\u001b[1;32m    364\u001b[0m \u001b[0;34m\u001b[0m\u001b[0m\n",
            "\u001b[0;32m/usr/local/lib/python3.7/dist-packages/pandas/core/arrays/datetimes.py\u001b[0m in \u001b[0;36msequence_to_dt64ns\u001b[0;34m(data, dtype, copy, tz, dayfirst, yearfirst, ambiguous, allow_object, allow_mixed, require_iso8601)\u001b[0m\n\u001b[1;32m   2064\u001b[0m                 \u001b[0mallow_object\u001b[0m\u001b[0;34m=\u001b[0m\u001b[0mallow_object\u001b[0m\u001b[0;34m,\u001b[0m\u001b[0;34m\u001b[0m\u001b[0;34m\u001b[0m\u001b[0m\n\u001b[1;32m   2065\u001b[0m                 \u001b[0mallow_mixed\u001b[0m\u001b[0;34m=\u001b[0m\u001b[0mallow_mixed\u001b[0m\u001b[0;34m,\u001b[0m\u001b[0;34m\u001b[0m\u001b[0;34m\u001b[0m\u001b[0m\n\u001b[0;32m-> 2066\u001b[0;31m                 \u001b[0mrequire_iso8601\u001b[0m\u001b[0;34m=\u001b[0m\u001b[0mrequire_iso8601\u001b[0m\u001b[0;34m,\u001b[0m\u001b[0;34m\u001b[0m\u001b[0;34m\u001b[0m\u001b[0m\n\u001b[0m\u001b[1;32m   2067\u001b[0m             )\n\u001b[1;32m   2068\u001b[0m             \u001b[0;32mif\u001b[0m \u001b[0mtz\u001b[0m \u001b[0;32mand\u001b[0m \u001b[0minferred_tz\u001b[0m\u001b[0;34m:\u001b[0m\u001b[0;34m\u001b[0m\u001b[0;34m\u001b[0m\u001b[0m\n",
            "\u001b[0;32m/usr/local/lib/python3.7/dist-packages/pandas/core/arrays/datetimes.py\u001b[0m in \u001b[0;36mobjects_to_datetime64ns\u001b[0;34m(data, dayfirst, yearfirst, utc, errors, require_iso8601, allow_object, allow_mixed)\u001b[0m\n\u001b[1;32m   2185\u001b[0m             \u001b[0myearfirst\u001b[0m\u001b[0;34m=\u001b[0m\u001b[0myearfirst\u001b[0m\u001b[0;34m,\u001b[0m\u001b[0;34m\u001b[0m\u001b[0;34m\u001b[0m\u001b[0m\n\u001b[1;32m   2186\u001b[0m             \u001b[0mrequire_iso8601\u001b[0m\u001b[0;34m=\u001b[0m\u001b[0mrequire_iso8601\u001b[0m\u001b[0;34m,\u001b[0m\u001b[0;34m\u001b[0m\u001b[0;34m\u001b[0m\u001b[0m\n\u001b[0;32m-> 2187\u001b[0;31m             \u001b[0mallow_mixed\u001b[0m\u001b[0;34m=\u001b[0m\u001b[0mallow_mixed\u001b[0m\u001b[0;34m,\u001b[0m\u001b[0;34m\u001b[0m\u001b[0;34m\u001b[0m\u001b[0m\n\u001b[0m\u001b[1;32m   2188\u001b[0m         )\n\u001b[1;32m   2189\u001b[0m         \u001b[0mresult\u001b[0m \u001b[0;34m=\u001b[0m \u001b[0mresult\u001b[0m\u001b[0;34m.\u001b[0m\u001b[0mreshape\u001b[0m\u001b[0;34m(\u001b[0m\u001b[0mdata\u001b[0m\u001b[0;34m.\u001b[0m\u001b[0mshape\u001b[0m\u001b[0;34m,\u001b[0m \u001b[0morder\u001b[0m\u001b[0;34m=\u001b[0m\u001b[0morder\u001b[0m\u001b[0;34m)\u001b[0m\u001b[0;34m\u001b[0m\u001b[0;34m\u001b[0m\u001b[0m\n",
            "\u001b[0;32m/usr/local/lib/python3.7/dist-packages/pandas/_libs/tslib.pyx\u001b[0m in \u001b[0;36mpandas._libs.tslib.array_to_datetime\u001b[0;34m()\u001b[0m\n",
            "\u001b[0;32m/usr/local/lib/python3.7/dist-packages/pandas/_libs/tslib.pyx\u001b[0m in \u001b[0;36mpandas._libs.tslib.array_to_datetime\u001b[0;34m()\u001b[0m\n",
            "\u001b[0;32m/usr/local/lib/python3.7/dist-packages/pandas/_libs/tslib.pyx\u001b[0m in \u001b[0;36mpandas._libs.tslib._array_to_datetime_object\u001b[0;34m()\u001b[0m\n",
            "\u001b[0;32m/usr/local/lib/python3.7/dist-packages/pandas/_libs/tslibs/parsing.pyx\u001b[0m in \u001b[0;36mpandas._libs.tslibs.parsing.parse_datetime_string\u001b[0;34m()\u001b[0m\n",
            "\u001b[0;32m/usr/local/lib/python3.7/dist-packages/dateutil/parser/_parser.py\u001b[0m in \u001b[0;36mparse\u001b[0;34m(timestr, parserinfo, **kwargs)\u001b[0m\n\u001b[1;32m   1366\u001b[0m         \u001b[0;32mreturn\u001b[0m \u001b[0mparser\u001b[0m\u001b[0;34m(\u001b[0m\u001b[0mparserinfo\u001b[0m\u001b[0;34m)\u001b[0m\u001b[0;34m.\u001b[0m\u001b[0mparse\u001b[0m\u001b[0;34m(\u001b[0m\u001b[0mtimestr\u001b[0m\u001b[0;34m,\u001b[0m \u001b[0;34m**\u001b[0m\u001b[0mkwargs\u001b[0m\u001b[0;34m)\u001b[0m\u001b[0;34m\u001b[0m\u001b[0;34m\u001b[0m\u001b[0m\n\u001b[1;32m   1367\u001b[0m     \u001b[0;32melse\u001b[0m\u001b[0;34m:\u001b[0m\u001b[0;34m\u001b[0m\u001b[0;34m\u001b[0m\u001b[0m\n\u001b[0;32m-> 1368\u001b[0;31m         \u001b[0;32mreturn\u001b[0m \u001b[0mDEFAULTPARSER\u001b[0m\u001b[0;34m.\u001b[0m\u001b[0mparse\u001b[0m\u001b[0;34m(\u001b[0m\u001b[0mtimestr\u001b[0m\u001b[0;34m,\u001b[0m \u001b[0;34m**\u001b[0m\u001b[0mkwargs\u001b[0m\u001b[0;34m)\u001b[0m\u001b[0;34m\u001b[0m\u001b[0;34m\u001b[0m\u001b[0m\n\u001b[0m\u001b[1;32m   1369\u001b[0m \u001b[0;34m\u001b[0m\u001b[0m\n\u001b[1;32m   1370\u001b[0m \u001b[0;34m\u001b[0m\u001b[0m\n",
            "\u001b[0;32m/usr/local/lib/python3.7/dist-packages/dateutil/parser/_parser.py\u001b[0m in \u001b[0;36mparse\u001b[0;34m(self, timestr, default, ignoretz, tzinfos, **kwargs)\u001b[0m\n\u001b[1;32m    638\u001b[0m                                                       second=0, microsecond=0)\n\u001b[1;32m    639\u001b[0m \u001b[0;34m\u001b[0m\u001b[0m\n\u001b[0;32m--> 640\u001b[0;31m         \u001b[0mres\u001b[0m\u001b[0;34m,\u001b[0m \u001b[0mskipped_tokens\u001b[0m \u001b[0;34m=\u001b[0m \u001b[0mself\u001b[0m\u001b[0;34m.\u001b[0m\u001b[0m_parse\u001b[0m\u001b[0;34m(\u001b[0m\u001b[0mtimestr\u001b[0m\u001b[0;34m,\u001b[0m \u001b[0;34m**\u001b[0m\u001b[0mkwargs\u001b[0m\u001b[0;34m)\u001b[0m\u001b[0;34m\u001b[0m\u001b[0;34m\u001b[0m\u001b[0m\n\u001b[0m\u001b[1;32m    641\u001b[0m \u001b[0;34m\u001b[0m\u001b[0m\n\u001b[1;32m    642\u001b[0m         \u001b[0;32mif\u001b[0m \u001b[0mres\u001b[0m \u001b[0;32mis\u001b[0m \u001b[0;32mNone\u001b[0m\u001b[0;34m:\u001b[0m\u001b[0;34m\u001b[0m\u001b[0;34m\u001b[0m\u001b[0m\n",
            "\u001b[0;32m/usr/local/lib/python3.7/dist-packages/dateutil/parser/_parser.py\u001b[0m in \u001b[0;36m_parse\u001b[0;34m(self, timestr, dayfirst, yearfirst, fuzzy, fuzzy_with_tokens)\u001b[0m\n\u001b[1;32m    722\u001b[0m \u001b[0;34m\u001b[0m\u001b[0m\n\u001b[1;32m    723\u001b[0m         \u001b[0;31m# year/month/day list\u001b[0m\u001b[0;34m\u001b[0m\u001b[0;34m\u001b[0m\u001b[0;34m\u001b[0m\u001b[0m\n\u001b[0;32m--> 724\u001b[0;31m         \u001b[0mymd\u001b[0m \u001b[0;34m=\u001b[0m \u001b[0m_ymd\u001b[0m\u001b[0;34m(\u001b[0m\u001b[0;34m)\u001b[0m\u001b[0;34m\u001b[0m\u001b[0;34m\u001b[0m\u001b[0m\n\u001b[0m\u001b[1;32m    725\u001b[0m \u001b[0;34m\u001b[0m\u001b[0m\n\u001b[1;32m    726\u001b[0m         \u001b[0mlen_l\u001b[0m \u001b[0;34m=\u001b[0m \u001b[0mlen\u001b[0m\u001b[0;34m(\u001b[0m\u001b[0ml\u001b[0m\u001b[0;34m)\u001b[0m\u001b[0;34m\u001b[0m\u001b[0;34m\u001b[0m\u001b[0m\n",
            "\u001b[0;32m/usr/local/lib/python3.7/dist-packages/dateutil/parser/_parser.py\u001b[0m in \u001b[0;36m__init__\u001b[0;34m(self, *args, **kwargs)\u001b[0m\n\u001b[1;32m    394\u001b[0m \u001b[0;32mclass\u001b[0m \u001b[0m_ymd\u001b[0m\u001b[0;34m(\u001b[0m\u001b[0mlist\u001b[0m\u001b[0;34m)\u001b[0m\u001b[0;34m:\u001b[0m\u001b[0;34m\u001b[0m\u001b[0;34m\u001b[0m\u001b[0m\n\u001b[1;32m    395\u001b[0m     \u001b[0;32mdef\u001b[0m \u001b[0m__init__\u001b[0m\u001b[0;34m(\u001b[0m\u001b[0mself\u001b[0m\u001b[0;34m,\u001b[0m \u001b[0;34m*\u001b[0m\u001b[0margs\u001b[0m\u001b[0;34m,\u001b[0m \u001b[0;34m**\u001b[0m\u001b[0mkwargs\u001b[0m\u001b[0;34m)\u001b[0m\u001b[0;34m:\u001b[0m\u001b[0;34m\u001b[0m\u001b[0;34m\u001b[0m\u001b[0m\n\u001b[0;32m--> 396\u001b[0;31m         \u001b[0msuper\u001b[0m\u001b[0;34m(\u001b[0m\u001b[0mself\u001b[0m\u001b[0;34m.\u001b[0m\u001b[0m__class__\u001b[0m\u001b[0;34m,\u001b[0m \u001b[0mself\u001b[0m\u001b[0;34m)\u001b[0m\u001b[0;34m.\u001b[0m\u001b[0m__init__\u001b[0m\u001b[0;34m(\u001b[0m\u001b[0;34m*\u001b[0m\u001b[0margs\u001b[0m\u001b[0;34m,\u001b[0m \u001b[0;34m**\u001b[0m\u001b[0mkwargs\u001b[0m\u001b[0;34m)\u001b[0m\u001b[0;34m\u001b[0m\u001b[0;34m\u001b[0m\u001b[0m\n\u001b[0m\u001b[1;32m    397\u001b[0m         \u001b[0mself\u001b[0m\u001b[0;34m.\u001b[0m\u001b[0mcentury_specified\u001b[0m \u001b[0;34m=\u001b[0m \u001b[0;32mFalse\u001b[0m\u001b[0;34m\u001b[0m\u001b[0;34m\u001b[0m\u001b[0m\n\u001b[1;32m    398\u001b[0m         \u001b[0mself\u001b[0m\u001b[0;34m.\u001b[0m\u001b[0mdstridx\u001b[0m \u001b[0;34m=\u001b[0m \u001b[0;32mNone\u001b[0m\u001b[0;34m\u001b[0m\u001b[0;34m\u001b[0m\u001b[0m\n",
            "\u001b[0;31mKeyboardInterrupt\u001b[0m: "
          ]
        }
      ]
    },
    {
      "cell_type": "code",
      "source": [
        "#provide info about the item dataset\n",
        "items.info()"
      ],
      "metadata": {
        "colab": {
          "base_uri": "https://localhost:8080/"
        },
        "id": "mKNyC245sOLX",
        "outputId": "5e5118a8-9306-448f-b681-4f4a653a957f"
      },
      "execution_count": null,
      "outputs": [
        {
          "output_type": "stream",
          "name": "stdout",
          "text": [
            "<class 'pandas.core.frame.DataFrame'>\n",
            "RangeIndex: 4100 entries, 0 to 4099\n",
            "Data columns (total 4 columns):\n",
            " #   Column      Non-Null Count  Dtype \n",
            "---  ------      --------------  ----- \n",
            " 0   item_nbr    4100 non-null   int64 \n",
            " 1   family      4100 non-null   object\n",
            " 2   class       4100 non-null   int64 \n",
            " 3   perishable  4100 non-null   int64 \n",
            "dtypes: int64(3), object(1)\n",
            "memory usage: 128.2+ KB\n"
          ]
        }
      ]
    },
    {
      "cell_type": "code",
      "source": [
        "#provide info about the stores dataset\n",
        "stores.info()"
      ],
      "metadata": {
        "colab": {
          "base_uri": "https://localhost:8080/"
        },
        "id": "FA85FzOXsTsY",
        "outputId": "d659a11d-b7f9-4705-a9c5-094f61171aad"
      },
      "execution_count": null,
      "outputs": [
        {
          "output_type": "stream",
          "name": "stdout",
          "text": [
            "<class 'pandas.core.frame.DataFrame'>\n",
            "RangeIndex: 54 entries, 0 to 53\n",
            "Data columns (total 5 columns):\n",
            " #   Column     Non-Null Count  Dtype \n",
            "---  ------     --------------  ----- \n",
            " 0   store_nbr  54 non-null     int64 \n",
            " 1   city       54 non-null     object\n",
            " 2   state      54 non-null     object\n",
            " 3   type       54 non-null     object\n",
            " 4   cluster    54 non-null     int64 \n",
            "dtypes: int64(2), object(3)\n",
            "memory usage: 2.2+ KB\n"
          ]
        }
      ]
    },
    {
      "cell_type": "code",
      "source": [
        "#provide info about the holiday_events dataset\n",
        "holiday_events.info()"
      ],
      "metadata": {
        "colab": {
          "base_uri": "https://localhost:8080/"
        },
        "id": "vsvtlQBj1KVz",
        "outputId": "53738a0f-7d3a-464f-9b2c-707754f818f0"
      },
      "execution_count": null,
      "outputs": [
        {
          "output_type": "stream",
          "name": "stdout",
          "text": [
            "<class 'pandas.core.frame.DataFrame'>\n",
            "RangeIndex: 350 entries, 0 to 349\n",
            "Data columns (total 6 columns):\n",
            " #   Column       Non-Null Count  Dtype         \n",
            "---  ------       --------------  -----         \n",
            " 0   date         350 non-null    datetime64[ns]\n",
            " 1   type         350 non-null    object        \n",
            " 2   locale       350 non-null    object        \n",
            " 3   locale_name  350 non-null    object        \n",
            " 4   description  350 non-null    object        \n",
            " 5   transferred  350 non-null    bool          \n",
            "dtypes: bool(1), datetime64[ns](1), object(4)\n",
            "memory usage: 14.1+ KB\n"
          ]
        }
      ]
    },
    {
      "cell_type": "code",
      "source": [
        "#perform date formating\n",
        "holiday_events['date'] = pd.to_datetime(holiday_events['date'], format=\"%Y-%m-%d\")"
      ],
      "metadata": {
        "id": "zTWrm45HsZ3_"
      },
      "execution_count": null,
      "outputs": []
    },
    {
      "cell_type": "code",
      "source": [
        "#provide a preview of the main dataset\n",
        "df.head()"
      ],
      "metadata": {
        "colab": {
          "base_uri": "https://localhost:8080/",
          "height": 206
        },
        "id": "p1r04lYAtWCX",
        "outputId": "b0926def-b131-49e1-9213-a62d9c7b97b5"
      },
      "execution_count": null,
      "outputs": [
        {
          "output_type": "execute_result",
          "data": {
            "text/plain": [
              "         id        date  store_nbr   item_nbr  unit_sales onpromotion\n",
              "0   5446657  2013-05-11       37.0   823245.0        12.0         NaN\n",
              "1  87318640  2016-08-07       28.0   949629.0         5.0       False\n",
              "2  36620449  2014-12-04       26.0  1010755.0         1.0       False\n",
              "3  69984126  2016-02-08       21.0   177395.0         5.0       False\n",
              "4  86521816  2016-07-30       32.0  1958252.0         1.0       False"
            ],
            "text/html": [
              "\n",
              "  <div id=\"df-92f664da-aefe-4462-bfb1-178578339920\">\n",
              "    <div class=\"colab-df-container\">\n",
              "      <div>\n",
              "<style scoped>\n",
              "    .dataframe tbody tr th:only-of-type {\n",
              "        vertical-align: middle;\n",
              "    }\n",
              "\n",
              "    .dataframe tbody tr th {\n",
              "        vertical-align: top;\n",
              "    }\n",
              "\n",
              "    .dataframe thead th {\n",
              "        text-align: right;\n",
              "    }\n",
              "</style>\n",
              "<table border=\"1\" class=\"dataframe\">\n",
              "  <thead>\n",
              "    <tr style=\"text-align: right;\">\n",
              "      <th></th>\n",
              "      <th>id</th>\n",
              "      <th>date</th>\n",
              "      <th>store_nbr</th>\n",
              "      <th>item_nbr</th>\n",
              "      <th>unit_sales</th>\n",
              "      <th>onpromotion</th>\n",
              "    </tr>\n",
              "  </thead>\n",
              "  <tbody>\n",
              "    <tr>\n",
              "      <th>0</th>\n",
              "      <td>5446657</td>\n",
              "      <td>2013-05-11</td>\n",
              "      <td>37.0</td>\n",
              "      <td>823245.0</td>\n",
              "      <td>12.0</td>\n",
              "      <td>NaN</td>\n",
              "    </tr>\n",
              "    <tr>\n",
              "      <th>1</th>\n",
              "      <td>87318640</td>\n",
              "      <td>2016-08-07</td>\n",
              "      <td>28.0</td>\n",
              "      <td>949629.0</td>\n",
              "      <td>5.0</td>\n",
              "      <td>False</td>\n",
              "    </tr>\n",
              "    <tr>\n",
              "      <th>2</th>\n",
              "      <td>36620449</td>\n",
              "      <td>2014-12-04</td>\n",
              "      <td>26.0</td>\n",
              "      <td>1010755.0</td>\n",
              "      <td>1.0</td>\n",
              "      <td>False</td>\n",
              "    </tr>\n",
              "    <tr>\n",
              "      <th>3</th>\n",
              "      <td>69984126</td>\n",
              "      <td>2016-02-08</td>\n",
              "      <td>21.0</td>\n",
              "      <td>177395.0</td>\n",
              "      <td>5.0</td>\n",
              "      <td>False</td>\n",
              "    </tr>\n",
              "    <tr>\n",
              "      <th>4</th>\n",
              "      <td>86521816</td>\n",
              "      <td>2016-07-30</td>\n",
              "      <td>32.0</td>\n",
              "      <td>1958252.0</td>\n",
              "      <td>1.0</td>\n",
              "      <td>False</td>\n",
              "    </tr>\n",
              "  </tbody>\n",
              "</table>\n",
              "</div>\n",
              "      <button class=\"colab-df-convert\" onclick=\"convertToInteractive('df-92f664da-aefe-4462-bfb1-178578339920')\"\n",
              "              title=\"Convert this dataframe to an interactive table.\"\n",
              "              style=\"display:none;\">\n",
              "        \n",
              "  <svg xmlns=\"http://www.w3.org/2000/svg\" height=\"24px\"viewBox=\"0 0 24 24\"\n",
              "       width=\"24px\">\n",
              "    <path d=\"M0 0h24v24H0V0z\" fill=\"none\"/>\n",
              "    <path d=\"M18.56 5.44l.94 2.06.94-2.06 2.06-.94-2.06-.94-.94-2.06-.94 2.06-2.06.94zm-11 1L8.5 8.5l.94-2.06 2.06-.94-2.06-.94L8.5 2.5l-.94 2.06-2.06.94zm10 10l.94 2.06.94-2.06 2.06-.94-2.06-.94-.94-2.06-.94 2.06-2.06.94z\"/><path d=\"M17.41 7.96l-1.37-1.37c-.4-.4-.92-.59-1.43-.59-.52 0-1.04.2-1.43.59L10.3 9.45l-7.72 7.72c-.78.78-.78 2.05 0 2.83L4 21.41c.39.39.9.59 1.41.59.51 0 1.02-.2 1.41-.59l7.78-7.78 2.81-2.81c.8-.78.8-2.07 0-2.86zM5.41 20L4 18.59l7.72-7.72 1.47 1.35L5.41 20z\"/>\n",
              "  </svg>\n",
              "      </button>\n",
              "      \n",
              "  <style>\n",
              "    .colab-df-container {\n",
              "      display:flex;\n",
              "      flex-wrap:wrap;\n",
              "      gap: 12px;\n",
              "    }\n",
              "\n",
              "    .colab-df-convert {\n",
              "      background-color: #E8F0FE;\n",
              "      border: none;\n",
              "      border-radius: 50%;\n",
              "      cursor: pointer;\n",
              "      display: none;\n",
              "      fill: #1967D2;\n",
              "      height: 32px;\n",
              "      padding: 0 0 0 0;\n",
              "      width: 32px;\n",
              "    }\n",
              "\n",
              "    .colab-df-convert:hover {\n",
              "      background-color: #E2EBFA;\n",
              "      box-shadow: 0px 1px 2px rgba(60, 64, 67, 0.3), 0px 1px 3px 1px rgba(60, 64, 67, 0.15);\n",
              "      fill: #174EA6;\n",
              "    }\n",
              "\n",
              "    [theme=dark] .colab-df-convert {\n",
              "      background-color: #3B4455;\n",
              "      fill: #D2E3FC;\n",
              "    }\n",
              "\n",
              "    [theme=dark] .colab-df-convert:hover {\n",
              "      background-color: #434B5C;\n",
              "      box-shadow: 0px 1px 3px 1px rgba(0, 0, 0, 0.15);\n",
              "      filter: drop-shadow(0px 1px 2px rgba(0, 0, 0, 0.3));\n",
              "      fill: #FFFFFF;\n",
              "    }\n",
              "  </style>\n",
              "\n",
              "      <script>\n",
              "        const buttonEl =\n",
              "          document.querySelector('#df-92f664da-aefe-4462-bfb1-178578339920 button.colab-df-convert');\n",
              "        buttonEl.style.display =\n",
              "          google.colab.kernel.accessAllowed ? 'block' : 'none';\n",
              "\n",
              "        async function convertToInteractive(key) {\n",
              "          const element = document.querySelector('#df-92f664da-aefe-4462-bfb1-178578339920');\n",
              "          const dataTable =\n",
              "            await google.colab.kernel.invokeFunction('convertToInteractive',\n",
              "                                                     [key], {});\n",
              "          if (!dataTable) return;\n",
              "\n",
              "          const docLinkHtml = 'Like what you see? Visit the ' +\n",
              "            '<a target=\"_blank\" href=https://colab.research.google.com/notebooks/data_table.ipynb>data table notebook</a>'\n",
              "            + ' to learn more about interactive tables.';\n",
              "          element.innerHTML = '';\n",
              "          dataTable['output_type'] = 'display_data';\n",
              "          await google.colab.output.renderOutput(dataTable, element);\n",
              "          const docLink = document.createElement('div');\n",
              "          docLink.innerHTML = docLinkHtml;\n",
              "          element.appendChild(docLink);\n",
              "        }\n",
              "      </script>\n",
              "    </div>\n",
              "  </div>\n",
              "  "
            ]
          },
          "metadata": {},
          "execution_count": 55
        }
      ]
    },
    {
      "cell_type": "code",
      "source": [
        "#Close step, mark it as completed in the webapp and publish message\n",
        "step.close(message=\"NaN have been replaced by 0 and date have been set to a similar format. However, additional cleaning need to be performed\")"
      ],
      "metadata": {
        "id": "WWDAagDCzxPe"
      },
      "execution_count": null,
      "outputs": []
    },
    {
      "cell_type": "markdown",
      "source": [
        "#Explore Data"
      ],
      "metadata": {
        "id": "RLBzj6roxdZP"
      }
    },
    {
      "cell_type": "code",
      "source": [
        "# Get the Explore Data step\n",
        "step = iter.step(\"Explore data\")"
      ],
      "metadata": {
        "id": "bJp7VOPX2mGL"
      },
      "execution_count": null,
      "outputs": []
    },
    {
      "cell_type": "code",
      "source": [
        "#describe statistically the main dataset\n",
        "df.describe()"
      ],
      "metadata": {
        "colab": {
          "base_uri": "https://localhost:8080/",
          "height": 300
        },
        "id": "eQvTIEo2vzeE",
        "outputId": "25bde291-5c00-49ca-aa2c-ec27e6d43c0d"
      },
      "execution_count": null,
      "outputs": [
        {
          "output_type": "execute_result",
          "data": {
            "text/plain": [
              "                 id     store_nbr      item_nbr    unit_sales\n",
              "count  2.185561e+07  2.185560e+07  2.185560e+07  2.185560e+07\n",
              "mean   6.275779e+07  2.746420e+01  9.728300e+05  8.551748e+00\n",
              "std    3.623243e+07  1.632964e+01  5.205178e+05  2.165260e+01\n",
              "min    1.000000e+01  1.000000e+00  9.699500e+04 -3.600000e+03\n",
              "25%    3.137969e+07  1.200000e+01  5.227210e+05  2.000000e+00\n",
              "50%    6.275366e+07  2.800000e+01  9.594370e+05  4.000000e+00\n",
              "75%    9.414271e+07  4.300000e+01  1.354380e+06  9.000000e+00\n",
              "max    1.254970e+08  5.400000e+01  2.127114e+06  1.714600e+04"
            ],
            "text/html": [
              "\n",
              "  <div id=\"df-52adf252-847e-4582-a0de-001640ddefe2\">\n",
              "    <div class=\"colab-df-container\">\n",
              "      <div>\n",
              "<style scoped>\n",
              "    .dataframe tbody tr th:only-of-type {\n",
              "        vertical-align: middle;\n",
              "    }\n",
              "\n",
              "    .dataframe tbody tr th {\n",
              "        vertical-align: top;\n",
              "    }\n",
              "\n",
              "    .dataframe thead th {\n",
              "        text-align: right;\n",
              "    }\n",
              "</style>\n",
              "<table border=\"1\" class=\"dataframe\">\n",
              "  <thead>\n",
              "    <tr style=\"text-align: right;\">\n",
              "      <th></th>\n",
              "      <th>id</th>\n",
              "      <th>store_nbr</th>\n",
              "      <th>item_nbr</th>\n",
              "      <th>unit_sales</th>\n",
              "    </tr>\n",
              "  </thead>\n",
              "  <tbody>\n",
              "    <tr>\n",
              "      <th>count</th>\n",
              "      <td>2.185561e+07</td>\n",
              "      <td>2.185560e+07</td>\n",
              "      <td>2.185560e+07</td>\n",
              "      <td>2.185560e+07</td>\n",
              "    </tr>\n",
              "    <tr>\n",
              "      <th>mean</th>\n",
              "      <td>6.275779e+07</td>\n",
              "      <td>2.746420e+01</td>\n",
              "      <td>9.728300e+05</td>\n",
              "      <td>8.551748e+00</td>\n",
              "    </tr>\n",
              "    <tr>\n",
              "      <th>std</th>\n",
              "      <td>3.623243e+07</td>\n",
              "      <td>1.632964e+01</td>\n",
              "      <td>5.205178e+05</td>\n",
              "      <td>2.165260e+01</td>\n",
              "    </tr>\n",
              "    <tr>\n",
              "      <th>min</th>\n",
              "      <td>1.000000e+01</td>\n",
              "      <td>1.000000e+00</td>\n",
              "      <td>9.699500e+04</td>\n",
              "      <td>-3.600000e+03</td>\n",
              "    </tr>\n",
              "    <tr>\n",
              "      <th>25%</th>\n",
              "      <td>3.137969e+07</td>\n",
              "      <td>1.200000e+01</td>\n",
              "      <td>5.227210e+05</td>\n",
              "      <td>2.000000e+00</td>\n",
              "    </tr>\n",
              "    <tr>\n",
              "      <th>50%</th>\n",
              "      <td>6.275366e+07</td>\n",
              "      <td>2.800000e+01</td>\n",
              "      <td>9.594370e+05</td>\n",
              "      <td>4.000000e+00</td>\n",
              "    </tr>\n",
              "    <tr>\n",
              "      <th>75%</th>\n",
              "      <td>9.414271e+07</td>\n",
              "      <td>4.300000e+01</td>\n",
              "      <td>1.354380e+06</td>\n",
              "      <td>9.000000e+00</td>\n",
              "    </tr>\n",
              "    <tr>\n",
              "      <th>max</th>\n",
              "      <td>1.254970e+08</td>\n",
              "      <td>5.400000e+01</td>\n",
              "      <td>2.127114e+06</td>\n",
              "      <td>1.714600e+04</td>\n",
              "    </tr>\n",
              "  </tbody>\n",
              "</table>\n",
              "</div>\n",
              "      <button class=\"colab-df-convert\" onclick=\"convertToInteractive('df-52adf252-847e-4582-a0de-001640ddefe2')\"\n",
              "              title=\"Convert this dataframe to an interactive table.\"\n",
              "              style=\"display:none;\">\n",
              "        \n",
              "  <svg xmlns=\"http://www.w3.org/2000/svg\" height=\"24px\"viewBox=\"0 0 24 24\"\n",
              "       width=\"24px\">\n",
              "    <path d=\"M0 0h24v24H0V0z\" fill=\"none\"/>\n",
              "    <path d=\"M18.56 5.44l.94 2.06.94-2.06 2.06-.94-2.06-.94-.94-2.06-.94 2.06-2.06.94zm-11 1L8.5 8.5l.94-2.06 2.06-.94-2.06-.94L8.5 2.5l-.94 2.06-2.06.94zm10 10l.94 2.06.94-2.06 2.06-.94-2.06-.94-.94-2.06-.94 2.06-2.06.94z\"/><path d=\"M17.41 7.96l-1.37-1.37c-.4-.4-.92-.59-1.43-.59-.52 0-1.04.2-1.43.59L10.3 9.45l-7.72 7.72c-.78.78-.78 2.05 0 2.83L4 21.41c.39.39.9.59 1.41.59.51 0 1.02-.2 1.41-.59l7.78-7.78 2.81-2.81c.8-.78.8-2.07 0-2.86zM5.41 20L4 18.59l7.72-7.72 1.47 1.35L5.41 20z\"/>\n",
              "  </svg>\n",
              "      </button>\n",
              "      \n",
              "  <style>\n",
              "    .colab-df-container {\n",
              "      display:flex;\n",
              "      flex-wrap:wrap;\n",
              "      gap: 12px;\n",
              "    }\n",
              "\n",
              "    .colab-df-convert {\n",
              "      background-color: #E8F0FE;\n",
              "      border: none;\n",
              "      border-radius: 50%;\n",
              "      cursor: pointer;\n",
              "      display: none;\n",
              "      fill: #1967D2;\n",
              "      height: 32px;\n",
              "      padding: 0 0 0 0;\n",
              "      width: 32px;\n",
              "    }\n",
              "\n",
              "    .colab-df-convert:hover {\n",
              "      background-color: #E2EBFA;\n",
              "      box-shadow: 0px 1px 2px rgba(60, 64, 67, 0.3), 0px 1px 3px 1px rgba(60, 64, 67, 0.15);\n",
              "      fill: #174EA6;\n",
              "    }\n",
              "\n",
              "    [theme=dark] .colab-df-convert {\n",
              "      background-color: #3B4455;\n",
              "      fill: #D2E3FC;\n",
              "    }\n",
              "\n",
              "    [theme=dark] .colab-df-convert:hover {\n",
              "      background-color: #434B5C;\n",
              "      box-shadow: 0px 1px 3px 1px rgba(0, 0, 0, 0.15);\n",
              "      filter: drop-shadow(0px 1px 2px rgba(0, 0, 0, 0.3));\n",
              "      fill: #FFFFFF;\n",
              "    }\n",
              "  </style>\n",
              "\n",
              "      <script>\n",
              "        const buttonEl =\n",
              "          document.querySelector('#df-52adf252-847e-4582-a0de-001640ddefe2 button.colab-df-convert');\n",
              "        buttonEl.style.display =\n",
              "          google.colab.kernel.accessAllowed ? 'block' : 'none';\n",
              "\n",
              "        async function convertToInteractive(key) {\n",
              "          const element = document.querySelector('#df-52adf252-847e-4582-a0de-001640ddefe2');\n",
              "          const dataTable =\n",
              "            await google.colab.kernel.invokeFunction('convertToInteractive',\n",
              "                                                     [key], {});\n",
              "          if (!dataTable) return;\n",
              "\n",
              "          const docLinkHtml = 'Like what you see? Visit the ' +\n",
              "            '<a target=\"_blank\" href=https://colab.research.google.com/notebooks/data_table.ipynb>data table notebook</a>'\n",
              "            + ' to learn more about interactive tables.';\n",
              "          element.innerHTML = '';\n",
              "          dataTable['output_type'] = 'display_data';\n",
              "          await google.colab.output.renderOutput(dataTable, element);\n",
              "          const docLink = document.createElement('div');\n",
              "          docLink.innerHTML = docLinkHtml;\n",
              "          element.appendChild(docLink);\n",
              "        }\n",
              "      </script>\n",
              "    </div>\n",
              "  </div>\n",
              "  "
            ]
          },
          "metadata": {},
          "execution_count": 69
        }
      ]
    },
    {
      "cell_type": "markdown",
      "source": [
        "###Stores Visualizations"
      ],
      "metadata": {
        "id": "33suQbJdyg98"
      }
    },
    {
      "cell_type": "code",
      "source": [
        "#Treemap of store counts across different cities\n",
        "fig = plt.figure(figsize=(25, 21))\n",
        "marrimeko=stores.city.value_counts().to_frame()\n",
        "ax = fig.add_subplot(111, aspect=\"equal\")\n",
        "ax = squarify.plot(sizes=marrimeko['city'].values,label=marrimeko.index,\n",
        "              color=sns.color_palette('cubehelix_r', 28), alpha=1)\n",
        "ax.set_xticks([])\n",
        "ax.set_yticks([])\n",
        "fig=plt.gcf()\n",
        "fig.set_size_inches(40,25)\n",
        "plt.title(\"Treemap of store counts across different cities\", fontsize=18)\n",
        "plt.show();\n",
        "fig.savefig('Store1.png', dpi=300)"
      ],
      "metadata": {
        "colab": {
          "base_uri": "https://localhost:8080/",
          "height": 1000
        },
        "id": "7eq5k76Vxr9J",
        "outputId": "e3c603f3-5ac7-4f43-9eb0-0251e57feec2"
      },
      "execution_count": null,
      "outputs": [
        {
          "output_type": "error",
          "ename": "NameError",
          "evalue": "ignored",
          "traceback": [
            "\u001b[0;31m---------------------------------------------------------------------------\u001b[0m",
            "\u001b[0;31mNameError\u001b[0m                                 Traceback (most recent call last)",
            "\u001b[0;32m<ipython-input-70-b18be67da782>\u001b[0m in \u001b[0;36m<module>\u001b[0;34m\u001b[0m\n\u001b[1;32m      3\u001b[0m \u001b[0mmarrimeko\u001b[0m\u001b[0;34m=\u001b[0m\u001b[0mstores\u001b[0m\u001b[0;34m.\u001b[0m\u001b[0mcity\u001b[0m\u001b[0;34m.\u001b[0m\u001b[0mvalue_counts\u001b[0m\u001b[0;34m(\u001b[0m\u001b[0;34m)\u001b[0m\u001b[0;34m.\u001b[0m\u001b[0mto_frame\u001b[0m\u001b[0;34m(\u001b[0m\u001b[0;34m)\u001b[0m\u001b[0;34m\u001b[0m\u001b[0;34m\u001b[0m\u001b[0m\n\u001b[1;32m      4\u001b[0m \u001b[0max\u001b[0m \u001b[0;34m=\u001b[0m \u001b[0mfig\u001b[0m\u001b[0;34m.\u001b[0m\u001b[0madd_subplot\u001b[0m\u001b[0;34m(\u001b[0m\u001b[0;36m111\u001b[0m\u001b[0;34m,\u001b[0m \u001b[0maspect\u001b[0m\u001b[0;34m=\u001b[0m\u001b[0;34m\"equal\"\u001b[0m\u001b[0;34m)\u001b[0m\u001b[0;34m\u001b[0m\u001b[0;34m\u001b[0m\u001b[0m\n\u001b[0;32m----> 5\u001b[0;31m ax = squarify.plot(sizes=marrimeko['city'].values,label=marrimeko.index,\n\u001b[0m\u001b[1;32m      6\u001b[0m               color=sns.color_palette('cubehelix_r', 28), alpha=1)\n\u001b[1;32m      7\u001b[0m \u001b[0max\u001b[0m\u001b[0;34m.\u001b[0m\u001b[0mset_xticks\u001b[0m\u001b[0;34m(\u001b[0m\u001b[0;34m[\u001b[0m\u001b[0;34m]\u001b[0m\u001b[0;34m)\u001b[0m\u001b[0;34m\u001b[0m\u001b[0;34m\u001b[0m\u001b[0m\n",
            "\u001b[0;31mNameError\u001b[0m: name 'squarify' is not defined"
          ]
        },
        {
          "output_type": "display_data",
          "data": {
            "text/plain": [
              "<Figure size 1800x1512 with 1 Axes>"
            ],
            "image/png": "[encoded data removed]"
          },
          "metadata": {
            "needs_background": "light"
          }
        }
      ]
    },
    {
      "cell_type": "code",
      "source": [
        "#Treemap of store counts across different States\n",
        "fig = plt.figure(figsize=(25, 21))\n",
        "marrimeko=stores.state.value_counts().to_frame()\n",
        "ax = fig.add_subplot(111, aspect=\"equal\")\n",
        "ax = squarify.plot(sizes=marrimeko['state'].values,label=marrimeko.index,\n",
        "              color=sns.color_palette('viridis_r', 28), alpha=1)\n",
        "ax.set_xticks([])\n",
        "ax.set_yticks([])\n",
        "fig=plt.gcf()\n",
        "fig.set_size_inches(40,25)\n",
        "plt.title(\"Treemap of store counts across different States\", fontsize=18)\n",
        "plt.show()\n",
        "fig.savefig('Store2.png', dpi=300)"
      ],
      "metadata": {
        "id": "NeMawONLxwR-"
      },
      "execution_count": null,
      "outputs": []
    },
    {
      "cell_type": "markdown",
      "source": [
        "####Inspecting the allocation of clusters to store numbers - Visualizations"
      ],
      "metadata": {
        "id": "WwBc_y79yFqX"
      }
    },
    {
      "cell_type": "code",
      "source": [
        "#Store numbers and the clusters they are assigned to\n",
        "# Unhide to see the sorted zip order\n",
        "neworder = [23, 24, 26, 36, 41, 15, 29, 31, 32, 34, 39, \n",
        "            53, 4, 37, 40, 43, 8, 10, 19, 20, 33, 38, 13, \n",
        "            21, 2, 6, 7, 3, 22, 25, 27, 28, 30, 35, 42, 44, \n",
        "            48, 51, 16, 0, 1, 5, 52, 45, 46, 47, 49, 9, 11, 12, 14, 18, 17, 50]\n",
        "\n",
        "# Finally plot the seaborn heatmap\n",
        "plt.style.use('dark_background')\n",
        "plt.figure(figsize=(15,12))\n",
        "store_pivot = stores.dropna().pivot(\"store_nbr\",\"cluster\", \"store_nbr\")\n",
        "ax = sns.heatmap(store_pivot, cmap='jet', annot=True, linewidths=0, linecolor='white')\n",
        "plt.title('Store numbers and the clusters they are assigned to')\n",
        "plt.savefig('Store3.png', dpi=300)"
      ],
      "metadata": {
        "id": "OO02mCAnx_1B"
      },
      "execution_count": null,
      "outputs": []
    },
    {
      "cell_type": "code",
      "source": [
        "#Stacked Barplot of Store types and their cluster distribution\n",
        "plt.style.use('dark_background')\n",
        "type_cluster = stores.groupby(['type','cluster']).size()\n",
        "type_cluster.unstack().plot(kind='bar',stacked=True, colormap= 'PuBu', figsize=(13,11),  grid=False)\n",
        "plt.title('Stacked Barplot of Store types and their cluster distribution', fontsize=18)\n",
        "plt.ylabel('Count of clusters in a particular store type', fontsize=16)\n",
        "plt.xlabel('Store type', fontsize=16)\n",
        "plt.show()\n",
        "plt.savefig('Store4.png', dpi=300);"
      ],
      "metadata": {
        "id": "3s05H0tryP3_"
      },
      "execution_count": null,
      "outputs": []
    },
    {
      "cell_type": "markdown",
      "source": [
        "###Holidays Visualization"
      ],
      "metadata": {
        "id": "nbCDun8JyWIg"
      }
    },
    {
      "cell_type": "code",
      "source": [
        "#Stacked Barplot of locale name against event type\n",
        "holiday_local_type = holiday_events.groupby(['locale_name', 'type']).size()\n",
        "holiday_local_type.unstack().plot(kind='bar',stacked=True, colormap= 'magma_r', figsize=(12,10),  grid=False)\n",
        "plt.title('Stacked Barplot of locale name against event type')\n",
        "plt.ylabel('Count of entries')\n",
        "plt.show()\n",
        "plt.savefig('holiday.png')"
      ],
      "metadata": {
        "id": "quNhl7BoyYuG"
      },
      "execution_count": null,
      "outputs": []
    },
    {
      "cell_type": "markdown",
      "source": [
        "###Transactions Visualization"
      ],
      "metadata": {
        "id": "PHZGLYcfypu0"
      }
    },
    {
      "cell_type": "code",
      "source": [
        "#Distribution of transactions per day from 2013 till 2017\n",
        "plt.style.use('seaborn-white')\n",
        "plt.figure(figsize=(13,11))\n",
        "plt.plot(transactions.date.values, transactions.transactions.values, color='darkblue')\n",
        "plt.axvline(x='2015-12-23',color='red',alpha=0.3)\n",
        "plt.axvline(x='2016-12-23',color='red',alpha=0.3)\n",
        "plt.axvline(x='2014-12-23',color='red',alpha=0.3)\n",
        "plt.axvline(x='2013-12-23',color='red',alpha=0.3)\n",
        "plt.axvline(x='2013-05-12',color='green',alpha=0.2, linestyle= '--')\n",
        "plt.axvline(x='2015-05-10',color='green',alpha=0.2, linestyle= '--')\n",
        "plt.axvline(x='2016-05-08',color='green',alpha=0.2, linestyle= '--')\n",
        "plt.axvline(x='2014-05-11',color='green',alpha=0.2, linestyle= '--')\n",
        "plt.axvline(x='2017-05-14',color='green',alpha=0.2, linestyle= '--')\n",
        "plt.ylim(-50, 10000)\n",
        "plt.title(\"Distribution of transactions per day from 2013 till 2017\")\n",
        "plt.ylabel('transactions per day', fontsize= 16)\n",
        "plt.xlabel('Date', fontsize= 16)\n",
        "plt.show()\n",
        "plt.savefig('transaction1317.png')"
      ],
      "metadata": {
        "id": "o7C9nPDGysYS"
      },
      "execution_count": null,
      "outputs": []
    },
    {
      "cell_type": "code",
      "source": [
        "#transactions per day\n",
        "plt.style.use('seaborn-deep')\n",
        "plt.figure(figsize=(13,11))\n",
        "plt.plot(train.date.values, train.unit_sales)\n",
        "plt.ylim(-50, 10000)\n",
        "plt.ylabel('transactions per day')\n",
        "plt.xlabel('Date')\n",
        "plt.savefig('Transactionspday.png')\n"
      ],
      "metadata": {
        "id": "3oaGojltzKC3"
      },
      "execution_count": null,
      "outputs": []
    },
    {
      "cell_type": "markdown",
      "source": [
        "###Items Visualizations"
      ],
      "metadata": {
        "id": "QTrASVhPytTW"
      }
    },
    {
      "cell_type": "code",
      "source": [
        "#Counts of items per family category\n",
        "x, y = (list(x) for x in zip(*sorted(zip(items.family.value_counts().index, \n",
        "                                         items.family.value_counts().values), \n",
        "                                        reverse = False)))\n",
        "trace2 = go.Bar(\n",
        "    y=items.family.value_counts().values,\n",
        "    x=items.family.value_counts().index,\n",
        "    marker=dict(\n",
        "        color=items.family.value_counts().values,\n",
        "        colorscale = 'Portland',\n",
        "        reversescale = False\n",
        "    ),\n",
        "    orientation='v',\n",
        ")\n",
        "\n",
        "layout = dict(\n",
        "    title='Counts of items per family category',\n",
        "     width = 800, height = 800,\n",
        "    yaxis=dict(\n",
        "        showgrid=False,\n",
        "        showline=False,\n",
        "        showticklabels=True,\n",
        "#         domain=[0, 0.85],\n",
        "    ))\n",
        "\n",
        "fig1 = go.Figure(data=[trace2])\n",
        "fig1['layout'].update(layout)\n",
        "py.iplot(fig1, filename='plots')\n",
        "plt.savefig('Item1.png')"
      ],
      "metadata": {
        "id": "0FCb6wM-yzyU"
      },
      "execution_count": null,
      "outputs": []
    },
    {
      "cell_type": "code",
      "source": [
        "#Number of items attributed to a particular item class\n",
        "x, y = (list(x) for x in zip(*sorted(zip(items['class'].value_counts().index, \n",
        "                                         items['class'].value_counts().values), \n",
        "                                        reverse = False)))\n",
        "trace2 = go.Bar(\n",
        "    x=items['class'].value_counts().index,\n",
        "    y=items['class'].value_counts().values,\n",
        "    marker=dict(\n",
        "        color=items['class'].value_counts().values,\n",
        "        colorscale = 'Jet',\n",
        "        reversescale = True\n",
        "    ),\n",
        "    orientation='v',\n",
        ")\n",
        "\n",
        "layout = dict(\n",
        "    title='Number of items attributed to a particular item class',\n",
        "     width = 800, height = 1400,\n",
        "    yaxis=dict(\n",
        "        showgrid=False,\n",
        "        showline=False,\n",
        "        showticklabels=True,\n",
        "#         domain=[0, 0.85],\n",
        "    ))\n",
        "\n",
        "fig1 = go.Figure(data=[trace2])\n",
        "fig1['layout'].update(layout)\n",
        "py.iplot(fig1, filename='plots')\n",
        "plt.savefig('Item2.png')"
      ],
      "metadata": {
        "id": "ANKpI9May3vO"
      },
      "execution_count": null,
      "outputs": []
    },
    {
      "cell_type": "code",
      "source": [
        "#Stacked Barplot of locale name against event type\n",
        "plt.style.use('seaborn-white')\n",
        "fam_perishable = items.groupby(['family', 'perishable']).size()\n",
        "fam_perishable.unstack().plot(kind='bar',stacked=True, colormap= 'coolwarm', figsize=(12,10),  grid=False)\n",
        "plt.title('Stacked Barplot of locale name against event type')\n",
        "plt.ylabel('Count of entries')\n",
        "plt.savefig('Item3.png')"
      ],
      "metadata": {
        "id": "Z_yQrcUazFLI"
      },
      "execution_count": null,
      "outputs": []
    },
    {
      "cell_type": "code",
      "source": [
        "#Close step, mark it as completed in the webapp and publish message\n",
        "step.close(message=\"I generated a total of 10 graphs. Some side reseach also gave sense to some data incoherence that could be observed. For example the 2016 hearthquake\")"
      ],
      "metadata": {
        "id": "6BCtsho33CZy"
      },
      "execution_count": null,
      "outputs": []
    },
    {
      "cell_type": "markdown",
      "source": [
        "#Verify Data Quality"
      ],
      "metadata": {
        "id": "3kfw8zVM4jw8"
      }
    },
    {
      "cell_type": "code",
      "source": [
        "# Get the Verify Data Quality step\n",
        "step = iter.step(\"Verify Data Quality\")"
      ],
      "metadata": {
        "id": "ygBO6Z_X4nzB"
      },
      "execution_count": null,
      "outputs": []
    },
    {
      "cell_type": "code",
      "source": [
        "#Close step, mark it as completed in the webapp and publish message\n",
        "step.close(message=\"The information comprise in this dataset is accurate and comprehensive. As the information aligns with other trusted resources, the dataset was considered as reliable and also relevant to the business problem we are trying to solve. However, this data can not be used for real time reporting as the data does not update itself. \")"
      ],
      "metadata": {
        "id": "7VcpjIN44tBQ"
      },
      "execution_count": null,
      "outputs": []
    }
  ],
  "metadata": {
    "kernelspec": {
      "display_name": "Python 3",
      "language": "python",
      "name": "python3"
    },
    "language_info": {
      "codemirror_mode": {
        "name": "ipython",
        "version": 3
      },
      "file_extension": ".py",
      "mimetype": "text/x-python",
      "name": "python",
      "nbconvert_exporter": "python",
      "pygments_lexer": "ipython3",
      "version": "3.8.3"
    },
    "toc": {
      "base_numbering": 1,
      "nav_menu": {},
      "number_sections": true,
      "sideBar": true,
      "skip_h1_title": false,
      "title_cell": "Table of Contents",
      "title_sidebar": "Contents",
      "toc_cell": false,
      "toc_position": {},
      "toc_section_display": true,
      "toc_window_display": false
    },
    "varInspector": {
      "cols": {
        "lenName": 16,
        "lenType": 16,
        "lenVar": 40
      },
      "kernels_config": {
        "python": {
          "delete_cmd_postfix": "",
          "delete_cmd_prefix": "del ",
          "library": "var_list.py",
          "varRefreshCmd": "print(var_dic_list())"
        },
        "r": {
          "delete_cmd_postfix": ") ",
          "delete_cmd_prefix": "rm(",
          "library": "var_list.r",
          "varRefreshCmd": "cat(var_dic_list()) "
        }
      },
      "types_to_exclude": [
        "module",
        "function",
        "builtin_function_or_method",
        "instance",
        "_Feature"
      ],
      "window_display": false
    },
    "colab": {
      "provenance": []
    }
  },
  "nbformat": 4,
  "nbformat_minor": 0
}