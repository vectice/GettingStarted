{
 "cells": [
  {
   "cell_type": "markdown",
   "id": "960ccce8",
   "metadata": {},
   "source": [
    "<a target=\"_blank\" href=\"https://colab.research.google.com/github/vectice/GettingStarted/blob/main/24.1/samples/Validation%20library/ValidationLibrary.ipynb\">\n",
    "  <img src=\"https://colab.research.google.com/assets/colab-badge.svg\" alt=\"Open In Colab\"/>\n",
    "</a>"
   ]
  },
  {
   "attachments": {},
   "cell_type": "markdown",
   "id": "eabedfd0-bda4-4a9f-9ef2-6514a91dbb98",
   "metadata": {},
   "source": [
    "# Validation library test\n",
    "\n"
   ]
  },
  {
   "attachments": {},
   "cell_type": "markdown",
   "id": "6da9fd84-09a0-4d30-bc00-c91dea5cd98f",
   "metadata": {},
   "source": [
    "## Install the latest Vectice Python client library"
   ]
  },
  {
   "cell_type": "code",
   "execution_count": 1,
   "id": "d4b2e8b6",
   "metadata": {},
   "outputs": [
    {
     "name": "stdout",
     "output_type": "stream",
     "text": [
      "['/Users/bryandaversa/Vectice/sdk-python/perso', '/Users/bryandaversa/.pyenv/versions/3.9.16/lib/python39.zip', '/Users/bryandaversa/.pyenv/versions/3.9.16/lib/python3.9', '/Users/bryandaversa/.pyenv/versions/3.9.16/lib/python3.9/lib-dynload', '', '/Users/bryandaversa/Vectice/sdk-python/.venv/lib/python3.9/site-packages', '/Users/bryandaversa/Vectice/sdk-python/src', '.']\n",
      ".\n"
     ]
    }
   ],
   "source": [
    "from pathlib import Path\n",
    "import sys\n",
    "\n",
    "path_root = Path(\"./src/vectice\").parents[1]\n",
    "sys.path.append(str(path_root))\n",
    "print(sys.path)\n",
    "\n",
    "import vectice\n",
    "\n",
    "print(path_root)"
   ]
  },
  {
   "attachments": {},
   "cell_type": "markdown",
   "id": "10195b2a-a959-4a7b-a20b-e45c292930ef",
   "metadata": {},
   "source": [
    "## Run your regular ML project"
   ]
  },
  {
   "cell_type": "markdown",
   "id": "7c71f442",
   "metadata": {},
   "source": [
    "## Import library"
   ]
  },
  {
   "cell_type": "code",
   "execution_count": 1,
   "id": "106d40b5",
   "metadata": {},
   "outputs": [],
   "source": [
    "# import piml\n",
    "import pandas as pd\n",
    "\n",
    "# numpy and pandas for data manipulation\n",
    "import numpy as np\n",
    "import pandas as pd\n",
    "\n",
    "# sklearn preprocessing for dealing with categorical variables\n",
    "from sklearn.preprocessing import LabelEncoder\n",
    "\n",
    "\n",
    "# File system manangement\n",
    "import os\n",
    "\n",
    "# Suppress warnings\n",
    "import warnings\n",
    "\n",
    "warnings.filterwarnings(\"ignore\")\n",
    "\n",
    "# matplotlib and seaborn for plotting\n",
    "import matplotlib.pyplot as plt\n",
    "import seaborn as sns"
   ]
  },
  {
   "cell_type": "markdown",
   "id": "bcee30ce",
   "metadata": {},
   "source": [
    "## Feature engineering and Train test split"
   ]
  },
  {
   "cell_type": "code",
   "execution_count": 2,
   "id": "14e6b72f",
   "metadata": {},
   "outputs": [
    {
     "name": "stdout",
     "output_type": "stream",
     "text": [
      "Training data shape:  (261384, 122)\n",
      "Testing shape:  (46127, 121)\n",
      "Testing target shape:  (46127,)\n"
     ]
    }
   ],
   "source": [
    "from sklearn.model_selection import train_test_split\n",
    "\n",
    "# Training data\n",
    "application_cleaned = pd.read_csv(\"/Users/bryandaversa/Vectice/GettingStarted/perso/Demo-Bank/application_train.csv\")\n",
    "app_train_feat, app_test_feat = train_test_split(application_cleaned, test_size=0.15, random_state=42)\n",
    "# Separate the target variable from the testing set\n",
    "target_variable = \"TARGET\"\n",
    "app_test_feat_target = app_test_feat[target_variable]\n",
    "app_test_feat = app_test_feat.drop(target_variable, axis=1)\n",
    "\n",
    "# Print the shapes of the resulting dataframes\n",
    "print(\"Training data shape: \", app_train_feat.shape)\n",
    "print(\"Testing shape: \", app_test_feat.shape)\n",
    "print(\"Testing target shape: \", app_test_feat_target.shape)"
   ]
  },
  {
   "cell_type": "code",
   "execution_count": 4,
   "id": "612392ba",
   "metadata": {},
   "outputs": [
    {
     "name": "stdout",
     "output_type": "stream",
     "text": [
      "3 columns were label encoded.\n",
      "Training Features shape:  (261384, 244)\n",
      "Testing Features shape:  (46127, 243)\n",
      "There are 8287 anomalies in the test data out of 46127 entries\n"
     ]
    }
   ],
   "source": [
    "# Create a label encoder object\n",
    "le = LabelEncoder()\n",
    "le_count = 0\n",
    "\n",
    "# Iterate through the columns\n",
    "for col in app_train_feat:\n",
    "    if app_train_feat[col].dtype == \"object\":\n",
    "        # If 2 or fewer unique categories\n",
    "        if len(list(app_train_feat[col].unique())) <= 2:\n",
    "            # Train on the training data\n",
    "            le.fit(app_train_feat[col])\n",
    "            # Transform both training and testing data\n",
    "            app_train_feat[col] = le.transform(app_train_feat[col])\n",
    "            app_test_feat[col] = le.transform(app_test_feat[col])\n",
    "\n",
    "            # Keep track of how many columns were label encoded\n",
    "            le_count += 1\n",
    "\n",
    "print(\"%d columns were label encoded.\" % le_count)\n",
    "\n",
    "\n",
    "# one-hot encoding of categorical variables\n",
    "app_train_feat = pd.get_dummies(app_train_feat)\n",
    "app_test_feat = pd.get_dummies(app_test_feat)\n",
    "train_labels = app_train_feat[\"TARGET\"]\n",
    "\n",
    "# Align the training and testing data, keep only columns present in both dataframes\n",
    "app_train_feat, app_test_feat = app_train_feat.align(app_test_feat, join=\"inner\", axis=1)\n",
    "\n",
    "# Add the target back in\n",
    "app_train_feat[\"TARGET\"] = train_labels\n",
    "\n",
    "\n",
    "# Create an anomalous flag column\n",
    "app_train_feat[\"DAYS_EMPLOYED_ANOM\"] = app_train_feat[\"DAYS_EMPLOYED\"] == 365243\n",
    "\n",
    "# Replace the anomalous values with nan\n",
    "app_train_feat[\"DAYS_EMPLOYED\"].replace({365243: np.nan}, inplace=True)\n",
    "\n",
    "\n",
    "app_test_feat[\"DAYS_EMPLOYED_ANOM\"] = app_test_feat[\"DAYS_EMPLOYED\"] == 365243\n",
    "app_test_feat[\"DAYS_EMPLOYED\"].replace({365243: np.nan}, inplace=True)\n",
    "print(\"Training Features shape: \", app_train_feat.shape)\n",
    "print(\"Testing Features shape: \", app_test_feat.shape)\n",
    "print(\n",
    "    \"There are %d anomalies in the test data out of %d entries\"\n",
    "    % (app_test_feat[\"DAYS_EMPLOYED_ANOM\"].sum(), len(app_test_feat))\n",
    ")"
   ]
  },
  {
   "cell_type": "code",
   "execution_count": 5,
   "id": "ee31adac",
   "metadata": {},
   "outputs": [],
   "source": [
    "from sklearn.impute import SimpleImputer\n",
    "\n",
    "# Drop the target from the training data\n",
    "if \"TARGET\" in app_train_feat:\n",
    "    train_no_missing = app_train_feat.drop(columns=[\"TARGET\"])\n",
    "\n",
    "features = list(train_no_missing.columns)\n",
    "\n",
    "# Median imputation of missing values\n",
    "imputer = SimpleImputer(strategy=\"median\")\n",
    "# Fit on the training data\n",
    "imputer.fit(train_no_missing)\n",
    "\n",
    "# Transform both training and testing data\n",
    "train_no_missing = pd.DataFrame(imputer.transform(train_no_missing), columns=features).set_index(\"SK_ID_CURR\")\n",
    "test_no_missing = pd.DataFrame(imputer.transform(app_test_feat), columns=features).set_index(\"SK_ID_CURR\")"
   ]
  },
  {
   "cell_type": "markdown",
   "id": "a2e6549e",
   "metadata": {},
   "source": [
    "# Build model"
   ]
  },
  {
   "cell_type": "code",
   "execution_count": 7,
   "id": "3194e72f",
   "metadata": {},
   "outputs": [],
   "source": [
    "from sklearn.ensemble import RandomForestClassifier\n",
    "\n",
    "# Make the random forest classifier\n",
    "random_forest = RandomForestClassifier(n_estimators=100, random_state=50, min_samples_leaf=0.01, n_jobs=-1)\n",
    "features = list(train_no_missing.columns)\n",
    "# Train on the training data\n",
    "random_forest.fit(train_no_missing, train_labels)\n",
    "\n",
    "# Extract feature importances\n",
    "# feature_importance_values = random_forest.feature_importances_\n",
    "\n",
    "# Make predictions on the test data\n",
    "predictions = random_forest.predict_proba(test_no_missing)[:, 1]\n",
    "prediction_absolte_threshold = (random_forest.predict_proba(test_no_missing)[:,1] >= 0.1).astype(bool) "
   ]
  },
  {
   "cell_type": "markdown",
   "id": "cce99239",
   "metadata": {},
   "source": [
    "# Validation Library"
   ]
  },
  {
   "cell_type": "markdown",
   "id": "739bb84b",
   "metadata": {},
   "source": [
    "## Connect to Vectice"
   ]
  },
  {
   "cell_type": "code",
   "execution_count": 14,
   "id": "7c1c6c2a",
   "metadata": {},
   "outputs": [
    {
     "name": "stderr",
     "output_type": "stream",
     "text": [
      "Welcome, bdaversa. You`re now successfully connected to Vectice.\n",
      "\n",
      "To connect to a phase, copy your phase ID from your Vectice app and use connect.phase(\"PHA-XXXX\")\n",
      "To create your first iteration do iteration = connect.phase(\"PHA-XXXX\").create_or_get_current_iteration()\n",
      "\n",
      "If you are using a notebook you can call the help by using a Vectice returned object with the builtin notebook \"?\":\n",
      ">> connection?\n",
      "\n",
      "If you are using an IDE you can call the help() method on any object returned by Vectice:\n",
      ">> help(connection)\n",
      "\n",
      "For quick access to your default workspace in the Vectice web app, visit:\n",
      "https://qa.vectice.com/browse/workspace/WSP-309\n",
      "Phase 'Modeling' successfully retrieved.\n",
      "\n",
      "For quick access to the Phase in the Vectice web app, visit:\n",
      "https://qa.vectice.com/browse/phase/PHA-6406\n",
      "New Iteration number 60 created.\n",
      "\n",
      "For quick access to the Iteration in the Vectice web app, visit:\n",
      "https://qa.vectice.com/browse/iteration/ITR-6694\n"
     ]
    }
   ],
   "source": [
    "import vectice\n",
    "from vectice.models.validation import ValidationModel\n",
    "\n",
    "connect = vectice.connect(\n",
    "    api_token=\"oQjZ7xVOG.vaJwZbLMYD4WR2z8PN6moQjZ7xVOG35yKqpre7xl91nEkXB0Vd\", host=\"https://qa.vectice.com\"\n",
    ")\n",
    "\n",
    "phase = connect.phase(\"PHA-6406\")\n",
    "iteration = phase.create_iteration()"
   ]
  },
  {
   "cell_type": "markdown",
   "id": "69dfc644",
   "metadata": {},
   "source": [
    "## Tell us which Model and which test you want to run"
   ]
  },
  {
   "cell_type": "code",
   "execution_count": 21,
   "id": "f53b8f7f",
   "metadata": {},
   "outputs": [
    {
     "name": "stderr",
     "output_type": "stream",
     "text": [
      "Test: binary_tests successfully run\n",
      "Model version 'MDV-4090' attachments successfully updated.\n",
      "Existing model version: 'MDV-4090' of model: 'PHA-6786-knn' already linked to iteration: 60.\n",
      "Link to iteration: https://qa.vectice.com/browse/iteration/ITR-6694\n",
      "\n"
     ]
    }
   ],
   "source": [
    "validation_suite = ValidationModel(asset=\"MDV-4090\",                        #The asset you want to run the test on\n",
    "                                dataframe = train_no_missing,               #Your dataset\n",
    "                                predictor = random_forest,                  #Your predictor\n",
    "                                target = app_test_feat_target.values,       #The taregt\n",
    "                                prediction = prediction_absolte_threshold,  #The prediction\n",
    "                                tests = [\"binary_full_suite\"],              #The test suite you want to run\n",
    "                                )\n",
    "\n",
    "\n",
    "iteration.log(validation_suite)\n"
   ]
  }
 ],
 "metadata": {
  "kernelspec": {
   "display_name": "Python 3",
   "language": "python",
   "name": "python3"
  },
  "language_info": {
   "codemirror_mode": {
    "name": "ipython",
    "version": 3
   },
   "file_extension": ".py",
   "mimetype": "text/x-python",
   "name": "python",
   "nbconvert_exporter": "python",
   "pygments_lexer": "ipython3",
   "version": "3.9.16"
  }
 },
 "nbformat": 4,
 "nbformat_minor": 5
}
