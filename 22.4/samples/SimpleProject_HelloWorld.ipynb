{
 "cells": [
  {
   "cell_type": "code",
   "execution_count": null,
   "id": "3e22163e-180a-43c1-9b35-6b28adb8bcdd",
   "metadata": {},
   "outputs": [],
   "source": [
    "# Load libraries\n",
    "from pandas import read_csv\n",
    "from pandas.plotting import scatter_matrix\n",
    "from matplotlib import pyplot\n",
    "from sklearn.model_selection import train_test_split\n",
    "from sklearn.model_selection import cross_val_score\n",
    "from sklearn.model_selection import cross_validate\n",
    "from sklearn.model_selection import StratifiedKFold\n",
    "from sklearn.metrics import classification_report\n",
    "from sklearn.metrics import confusion_matrix\n",
    "from sklearn.metrics import accuracy_score\n",
    "from sklearn.linear_model import LogisticRegression\n",
    "from sklearn.tree import DecisionTreeClassifier\n",
    "from sklearn.neighbors import KNeighborsClassifier\n",
    "from sklearn.discriminant_analysis import LinearDiscriminantAnalysis\n",
    "from sklearn.naive_bayes import GaussianNB\n",
    "from sklearn.svm import SVC\n",
    "from sklearn.metrics import confusion_matrix\n",
    "\n",
    "import vectice\n",
    "from vectice import FileDataWrapper\n"
   ]
  },
  {
   "cell_type": "code",
   "execution_count": null,
   "id": "3d449ef8-fcd1-4d06-a2d6-b7bfc273f531",
   "metadata": {},
   "outputs": [],
   "source": [
    "# Load dataset\n",
    "url = \"https://raw.githubusercontent.com/vectice/GettingStarted/main/22.4/tutorial/Data/iris.csv\"\n",
    "names = ['sepal-length', 'sepal-width', 'petal-length', 'petal-width', 'class']\n",
    "dataset = read_csv(url, names=names)"
   ]
  },
  {
   "cell_type": "code",
   "execution_count": null,
   "id": "dfda9ef4-7fcf-4f1a-98e1-f07e823d7020",
   "metadata": {},
   "outputs": [],
   "source": [
    "## Goal of this sample is to simply catalog assets in Vectice\n",
    "\n",
    "# Connect to Vectice\n",
    "conn = vectice.connect(\n",
    "    api_token='oB5OEdKOg.Gn9QE8yRGW7mN4jxd0ZaAoB5OEdKOgLz3P6rlk2bVDwXYMpevJ', \n",
    "    host='https://app.vectice.com',\n",
    "    workspace='Samples'\n",
    ")\n",
    "# print(conn.projects) # get list of projects\n",
    "project = conn.project(6720)"
   ]
  },
  {
   "cell_type": "code",
   "execution_count": null,
   "id": "b8870031-3262-4324-a958-d8c316d1d1b4",
   "metadata": {},
   "outputs": [],
   "source": [
    "# Set the origin dataset for the project\n",
    "project.origin_dataset = FileDataWrapper(path= 'iris.csv', name=\"Iris Dataset\",capture_code=False)"
   ]
  },
  {
   "cell_type": "code",
   "execution_count": null,
   "id": "b6bd8595-8de2-4bc5-801f-be79b1142752",
   "metadata": {},
   "outputs": [],
   "source": [
    "# Plot the dataset\n",
    "dataset.plot(kind='box', subplots=True, layout=(2,2), sharex=False, sharey=False)\n",
    "boxplot = pyplot.savefig(\"boxplot.jpg\")\n",
    "pyplot.show()\n",
    "\n",
    "# histograms\n",
    "dataset.hist()\n",
    "histogram = pyplot.savefig(\"histogram.jpg\")\n",
    "pyplot.show()\n",
    "\n",
    "### NO WAY FOR ME TO PUSH THESE ATTACHMENTS? 23.1"
   ]
  },
  {
   "cell_type": "code",
   "execution_count": null,
   "id": "ff3afa33-828c-42d7-873b-122c574f97f5",
   "metadata": {},
   "outputs": [],
   "source": [
    "# Split-out validation dataset\n",
    "array = dataset.values\n",
    "X = array[:,0:4]\n",
    "y = array[:,4]\n",
    "X_train, X_validation, Y_train, Y_validation = train_test_split(X, y, test_size=0.20, random_state=1)\n",
    "\n",
    "# Build Vectice objs\n",
    "training_wrapped = FileDataWrapper(path=\"X_train\", name=\"X_train\", usage=vectice.DatasetSourceUsage.TRAINING, capture_code=False)\n",
    "validation_wrapped = FileDataWrapper(path=\"X_validation\", name=\"X_validation\", usage=vectice.DatasetSourceUsage.VALIDATION, capture_code=False)\n",
    "\n",
    "project.training_dataset = training_wrapped\n",
    "project.validation_dataset = validation_wrapped\n",
    "\n",
    "## Nothing happen"
   ]
  },
  {
   "cell_type": "code",
   "execution_count": null,
   "id": "8e8a57b3-0502-4217-b2d0-f2cc205195fc",
   "metadata": {},
   "outputs": [],
   "source": [
    "# Spot Check Algorithms\n",
    "models = []\n",
    "models.append(('LR', LogisticRegression(solver='liblinear', multi_class='ovr')))\n",
    "models.append(('LDA', LinearDiscriminantAnalysis()))\n",
    "models.append(('KNN', KNeighborsClassifier()))\n",
    "models.append(('CART', DecisionTreeClassifier()))\n",
    "models.append(('NB', GaussianNB()))\n",
    "models.append(('SVM', SVC(gamma='auto')))\n",
    "# evaluate each model in turn\n",
    "results = []\n",
    "names = []\n",
    "# Start Vectice iteration\n",
    "iterStep = project.phase(\"Modeling\").iteration.step(\"Build model\")\n",
    "for name, model in models:\n",
    " kfold = StratifiedKFold(n_splits=5, random_state=1, shuffle=True)\n",
    " cv_results = cross_val_score(model, X_train, Y_train, cv=kfold, scoring='accuracy')\n",
    " results.append(cv_results)\n",
    " names.append(name)\n",
    " metrics = {\"Mean\": cv_results.mean(), \"Std.\": cv_results.std()}\n",
    "# Document model in Vectice - 1 line\n",
    " project.phase(\"Modeling\").iterations[0].model = vectice.Model(name= 'Iris Classification Models', library= name, technique=name, metrics=metrics, attachments=['boxplot.jpg','histogram.jpg'], capture_code= False)\n",
    " #print('%s: %f (%f)' % (name, cv_results.mean(), cv_results.std()))\n",
    "# Close Vectice step\n",
    "iterStep.close(message=\"Iteration done\")"
   ]
  }
 ],
 "metadata": {
  "kernelspec": {
   "display_name": "Python 3 (ipykernel)",
   "language": "python",
   "name": "python3"
  },
  "language_info": {
   "codemirror_mode": {
    "name": "ipython",
    "version": 3
   },
   "file_extension": ".py",
   "mimetype": "text/x-python",
   "name": "python",
   "nbconvert_exporter": "python",
   "pygments_lexer": "ipython3",
   "version": "3.9.12"
  }
 },
 "nbformat": 4,
 "nbformat_minor": 5
}
