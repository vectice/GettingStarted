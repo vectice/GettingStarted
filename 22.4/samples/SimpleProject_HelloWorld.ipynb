{
 "cells": [
  {
   "cell_type": "code",
   "execution_count": 29,
   "id": "3e22163e-180a-43c1-9b35-6b28adb8bcdd",
   "metadata": {},
   "outputs": [
    {
     "ename": "ImportError",
     "evalue": "cannot import name 'connect' from 'vectice' (unknown location)",
     "output_type": "error",
     "traceback": [
      "\u001b[0;31m---------------------------------------------------------------------------\u001b[0m",
      "\u001b[0;31mImportError\u001b[0m                               Traceback (most recent call last)",
      "Cell \u001b[0;32mIn[29], line 20\u001b[0m\n\u001b[1;32m     17\u001b[0m \u001b[39mfrom\u001b[39;00m \u001b[39msklearn\u001b[39;00m\u001b[39m.\u001b[39;00m\u001b[39msvm\u001b[39;00m \u001b[39mimport\u001b[39;00m SVC\n\u001b[1;32m     18\u001b[0m \u001b[39mfrom\u001b[39;00m \u001b[39msklearn\u001b[39;00m\u001b[39m.\u001b[39;00m\u001b[39mmetrics\u001b[39;00m \u001b[39mimport\u001b[39;00m confusion_matrix\n\u001b[0;32m---> 20\u001b[0m \u001b[39mfrom\u001b[39;00m \u001b[39mvectice\u001b[39;00m \u001b[39mimport\u001b[39;00m connect, S3DataWrapper, models, api, Model, DatasetSourceUsage\n",
      "\u001b[0;31mImportError\u001b[0m: cannot import name 'connect' from 'vectice' (unknown location)"
     ]
    }
   ],
   "source": [
    "# Load libraries\n",
    "from pandas import read_csv\n",
    "from pandas.plotting import scatter_matrix\n",
    "from matplotlib import pyplot\n",
    "from sklearn.model_selection import train_test_split\n",
    "from sklearn.model_selection import cross_val_score\n",
    "from sklearn.model_selection import cross_validate\n",
    "from sklearn.model_selection import StratifiedKFold\n",
    "from sklearn.metrics import classification_report\n",
    "from sklearn.metrics import confusion_matrix\n",
    "from sklearn.metrics import accuracy_score\n",
    "from sklearn.linear_model import LogisticRegression\n",
    "from sklearn.tree import DecisionTreeClassifier\n",
    "from sklearn.neighbors import KNeighborsClassifier\n",
    "from sklearn.discriminant_analysis import LinearDiscriminantAnalysis\n",
    "from sklearn.naive_bayes import GaussianNB\n",
    "from sklearn.svm import SVC\n",
    "from sklearn.metrics import confusion_matrix\n",
    "\n",
    "from vectice import connect, S3DataWrapper, models, api, Model, DatasetSourceUsage\n",
    "\n"
   ]
  },
  {
   "cell_type": "code",
   "execution_count": 18,
   "id": "3d449ef8-fcd1-4d06-a2d6-b7bfc273f531",
   "metadata": {},
   "outputs": [],
   "source": [
    "# Load dataset\n",
    "url = \"https://raw.githubusercontent.com/vectice/GettingStarted/main/22.4/tutorial/Data/iris.csv\"\n",
    "names = ['sepal-length', 'sepal-width', 'petal-length', 'petal-width', 'class']\n",
    "dataset = read_csv(url, names=names)"
   ]
  },
  {
   "cell_type": "code",
   "execution_count": 28,
   "id": "dfda9ef4-7fcf-4f1a-98e1-f07e823d7020",
   "metadata": {},
   "outputs": [
    {
     "ename": "AttributeError",
     "evalue": "module 'vectice' has no attribute 'connect'",
     "output_type": "error",
     "traceback": [
      "\u001b[0;31m---------------------------------------------------------------------------\u001b[0m",
      "\u001b[0;31mAttributeError\u001b[0m                            Traceback (most recent call last)",
      "Cell \u001b[0;32mIn[28], line 4\u001b[0m\n\u001b[1;32m      1\u001b[0m \u001b[39m## Goal of this sample is to simply catalog assets in Vectice\u001b[39;00m\n\u001b[1;32m      2\u001b[0m \n\u001b[1;32m      3\u001b[0m \u001b[39m# Connect to Vectice\u001b[39;00m\n\u001b[0;32m----> 4\u001b[0m conn \u001b[39m=\u001b[39m vectice\u001b[39m.\u001b[39;49mconnect(\n\u001b[1;32m      5\u001b[0m     api_token\u001b[39m=\u001b[39m\u001b[39m'\u001b[39m\u001b[39mgZq7A41al.xxGVXQ0on8JDPA6z2j4r9gZq7A41albEMLdOmvp3kwW7YeRNBy\u001b[39m\u001b[39m'\u001b[39m, \n\u001b[1;32m      6\u001b[0m     host\u001b[39m=\u001b[39m\u001b[39m'\u001b[39m\u001b[39mhttps://app.vectice.com\u001b[39m\u001b[39m'\u001b[39m,\n\u001b[1;32m      7\u001b[0m     workspace\u001b[39m=\u001b[39m\u001b[39m'\u001b[39m\u001b[39mSamples\u001b[39m\u001b[39m'\u001b[39m\n\u001b[1;32m      8\u001b[0m )\n\u001b[1;32m      9\u001b[0m \u001b[39m# print(conn.projects) # get list of projects\u001b[39;00m\n\u001b[1;32m     10\u001b[0m project \u001b[39m=\u001b[39m conn\u001b[39m.\u001b[39mproject(\u001b[39m6738\u001b[39m)\n",
      "\u001b[0;31mAttributeError\u001b[0m: module 'vectice' has no attribute 'connect'"
     ]
    }
   ],
   "source": [
    "## Goal of this sample is to simply catalog assets in Vectice\n",
    "\n",
    "# Connect to Vectice\n",
    "conn = vectice.connect(\n",
    "    api_token='gZq7A41al.xxGVXQ0on8JDPA6z2j4r9gZq7A41albEMLdOmvp3kwW7YeRNBy', \n",
    "    host='https://app.vectice.com',\n",
    "    workspace='Samples'\n",
    ")\n",
    "# print(conn.projects) # get list of projects\n",
    "project = conn.project(6738)"
   ]
  },
  {
   "cell_type": "code",
   "execution_count": null,
   "id": "14258c21",
   "metadata": {},
   "outputs": [],
   "source": [
    "#prj_sdw = DataFrameDataWrapper(df= dataset, name=\"Iris Dataset\",capture_code=False)\n",
    "#prj_fdw = FileDataWrapper(path= 'iris.csv', name=\"Iris Dataset\",capture_code=False)\n",
    "#print(prj_sdw)\n",
    "#project.origin_dataset = prj_fdw"
   ]
  },
  {
   "cell_type": "code",
   "execution_count": null,
   "id": "b6bd8595-8de2-4bc5-801f-be79b1142752",
   "metadata": {},
   "outputs": [],
   "source": [
    "# Plot the dataset\n",
    "dataset.plot(kind='box', subplots=True, layout=(2,2), sharex=False, sharey=False)\n",
    "boxplot = pyplot.savefig(\"boxplot.jpg\")\n",
    "pyplot.show()\n",
    "\n",
    "# histograms\n",
    "dataset.hist()\n",
    "histogram = pyplot.savefig(\"histogram.jpg\")\n",
    "pyplot.show()"
   ]
  },
  {
   "cell_type": "code",
   "execution_count": null,
   "id": "ff3afa33-828c-42d7-873b-122c574f97f5",
   "metadata": {},
   "outputs": [],
   "source": [
    "# Split-out validation dataset\n",
    "array = dataset.values\n",
    "X = array[:,0:4]\n",
    "y = array[:,4]\n",
    "X_train, X_validation, Y_train, Y_validation = train_test_split(X, y, test_size=0.20, random_state=1)\n",
    "\n",
    "# Build Vectice objs\n",
    "\n",
    "# Set the origin dataset for the project\n",
    "project.origin_dataset = FileDataWrapper(path= 'iris.csv', name=\"Iris Dataset\",capture_code=False)\n",
    "\n",
    "# This dataset is now available for use as a Dataset Asset Widget in Vectice webapp\n",
    "\n",
    "training_wrapped = vectice.FileDataWrapper(path=\"iris.csv\", name=\"iteration 2\", usage=vectice.DatasetSourceUsage.TRAINING, capture_code=False)\n",
    "testing_wrapped = vectice.FileDataWrapper(path=\"iris2.csv\", name=\"iteration 2\", usage=vectice.DatasetSourceUsage.TESTING, capture_code=False)\n",
    "validation_wrapped = vectice.FileDataWrapper(path=\"iris3.csv\", name=\"iteration 2\", usage=vectice.DatasetSourceUsage.VALIDATION, capture_code=False)\n",
    "\n",
    "# I can define other datasets that I use on the project - they will become available as widgets\n",
    "project.phase(\"Modeling\").clean_dataset = training_wrapped\n",
    "\n",
    "#project.phase(\"Modeling\").training_dataset = training_wrapped\n",
    "#project.phase(\"Modeling\").testing_dataset = testing_wrapped\n",
    "#project.phase(\"Modeling\").validation_dataset = validation_wrapped\n"
   ]
  },
  {
   "cell_type": "code",
   "execution_count": null,
   "id": "8e8a57b3-0502-4217-b2d0-f2cc205195fc",
   "metadata": {},
   "outputs": [],
   "source": [
    "# Spot Check Algorithms\n",
    "models = []\n",
    "models.append(('Logistic Regression', 'LR', LogisticRegression(solver='liblinear', multi_class='ovr')))\n",
    "models.append(('Linear Discriminant Analysis', 'LDA', LinearDiscriminantAnalysis()))\n",
    "models.append(('KNeighbors Classifier', 'KNN', KNeighborsClassifier()))\n",
    "models.append(('Decision Tree Classifier','CART',  DecisionTreeClassifier()))\n",
    "models.append(('Gaussian NB', 'NB', GaussianNB()))\n",
    "models.append(('Support Vector Classifier','SVM', SVC(gamma='auto')))\n",
    "\n",
    "# evaluate each model in turn\n",
    "results = []\n",
    "names = []\n",
    "#iterStep = project.phase(\"Modeling\").iteration.step(\"Build model\")\n",
    "for name, label, model in models:\n",
    " iterStep = project.phase(\"Modeling\").iteration.step(\"Build model\")\n",
    " kfold = StratifiedKFold(n_splits=10, random_state=1, shuffle=True)\n",
    " scoring = {'acc': 'accuracy',\n",
    "           'prec_macro': 'precision_macro',\n",
    "           'rec_micro': 'recall_macro'}\n",
    " cv_results = cross_validate(model, X_train, Y_train, cv=kfold, scoring=scoring)\n",
    " results.append(cv_results['test_acc'])\n",
    " names.append(label)\n",
    " metrics = {\"Accuracy Mean\": cv_results['test_acc'].mean(), \n",
    "            \"Accuracy Std.\": cv_results['test_acc'].std(), \n",
    "            \"Score Time Mean\": cv_results['score_time'].mean(),\n",
    "            \"Score Time Std.\": cv_results['score_time'].std()}\n",
    " #Document model in Vectice - 1 line\n",
    " #project.phase(\"Modeling\").iterations[0].model = vectice.Model(name= 'Iris Classification Models', library= name, technique=name, metrics=metrics, attachments=['boxplot.jpg','histogram.jpg'], capture_code= True)\n",
    " iterStep.model  = vectice.Model(name= 'Iris Classification Models', library= name, technique=name, metrics=metrics, attachments=['boxplot.jpg','histogram.jpg'], capture_code= True)\n",
    " iterStep.close(message=\"Iteration done\\n\" + str(metrics))\n",
    "# Close Vectice step\n",
    "#iterStep.close(message=\"Iteration done\")"
   ]
  },
  {
   "cell_type": "code",
   "execution_count": null,
   "id": "a32a8c23",
   "metadata": {},
   "outputs": [],
   "source": [
    "iterStep.close(message=\"Iteration done\")\n",
    "#print(project.phase(\"Modeling\").iterations[5].properties)"
   ]
  },
  {
   "cell_type": "code",
   "execution_count": null,
   "id": "f774e141",
   "metadata": {},
   "outputs": [],
   "source": [
    "# Compare Algorithms\n",
    "pyplot.boxplot(results, labels=names)\n",
    "pyplot.title('Algorithm Comparison')\n",
    "pyplot.savefig(\"algComp.jpg\")\n",
    "pyplot.show()"
   ]
  }
 ],
 "metadata": {
  "kernelspec": {
   "display_name": "Python 3",
   "language": "python",
   "name": "python3"
  },
  "language_info": {
   "codemirror_mode": {
    "name": "ipython",
    "version": 3
   },
   "file_extension": ".py",
   "mimetype": "text/x-python",
   "name": "python",
   "nbconvert_exporter": "python",
   "pygments_lexer": "ipython3",
   "version": "3.9.2"
  },
  "vscode": {
   "interpreter": {
    "hash": "397704579725e15f5c7cb49fe5f0341eb7531c82d19f2c29d197e8b64ab5776b"
   }
  }
 },
 "nbformat": 4,
 "nbformat_minor": 5
}
