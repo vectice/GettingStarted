{
 "cells": [
  {
   "cell_type": "code",
   "execution_count": null,
   "metadata": {},
   "outputs": [],
   "source": [
    "# Install Vectice\n",
    "%pip install -q vectice"
   ]
  },
  {
   "attachments": {},
   "cell_type": "markdown",
   "metadata": {},
   "source": [
    "### Instructions\n",
    "\n",
    "Paste your API token below and execute the block. (your token can be generated [here](https://app.vectice.com/account/api-keys) )   \n",
    "      \n",
    "The message contained on the close() method will be populated on the iteration's step"
   ]
  },
  {
   "cell_type": "code",
   "execution_count": 8,
   "metadata": {},
   "outputs": [
    {
     "name": "stderr",
     "output_type": "stream",
     "text": [
      "2023/01/20 13:17:59 INFO vectice.connection: Vectice successfully connected.\n",
      "2023/01/20 13:17:59 WARNING vectice.connection: compatibility warning: Please upgrade to one of the Vectice SDK versions from 22.4.4.0 to 23.1.1 which are more compatible with your Vectice application.\n",
      "2023/01/20 13:18:00 INFO vectice.connection: Your current workspace: Samples - WIP\n",
      "2023/01/20 13:18:01 WARNING vectice.connection: No Iteration exists with activity. When an Iteration is created, last used assets will be displayed.\n",
      "2023/01/20 13:18:02 INFO vectice.models.workspace: Your current project: 7240\n",
      "2023/01/20 13:57:40 INFO vectice.models.project: Phase with id: 30423 successfully retrieved.\n",
      "2023/01/20 13:57:41 INFO vectice.models.phase: Iteration with id: 3516 successfully retrieved.\n",
      "2023/01/20 13:57:42 INFO vectice.models.iteration: Step: Assess model successfully retrieved.\n",
      "2023/01/20 13:57:42 INFO vectice.models.step: 'Assess model' was successfully closed.\n"
     ]
    }
   ],
   "source": [
    "# Import vectice package\n",
    "import vectice\n",
    "\n",
    "# Connect using your token API - Your token can be found here: https://app.vectice.com/account/api-keys\n",
    "conn = vectice.connect(\n",
    "    api_token='YOUR API TOKEN', \n",
    "    host='https://app.vectice.com',\n",
    "    workspace='Samples - WIP'\n",
    ")\n",
    "# Open the project\n",
    "project = conn.project(\"How To: Reporting your Milestones\")\n",
    "# and document the 'Assess Model' step of the 'Modeling' phase\n",
    "metrics = {\"Accuracy Mean\": 0.98866325, \n",
    "            \"Accuracy Std.\": 0.033, \n",
    "            \"Score Time Mean\": 0.013,\n",
    "            \"Score Time Std.\": 0.002}\n",
    "project.phase(\"Modeling\").iteration().step(\"Assess model\").close(message=\"Model metrics report: \" + str(metrics))"
   ]
  }
 ],
 "metadata": {
  "kernelspec": {
   "display_name": "Python 3",
   "language": "python",
   "name": "python3"
  },
  "language_info": {
   "codemirror_mode": {
    "name": "ipython",
    "version": 3
   },
   "file_extension": ".py",
   "mimetype": "text/x-python",
   "name": "python",
   "nbconvert_exporter": "python",
   "pygments_lexer": "ipython3",
   "version": "3.9.2"
  },
  "orig_nbformat": 4,
  "vscode": {
   "interpreter": {
    "hash": "397704579725e15f5c7cb49fe5f0341eb7531c82d19f2c29d197e8b64ab5776b"
   }
  }
 },
 "nbformat": 4,
 "nbformat_minor": 2
}
