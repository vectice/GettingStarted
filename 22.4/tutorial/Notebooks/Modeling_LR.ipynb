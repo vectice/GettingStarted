{
  "cells": [
    {
      "cell_type": "markdown",
      "id": "8wNagshCYiQe",
      "metadata": {
        "id": "8wNagshCYiQe"
      },
      "source": [
        "# Before your start with this Tutorial\n",
        "\n",
        "**Tutorial Intention:** Providing an example of iteration and related step on a modeling phase for you to:\n",
        "\n",
        "*   Experience the data science lifecycle using Vectice\n",
        "*   See how simple it is to connect your notebook to Vectice\n",
        "*   Learn how to structure and log your work using Vectice\n",
        "\n",
        "**Resources needed:**\n",
        "*   <b>Tutorial Project: Forecast in-store unit sales (22.4)</b> - You can find it as part of your personal workspace named after your name\n",
        "*   Dataset ready for modeling: https://vectice-examples.s3.us-west-1.amazonaws.com/Tutorial/ForecastTutorial/train_clean.csv\n",
        "*   Vectice Webapp Documentation: https://docs.vectice.com/\n",
        "*   Vectice API documentation: https://api-docs.vectice.com/sdk/index.html"
      ]
    },
    {
      "cell_type": "markdown",
      "id": "52cc6000",
      "metadata": {},
      "source": [
        "## Installing Vectice"
      ]
    },
    {
      "cell_type": "code",
      "execution_count": 123,
      "id": "6e490e5d",
      "metadata": {},
      "outputs": [
        {
          "name": "stderr",
          "output_type": "stream",
          "text": [
            "87327.62s - pydevd: Sending message related to process being replaced timed-out after 5 seconds\n",
            "87334.38s - pydevd: Sending message related to process being replaced timed-out after 5 seconds\n"
          ]
        },
        {
          "name": "stdout",
          "output_type": "stream",
          "text": [
            "Name: vectice\n",
            "Version: 22.4.9.0\n",
            "Summary: Vectice Python library\n",
            "Home-page: https://www.vectice.com\n",
            "Author: Vectice Inc.\n",
            "Author-email: sdk@vectice.com\n",
            "License: Apache License 2.0\n",
            "Location: /Library/Frameworks/Python.framework/Versions/3.7/lib/python3.7/site-packages\n",
            "Requires: Deprecated, gql, python-dotenv, requests, requests-toolbelt, urllib3\n",
            "Required-by: \n"
          ]
        }
      ],
      "source": [
        "!pip3 install --q vectice[git]\n",
        "!pip3 show vectice"
      ]
    },
    {
      "cell_type": "markdown",
      "id": "8G9I3coFz_Hg",
      "metadata": {
        "id": "8G9I3coFz_Hg"
      },
      "source": [
        "## Install optional packages for your project"
      ]
    },
    {
      "cell_type": "code",
      "execution_count": 124,
      "id": "fF8kHhHFz_Hl",
      "metadata": {
        "colab": {
          "base_uri": "https://localhost:8080/",
          "height": 1000
        },
        "id": "fF8kHhHFz_Hl",
        "outputId": "73f58724-5545-438c-a9f5-f7a216fa4fe6"
      },
      "outputs": [
        {
          "name": "stderr",
          "output_type": "stream",
          "text": [
            "87340.75s - pydevd: Sending message related to process being replaced timed-out after 5 seconds\n",
            "87347.18s - pydevd: Sending message related to process being replaced timed-out after 5 seconds\n"
          ]
        }
      ],
      "source": [
        "!pip3 install --q squarify\n",
        "!pip3 install --q plotly"
      ]
    },
    {
      "cell_type": "markdown",
      "id": "hskKudnYIn35",
      "metadata": {
        "id": "hskKudnYIn35"
      },
      "source": [
        "## Import libraries"
      ]
    },
    {
      "cell_type": "code",
      "execution_count": 140,
      "id": "THRC-14Bz_Hp",
      "metadata": {
        "_cell_guid": "b1076dfc-b9ad-4769-8c92-a6c4dae69d19",
        "_uuid": "8f2839f25d086af736a60e9eeb907d3b93b6e0e5",
        "colab": {
          "base_uri": "https://localhost:8080/",
          "height": 17
        },
        "id": "THRC-14Bz_Hp",
        "outputId": "9bc26780-bfa8-463a-9d67-30bb06447c59",
        "papermill": {
          "duration": 0.098471,
          "end_time": "2022-01-15T09:50:45.169883",
          "exception": false,
          "start_time": "2022-01-15T09:50:45.071412",
          "status": "completed"
        },
        "tags": []
      },
      "outputs": [
        {
          "data": {
            "text/html": [
              "        <script type=\"text/javascript\">\n",
              "        window.PlotlyConfig = {MathJaxConfig: 'local'};\n",
              "        if (window.MathJax && window.MathJax.Hub && window.MathJax.Hub.Config) {window.MathJax.Hub.Config({SVG: {font: \"STIX-Web\"}});}\n",
              "        if (typeof require !== 'undefined') {\n",
              "        require.undef(\"plotly\");\n",
              "        requirejs.config({\n",
              "            paths: {\n",
              "                'plotly': ['https://cdn.plot.ly/plotly-2.16.1.min']\n",
              "            }\n",
              "        });\n",
              "        require(['plotly'], function(Plotly) {\n",
              "            window._Plotly = Plotly;\n",
              "        });\n",
              "        }\n",
              "        </script>\n",
              "        "
            ]
          },
          "metadata": {},
          "output_type": "display_data"
        }
      ],
      "source": [
        "# importing mathematical and ds libraries\n",
        "import pandas as pd  # data science essentials\n",
        "import matplotlib.pyplot as plt  # essential graphical output\n",
        "import numpy as np   # mathematical essentials\n",
        "%matplotlib inline\n",
        "\n",
        "# import Visual libraries\n",
        "import plotly.offline as py\n",
        "py.init_notebook_mode(connected=True)\n",
        "from matplotlib import pyplot as plt\n",
        "#import seaborn as sns  # enhanced graphical output\n",
        "\n",
        "#importing other libraries\n",
        "import IPython.display #this is for our data pipeline\n",
        "import logging\n",
        "logging.basicConfig(level=logging.INFO)\n",
        "\n",
        "# Load scikit-learn packages for modeling\n",
        "from sklearn.model_selection import train_test_split #Split function\n",
        "from sklearn.linear_model import LinearRegression #LR function\n",
        "from sklearn.metrics import mean_squared_error,mean_absolute_error\n",
        "\n",
        "#import the Vectice Library\n",
        "import vectice\n",
        "from vectice import FileDataWrapper"
      ]
    },
    {
      "cell_type": "markdown",
      "id": "b420ffd1",
      "metadata": {},
      "source": [
        "##  Vectice Config     \n",
        "- To log your work to Vectice, you need to connect your notebook to your profile using your personal API token       \n",
        "- Click on your profile at the top right corner of the Vectice application --> API Tokens --> Create API Token       \n",
        "- Provide a name and description for the key. We recommend you name the API Token: \"Tutorial_API_Token\" to avoid having to make additional changes to the notebook.\n",
        "- Save it in a location accessible by this code\n",
        "\n",
        "### Update the workspace name below to match the workspace name your project is in"
      ]
    },
    {
      "cell_type": "code",
      "execution_count": 142,
      "id": "cBDLOY6S3Zay",
      "metadata": {
        "colab": {
          "base_uri": "https://localhost:8080/"
        },
        "id": "cBDLOY6S3Zay",
        "outputId": "7d06dd35-e9dc-4b26-b6ac-562a7f400602"
      },
      "outputs": [
        {
          "name": "stderr",
          "output_type": "stream",
          "text": [
            "2022/12/06 17:53:14 INFO vectice.connection: Vectice successfully connected.\n",
            "2022/12/06 17:53:16 INFO vectice.connection: \n",
            "Last Used Assets\n",
            "Project: Eric\n",
            "Phase: My phase\n",
            "Iteration: 276\n",
            "IterationStep: Format Data\n"
          ]
        },
        {
          "name": "stdout",
          "output_type": "stream",
          "text": [
            "[Workspace(name=.ebarre, id=12, description=This is my workspace), Workspace(name=Adv. Analytics, id=62, description=Projects for the advanced analytics team.), Workspace(name=Call Center Projects, id=4, description= ), Workspace(name=Cyber, id=60, description=Cyber security projects), Workspace(name=Finance Team, id=58, description=Projects for the finance team), Workspace(name=Fraud, id=61, description=Projects related to HR topic like employee sentiment analysis), Workspace(name=HR Team, id=57, description=Projects related to HR topic like employee sentiment analysis), Workspace(name=Marketing Projects, id=59, description=Project related to marketing and customer segmentation.), Workspace(name=Retail Ops, id=17, description=Workspace for all projects for the Retail group.), Workspace(name=Templates, id=19, description=), Workspace(name=Tutorial, id=65, description=My personal workspace)]\n"
          ]
        },
        {
          "name": "stderr",
          "output_type": "stream",
          "text": [
            "2022/12/06 17:53:18 INFO vectice.models.workspace: Your current project: 65\n"
          ]
        }
      ],
      "source": [
        "my_vectice = vectice.connect(config=r\"Tutorial_API_token.json\")\n",
        "# print(my_vectice.workspaces) # print out a list of workspaces we have access to\n",
        "\n",
        "my_workspace = my_vectice.workspace(\"Retail Ops\") # replace workspace name\n",
        "# print(my_workspace.projects) # print out a list of projects we have access to\n",
        "\n",
        "my_project = my_workspace.project(\".Forecast in-store unit sales\")"
      ]
    },
    {
      "cell_type": "markdown",
      "id": "c3464f9a",
      "metadata": {
        "tags": []
      },
      "source": [
        "## Capture milestones for the Modeling phase"
      ]
    },
    {
      "cell_type": "code",
      "execution_count": 143,
      "id": "Z7tUO--W3fx0",
      "metadata": {
        "colab": {
          "base_uri": "https://localhost:8080/"
        },
        "id": "Z7tUO--W3fx0",
        "outputId": "2a94750a-0be6-4b57-f6d7-191bbdac380d"
      },
      "outputs": [
        {
          "name": "stderr",
          "output_type": "stream",
          "text": [
            "2022/12/06 17:53:53 INFO vectice.models.phase: Iteration with id: 277 successfully retrieved.\n"
          ]
        }
      ],
      "source": [
        "# We are looking to create a new model in our \"Modeling\" phase\n",
        "modeling = my_project.phase(\"Modeling\")\n",
        "\n",
        "# Let's start working by starting a new iteration for the Modeling Phase\n",
        "modeling_iter = modeling.iteration\n",
        "\n"
      ]
    },
    {
      "cell_type": "code",
      "execution_count": 144,
      "id": "Y1zIixNh4mJN",
      "metadata": {
        "colab": {
          "base_uri": "https://localhost:8080/"
        },
        "id": "Y1zIixNh4mJN",
        "outputId": "43705094-bb84-40eb-bcdf-a3a124ea4b66"
      },
      "outputs": [
        {
          "name": "stderr",
          "output_type": "stream",
          "text": [
            "2022/12/06 17:54:17 INFO vectice.models.phase: Iteration with id: 277 successfully retrieved.\n"
          ]
        },
        {
          "data": {
            "text/plain": [
              "['Select Modeling Techniques',\n",
              " 'Generate Test Design',\n",
              " 'Build Model',\n",
              " 'Assess model']"
            ]
          },
          "execution_count": 144,
          "metadata": {},
          "output_type": "execute_result"
        }
      ],
      "source": [
        "# Let's start working by starting a new iteration for the Modeling Phase\n",
        "modeling_iter = modeling.iteration\n",
        "\n",
        "#Let's have a look at all the steps defined in this phase\n",
        "modeling_iter.step_names"
      ]
    },
    {
      "cell_type": "code",
      "execution_count": 145,
      "id": "SsGRrCJTaqwI",
      "metadata": {
        "colab": {
          "base_uri": "https://localhost:8080/"
        },
        "id": "SsGRrCJTaqwI",
        "outputId": "d68c8c21-1840-49e9-964b-4ba5fe1b2202"
      },
      "outputs": [
        {
          "name": "stderr",
          "output_type": "stream",
          "text": [
            "2022/12/06 17:54:52 INFO vectice.models.iteration: Step: Select Modeling Techniques successfully retrieved.\n",
            "2022/12/06 17:54:53 INFO vectice.models.step: 'Select Modeling Techniques' was successfully closed.\n",
            "2022/12/06 17:54:53 INFO vectice.models.iteration: Step: Generate Test Design successfully retrieved.\n"
          ]
        }
      ],
      "source": [
        "# Let's pick the first step\n",
        "modeling_step = modeling_iter.step(\"Select Modeling Techniques\")\n",
        "\n",
        "# Here we are documenting the modeling technique that we will use on this iteration\n",
        "modeling_step.close(message=\"For this first iteration we are going to use a Linear Regression model to get a base model.\")\n",
        "\n",
        "# Let's get the next step in the process\n",
        "modeling_step = modeling_iter.step(\"Generate Test Design\")"
      ]
    },
    {
      "cell_type": "markdown",
      "id": "mtV07v27z_H0",
      "metadata": {
        "id": "mtV07v27z_H0",
        "papermill": {
          "duration": 0.168275,
          "end_time": "2022-01-15T09:54:43.166038",
          "exception": false,
          "start_time": "2022-01-15T09:54:42.997763",
          "status": "completed"
        },
        "tags": []
      },
      "source": [
        "# Linear Regression Model"
      ]
    },
    {
      "cell_type": "markdown",
      "id": "pG7J6w0VxtIB",
      "metadata": {
        "id": "pG7J6w0VxtIB"
      },
      "source": [
        "## Generate Test Design\n",
        "\n",
        "* Dataset ready for modeling: https://vectice-examples.s3.us-west-1.amazonaws.com/Tutorial/ForecastTutorial/train_clean.csv     \n",
        "\n",
        "     Alternatively, you can generate the dataset from the Data_Preparation code."
      ]
    },
    {
      "cell_type": "code",
      "execution_count": 146,
      "id": "j3mFoQpkz_Hv",
      "metadata": {
        "id": "j3mFoQpkz_Hv"
      },
      "outputs": [],
      "source": [
        "#read the dataset\n",
        "model_ds =pd.read_csv(\"train_clean.csv\")\n",
        "\n",
        "# Set split sizes\n",
        "test_size = 0.20\n",
        "# We will set the random seed so we always generate the same split.\n",
        "random_state = 42\n",
        "\n",
        "train, test = train_test_split(model_ds, test_size = test_size, random_state = random_state)\n",
        "\n",
        "# Generate X_train, X_test, y_train, y_test, which we will need for modeling\n",
        "X = model_ds.drop(['unit_sales'], axis=1)\n",
        "y = model_ds[\"unit_sales\"]\n",
        "X_train, X_test, y_train, y_test = train_test_split(X, y, test_size=test_size, random_state=random_state)\n",
        "\n",
        "# Generate our 2 new datasets for training and testing\n",
        "# train.to_csv(\"train_lr.csv\")\n",
        "# test.to_csv(\"test_lr.csv\")"
      ]
    },
    {
      "cell_type": "code",
      "execution_count": 147,
      "id": "U7cLLblYyq8w",
      "metadata": {
        "id": "U7cLLblYyq8w"
      },
      "outputs": [],
      "source": [
        "model_ds=model_ds.fillna(0) "
      ]
    },
    {
      "cell_type": "code",
      "execution_count": 148,
      "id": "3-PWMymZbr30",
      "metadata": {
        "colab": {
          "base_uri": "https://localhost:8080/"
        },
        "id": "3-PWMymZbr30",
        "outputId": "bffd6287-086c-410d-d218-71b415e4cc0b"
      },
      "outputs": [
        {
          "name": "stderr",
          "output_type": "stream",
          "text": [
            "2022/12/06 17:56:51 INFO vectice.models.datasource.datawrapper.file_data_wrapper: File: train_clean.csv wrapped successfully.\n",
            "The code commit exists already.\n",
            "2022/12/06 17:56:54 INFO vectice.api.client: Successfully registered Dataset(name='Dataset ready for modeling', id=779, version='Version 2', type=ORIGIN).\n",
            "2022/12/06 17:56:55 INFO vectice.models.project: Successfully added Dataset(name='Dataset ready for modeling', id=779, version='Version 2', type=ORIGIN) to Generate Test Design\n",
            "2022/12/06 17:56:55 INFO vectice.models.datasource.datawrapper.file_data_wrapper: File: train_lr.csv wrapped successfully.\n",
            "2022/12/06 17:56:57 WARNING vectice.models.project: The code commit exists already.\n",
            "2022/12/06 17:56:58 INFO vectice.api.client: Successfully registered Dataset(name='Train Dataset for Linear Regression', id=771, version='Version 3', type=ORIGIN).\n",
            "2022/12/06 17:56:58 INFO vectice.models.project: Dataset: Train Dataset for Linear Regression with Version: Version 3 already exists.\n",
            "2022/12/06 17:56:59 INFO vectice.models.project: Successfully added Dataset(name='Train Dataset for Linear Regression', id=771, version='Version 3', type=ORIGIN) to Generate Test Design\n",
            "2022/12/06 17:56:59 INFO vectice.models.datasource.datawrapper.file_data_wrapper: File: test_lr.csv wrapped successfully.\n",
            "2022/12/06 17:57:00 WARNING vectice.models.project: The code commit exists already.\n",
            "2022/12/06 17:57:01 INFO vectice.api.client: Successfully registered Dataset(name='Test Dataset for Linear Regression', id=772, version='Version 3', type=ORIGIN).\n",
            "2022/12/06 17:57:01 INFO vectice.models.project: Dataset: Test Dataset for Linear Regression with Version: Version 3 already exists.\n",
            "2022/12/06 17:57:02 INFO vectice.models.project: Successfully added Dataset(name='Test Dataset for Linear Regression', id=772, version='Version 3', type=ORIGIN) to Generate Test Design\n"
          ]
        }
      ],
      "source": [
        "# Capture all the datasets that are used or generated by the model\n",
        "my_project.origin_dataset = FileDataWrapper(path=\"train_clean.csv\", name=\"Dataset ready for modeling\")\n",
        "my_project.origin_dataset = FileDataWrapper(path=\"train_lr.csv\", name=\"Train Dataset for Linear Regression\")\n",
        "my_project.origin_dataset = FileDataWrapper(path=\"test_lr.csv\", name=\"Test Dataset for Linear Regression\")"
      ]
    },
    {
      "cell_type": "code",
      "execution_count": 149,
      "id": "TncDf0yv_uUF",
      "metadata": {
        "colab": {
          "base_uri": "https://localhost:8080/"
        },
        "id": "TncDf0yv_uUF",
        "outputId": "e3fd798a-dfe2-4775-8041-f26b2cf22c77"
      },
      "outputs": [
        {
          "name": "stderr",
          "output_type": "stream",
          "text": [
            "2022/12/06 17:57:52 INFO vectice.models.step: 'Generate Test Design' was successfully closed.\n",
            "2022/12/06 17:57:52 INFO vectice.models.step: Next step : Step(name='Build Model', id=1106, description='Set parameters for the model, add model description, run model', completed=False)\n"
          ]
        }
      ],
      "source": [
        "# Now that we completed this step, let's close it with a message to let our coworker know what we achieved in the webb app\n",
        "# modeling_step.close(message=\"With our improved linear regression we expect better results on the RSME and the MAE as some tuning has been done and this is not a row linear regression anymore\")\n",
        "modeling_step = modeling_step.next_step(message=\"With our improved linear regression we expect better results on the RSME and the MAE as some tuning has been done and this is not a row linear regression anymore\")"
      ]
    },
    {
      "cell_type": "markdown",
      "id": "F79z6RkZAAL3",
      "metadata": {
        "id": "F79z6RkZAAL3"
      },
      "source": [
        "## Build Model"
      ]
    },
    {
      "cell_type": "code",
      "execution_count": 134,
      "id": "bU_-3WMJAErQ",
      "metadata": {
        "id": "bU_-3WMJAErQ"
      },
      "outputs": [],
      "source": [
        "# Get the Build Model step\n",
        "# The next step was already acquired above no need to \n",
        "# modeling_step = modeling_iter.step(\"Build Model\")"
      ]
    },
    {
      "cell_type": "markdown",
      "id": "3PnFDr12x3ex",
      "metadata": {
        "id": "3PnFDr12x3ex"
      },
      "source": [
        "### Linear Regression"
      ]
    },
    {
      "cell_type": "code",
      "execution_count": 150,
      "id": "mDlAxPxgz_H1",
      "metadata": {
        "colab": {
          "base_uri": "https://localhost:8080/"
        },
        "id": "mDlAxPxgz_H1",
        "outputId": "62f97927-296b-4e68-ef3e-df0972a40083"
      },
      "outputs": [
        {
          "name": "stdout",
          "output_type": "stream",
          "text": [
            "predicted responses:\n",
            " [-0.11031261  0.24907134  0.13587322 ... -0.03696472 -0.00967151\n",
            " -0.20251666]\n",
            "root_mean_squared_error:  0.5584666828901371\n",
            "mean_absolute_error:  0.1792399090212613\n"
          ]
        }
      ],
      "source": [
        "#Lets create a linear regression model\n",
        "model = LinearRegression()\n",
        "\n",
        "model.fit(X_train.values, y_train.values)\n",
        "    \n",
        "pred = model.predict(X_test.values)\n",
        "\n",
        "print(f\"predicted responses:\\n {pred}\")\n",
        "    \n",
        "RMSE = np.sqrt(mean_squared_error(y_test.values, pred))\n",
        "MAE = mean_absolute_error(y_test.values, pred)\n",
        "\n",
        "print(\"root_mean_squared_error: \",RMSE) \n",
        "print(\"mean_absolute_error: \", MAE)\n",
        "\n",
        "metrics = {\"RMSE\": RMSE, \"MAE\": MAE}"
      ]
    },
    {
      "cell_type": "code",
      "execution_count": 151,
      "id": "w29MOHcB1hhd",
      "metadata": {
        "colab": {
          "base_uri": "https://localhost:8080/",
          "height": 659
        },
        "id": "w29MOHcB1hhd",
        "outputId": "3d072643-c87f-4b7c-f2a4-be891e4a562f"
      },
      "outputs": [
        {
          "data": {
            "image/png": "[encoded data removed]",
            "text/plain": [
              "<Figure size 640x480 with 1 Axes>"
            ]
          },
          "metadata": {},
          "output_type": "display_data"
        }
      ],
      "source": [
        "plt.scatter(X_train.iloc[:,0].values, y_train ,color='g') \n",
        "plt.plot(X_test, pred,color='k') \n",
        "plt.savefig(\"regression_graph.png\")\n",
        "plt.show()"
      ]
    },
    {
      "cell_type": "code",
      "execution_count": 152,
      "id": "3PPsuPhR1bzo",
      "metadata": {
        "id": "3PPsuPhR1bzo"
      },
      "outputs": [
        {
          "name": "stderr",
          "output_type": "stream",
          "text": [
            "2022/12/06 17:59:14 WARNING vectice.models.iteration: The code commit exists already.\n",
            "INFO:AttachmentApi:Attachment with name: regression_graph.png successfully attached to Model(name='Unit Sales Predictor', version='Version 7').\n",
            "INFO:AttachmentApi:Model LinearRegression successfully attached to Model(name='Unit Sales Predictor', version='Version 7').\n",
            "2022/12/06 17:59:18 INFO vectice.models.iteration: Successfully registered Model(name='Unit Sales Predictor', library='scikit-learn', technique='linear regression', version='Version 7').\n",
            "2022/12/06 17:59:18 INFO vectice.models.iteration: Model: Unit Sales Predictor already exists.\n",
            "2022/12/06 17:59:18 INFO vectice.models.iteration: Step: Generate Test Design successfully retrieved.\n",
            "2022/12/06 17:59:19 INFO vectice.models.iteration: Successfully added Model(name='Unit Sales Predictor', version='Version 7') to Build Model\n",
            "2022/12/06 17:59:19 INFO vectice.models.iteration: Successfully added Attachment: 641 from Model(name='Unit Sales Predictor', version='Version 7') to Build Model\n",
            "2022/12/06 17:59:20 INFO vectice.models.step: 'Build Model' was successfully closed.\n"
          ]
        }
      ],
      "source": [
        "# Let's log the model we trained along with its metrics, as a new version of the \"Regression\" model in Vectice.\n",
        "\n",
        "# Get the Build Model step\n",
        "# modeling_step = modeling_iter.step(\"Build Model\")\n",
        "modeling_iter.model = vectice.Model(name=\"Unit Sales Predictor\", library=\"scikit-learn\", technique=\"linear regression\", metrics=metrics, attachments=\"regression_graph.png\", predictor=model)\n",
        "modeling_step.close(message=\"RMSE= \" + str(metrics[\"RMSE\"]) +  \" and MAE= \" + str(metrics[\"MAE\"])) "
      ]
    },
    {
      "cell_type": "markdown",
      "id": "KyPTA029AYNf",
      "metadata": {
        "id": "KyPTA029AYNf"
      },
      "source": [
        "## Assess Model"
      ]
    },
    {
      "cell_type": "code",
      "execution_count": 153,
      "id": "1MYmf_QHAeQS",
      "metadata": {
        "colab": {
          "base_uri": "https://localhost:8080/"
        },
        "id": "1MYmf_QHAeQS",
        "outputId": "bc087138-5457-43f1-d2b1-88286c94486d"
      },
      "outputs": [
        {
          "name": "stderr",
          "output_type": "stream",
          "text": [
            "2022/12/06 18:00:28 INFO vectice.models.iteration: Step: Assess model successfully retrieved.\n"
          ]
        }
      ],
      "source": [
        "# Get the Collect Initial Data step\n",
        "modeling_step = modeling_iter.step(\"Assess model\")"
      ]
    },
    {
      "cell_type": "code",
      "execution_count": 154,
      "id": "UHIqtI-3Ajbe",
      "metadata": {
        "colab": {
          "base_uri": "https://localhost:8080/"
        },
        "id": "UHIqtI-3Ajbe",
        "outputId": "538ffd9e-05e4-479a-9a86-3ccc65bafe4f"
      },
      "outputs": [
        {
          "name": "stderr",
          "output_type": "stream",
          "text": [
            "2022/12/06 18:00:31 INFO vectice.models.step: 'Assess model' was successfully closed.\n"
          ]
        }
      ],
      "source": [
        "modeling_step.close(message=\"As expected the model performs better however this is not good enough and we should try a different method. We recommend doing a Random Forest as a new iteration\")"
      ]
    }
  ],
  "metadata": {
    "colab": {
      "machine_shape": "hm",
      "provenance": []
    },
    "environment": {
      "kernel": "python3",
      "name": "common-cpu.m94",
      "type": "gcloud",
      "uri": "gcr.io/deeplearning-platform-release/base-cpu:m94"
    },
    "gpuClass": "standard",
    "kernelspec": {
      "display_name": "Python 3.9.2 64-bit",
      "language": "python",
      "name": "python3"
    },
    "language_info": {
      "codemirror_mode": {
        "name": "ipython",
        "version": 3
      },
      "file_extension": ".py",
      "mimetype": "text/x-python",
      "name": "python",
      "nbconvert_exporter": "python",
      "pygments_lexer": "ipython3",
      "version": "3.9.2"
    },
    "papermill": {
      "default_parameters": {},
      "duration": 4527.062431,
      "end_time": "2022-01-15T11:06:02.218444",
      "environment_variables": {},
      "exception": null,
      "input_path": "__notebook__.ipynb",
      "output_path": "__notebook__.ipynb",
      "parameters": {},
      "start_time": "2022-01-15T09:50:35.156013",
      "version": "2.3.3"
    },
    "vscode": {
      "interpreter": {
        "hash": "397704579725e15f5c7cb49fe5f0341eb7531c82d19f2c29d197e8b64ab5776b"
      }
    }
  },
  "nbformat": 4,
  "nbformat_minor": 5
}
