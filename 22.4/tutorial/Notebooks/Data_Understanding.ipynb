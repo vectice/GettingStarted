{
  "cells": [
    {
      "cell_type": "markdown",
      "metadata": {
        "id": "dVBtetrcYTrN"
      },
      "source": [
        "#Before your start with this Tutorial\n",
        "\n",
        "**Tutorial Intention:** Providing an example of iteration and related step on a modeling phase for you to:\n",
        "\n",
        "*   Experience the data science lifecycle using Vectice\n",
        "*   See how simple it is to connect your notebook to Vectice\n",
        "*   Learn how to structure and log your work using Vectice\n",
        "\n",
        "**Resources needed:**\n",
        "*   Forecast Unit Sales Tutorial Project: You can find it as part of your personal workspace named after your name\n",
        "*   Vectice Webapp Documentation: \n",
        "*   Vectice API documentation: \n",
        "\n"
      ]
    },
    {
      "cell_type": "markdown",
      "metadata": {
        "id": "HilzKVwhI3pO"
      },
      "source": [
        "#PIP Install Packages"
      ]
    },
    {
      "cell_type": "code",
      "execution_count": null,
      "metadata": {
        "colab": {
          "base_uri": "https://localhost:8080/",
          "height": 589
        },
        "id": "jKmib-N-WZlf",
        "outputId": "229c57b0-ff5a-4789-fed7-7715c0a942cb"
      },
      "outputs": [],
      "source": [
        "!pip3 install --q vectice[github]"
      ]
    },
    {
      "cell_type": "markdown",
      "metadata": {},
      "source": [
        "## Optional libraries - depending on your project"
      ]
    },
    {
      "cell_type": "code",
      "execution_count": null,
      "metadata": {
        "colab": {
          "base_uri": "https://localhost:8080/"
        },
        "id": "tyQZ1xOOWY1m",
        "outputId": "764f624c-e86a-4fc8-d73d-1f5756c194ac"
      },
      "outputs": [],
      "source": [
        "!pip3 install --q squarify\n",
        "!pip3 install --q plotly"
      ]
    },
    {
      "cell_type": "markdown",
      "metadata": {
        "id": "CwFejewmI-Zm"
      },
      "source": [
        "#Import libraries"
      ]
    },
    {
      "cell_type": "code",
      "execution_count": null,
      "metadata": {
        "id": "c7mlZg-ATcWF"
      },
      "outputs": [],
      "source": [
        "# importing libraries\n",
        "import pandas as pd  # data science essentials\n",
        "import matplotlib.pyplot as plt  # essential graphical output\n",
        "import seaborn as sns  # enhanced graphical output\n",
        "import numpy as np   # mathematical essentials\n",
        "\n",
        "#import other libraries\n",
        "import logging\n",
        "import json\n",
        "import requests\n",
        "logging.basicConfig(level=logging.INFO)"
      ]
    },
    {
      "cell_type": "code",
      "execution_count": null,
      "metadata": {
        "colab": {
          "base_uri": "https://localhost:8080/"
        },
        "id": "o_hAaMj8VpoM",
        "outputId": "3a3b5d0d-1e3c-413a-bb2c-85f2f07eed4a"
      },
      "outputs": [],
      "source": [
        "# import Vectice library\n",
        "import vectice\n",
        "from vectice import FileDataWrapper, DatasetSourceUsage "
      ]
    },
    {
      "cell_type": "markdown",
      "metadata": {},
      "source": [
        "## Download the datasets and config file used in this notebook (if on Colab or Jupyter)"
      ]
    },
    {
      "cell_type": "code",
      "execution_count": null,
      "metadata": {},
      "outputs": [],
      "source": [
        "# If you are running this notebook from Google Colab or Jupyter, please run this cell\n",
        "# Get the files needed for the notebook (no need if the GItHub repo was cloned)\n",
        "\n",
        "# For this tutorial we will use a pre-defined configuration file located on our GitHub\n",
        "req = requests.get(\"https://raw.githubusercontent.com/vectice/GettingStarted/main/Notebooks/VecticeConfig.json\")\n",
        "if req.status_code == 200:\n",
        "    open(\"Tutorial_API_token.json\", \"wb\").write(req.content)\n",
        "\n",
        "# items.csv Datasets\n",
        "req = requests.get(\"https://raw.githubusercontent.com/vectice/GettingStarted/main/Data/items.csv\")\n",
        "if req.status_code == 200:\n",
        "    open(\"items.csv\", \"wb\").write(req.content)\n",
        "\n",
        "# holidays_events.csv Datasets\n",
        "req = requests.get(\"https://raw.githubusercontent.com/vectice/GettingStarted/main/Data/holidays_events.csv\")\n",
        "if req.status_code == 200:\n",
        "    open(\"holidays_events.csv\", \"wb\").write(req.content)\n",
        "\n",
        "# stores.csv Datasets\n",
        "req = requests.get(\"https://raw.githubusercontent.com/vectice/GettingStarted/main/Data/stores.csv\")\n",
        "if req.status_code == 200:\n",
        "    open(\"stores.csv\", \"wb\").write(req.content)\n",
        "\n",
        "# oil.csv Datasets\n",
        "req = requests.get(\"https://raw.githubusercontent.com/vectice/GettingStarted/main/Data/oil.csv\")\n",
        "if req.status_code == 200:\n",
        "    open(\"oil.csv\", \"wb\").write(req.content)\n",
        "\n",
        "# transactions.csv Datasets\n",
        "req = requests.get(\"https://raw.githubusercontent.com/vectice/GettingStarted/main/Data/transactions.csv\")\n",
        "if req.status_code == 200:\n",
        "    open(\"transactions.csv\", \"wb\").write(req.content)\n",
        "\n",
        "# transactions.csv Datasets\n",
        "req = requests.get(\"https://raw.githubusercontent.com/vectice/GettingStarted/main/Data/Train_reduced_cleaned.csv.zip\")\n",
        "if req.status_code == 200:\n",
        "    open(\"Train_reduced_cleaned.csv.zip\", \"wb\").write(req.content)\n",
        "\n",
        "# transactions.csv Datasets\n",
        "req = requests.get(\"https://raw.githubusercontent.com/vectice/GettingStarted/main/Notebooks/VecticeConfig.json\")\n",
        "if req.status_code == 200:\n",
        "    open(\"Tutorial_API_token.json\", \"wb\").write(req.content)"
      ]
    },
    {
      "cell_type": "markdown",
      "metadata": {
        "id": "xJ7FRKD5T-Ht"
      },
      "source": [
        "## Connect to Vectice, Project and Phase"
      ]
    },
    {
      "cell_type": "code",
      "execution_count": null,
      "metadata": {
        "id": "dmVYX9S5Tl48"
      },
      "outputs": [],
      "source": [
        "# To log your work to Vectice, you need to connect your notebook to your profile using your personal API token.\n",
        "# You can find it in our web app, under your profile > API tokens\n",
        "# Update the JSON file downloaded above with your API token, along with the name of the workspace\n",
        "\n",
        "#Connect to vectice Using the API\n",
        "retail_ws = vectice.connect(config=r\"Tutorial_API_token.json\")"
      ]
    },
    {
      "cell_type": "code",
      "execution_count": null,
      "metadata": {
        "id": "a4SK0LnnUBDy"
      },
      "outputs": [],
      "source": [
        "#Connect to the project\n",
        "retail_project = retail_ws.project(project=\"Tutorial Project: Forecast in store unit sales\")"
      ]
    },
    {
      "cell_type": "code",
      "execution_count": null,
      "metadata": {
        "id": "K-hBq_fYUIOX"
      },
      "outputs": [],
      "source": [
        "# Get the phase for Data Understanding \n",
        "DU = retail_project.phase(\"Data Understanding\")"
      ]
    },
    {
      "cell_type": "code",
      "execution_count": null,
      "metadata": {
        "id": "s8PeXbP3ULzR"
      },
      "outputs": [],
      "source": [
        "# Get the currently active iteration\n",
        "iter = DU.iteration"
      ]
    },
    {
      "cell_type": "markdown",
      "metadata": {
        "id": "DVSSuWZ6UMce"
      },
      "source": [
        "#Collect Initial Data"
      ]
    },
    {
      "cell_type": "code",
      "execution_count": null,
      "metadata": {
        "id": "OUt-GmmdUX7m"
      },
      "outputs": [],
      "source": [
        "# Get the Collect Initial Data step\n",
        "step = iter.step(\"Collect Initial Data\")"
      ]
    },
    {
      "cell_type": "code",
      "execution_count": null,
      "metadata": {
        "id": "PxfvoLbxUYZ4"
      },
      "outputs": [],
      "source": [
        "#read datasets\n",
        "items = pd.read_csv(\"items.csv\")\n",
        "holiday_events = pd.read_csv(\"holidays_events.csv\", parse_dates=['date'])\n",
        "stores = pd.read_csv(\"stores.csv\")\n",
        "oil = pd.read_csv(\"oil.csv\", parse_dates=['date'])\n",
        "transactions = pd.read_csv(\"transactions.csv\", parse_dates=['date'])\n",
        "df = pd.read_csv(\"train_trimmed.csv\")"
      ]
    },
    {
      "cell_type": "code",
      "execution_count": null,
      "metadata": {
        "id": "0k9eHyO4Ua6q"
      },
      "outputs": [],
      "source": [
        "#Wrap datasets to export metadata to Vectice \n",
        "items_file_wrapped = FileDataWrapper(path=\"items.csv\", name=\"Items origin\")\n",
        "holiday_file_wrapped = FileDataWrapper(path=\"holidays_events.csv\", name=\"Holiday origin\")\n",
        "stores_file_wrapped = FileDataWrapper(path=\"stores.csv\", name=\"Stores origin\")\n",
        "oil_file_wrapped = FileDataWrapper(path=\"oil.csv\", name=\"Oil origin\")\n",
        "transactions_file_wrapped = FileDataWrapper(path=\"transactions.csv\", name=\"Transactions origin\")\n",
        "df_file_wrapped = FileDataWrapper(path=\"train_trimmed.csv\", name=\"Training origin\")"
      ]
    },
    {
      "cell_type": "code",
      "execution_count": null,
      "metadata": {
        "id": "_qpFA5NiUfZW"
      },
      "outputs": [],
      "source": [
        "#push dataset metadata to Vectice webapp for versioning purposes\n",
        "retail_project.origin_dataset = items_file_wrapped\n",
        "retail_project.origin_dataset = holiday_file_wrapped\n",
        "retail_project.origin_dataset = oil_file_wrapped\n",
        "retail_project.origin_dataset = transactions_file_wrapped\n",
        "retail_project.origin_dataset = df_file_wrapped"
      ]
    },
    {
      "cell_type": "code",
      "execution_count": null,
      "metadata": {
        "id": "dJJTqGFmUhfc"
      },
      "outputs": [],
      "source": [
        "#Close step, mark it as completed in the webapp and publish message\n",
        "step.close(message=\"We selected all the dataset available\")"
      ]
    },
    {
      "cell_type": "markdown",
      "metadata": {
        "id": "SfwKihjqUjpZ"
      },
      "source": [
        "#Describe data"
      ]
    },
    {
      "cell_type": "code",
      "execution_count": null,
      "metadata": {
        "id": "jYqMWHZOzp1i"
      },
      "outputs": [],
      "source": [
        "# Get the Describe Data step\n",
        "step = iter.step(\"Describe Data\")"
      ]
    },
    {
      "cell_type": "code",
      "execution_count": null,
      "metadata": {
        "colab": {
          "base_uri": "https://localhost:8080/"
        },
        "id": "tY5tfKvfTcWI",
        "outputId": "b9fe6fae-9ced-4aa5-ac56-b3eed036596d"
      },
      "outputs": [],
      "source": [
        "# formatting and printing the dimensions of the dataset (ROWS, COLUMNS)\n",
        "print(f\"\"\"\n",
        "Size of Original Dataset\n",
        "                  All | Items | holiday | stores |  oil  | transactions\n",
        "Observations:  {df.shape[0]}|  {items.shape[0]} |   {holiday_events.shape[0]}   |   {stores.shape[0]}   |  {oil.shape[0]} | {transactions.shape[0]} \n",
        "Features:          {df.shape[1]}  |    {items.shape[1]}  |    {holiday_events.shape[1]}    |   {stores.shape[1]}    |    {oil.shape[1]}  | {transactions.shape[1]}  \n",
        "\"\"\")\n",
        "\n"
      ]
    },
    {
      "cell_type": "code",
      "execution_count": null,
      "metadata": {
        "colab": {
          "base_uri": "https://localhost:8080/"
        },
        "id": "kSSoNnfmTcWL",
        "outputId": "db9e851e-64db-4e32-d5f1-374333350885"
      },
      "outputs": [],
      "source": [
        "#provide info about the main dataset\n",
        "df.info()"
      ]
    },
    {
      "cell_type": "code",
      "execution_count": null,
      "metadata": {
        "colab": {
          "base_uri": "https://localhost:8080/",
          "height": 514
        },
        "id": "Hl1HXMM8nzoa",
        "outputId": "c468e608-815d-4908-b699-8e11d9282e10"
      },
      "outputs": [],
      "source": [
        "# to handle NaN’s\n",
        "df.fillna(0) \n",
        "#pd.DatetimeIndex(df['date']).year # to get the year from the date."
      ]
    },
    {
      "cell_type": "code",
      "execution_count": null,
      "metadata": {
        "colab": {
          "base_uri": "https://localhost:8080/"
        },
        "id": "mKNyC245sOLX",
        "outputId": "5e5118a8-9306-448f-b681-4f4a653a957f"
      },
      "outputs": [],
      "source": [
        "#provide info about the item dataset\n",
        "items.info()"
      ]
    },
    {
      "cell_type": "code",
      "execution_count": null,
      "metadata": {
        "colab": {
          "base_uri": "https://localhost:8080/"
        },
        "id": "FA85FzOXsTsY",
        "outputId": "d659a11d-b7f9-4705-a9c5-094f61171aad"
      },
      "outputs": [],
      "source": [
        "#provide info about the stores dataset\n",
        "stores.info()"
      ]
    },
    {
      "cell_type": "code",
      "execution_count": null,
      "metadata": {
        "colab": {
          "base_uri": "https://localhost:8080/"
        },
        "id": "vsvtlQBj1KVz",
        "outputId": "53738a0f-7d3a-464f-9b2c-707754f818f0"
      },
      "outputs": [],
      "source": [
        "#provide info about the holiday_events dataset\n",
        "holiday_events.info()"
      ]
    },
    {
      "cell_type": "code",
      "execution_count": null,
      "metadata": {
        "id": "zTWrm45HsZ3_"
      },
      "outputs": [],
      "source": [
        "#perform date formating\n",
        "holiday_events['date'] = pd.to_datetime(holiday_events['date'], format=\"%Y-%m-%d\")"
      ]
    },
    {
      "cell_type": "code",
      "execution_count": null,
      "metadata": {
        "colab": {
          "base_uri": "https://localhost:8080/",
          "height": 206
        },
        "id": "p1r04lYAtWCX",
        "outputId": "b0926def-b131-49e1-9213-a62d9c7b97b5"
      },
      "outputs": [],
      "source": [
        "#provide a preview of the main dataset\n",
        "df.head()"
      ]
    },
    {
      "cell_type": "code",
      "execution_count": null,
      "metadata": {
        "id": "WWDAagDCzxPe"
      },
      "outputs": [],
      "source": [
        "#Close step, mark it as completed in the webapp and publish message\n",
        "step.close(message=\"NaN have been replaced by 0 and date have been set to a similar format. However, additional cleaning need to be performed\")"
      ]
    },
    {
      "cell_type": "markdown",
      "metadata": {
        "id": "RLBzj6roxdZP"
      },
      "source": [
        "#Explore Data"
      ]
    },
    {
      "cell_type": "code",
      "execution_count": null,
      "metadata": {
        "id": "bJp7VOPX2mGL"
      },
      "outputs": [],
      "source": [
        "# Get the Explore Data step\n",
        "step = iter.step(\"Explore data\")"
      ]
    },
    {
      "cell_type": "code",
      "execution_count": null,
      "metadata": {
        "colab": {
          "base_uri": "https://localhost:8080/",
          "height": 300
        },
        "id": "eQvTIEo2vzeE",
        "outputId": "25bde291-5c00-49ca-aa2c-ec27e6d43c0d"
      },
      "outputs": [],
      "source": [
        "#describe statistically the main dataset\n",
        "df.describe()"
      ]
    },
    {
      "cell_type": "markdown",
      "metadata": {
        "id": "33suQbJdyg98"
      },
      "source": [
        "###Stores Visualizations"
      ]
    },
    {
      "cell_type": "code",
      "execution_count": null,
      "metadata": {
        "colab": {
          "base_uri": "https://localhost:8080/",
          "height": 1000
        },
        "id": "7eq5k76Vxr9J",
        "outputId": "e3c603f3-5ac7-4f43-9eb0-0251e57feec2"
      },
      "outputs": [],
      "source": [
        "#Treemap of store counts across different cities\n",
        "fig = plt.figure(figsize=(25, 21))\n",
        "marrimeko=stores.city.value_counts().to_frame()\n",
        "ax = fig.add_subplot(111, aspect=\"equal\")\n",
        "ax = squarify.plot(sizes=marrimeko['city'].values,label=marrimeko.index,\n",
        "              color=sns.color_palette('cubehelix_r', 28), alpha=1)\n",
        "ax.set_xticks([])\n",
        "ax.set_yticks([])\n",
        "fig=plt.gcf()\n",
        "fig.set_size_inches(40,25)\n",
        "plt.title(\"Treemap of store counts across different cities\", fontsize=18)\n",
        "plt.show();\n",
        "fig.savefig('Store1.png', dpi=300)"
      ]
    },
    {
      "cell_type": "code",
      "execution_count": null,
      "metadata": {
        "id": "NeMawONLxwR-"
      },
      "outputs": [],
      "source": [
        "#Treemap of store counts across different States\n",
        "fig = plt.figure(figsize=(25, 21))\n",
        "marrimeko=stores.state.value_counts().to_frame()\n",
        "ax = fig.add_subplot(111, aspect=\"equal\")\n",
        "ax = squarify.plot(sizes=marrimeko['state'].values,label=marrimeko.index,\n",
        "              color=sns.color_palette('viridis_r', 28), alpha=1)\n",
        "ax.set_xticks([])\n",
        "ax.set_yticks([])\n",
        "fig=plt.gcf()\n",
        "fig.set_size_inches(40,25)\n",
        "plt.title(\"Treemap of store counts across different States\", fontsize=18)\n",
        "plt.show()\n",
        "fig.savefig('Store2.png', dpi=300)"
      ]
    },
    {
      "cell_type": "markdown",
      "metadata": {
        "id": "WwBc_y79yFqX"
      },
      "source": [
        "####Inspecting the allocation of clusters to store numbers - Visualizations"
      ]
    },
    {
      "cell_type": "code",
      "execution_count": null,
      "metadata": {
        "id": "OO02mCAnx_1B"
      },
      "outputs": [],
      "source": [
        "#Store numbers and the clusters they are assigned to\n",
        "# Unhide to see the sorted zip order\n",
        "neworder = [23, 24, 26, 36, 41, 15, 29, 31, 32, 34, 39, \n",
        "            53, 4, 37, 40, 43, 8, 10, 19, 20, 33, 38, 13, \n",
        "            21, 2, 6, 7, 3, 22, 25, 27, 28, 30, 35, 42, 44, \n",
        "            48, 51, 16, 0, 1, 5, 52, 45, 46, 47, 49, 9, 11, 12, 14, 18, 17, 50]\n",
        "\n",
        "# Finally plot the seaborn heatmap\n",
        "plt.style.use('dark_background')\n",
        "plt.figure(figsize=(15,12))\n",
        "store_pivot = stores.dropna().pivot(\"store_nbr\",\"cluster\", \"store_nbr\")\n",
        "ax = sns.heatmap(store_pivot, cmap='jet', annot=True, linewidths=0, linecolor='white')\n",
        "plt.title('Store numbers and the clusters they are assigned to')\n",
        "plt.savefig('Store3.png', dpi=300)"
      ]
    },
    {
      "cell_type": "code",
      "execution_count": null,
      "metadata": {
        "id": "3s05H0tryP3_"
      },
      "outputs": [],
      "source": [
        "#Stacked Barplot of Store types and their cluster distribution\n",
        "plt.style.use('dark_background')\n",
        "type_cluster = stores.groupby(['type','cluster']).size()\n",
        "type_cluster.unstack().plot(kind='bar',stacked=True, colormap= 'PuBu', figsize=(13,11),  grid=False)\n",
        "plt.title('Stacked Barplot of Store types and their cluster distribution', fontsize=18)\n",
        "plt.ylabel('Count of clusters in a particular store type', fontsize=16)\n",
        "plt.xlabel('Store type', fontsize=16)\n",
        "plt.show()\n",
        "plt.savefig('Store4.png', dpi=300);"
      ]
    },
    {
      "cell_type": "markdown",
      "metadata": {
        "id": "nbCDun8JyWIg"
      },
      "source": [
        "###Holidays Visualization"
      ]
    },
    {
      "cell_type": "code",
      "execution_count": null,
      "metadata": {
        "id": "quNhl7BoyYuG"
      },
      "outputs": [],
      "source": [
        "#Stacked Barplot of locale name against event type\n",
        "holiday_local_type = holiday_events.groupby(['locale_name', 'type']).size()\n",
        "holiday_local_type.unstack().plot(kind='bar',stacked=True, colormap= 'magma_r', figsize=(12,10),  grid=False)\n",
        "plt.title('Stacked Barplot of locale name against event type')\n",
        "plt.ylabel('Count of entries')\n",
        "plt.show()\n",
        "plt.savefig('holiday.png')"
      ]
    },
    {
      "cell_type": "markdown",
      "metadata": {
        "id": "PHZGLYcfypu0"
      },
      "source": [
        "###Transactions Visualization"
      ]
    },
    {
      "cell_type": "code",
      "execution_count": null,
      "metadata": {
        "id": "o7C9nPDGysYS"
      },
      "outputs": [],
      "source": [
        "#Distribution of transactions per day from 2013 till 2017\n",
        "plt.style.use('seaborn-white')\n",
        "plt.figure(figsize=(13,11))\n",
        "plt.plot(transactions.date.values, transactions.transactions.values, color='darkblue')\n",
        "plt.axvline(x='2015-12-23',color='red',alpha=0.3)\n",
        "plt.axvline(x='2016-12-23',color='red',alpha=0.3)\n",
        "plt.axvline(x='2014-12-23',color='red',alpha=0.3)\n",
        "plt.axvline(x='2013-12-23',color='red',alpha=0.3)\n",
        "plt.axvline(x='2013-05-12',color='green',alpha=0.2, linestyle= '--')\n",
        "plt.axvline(x='2015-05-10',color='green',alpha=0.2, linestyle= '--')\n",
        "plt.axvline(x='2016-05-08',color='green',alpha=0.2, linestyle= '--')\n",
        "plt.axvline(x='2014-05-11',color='green',alpha=0.2, linestyle= '--')\n",
        "plt.axvline(x='2017-05-14',color='green',alpha=0.2, linestyle= '--')\n",
        "plt.ylim(-50, 10000)\n",
        "plt.title(\"Distribution of transactions per day from 2013 till 2017\")\n",
        "plt.ylabel('transactions per day', fontsize= 16)\n",
        "plt.xlabel('Date', fontsize= 16)\n",
        "plt.show()\n",
        "plt.savefig('transaction1317.png')"
      ]
    },
    {
      "cell_type": "code",
      "execution_count": null,
      "metadata": {
        "id": "3oaGojltzKC3"
      },
      "outputs": [],
      "source": [
        "#transactions per day\n",
        "plt.style.use('seaborn-deep')\n",
        "plt.figure(figsize=(13,11))\n",
        "plt.plot(train.date.values, train.unit_sales)\n",
        "plt.ylim(-50, 10000)\n",
        "plt.ylabel('transactions per day')\n",
        "plt.xlabel('Date')\n",
        "plt.savefig('Transactionspday.png')\n"
      ]
    },
    {
      "cell_type": "markdown",
      "metadata": {
        "id": "QTrASVhPytTW"
      },
      "source": [
        "###Items Visualizations"
      ]
    },
    {
      "cell_type": "code",
      "execution_count": null,
      "metadata": {
        "id": "0FCb6wM-yzyU"
      },
      "outputs": [],
      "source": [
        "#Counts of items per family category\n",
        "x, y = (list(x) for x in zip(*sorted(zip(items.family.value_counts().index, \n",
        "                                         items.family.value_counts().values), \n",
        "                                        reverse = False)))\n",
        "trace2 = go.Bar(\n",
        "    y=items.family.value_counts().values,\n",
        "    x=items.family.value_counts().index,\n",
        "    marker=dict(\n",
        "        color=items.family.value_counts().values,\n",
        "        colorscale = 'Portland',\n",
        "        reversescale = False\n",
        "    ),\n",
        "    orientation='v',\n",
        ")\n",
        "\n",
        "layout = dict(\n",
        "    title='Counts of items per family category',\n",
        "     width = 800, height = 800,\n",
        "    yaxis=dict(\n",
        "        showgrid=False,\n",
        "        showline=False,\n",
        "        showticklabels=True,\n",
        "#         domain=[0, 0.85],\n",
        "    ))\n",
        "\n",
        "fig1 = go.Figure(data=[trace2])\n",
        "fig1['layout'].update(layout)\n",
        "py.iplot(fig1, filename='plots')\n",
        "plt.savefig('Item1.png')"
      ]
    },
    {
      "cell_type": "code",
      "execution_count": null,
      "metadata": {
        "id": "ANKpI9May3vO"
      },
      "outputs": [],
      "source": [
        "#Number of items attributed to a particular item class\n",
        "x, y = (list(x) for x in zip(*sorted(zip(items['class'].value_counts().index, \n",
        "                                         items['class'].value_counts().values), \n",
        "                                        reverse = False)))\n",
        "trace2 = go.Bar(\n",
        "    x=items['class'].value_counts().index,\n",
        "    y=items['class'].value_counts().values,\n",
        "    marker=dict(\n",
        "        color=items['class'].value_counts().values,\n",
        "        colorscale = 'Jet',\n",
        "        reversescale = True\n",
        "    ),\n",
        "    orientation='v',\n",
        ")\n",
        "\n",
        "layout = dict(\n",
        "    title='Number of items attributed to a particular item class',\n",
        "     width = 800, height = 1400,\n",
        "    yaxis=dict(\n",
        "        showgrid=False,\n",
        "        showline=False,\n",
        "        showticklabels=True,\n",
        "#         domain=[0, 0.85],\n",
        "    ))\n",
        "\n",
        "fig1 = go.Figure(data=[trace2])\n",
        "fig1['layout'].update(layout)\n",
        "py.iplot(fig1, filename='plots')\n",
        "plt.savefig('Item2.png')"
      ]
    },
    {
      "cell_type": "code",
      "execution_count": null,
      "metadata": {
        "id": "Z_yQrcUazFLI"
      },
      "outputs": [],
      "source": [
        "#Stacked Barplot of locale name against event type\n",
        "plt.style.use('seaborn-white')\n",
        "fam_perishable = items.groupby(['family', 'perishable']).size()\n",
        "fam_perishable.unstack().plot(kind='bar',stacked=True, colormap= 'coolwarm', figsize=(12,10),  grid=False)\n",
        "plt.title('Stacked Barplot of locale name against event type')\n",
        "plt.ylabel('Count of entries')\n",
        "plt.savefig('Item3.png')"
      ]
    },
    {
      "cell_type": "code",
      "execution_count": null,
      "metadata": {
        "id": "6BCtsho33CZy"
      },
      "outputs": [],
      "source": [
        "#Close step, mark it as completed in the webapp and publish message\n",
        "step.close(message=\"I generated a total of 10 graphs. Some side reseach also gave sense to some data incoherence that could be observed. For example the 2016 hearthquake\")"
      ]
    },
    {
      "cell_type": "markdown",
      "metadata": {
        "id": "3kfw8zVM4jw8"
      },
      "source": [
        "#Verify Data Quality"
      ]
    },
    {
      "cell_type": "code",
      "execution_count": null,
      "metadata": {
        "id": "ygBO6Z_X4nzB"
      },
      "outputs": [],
      "source": [
        "# Get the Verify Data Quality step\n",
        "step = iter.step(\"Verify Data Quality\")"
      ]
    },
    {
      "cell_type": "code",
      "execution_count": null,
      "metadata": {
        "id": "7VcpjIN44tBQ"
      },
      "outputs": [],
      "source": [
        "#Close step, mark it as completed in the webapp and publish message\n",
        "step.close(message=\"The information comprise in this dataset is accurate and comprehensive. As the information aligns with other trusted resources, the dataset was considered as reliable and also relevant to the business problem we are trying to solve. However, this data can not be used for real time reporting as the data does not update itself. \")"
      ]
    }
  ],
  "metadata": {
    "colab": {
      "provenance": []
    },
    "kernelspec": {
      "display_name": "Python 3.9.2 64-bit",
      "language": "python",
      "name": "python3"
    },
    "language_info": {
      "codemirror_mode": {
        "name": "ipython",
        "version": 3
      },
      "file_extension": ".py",
      "mimetype": "text/x-python",
      "name": "python",
      "nbconvert_exporter": "python",
      "pygments_lexer": "ipython3",
      "version": "3.9.2"
    },
    "toc": {
      "base_numbering": 1,
      "nav_menu": {},
      "number_sections": true,
      "sideBar": true,
      "skip_h1_title": false,
      "title_cell": "Table of Contents",
      "title_sidebar": "Contents",
      "toc_cell": false,
      "toc_position": {},
      "toc_section_display": true,
      "toc_window_display": false
    },
    "varInspector": {
      "cols": {
        "lenName": 16,
        "lenType": 16,
        "lenVar": 40
      },
      "kernels_config": {
        "python": {
          "delete_cmd_postfix": "",
          "delete_cmd_prefix": "del ",
          "library": "var_list.py",
          "varRefreshCmd": "print(var_dic_list())"
        },
        "r": {
          "delete_cmd_postfix": ") ",
          "delete_cmd_prefix": "rm(",
          "library": "var_list.r",
          "varRefreshCmd": "cat(var_dic_list()) "
        }
      },
      "types_to_exclude": [
        "module",
        "function",
        "builtin_function_or_method",
        "instance",
        "_Feature"
      ],
      "window_display": false
    },
    "vscode": {
      "interpreter": {
        "hash": "397704579725e15f5c7cb49fe5f0341eb7531c82d19f2c29d197e8b64ab5776b"
      }
    }
  },
  "nbformat": 4,
  "nbformat_minor": 0
}
