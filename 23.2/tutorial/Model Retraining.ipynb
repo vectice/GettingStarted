{
 "cells": [
  {
   "attachments": {},
   "cell_type": "markdown",
   "id": "267a5abb-312f-436f-99ee-43b9bba7a743",
   "metadata": {},
   "source": [
    "# References\n",
    "\n",
    "- Vectice Documentation: https://docs.vectice.com/\n",
    "- Vectice API Documentation: https://api-docs.vectice.com/"
   ]
  },
  {
   "attachments": {},
   "cell_type": "markdown",
   "id": "cc1036be",
   "metadata": {},
   "source": [
    "## We assume in this exercise that we want to retrain the model because the variable 'postal code' was left accidentally inside our initial modeling dataset"
   ]
  },
  {
   "cell_type": "code",
   "execution_count": null,
   "id": "8b0ced23-cc10-4fd0-b1d3-b032efb3fcfc",
   "metadata": {},
   "outputs": [],
   "source": [
    "import warnings\n",
    "warnings.filterwarnings(\"ignore\", category=DeprecationWarning)"
   ]
  },
  {
   "attachments": {},
   "cell_type": "markdown",
   "id": "9c94ff6a-2eb2-4a27-8ee4-2b9712b47b17",
   "metadata": {},
   "source": [
    "## Install the latest Vectice Python client library"
   ]
  },
  {
   "cell_type": "code",
   "execution_count": null,
   "id": "8fd7daee",
   "metadata": {},
   "outputs": [],
   "source": [
    "%pip install --q vectice -U\n",
    "%pip install category_encoders"
   ]
  },
  {
   "cell_type": "code",
   "execution_count": null,
   "id": "9925c2b4-1873-42ba-a487-6ba08c71df12",
   "metadata": {},
   "outputs": [],
   "source": [
    "import pandas as pd\n",
    "import numpy as np\n",
    "import matplotlib.pyplot as plt\n",
    "from sklearn.model_selection import train_test_split\n",
    "from sklearn.metrics import mean_absolute_error\n",
    "from sklearn.linear_model import Ridge\n",
    "from sklearn.pipeline import make_pipeline\n",
    "from category_encoders import OneHotEncoder"
   ]
  },
  {
   "attachments": {},
   "cell_type": "markdown",
   "id": "e4b94319-e1d0-4a0b-baf6-0eb59ed5e06e",
   "metadata": {},
   "source": [
    "## Get started by connecting to Vectice\n",
    "\n",
    "You can learn more about the `Connection` object in the [documentation](https://api-docs.vectice.com/reference/vectice/connection/)"
   ]
  },
  {
   "cell_type": "markdown",
   "id": "e1cd3692-0202-4961-ab83-4c43ad270351",
   "metadata": {},
   "source": [
    "<div class=\"alert alert-block alert-warning\">\r\n",
    "<b>Code Lineage:</b> If there is no repository found, the `.git folder`, then there will be no code lineage tracked. To track code, you can git clone a repository and run the notebook within it.\r\n",
    "</div>"
   ]
  },
  {
   "cell_type": "markdown",
   "id": "98b89c65-ff2b-4216-bd04-500c3cde78ae",
   "metadata": {},
   "source": [
    "**First, we need to install and authenticate ourselves to the Vectice server. Before proceeding further:**\n",
    "\n",
    "- Visit the Vectice app (https://app.vectice.com/account/api-keys) to create and download an API token, name the file as \"My Token\"\n",
    "\n",
    "- Upload the file to Colab by clicking on the \"folder\" icon on the left-hand taskbar and selecting \"Upload to Session Storage\"\n",
    "\n",
    "- Then you execute"
   ]
  },
  {
   "cell_type": "code",
   "execution_count": null,
   "id": "f15b5e87-ceea-41cf-90f2-11fa6c7b4633",
   "metadata": {},
   "outputs": [],
   "source": [
    "import vectice as vect\n",
    "\n",
    "vec = vect.connect(config=\"My-token.json\") # Put your own token as explained in the Tutorial "
   ]
  },
  {
   "attachments": {},
   "cell_type": "markdown",
   "id": "14681ed0-a7c5-4175-b95c-87186fb28bc2",
   "metadata": {},
   "source": [
    "## Specify which project phase you want to document\n",
    "In Vectice UI, navigate to your personal workspace, inside your default Tutorial project go to the Model Retraining phase you just created and copy paste your Phase Id below."
   ]
  },
  {
   "cell_type": "code",
   "execution_count": null,
   "id": "552f544a-8b61-45dc-b2c5-d7bd1972e659",
   "metadata": {},
   "outputs": [],
   "source": [
    "phase = vec.phase(\"PHA-xxxx\") # Put your own Model Retraining phase ID"
   ]
  },
  {
   "attachments": {},
   "cell_type": "markdown",
   "id": "36522f13-0925-4f14-80a9-072890887f68",
   "metadata": {},
   "source": [
    "## Next we are going to create an iteration\n",
    "An iteration allows you to organize your work in repeatable sequences of steps. You can have multiple iteration within a phase"
   ]
  },
  {
   "cell_type": "code",
   "execution_count": null,
   "id": "16d37d91-8f63-4fbc-b6eb-8aaff588e84c",
   "metadata": {},
   "outputs": [],
   "source": [
    "model_iteration = phase.create_iteration()"
   ]
  },
  {
   "attachments": {},
   "cell_type": "markdown",
   "id": "dfb83472",
   "metadata": {},
   "source": [
    "## Retrieve your cleaned dataset version previously created in phase Data Preparation for your lineage\n",
    "You can retrieve a variety of Vectice Objects with the `browse('VECTICE-ID')` method. Namely, Phases, Iterations, Datasets, Models etc..."
   ]
  },
  {
   "attachments": {},
   "cell_type": "markdown",
   "id": "b61af017",
   "metadata": {},
   "source": [
    "Inside your project, go to the Dataset tab and look for \"ProductSales Cleaned\" to get the Vectice ID. This is the Wrapped Dataset created in the Data Preparation phase and will be useful for the lineage."
   ]
  },
  {
   "cell_type": "code",
   "execution_count": null,
   "id": "abecdb22",
   "metadata": {},
   "outputs": [],
   "source": [
    "cleaned_ds = vec.browse(\"DTS-xxxx\") #Get the ID of your Clean Dataset created in the Data Preparation phase"
   ]
  },
  {
   "attachments": {},
   "cell_type": "markdown",
   "id": "ee0aba94-baf2-49bb-a9bc-9b2c16852dc2",
   "metadata": {},
   "source": [
    "## Log a dataset version\n",
    "\n",
    "Use the following code block to create a local datset we assume that the dataset contains data and we already cleaned it in the previous phases"
   ]
  },
  {
   "cell_type": "code",
   "execution_count": null,
   "id": "02c4e722-a008-4989-84bb-500cc5f0534c",
   "metadata": {},
   "outputs": [],
   "source": [
    "df = pd.read_csv(\"https://raw.githubusercontent.com/vectice/GettingStarted/23.2.4.1-Tutorial_update/23.2/tutorial/ProductSales%20Cleaned.csv\")\n",
    "df.head()"
   ]
  },
  {
   "attachments": {},
   "cell_type": "markdown",
   "id": "eb3c8bf4",
   "metadata": {},
   "source": [
    "## Remove Postal code"
   ]
  },
  {
   "cell_type": "code",
   "execution_count": null,
   "id": "99534610-4ed8-4672-8ab3-d8b2df33664b",
   "metadata": {},
   "outputs": [],
   "source": [
    "X = df.drop([\"Sales\", \"Postal Code\"],axis=1)\n",
    "y = df[\"Sales\"]\n",
    "print(X.shape)\n",
    "print(y.shape)"
   ]
  },
  {
   "cell_type": "code",
   "execution_count": null,
   "id": "3423b731-454e-4909-850a-d503ca9f2bf5",
   "metadata": {},
   "outputs": [],
   "source": [
    "X_train, X_test, y_train, y_test=train_test_split(X, y, test_size=0.2, random_state=42)"
   ]
  },
  {
   "cell_type": "code",
   "execution_count": null,
   "id": "0d074b66-37a5-4882-b600-b630a0288b71",
   "metadata": {},
   "outputs": [],
   "source": [
    "# Save the modeling train test split datasets as csv files\n",
    "train_df = X_train.copy()\n",
    "test_df = X_test.copy()\n",
    "\n",
    "train_df[\"Sales\"] = y_train\n",
    "test_df[\"Sales\"] = y_test\n",
    "\n",
    "train_df.to_csv(\"train dataset.csv\", index=False)\n",
    "test_df.to_csv(\"test dataset.csv\", index=False)"
   ]
  },
  {
   "attachments": {},
   "cell_type": "markdown",
   "id": "bb81eaf7-f880-4c77-923a-f5deb7832cf3",
   "metadata": {},
   "source": [
    "### Log dataset metadata and statistics\n",
    "Log dataset metadata and statistics to Vectice by passing the file resource path and a `Pandas.DataFrame`"
   ]
  },
  {
   "cell_type": "code",
   "execution_count": null,
   "id": "016c1281-3880-498e-8a8c-ab45113f2688",
   "metadata": {},
   "outputs": [],
   "source": [
    "train_ds = vect.FileResource(paths=\"train dataset.csv\", dataframes=train_df)\n",
    "test_ds = vect.FileResource(paths=\"test dataset.csv\", dataframes=test_df)"
   ]
  },
  {
   "cell_type": "code",
   "execution_count": null,
   "id": "0416ab44-16c4-4905-a582-306cb87b6566",
   "metadata": {},
   "outputs": [],
   "source": [
    "modeling_dataset = vect.Dataset.modeling(\n",
    "        name=\"ProductSales Modeling\",\n",
    "        training_resource=train_ds,\n",
    "        testing_resource=test_ds, \n",
    "        derived_from=cleaned_ds,\n",
    "    )"
   ]
  },
  {
   "attachments": {},
   "cell_type": "markdown",
   "id": "1df98a22",
   "metadata": {},
   "source": [
    "## Log the dataset version\n",
    "Since metadata for the modeling Dataset has changed, Vectice will automatically create a new version of the existing ProductSales Modeling Dataset with the updated metadata"
   ]
  },
  {
   "cell_type": "code",
   "execution_count": null,
   "id": "f7d80585-cbfe-40a0-b360-ef7798d1cfed",
   "metadata": {},
   "outputs": [],
   "source": [
    "model_iteration.step_model_input_data = modeling_dataset"
   ]
  },
  {
   "attachments": {},
   "cell_type": "markdown",
   "id": "377d7923",
   "metadata": {},
   "source": [
    "### Retrain a Ridge regressor"
   ]
  },
  {
   "cell_type": "code",
   "execution_count": null,
   "id": "ff62ae55-87c8-41ea-a02b-0ec109ab7438",
   "metadata": {},
   "outputs": [],
   "source": [
    "model = make_pipeline(OneHotEncoder(use_cat_names=True),\n",
    "                     Ridge())\n",
    "model.fit(X_train, y_train)"
   ]
  },
  {
   "cell_type": "code",
   "execution_count": null,
   "id": "cfaa69c9-83d5-4fa8-82c6-37628ad258b6",
   "metadata": {},
   "outputs": [],
   "source": [
    "# Making Prediction with the training data\n",
    "y_train_pred = model.predict(X_train)\n",
    "#Evaluating the model \n",
    "mae_train=mean_absolute_error(y_train, y_train_pred)\n",
    "print(round(mae_train,2))"
   ]
  },
  {
   "cell_type": "code",
   "execution_count": null,
   "id": "8e16f056-b366-4f5f-b1a3-a031b8316074",
   "metadata": {},
   "outputs": [],
   "source": [
    "# Making Prediction with the testing data\n",
    "y_test_pred = model.predict(X_test)\n",
    "#Evaluating the model \n",
    "mae_test = mean_absolute_error(y_test, y_test_pred)\n",
    "print(round(mae_test,2))"
   ]
  },
  {
   "cell_type": "code",
   "execution_count": null,
   "id": "de507cdf-0576-4ef0-ba5e-10fd1f69c176",
   "metadata": {},
   "outputs": [],
   "source": [
    "features = model.named_steps[\"onehotencoder\"].get_feature_names()\n",
    "importance = model.named_steps[\"ridge\"].coef_\n",
    "\n",
    "feat_imf = pd.Series(importance, index=features).sort_values()\n",
    "\n",
    "feat_imf.tail(10).plot(kind=\"barh\")\n",
    "plt.ylabel(\"Features\")\n",
    "plt.xlabel(\"Importance\")\n",
    "plt.title(\"Feature Importance\")\n",
    "plt.tight_layout()\n",
    "plt.savefig(\"Feature Importance.png\")"
   ]
  },
  {
   "attachments": {},
   "cell_type": "markdown",
   "id": "f53c5948-d301-4bfe-82a4-83758c155f99",
   "metadata": {},
   "source": [
    "## Log a trained model version with an attachment\n",
    "\n",
    "Then we log a trained model to Vectice using the `Vectice.Model()` object."
   ]
  },
  {
   "cell_type": "code",
   "execution_count": null,
   "id": "ce8afa6c-ac94-4846-9032-80457024d40f",
   "metadata": {},
   "outputs": [],
   "source": [
    "vect_model = vect.Model(library=\"scikit-learn\", technique=\"Ridge Regression\", metrics={\"mae_train\": round(mae_train,2), \"mae_test\": round(mae_test,2)}, \n",
    "                        properties=model.named_steps, predictor=model, derived_from=modeling_dataset, attachments=\"Feature Importance.png\")"
   ]
  },
  {
   "attachments": {},
   "cell_type": "markdown",
   "id": "3ea7f45c-acc9-4180-921b-955284a2d59e",
   "metadata": {},
   "source": [
    "## Add the retrain model to the step\n",
    "You can add multiple models to a single step by using the `+=` operator."
   ]
  },
  {
   "cell_type": "code",
   "execution_count": null,
   "id": "d4e6bc65-158a-48ea-9dfd-8f2643a3443c",
   "metadata": {},
   "outputs": [],
   "source": [
    "model_iteration.step_build_model += vect_model"
   ]
  },
  {
   "attachments": {},
   "cell_type": "markdown",
   "id": "3aa5e8d5-154d-4420-ae95-bf7a8bf7e9bb",
   "metadata": {},
   "source": [
    "## Add a comment \n",
    "\n",
    "Passing a `string` to a step will add a comment."
   ]
  },
  {
   "cell_type": "code",
   "execution_count": null,
   "id": "3b2560ad-6cab-4978-98fb-06a8a2cbf0a3",
   "metadata": {},
   "outputs": [],
   "source": [
    "# Select the model to be staged\n",
    "model_iteration.step_model_validation = f\"Model passed acceptance criteria\\nMAE Train: {round(mae_train,2)}\\nMAE Test: {round(mae_test,2)}\""
   ]
  },
  {
   "attachments": {},
   "cell_type": "markdown",
   "id": "6556088b",
   "metadata": {},
   "source": [
    "### Once you are statisfied with your iteration you can complete it so it can't be modified anymore and you can request a review"
   ]
  },
  {
   "cell_type": "code",
   "execution_count": null,
   "id": "ab7554b8",
   "metadata": {},
   "outputs": [],
   "source": [
    "model_iteration.complete()"
   ]
  },
  {
   "attachments": {},
   "cell_type": "markdown",
   "id": "481b0162-f5de-4137-8271-9524090202f7",
   "metadata": {},
   "source": [
    "✴ You can view your registered assets and comments in the UI by clicking the links in the output messages.."
   ]
  }
 ],
 "metadata": {
  "kernelspec": {
   "display_name": "Python 3",
   "language": "python",
   "name": "python3"
  },
  "language_info": {
   "codemirror_mode": {
    "name": "ipython",
    "version": 3
   },
   "file_extension": ".py",
   "mimetype": "text/x-python",
   "name": "python",
   "nbconvert_exporter": "python",
   "pygments_lexer": "ipython3",
   "version": "3.9.5"
  }
 },
 "nbformat": 4,
 "nbformat_minor": 5
}
