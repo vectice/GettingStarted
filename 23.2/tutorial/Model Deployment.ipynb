{
 "cells": [
  {
   "cell_type": "markdown",
   "id": "ce429bd4-5bcc-47f6-9a7a-19b039cc87c1",
   "metadata": {},
   "source": [
    "# References\n",
    "\n",
    "- Vectice Documentation: https://docs.vectice.com/\n",
    "- Vectice API Documentation: https://api-docs.vectice.com/"
   ]
  },
  {
   "cell_type": "markdown",
   "id": "3f34332a-2546-4d1f-86a5-cd263dd98f0d",
   "metadata": {},
   "source": [
    "## Install the latest Vectice Python client library"
   ]
  },
  {
   "cell_type": "code",
   "execution_count": null,
   "id": "3d9a66a7-e62d-459d-ab53-579644517548",
   "metadata": {},
   "outputs": [],
   "source": [
    "%pip install --q vectice -U"
   ]
  },
  {
   "cell_type": "markdown",
   "id": "ccd2d28a-abbc-4b5c-abf4-d9d6337bc28e",
   "metadata": {},
   "source": [
    "## Get started by connecting to Vectice"
   ]
  },
  {
   "cell_type": "code",
   "execution_count": 1,
   "id": "cd4f068f-60c6-436b-99b5-55575ecdbcb6",
   "metadata": {},
   "outputs": [
    {
     "name": "stderr",
     "output_type": "stream",
     "text": [
      "VECTICE_API_ENDPOINT is deprecated and will be removed in 23.3.1.0, please use VECTICE_HOST instead.\n",
      "Welcome, Aidan. You`re now successfully connected to Vectice.\n",
      "\n",
      "To access your personal workspace, use \u001b[1mconnection\u001b[0m.my_workspace\n",
      "To access a specific workspace, use \u001b[1mconnection\u001b[0m.workspace(Workspace ID)\n",
      "To get a list of workspaces you can access and their IDs, use \u001b[1mconnection\u001b[0m.list_workspaces()\n",
      "\n",
      "If you are using a notebook you can call the help by using a Vectice returned object with the builtin notebook \"?\":\n",
      ">> connection?\n",
      "\n",
      "If you are using an IDE you can call the help() method on any object returned by Vectice:\n",
      ">> help(connection)\n",
      "\n",
      "For quick access to the list of workspaces in the Vectice web app, visit:\n",
      "https://dev.vectice.com/workspaces\n"
     ]
    }
   ],
   "source": [
    "import vectice as vect\n",
    "\n",
    "vec = vect.connect(config=\"tut.json\")"
   ]
  },
  {
   "cell_type": "markdown",
   "id": "202bb8e0-4466-4383-b98e-ac735655a0af",
   "metadata": {},
   "source": [
    "## Specify which project phase you want to document\r\n",
    "In Vectice UI, navigate to your personal workspace inside your default Tutorial project go to the modeling phase and copy paste your Phase Id below."
   ]
  },
  {
   "cell_type": "code",
   "execution_count": 2,
   "id": "3e19c58a-c203-4c84-8e1d-cd5ecbfa2d35",
   "metadata": {},
   "outputs": [
    {
     "name": "stderr",
     "output_type": "stream",
     "text": [
      "C:\\Users\\Aidan\\AppData\\Local\\Programs\\Python\\Python39\\lib\\site-packages\\ipykernel\\ipkernel.py:283: DeprecationWarning: `should_run_async` will not call `transform_cell` automatically in the future. Please pass the result to `transformed_cell` argument and any exception that happen during thetransform in `preprocessing_exc_tuple` in IPython 7.17 and above.\n",
      "  and should_run_async(code)\n",
      "Phase 'Copy of Model Deployment' successfully retrieved.\"\n",
      "\n",
      "For quick access to the Phase in the Vectice web app, visit:\n",
      "https://dev.vectice.com/browse/phase/PHA-1178\n"
     ]
    }
   ],
   "source": [
    "phase = vec.phase(\"PHA-1178\")"
   ]
  },
  {
   "cell_type": "markdown",
   "id": "c9d27a6f-19e4-4f25-a50e-73e8fe0cc9d7",
   "metadata": {},
   "source": [
    "## Next we are going to create an iteration\r\n",
    "An iteration allows you to organize your work in repeatable sequences of steps. You can have multiple iteration within a phase"
   ]
  },
  {
   "cell_type": "code",
   "execution_count": 3,
   "id": "ef0de711-6ae8-484c-9831-f73d404f3e59",
   "metadata": {},
   "outputs": [
    {
     "name": "stderr",
     "output_type": "stream",
     "text": [
      "C:\\Users\\Aidan\\AppData\\Local\\Programs\\Python\\Python39\\lib\\site-packages\\ipykernel\\ipkernel.py:283: DeprecationWarning: `should_run_async` will not call `transform_cell` automatically in the future. Please pass the result to `transformed_cell` argument and any exception that happen during thetransform in `preprocessing_exc_tuple` in IPython 7.17 and above.\n",
      "  and should_run_async(code)\n",
      "New Iteration number '1' created.\n",
      "\n",
      "For quick access to the Iteration in the Vectice web app, visit:\n",
      "https://dev.vectice.com/browse/iteration/ITR-352\n"
     ]
    }
   ],
   "source": [
    "deploy_iteration = phase.create_iteration()"
   ]
  },
  {
   "cell_type": "markdown",
   "id": "1ccf931b-9676-4f1b-868c-79c7f15eb0bf",
   "metadata": {},
   "source": [
    "## Retrieve A Previously Created Model\r\n",
    "You can retrieve a variety of Vectice Objects with the browse('VECTICE-ID') method. Namely, Phases, Iterations, Datasets, Model e"
   ]
  },
  {
   "cell_type": "code",
   "execution_count": 4,
   "id": "81554fb3-316c-47ee-b04c-83c3f433285f",
   "metadata": {},
   "outputs": [
    {
     "name": "stderr",
     "output_type": "stream",
     "text": [
      "C:\\Users\\Aidan\\AppData\\Local\\Programs\\Python\\Python39\\lib\\site-packages\\ipykernel\\ipkernel.py:283: DeprecationWarning: `should_run_async` will not call `transform_cell` automatically in the future. Please pass the result to `transformed_cell` argument and any exception that happen during thetransform in `preprocessing_exc_tuple` in IPython 7.17 and above.\n",
      "  and should_run_async(code)\n",
      "Model version 'Version 1' successfully retrieved.\"\n",
      "\n",
      "For quick access to the Model version in the Vectice web app, visit:\n",
      "https://dev.vectice.com/browse/modelversion/MDV-1428\n"
     ]
    }
   ],
   "source": [
    "vect_model = vec.browse(\"MDV-1428\")"
   ]
  },
  {
   "cell_type": "markdown",
   "id": "38b747d7-e400-48a3-95ca-ceb61fb0d85c",
   "metadata": {},
   "source": [
    "## Push a Model\r\n",
    "Use the following code block to create a local Model"
   ]
  },
  {
   "cell_type": "code",
   "execution_count": 5,
   "id": "0f73bd6f-b828-4603-ad8f-05cdb68f888b",
   "metadata": {},
   "outputs": [
    {
     "name": "stderr",
     "output_type": "stream",
     "text": [
      "C:\\Users\\Aidan\\AppData\\Local\\Programs\\Python\\Python39\\lib\\site-packages\\ipykernel\\ipkernel.py:283: DeprecationWarning: `should_run_async` will not call `transform_cell` automatically in the future. Please pass the result to `transformed_cell` argument and any exception that happen during thetransform in `preprocessing_exc_tuple` in IPython 7.17 and above.\n",
      "  and should_run_async(code)\n",
      "New Version: 'Version 1' of Model: 'Version 1' added to Step: Deploy Model\n",
      "Attachments: None\n",
      "Link to Step: https://dev.vectice.com/browse/iteration/ITR-352\n",
      "\n"
     ]
    }
   ],
   "source": [
    "deploy_iteration.step_deploy_model = vect_model"
   ]
  },
  {
   "cell_type": "markdown",
   "id": "8ae90c1d-b385-422f-975e-9d7af6cadd0e",
   "metadata": {},
   "source": [
    "## Add a Comment\n",
    "Use the following code block to add a comment"
   ]
  },
  {
   "cell_type": "code",
   "execution_count": 6,
   "id": "c7f7b1ec-19b2-4799-99f6-a4088e3fbc8c",
   "metadata": {},
   "outputs": [
    {
     "name": "stderr",
     "output_type": "stream",
     "text": [
      "C:\\Users\\Aidan\\AppData\\Local\\Programs\\Python\\Python39\\lib\\site-packages\\ipykernel\\ipkernel.py:283: DeprecationWarning: `should_run_async` will not call `transform_cell` automatically in the future. Please pass the result to `transformed_cell` argument and any exception that happen during thetransform in `preprocessing_exc_tuple` in IPython 7.17 and above.\n",
      "  and should_run_async(code)\n",
      "Added Comment to Step: Deploy Model\n",
      "\n",
      "Link to Step: https://dev.vectice.com/browse/iteration/ITR-352\n",
      "\n"
     ]
    }
   ],
   "source": [
    "deploy_iteration.step_deploy_model += \"\"\"{\n",
    "  \"Container image\": \"us-docker.pkg.dev/vertex-ai/prediction/sklearn-cpu.0-24:latest\",\n",
    "  \"Model artifact location\": \"gs://dataproc-staging-us-west2-599225543291-rt9b6nzx/models/\",\n",
    "  \"Prediction endpoint\": \"https://retail_prediction_service.com/predict\"\n",
    "}\"\"\""
   ]
  },
  {
   "cell_type": "code",
   "execution_count": null,
   "id": "7c0e43f8-7fa0-4dc6-ab41-dddb5e5d6f32",
   "metadata": {},
   "outputs": [],
   "source": []
  }
 ],
 "metadata": {
  "kernelspec": {
   "display_name": "Python 3",
   "language": "python",
   "name": "python3"
  },
  "language_info": {
   "codemirror_mode": {
    "name": "ipython",
    "version": 3
   },
   "file_extension": ".py",
   "mimetype": "text/x-python",
   "name": "python",
   "nbconvert_exporter": "python",
   "pygments_lexer": "ipython3",
   "version": "3.9.5"
  }
 },
 "nbformat": 4,
 "nbformat_minor": 5
}
