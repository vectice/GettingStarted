{
 "cells": [
  {
   "cell_type": "code",
   "execution_count": null,
   "id": "4b3f3921-03ef-4a2c-8123-d5f6ff9997b6",
   "metadata": {},
   "outputs": [],
   "source": []
  },
  {
   "cell_type": "code",
   "execution_count": null,
   "id": "cd4f068f-60c6-436b-99b5-55575ecdbcb6",
   "metadata": {},
   "outputs": [],
   "source": [
    "# %pip install --q vectice -U\n",
    "import vectice as vect\n",
    "\n",
    "vec = vect.connect(config=\"tut.json\")"
   ]
  },
  {
   "cell_type": "code",
   "execution_count": null,
   "id": "55077db8-2ce0-4c99-9098-60f5ab539fb8",
   "metadata": {},
   "outputs": [],
   "source": [
    "workspace = vec.workspace(\"Create Sample Tutorial Project\") # Your personal workspace can be access with my_workspace property"
   ]
  },
  {
   "cell_type": "code",
   "execution_count": null,
   "id": "bf790dcd-d44d-4265-96b8-723cc414cf54",
   "metadata": {},
   "outputs": [],
   "source": [
    "project = workspace.project(\"Store Sales Prediction\") # pass the ID of your tutorial project"
   ]
  },
  {
   "cell_type": "code",
   "execution_count": null,
   "id": "ef0de711-6ae8-484c-9831-f73d404f3e59",
   "metadata": {},
   "outputs": [],
   "source": [
    "deploy_iteration = project.phase(\"PHA-1174\").create_iteration()"
   ]
  },
  {
   "cell_type": "code",
   "execution_count": null,
   "id": "81554fb3-316c-47ee-b04c-83c3f433285f",
   "metadata": {},
   "outputs": [],
   "source": [
    "vect_model = vec.browse(\"MDV-1418\")"
   ]
  },
  {
   "cell_type": "code",
   "execution_count": null,
   "id": "0f73bd6f-b828-4603-ad8f-05cdb68f888b",
   "metadata": {},
   "outputs": [],
   "source": [
    "deploy_iteration.step_deploy_model = vect_model"
   ]
  },
  {
   "cell_type": "code",
   "execution_count": null,
   "id": "c7f7b1ec-19b2-4799-99f6-a4088e3fbc8c",
   "metadata": {},
   "outputs": [],
   "source": [
    "deploy_iteration.step_deploy_model += \"\"\"{\n",
    "  \"Container image\": \"us-docker.pkg.dev/vertex-ai/prediction/sklearn-cpu.0-24:latest\",\n",
    "  \"Model artifact location\": \"gs://dataproc-staging-us-west2-599225543291-rt9b6nzx/models/\",\n",
    "  \"Prediction endpoint\": \"https://retail_prediction_service.com/predict\"\n",
    "}\"\"\""
   ]
  }
 ],
 "metadata": {
  "kernelspec": {
   "display_name": "Python 3",
   "language": "python",
   "name": "python3"
  },
  "language_info": {
   "codemirror_mode": {
    "name": "ipython",
    "version": 3
   },
   "file_extension": ".py",
   "mimetype": "text/x-python",
   "name": "python",
   "nbconvert_exporter": "python",
   "pygments_lexer": "ipython3",
   "version": "3.9.5"
  }
 },
 "nbformat": 4,
 "nbformat_minor": 5
}
