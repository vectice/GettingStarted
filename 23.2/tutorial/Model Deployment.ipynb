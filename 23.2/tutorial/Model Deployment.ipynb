{
 "cells": [
  {
   "attachments": {},
   "cell_type": "markdown",
   "id": "ce429bd4-5bcc-47f6-9a7a-19b039cc87c1",
   "metadata": {},
   "source": [
    "# Before you start with this Model Deployment Notebook\n",
    "\n",
    "This notebook is part of the Vectice tutorial project notebook series. It illustrates how to log the assets documented in the \"Model Deployment\" phase of the **\"Tutorial: Forecast in store-unit sales (xxxx/xx/xx)\"** project you can find in your personal Vectice workspace.\n",
    "\n",
    "### Pre-requisites:\n",
    "Before using this notebook you will need:\n",
    "* An account in Vectice\n",
    "* An API token to connect to Vectice through the APIs\n",
    "* The Phase Id of the project where you want to log your work\n",
    "\n",
    "Refer to Vectice Getting Started Guide for more detailed instructions: https://docs.vectice.com/getting-started/\n",
    "\n",
    "\n",
    "### Other Resources\n",
    "*   Vectice Documentation: https://docs.vectice.com/ </br>\n",
    "*   Vectice API documentation: https://api-docs.vectice.com/"
   ]
  },
  {
   "attachments": {},
   "cell_type": "markdown",
   "id": "3f34332a-2546-4d1f-86a5-cd263dd98f0d",
   "metadata": {},
   "source": [
    "## Install the latest Vectice Python client library"
   ]
  },
  {
   "cell_type": "code",
   "execution_count": null,
   "id": "3d9a66a7-e62d-459d-ab53-579644517548",
   "metadata": {},
   "outputs": [],
   "source": [
    "%pip install --q vectice -U"
   ]
  },
  {
   "attachments": {},
   "cell_type": "markdown",
   "id": "ccd2d28a-abbc-4b5c-abf4-d9d6337bc28e",
   "metadata": {},
   "source": [
    "## Get started by connecting to Vectice"
   ]
  },
  {
   "cell_type": "code",
   "execution_count": 15,
   "id": "cd4f068f-60c6-436b-99b5-55575ecdbcb6",
   "metadata": {},
   "outputs": [
    {
     "name": "stderr",
     "output_type": "stream",
     "text": [
      "VECTICE_API_ENDPOINT is deprecated and will be removed in 23.3.1.0, please use VECTICE_HOST instead.\n",
      "Welcome, bdaversa. You`re now successfully connected to Vectice.\n",
      "\n",
      "To access your personal workspace, use \u001b[1mconnection\u001b[0m.my_workspace\n",
      "To access a specific workspace, use \u001b[1mconnection\u001b[0m.workspace(Workspace ID)\n",
      "To get a list of workspaces you can access and their IDs, use \u001b[1mconnection\u001b[0m.list_workspaces()\n",
      "\n",
      "If you are using a notebook you can call the help by using a Vectice returned object with the builtin notebook \"?\":\n",
      ">> connection?\n",
      "\n",
      "If you are using an IDE you can call the help() method on any object returned by Vectice:\n",
      ">> help(connection)\n",
      "\n",
      "For quick access to your default workspace in the Vectice web app, visit:\n",
      "https://qa.vectice.com/browse/workspace/WSP-309\n"
     ]
    }
   ],
   "source": [
    "import vectice\n",
    "\n",
    "vec = vectice.connect(api_token=\"my-api-token\") #Paste your API token"
   ]
  },
  {
   "attachments": {},
   "cell_type": "markdown",
   "id": "202bb8e0-4466-4383-b98e-ac735655a0af",
   "metadata": {},
   "source": [
    "## Specify which project phase you want to document\n",
    "In Vectice UI, navigate to your personal workspace inside your default Tutorial project go to the Model Deployment phase and copy paste your Phase Id below."
   ]
  },
  {
   "cell_type": "code",
   "execution_count": 16,
   "id": "3e19c58a-c203-4c84-8e1d-cd5ecbfa2d35",
   "metadata": {},
   "outputs": [
    {
     "name": "stderr",
     "output_type": "stream",
     "text": [
      "Phase 'Copy of Model Deployment' successfully retrieved.\"\n",
      "\n",
      "For quick access to the Phase in the Vectice web app, visit:\n",
      "https://qa.vectice.com/browse/phase/PHA-5852\n"
     ]
    }
   ],
   "source": [
    "phase = vec.phase(\"PHA-xxxx\") # Put your Model Deployment phase ID"
   ]
  },
  {
   "attachments": {},
   "cell_type": "markdown",
   "id": "c9d27a6f-19e4-4f25-a50e-73e8fe0cc9d7",
   "metadata": {},
   "source": [
    "## Next we are going to create an iteration\n",
    "An iteration allows you to organize your work in repeatable sequences of steps. You can have multiple iteration within a phase"
   ]
  },
  {
   "cell_type": "code",
   "execution_count": 17,
   "id": "ef0de711-6ae8-484c-9831-f73d404f3e59",
   "metadata": {},
   "outputs": [
    {
     "name": "stderr",
     "output_type": "stream",
     "text": [
      "New Iteration number '1' created.\n",
      "\n",
      "For quick access to the Iteration in the Vectice web app, visit:\n",
      "https://qa.vectice.com/browse/iteration/ITR-2253\n"
     ]
    }
   ],
   "source": [
    "deploy_iteration = phase.create_iteration()"
   ]
  },
  {
   "attachments": {},
   "cell_type": "markdown",
   "id": "1ccf931b-9676-4f1b-868c-79c7f15eb0bf",
   "metadata": {},
   "source": [
    "## Retrieve A Previously Created Model\n",
    "You can retrieve a variety of Vectice Objects with the browse('VECTICE-ID') method. Namely, Phases, Iterations, Datasets, Model..."
   ]
  },
  {
   "cell_type": "code",
   "execution_count": 18,
   "id": "81554fb3-316c-47ee-b04c-83c3f433285f",
   "metadata": {},
   "outputs": [
    {
     "name": "stderr",
     "output_type": "stream",
     "text": [
      "Model version 'Version 1' successfully retrieved.\"\n",
      "\n",
      "For quick access to the Model version in the Vectice web app, visit:\n",
      "https://qa.vectice.com/browse/modelversion/MDV-2613\n"
     ]
    }
   ],
   "source": [
    "vect_model = vec.browse(\"MDV-2613\") #Pass your model ID Ridge created on the Modelling phase"
   ]
  },
  {
   "attachments": {},
   "cell_type": "markdown",
   "id": "38b747d7-e400-48a3-95ca-ceb61fb0d85c",
   "metadata": {},
   "source": [
    "## Log a Model\n",
    "Use the following code block to create a local Model"
   ]
  },
  {
   "cell_type": "code",
   "execution_count": 19,
   "id": "0f73bd6f-b828-4603-ad8f-05cdb68f888b",
   "metadata": {},
   "outputs": [
    {
     "name": "stderr",
     "output_type": "stream",
     "text": [
      "New Version: 'Version 1' of Model: 'Version 1' added to Step: Deploy Model\n",
      "Attachments: None\n",
      "Link to Step: https://qa.vectice.com/browse/iteration/ITR-2253\n",
      "\n"
     ]
    }
   ],
   "source": [
    "deploy_iteration.step_deploy_model = vect_model"
   ]
  },
  {
   "attachments": {},
   "cell_type": "markdown",
   "id": "8ae90c1d-b385-422f-975e-9d7af6cadd0e",
   "metadata": {},
   "source": [
    "## Add a Comment\n",
    "Use the following code block to add a comment"
   ]
  },
  {
   "cell_type": "code",
   "execution_count": 20,
   "id": "c7f7b1ec-19b2-4799-99f6-a4088e3fbc8c",
   "metadata": {},
   "outputs": [
    {
     "name": "stderr",
     "output_type": "stream",
     "text": [
      "Added Comment to Step: Deploy Model\n",
      "\n",
      "Link to Step: https://qa.vectice.com/browse/iteration/ITR-2253\n",
      "\n"
     ]
    }
   ],
   "source": [
    "deploy_iteration.step_deploy_model += \"\"\"{\n",
    "  \"Container image\": \"us-docker.pkg.dev/vertex-ai/prediction/sklearn-cpu.0-24:latest\",\n",
    "  \"Model artifact location\": \"gs://dataproc-staging-us-west2-599225543291-rt9b6nzx/models/\",\n",
    "  \"Prediction endpoint\": \"https://retail_prediction_service.com/predict\"\n",
    "}\"\"\""
   ]
  }
 ],
 "metadata": {
  "kernelspec": {
   "display_name": "Python 3",
   "language": "python",
   "name": "python3"
  },
  "language_info": {
   "codemirror_mode": {
    "name": "ipython",
    "version": 3
   },
   "file_extension": ".py",
   "mimetype": "text/x-python",
   "name": "python",
   "nbconvert_exporter": "python",
   "pygments_lexer": "ipython3",
   "version": "3.9.6"
  }
 },
 "nbformat": 4,
 "nbformat_minor": 5
}
