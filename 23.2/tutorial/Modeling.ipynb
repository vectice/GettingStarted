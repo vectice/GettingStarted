{
 "cells": [
  {
   "attachments": {},
   "cell_type": "markdown",
   "id": "267a5abb-312f-436f-99ee-43b9bba7a743",
   "metadata": {},
   "source": [
    "# References\n",
    "\n",
    "- Vectice Documentation: https://docs.vectice.com/\n",
    "- Vectice API Documentation: https://api-docs.vectice.com/"
   ]
  },
  {
   "cell_type": "code",
   "execution_count": null,
   "id": "8b0ced23-cc10-4fd0-b1d3-b032efb3fcfc",
   "metadata": {},
   "outputs": [],
   "source": [
    "import warnings\n",
    "warnings.filterwarnings(\"ignore\", category=DeprecationWarning)"
   ]
  },
  {
   "attachments": {},
   "cell_type": "markdown",
   "id": "9c94ff6a-2eb2-4a27-8ee4-2b9712b47b17",
   "metadata": {},
   "source": [
    "## Install the latest Vectice Python client library"
   ]
  },
  {
   "cell_type": "code",
   "execution_count": null,
   "id": "8fd7daee",
   "metadata": {},
   "outputs": [],
   "source": [
    "%pip install --q vectice -U\n",
    "%pip install category_encoders"
   ]
  },
  {
   "cell_type": "code",
   "execution_count": null,
   "id": "9925c2b4-1873-42ba-a487-6ba08c71df12",
   "metadata": {},
   "outputs": [],
   "source": [
    "import pandas as pd\n",
    "import numpy as np\n",
    "import matplotlib.pyplot as plt\n",
    "from sklearn.model_selection import train_test_split\n",
    "from sklearn.metrics import mean_absolute_error\n",
    "from sklearn.linear_model import Ridge\n",
    "from sklearn.pipeline import make_pipeline\n",
    "from category_encoders import OneHotEncoder"
   ]
  },
  {
   "attachments": {},
   "cell_type": "markdown",
   "id": "e4b94319-e1d0-4a0b-baf6-0eb59ed5e06e",
   "metadata": {},
   "source": [
    "## Get started by connecting to Vectice\n",
    "\n",
    "You can learn more about the `Connection` object in the [documentation](https://api-docs.vectice.com/reference/vectice/connection/)"
   ]
  },
  {
   "cell_type": "markdown",
   "id": "10aaa1e7-b0e9-499c-b952-aa80efe80850",
   "metadata": {},
   "source": [
    "<div class=\"alert alert-block alert-warning\">\n",
    "<b>Code Lineage:</b> If there is no repository found, the `.git folder`, then there will be no code lineage tracked. To track code, you can git clone a repository and run the notebook within it.\n",
    "</div>"
   ]
  },
  {
   "cell_type": "markdown",
   "id": "343cc466-7d54-4b22-964b-8faa837c3844",
   "metadata": {},
   "source": [
    "**First, we need to install and authenticate ourselves to the Vectice server. Before proceeding further:**\n",
    "\n",
    "- Visit the Vectice app (https://app.vectice.com/account/api-keys) to create and download an API token, name the file as \"My Token\"\n",
    "\n",
    "- Upload the file to Colab by clicking on the \"folder\" icon on the left-hand taskbar and selecting \"Upload to Session Storage\"\n",
    "\n",
    "- Then you execute"
   ]
  },
  {
   "cell_type": "code",
   "execution_count": null,
   "id": "f15b5e87-ceea-41cf-90f2-11fa6c7b4633",
   "metadata": {},
   "outputs": [],
   "source": [
    "import vectice as vect\n",
    "\n",
    "vec = vect.connect(config=\"My-token.json\") #Put your own token"
   ]
  },
  {
   "attachments": {},
   "cell_type": "markdown",
   "id": "14681ed0-a7c5-4175-b95c-87186fb28bc2",
   "metadata": {},
   "source": [
    "## Specify which project phase you want to document\n",
    "In Vectice UI, navigate to your personal workspace inside your default Tutorial project go to the Modeling phase and copy paste your Phase Id below."
   ]
  },
  {
   "cell_type": "code",
   "execution_count": null,
   "id": "552f544a-8b61-45dc-b2c5-d7bd1972e659",
   "metadata": {},
   "outputs": [],
   "source": [
    "phase = vec.phase(\"PHA-xxxx\") #Pass your own Modeling Phase ID"
   ]
  },
  {
   "attachments": {},
   "cell_type": "markdown",
   "id": "36522f13-0925-4f14-80a9-072890887f68",
   "metadata": {},
   "source": [
    "## Next we are going to create an iteration\n",
    "An iteration allows you to organize your work in repeatable sequences of steps. You can have multiple iteration within a phase"
   ]
  },
  {
   "cell_type": "code",
   "execution_count": null,
   "id": "16d37d91-8f63-4fbc-b6eb-8aaff588e84c",
   "metadata": {},
   "outputs": [],
   "source": [
    "model_iteration = phase.create_iteration()"
   ]
  },
  {
   "attachments": {},
   "cell_type": "markdown",
   "id": "fb4809d8-bd1c-486e-9cce-36afdf478570",
   "metadata": {},
   "source": [
    "## Retrieve your cleaned dataset version previously created\n",
    "You can retrieve a variety of Vectice Objects with the `browse('VECTICE-ID')` method. Namely, Phases, Iterations, Datasets, Models etc\n",
    "\n",
    "To retrieve the Dataset Version that will be used in this tutorial, go to the Vectice UI and find the Vectice ID for the `ProductSales Cleaned` dataset which was created during the Data Preparation phase, then please execute the cell below."
   ]
  },
  {
   "cell_type": "code",
   "execution_count": null,
   "id": "62198b33-db5a-4c6e-8370-938b02ffca4b",
   "metadata": {},
   "outputs": [],
   "source": [
    "cleaned_ds = vec.browse(\"DTS-xxxx\") # Get the ID of your Clean Dataset Version created in the Data Preparation phase"
   ]
  },
  {
   "attachments": {},
   "cell_type": "markdown",
   "id": "ee0aba94-baf2-49bb-a9bc-9b2c16852dc2",
   "metadata": {},
   "source": [
    "## Log a dataset version\n",
    "\n",
    "Use the following code block to log a local dataset:"
   ]
  },
  {
   "cell_type": "code",
   "execution_count": null,
   "id": "02c4e722-a008-4989-84bb-500cc5f0534c",
   "metadata": {},
   "outputs": [],
   "source": [
    "df = pd.read_csv(\"https://raw.githubusercontent.com/vectice/GettingStarted/23.2.4.1-Tutorial_update/23.2/tutorial/ProductSales%20Cleaned.csv\")\n",
    "df.head()"
   ]
  },
  {
   "cell_type": "code",
   "execution_count": null,
   "id": "99534610-4ed8-4672-8ab3-d8b2df33664b",
   "metadata": {},
   "outputs": [],
   "source": [
    "target=\"Sales\"\n",
    "X=df.drop([target],axis=1)\n",
    "y=df[target]\n",
    "print(X.shape)\n",
    "print(y.shape)"
   ]
  },
  {
   "cell_type": "code",
   "execution_count": null,
   "id": "3423b731-454e-4909-850a-d503ca9f2bf5",
   "metadata": {},
   "outputs": [],
   "source": [
    "X_train, X_test, y_train, y_test=train_test_split(X, y, test_size=0.2, random_state=42)"
   ]
  },
  {
   "cell_type": "code",
   "execution_count": null,
   "id": "0d074b66-37a5-4882-b600-b630a0288b71",
   "metadata": {},
   "outputs": [],
   "source": [
    "# Save the modeling train test split datasets as csv files\n",
    "train_df = X_train.copy()\n",
    "test_df = X_test.copy()\n",
    "\n",
    "train_df[\"Sales\"] = y_train\n",
    "test_df[\"Sales\"] = y_test\n",
    "\n",
    "train_df.to_csv(\"train dataset.csv\", index=False)\n",
    "test_df.to_csv(\"test dataset.csv\", index=False)"
   ]
  },
  {
   "attachments": {},
   "cell_type": "markdown",
   "id": "bb81eaf7-f880-4c77-923a-f5deb7832cf3",
   "metadata": {},
   "source": [
    "### Log dataset version metadata and statistics\n",
    "Log dataset metadata and statistics to Vectice by passing the file resource path and a `Pandas.DataFrame`. This will create a dataset version and the accompanying dataset statistics will be captured."
   ]
  },
  {
   "cell_type": "code",
   "execution_count": null,
   "id": "016c1281-3880-498e-8a8c-ab45113f2688",
   "metadata": {},
   "outputs": [],
   "source": [
    "train_ds = vect.FileResource(paths=\"train dataset.csv\", dataframes=train_df)\n",
    "test_ds = vect.FileResource(paths=\"test dataset.csv\", dataframes=test_df)"
   ]
  },
  {
   "cell_type": "code",
   "execution_count": null,
   "id": "0416ab44-16c4-4905-a582-306cb87b6566",
   "metadata": {},
   "outputs": [],
   "source": [
    "modeling_dataset = vect.Dataset.modeling(\n",
    "        name=\"ProductSales Modeling\",\n",
    "        training_resource=train_ds,\n",
    "        testing_resource=test_ds, \n",
    "        derived_from=cleaned_ds,\n",
    "    )"
   ]
  },
  {
   "cell_type": "code",
   "execution_count": null,
   "id": "f7d80585-cbfe-40a0-b360-ef7798d1cfed",
   "metadata": {},
   "outputs": [],
   "source": [
    "model_iteration.step_model_input_data = modeling_dataset"
   ]
  },
  {
   "cell_type": "code",
   "execution_count": null,
   "id": "a369acc5-d7ed-4388-9fa2-17f0170aaf15",
   "metadata": {},
   "outputs": [],
   "source": [
    "##  baseline mean absolute error\n",
    "y_mean=y_train.mean()\n",
    "y_mean_pred=[y_mean] * len(y_train)\n",
    "baseline_mae=mean_absolute_error(y_train,y_mean_pred)\n",
    "round(baseline_mae,2)"
   ]
  },
  {
   "attachments": {},
   "cell_type": "markdown",
   "id": "e46d5171-b9fb-4ca5-982b-8777744fe747",
   "metadata": {},
   "source": [
    "## Log a model version\n",
    "\n",
    "First we log a baseline model to Vectice using the `Vectice.Model()` object. This creates a model version in Vectice, the versioning starts at one and increments with each change to the model."
   ]
  },
  {
   "cell_type": "code",
   "execution_count": null,
   "id": "d3b70807-22b0-4c38-8ac9-d85408d20656",
   "metadata": {},
   "outputs": [],
   "source": [
    "# Baseline `model` to compare the Ridge Regression against\n",
    "vect_baseline_model = vect.Model(name = \"Baseline\", library=\"Own\", technique=\"Constant predictor\", metrics={\"mae_baseline\": round(baseline_mae,2)}, derived_from=modeling_dataset)"
   ]
  },
  {
   "cell_type": "code",
   "execution_count": null,
   "id": "f6dd561c-2d9c-42fb-8762-8dc99e1ea239",
   "metadata": {},
   "outputs": [],
   "source": [
    "model_iteration.step_build_model = vect_baseline_model"
   ]
  },
  {
   "attachments": {},
   "cell_type": "markdown",
   "id": "377d7923",
   "metadata": {},
   "source": [
    "### Train a Ridge regressor as competitor"
   ]
  },
  {
   "cell_type": "code",
   "execution_count": null,
   "id": "ff62ae55-87c8-41ea-a02b-0ec109ab7438",
   "metadata": {},
   "outputs": [],
   "source": [
    "model = make_pipeline(OneHotEncoder(use_cat_names=True),\n",
    "                     Ridge())\n",
    "model.fit(X_train, y_train)"
   ]
  },
  {
   "cell_type": "code",
   "execution_count": null,
   "id": "cfaa69c9-83d5-4fa8-82c6-37628ad258b6",
   "metadata": {},
   "outputs": [],
   "source": [
    "# Making Prediction with the training data\n",
    "y_train_pred = model.predict(X_train)"
   ]
  },
  {
   "cell_type": "code",
   "execution_count": null,
   "id": "e350276a-2fd4-4f7d-8765-026f64a51232",
   "metadata": {},
   "outputs": [],
   "source": [
    "#Evaluating the model \n",
    "mae_train=mean_absolute_error(y_train, y_train_pred)\n",
    "print(round(mae_train,2))"
   ]
  },
  {
   "cell_type": "code",
   "execution_count": null,
   "id": "8e16f056-b366-4f5f-b1a3-a031b8316074",
   "metadata": {},
   "outputs": [],
   "source": [
    "y_test_pred = model.predict(X_test)"
   ]
  },
  {
   "cell_type": "code",
   "execution_count": null,
   "id": "c6cee489-948a-4538-9d84-b7547a08e494",
   "metadata": {},
   "outputs": [],
   "source": [
    "mae_test = mean_absolute_error(y_test, y_test_pred)\n",
    "print(round(mae_test,2))"
   ]
  },
  {
   "cell_type": "code",
   "execution_count": null,
   "id": "de507cdf-0576-4ef0-ba5e-10fd1f69c176",
   "metadata": {},
   "outputs": [],
   "source": [
    "features = model.named_steps[\"onehotencoder\"].get_feature_names()\n",
    "importance = model.named_steps[\"ridge\"].coef_\n",
    "\n",
    "feat_imf = pd.Series(importance, index=features).sort_values()\n",
    "\n",
    "feat_imf.tail(10).plot(kind=\"barh\")\n",
    "plt.ylabel(\"Features\")\n",
    "plt.xlabel(\"Importance\")\n",
    "plt.title(\"Feature Importance\")\n",
    "plt.tight_layout()\n",
    "plt.savefig(\"Feature Importance.png\")"
   ]
  },
  {
   "attachments": {},
   "cell_type": "markdown",
   "id": "f53c5948-d301-4bfe-82a4-83758c155f99",
   "metadata": {},
   "source": [
    "## Log a trained model version with an attachment\n",
    "\n",
    "Then we log a trained model to Vectice using the `Vectice.Model()` object. This will create a model version like the previous baseline model version creation."
   ]
  },
  {
   "cell_type": "code",
   "execution_count": null,
   "id": "ce8afa6c-ac94-4846-9032-80457024d40f",
   "metadata": {},
   "outputs": [],
   "source": [
    "vect_model = vect.Model(library=\"scikit-learn\", technique=\"Ridge Regression\", metrics={\"mae_train\": round(mae_train,2), \"mae_test\": round(mae_test,2)}, \n",
    "                        properties=model.named_steps, predictor=model, derived_from=modeling_dataset, attachments=\"Feature Importance.png\")"
   ]
  },
  {
   "attachments": {},
   "cell_type": "markdown",
   "id": "3ea7f45c-acc9-4180-921b-955284a2d59e",
   "metadata": {},
   "source": [
    "## Add the second model version to the the step\n",
    "\n",
    "You can add multiple models to a single step by using the `+=` operator."
   ]
  },
  {
   "cell_type": "code",
   "execution_count": null,
   "id": "d4e6bc65-158a-48ea-9dfd-8f2643a3443c",
   "metadata": {},
   "outputs": [],
   "source": [
    "model_iteration.step_build_model += vect_model"
   ]
  },
  {
   "attachments": {},
   "cell_type": "markdown",
   "id": "3aa5e8d5-154d-4420-ae95-bf7a8bf7e9bb",
   "metadata": {},
   "source": [
    "## Add a comment \n",
    "\n",
    "Passing a `string` to a step will add a comment."
   ]
  },
  {
   "cell_type": "code",
   "execution_count": null,
   "id": "3b2560ad-6cab-4978-98fb-06a8a2cbf0a3",
   "metadata": {},
   "outputs": [],
   "source": [
    "# Select the model to be staged\n",
    "model_iteration.step_model_validation = f\"Model passed acceptance criteria\\nMAE Train: {round(mae_train,2)}\\nMAE Test: {round(mae_test,2)}\""
   ]
  },
  {
   "cell_type": "code",
   "execution_count": null,
   "id": "ab7554b8",
   "metadata": {},
   "outputs": [],
   "source": [
    "model_iteration.complete()"
   ]
  },
  {
   "attachments": {},
   "cell_type": "markdown",
   "id": "481b0162-f5de-4137-8271-9524090202f7",
   "metadata": {},
   "source": [
    "✴ You can view your registered assets and comments in the UI by clicking the links in the output messages.."
   ]
  }
 ],
 "metadata": {
  "kernelspec": {
   "display_name": "Python 3",
   "language": "python",
   "name": "python3"
  },
  "language_info": {
   "codemirror_mode": {
    "name": "ipython",
    "version": 3
   },
   "file_extension": ".py",
   "mimetype": "text/x-python",
   "name": "python",
   "nbconvert_exporter": "python",
   "pygments_lexer": "ipython3",
   "version": "3.9.5"
  }
 },
 "nbformat": 4,
 "nbformat_minor": 5
}
