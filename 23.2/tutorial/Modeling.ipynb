{
 "cells": [
  {
   "attachments": {},
   "cell_type": "markdown",
   "id": "267a5abb-312f-436f-99ee-43b9bba7a743",
   "metadata": {},
   "source": [
    "# References\n",
    "\n",
    "- Vectice Documentation: https://docs.vectice.com/\n",
    "- Vectice API Documentation: https://api-docs.vectice.com/"
   ]
  },
  {
   "cell_type": "code",
   "execution_count": 71,
   "id": "8b0ced23-cc10-4fd0-b1d3-b032efb3fcfc",
   "metadata": {},
   "outputs": [],
   "source": [
    "import warnings\n",
    "warnings.filterwarnings(\"ignore\", category=DeprecationWarning)"
   ]
  },
  {
   "attachments": {},
   "cell_type": "markdown",
   "id": "9c94ff6a-2eb2-4a27-8ee4-2b9712b47b17",
   "metadata": {},
   "source": [
    "## Install the latest Vectice Python client library"
   ]
  },
  {
   "cell_type": "code",
   "execution_count": 4,
   "id": "8fd7daee",
   "metadata": {},
   "outputs": [
    {
     "name": "stdout",
     "output_type": "stream",
     "text": [
      "\n",
      "\u001b[1m[\u001b[0m\u001b[34;49mnotice\u001b[0m\u001b[1;39;49m]\u001b[0m\u001b[39;49m A new release of pip is available: \u001b[0m\u001b[31;49m23.1\u001b[0m\u001b[39;49m -> \u001b[0m\u001b[32;49m23.1.2\u001b[0m\n",
      "\u001b[1m[\u001b[0m\u001b[34;49mnotice\u001b[0m\u001b[1;39;49m]\u001b[0m\u001b[39;49m To update, run: \u001b[0m\u001b[32;49mpip install --upgrade pip\u001b[0m\n",
      "Note: you may need to restart the kernel to use updated packages.\n",
      "Requirement already satisfied: category_encoders in /Users/bryandaversa/Vectice/GettingStarted/.venv/lib/python3.9/site-packages (2.6.1)\n",
      "Requirement already satisfied: numpy>=1.14.0 in /Users/bryandaversa/Vectice/GettingStarted/.venv/lib/python3.9/site-packages (from category_encoders) (1.24.3)\n",
      "Requirement already satisfied: scikit-learn>=0.20.0 in /Users/bryandaversa/Vectice/GettingStarted/.venv/lib/python3.9/site-packages (from category_encoders) (1.2.2)\n",
      "Requirement already satisfied: scipy>=1.0.0 in /Users/bryandaversa/Vectice/GettingStarted/.venv/lib/python3.9/site-packages (from category_encoders) (1.10.1)\n",
      "Requirement already satisfied: statsmodels>=0.9.0 in /Users/bryandaversa/Vectice/GettingStarted/.venv/lib/python3.9/site-packages (from category_encoders) (0.14.0)\n",
      "Requirement already satisfied: pandas>=1.0.5 in /Users/bryandaversa/Vectice/GettingStarted/.venv/lib/python3.9/site-packages (from category_encoders) (2.0.1)\n",
      "Requirement already satisfied: patsy>=0.5.1 in /Users/bryandaversa/Vectice/GettingStarted/.venv/lib/python3.9/site-packages (from category_encoders) (0.5.3)\n",
      "Requirement already satisfied: python-dateutil>=2.8.2 in /Users/bryandaversa/Vectice/GettingStarted/.venv/lib/python3.9/site-packages (from pandas>=1.0.5->category_encoders) (2.8.2)\n",
      "Requirement already satisfied: pytz>=2020.1 in /Users/bryandaversa/Vectice/GettingStarted/.venv/lib/python3.9/site-packages (from pandas>=1.0.5->category_encoders) (2023.3)\n",
      "Requirement already satisfied: tzdata>=2022.1 in /Users/bryandaversa/Vectice/GettingStarted/.venv/lib/python3.9/site-packages (from pandas>=1.0.5->category_encoders) (2023.3)\n",
      "Requirement already satisfied: six in /Users/bryandaversa/Vectice/GettingStarted/.venv/lib/python3.9/site-packages (from patsy>=0.5.1->category_encoders) (1.16.0)\n",
      "Requirement already satisfied: joblib>=1.1.1 in /Users/bryandaversa/Vectice/GettingStarted/.venv/lib/python3.9/site-packages (from scikit-learn>=0.20.0->category_encoders) (1.2.0)\n",
      "Requirement already satisfied: threadpoolctl>=2.0.0 in /Users/bryandaversa/Vectice/GettingStarted/.venv/lib/python3.9/site-packages (from scikit-learn>=0.20.0->category_encoders) (3.1.0)\n",
      "Requirement already satisfied: packaging>=21.3 in /Users/bryandaversa/Vectice/GettingStarted/.venv/lib/python3.9/site-packages (from statsmodels>=0.9.0->category_encoders) (23.1)\n",
      "\n",
      "\u001b[1m[\u001b[0m\u001b[34;49mnotice\u001b[0m\u001b[1;39;49m]\u001b[0m\u001b[39;49m A new release of pip is available: \u001b[0m\u001b[31;49m23.1\u001b[0m\u001b[39;49m -> \u001b[0m\u001b[32;49m23.1.2\u001b[0m\n",
      "\u001b[1m[\u001b[0m\u001b[34;49mnotice\u001b[0m\u001b[1;39;49m]\u001b[0m\u001b[39;49m To update, run: \u001b[0m\u001b[32;49mpip install --upgrade pip\u001b[0m\n",
      "Note: you may need to restart the kernel to use updated packages.\n"
     ]
    }
   ],
   "source": [
    "%pip install --q vectice -U\n",
    "%pip install category_encoders"
   ]
  },
  {
   "cell_type": "code",
   "execution_count": 2,
   "id": "9925c2b4-1873-42ba-a487-6ba08c71df12",
   "metadata": {},
   "outputs": [],
   "source": [
    "import pandas as pd\n",
    "import numpy as np\n",
    "import matplotlib.pyplot as plt\n",
    "from sklearn.model_selection import train_test_split\n",
    "from sklearn.metrics import mean_absolute_error\n",
    "from sklearn.linear_model import Ridge\n",
    "from sklearn.pipeline import make_pipeline\n",
    "from category_encoders import OneHotEncoder"
   ]
  },
  {
   "attachments": {},
   "cell_type": "markdown",
   "id": "e4b94319-e1d0-4a0b-baf6-0eb59ed5e06e",
   "metadata": {},
   "source": [
    "## Get started by connecting to Vectice\n",
    "\n",
    "You can learn more about the `Connection` object in the [documentation](https://api-docs.vectice.com/reference/vectice/connection/)"
   ]
  },
  {
   "cell_type": "code",
   "execution_count": 76,
   "id": "f15b5e87-ceea-41cf-90f2-11fa6c7b4633",
   "metadata": {},
   "outputs": [
    {
     "name": "stderr",
     "output_type": "stream",
     "text": [
      "VECTICE_API_ENDPOINT is deprecated and will be removed in 23.3.1.0, please use VECTICE_HOST instead.\n",
      "Welcome, bdaversa. You`re now successfully connected to Vectice.\n",
      "\n",
      "To access your personal workspace, use \u001b[1mconnection\u001b[0m.my_workspace\n",
      "To access a specific workspace, use \u001b[1mconnection\u001b[0m.workspace(Workspace ID)\n",
      "To get a list of workspaces you can access and their IDs, use \u001b[1mconnection\u001b[0m.list_workspaces()\n",
      "\n",
      "If you are using a notebook you can call the help by using a Vectice returned object with the builtin notebook \"?\":\n",
      ">> connection?\n",
      "\n",
      "If you are using an IDE you can call the help() method on any object returned by Vectice:\n",
      ">> help(connection)\n",
      "\n",
      "For quick access to your default workspace in the Vectice web app, visit:\n",
      "https://qa.vectice.com/browse/workspace/WSP-309\n"
     ]
    }
   ],
   "source": [
    "import vectice as vect\n",
    "\n",
    "vec = vect.connect(config=\"My-token.json\") #Put your own token"
   ]
  },
  {
   "attachments": {},
   "cell_type": "markdown",
   "id": "14681ed0-a7c5-4175-b95c-87186fb28bc2",
   "metadata": {},
   "source": [
    "## Specify which project phase you want to document\n",
    "In Vectice UI, navigate to your personal workspace inside your default Tutorial project go to the Modeling phase and copy paste your Phase Id below."
   ]
  },
  {
   "cell_type": "code",
   "execution_count": 77,
   "id": "552f544a-8b61-45dc-b2c5-d7bd1972e659",
   "metadata": {},
   "outputs": [
    {
     "name": "stderr",
     "output_type": "stream",
     "text": [
      "Phase 'Modeling' successfully retrieved.\"\n",
      "\n",
      "For quick access to the Phase in the Vectice web app, visit:\n",
      "https://qa.vectice.com/browse/phase/PHA-5856\n"
     ]
    }
   ],
   "source": [
    "phase = vec.phase(\"PHA-xxxx\") #Pass your own Modeling Phase ID"
   ]
  },
  {
   "attachments": {},
   "cell_type": "markdown",
   "id": "36522f13-0925-4f14-80a9-072890887f68",
   "metadata": {},
   "source": [
    "## Next we are going to create an iteration\n",
    "An iteration allows you to organize your work in repeatable sequences of steps. You can have multiple iteration within a phase"
   ]
  },
  {
   "cell_type": "code",
   "execution_count": 78,
   "id": "16d37d91-8f63-4fbc-b6eb-8aaff588e84c",
   "metadata": {},
   "outputs": [
    {
     "name": "stderr",
     "output_type": "stream",
     "text": [
      "New Iteration number '1' created.\n",
      "\n",
      "For quick access to the Iteration in the Vectice web app, visit:\n",
      "https://qa.vectice.com/browse/iteration/ITR-2257\n"
     ]
    }
   ],
   "source": [
    "model_iteration = phase.create_iteration()"
   ]
  },
  {
   "attachments": {},
   "cell_type": "markdown",
   "id": "fb4809d8-bd1c-486e-9cce-36afdf478570",
   "metadata": {},
   "source": [
    "## Retrieve your cleaned Dataset previously created\n",
    "You can retrieve a variety of Vectice Objects with the `browse('VECTICE-ID')` method. Namely, Phases, Iterations, Datasets, Models etc"
   ]
  },
  {
   "cell_type": "code",
   "execution_count": 80,
   "id": "62198b33-db5a-4c6e-8370-938b02ffca4b",
   "metadata": {},
   "outputs": [
    {
     "name": "stderr",
     "output_type": "stream",
     "text": [
      "Dataset 'ProductSales Cleaned' successfully retrieved.\"\n",
      "\n",
      "For quick access to the Dataset in the Vectice web app, visit:\n",
      "https://qa.vectice.com/browse/dataset/DTS-3124\n"
     ]
    }
   ],
   "source": [
    "cleaned_ds = vec.browse(\"DTS-xxxx\") #Get the ID of your Clean Dataset created in the Data Preparation phase"
   ]
  },
  {
   "attachments": {},
   "cell_type": "markdown",
   "id": "ee0aba94-baf2-49bb-a9bc-9b2c16852dc2",
   "metadata": {},
   "source": [
    "## Push a dataset\n",
    "\n",
    "Use the following code block to create a local datset:"
   ]
  },
  {
   "cell_type": "code",
   "execution_count": 4,
   "id": "02c4e722-a008-4989-84bb-500cc5f0534c",
   "metadata": {},
   "outputs": [
    {
     "data": {
      "text/html": [
       "<div>\n",
       "<style scoped>\n",
       "    .dataframe tbody tr th:only-of-type {\n",
       "        vertical-align: middle;\n",
       "    }\n",
       "\n",
       "    .dataframe tbody tr th {\n",
       "        vertical-align: top;\n",
       "    }\n",
       "\n",
       "    .dataframe thead th {\n",
       "        text-align: right;\n",
       "    }\n",
       "</style>\n",
       "<table border=\"1\" class=\"dataframe\">\n",
       "  <thead>\n",
       "    <tr style=\"text-align: right;\">\n",
       "      <th></th>\n",
       "      <th>Ship Mode</th>\n",
       "      <th>Segment</th>\n",
       "      <th>Country</th>\n",
       "      <th>City</th>\n",
       "      <th>State</th>\n",
       "      <th>Postal Code</th>\n",
       "      <th>Region</th>\n",
       "      <th>Category</th>\n",
       "      <th>Sub-Category</th>\n",
       "      <th>Sales</th>\n",
       "      <th>Quantity</th>\n",
       "      <th>Discount</th>\n",
       "      <th>Profit</th>\n",
       "    </tr>\n",
       "  </thead>\n",
       "  <tbody>\n",
       "    <tr>\n",
       "      <th>0</th>\n",
       "      <td>Second Class</td>\n",
       "      <td>Consumer</td>\n",
       "      <td>United States</td>\n",
       "      <td>others</td>\n",
       "      <td>others</td>\n",
       "      <td>42420</td>\n",
       "      <td>South</td>\n",
       "      <td>Furniture</td>\n",
       "      <td>Bookcases</td>\n",
       "      <td>261.960</td>\n",
       "      <td>2</td>\n",
       "      <td>0.0</td>\n",
       "      <td>41.9136</td>\n",
       "    </tr>\n",
       "    <tr>\n",
       "      <th>1</th>\n",
       "      <td>Second Class</td>\n",
       "      <td>Corporate</td>\n",
       "      <td>United States</td>\n",
       "      <td>Los Angeles</td>\n",
       "      <td>California</td>\n",
       "      <td>90036</td>\n",
       "      <td>West</td>\n",
       "      <td>Office Supplies</td>\n",
       "      <td>Labels</td>\n",
       "      <td>14.620</td>\n",
       "      <td>2</td>\n",
       "      <td>0.0</td>\n",
       "      <td>6.8714</td>\n",
       "    </tr>\n",
       "    <tr>\n",
       "      <th>2</th>\n",
       "      <td>Standard Class</td>\n",
       "      <td>Consumer</td>\n",
       "      <td>United States</td>\n",
       "      <td>others</td>\n",
       "      <td>Florida</td>\n",
       "      <td>33311</td>\n",
       "      <td>South</td>\n",
       "      <td>Office Supplies</td>\n",
       "      <td>Storage</td>\n",
       "      <td>22.368</td>\n",
       "      <td>2</td>\n",
       "      <td>0.2</td>\n",
       "      <td>2.5164</td>\n",
       "    </tr>\n",
       "    <tr>\n",
       "      <th>3</th>\n",
       "      <td>Standard Class</td>\n",
       "      <td>Consumer</td>\n",
       "      <td>United States</td>\n",
       "      <td>Los Angeles</td>\n",
       "      <td>California</td>\n",
       "      <td>90032</td>\n",
       "      <td>West</td>\n",
       "      <td>Furniture</td>\n",
       "      <td>Furnishings</td>\n",
       "      <td>48.860</td>\n",
       "      <td>7</td>\n",
       "      <td>0.0</td>\n",
       "      <td>14.1694</td>\n",
       "    </tr>\n",
       "    <tr>\n",
       "      <th>4</th>\n",
       "      <td>Standard Class</td>\n",
       "      <td>Consumer</td>\n",
       "      <td>United States</td>\n",
       "      <td>Los Angeles</td>\n",
       "      <td>California</td>\n",
       "      <td>90032</td>\n",
       "      <td>West</td>\n",
       "      <td>Office Supplies</td>\n",
       "      <td>Art</td>\n",
       "      <td>7.280</td>\n",
       "      <td>4</td>\n",
       "      <td>0.0</td>\n",
       "      <td>1.9656</td>\n",
       "    </tr>\n",
       "  </tbody>\n",
       "</table>\n",
       "</div>"
      ],
      "text/plain": [
       "        Ship Mode    Segment        Country         City       State  \\\n",
       "0    Second Class   Consumer  United States       others      others   \n",
       "1    Second Class  Corporate  United States  Los Angeles  California   \n",
       "2  Standard Class   Consumer  United States       others     Florida   \n",
       "3  Standard Class   Consumer  United States  Los Angeles  California   \n",
       "4  Standard Class   Consumer  United States  Los Angeles  California   \n",
       "\n",
       "  Postal Code Region         Category Sub-Category    Sales  Quantity  \\\n",
       "0       42420  South        Furniture    Bookcases  261.960         2   \n",
       "1       90036   West  Office Supplies       Labels   14.620         2   \n",
       "2       33311  South  Office Supplies      Storage   22.368         2   \n",
       "3       90032   West        Furniture  Furnishings   48.860         7   \n",
       "4       90032   West  Office Supplies          Art    7.280         4   \n",
       "\n",
       "   Discount   Profit  \n",
       "0       0.0  41.9136  \n",
       "1       0.0   6.8714  \n",
       "2       0.2   2.5164  \n",
       "3       0.0  14.1694  \n",
       "4       0.0   1.9656  "
      ]
     },
     "execution_count": 4,
     "metadata": {},
     "output_type": "execute_result"
    }
   ],
   "source": [
    "df = pd.read_csv(\"https://raw.githubusercontent.com/vectice/GettingStarted/23.2.4.1-Tutorial_update/23.2/tutorial/ProductSales%20Cleaned.csv\", converters = {'Postal Code': str})\n",
    "df.head()"
   ]
  },
  {
   "cell_type": "code",
   "execution_count": 5,
   "id": "99534610-4ed8-4672-8ab3-d8b2df33664b",
   "metadata": {},
   "outputs": [
    {
     "name": "stdout",
     "output_type": "stream",
     "text": [
      "(7994, 12)\n",
      "(7994,)\n"
     ]
    }
   ],
   "source": [
    "target=\"Sales\"\n",
    "X=df.drop([target],axis=1)\n",
    "y=df[target]\n",
    "print(X.shape)\n",
    "print(y.shape)"
   ]
  },
  {
   "cell_type": "code",
   "execution_count": 6,
   "id": "3423b731-454e-4909-850a-d503ca9f2bf5",
   "metadata": {},
   "outputs": [],
   "source": [
    "X_train, X_test, y_train, y_test=train_test_split(X, y, test_size=0.2, random_state=42)"
   ]
  },
  {
   "cell_type": "code",
   "execution_count": 7,
   "id": "0d074b66-37a5-4882-b600-b630a0288b71",
   "metadata": {},
   "outputs": [],
   "source": [
    "# Save the modeling train test split datasets as csv files\n",
    "train_df = X_train.copy()\n",
    "test_df = X_test.copy()\n",
    "\n",
    "train_df[\"Sales\"] = y_train\n",
    "test_df[\"Sales\"] = y_test\n",
    "\n",
    "train_df.to_csv(\"train dataset.csv\", index=False)\n",
    "test_df.to_csv(\"test dataset.csv\", index=False)"
   ]
  },
  {
   "attachments": {},
   "cell_type": "markdown",
   "id": "bb81eaf7-f880-4c77-923a-f5deb7832cf3",
   "metadata": {},
   "source": [
    "### Register dataset metadata and statistics\n",
    "Register dataset metadata and statistics to Vectice by passing the file resource path and a `Pandas.DataFrame`"
   ]
  },
  {
   "cell_type": "code",
   "execution_count": 85,
   "id": "016c1281-3880-498e-8a8c-ab45113f2688",
   "metadata": {},
   "outputs": [
    {
     "name": "stderr",
     "output_type": "stream",
     "text": [
      "File: train dataset.csv wrapped successfully.\n",
      "File: test dataset.csv wrapped successfully.\n"
     ]
    }
   ],
   "source": [
    "train_ds = vect.FileResource(paths=\"train dataset.csv\", dataframes=train_df)\n",
    "test_ds = vect.FileResource(paths=\"test dataset.csv\", dataframes=test_df)"
   ]
  },
  {
   "cell_type": "code",
   "execution_count": 86,
   "id": "0416ab44-16c4-4905-a582-306cb87b6566",
   "metadata": {},
   "outputs": [],
   "source": [
    "modeling_dataset = vect.Dataset.modeling(\n",
    "        name=\"ProductSales Modeling\",\n",
    "        training_resource=train_ds,\n",
    "        testing_resource=test_ds, \n",
    "        derived_from=cleaned_ds,\n",
    "    )"
   ]
  },
  {
   "cell_type": "code",
   "execution_count": 87,
   "id": "f7d80585-cbfe-40a0-b360-ef7798d1cfed",
   "metadata": {},
   "outputs": [
    {
     "name": "stderr",
     "output_type": "stream",
     "text": [
      "New Dataset: 'ProductSales Modeling' Version: 'Version 1' added to Step: Model Input Data\n",
      "Attachments: None\n",
      "Link to Step: https://qa.vectice.com/browse/iteration/ITR-2257\n",
      "\n"
     ]
    }
   ],
   "source": [
    "model_iteration.step_model_input_data = modeling_dataset"
   ]
  },
  {
   "cell_type": "code",
   "execution_count": 8,
   "id": "a369acc5-d7ed-4388-9fa2-17f0170aaf15",
   "metadata": {},
   "outputs": [
    {
     "data": {
      "text/plain": [
       "98.88"
      ]
     },
     "execution_count": 8,
     "metadata": {},
     "output_type": "execute_result"
    }
   ],
   "source": [
    "##  baseline mean absolute error\n",
    "y_mean=y_train.mean()\n",
    "y_mean_pred=[y_mean] * len(y_train)\n",
    "baseline_mae=mean_absolute_error(y_train,y_mean_pred)\n",
    "round(baseline_mae,2)"
   ]
  },
  {
   "attachments": {},
   "cell_type": "markdown",
   "id": "e46d5171-b9fb-4ca5-982b-8777744fe747",
   "metadata": {},
   "source": [
    "## Push a model\n",
    "\n",
    "First we push a baseline model to Vectice using the `Vectice.Model()` object."
   ]
  },
  {
   "cell_type": "code",
   "execution_count": 89,
   "id": "d3b70807-22b0-4c38-8ac9-d85408d20656",
   "metadata": {},
   "outputs": [],
   "source": [
    "# Baseline `model` to compare the Ridge Regression against\n",
    "vect_baseline_model = vect.Model(name = \"Baseline\", library=\"Own\", technique=\"Constant predictor\", metrics={\"mae_baseline\": round(baseline_mae,2)}, derived_from=modeling_dataset)"
   ]
  },
  {
   "cell_type": "code",
   "execution_count": 90,
   "id": "f6dd561c-2d9c-42fb-8762-8dc99e1ea239",
   "metadata": {},
   "outputs": [
    {
     "name": "stderr",
     "output_type": "stream",
     "text": [
      "New Model: 'Baseline' Version: 'Version 1' added to Step: Build Model\n",
      "Attachments: None\n",
      "Link to Step: https://qa.vectice.com/browse/iteration/ITR-2257\n",
      "\n"
     ]
    }
   ],
   "source": [
    "model_iteration.step_build_model = vect_baseline_model"
   ]
  },
  {
   "attachments": {},
   "cell_type": "markdown",
   "id": "377d7923",
   "metadata": {},
   "source": [
    "### Train a Ridge regressor as competitor"
   ]
  },
  {
   "cell_type": "code",
   "execution_count": 9,
   "id": "ff62ae55-87c8-41ea-a02b-0ec109ab7438",
   "metadata": {},
   "outputs": [
    {
     "data": {
      "text/html": [
       "<style>#sk-container-id-1 {color: black;background-color: white;}#sk-container-id-1 pre{padding: 0;}#sk-container-id-1 div.sk-toggleable {background-color: white;}#sk-container-id-1 label.sk-toggleable__label {cursor: pointer;display: block;width: 100%;margin-bottom: 0;padding: 0.3em;box-sizing: border-box;text-align: center;}#sk-container-id-1 label.sk-toggleable__label-arrow:before {content: \"▸\";float: left;margin-right: 0.25em;color: #696969;}#sk-container-id-1 label.sk-toggleable__label-arrow:hover:before {color: black;}#sk-container-id-1 div.sk-estimator:hover label.sk-toggleable__label-arrow:before {color: black;}#sk-container-id-1 div.sk-toggleable__content {max-height: 0;max-width: 0;overflow: hidden;text-align: left;background-color: #f0f8ff;}#sk-container-id-1 div.sk-toggleable__content pre {margin: 0.2em;color: black;border-radius: 0.25em;background-color: #f0f8ff;}#sk-container-id-1 input.sk-toggleable__control:checked~div.sk-toggleable__content {max-height: 200px;max-width: 100%;overflow: auto;}#sk-container-id-1 input.sk-toggleable__control:checked~label.sk-toggleable__label-arrow:before {content: \"▾\";}#sk-container-id-1 div.sk-estimator input.sk-toggleable__control:checked~label.sk-toggleable__label {background-color: #d4ebff;}#sk-container-id-1 div.sk-label input.sk-toggleable__control:checked~label.sk-toggleable__label {background-color: #d4ebff;}#sk-container-id-1 input.sk-hidden--visually {border: 0;clip: rect(1px 1px 1px 1px);clip: rect(1px, 1px, 1px, 1px);height: 1px;margin: -1px;overflow: hidden;padding: 0;position: absolute;width: 1px;}#sk-container-id-1 div.sk-estimator {font-family: monospace;background-color: #f0f8ff;border: 1px dotted black;border-radius: 0.25em;box-sizing: border-box;margin-bottom: 0.5em;}#sk-container-id-1 div.sk-estimator:hover {background-color: #d4ebff;}#sk-container-id-1 div.sk-parallel-item::after {content: \"\";width: 100%;border-bottom: 1px solid gray;flex-grow: 1;}#sk-container-id-1 div.sk-label:hover label.sk-toggleable__label {background-color: #d4ebff;}#sk-container-id-1 div.sk-serial::before {content: \"\";position: absolute;border-left: 1px solid gray;box-sizing: border-box;top: 0;bottom: 0;left: 50%;z-index: 0;}#sk-container-id-1 div.sk-serial {display: flex;flex-direction: column;align-items: center;background-color: white;padding-right: 0.2em;padding-left: 0.2em;position: relative;}#sk-container-id-1 div.sk-item {position: relative;z-index: 1;}#sk-container-id-1 div.sk-parallel {display: flex;align-items: stretch;justify-content: center;background-color: white;position: relative;}#sk-container-id-1 div.sk-item::before, #sk-container-id-1 div.sk-parallel-item::before {content: \"\";position: absolute;border-left: 1px solid gray;box-sizing: border-box;top: 0;bottom: 0;left: 50%;z-index: -1;}#sk-container-id-1 div.sk-parallel-item {display: flex;flex-direction: column;z-index: 1;position: relative;background-color: white;}#sk-container-id-1 div.sk-parallel-item:first-child::after {align-self: flex-end;width: 50%;}#sk-container-id-1 div.sk-parallel-item:last-child::after {align-self: flex-start;width: 50%;}#sk-container-id-1 div.sk-parallel-item:only-child::after {width: 0;}#sk-container-id-1 div.sk-dashed-wrapped {border: 1px dashed gray;margin: 0 0.4em 0.5em 0.4em;box-sizing: border-box;padding-bottom: 0.4em;background-color: white;}#sk-container-id-1 div.sk-label label {font-family: monospace;font-weight: bold;display: inline-block;line-height: 1.2em;}#sk-container-id-1 div.sk-label-container {text-align: center;}#sk-container-id-1 div.sk-container {/* jupyter's `normalize.less` sets `[hidden] { display: none; }` but bootstrap.min.css set `[hidden] { display: none !important; }` so we also need the `!important` here to be able to override the default hidden behavior on the sphinx rendered scikit-learn.org. See: https://github.com/scikit-learn/scikit-learn/issues/21755 */display: inline-block !important;position: relative;}#sk-container-id-1 div.sk-text-repr-fallback {display: none;}</style><div id=\"sk-container-id-1\" class=\"sk-top-container\"><div class=\"sk-text-repr-fallback\"><pre>Pipeline(steps=[(&#x27;onehotencoder&#x27;,\n",
       "                 OneHotEncoder(cols=[&#x27;Ship Mode&#x27;, &#x27;Segment&#x27;, &#x27;Country&#x27;, &#x27;City&#x27;,\n",
       "                                     &#x27;State&#x27;, &#x27;Postal Code&#x27;, &#x27;Region&#x27;,\n",
       "                                     &#x27;Category&#x27;, &#x27;Sub-Category&#x27;],\n",
       "                               use_cat_names=True)),\n",
       "                (&#x27;ridge&#x27;, Ridge())])</pre><b>In a Jupyter environment, please rerun this cell to show the HTML representation or trust the notebook. <br />On GitHub, the HTML representation is unable to render, please try loading this page with nbviewer.org.</b></div><div class=\"sk-container\" hidden><div class=\"sk-item sk-dashed-wrapped\"><div class=\"sk-label-container\"><div class=\"sk-label sk-toggleable\"><input class=\"sk-toggleable__control sk-hidden--visually\" id=\"sk-estimator-id-1\" type=\"checkbox\" ><label for=\"sk-estimator-id-1\" class=\"sk-toggleable__label sk-toggleable__label-arrow\">Pipeline</label><div class=\"sk-toggleable__content\"><pre>Pipeline(steps=[(&#x27;onehotencoder&#x27;,\n",
       "                 OneHotEncoder(cols=[&#x27;Ship Mode&#x27;, &#x27;Segment&#x27;, &#x27;Country&#x27;, &#x27;City&#x27;,\n",
       "                                     &#x27;State&#x27;, &#x27;Postal Code&#x27;, &#x27;Region&#x27;,\n",
       "                                     &#x27;Category&#x27;, &#x27;Sub-Category&#x27;],\n",
       "                               use_cat_names=True)),\n",
       "                (&#x27;ridge&#x27;, Ridge())])</pre></div></div></div><div class=\"sk-serial\"><div class=\"sk-item\"><div class=\"sk-estimator sk-toggleable\"><input class=\"sk-toggleable__control sk-hidden--visually\" id=\"sk-estimator-id-2\" type=\"checkbox\" ><label for=\"sk-estimator-id-2\" class=\"sk-toggleable__label sk-toggleable__label-arrow\">OneHotEncoder</label><div class=\"sk-toggleable__content\"><pre>OneHotEncoder(cols=[&#x27;Ship Mode&#x27;, &#x27;Segment&#x27;, &#x27;Country&#x27;, &#x27;City&#x27;, &#x27;State&#x27;,\n",
       "                    &#x27;Postal Code&#x27;, &#x27;Region&#x27;, &#x27;Category&#x27;, &#x27;Sub-Category&#x27;],\n",
       "              use_cat_names=True)</pre></div></div></div><div class=\"sk-item\"><div class=\"sk-estimator sk-toggleable\"><input class=\"sk-toggleable__control sk-hidden--visually\" id=\"sk-estimator-id-3\" type=\"checkbox\" ><label for=\"sk-estimator-id-3\" class=\"sk-toggleable__label sk-toggleable__label-arrow\">Ridge</label><div class=\"sk-toggleable__content\"><pre>Ridge()</pre></div></div></div></div></div></div></div>"
      ],
      "text/plain": [
       "Pipeline(steps=[('onehotencoder',\n",
       "                 OneHotEncoder(cols=['Ship Mode', 'Segment', 'Country', 'City',\n",
       "                                     'State', 'Postal Code', 'Region',\n",
       "                                     'Category', 'Sub-Category'],\n",
       "                               use_cat_names=True)),\n",
       "                ('ridge', Ridge())])"
      ]
     },
     "execution_count": 9,
     "metadata": {},
     "output_type": "execute_result"
    }
   ],
   "source": [
    "model = make_pipeline(OneHotEncoder(use_cat_names=True),\n",
    "                     Ridge())\n",
    "model.fit(X_train, y_train)"
   ]
  },
  {
   "cell_type": "code",
   "execution_count": 10,
   "id": "cfaa69c9-83d5-4fa8-82c6-37628ad258b6",
   "metadata": {},
   "outputs": [],
   "source": [
    "# Making Prediction with the training data\n",
    "y_train_pred = model.predict(X_train)"
   ]
  },
  {
   "cell_type": "code",
   "execution_count": 11,
   "id": "e350276a-2fd4-4f7d-8765-026f64a51232",
   "metadata": {},
   "outputs": [
    {
     "name": "stdout",
     "output_type": "stream",
     "text": [
      "59.66\n"
     ]
    }
   ],
   "source": [
    "#Evaluating the model \n",
    "mae_train=mean_absolute_error(y_train, y_train_pred)\n",
    "print(round(mae_train,2))"
   ]
  },
  {
   "cell_type": "code",
   "execution_count": 12,
   "id": "8e16f056-b366-4f5f-b1a3-a031b8316074",
   "metadata": {},
   "outputs": [],
   "source": [
    "y_test_pred = model.predict(X_test)"
   ]
  },
  {
   "cell_type": "code",
   "execution_count": 13,
   "id": "c6cee489-948a-4538-9d84-b7547a08e494",
   "metadata": {},
   "outputs": [
    {
     "name": "stdout",
     "output_type": "stream",
     "text": [
      "67.38\n"
     ]
    }
   ],
   "source": [
    "mae_test = mean_absolute_error(y_test, y_test_pred)\n",
    "print(round(mae_test,2))"
   ]
  },
  {
   "cell_type": "code",
   "execution_count": 14,
   "id": "de507cdf-0576-4ef0-ba5e-10fd1f69c176",
   "metadata": {},
   "outputs": [
    {
     "name": "stderr",
     "output_type": "stream",
     "text": [
      "C:\\Users\\Aidan\\AppData\\Local\\Programs\\Python\\Python39\\lib\\site-packages\\category_encoders\\utils.py:362: FutureWarning: `get_feature_names` is deprecated in all of sklearn. Use `get_feature_names_out` instead.\n",
      "  warnings.warn(\"`get_feature_names` is deprecated in all of sklearn. Use `get_feature_names_out` instead.\",\n"
     ]
    },
    {
     "data": {
      "image/png": "[encoded data removed]",
      "text/plain": [
       "<Figure size 432x288 with 1 Axes>"
      ]
     },
     "metadata": {
      "needs_background": "light"
     },
     "output_type": "display_data"
    }
   ],
   "source": [
    "features = model.named_steps[\"onehotencoder\"].get_feature_names()\n",
    "importance = model.named_steps[\"ridge\"].coef_\n",
    "\n",
    "feat_imf = pd.Series(importance, index=features).sort_values()\n",
    "\n",
    "feat_imf.tail(10).plot(kind=\"barh\")\n",
    "plt.ylabel(\"Features\")\n",
    "plt.xlabel(\"Importance\")\n",
    "plt.title(\"Feature Importance\")\n",
    "plt.tight_layout()\n",
    "plt.savefig(\"Feature Importance.png\")"
   ]
  },
  {
   "attachments": {},
   "cell_type": "markdown",
   "id": "f53c5948-d301-4bfe-82a4-83758c155f99",
   "metadata": {},
   "source": [
    "## Push a trained model with an attachment\n",
    "\n",
    "Then we push a trained model to Vectice using the `Vectice.Model()` object."
   ]
  },
  {
   "cell_type": "code",
   "execution_count": 97,
   "id": "ce8afa6c-ac94-4846-9032-80457024d40f",
   "metadata": {},
   "outputs": [],
   "source": [
    "vect_model = vect.Model(library=\"scikit-learn\", technique=\"Ridge Regression\", metrics={\"mae_train\": round(mae_train,2), \"mae_test\": round(mae_test,2)}, \n",
    "                        properties=model.named_steps, predictor=model, derived_from=modeling_dataset, attachments=\"Feature Importance.png\")"
   ]
  },
  {
   "attachments": {},
   "cell_type": "markdown",
   "id": "3ea7f45c-acc9-4180-921b-955284a2d59e",
   "metadata": {},
   "source": [
    "## Add the second model to the the step\n",
    "\n",
    "You can add multiple models to a single step by using the `+=` operator."
   ]
  },
  {
   "cell_type": "code",
   "execution_count": 98,
   "id": "d4e6bc65-158a-48ea-9dfd-8f2643a3443c",
   "metadata": {},
   "outputs": [
    {
     "name": "stderr",
     "output_type": "stream",
     "text": [
      "Model Pipeline successfully attached to Model(name='scikit-learn Ridge Regression model', version='Version 1').\n",
      "New Model: 'scikit-learn Ridge Regression model' Version: 'Version 1' added to Step: Build Model\n",
      "Attachments: Feature Importance.png\n",
      "Link to Step: https://qa.vectice.com/browse/iteration/ITR-2257\n",
      "\n"
     ]
    }
   ],
   "source": [
    "model_iteration.step_build_model += vect_model"
   ]
  },
  {
   "attachments": {},
   "cell_type": "markdown",
   "id": "3aa5e8d5-154d-4420-ae95-bf7a8bf7e9bb",
   "metadata": {},
   "source": [
    "## Add a comment \n",
    "\n",
    "Passing a `string` to a step will add a comment."
   ]
  },
  {
   "cell_type": "code",
   "execution_count": 99,
   "id": "3b2560ad-6cab-4978-98fb-06a8a2cbf0a3",
   "metadata": {},
   "outputs": [
    {
     "name": "stderr",
     "output_type": "stream",
     "text": [
      "Added Comment to Step: Model Validation\n",
      "\n",
      "Link to Step: https://qa.vectice.com/browse/iteration/ITR-2257\n",
      "\n"
     ]
    }
   ],
   "source": [
    "# Select the model to be staged\n",
    "model_iteration.step_model_validation = f\"Model passed acceptance criteria\\nMAE Train: {round(mae_train,2)}\\nMAE Test: {round(mae_test,2)}\""
   ]
  },
  {
   "cell_type": "code",
   "execution_count": 100,
   "id": "ab7554b8",
   "metadata": {},
   "outputs": [
    {
     "name": "stderr",
     "output_type": "stream",
     "text": [
      "Iteration with index 1 completed.\n",
      "\n",
      "For quick access to the Iteration in the Vectice web app, visit:\n",
      "https://qa.vectice.com/browse/iteration/ITR-2257\n"
     ]
    }
   ],
   "source": [
    "model_iteration.complete()"
   ]
  },
  {
   "attachments": {},
   "cell_type": "markdown",
   "id": "481b0162-f5de-4137-8271-9524090202f7",
   "metadata": {},
   "source": [
    "✴ You can view your registered assets and comments in the UI by clicking the links in the output messages.."
   ]
  }
 ],
 "metadata": {
  "kernelspec": {
   "display_name": "Python 3",
   "language": "python",
   "name": "python3"
  },
  "language_info": {
   "codemirror_mode": {
    "name": "ipython",
    "version": 3
   },
   "file_extension": ".py",
   "mimetype": "text/x-python",
   "name": "python",
   "nbconvert_exporter": "python",
   "pygments_lexer": "ipython3",
   "version": "3.9.5"
  }
 },
 "nbformat": 4,
 "nbformat_minor": 5
}
