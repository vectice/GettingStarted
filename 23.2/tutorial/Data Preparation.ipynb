{
 "cells": [
  {
   "cell_type": "code",
   "execution_count": 1,
   "id": "3ba6582a-2c82-4dee-a4d7-9ea20aa225f8",
   "metadata": {},
   "outputs": [],
   "source": [
    "import warnings\n",
    "warnings.filterwarnings(\"ignore\", category=DeprecationWarning)"
   ]
  },
  {
   "cell_type": "code",
   "execution_count": 2,
   "id": "356e8192-1a31-4853-a965-f6781a8e1d5e",
   "metadata": {},
   "outputs": [],
   "source": [
    "import pandas as pd\n",
    "import numpy as np"
   ]
  },
  {
   "cell_type": "code",
   "execution_count": 3,
   "id": "43e7d571-0cbe-4c83-ad39-8788a6702fb7",
   "metadata": {},
   "outputs": [
    {
     "name": "stderr",
     "output_type": "stream",
     "text": [
      "VECTICE_API_ENDPOINT is deprecated and will be removed in 23.3.1.0, please use VECTICE_HOST instead.\n",
      "Welcome, Aidan. You`re now successfully connected to Vectice.\n",
      "\n",
      "To access your personal workspace, use \u001b[1mconnection\u001b[0m.my_workspace\n",
      "To access a specific workspace, use \u001b[1mconnection\u001b[0m.workspace(Workspace ID)\n",
      "To get a list of workspaces you can access and their IDs, use \u001b[1mconnection\u001b[0m.list_workspaces()\n",
      "\n",
      "If you are using a notebook you can call the help by using a Vectice returned object with the builtin notebook \"?\":\n",
      ">> connection?\n",
      "\n",
      "If you are using an IDE you can call the help() method on any object returned by Vectice:\n",
      ">> help(connection)\n",
      "\n",
      "For quick access to the list of workspaces in the Vectice web app, visit:\n",
      "https://dev.vectice.com/workspaces\n"
     ]
    }
   ],
   "source": [
    "# %pip install --q vectice -U\n",
    "import vectice as vect\n",
    "\n",
    "vec = vect.connect(config=\"tut.json\")"
   ]
  },
  {
   "cell_type": "code",
   "execution_count": 4,
   "id": "bab9f5dd-4447-4de8-935f-6034f0690fed",
   "metadata": {},
   "outputs": [
    {
     "name": "stderr",
     "output_type": "stream",
     "text": [
      "C:\\Users\\Aidan\\AppData\\Local\\Programs\\Python\\Python39\\lib\\site-packages\\ipykernel\\ipkernel.py:283: DeprecationWarning: `should_run_async` will not call `transform_cell` automatically in the future. Please pass the result to `transformed_cell` argument and any exception that happen during thetransform in `preprocessing_exc_tuple` in IPython 7.17 and above.\n",
      "  and should_run_async(code)\n",
      "Workspace 'Create Sample Tutorial Project' successfully retrieved.\"\n",
      "\n",
      "For quick access to the workspace in the Vectice web app, visit:\n",
      "https://dev.vectice.com/browse/workspace/WSP-273\n"
     ]
    }
   ],
   "source": [
    "workspace = vec.workspace(\"Create Sample Tutorial Project\") # Your personal workspace can be access with my_workspace property"
   ]
  },
  {
   "cell_type": "code",
   "execution_count": 5,
   "id": "a371ec2f-9a2b-4a03-9339-5d1b7df39dcf",
   "metadata": {},
   "outputs": [
    {
     "name": "stderr",
     "output_type": "stream",
     "text": [
      "C:\\Users\\Aidan\\AppData\\Local\\Programs\\Python\\Python39\\lib\\site-packages\\ipykernel\\ipkernel.py:283: DeprecationWarning: `should_run_async` will not call `transform_cell` automatically in the future. Please pass the result to `transformed_cell` argument and any exception that happen during thetransform in `preprocessing_exc_tuple` in IPython 7.17 and above.\n",
      "  and should_run_async(code)\n",
      "Project 'Store Sales Prediction' successfully retrieved.\"\n",
      "\n",
      "For quick access to the Project in the Vectice web app, visit:\n",
      "https://dev.vectice.com/browse/project/PRJ-561\n"
     ]
    }
   ],
   "source": [
    "project = workspace.project(\"Store Sales Prediction\") # pass the ID of your tutorial project"
   ]
  },
  {
   "cell_type": "code",
   "execution_count": 6,
   "id": "bc134b8f-92c2-4c46-95b5-0c0264d5b4b1",
   "metadata": {},
   "outputs": [
    {
     "name": "stderr",
     "output_type": "stream",
     "text": [
      "C:\\Users\\Aidan\\AppData\\Local\\Programs\\Python\\Python39\\lib\\site-packages\\ipykernel\\ipkernel.py:283: DeprecationWarning: `should_run_async` will not call `transform_cell` automatically in the future. Please pass the result to `transformed_cell` argument and any exception that happen during thetransform in `preprocessing_exc_tuple` in IPython 7.17 and above.\n",
      "  and should_run_async(code)\n",
      "Phase 'Data Preparation' successfully retrieved.\"\n",
      "\n",
      "For quick access to the Phase in the Vectice web app, visit:\n",
      "https://dev.vectice.com/browse/phase/PHA-1170\n",
      "New Iteration number '3' created.\n",
      "\n",
      "For quick access to the Iteration in the Vectice web app, visit:\n",
      "https://dev.vectice.com/browse/iteration/ITR-331\n"
     ]
    }
   ],
   "source": [
    "prep_iteration = project.phase(\"PHA-1170\").create_iteration()"
   ]
  },
  {
   "cell_type": "code",
   "execution_count": 7,
   "id": "53ff21f4-388c-47a1-9249-82d055eac8c7",
   "metadata": {},
   "outputs": [
    {
     "name": "stderr",
     "output_type": "stream",
     "text": [
      "C:\\Users\\Aidan\\AppData\\Local\\Programs\\Python\\Python39\\lib\\site-packages\\ipykernel\\ipkernel.py:283: DeprecationWarning: `should_run_async` will not call `transform_cell` automatically in the future. Please pass the result to `transformed_cell` argument and any exception that happen during thetransform in `preprocessing_exc_tuple` in IPython 7.17 and above.\n",
      "  and should_run_async(code)\n"
     ]
    }
   ],
   "source": [
    "df_initial = pd.read_csv(\"SampleSuperstore.csv\")"
   ]
  },
  {
   "cell_type": "code",
   "execution_count": 8,
   "id": "0aed4dfd-8366-40a2-8768-6541eb3208b0",
   "metadata": {},
   "outputs": [
    {
     "name": "stderr",
     "output_type": "stream",
     "text": [
      "C:\\Users\\Aidan\\AppData\\Local\\Programs\\Python\\Python39\\lib\\site-packages\\ipykernel\\ipkernel.py:283: DeprecationWarning: `should_run_async` will not call `transform_cell` automatically in the future. Please pass the result to `transformed_cell` argument and any exception that happen during thetransform in `preprocessing_exc_tuple` in IPython 7.17 and above.\n",
      "  and should_run_async(code)\n",
      "File: SampleSuperstore.csv wrapped successfully.\n"
     ]
    }
   ],
   "source": [
    "origin_ds = vect.FileResource(paths=\"SampleSuperstore.csv\", dataframes=df_initial)\n",
    "\n",
    "\n",
    "origin_dataset = vect.Dataset.origin(\n",
    "    name=\"SampleSuperstore origin dataset\",\n",
    "    resource=origin_ds, \n",
    ")"
   ]
  },
  {
   "cell_type": "code",
   "execution_count": 9,
   "id": "fbe2af6f-0188-416b-9639-069391503af0",
   "metadata": {},
   "outputs": [
    {
     "name": "stderr",
     "output_type": "stream",
     "text": [
      "C:\\Users\\Aidan\\AppData\\Local\\Programs\\Python\\Python39\\lib\\site-packages\\ipykernel\\ipkernel.py:283: DeprecationWarning: `should_run_async` will not call `transform_cell` automatically in the future. Please pass the result to `transformed_cell` argument and any exception that happen during thetransform in `preprocessing_exc_tuple` in IPython 7.17 and above.\n",
      "  and should_run_async(code)\n",
      "New Version: 'Version 3' of Dataset: 'SampleSuperstore origin dataset' added to Step: Select Data\n",
      "Attachments: None\n",
      "Link to Step: https://dev.vectice.com/browse/iteration/ITR-331\n",
      "\n"
     ]
    }
   ],
   "source": [
    "prep_iteration.step_select_data = origin_dataset"
   ]
  },
  {
   "cell_type": "code",
   "execution_count": 10,
   "id": "35d87dde-7a7b-4d44-ad97-d925f4c54ed5",
   "metadata": {},
   "outputs": [
    {
     "name": "stderr",
     "output_type": "stream",
     "text": [
      "C:\\Users\\Aidan\\AppData\\Local\\Programs\\Python\\Python39\\lib\\site-packages\\ipykernel\\ipkernel.py:283: DeprecationWarning: `should_run_async` will not call `transform_cell` automatically in the future. Please pass the result to `transformed_cell` argument and any exception that happen during thetransform in `preprocessing_exc_tuple` in IPython 7.17 and above.\n",
      "  and should_run_async(code)\n"
     ]
    }
   ],
   "source": [
    "def wrangle(filepath):\n",
    "    df = pd.read_csv(filepath)\n",
    "    \n",
    "    #Reducing Cardinality\n",
    "    top_ten_cities=df[\"City\"].value_counts().head(10).index\n",
    "    df[\"City\"]=df[\"City\"].apply(lambda c: c if c in top_ten_cities else \"others\")\n",
    "    top_ten_states=df[\"State\"].value_counts().head(10).index\n",
    "    df[\"State\"]=df[\"State\"].apply(lambda c: c if c in top_ten_states else \"others\")\n",
    "    \n",
    "    ## Dealing with Outliers\n",
    "    q1,q2 =df[\"Profit\"].quantile([0.1,0.9])\n",
    "    df=df[df[\"Profit\"].between(q1,q2)]\n",
    "    \n",
    "    \n",
    "    return df"
   ]
  },
  {
   "cell_type": "code",
   "execution_count": 11,
   "id": "9ef46fcf-1ab0-4e1c-b7a1-8acabc599926",
   "metadata": {},
   "outputs": [
    {
     "name": "stderr",
     "output_type": "stream",
     "text": [
      "C:\\Users\\Aidan\\AppData\\Local\\Programs\\Python\\Python39\\lib\\site-packages\\ipykernel\\ipkernel.py:283: DeprecationWarning: `should_run_async` will not call `transform_cell` automatically in the future. Please pass the result to `transformed_cell` argument and any exception that happen during thetransform in `preprocessing_exc_tuple` in IPython 7.17 and above.\n",
      "  and should_run_async(code)\n"
     ]
    },
    {
     "data": {
      "text/html": [
       "<div>\n",
       "<style scoped>\n",
       "    .dataframe tbody tr th:only-of-type {\n",
       "        vertical-align: middle;\n",
       "    }\n",
       "\n",
       "    .dataframe tbody tr th {\n",
       "        vertical-align: top;\n",
       "    }\n",
       "\n",
       "    .dataframe thead th {\n",
       "        text-align: right;\n",
       "    }\n",
       "</style>\n",
       "<table border=\"1\" class=\"dataframe\">\n",
       "  <thead>\n",
       "    <tr style=\"text-align: right;\">\n",
       "      <th></th>\n",
       "      <th>Postal Code</th>\n",
       "      <th>Sales</th>\n",
       "      <th>Quantity</th>\n",
       "      <th>Discount</th>\n",
       "      <th>Profit</th>\n",
       "    </tr>\n",
       "  </thead>\n",
       "  <tbody>\n",
       "    <tr>\n",
       "      <th>count</th>\n",
       "      <td>7994.000000</td>\n",
       "      <td>7994.000000</td>\n",
       "      <td>7994.000000</td>\n",
       "      <td>7994.000000</td>\n",
       "      <td>7994.000000</td>\n",
       "    </tr>\n",
       "    <tr>\n",
       "      <th>mean</th>\n",
       "      <td>55874.241931</td>\n",
       "      <td>98.123799</td>\n",
       "      <td>3.558419</td>\n",
       "      <td>0.131893</td>\n",
       "      <td>15.795750</td>\n",
       "    </tr>\n",
       "    <tr>\n",
       "      <th>std</th>\n",
       "      <td>32393.876810</td>\n",
       "      <td>178.131556</td>\n",
       "      <td>2.083735</td>\n",
       "      <td>0.182274</td>\n",
       "      <td>20.670667</td>\n",
       "    </tr>\n",
       "    <tr>\n",
       "      <th>min</th>\n",
       "      <td>1040.000000</td>\n",
       "      <td>0.444000</td>\n",
       "      <td>1.000000</td>\n",
       "      <td>0.000000</td>\n",
       "      <td>-15.466600</td>\n",
       "    </tr>\n",
       "    <tr>\n",
       "      <th>25%</th>\n",
       "      <td>23434.000000</td>\n",
       "      <td>14.016000</td>\n",
       "      <td>2.000000</td>\n",
       "      <td>0.000000</td>\n",
       "      <td>2.957400</td>\n",
       "    </tr>\n",
       "    <tr>\n",
       "      <th>50%</th>\n",
       "      <td>60035.000000</td>\n",
       "      <td>36.328000</td>\n",
       "      <td>3.000000</td>\n",
       "      <td>0.000000</td>\n",
       "      <td>8.666500</td>\n",
       "    </tr>\n",
       "    <tr>\n",
       "      <th>75%</th>\n",
       "      <td>90032.000000</td>\n",
       "      <td>105.520000</td>\n",
       "      <td>5.000000</td>\n",
       "      <td>0.200000</td>\n",
       "      <td>22.200000</td>\n",
       "    </tr>\n",
       "    <tr>\n",
       "      <th>max</th>\n",
       "      <td>99301.000000</td>\n",
       "      <td>4164.050000</td>\n",
       "      <td>14.000000</td>\n",
       "      <td>0.800000</td>\n",
       "      <td>89.222400</td>\n",
       "    </tr>\n",
       "  </tbody>\n",
       "</table>\n",
       "</div>"
      ],
      "text/plain": [
       "        Postal Code        Sales     Quantity     Discount       Profit\n",
       "count   7994.000000  7994.000000  7994.000000  7994.000000  7994.000000\n",
       "mean   55874.241931    98.123799     3.558419     0.131893    15.795750\n",
       "std    32393.876810   178.131556     2.083735     0.182274    20.670667\n",
       "min     1040.000000     0.444000     1.000000     0.000000   -15.466600\n",
       "25%    23434.000000    14.016000     2.000000     0.000000     2.957400\n",
       "50%    60035.000000    36.328000     3.000000     0.000000     8.666500\n",
       "75%    90032.000000   105.520000     5.000000     0.200000    22.200000\n",
       "max    99301.000000  4164.050000    14.000000     0.800000    89.222400"
      ]
     },
     "execution_count": 11,
     "metadata": {},
     "output_type": "execute_result"
    }
   ],
   "source": [
    "df = wrangle(\"SampleSuperstore.csv\")\n",
    "df.describe()"
   ]
  },
  {
   "cell_type": "code",
   "execution_count": 12,
   "id": "f5710bd5-79c0-4c21-9a31-7a5b8f96d4a3",
   "metadata": {},
   "outputs": [
    {
     "name": "stderr",
     "output_type": "stream",
     "text": [
      "C:\\Users\\Aidan\\AppData\\Local\\Programs\\Python\\Python39\\lib\\site-packages\\ipykernel\\ipkernel.py:283: DeprecationWarning: `should_run_async` will not call `transform_cell` automatically in the future. Please pass the result to `transformed_cell` argument and any exception that happen during thetransform in `preprocessing_exc_tuple` in IPython 7.17 and above.\n",
      "  and should_run_async(code)\n"
     ]
    }
   ],
   "source": [
    "df.to_csv(\"Prepared Dataset.csv\")"
   ]
  },
  {
   "cell_type": "code",
   "execution_count": 13,
   "id": "caa53736-2ba8-419d-9e57-ba759b83282a",
   "metadata": {},
   "outputs": [
    {
     "name": "stderr",
     "output_type": "stream",
     "text": [
      "C:\\Users\\Aidan\\AppData\\Local\\Programs\\Python\\Python39\\lib\\site-packages\\ipykernel\\ipkernel.py:283: DeprecationWarning: `should_run_async` will not call `transform_cell` automatically in the future. Please pass the result to `transformed_cell` argument and any exception that happen during thetransform in `preprocessing_exc_tuple` in IPython 7.17 and above.\n",
      "  and should_run_async(code)\n",
      "File: SampleSuperstore.csv wrapped successfully.\n"
     ]
    }
   ],
   "source": [
    "prepared_ds = vect.FileResource(paths=\"SampleSuperstore.csv\", dataframes=df)\n",
    "\n",
    "\n",
    "prepared_ds = vect.Dataset.clean(\n",
    "    name=\"SampleSuperstore Prepared Dataset\",\n",
    "    resource=prepared_ds,\n",
    "    derived_from=origin_dataset\n",
    ")"
   ]
  },
  {
   "cell_type": "code",
   "execution_count": 14,
   "id": "9a546f90-5631-4d1a-b3b4-048d30443394",
   "metadata": {},
   "outputs": [
    {
     "name": "stderr",
     "output_type": "stream",
     "text": [
      "C:\\Users\\Aidan\\AppData\\Local\\Programs\\Python\\Python39\\lib\\site-packages\\ipykernel\\ipkernel.py:283: DeprecationWarning: `should_run_async` will not call `transform_cell` automatically in the future. Please pass the result to `transformed_cell` argument and any exception that happen during thetransform in `preprocessing_exc_tuple` in IPython 7.17 and above.\n",
      "  and should_run_async(code)\n",
      "New Version: 'Version 2' of Dataset: 'SampleSuperstore Prepared Dataset' added to Step: Clean data\n",
      "Attachments: None\n",
      "Link to Step: https://dev.vectice.com/browse/iteration/ITR-331\n",
      "\n"
     ]
    }
   ],
   "source": [
    "prep_iteration.step_clean_data = prepared_ds "
   ]
  },
  {
   "cell_type": "code",
   "execution_count": null,
   "id": "ae3e79a5-4f63-49a3-92bf-7572c35f9cac",
   "metadata": {},
   "outputs": [],
   "source": []
  }
 ],
 "metadata": {
  "kernelspec": {
   "display_name": "Python 3",
   "language": "python",
   "name": "python3"
  },
  "language_info": {
   "codemirror_mode": {
    "name": "ipython",
    "version": 3
   },
   "file_extension": ".py",
   "mimetype": "text/x-python",
   "name": "python",
   "nbconvert_exporter": "python",
   "pygments_lexer": "ipython3",
   "version": "3.9.5"
  }
 },
 "nbformat": 4,
 "nbformat_minor": 5
}
