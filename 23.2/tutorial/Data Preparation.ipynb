{
 "cells": [
  {
   "cell_type": "markdown",
   "id": "c55e848f-4238-4272-bfa7-4d994617e58c",
   "metadata": {},
   "source": [
    "# References\n",
    "\n",
    "- Vectice Documentation: https://docs.vectice.com/\n",
    "- Vectice API Documentation: https://api-docs.vectice.com/"
   ]
  },
  {
   "cell_type": "code",
   "execution_count": 5,
   "id": "3ba6582a-2c82-4dee-a4d7-9ea20aa225f8",
   "metadata": {},
   "outputs": [
    {
     "name": "stderr",
     "output_type": "stream",
     "text": [
      "C:\\Users\\Aidan\\AppData\\Local\\Programs\\Python\\Python39\\lib\\site-packages\\ipykernel\\ipkernel.py:283: DeprecationWarning: `should_run_async` will not call `transform_cell` automatically in the future. Please pass the result to `transformed_cell` argument and any exception that happen during thetransform in `preprocessing_exc_tuple` in IPython 7.17 and above.\n",
      "  and should_run_async(code)\n"
     ]
    }
   ],
   "source": [
    "import warnings\n",
    "warnings.filterwarnings(\"ignore\", category=DeprecationWarning)"
   ]
  },
  {
   "cell_type": "code",
   "execution_count": 19,
   "id": "356e8192-1a31-4853-a965-f6781a8e1d5e",
   "metadata": {},
   "outputs": [],
   "source": [
    "import pandas as pd\n",
    "import numpy as np\n",
    "import seaborn as sns\n",
    "import matplotlib.pyplot as plt"
   ]
  },
  {
   "cell_type": "markdown",
   "id": "8ed8d365-4ae0-4e70-945a-8fc83ce94cc1",
   "metadata": {},
   "source": [
    "## Install the latest Vectice Python client library"
   ]
  },
  {
   "cell_type": "code",
   "execution_count": null,
   "id": "de5b3da3-35d7-4d18-a121-9079c090a067",
   "metadata": {},
   "outputs": [],
   "source": [
    "%pip install --q vectice -U"
   ]
  },
  {
   "cell_type": "markdown",
   "id": "bab305a9-312d-414d-b6bd-322f496db5d5",
   "metadata": {},
   "source": [
    "## Get started by connecting to Vectice"
   ]
  },
  {
   "cell_type": "code",
   "execution_count": 7,
   "id": "43e7d571-0cbe-4c83-ad39-8788a6702fb7",
   "metadata": {},
   "outputs": [
    {
     "name": "stderr",
     "output_type": "stream",
     "text": [
      "VECTICE_API_ENDPOINT is deprecated and will be removed in 23.3.1.0, please use VECTICE_HOST instead.\n",
      "Welcome, Aidan. You`re now successfully connected to Vectice.\n",
      "\n",
      "To access your personal workspace, use \u001b[1mconnection\u001b[0m.my_workspace\n",
      "To access a specific workspace, use \u001b[1mconnection\u001b[0m.workspace(Workspace ID)\n",
      "To get a list of workspaces you can access and their IDs, use \u001b[1mconnection\u001b[0m.list_workspaces()\n",
      "\n",
      "If you are using a notebook you can call the help by using a Vectice returned object with the builtin notebook \"?\":\n",
      ">> connection?\n",
      "\n",
      "If you are using an IDE you can call the help() method on any object returned by Vectice:\n",
      ">> help(connection)\n",
      "\n",
      "For quick access to the list of workspaces in the Vectice web app, visit:\n",
      "https://dev.vectice.com/workspaces\n"
     ]
    }
   ],
   "source": [
    "import vectice as vect\n",
    "\n",
    "vec = vect.connect(config=\"tut.json\")"
   ]
  },
  {
   "cell_type": "markdown",
   "id": "897a6883-86b7-4c79-a1af-d5a9f50ed2f2",
   "metadata": {},
   "source": [
    "## Specify which project phase you want to document\r\n",
    "In Vectice UI, navigate to your personal workspace inside your default Tutorial project go to the modeling phase and copy paste your Phase Id below."
   ]
  },
  {
   "cell_type": "code",
   "execution_count": 8,
   "id": "d5bb04d4-b19c-41d0-bfc0-757c0e9e2513",
   "metadata": {},
   "outputs": [
    {
     "name": "stderr",
     "output_type": "stream",
     "text": [
      "Phase 'Data Preparation' successfully retrieved.\"\n",
      "\n",
      "For quick access to the Phase in the Vectice web app, visit:\n",
      "https://dev.vectice.com/browse/phase/PHA-1170\n"
     ]
    }
   ],
   "source": [
    "phase = vec.phase(\"PHA-1170\")"
   ]
  },
  {
   "cell_type": "markdown",
   "id": "00c94b0d-aaf1-4bdf-ae07-336c92edc14e",
   "metadata": {},
   "source": [
    "## Next we are going to create an iteration\r\n",
    "An iteration allows you to organize your work in repeatable sequences of steps. You can have multiple iteration within a phase"
   ]
  },
  {
   "cell_type": "code",
   "execution_count": 9,
   "id": "bc134b8f-92c2-4c46-95b5-0c0264d5b4b1",
   "metadata": {},
   "outputs": [
    {
     "name": "stderr",
     "output_type": "stream",
     "text": [
      "New Iteration number '4' created.\n",
      "\n",
      "For quick access to the Iteration in the Vectice web app, visit:\n",
      "https://dev.vectice.com/browse/iteration/ITR-337\n"
     ]
    }
   ],
   "source": [
    "prep_iteration = phase.create_iteration()"
   ]
  },
  {
   "cell_type": "code",
   "execution_count": 10,
   "id": "53ff21f4-388c-47a1-9249-82d055eac8c7",
   "metadata": {},
   "outputs": [],
   "source": [
    "df_initial = pd.read_csv(\"https://raw.githubusercontent.com/vectice/GettingStarted/aidann/tutorial_update/23.2/tutorial/SampleSuperstore.csv\")"
   ]
  },
  {
   "cell_type": "markdown",
   "id": "045a8aec-9741-407b-99dd-a4214d1d9c2b",
   "metadata": {},
   "source": [
    "## Push a dataset with an image as attachements\r\n",
    "Use the following code block to create a local dataset and generate an image:"
   ]
  },
  {
   "cell_type": "code",
   "execution_count": 11,
   "id": "0aed4dfd-8366-40a2-8768-6541eb3208b0",
   "metadata": {},
   "outputs": [
    {
     "name": "stderr",
     "output_type": "stream",
     "text": [
      "File: SampleSuperstore.csv wrapped successfully.\n"
     ]
    }
   ],
   "source": [
    "origin_ds = vect.FileResource(paths=\"SampleSuperstore.csv\", dataframes=df_initial)\n",
    "\n",
    "\n",
    "origin_dataset = vect.Dataset.origin(\n",
    "    name=\"ProductSales Origin\",\n",
    "    resource=origin_ds, \n",
    ")"
   ]
  },
  {
   "cell_type": "code",
   "execution_count": 12,
   "id": "fbe2af6f-0188-416b-9639-069391503af0",
   "metadata": {},
   "outputs": [
    {
     "name": "stderr",
     "output_type": "stream",
     "text": [
      "New Version: 'Version 1' of Dataset: 'ProductSales Origin' added to Step: Select Data\n",
      "Attachments: None\n",
      "Link to Step: https://dev.vectice.com/browse/iteration/ITR-337\n",
      "\n"
     ]
    }
   ],
   "source": [
    "prep_iteration.step_select_data = origin_dataset"
   ]
  },
  {
   "cell_type": "code",
   "execution_count": 14,
   "id": "35d87dde-7a7b-4d44-ad97-d925f4c54ed5",
   "metadata": {},
   "outputs": [],
   "source": [
    "def wrangle(filepath):\n",
    "    df = pd.read_csv(filepath)\n",
    "    \n",
    "    #Reducing Cardinality\n",
    "    top_ten_cities=df[\"City\"].value_counts().head(10).index\n",
    "    df[\"City\"]=df[\"City\"].apply(lambda c: c if c in top_ten_cities else \"others\")\n",
    "    top_ten_states=df[\"State\"].value_counts().head(10).index\n",
    "    df[\"State\"]=df[\"State\"].apply(lambda c: c if c in top_ten_states else \"others\")\n",
    "    \n",
    "    ## Dealing with Outliers\n",
    "    q1,q2 =df[\"Profit\"].quantile([0.1,0.9])\n",
    "    df=df[df[\"Profit\"].between(q1,q2)]\n",
    "    \n",
    "    \n",
    "    return df"
   ]
  },
  {
   "cell_type": "code",
   "execution_count": 15,
   "id": "9ef46fcf-1ab0-4e1c-b7a1-8acabc599926",
   "metadata": {},
   "outputs": [
    {
     "data": {
      "text/html": [
       "<div>\n",
       "<style scoped>\n",
       "    .dataframe tbody tr th:only-of-type {\n",
       "        vertical-align: middle;\n",
       "    }\n",
       "\n",
       "    .dataframe tbody tr th {\n",
       "        vertical-align: top;\n",
       "    }\n",
       "\n",
       "    .dataframe thead th {\n",
       "        text-align: right;\n",
       "    }\n",
       "</style>\n",
       "<table border=\"1\" class=\"dataframe\">\n",
       "  <thead>\n",
       "    <tr style=\"text-align: right;\">\n",
       "      <th></th>\n",
       "      <th>Postal Code</th>\n",
       "      <th>Sales</th>\n",
       "      <th>Quantity</th>\n",
       "      <th>Discount</th>\n",
       "      <th>Profit</th>\n",
       "    </tr>\n",
       "  </thead>\n",
       "  <tbody>\n",
       "    <tr>\n",
       "      <th>count</th>\n",
       "      <td>7994.000000</td>\n",
       "      <td>7994.000000</td>\n",
       "      <td>7994.000000</td>\n",
       "      <td>7994.000000</td>\n",
       "      <td>7994.000000</td>\n",
       "    </tr>\n",
       "    <tr>\n",
       "      <th>mean</th>\n",
       "      <td>55874.241931</td>\n",
       "      <td>98.123799</td>\n",
       "      <td>3.558419</td>\n",
       "      <td>0.131893</td>\n",
       "      <td>15.795750</td>\n",
       "    </tr>\n",
       "    <tr>\n",
       "      <th>std</th>\n",
       "      <td>32393.876810</td>\n",
       "      <td>178.131556</td>\n",
       "      <td>2.083735</td>\n",
       "      <td>0.182274</td>\n",
       "      <td>20.670667</td>\n",
       "    </tr>\n",
       "    <tr>\n",
       "      <th>min</th>\n",
       "      <td>1040.000000</td>\n",
       "      <td>0.444000</td>\n",
       "      <td>1.000000</td>\n",
       "      <td>0.000000</td>\n",
       "      <td>-15.466600</td>\n",
       "    </tr>\n",
       "    <tr>\n",
       "      <th>25%</th>\n",
       "      <td>23434.000000</td>\n",
       "      <td>14.016000</td>\n",
       "      <td>2.000000</td>\n",
       "      <td>0.000000</td>\n",
       "      <td>2.957400</td>\n",
       "    </tr>\n",
       "    <tr>\n",
       "      <th>50%</th>\n",
       "      <td>60035.000000</td>\n",
       "      <td>36.328000</td>\n",
       "      <td>3.000000</td>\n",
       "      <td>0.000000</td>\n",
       "      <td>8.666500</td>\n",
       "    </tr>\n",
       "    <tr>\n",
       "      <th>75%</th>\n",
       "      <td>90032.000000</td>\n",
       "      <td>105.520000</td>\n",
       "      <td>5.000000</td>\n",
       "      <td>0.200000</td>\n",
       "      <td>22.200000</td>\n",
       "    </tr>\n",
       "    <tr>\n",
       "      <th>max</th>\n",
       "      <td>99301.000000</td>\n",
       "      <td>4164.050000</td>\n",
       "      <td>14.000000</td>\n",
       "      <td>0.800000</td>\n",
       "      <td>89.222400</td>\n",
       "    </tr>\n",
       "  </tbody>\n",
       "</table>\n",
       "</div>"
      ],
      "text/plain": [
       "        Postal Code        Sales     Quantity     Discount       Profit\n",
       "count   7994.000000  7994.000000  7994.000000  7994.000000  7994.000000\n",
       "mean   55874.241931    98.123799     3.558419     0.131893    15.795750\n",
       "std    32393.876810   178.131556     2.083735     0.182274    20.670667\n",
       "min     1040.000000     0.444000     1.000000     0.000000   -15.466600\n",
       "25%    23434.000000    14.016000     2.000000     0.000000     2.957400\n",
       "50%    60035.000000    36.328000     3.000000     0.000000     8.666500\n",
       "75%    90032.000000   105.520000     5.000000     0.200000    22.200000\n",
       "max    99301.000000  4164.050000    14.000000     0.800000    89.222400"
      ]
     },
     "execution_count": 15,
     "metadata": {},
     "output_type": "execute_result"
    }
   ],
   "source": [
    "df = wrangle(\"https://raw.githubusercontent.com/vectice/GettingStarted/aidann/tutorial_update/23.2/tutorial/SampleSuperstore.csv\")\n",
    "df.describe()"
   ]
  },
  {
   "cell_type": "code",
   "execution_count": 20,
   "id": "668a3d7a-44ed-4596-ba8a-72d3e37320a6",
   "metadata": {},
   "outputs": [
    {
     "name": "stderr",
     "output_type": "stream",
     "text": [
      "C:\\Users\\Aidan\\AppData\\Local\\Programs\\Python\\Python39\\lib\\site-packages\\seaborn\\distributions.py:2557: FutureWarning: `distplot` is a deprecated function and will be removed in a future version. Please adapt your code to use either `displot` (a figure-level function with similar flexibility) or `histplot` (an axes-level function for histograms).\n",
      "  warnings.warn(msg, FutureWarning)\n"
     ]
    },
    {
     "data": {
      "image/png": "[encoded data removed]",
      "text/plain": [
       "<Figure size 432x288 with 1 Axes>"
      ]
     },
     "metadata": {
      "needs_background": "light"
     },
     "output_type": "display_data"
    }
   ],
   "source": [
    "#Checking for outliers\n",
    "sns.distplot(df[\"Profit\"]);\n",
    "plt.savefig(\"Profit.png\")"
   ]
  },
  {
   "cell_type": "code",
   "execution_count": 21,
   "id": "8eb10e84-38ee-454c-b3c4-c0ab32068bd2",
   "metadata": {},
   "outputs": [
    {
     "name": "stderr",
     "output_type": "stream",
     "text": [
      "C:\\Users\\Aidan\\AppData\\Local\\Programs\\Python\\Python39\\lib\\site-packages\\seaborn\\distributions.py:2557: FutureWarning: `distplot` is a deprecated function and will be removed in a future version. Please adapt your code to use either `displot` (a figure-level function with similar flexibility) or `histplot` (an axes-level function for histograms).\n",
      "  warnings.warn(msg, FutureWarning)\n"
     ]
    },
    {
     "data": {
      "image/png": "[encoded data removed]",
      "text/plain": [
       "<Figure size 432x288 with 1 Axes>"
      ]
     },
     "metadata": {
      "needs_background": "light"
     },
     "output_type": "display_data"
    }
   ],
   "source": [
    "#Checking for outliers\n",
    "sns.distplot(df[\"Quantity\"])\n",
    "plt.savefig(\"Quantity.png\")"
   ]
  },
  {
   "cell_type": "code",
   "execution_count": 22,
   "id": "f5710bd5-79c0-4c21-9a31-7a5b8f96d4a3",
   "metadata": {},
   "outputs": [],
   "source": [
    "df.to_csv(\"ProductSales Cleaned.csv\")"
   ]
  },
  {
   "cell_type": "code",
   "execution_count": 23,
   "id": "caa53736-2ba8-419d-9e57-ba759b83282a",
   "metadata": {},
   "outputs": [
    {
     "name": "stderr",
     "output_type": "stream",
     "text": [
      "File: ProductSales Cleaned.csv wrapped successfully.\n"
     ]
    }
   ],
   "source": [
    "prepared_ds = vect.FileResource(paths=\"ProductSales Cleaned.csv\", dataframes=df)\n",
    "\n",
    "\n",
    "prepared_ds = vect.Dataset.clean(\n",
    "    name=\"ProductSales Cleaned\",\n",
    "    resource=prepared_ds,\n",
    "    derived_from=origin_dataset,\n",
    "    attachments=[\"Profit.png\", \"Quantity.png\"]\n",
    ")"
   ]
  },
  {
   "cell_type": "code",
   "execution_count": 24,
   "id": "9a546f90-5631-4d1a-b3b4-048d30443394",
   "metadata": {},
   "outputs": [
    {
     "name": "stderr",
     "output_type": "stream",
     "text": [
      "New Dataset: 'ProductSales Cleaned' Version: 'Version 1' added to Step: Clean data\n",
      "Attachments: Quantity.png, Profit.png\n",
      "Link to Step: https://dev.vectice.com/browse/iteration/ITR-337\n",
      "\n"
     ]
    }
   ],
   "source": [
    "prep_iteration.step_clean_data = prepared_ds "
   ]
  },
  {
   "cell_type": "code",
   "execution_count": null,
   "id": "ae3e79a5-4f63-49a3-92bf-7572c35f9cac",
   "metadata": {},
   "outputs": [],
   "source": []
  }
 ],
 "metadata": {
  "kernelspec": {
   "display_name": "Python 3",
   "language": "python",
   "name": "python3"
  },
  "language_info": {
   "codemirror_mode": {
    "name": "ipython",
    "version": 3
   },
   "file_extension": ".py",
   "mimetype": "text/x-python",
   "name": "python",
   "nbconvert_exporter": "python",
   "pygments_lexer": "ipython3",
   "version": "3.9.5"
  }
 },
 "nbformat": 4,
 "nbformat_minor": 5
}
