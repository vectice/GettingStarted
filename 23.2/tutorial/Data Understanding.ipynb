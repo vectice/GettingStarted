{
 "cells": [
  {
   "cell_type": "code",
   "execution_count": 14,
   "id": "6e6350fb-5aec-448e-9e86-4715055033ee",
   "metadata": {},
   "outputs": [],
   "source": [
    "import warnings\n",
    "warnings.filterwarnings(\"ignore\", category=DeprecationWarning)"
   ]
  },
  {
   "cell_type": "code",
   "execution_count": 15,
   "id": "dc1525e3-eb5c-4e5b-855f-47dc2229afbf",
   "metadata": {},
   "outputs": [],
   "source": [
    "import pandas as pd\n",
    "import numpy as np\n",
    "import seaborn as sns\n",
    "import matplotlib.pyplot as plt"
   ]
  },
  {
   "cell_type": "code",
   "execution_count": 16,
   "id": "d34bced5-491f-400b-ac5d-e4665f6f6ae8",
   "metadata": {},
   "outputs": [
    {
     "name": "stderr",
     "output_type": "stream",
     "text": [
      "VECTICE_API_ENDPOINT is deprecated and will be removed in 23.3.1.0, please use VECTICE_HOST instead.\n",
      "Welcome, Aidan. You`re now successfully connected to Vectice.\n",
      "\n",
      "To access your personal workspace, use \u001b[1mconnection\u001b[0m.my_workspace\n",
      "To access a specific workspace, use \u001b[1mconnection\u001b[0m.workspace(Workspace ID)\n",
      "To get a list of workspaces you can access and their IDs, use \u001b[1mconnection\u001b[0m.list_workspaces()\n",
      "\n",
      "If you are using a notebook you can call the help by using a Vectice returned object with the builtin notebook \"?\":\n",
      ">> connection?\n",
      "\n",
      "If you are using an IDE you can call the help() method on any object returned by Vectice:\n",
      ">> help(connection)\n",
      "\n",
      "For quick access to the list of workspaces in the Vectice web app, visit:\n",
      "https://dev.vectice.com/workspaces\n"
     ]
    }
   ],
   "source": [
    "# %pip install --q vectice -U\n",
    "import vectice as vect\n",
    "\n",
    "vec = vect.connect(config=\"tut.json\")"
   ]
  },
  {
   "cell_type": "code",
   "execution_count": 17,
   "id": "d1670770-8a03-4fef-adc4-8dfe61971fb6",
   "metadata": {},
   "outputs": [
    {
     "name": "stderr",
     "output_type": "stream",
     "text": [
      "Workspace 'Create Sample Tutorial Project' successfully retrieved.\"\n",
      "\n",
      "For quick access to the workspace in the Vectice web app, visit:\n",
      "https://dev.vectice.com/browse/workspace/WSP-273\n"
     ]
    }
   ],
   "source": [
    "workspace = vec.workspace(\"Create Sample Tutorial Project\") # Your personal workspace can be access with my_workspace property"
   ]
  },
  {
   "cell_type": "code",
   "execution_count": 18,
   "id": "751df739-0ea5-4ff7-9329-811fc546d219",
   "metadata": {},
   "outputs": [
    {
     "name": "stderr",
     "output_type": "stream",
     "text": [
      "Project 'Store Sales Prediction' successfully retrieved.\"\n",
      "\n",
      "For quick access to the Project in the Vectice web app, visit:\n",
      "https://dev.vectice.com/browse/project/PRJ-561\n"
     ]
    }
   ],
   "source": [
    "project = workspace.project(\"Store Sales Prediction\") # pass the ID of your tutorial project"
   ]
  },
  {
   "cell_type": "code",
   "execution_count": 23,
   "id": "b315169a-d68f-4a17-9b39-56694b8be697",
   "metadata": {},
   "outputs": [
    {
     "name": "stderr",
     "output_type": "stream",
     "text": [
      "Phase 'Data Understanding' successfully retrieved.\"\n",
      "\n",
      "For quick access to the Phase in the Vectice web app, visit:\n",
      "https://dev.vectice.com/browse/phase/PHA-1169\n",
      "Iteration number '3' successfully retrieved.\"\n",
      "\n",
      "For quick access to the Iteration in the Vectice web app, visit:\n",
      "https://dev.vectice.com/browse/iteration/ITR-330\n"
     ]
    }
   ],
   "source": [
    "iteration = project.phase(\"PHA-1169\").create_iteration()"
   ]
  },
  {
   "cell_type": "code",
   "execution_count": 20,
   "id": "6c59effc-5b3f-4b75-aae4-f3d46be1218f",
   "metadata": {},
   "outputs": [],
   "source": [
    "df = pd.read_csv(\"SampleSuperstore.csv\")"
   ]
  },
  {
   "cell_type": "code",
   "execution_count": 21,
   "id": "4722446c-389d-4543-9280-9558e0a07bb7",
   "metadata": {},
   "outputs": [
    {
     "name": "stderr",
     "output_type": "stream",
     "text": [
      "File: SampleSuperstore.csv wrapped successfully.\n"
     ]
    }
   ],
   "source": [
    "origin_ds = vect.FileResource(paths=\"SampleSuperstore.csv\", dataframes=df)\n",
    "\n",
    "\n",
    "origin_dataset = vect.Dataset.origin(\n",
    "    name=\"SampleSuperstore origin dataset\",\n",
    "    resource=origin_ds, \n",
    ")"
   ]
  },
  {
   "cell_type": "code",
   "execution_count": 24,
   "id": "53bdadfd-c9d3-4c6e-acb4-930751df7a54",
   "metadata": {},
   "outputs": [
    {
     "name": "stderr",
     "output_type": "stream",
     "text": [
      "New Version: 'Version 3' of Dataset: 'SampleSuperstore origin dataset' added to Step: Collect Initial Data\n",
      "Attachments: None\n",
      "Link to Step: https://dev.vectice.com/browse/iteration/ITR-330\n",
      "\n"
     ]
    }
   ],
   "source": [
    "iteration.step_collect_initial_data = origin_dataset"
   ]
  },
  {
   "cell_type": "code",
   "execution_count": 25,
   "id": "140a4667-ba4c-492b-820b-cfa676dfe184",
   "metadata": {},
   "outputs": [
    {
     "name": "stderr",
     "output_type": "stream",
     "text": [
      "Added Comment to Step: Describe Data\n",
      "\n",
      "Link to Step: https://dev.vectice.com/browse/iteration/ITR-330\n",
      "\n"
     ]
    }
   ],
   "source": [
    "iteration.step_describe_data = str(df.columns)"
   ]
  },
  {
   "cell_type": "code",
   "execution_count": 26,
   "id": "473c3d35-7050-4a06-b867-b2861755ee3d",
   "metadata": {},
   "outputs": [
    {
     "data": {
      "image/png": "[encoded data removed]",
      "text/plain": [
       "<Figure size 432x288 with 2 Axes>"
      ]
     },
     "metadata": {
      "needs_background": "light"
     },
     "output_type": "display_data"
    }
   ],
   "source": [
    "## Checking for Multicollinearity\n",
    "corr_matrix=df.select_dtypes(\"number\").drop(\"Sales\",axis=1).corr()\n",
    "sns.heatmap(corr_matrix);\n",
    "plt.savefig(\"corr_matrix.png\")"
   ]
  },
  {
   "cell_type": "code",
   "execution_count": 27,
   "id": "e95ed5c6-fb4b-47be-bd7c-00747f8a4f3e",
   "metadata": {},
   "outputs": [
    {
     "name": "stderr",
     "output_type": "stream",
     "text": [
      "Added Image: 'corr_matrix.png' to Step: Explore data\n",
      "\n",
      "Link to Step: https://dev.vectice.com/browse/iteration/ITR-330\n",
      "\n"
     ]
    }
   ],
   "source": [
    "iteration.step_explore_data = \"corr_matrix.png\""
   ]
  },
  {
   "cell_type": "code",
   "execution_count": 28,
   "id": "610982ee-52ae-4c3c-a960-82148022cfc8",
   "metadata": {},
   "outputs": [
    {
     "name": "stderr",
     "output_type": "stream",
     "text": [
      "C:\\Users\\Aidan\\AppData\\Local\\Programs\\Python\\Python39\\lib\\site-packages\\seaborn\\distributions.py:2557: FutureWarning: `distplot` is a deprecated function and will be removed in a future version. Please adapt your code to use either `displot` (a figure-level function with similar flexibility) or `histplot` (an axes-level function for histograms).\n",
      "  warnings.warn(msg, FutureWarning)\n"
     ]
    },
    {
     "data": {
      "image/png": "[encoded data removed]",
      "text/plain": [
       "<Figure size 432x288 with 1 Axes>"
      ]
     },
     "metadata": {
      "needs_background": "light"
     },
     "output_type": "display_data"
    }
   ],
   "source": [
    "#Checking for outliers\n",
    "sns.distplot(df[\"Profit\"]);\n",
    "plt.savefig(\"Profit.png\")"
   ]
  },
  {
   "cell_type": "code",
   "execution_count": 29,
   "id": "0fe25405-f3fa-4bde-962f-ac3b8e39ee72",
   "metadata": {},
   "outputs": [
    {
     "name": "stderr",
     "output_type": "stream",
     "text": [
      "Added Image: 'Profit.png' to Step: Explore data\n",
      "\n",
      "Link to Step: https://dev.vectice.com/browse/iteration/ITR-330\n",
      "\n"
     ]
    }
   ],
   "source": [
    "iteration.step_explore_data +=\"Profit.png\""
   ]
  },
  {
   "cell_type": "code",
   "execution_count": 30,
   "id": "9e200853-9172-4e9a-a2e0-476beaabcd91",
   "metadata": {},
   "outputs": [
    {
     "name": "stderr",
     "output_type": "stream",
     "text": [
      "C:\\Users\\Aidan\\AppData\\Local\\Programs\\Python\\Python39\\lib\\site-packages\\seaborn\\distributions.py:2557: FutureWarning: `distplot` is a deprecated function and will be removed in a future version. Please adapt your code to use either `displot` (a figure-level function with similar flexibility) or `histplot` (an axes-level function for histograms).\n",
      "  warnings.warn(msg, FutureWarning)\n"
     ]
    },
    {
     "data": {
      "image/png": "[encoded data removed]",
      "text/plain": [
       "<Figure size 432x288 with 1 Axes>"
      ]
     },
     "metadata": {
      "needs_background": "light"
     },
     "output_type": "display_data"
    }
   ],
   "source": [
    "#Checking for outliers\n",
    "sns.distplot(df[\"Quantity\"])\n",
    "plt.savefig(\"Quantity.png\")"
   ]
  },
  {
   "cell_type": "code",
   "execution_count": 31,
   "id": "07eff006-fef5-476c-859a-c01947c84c4e",
   "metadata": {},
   "outputs": [
    {
     "name": "stderr",
     "output_type": "stream",
     "text": [
      "Added Image: 'Quantity.png' to Step: Explore data\n",
      "\n",
      "Link to Step: https://dev.vectice.com/browse/iteration/ITR-330\n",
      "\n"
     ]
    }
   ],
   "source": [
    "iteration.step_explore_data += \"Quantity.png\""
   ]
  },
  {
   "cell_type": "code",
   "execution_count": null,
   "id": "63af9b54-443b-44b8-a765-640f06169765",
   "metadata": {},
   "outputs": [],
   "source": []
  }
 ],
 "metadata": {
  "kernelspec": {
   "display_name": "Python 3",
   "language": "python",
   "name": "python3"
  },
  "language_info": {
   "codemirror_mode": {
    "name": "ipython",
    "version": 3
   },
   "file_extension": ".py",
   "mimetype": "text/x-python",
   "name": "python",
   "nbconvert_exporter": "python",
   "pygments_lexer": "ipython3",
   "version": "3.9.5"
  }
 },
 "nbformat": 4,
 "nbformat_minor": 5
}
