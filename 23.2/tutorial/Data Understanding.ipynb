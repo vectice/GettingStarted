{
 "cells": [
  {
   "attachments": {},
   "cell_type": "markdown",
   "id": "eabedfd0-bda4-4a9f-9ef2-6514a91dbb98",
   "metadata": {},
   "source": [
    "# References\n",
    "\n",
    "- Vectice Documentation: https://docs.vectice.com/\n",
    "- Vectice API Documentation: https://api-docs.vectice.com/"
   ]
  },
  {
   "cell_type": "code",
   "execution_count": 3,
   "id": "6e6350fb-5aec-448e-9e86-4715055033ee",
   "metadata": {},
   "outputs": [],
   "source": [
    "import warnings\n",
    "warnings.filterwarnings(\"ignore\", category=DeprecationWarning)"
   ]
  },
  {
   "cell_type": "code",
   "execution_count": 34,
   "id": "dc1525e3-eb5c-4e5b-855f-47dc2229afbf",
   "metadata": {},
   "outputs": [],
   "source": [
    "import pandas as pd\n",
    "import numpy as np\n",
    "import seaborn as sns\n",
    "import matplotlib.pyplot as plt"
   ]
  },
  {
   "attachments": {},
   "cell_type": "markdown",
   "id": "6da9fd84-09a0-4d30-bc00-c91dea5cd98f",
   "metadata": {},
   "source": [
    "## Install the latest Vectice Python client library"
   ]
  },
  {
   "cell_type": "code",
   "execution_count": null,
   "id": "43c38240-69a2-41fb-bda7-46b7c40b963f",
   "metadata": {},
   "outputs": [],
   "source": [
    "%pip install --q vectice -U"
   ]
  },
  {
   "attachments": {},
   "cell_type": "markdown",
   "id": "10195b2a-a959-4a7b-a20b-e45c292930ef",
   "metadata": {},
   "source": [
    "## Get started by connecting to Vectice"
   ]
  },
  {
   "cell_type": "code",
   "execution_count": 47,
   "id": "d34bced5-491f-400b-ac5d-e4665f6f6ae8",
   "metadata": {},
   "outputs": [
    {
     "name": "stderr",
     "output_type": "stream",
     "text": [
      "VECTICE_API_ENDPOINT is deprecated and will be removed in 23.3.1.0, please use VECTICE_HOST instead.\n",
      "Welcome, bdaversa. You`re now successfully connected to Vectice.\n",
      "\n",
      "To access your personal workspace, use \u001b[1mconnection\u001b[0m.my_workspace\n",
      "To access a specific workspace, use \u001b[1mconnection\u001b[0m.workspace(Workspace ID)\n",
      "To get a list of workspaces you can access and their IDs, use \u001b[1mconnection\u001b[0m.list_workspaces()\n",
      "\n",
      "If you are using a notebook you can call the help by using a Vectice returned object with the builtin notebook \"?\":\n",
      ">> connection?\n",
      "\n",
      "If you are using an IDE you can call the help() method on any object returned by Vectice:\n",
      ">> help(connection)\n",
      "\n",
      "For quick access to your default workspace in the Vectice web app, visit:\n",
      "https://qa.vectice.com/browse/workspace/WSP-309\n"
     ]
    }
   ],
   "source": [
    "import vectice as vect\n",
    "\n",
    "vec = vect.connect(config=\"My-token.json\") #Put your own token"
   ]
  },
  {
   "attachments": {},
   "cell_type": "markdown",
   "id": "90a36ebc-023d-4f18-8382-8d92044492e3",
   "metadata": {},
   "source": [
    "## Specify which project phase you want to document\n",
    "In Vectice UI, navigate to your personal workspace inside your default Tutorial project go to the Data Understanding phase and copy paste your Phase Id below."
   ]
  },
  {
   "cell_type": "code",
   "execution_count": 48,
   "id": "9d57e0e9-fc47-4b91-81b0-2f79907c901a",
   "metadata": {},
   "outputs": [
    {
     "name": "stderr",
     "output_type": "stream",
     "text": [
      "Phase 'Data Understanding' successfully retrieved.\"\n",
      "\n",
      "For quick access to the Phase in the Vectice web app, visit:\n",
      "https://qa.vectice.com/browse/phase/PHA-5858\n"
     ]
    }
   ],
   "source": [
    "phase = vec.phase(\"PHA-xxxx\") #Put your own Data Understanding Phase ID"
   ]
  },
  {
   "attachments": {},
   "cell_type": "markdown",
   "id": "9a7957b4-c5dc-49ff-9612-f58ee9e63146",
   "metadata": {},
   "source": [
    "## Next we are going to create an iteration\n",
    "An iteration allows you to organize your work in repeatable sequences of steps. You can have multiple iteration within a phase"
   ]
  },
  {
   "cell_type": "code",
   "execution_count": 49,
   "id": "b315169a-d68f-4a17-9b39-56694b8be697",
   "metadata": {},
   "outputs": [
    {
     "name": "stderr",
     "output_type": "stream",
     "text": [
      "New Iteration number '1' created.\n",
      "\n",
      "For quick access to the Iteration in the Vectice web app, visit:\n",
      "https://qa.vectice.com/browse/iteration/ITR-2255\n"
     ]
    }
   ],
   "source": [
    "iteration = phase.create_iteration()"
   ]
  },
  {
   "cell_type": "code",
   "execution_count": 50,
   "id": "6c59effc-5b3f-4b75-aae4-f3d46be1218f",
   "metadata": {},
   "outputs": [],
   "source": [
    "df = pd.read_csv(\"https://raw.githubusercontent.com/vectice/GettingStarted/23.2.4.1-Tutorial_update/23.2/tutorial/SampleSuperstore.csv\")"
   ]
  },
  {
   "attachments": {},
   "cell_type": "markdown",
   "id": "ef495b02-b785-41d5-8741-0796c3cf8da2",
   "metadata": {},
   "source": [
    "### Push a dataset with an image as attachements\n",
    "Use the following code block to create a local dataset and generate an image:"
   ]
  },
  {
   "cell_type": "code",
   "execution_count": 51,
   "id": "4722446c-389d-4543-9280-9558e0a07bb7",
   "metadata": {},
   "outputs": [
    {
     "name": "stderr",
     "output_type": "stream",
     "text": [
      "File: SampleSuperstore.csv wrapped successfully.\n"
     ]
    }
   ],
   "source": [
    "origin_ds = vect.FileResource(paths=\"SampleSuperstore.csv\", dataframes=df)\n",
    "\n",
    "\n",
    "origin_dataset = vect.Dataset.origin(\n",
    "    name=\"ProductSales Origin\",\n",
    "    resource=origin_ds, \n",
    ")"
   ]
  },
  {
   "cell_type": "code",
   "execution_count": 52,
   "id": "53bdadfd-c9d3-4c6e-acb4-930751df7a54",
   "metadata": {},
   "outputs": [
    {
     "name": "stderr",
     "output_type": "stream",
     "text": [
      "Capturing diff failed for file: 23.2/tutorial/Data_Preparation.ipynb\n",
      "Capturing diff failed for file: 23.2/tutorial/Data_Understanding.ipynb\n",
      "Capturing diff failed for file: 23.2/tutorial/Model Retraining.ipynb\n",
      "Capturing diff failed for file: 23.2/tutorial/Modeling_LR.ipynb\n",
      "Code captured the following changed files; 23.2/tutorial/Data Preparation.ipynb, 23.2/tutorial/Data Understanding.ipynb, 23.2/tutorial/Model Deployment.ipynb, 23.2/tutorial/Model Staging.ipynb, 23.2/tutorial/Modeling.ipynb\n",
      "New Dataset: 'ProductSales Origin' Version: 'Version 1' added to Step: Collect Initial Data\n",
      "Attachments: None\n",
      "Link to Step: https://qa.vectice.com/browse/iteration/ITR-2255\n",
      "\n"
     ]
    }
   ],
   "source": [
    "iteration.step_collect_initial_data = origin_dataset"
   ]
  },
  {
   "cell_type": "code",
   "execution_count": 53,
   "id": "140a4667-ba4c-492b-820b-cfa676dfe184",
   "metadata": {},
   "outputs": [
    {
     "name": "stderr",
     "output_type": "stream",
     "text": [
      "Added Comment to Step: Describe Data\n",
      "\n",
      "Link to Step: https://qa.vectice.com/browse/iteration/ITR-2255\n",
      "\n"
     ]
    }
   ],
   "source": [
    "iteration.step_describe_data = str(df.columns.values)"
   ]
  },
  {
   "cell_type": "code",
   "execution_count": 54,
   "id": "473c3d35-7050-4a06-b867-b2861755ee3d",
   "metadata": {},
   "outputs": [
    {
     "data": {
      "image/png": "[encoded data removed]",
      "text/plain": [
       "<Figure size 640x480 with 2 Axes>"
      ]
     },
     "metadata": {},
     "output_type": "display_data"
    }
   ],
   "source": [
    "## Checking for Multicollinearity\n",
    "corr_matrix=df.select_dtypes(\"number\").drop(\"Sales\",axis=1).corr()\n",
    "sns.heatmap(corr_matrix);\n",
    "plt.savefig(\"corr_matrix.png\")"
   ]
  },
  {
   "cell_type": "code",
   "execution_count": 55,
   "id": "e95ed5c6-fb4b-47be-bd7c-00747f8a4f3e",
   "metadata": {},
   "outputs": [
    {
     "name": "stderr",
     "output_type": "stream",
     "text": [
      "Added Image: 'corr_matrix.png' to Step: Explore data\n",
      "\n",
      "Link to Step: https://qa.vectice.com/browse/iteration/ITR-2255\n",
      "\n"
     ]
    }
   ],
   "source": [
    "iteration.step_explore_data += \"corr_matrix.png\""
   ]
  },
  {
   "cell_type": "code",
   "execution_count": 56,
   "id": "9e200853-9172-4e9a-a2e0-476beaabcd91",
   "metadata": {},
   "outputs": [
    {
     "name": "stderr",
     "output_type": "stream",
     "text": [
      "/var/folders/db/rdyx07495wxbzv8q924p0tph0000gn/T/ipykernel_2825/862432529.py:2: UserWarning: \n",
      "\n",
      "`distplot` is a deprecated function and will be removed in seaborn v0.14.0.\n",
      "\n",
      "Please adapt your code to use either `displot` (a figure-level function with\n",
      "similar flexibility) or `histplot` (an axes-level function for histograms).\n",
      "\n",
      "For a guide to updating your code to use the new functions, please see\n",
      "https://gist.github.com/mwaskom/de44147ed2974457ad6372750bbe5751\n",
      "\n",
      "  sns.distplot(df[\"Quantity\"])\n"
     ]
    },
    {
     "data": {
      "image/png": "[encoded data removed]",
      "text/plain": [
       "<Figure size 640x480 with 1 Axes>"
      ]
     },
     "metadata": {},
     "output_type": "display_data"
    }
   ],
   "source": [
    "#Checking for outliers\n",
    "sns.distplot(df[\"Quantity\"])\n",
    "plt.savefig(\"Quantity.png\")"
   ]
  },
  {
   "cell_type": "code",
   "execution_count": 57,
   "id": "07eff006-fef5-476c-859a-c01947c84c4e",
   "metadata": {},
   "outputs": [
    {
     "name": "stderr",
     "output_type": "stream",
     "text": [
      "Added Image: 'Quantity.png' to Step: Explore data\n",
      "\n",
      "Link to Step: https://qa.vectice.com/browse/iteration/ITR-2255\n",
      "\n"
     ]
    }
   ],
   "source": [
    "iteration.step_explore_data += \"Quantity.png\""
   ]
  },
  {
   "cell_type": "code",
   "execution_count": 58,
   "id": "4ec7ecfc",
   "metadata": {},
   "outputs": [
    {
     "name": "stderr",
     "output_type": "stream",
     "text": [
      "Iteration with index 1 completed.\n",
      "\n",
      "For quick access to the Iteration in the Vectice web app, visit:\n",
      "https://qa.vectice.com/browse/iteration/ITR-2255\n"
     ]
    }
   ],
   "source": [
    "iteration.complete()"
   ]
  }
 ],
 "metadata": {
  "kernelspec": {
   "display_name": "Python 3",
   "language": "python",
   "name": "python3"
  },
  "language_info": {
   "codemirror_mode": {
    "name": "ipython",
    "version": 3
   },
   "file_extension": ".py",
   "mimetype": "text/x-python",
   "name": "python",
   "nbconvert_exporter": "python",
   "pygments_lexer": "ipython3",
   "version": "3.9.6"
  }
 },
 "nbformat": 4,
 "nbformat_minor": 5
}
