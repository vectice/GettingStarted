{
 "cells": [
  {
   "attachments": {},
   "cell_type": "markdown",
   "id": "43ca7ce4-3223-401e-a4af-cc7603f196a0",
   "metadata": {},
   "source": [
    "# References\n",
    "\n",
    "- Vectice Documentation: https://docs.vectice.com/\n",
    "- Vectice API Documentation: https://api-docs.vectice.com/"
   ]
  },
  {
   "attachments": {},
   "cell_type": "markdown",
   "id": "156659ab-68d8-42bf-a296-b81419b77f59",
   "metadata": {},
   "source": [
    "## Install the latest Vectice Python client library"
   ]
  },
  {
   "cell_type": "code",
   "execution_count": null,
   "id": "13672b5c-e784-4c7c-a47b-1215a47a593a",
   "metadata": {},
   "outputs": [],
   "source": [
    "%pip install --q vectice -U"
   ]
  },
  {
   "attachments": {},
   "cell_type": "markdown",
   "id": "00d29059-b8b9-422e-bc6f-5c66fce6596c",
   "metadata": {},
   "source": [
    "## Get started by connecting to Vectice"
   ]
  },
  {
   "cell_type": "code",
   "execution_count": 32,
   "id": "1645ed95-ef27-444a-b991-b35b7c9cad88",
   "metadata": {},
   "outputs": [
    {
     "name": "stderr",
     "output_type": "stream",
     "text": [
      "VECTICE_API_ENDPOINT is deprecated and will be removed in 23.3.1.0, please use VECTICE_HOST instead.\n",
      "Welcome, bdaversa. You`re now successfully connected to Vectice.\n",
      "\n",
      "To access your personal workspace, use \u001b[1mconnection\u001b[0m.my_workspace\n",
      "To access a specific workspace, use \u001b[1mconnection\u001b[0m.workspace(Workspace ID)\n",
      "To get a list of workspaces you can access and their IDs, use \u001b[1mconnection\u001b[0m.list_workspaces()\n",
      "\n",
      "If you are using a notebook you can call the help by using a Vectice returned object with the builtin notebook \"?\":\n",
      ">> connection?\n",
      "\n",
      "If you are using an IDE you can call the help() method on any object returned by Vectice:\n",
      ">> help(connection)\n",
      "\n",
      "For quick access to your default workspace in the Vectice web app, visit:\n",
      "https://qa.vectice.com/browse/workspace/WSP-309\n"
     ]
    }
   ],
   "source": [
    "import vectice as vect\n",
    "\n",
    "vec = vect.connect(config=\"My-token.json\") #Put your own Token"
   ]
  },
  {
   "attachments": {},
   "cell_type": "markdown",
   "id": "be757d4c-5049-43f6-b932-84b49c7038a0",
   "metadata": {},
   "source": [
    "## Specify which project phase you want to document\n",
    "In Vectice UI, navigate to your personal workspace inside your default Tutorial project go to the Model Staging and copy paste your Phase Id below."
   ]
  },
  {
   "cell_type": "code",
   "execution_count": 33,
   "id": "cfc1ff71-4a3b-4a70-adcd-7bbf690c5134",
   "metadata": {},
   "outputs": [
    {
     "name": "stderr",
     "output_type": "stream",
     "text": [
      "Phase 'Copy of Model Staging' successfully retrieved.\"\n",
      "\n",
      "For quick access to the Phase in the Vectice web app, visit:\n",
      "https://qa.vectice.com/browse/phase/PHA-5851\n"
     ]
    }
   ],
   "source": [
    "phase = vec.phase(\"PHA-5851\") #Put your own Model Staging Phase ID"
   ]
  },
  {
   "attachments": {},
   "cell_type": "markdown",
   "id": "361081b0-0995-4c05-924f-8feaab8fdde1",
   "metadata": {},
   "source": [
    "## Next we are going to create an iteration\n",
    "An iteration allows you to organize your work in repeatable sequences of steps. You can have multiple iteration within a phase"
   ]
  },
  {
   "cell_type": "code",
   "execution_count": 34,
   "id": "94afc70e-37c1-475d-bc62-1bb8bdb887cd",
   "metadata": {},
   "outputs": [
    {
     "name": "stderr",
     "output_type": "stream",
     "text": [
      "New Iteration number '1' created.\n",
      "\n",
      "For quick access to the Iteration in the Vectice web app, visit:\n",
      "https://qa.vectice.com/browse/iteration/ITR-2252\n"
     ]
    }
   ],
   "source": [
    "staging_iteration = phase.create_iteration()"
   ]
  },
  {
   "attachments": {},
   "cell_type": "markdown",
   "id": "8667308a-bf28-4b8d-8553-9d05a8158e03",
   "metadata": {},
   "source": [
    "## Retrieve A Previously Created Datasets\n",
    "You can retrieve a variety of Vectice Objects with the browse('VECTICE-ID') method. Namely, Phases, Iterations, Datasets, Models..."
   ]
  },
  {
   "cell_type": "code",
   "execution_count": 35,
   "id": "d934877d-cbba-4bc2-93d5-d723fa37b654",
   "metadata": {},
   "outputs": [
    {
     "name": "stderr",
     "output_type": "stream",
     "text": [
      "Dataset 'ProductSales Origin' successfully retrieved.\"\n",
      "\n",
      "For quick access to the Dataset in the Vectice web app, visit:\n",
      "https://qa.vectice.com/browse/dataset/DTS-3120\n",
      "Dataset 'ProductSales Cleaned' successfully retrieved.\"\n",
      "\n",
      "For quick access to the Dataset in the Vectice web app, visit:\n",
      "https://qa.vectice.com/browse/dataset/DTS-3121\n",
      "Dataset 'ProductSales Modeling' successfully retrieved.\"\n",
      "\n",
      "For quick access to the Dataset in the Vectice web app, visit:\n",
      "https://qa.vectice.com/browse/dataset/DTS-3122\n"
     ]
    }
   ],
   "source": [
    "origin_ds = vec.browse(\"DTS-3120\")  # Put your Origin Dataset ID (i.e ProductSales Origin) created on Data Understanding phase\n",
    "cleaned_ds = vec.browse(\"DTS-3121\")  # Put your Cleaned Dataset ID (i.e ProductSales Cleaned) created on Data Preparation phase\n",
    "modeling_dataset = vec.browse(\"DTS-3122\")  # Put your Model Dataset ID (i.e ProductSales Modeling) created on Data Modeling phase"
   ]
  },
  {
   "attachments": {},
   "cell_type": "markdown",
   "id": "5562fc69-f3fd-41f2-a09b-21c0322f4a6a",
   "metadata": {},
   "source": [
    "## Push a Model\n",
    "\n",
    "Use the following code block to create a local Model"
   ]
  },
  {
   "cell_type": "code",
   "execution_count": 42,
   "id": "94d501da-41e2-46f6-890c-21a36e188b42",
   "metadata": {},
   "outputs": [],
   "source": [
    "vect_model = vect.Model(library=\"scikit-learn\", technique=\"Ridge Regression Stage\", metrics={\"mae_test\": 63.37}, properties={\"quarter\": \"Q1\"}, derived_from=modeling_dataset)"
   ]
  },
  {
   "cell_type": "code",
   "execution_count": 37,
   "id": "dc49e9c6-93f6-473a-84ff-13e5f72052bb",
   "metadata": {},
   "outputs": [
    {
     "name": "stderr",
     "output_type": "stream",
     "text": [
      "New Version: 'Version 1' of Dataset: 'ProductSales Origin' added to Step: Ingest Data\n",
      "Attachments: None\n",
      "Link to Step: https://qa.vectice.com/browse/iteration/ITR-2252\n",
      "\n"
     ]
    }
   ],
   "source": [
    "staging_iteration.step_ingest_data = origin_ds"
   ]
  },
  {
   "cell_type": "code",
   "execution_count": 38,
   "id": "703aa51a-8476-4356-9326-58e0582e7b3c",
   "metadata": {},
   "outputs": [
    {
     "name": "stderr",
     "output_type": "stream",
     "text": [
      "New Version: 'Version 1' of Dataset: 'ProductSales Cleaned' added to Step: Preprocess Data\n",
      "Attachments: Profit.png, Quantity.png\n",
      "Link to Step: https://qa.vectice.com/browse/iteration/ITR-2252\n",
      "\n"
     ]
    }
   ],
   "source": [
    "staging_iteration.step_preprocess_data = cleaned_ds"
   ]
  },
  {
   "cell_type": "code",
   "execution_count": 39,
   "id": "145e04ed-09e3-4d33-bff5-c8ab51425594",
   "metadata": {},
   "outputs": [
    {
     "name": "stderr",
     "output_type": "stream",
     "text": [
      "New Model: 'scikit-learn Ridge Regression Stage model' Version: 'Version 1' added to Step: Train Model\n",
      "Attachments: None\n",
      "Link to Step: https://qa.vectice.com/browse/iteration/ITR-2252\n",
      "\n"
     ]
    }
   ],
   "source": [
    "staging_iteration.step_train_model = vect_model"
   ]
  },
  {
   "attachments": {},
   "cell_type": "markdown",
   "id": "42e6cd6b-f39e-4b2d-a69f-22e9a5ab7bbd",
   "metadata": {},
   "source": [
    "## Add a Comment\n",
    "Use the following code block to add a comment"
   ]
  },
  {
   "cell_type": "code",
   "execution_count": 40,
   "id": "e33d20d7-e6ca-49bf-b4e5-fbe72795edfd",
   "metadata": {},
   "outputs": [
    {
     "name": "stderr",
     "output_type": "stream",
     "text": [
      "Added Comment to Step: Evaluate Model\n",
      "\n",
      "Link to Step: https://qa.vectice.com/browse/iteration/ITR-2252\n",
      "\n"
     ]
    }
   ],
   "source": [
    "staging_iteration.step_evaluate_model = \"\"\"Evaluation:\\nMAE vs Threshold: 63.37 vs 98 from Baseline \\nModel passed acceptance critera.\"\"\""
   ]
  },
  {
   "cell_type": "code",
   "execution_count": 41,
   "id": "e2b804da",
   "metadata": {},
   "outputs": [
    {
     "name": "stderr",
     "output_type": "stream",
     "text": [
      "Iteration with index 1 completed.\n",
      "\n",
      "For quick access to the Iteration in the Vectice web app, visit:\n",
      "https://qa.vectice.com/browse/iteration/ITR-2252\n"
     ]
    }
   ],
   "source": [
    "staging_iteration.complete()\n"
   ]
  }
 ],
 "metadata": {
  "kernelspec": {
   "display_name": "Python 3",
   "language": "python",
   "name": "python3"
  },
  "language_info": {
   "codemirror_mode": {
    "name": "ipython",
    "version": 3
   },
   "file_extension": ".py",
   "mimetype": "text/x-python",
   "name": "python",
   "nbconvert_exporter": "python",
   "pygments_lexer": "ipython3",
   "version": "3.9.6"
  }
 },
 "nbformat": 4,
 "nbformat_minor": 5
}
