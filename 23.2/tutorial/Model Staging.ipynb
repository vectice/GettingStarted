{
 "cells": [
  {
   "cell_type": "code",
   "execution_count": null,
   "id": "8c0e3b6a-c343-4314-a3ac-1861eec3d137",
   "metadata": {},
   "outputs": [],
   "source": []
  },
  {
   "cell_type": "code",
   "execution_count": null,
   "id": "1645ed95-ef27-444a-b991-b35b7c9cad88",
   "metadata": {},
   "outputs": [],
   "source": [
    "# %pip install --q vectice -U\n",
    "import vectice as vect\n",
    "\n",
    "vec = vect.connect(config=\"tut.json\")"
   ]
  },
  {
   "cell_type": "code",
   "execution_count": null,
   "id": "7811ec3e-1b34-425f-b9ea-7d8d5074f6d1",
   "metadata": {},
   "outputs": [],
   "source": [
    "workspace = vec.workspace(\"Create Sample Tutorial Project\") # Your personal workspace can be access with my_workspace property"
   ]
  },
  {
   "cell_type": "code",
   "execution_count": null,
   "id": "d5c366e2-6f17-4654-9b24-ceb246009bda",
   "metadata": {},
   "outputs": [],
   "source": [
    "project = workspace.project(\"Store Sales Prediction\") # pass the ID of your tutorial project"
   ]
  },
  {
   "cell_type": "code",
   "execution_count": null,
   "id": "94afc70e-37c1-475d-bc62-1bb8bdb887cd",
   "metadata": {},
   "outputs": [],
   "source": [
    "staging_iteration = project.phase(\"PHA-1173\").create_iteration()"
   ]
  },
  {
   "cell_type": "code",
   "execution_count": null,
   "id": "d934877d-cbba-4bc2-93d5-d723fa37b654",
   "metadata": {},
   "outputs": [],
   "source": [
    "origin_ds = vec.browse(\"DTV-1622\")\n",
    "prepared_ds = vec.browse(\"DTV-1624\")\n",
    "modeling_dataset = vec.browse(\"DTV-1627\")"
   ]
  },
  {
   "cell_type": "code",
   "execution_count": null,
   "id": "94d501da-41e2-46f6-890c-21a36e188b42",
   "metadata": {},
   "outputs": [],
   "source": [
    "vect_model = vect.Model(library=\"scikit-learn\", technique=\"Ridge Regression Stage\", metrics={\"mae_train\": round(mae_train,2), \"mae_test\": round(mae_test,2)}, \n",
    "                        properties=model.named_steps, predictor=model, derived_from=modeling_dataset)"
   ]
  },
  {
   "cell_type": "code",
   "execution_count": null,
   "id": "dc49e9c6-93f6-473a-84ff-13e5f72052bb",
   "metadata": {},
   "outputs": [],
   "source": [
    "staging_iteration.step_ingest_data = origin_ds"
   ]
  },
  {
   "cell_type": "code",
   "execution_count": null,
   "id": "703aa51a-8476-4356-9326-58e0582e7b3c",
   "metadata": {},
   "outputs": [],
   "source": [
    "staging_iteration.step_preprocess_data = prepared_ds"
   ]
  },
  {
   "cell_type": "code",
   "execution_count": null,
   "id": "145e04ed-09e3-4d33-bff5-c8ab51425594",
   "metadata": {},
   "outputs": [],
   "source": [
    "staging_iteration.step_train_model = vect_model"
   ]
  },
  {
   "cell_type": "code",
   "execution_count": null,
   "id": "e33d20d7-e6ca-49bf-b4e5-fbe72795edfd",
   "metadata": {},
   "outputs": [],
   "source": [
    "staging_iteration.step_evaluate_model = \"\"\"Evaluation:\\nMAE vs Threshold: 63.37 vs 0.5 - 0.65\\nModel passed acceptance critera.\"\"\""
   ]
  }
 ],
 "metadata": {
  "kernelspec": {
   "display_name": "Python 3",
   "language": "python",
   "name": "python3"
  },
  "language_info": {
   "codemirror_mode": {
    "name": "ipython",
    "version": 3
   },
   "file_extension": ".py",
   "mimetype": "text/x-python",
   "name": "python",
   "nbconvert_exporter": "python",
   "pygments_lexer": "ipython3",
   "version": "3.9.5"
  }
 },
 "nbformat": 4,
 "nbformat_minor": 5
}
