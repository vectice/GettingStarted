{
  "cells": [
    {
      "attachments": {},
      "cell_type": "markdown",
      "id": "8863e299",
      "metadata": {},
      "source": [
        "# Before your start with this Tutorial\n",
        "\n",
        "**Tutorial Intention:** Providing an example of iteration and related step on a modeling phase for you to:\n",
        "\n",
        "*   Experience the data science lifecycle using Vectice\n",
        "*   See how simple it is to connect your notebook to Vectice\n",
        "*   Learn how to structure and log your work using Vectice\n",
        "\n",
        "**Resources needed:**\n",
        "*   <b>Tutorial Project: Forecast in-store unit sales (23.2)</b> - You can find it as part of your personal workspace       \n",
        "\n",
        "**Other resources:**\n",
        "*   Vectice Webapp Documentation: https://docs.vectice.com/\n",
        "*   Vectice API documentation: https://api-docs.vectice.com/"
      ]
    },
    {
      "attachments": {},
      "cell_type": "markdown",
      "id": "ac2fc210",
      "metadata": {},
      "source": [
        "# 1. Getting Started         \n",
        "\n",
        "**First, we need to install and authenticate ourselves to the Vectice server. Before proceeding further:**\n",
        "*   Visit the Vectice app (https://app.vectice.com/account/api-keys) to create and download an API token, name the file as \"My Token\"\n",
        "*   Upload the file to Colab by clicking on the \"folder\" icon on the left-hand taskbar and selecting \"Upload to Session Storage\"\n",
        "\n",
        "* If you then execute"
      ]
    },
    {
      "cell_type": "code",
      "execution_count": null,
      "id": "01ff6862",
      "metadata": {},
      "outputs": [],
      "source": [
        "%pip install --q vectice -U\n",
        "import vectice as vct\n",
        "\n",
        "vec = vct.connect(config=\"My Token.json\")"
      ]
    },
    {
      "attachments": {},
      "cell_type": "markdown",
      "id": "56290135",
      "metadata": {},
      "source": [
        "#### You have successfully installed Vectice in your notebook and connected to your instance. \n",
        "#### Wasn't that easy?"
      ]
    },
    {
      "attachments": {},
      "cell_type": "markdown",
      "id": "0c2f6e66",
      "metadata": {},
      "source": [
        "# 2. Navigating the Vectice API\n",
        "\n",
        "#### Next, navigate your way to your personal workspace. Go ahead and execute the cell below to navigate to your workspace. "
      ]
    },
    {
      "cell_type": "code",
      "execution_count": null,
      "id": "cdff36da",
      "metadata": {},
      "outputs": [],
      "source": [
        "active_wksp = vec.my_workspace # Your personal workspace can be access with my_workspace property"
      ]
    },
    {
      "attachments": {},
      "cell_type": "markdown",
      "id": "816635a0",
      "metadata": {},
      "source": [
        "#### Let's list all the projects it contains, execute:"
      ]
    },
    {
      "cell_type": "code",
      "execution_count": null,
      "id": "36f50597",
      "metadata": {},
      "outputs": [],
      "source": [
        "active_wksp.list_projects()"
      ]
    },
    {
      "attachments": {},
      "cell_type": "markdown",
      "id": "aff20805",
      "metadata": {},
      "source": [
        "#### Make a note of the Tutorial project ID and Name\n",
        "#### Before we continue, let’s take a moment to look at how API documentation works in Vectice. Execute:"
      ]
    },
    {
      "cell_type": "code",
      "execution_count": null,
      "id": "ecc1d6b0",
      "metadata": {},
      "outputs": [],
      "source": [
        "help(active_wksp.project) # you can call help on any method in Vectice"
      ]
    },
    {
      "attachments": {},
      "cell_type": "markdown",
      "id": "71eec1c2",
      "metadata": {},
      "source": [
        "#### to call the “project()” method’s documentation. \n",
        "#### In the Vectice API, you can call “help” on any method to understand how said method is used.\n",
        "\n",
        "\n",
        "#### Now that you’ve familiarized yourself with the help method, let’s keep moving. Using the Name or ID of the tutorial project, execute\n"
      ]
    },
    {
      "cell_type": "code",
      "execution_count": null,
      "id": "db57c96f",
      "metadata": {},
      "outputs": [],
      "source": [
        "active_proj = active_wksp.project(\"Tutorial Project: Forecast in store unit sales (23.2)\") # pass the name or ID of your tutorial project"
      ]
    },
    {
      "attachments": {},
      "cell_type": "markdown",
      "id": "584f0777",
      "metadata": {},
      "source": [
        "#### to create a pointer to the tutorial project. \n",
        "#### For this tutorial scenario, we’ve created a project template with 6 different project phases for you, some with specific steps we need to complete.\n",
        "\n",
        "#### Go ahead and execute"
      ]
    },
    {
      "cell_type": "code",
      "execution_count": null,
      "id": "41655aa8",
      "metadata": {},
      "outputs": [],
      "source": [
        "active_proj.list_phases()"
      ]
    },
    {
      "attachments": {},
      "cell_type": "markdown",
      "id": "f9c38f3d",
      "metadata": {},
      "source": [
        "#### To retrieve a list of phases and their statuses.\n",
        "#### As you can see, the first 3 phases have been completed for you. \n",
        "#### In this tutorial, we are going to learn how to document a new model in Vectice.\n",
        "#### Go ahead and execute:"
      ]
    },
    {
      "cell_type": "code",
      "execution_count": null,
      "id": "9dc1fd43",
      "metadata": {},
      "outputs": [],
      "source": [
        "active_phase = active_proj.phase(\"Modeling\") # pass the name of the phase"
      ]
    },
    {
      "attachments": {},
      "cell_type": "markdown",
      "id": "df67c301",
      "metadata": {},
      "source": [
        "#### to get a handle on the modeling phase."
      ]
    },
    {
      "attachments": {},
      "cell_type": "markdown",
      "id": "87703aa4",
      "metadata": {},
      "source": [
        "#### Before we continue, let’s pause briefly. \n",
        "#### You may be thinking that it feels like a lot of work to get this far - and it has been.\n",
        "#### But simply note that (knowing what we do now) we can get to the very same place with a single instruction by using the ID of the phase displayed in the UI or the cells above.\n",
        "#### Go ahead, try it!"
      ]
    },
    {
      "cell_type": "code",
      "execution_count": null,
      "id": "5321abfe",
      "metadata": {},
      "outputs": [],
      "source": [
        "active_phase = vec.phase(\"PHA-5629\") # Replace with your own phase-ID for the Modeling phase"
      ]
    },
    {
      "attachments": {},
      "cell_type": "markdown",
      "id": "fa421347",
      "metadata": {},
      "source": [
        "#### Much simpler, no?\n",
        "#### One can skip the navigation part by directly passing the ID of the project, phase... "
      ]
    },
    {
      "attachments": {},
      "cell_type": "markdown",
      "id": "cce8f419",
      "metadata": {},
      "source": [
        "#### To get more information as to what this phase requires, execute:"
      ]
    },
    {
      "cell_type": "code",
      "execution_count": null,
      "id": "3d095efe",
      "metadata": {},
      "outputs": [],
      "source": [
        "active_phase.list_steps()"
      ]
    },
    {
      "attachments": {},
      "cell_type": "markdown",
      "id": "75901213",
      "metadata": {},
      "source": [
        "#### Great! We now know what needs to be completed within this phase.\n",
        "\n",
        "#### Let's start a new iteration of the phase\n",
        "#### Execute:"
      ]
    },
    {
      "cell_type": "code",
      "execution_count": null,
      "id": "d70e85f0",
      "metadata": {},
      "outputs": [],
      "source": [
        "active_iter = active_phase.create_iteration()\n",
        "\n",
        "active_iter.list_steps()"
      ]
    },
    {
      "attachments": {},
      "cell_type": "markdown",
      "id": "e7aea0df",
      "metadata": {},
      "source": [
        "#### We now have an iteration containing the steps that were defined for us"
      ]
    },
    {
      "attachments": {},
      "cell_type": "markdown",
      "id": "71f47c92",
      "metadata": {},
      "source": [
        "#### Okay, it’s modelin’ time."
      ]
    },
    {
      "attachments": {},
      "cell_type": "markdown",
      "id": "22534810",
      "metadata": {},
      "source": [
        "# 3. A Simple Modeling Exercise"
      ]
    },
    {
      "attachments": {},
      "cell_type": "markdown",
      "id": "e52e2b9e",
      "metadata": {},
      "source": [
        "### 3.1 Logging a Simple Text-Only Message\n",
        "#### The first step, as described above, calls for describing the modeling technique we will use in this iteration of the model. Execute"
      ]
    },
    {
      "cell_type": "code",
      "execution_count": null,
      "id": "95c5b38e",
      "metadata": {},
      "outputs": [],
      "source": [
        "active_iter.step_select_modeling_techniques = \"For this first iteration we are going to use a Linear Regression model to get a base model.\""
      ]
    },
    {
      "attachments": {},
      "cell_type": "markdown",
      "id": "eca71a04",
      "metadata": {},
      "source": [
        "#### to log a short description of our work. This completes the step"
      ]
    },
    {
      "attachments": {},
      "cell_type": "markdown",
      "id": "d2ce8a61",
      "metadata": {},
      "source": [
        "### 3.2 Logging a Text Message with Embedded Variables"
      ]
    },
    {
      "attachments": {},
      "cell_type": "markdown",
      "id": "cbaf3f8e",
      "metadata": {},
      "source": [
        "#### For our next step, it looks like our modeling overlords would like us to split our dataset into training, testing and validation datasets, and log some basic information about the split.\n",
        "\n",
        "#### Let get the dataset we need to split. Lucky for us, the Vectice elves have left us a clean dataset, created as part of the “Data Preparation” phase.\n",
        "#### Execute the cell below to download it locally"
      ]
    },
    {
      "cell_type": "code",
      "execution_count": null,
      "id": "ad51cfbb",
      "metadata": {},
      "outputs": [],
      "source": [
        "!wget https://vectice-examples.s3.us-west-1.amazonaws.com/Tutorial/ForecastTutorial/original_clean.csv -q --no-check-certificate"
      ]
    },
    {
      "attachments": {},
      "cell_type": "markdown",
      "id": "fce8c7bd",
      "metadata": {},
      "source": [
        "#### Alright - it’s time to split this baby up.\n",
        "\n",
        "#### Since we’re about to do some modeling work, we need to load a few analytics libraries and packages. \n",
        "#### Execute the following boilerplate code, which is completely independent of Vectice.\n",
        "#### Don’t worry about understanding the following cell in great detail - suffice to say we are simply retrieving the dataset we saved above, splitting it into three (for training, testing and validation) and saving the split datasets locally.\n"
      ]
    },
    {
      "cell_type": "code",
      "execution_count": null,
      "id": "fe74a4fd",
      "metadata": {},
      "outputs": [],
      "source": [
        "# NOTE: this cell is boilerplate data science code\n",
        "# there is no Vectice code below\n",
        "\n",
        "# here, we install essential analytics libraries and download our dataset,\n",
        "# before splitting it into 3 files (for training, testing and validation)\n",
        "# that we then save locally\n",
        "\n",
        "# import some essential math libraries\n",
        "import pandas as pd; import matplotlib.pyplot as plt; import numpy as np\n",
        "import plotly.offline as py; from matplotlib import pyplot as plt\n",
        "import IPython.display\n",
        "%matplotlib inline\n",
        "py.init_notebook_mode(connected=True)\n",
        "\n",
        "\n",
        "# load scikit-learn modeling packages\n",
        "from sklearn.model_selection import train_test_split\n",
        "from sklearn.linear_model import LinearRegression\n",
        "from sklearn.metrics import mean_squared_error,mean_absolute_error\n",
        "\n",
        "# read the dataset\n",
        "df_model = pd.read_csv(\"original_clean.csv\")\n",
        "\n",
        "# specify how much of the dataset to set aside for testing\n",
        "test_size = 0.30\n",
        "# specify a seed value so we can always generate the same split\n",
        "random_state = 42\n",
        "\n",
        "# Generate df_train, df_test, which we will need for modeling\n",
        "df_train, df_test = train_test_split(df_model, test_size = test_size, random_state = random_state)\n",
        "\n",
        "# save the 3 split datasets locally\n",
        "df_train.to_csv(\"traindataset.csv\")\n",
        "df_test.to_csv(\"testdataset.csv\")"
      ]
    },
    {
      "attachments": {},
      "cell_type": "markdown",
      "id": "352bccb3",
      "metadata": {},
      "source": [
        "#### The next thing we should do is log the datasets we used, so we know where these numbers came from. Go ahead and execute"
      ]
    },
    {
      "cell_type": "code",
      "execution_count": null,
      "id": "8ea20d4f",
      "metadata": {},
      "outputs": [],
      "source": [
        "train_ds = vct.FileResource(paths=\"traindataset.csv\")\n",
        "test_ds = vct.FileResource(paths=\"testdataset.csv\")\n",
        "\n",
        "\n",
        "dataset = vct.Dataset.modeling(\n",
        "    name=\"my modeling dataset\",\n",
        "    training_resource=train_ds,\n",
        "    testing_resource=test_ds\n",
        ")\n",
        "active_iter.step_generate_test_design += dataset"
      ]
    },
    {
      "attachments": {},
      "cell_type": "markdown",
      "id": "cdd2654c",
      "metadata": {},
      "source": [
        "#### to package our 2 datasets with their essential metadata, and log them in Vectice."
      ]
    },
    {
      "attachments": {},
      "cell_type": "markdown",
      "id": "4bb3b8eb",
      "metadata": {},
      "source": [
        "#### As before, let’s log our work as a message in Vectice, so we keep a trace of the work we did."
      ]
    },
    {
      "cell_type": "code",
      "execution_count": null,
      "id": "29d148a0",
      "metadata": {},
      "outputs": [],
      "source": [
        "# First let's build our message\n",
        "msg = f\"We split the dataset in a training, testing and validation datasets. \"\\\n",
        "      f\"{test_size * 100}% of the data is set aside for testing.\\n \"\\\n",
        "      f\"- Training dataset size: {df_train.shape[0]}\\n \"\\\n",
        "      f\"- Testing dataset size: {df_test.shape[0]}\\n \"\\\n",
        "      f\"Our seed to generate repeatable datasets is {random_state}\"\n",
        "active_iter.step_generate_test_design += msg"
      ]
    },
    {
      "attachments": {},
      "cell_type": "markdown",
      "id": "53e3402d",
      "metadata": {},
      "source": [
        "### 3.3 Logging a Model and Associated Datasets\n",
        "\n",
        "#### We’re on a roll!!\n",
        "#### As before, we’ve provided you with the following boilerplate code, which is completely independent of Vectice.\n",
        "#### Don’t worry about understanding the following cell in great detail - all we’re doing is running a linear regression, and outputting summary statistics as well as a nice plot.\n"
      ]
    },
    {
      "cell_type": "code",
      "execution_count": null,
      "id": "625e134d",
      "metadata": {},
      "outputs": [],
      "source": [
        "# NOTE: this cell is boilerplate data science code\n",
        "# there is no Vectice code below\n",
        "X_train, y_train = df_train.drop(['unit_sales'], axis=1), df_train[\"unit_sales\"]\n",
        "X_test, y_test = df_test.drop(['unit_sales'], axis=1), df_test[\"unit_sales\"]\n",
        "\n",
        "# here, we are running a linear regression, before outputting some summary\n",
        "# statistics and a nice plot\n",
        "\n",
        "\n",
        "# create a linear regression model\n",
        "model_linreg = LinearRegression()\n",
        "model_linreg.fit(X_train, y_train)\n",
        "\n",
        "# evaluate, define and save the RMSE and MAE summary statistics\n",
        "pred = model_linreg.predict(X_test)    \n",
        "RMSE = np.sqrt(mean_squared_error(y_test, pred))\n",
        "MAE = mean_absolute_error(y_test, pred)\n",
        "\n",
        "# the metrics object holds our two key summary statistics\n",
        "summary_stats = {\"RMSE\": RMSE, \"MAE\": MAE}\n",
        "\n",
        "# finally, generate a save a pretty plot\n",
        "plt.scatter(X_train.iloc[:,0].values, y_train ,color='g')\n",
        "plt.plot(X_test, pred,color='k')\n",
        "plt.savefig(\"regression_graph.png\")"
      ]
    },
    {
      "attachments": {},
      "cell_type": "markdown",
      "id": "f2d6c807",
      "metadata": {},
      "source": [
        "#### As before, let’s log our work in Vectice, so we keep a trace of what we did.\n",
        "#### Let's document the model we just generated, run the following cell"
      ]
    },
    {
      "cell_type": "code",
      "execution_count": null,
      "id": "6fe4dda9",
      "metadata": {},
      "outputs": [],
      "source": [
        "# Similar to the way we package our datasets previously, \n",
        "# let’s use 'Model' object to package our model with some of its essential metadata\n",
        "model = vct.Model(\n",
        "                name          = \"Unit Sales Predictor\",\n",
        "                library       = \"scikit-learn\",\n",
        "                technique     = \"linear regression\",\n",
        "                metrics       = summary_stats,\n",
        "                attachments   = \"regression_graph.png\",\n",
        "                predictor     = model_linreg,\n",
        "                derived_from  = [dataset.latest_version_id])\n",
        "\n",
        "# Next, let's log the model to the step\n",
        "active_iter.step_build_model += model "
      ]
    },
    {
      "attachments": {},
      "cell_type": "markdown",
      "id": "edf1cee6",
      "metadata": {},
      "source": [
        "#### Now let's log our summary statistics, execute the following cell"
      ]
    },
    {
      "cell_type": "code",
      "execution_count": null,
      "id": "037b00be",
      "metadata": {},
      "outputs": [],
      "source": [
        "msg = f\"The model generated the following metrics: \\n\"\\\n",
        "      f\"RMSE = {summary_stats['RMSE']} and MAE = {summary_stats['MAE']}\"\n",
        "active_iter.step_build_model += msg"
      ]
    },
    {
      "attachments": {},
      "cell_type": "markdown",
      "id": "036636e3",
      "metadata": {},
      "source": [
        "#### to log our summary statistics as a simple message.\n",
        "\n"
      ]
    },
    {
      "attachments": {},
      "cell_type": "markdown",
      "id": "5fc017d7",
      "metadata": {},
      "source": [
        "### 3.4 The Final Step\n",
        "\n",
        "#### The very last step of the Modeling phase calls for assessing the performance of our model, and reflecting on next steps. \n",
        "#### But it’s been a long journey, so feel free to simply execute the code below (which should be familiar to you by now!) and call it a day.\n"
      ]
    },
    {
      "cell_type": "code",
      "execution_count": null,
      "id": "3d5d6a9b",
      "metadata": {},
      "outputs": [],
      "source": [
        "active_iter.step_assess_model = \"As expected the model performs better however this is not good enough \\\n",
        "      and we should try a different method. We recommend doing a Random Forest \\\n",
        "      as a new iteration to get a base model.\"\n",
        "\n",
        "# The iteration of the phase completed all the steps needed. Let's mark it as completed\n",
        "active_iter.complete()"
      ]
    },
    {
      "attachments": {},
      "cell_type": "markdown",
      "id": "15fb674a",
      "metadata": {},
      "source": [
        "# 4. Reviewing Our Work\n",
        "#### That’s it for the heavy lifting. It’s now time for us to enjoy the fruits of our labor. Go ahead and open up your Vectice workspaces (https://app.vectice.com/workspaces/) so we can inspect what was happening in the background, while we were busy in the notebook.\n",
        "\n",
        "#### Navigate to your personal workspace, and consult the list of projects. Here, you should see the Tutorial project we’ve been working on together. If all went well, the project card should show you as having last updated the project only a few minutes ago - via API.\n",
        "\n",
        "![alt text](https://vectice-examples.s3.us-west-1.amazonaws.com/images/Vectice_-_AI_asset_management_and_collaboration_software4.jpg)\n",
        "\n",
        "#### Inside the Tutorial project, things should also be looking very familiar. These are the phases we interacted with earlier, via the API. As you may recall, the Vectice elves had already completed the first few sections for us. Note, though, that the “Modeling” phase is now “In Progress.” This change happened automatically when we created our first iteration.\n",
        "\n",
        "#### Feel free to take a moment to poke around the rest of the project and familiarize yourself with the way in which the UI and API both represent the same project data model.\n",
        "\n",
        "![alt text](https://vectice-examples.s3.us-west-1.amazonaws.com/images/Vectice_-_AI_asset_management_and_collaboration_software3.jpg)\n",
        "\n",
        "#### If you now pull up the Tutorial project’s “Modeling” phase, and visit the “Iterations” tab, you should be able to see the model iteration you created earlier.\n",
        "\n",
        "![alt text](https://vectice-examples.s3.us-west-1.amazonaws.com/images/Vectice_-_AI_asset_management_and_collaboration_software2.jpg)\n",
        "\n",
        "#### Better yet, all the information we logged into the steps now accessible here. Years from now, you’ll still know exactly what data went into this version of the “Unit Sales Predictor,” who worked on it, what the results were and what you decided to do next. It’s like having a time machine for Data Science.\n",
        "\n",
        "![alt text](https://vectice-examples.s3.us-west-1.amazonaws.com/images/Vectice_-_AI_asset_management_and_collaboration_software.jpg)\n",
        "\n",
        "#### That’s all for now! We hope you enjoyed this brief introduction to Vectice. If you have any questions, please get in touch with our support team at support@vectice.com\n"
      ]
    }
  ],
  "metadata": {
    "colab": {
      "machine_shape": "hm",
      "provenance": []
    },
    "environment": {
      "kernel": "python3",
      "name": "common-cpu.m94",
      "type": "gcloud",
      "uri": "gcr.io/deeplearning-platform-release/base-cpu:m94"
    },
    "gpuClass": "standard",
    "kernelspec": {
      "display_name": "Python 3.9.2 64-bit",
      "language": "python",
      "name": "python3"
    },
    "language_info": {
      "codemirror_mode": {
        "name": "ipython",
        "version": 3
      },
      "file_extension": ".py",
      "mimetype": "text/x-python",
      "name": "python",
      "nbconvert_exporter": "python",
      "pygments_lexer": "ipython3",
      "version": "3.9.6"
    },
    "papermill": {
      "default_parameters": {},
      "duration": 4527.062431,
      "end_time": "2022-01-15T11:06:02.218444",
      "environment_variables": {},
      "exception": null,
      "input_path": "__notebook__.ipynb",
      "output_path": "__notebook__.ipynb",
      "parameters": {},
      "start_time": "2022-01-15T09:50:35.156013",
      "version": "2.3.3"
    },
    "vscode": {
      "interpreter": {
        "hash": "397704579725e15f5c7cb49fe5f0341eb7531c82d19f2c29d197e8b64ab5776b"
      }
    }
  },
  "nbformat": 4,
  "nbformat_minor": 5
}
