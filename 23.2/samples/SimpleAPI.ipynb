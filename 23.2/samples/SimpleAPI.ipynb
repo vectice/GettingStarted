{
 "cells": [
  {
   "cell_type": "code",
   "execution_count": 87,
   "id": "2fd33a25-9629-44b5-8a81-16be8b75ed19",
   "metadata": {
    "tags": []
   },
   "outputs": [],
   "source": [
    "from vectice import connect, S3Resource, Dataset, Model\n",
    "from boto3 import client \n",
    "from botocore import UNSIGNED\n",
    "from botocore.client import Config\n",
    "\n",
    "s3_client = client('s3', config=Config(signature_version=UNSIGNED), region_name='us-west-1')\n",
    "users_ds = S3Resource(s3_client, bucket_name='vectice-examples' ,resource_path=\"Tutorial/ForecastTutorial/users.csv\")\n",
    "comp_ds = S3Resource(s3_client, bucket_name='vectice-examples' ,resource_path=\"Tutorial/ForecastTutorial/competitor_info.csv\")\n",
    "clean_ds = S3Resource(s3_client, bucket_name='vectice-examples' ,resource_path=\"Tutorial/ForecastTutorial/competitor_info.csv\")\n",
    "train_ds = S3Resource(s3_client, bucket_name='vectice-examples' ,resource_path=\"Tutorial/ForecastTutorial/traindataset.csv\")\n",
    "test_ds = S3Resource(s3_client, bucket_name='vectice-examples' ,resource_path=\"Tutorial/ForecastTutorial/testdataset.csv\")\n",
    "val_ds = S3Resource(s3_client, bucket_name='vectice-examples' ,resource_path=\"Tutorial/ForecastTutorial/validatedataset.csv\")"
   ]
  },
  {
   "cell_type": "code",
   "execution_count": 88,
   "id": "80e8b4d6-431d-446e-aad6-85f1c4013211",
   "metadata": {
    "tags": []
   },
   "outputs": [
    {
     "name": "stderr",
     "output_type": "stream",
     "text": [
      "Welcome, Eric Barre. You`re now successfully connected to the project Sample Project in Vectice.\n",
      "\n",
      "To access a specific phase, use project.phase(Phase ID)\n",
      "To get a list of phases you can access and their IDs, use project.list_phases()\n",
      "\n",
      "For quick access to the list of phases in the Vectice web app, visit:\n",
      "https://app.vectice.com/project?w=1930&resourceId=8052\n"
     ]
    }
   ],
   "source": [
    "vtc_prj = connect(config=\"vectice-config.json\")"
   ]
  },
  {
   "cell_type": "code",
   "execution_count": 89,
   "id": "66a0a8fc-de0c-4aca-b7a1-aafef86a8146",
   "metadata": {
    "tags": []
   },
   "outputs": [
    {
     "name": "stdout",
     "output_type": "stream",
     "text": [
      "There are 2 phases in the project Sample Project for user Eric Barre.\n",
      "\n",
      "**Legend**     [C]  Completed     [IP] In Progress\n",
      "               [IR] In Review     [NS] Not Started\n",
      "\n"
     ]
    },
    {
     "data": {
      "text/html": [
       "<pre style=\"white-space:pre;overflow-x:auto;line-height:normal;font-family:Menlo,'DejaVu Sans Mono',consolas,'Courier New',monospace\"><span style=\"font-weight: bold\"> phase id           </span>┃<span style=\"font-weight: bold\"> name                       </span>┃<span style=\"font-weight: bold\"> owner           </span>┃<span style=\"font-weight: bold\"> status         </span>┃<span style=\"font-weight: bold\"> iterations     </span>┃<span style=\"font-weight: bold\"> steps            </span>\n",
       "━━━━━━━━━━━━━━━━━━━━╇━━━━━━━━━━━━━━━━━━━━━━━━━━━━╇━━━━━━━━━━━━━━━━━╇━━━━━━━━━━━━━━━━╇━━━━━━━━━━━━━━━━╇━━━━━━━━━━━━━━━━━━\n",
       " 34414              │ DataPrep                   │ Unassigned      │ [NS]           │ 0/0            │ 3                \n",
       " 34415              │ Modeling                   │ Unassigned      │ [NS]           │ 0/0            │ 3                \n",
       "</pre>\n"
      ],
      "text/plain": [
       "\u001b[1m \u001b[0m\u001b[1mphase id          \u001b[0m\u001b[1m \u001b[0m┃\u001b[1m \u001b[0m\u001b[1mname                      \u001b[0m\u001b[1m \u001b[0m┃\u001b[1m \u001b[0m\u001b[1mowner          \u001b[0m\u001b[1m \u001b[0m┃\u001b[1m \u001b[0m\u001b[1mstatus        \u001b[0m\u001b[1m \u001b[0m┃\u001b[1m \u001b[0m\u001b[1miterations    \u001b[0m\u001b[1m \u001b[0m┃\u001b[1m \u001b[0m\u001b[1msteps           \u001b[0m\u001b[1m \u001b[0m\n",
       "━━━━━━━━━━━━━━━━━━━━╇━━━━━━━━━━━━━━━━━━━━━━━━━━━━╇━━━━━━━━━━━━━━━━━╇━━━━━━━━━━━━━━━━╇━━━━━━━━━━━━━━━━╇━━━━━━━━━━━━━━━━━━\n",
       " 34414              │ DataPrep                   │ Unassigned      │ [NS]           │ 0/0            │ 3                \n",
       " 34415              │ Modeling                   │ Unassigned      │ [NS]           │ 0/0            │ 3                \n"
      ]
     },
     "metadata": {},
     "output_type": "display_data"
    },
    {
     "name": "stdout",
     "output_type": "stream",
     "text": [
      "\n",
      ">> To access a specific phase, use project.phase(PhaseID)\n",
      ">> To access an array of phases, use project.phases\n",
      "\n",
      "For quick access to the list of phases for this project, visit:\n",
      "https://app.vectice.com/project?w=1930&resourceId=8052\n",
      "\n"
     ]
    }
   ],
   "source": [
    "# List out the phases in the project\n",
    "vtc_prj.list_phases()"
   ]
  },
  {
   "cell_type": "code",
   "execution_count": 90,
   "id": "ca25a334-ec20-4741-81fe-c1c60b71b50d",
   "metadata": {
    "tags": []
   },
   "outputs": [],
   "source": [
    "vtc_phase = vtc_prj.phase(\"DataPrep\")"
   ]
  },
  {
   "cell_type": "code",
   "execution_count": 91,
   "id": "be586c1f-3740-492a-9e61-368c1960fe23",
   "metadata": {
    "tags": []
   },
   "outputs": [
    {
     "name": "stdout",
     "output_type": "stream",
     "text": [
      "There are 3 step definitions in the phase DataPrep for user Eric Barre.\n",
      "\n"
     ]
    },
    {
     "data": {
      "text/html": [
       "<pre style=\"white-space:pre;overflow-x:auto;line-height:normal;font-family:Menlo,'DejaVu Sans Mono',consolas,'Courier New',monospace\"><span style=\"font-weight: bold\"> step def. id  </span>┃<span style=\"font-weight: bold\"> name                   </span>┃<span style=\"font-weight: bold\"> description                      </span>┃<span style=\"font-weight: bold\"> shortcut                                   </span>\n",
       "━━━━━━━━━━━━━━━╇━━━━━━━━━━━━━━━━━━━━━━━━╇━━━━━━━━━━━━━━━━━━━━━━━━━━━━━━━━━━╇━━━━━━━━━━━━━━━━━━━━━━━━━━━━━━━━━━━━━━━━━━━━\n",
       " 11307         │ 1. Data Collection     │ Identify suitable datasets for … │ step_data_collection                       \n",
       " 11308         │ 2. EDA                 │ Normalize, clean, join data to … │ step_eda                                   \n",
       " 11309         │ 3. Split dataset       │ Split the datasets into trainin… │ step_split_dataset                         \n",
       "</pre>\n"
      ],
      "text/plain": [
       "\u001b[1m \u001b[0m\u001b[1mstep def. id \u001b[0m\u001b[1m \u001b[0m┃\u001b[1m \u001b[0m\u001b[1mname                  \u001b[0m\u001b[1m \u001b[0m┃\u001b[1m \u001b[0m\u001b[1mdescription                     \u001b[0m\u001b[1m \u001b[0m┃\u001b[1m \u001b[0m\u001b[1mshortcut                                  \u001b[0m\u001b[1m \u001b[0m\n",
       "━━━━━━━━━━━━━━━╇━━━━━━━━━━━━━━━━━━━━━━━━╇━━━━━━━━━━━━━━━━━━━━━━━━━━━━━━━━━━╇━━━━━━━━━━━━━━━━━━━━━━━━━━━━━━━━━━━━━━━━━━━━\n",
       " 11307         │ 1. Data Collection     │ Identify suitable datasets for … │ step_data_collection                       \n",
       " 11308         │ 2. EDA                 │ Normalize, clean, join data to … │ step_eda                                   \n",
       " 11309         │ 3. Split dataset       │ Split the datasets into trainin… │ step_split_dataset                         \n"
      ]
     },
     "metadata": {},
     "output_type": "display_data"
    },
    {
     "name": "stdout",
     "output_type": "stream",
     "text": [
      "\n",
      "For quick access to the list of step definitions in the Vectice web app, visit:\n",
      "https://app.vectice.com/project/phase/steps?w=1930&pageId=34414\n",
      "\n"
     ]
    }
   ],
   "source": [
    "vtc_phase.list_step_definitions()"
   ]
  },
  {
   "cell_type": "code",
   "execution_count": 92,
   "id": "368aa999-c363-48b7-8b36-173a28a0d555",
   "metadata": {
    "tags": []
   },
   "outputs": [
    {
     "name": "stderr",
     "output_type": "stream",
     "text": [
      "Successfully registered Dataset(name='Users', id=23979, version='Version 1', type=ORIGIN).\n",
      "Successfully added Dataset(name='Users', id=23979, version='Version 1', type=MODELING) to Data Collection\n",
      "Successfully registered Dataset(name='Competitor_Info', id=23980, version='Version 1', type=ORIGIN).\n",
      "Successfully added Dataset(name='Competitor_Info', id=23980, version='Version 1', type=ORIGIN) to Data Collection\n"
     ]
    }
   ],
   "source": [
    "# Document the project origin datasets\n",
    "vtc_iter = vtc_phase.iteration()\n",
    "vtc_iter.step_data_collection = Dataset.origin( name=\"Users\", resource=users_ds)\n",
    "vtc_iter.step_data_collection += Dataset.origin( name=\"Competitor_Info\", resource=comp_ds)"
   ]
  },
  {
   "cell_type": "code",
   "execution_count": 93,
   "id": "dba387c3-684a-4bb6-bfd4-e5f356455a71",
   "metadata": {},
   "outputs": [
    {
     "name": "stderr",
     "output_type": "stream",
     "text": [
      "Successfully registered Dataset(name='Clean Dataset', id=23981, version='Version 1', type=CLEAN).\n",
      "Successfully added Dataset(name='Clean Dataset', id=23981, version='Version 1', type=MODELING) to EDA\n",
      "Successfully registered Dataset(name='Modeling Dataset', id=23982, version='Version 1', type=MODELING).\n",
      "Successfully added Dataset(name='Modeling Dataset', id=23982, version='Version 1', type=MODELING) to Split dataset\n"
     ]
    }
   ],
   "source": [
    "# EDA on the datasets\n",
    "...\n",
    "\n",
    "# Document our EDA process\n",
    "vtc_iter.step_eda = Dataset.clean(name=\"Clean Dataset\",resource=clean_ds, derived_from=[23979, 23980])\n",
    "\n",
    "\n",
    "# Split datasets for model and register them\n",
    "...\n",
    "\n",
    "vtc_iter.step_split_dataset = Dataset.modeling(name=\"Modeling Dataset\", training_resource=train_ds,testing_resource=test_ds,validation_resource=val_ds)\n",
    "\n",
    "\n",
    "# All steps on the phase are completed, mark the iteration as complete\n",
    "vtc_iter.complete()"
   ]
  },
  {
   "cell_type": "code",
   "execution_count": 95,
   "id": "3ead1ef3-1251-42e7-b7c7-e7457bb83ef4",
   "metadata": {
    "tags": []
   },
   "outputs": [
    {
     "name": "stderr",
     "output_type": "stream",
     "text": [
      "Attachments with names: ['26_LiftChart_holdout.png', 'Feature_Importance.png'] successfully attached to Model(name='Base_LR_Model', version='Version 2').\n",
      "Successfully registered Model(name='Base_LR_Model', library='sklearn', technique='ln', version='Version 2').\n",
      "Model: Base_LR_Model already exists.\n",
      "Successfully added Model(name='Base_LR_Model', version='Version 2') to Build Model\n",
      "Successfully added Attachment: 41651 from Model(name='Base_LR_Model', version='Version 2') to Build Model\n",
      "Successfully added Attachment: 41652 from Model(name='Base_LR_Model', version='Version 2') to Build Model\n",
      "Attachments with names: ['26_LiftChart_holdout.png', 'Feature_Importance.png'] successfully attached to Model(name='Tuned_LR_Model', version='Version 1').\n",
      "Successfully registered Model(name='Tuned_LR_Model', library='sklearn', technique='ln', version='Version 1').\n",
      "Successfully added Model(name='Tuned_LR_Model', version='Version 1') to Fine tune model\n",
      "Successfully added Attachment: 41653 from Model(name='Tuned_LR_Model', version='Version 1') to Fine tune model\n",
      "Successfully added Attachment: 41654 from Model(name='Tuned_LR_Model', version='Version 1') to Fine tune model\n"
     ]
    }
   ],
   "source": [
    "# Get the next phase (modeling)\n",
    "vtc_iter = vtc_prj.phase(34415).iteration()\n",
    "\n",
    "# Build the model\n",
    "...\n",
    "\n",
    "# Document the model technique used\n",
    "vtc_iter.step_document_modeling_technique = \"Using a Linear Regression model.\"\n",
    "\n",
    "# Connecting your model to an iteration will automatically sync the information to Vectice UI\n",
    "vtc_iter.step_build_model = Model(library=\"sklearn\", \n",
    "                                      technique=\"ln\", \n",
    "                                      attachments=[\"Feature_Importance.png\", \"26_LiftChart_holdout.png\"], \n",
    "                                      name=\"Base_LR_Model\")\n",
    "\n",
    "\n",
    "# Fine tune hyper-parameters\n",
    "...\n",
    "\n",
    "# Register model in Vectice\n",
    "vtc_iter.step_fine_tune_model = Model(library=\"sklearn\", \n",
    "                                      technique=\"ln\", \n",
    "                                      attachments=[\"Feature_Importance.png\", \"26_LiftChart_holdout.png\"], \n",
    "                                      name=\"Tuned_LR_Model\",\n",
    "                                      metrics={\"metric_1\": 1, \"metric_2\": 1}, \n",
    "                                      properties={\"prop\": \"value\"})\n",
    "\n",
    "# All steps on the phase are completed, mark the iteration as complete\n",
    "vtc_iter.complete()"
   ]
  },
  {
   "cell_type": "code",
   "execution_count": null,
   "id": "c14b551d-6ab3-4b49-a36a-bf1b9621983a",
   "metadata": {},
   "outputs": [],
   "source": []
  }
 ],
 "metadata": {
  "kernelspec": {
   "display_name": "Python 3 (ipykernel)",
   "language": "python",
   "name": "python3"
  },
  "language_info": {
   "codemirror_mode": {
    "name": "ipython",
    "version": 3
   },
   "file_extension": ".py",
   "mimetype": "text/x-python",
   "name": "python",
   "nbconvert_exporter": "python",
   "pygments_lexer": "ipython3",
   "version": "3.9.2"
  }
 },
 "nbformat": 4,
 "nbformat_minor": 5
}
