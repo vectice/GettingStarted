{
  "cells": [
    {
      "cell_type": "code",
      "execution_count": null,
      "id": "cc5eb131-23c1-411e-aa1e-9954ea69aec0",
      "metadata": {
        "colab": {
          "base_uri": "https://localhost:8080/"
        },
        "id": "cc5eb131-23c1-411e-aa1e-9954ea69aec0",
        "outputId": "4b8ab340-52e9-4d7c-e250-04718abef384",
        "tags": []
      },
      "outputs": [],
      "source": [
        "import vectice as vct\n",
        "\n",
        "vec_project = vct.connect(config=\"token_i.json\")"
      ]
    },
    {
      "cell_type": "markdown",
      "id": "6958f765-98a7-4e7b-a4af-dfbcff249ed4",
      "metadata": {
        "id": "6958f765-98a7-4e7b-a4af-dfbcff249ed4",
        "tags": []
      },
      "source": [
        "### Read datasets:\n",
        " - PTY_ID_MAIN - From our BigQuery Dev environment\n",
        " - HIST_TRANS - From our BigQuery Dev environment\n",
        " - LuxAir_Accts - S3\n",
        " - OFAC_SDN - S3"
      ]
    },
    {
      "cell_type": "code",
      "execution_count": null,
      "id": "d05a5d74-5e95-47d1-9cf0-c7458b5619d7",
      "metadata": {
        "colab": {
          "base_uri": "https://localhost:8080/"
        },
        "id": "d05a5d74-5e95-47d1-9cf0-c7458b5619d7",
        "outputId": "fd82e051-869d-4910-838d-d5db4b74027b"
      },
      "outputs": [],
      "source": [
        "# Connect to BigQuery Dev using Service Account\n",
        "from google.cloud import bigquery\n",
        "from google.oauth2 import service_account\n",
        "creds = service_account.Credentials.from_service_account_file(\"bq_dev_sa.json\", scopes=[\"https://www.googleapis.com/auth/cloud-platform\"])\n",
        "\n",
        "bigquery_client = bigquery.Client(\n",
        "    credentials= creds,\n",
        "    project=creds.project_id\n",
        ")"
      ]
    },
    {
      "attachments": {},
      "cell_type": "markdown",
      "id": "a_GFv6vBdDjz",
      "metadata": {
        "id": "a_GFv6vBdDjz"
      },
      "source": [
        "Query PTY_ID_MAIN and HIST_TRX from our Dev BigQuery env. Retrieving full tables, we will need to remove non US customers from the resultsets as per compliance."
      ]
    },
    {
      "cell_type": "code",
      "execution_count": null,
      "id": "def55e9f-c05c-4c34-accd-4beceeeb317e",
      "metadata": {
        "colab": {
          "base_uri": "https://localhost:8080/",
          "height": 306
        },
        "id": "def55e9f-c05c-4c34-accd-4beceeeb317e",
        "outputId": "693ec881-bbef-41f8-c7a1-c533eab0c4c8",
        "tags": []
      },
      "outputs": [],
      "source": [
        "# Query PTY_ID_MAIN table\n",
        "qry_PTY_ID_MAIN = \"SELECT * FROM `solutions-engineering-363108.CUST_PTY_INFO.PTY_ID_MAIN`\"\n",
        "#Run the query and write result to a pandas data frame\n",
        "Query_Results = bigquery_client.query(qry_PTY_ID_MAIN)\n",
        "df_PTY_ID_MAIN = Query_Results.to_dataframe()\n",
        "#View top few rows of result\n",
        "df_PTY_ID_MAIN.head()"
      ]
    },
    {
      "cell_type": "code",
      "execution_count": null,
      "id": "f8f2b2bb-048d-41f8-ac85-ffee0dadedeb",
      "metadata": {
        "colab": {
          "base_uri": "https://localhost:8080/",
          "height": 262
        },
        "id": "f8f2b2bb-048d-41f8-ac85-ffee0dadedeb",
        "outputId": "fc9351a7-eaa4-4d8a-f48c-7d62ab7e55cd",
        "tags": []
      },
      "outputs": [],
      "source": [
        "# Query HIST_TRANS table\n",
        "qry_HIST_TRX = \"SELECT * FROM `solutions-engineering-363108.HIST_CUST_INFO.HIST_TRANS`\"\n",
        "#Run the query and write result to a pandas data frame\n",
        "Query_Results = bigquery_client.query(qry_HIST_TRX)\n",
        "df_HIST_TRX = Query_Results.to_dataframe()\n",
        "#View top few rows of result\n",
        "df_HIST_TRX.head()"
      ]
    },
    {
      "cell_type": "markdown",
      "id": "Ny0o6xKLdpJ9",
      "metadata": {
        "id": "Ny0o6xKLdpJ9"
      },
      "source": [
        "Reading the two external files from our S3 bucket."
      ]
    },
    {
      "cell_type": "code",
      "execution_count": null,
      "id": "7211ebf5-23ad-4e9f-8fd0-42883a214e35",
      "metadata": {
        "colab": {
          "base_uri": "https://localhost:8080/"
        },
        "id": "7211ebf5-23ad-4e9f-8fd0-42883a214e35",
        "outputId": "1a8cb6e0-d2ef-447d-d2bd-a9ae7a4bd8aa"
      },
      "outputs": [],
      "source": [
        "# Read the external files from S3\n",
        "# Create connection\n",
        "from boto3 import client\n",
        "from botocore import UNSIGNED\n",
        "from botocore.client import Config\n",
        "import s3fs\n",
        "\n",
        "s3_client = client('s3', config=Config(signature_version=UNSIGNED), region_name='us-west-1')\n"
      ]
    },
    {
      "cell_type": "code",
      "execution_count": null,
      "id": "he-ZSrTxUry7",
      "metadata": {
        "colab": {
          "base_uri": "https://localhost:8080/"
        },
        "id": "he-ZSrTxUry7",
        "outputId": "d7a197d9-d3e7-4f3c-b49f-17cc48ed05c8"
      },
      "outputs": [],
      "source": [
        "import pandas as pd\n",
        "# Read the external files in dataframes\n",
        "s3 = s3fs.S3FileSystem(anon=True)\n",
        "\n",
        "with s3.open(\"vectice-examples/Samples Data/LuxAir_Accts.csv\", mode=\"rb\") as f:\n",
        "    df_LuxAir_Accts = pd.read_csv(f)\n",
        "\n",
        "with s3.open(\"vectice-examples/Samples Data/OFAC_SDN.csv\", mode=\"rb\") as f:\n",
        "    df_OFAC_SDN = pd.read_csv(f)"
      ]
    },
    {
      "cell_type": "markdown",
      "id": "Vv8YggM7iR6p",
      "metadata": {
        "id": "Vv8YggM7iR6p"
      },
      "source": [
        "Document my findings in Vectice"
      ]
    },
    {
      "cell_type": "code",
      "execution_count": null,
      "id": "XL4uYSJuQQDy",
      "metadata": {
        "colab": {
          "base_uri": "https://localhost:8080/"
        },
        "id": "XL4uYSJuQQDy",
        "outputId": "0105c2d0-3bdf-41eb-e68a-5d1ca0e1a899"
      },
      "outputs": [],
      "source": [
        "from vectice import Dataset, S3Resource\n",
        "from vectice.models.resource import BigQueryResource\n",
        "\n",
        "iteration = vec_project.phase(\"Data Collection\").iteration()"
      ]
    },
    {
      "cell_type": "code",
      "execution_count": null,
      "id": "248c9004",
      "metadata": {},
      "outputs": [],
      "source": [
        "vct_PTY_ID_MAIN = BigQueryResource (bq_client=bigquery_client, path=\"solutions-engineering-363108.CUST_PTY_INFO.PTY_ID_MAIN\")\n",
        "vct_HIST_TRX = BigQueryResource (bq_client=bigquery_client, path=\"solutions-engineering-363108.HIST_CUST_INFO.HIST_TRANS\")\n",
        "\n",
        "vct_LuxAir_Accts = S3Resource(s3_client,bucket_name=\"vectice-examples\", resource_path=\"Samples Data/LuxAir_Accts.csv\")\n",
        "vct_OFAC_SDN = S3Resource(s3_client,bucket_name=\"vectice-examples\", resource_path=\"Samples Data/OFAC_SDN.csv\")"
      ]
    },
    {
      "cell_type": "code",
      "execution_count": null,
      "id": "b0fe82e4-7c2e-4920-a2ff-21e74b429755",
      "metadata": {
        "colab": {
          "base_uri": "https://localhost:8080/"
        },
        "id": "b0fe82e4-7c2e-4920-a2ff-21e74b429755",
        "outputId": "46149c26-1b6d-48ec-aad5-3362aed7d0f4",
        "tags": []
      },
      "outputs": [],
      "source": [
        "\n",
        "\n",
        "# Documenting all four datasets used in the project\n",
        "iteration.step_identify_datasets = Dataset.origin(name=\"PTY_ID_MAIN\", resource=vct_PTY_ID_MAIN, dataframe = df_PTY_ID_MAIN, properties={\"SQL\":qry_PTY_ID_MAIN})\n",
        "iteration.step_identify_datasets += Dataset.origin(name=\"HIST_TRANSACTIONS\", resource=vct_HIST_TRX, dataframe = df_HIST_TRX, properties={\"SQL\":qry_HIST_TRX})\n",
        "iteration.step_identify_datasets += Dataset.origin(name=\"LuxAir_Accts\", resource=vct_LuxAir_Accts, dataframe = df_LuxAir_Accts)\n",
        "iteration.step_identify_datasets += Dataset.origin(name=\"OFAC_SDN\", resource=vct_OFAC_SDN, dataframe = df_OFAC_SDN)\n",
        "\n",
        "iteration.step_identify_datasets = \"We have identified the proper datasets for this project. \\nTwo of the datasets (\\\"LuxAir_Accts\\\" and \\\"OFAC_SDN\\\") are coming from external sources and are dropped weekly on our S3 bucket. These files will need to be automated.\""
      ]
    },
    {
      "cell_type": "markdown",
      "id": "kqrfqSbMlGKy",
      "metadata": {
        "id": "kqrfqSbMlGKy"
      },
      "source": [
        "Capture data summary - Describe data, check for N/A, etc..."
      ]
    },
    {
      "cell_type": "code",
      "execution_count": null,
      "id": "eLz4XDYOlFRw",
      "metadata": {
        "colab": {
          "base_uri": "https://localhost:8080/",
          "height": 356
        },
        "id": "eLz4XDYOlFRw",
        "outputId": "d99242a1-9ec6-4d79-8532-c1cb991c0948"
      },
      "outputs": [],
      "source": [
        "df_PTY_ID_MAIN.describe()"
      ]
    },
    {
      "cell_type": "code",
      "execution_count": null,
      "id": "2fkx8USOm9wh",
      "metadata": {
        "colab": {
          "base_uri": "https://localhost:8080/"
        },
        "id": "2fkx8USOm9wh",
        "outputId": "45e9a944-5b43-45bf-fddd-ac9890813990"
      },
      "outputs": [],
      "source": [
        "df_PTY_ID_MAIN.shape[0]\n"
      ]
    },
    {
      "cell_type": "code",
      "execution_count": null,
      "id": "NcVM2kh8nF8t",
      "metadata": {
        "colab": {
          "base_uri": "https://localhost:8080/"
        },
        "id": "NcVM2kh8nF8t",
        "outputId": "371f50d1-99b1-4d92-c911-b6c9587edb75"
      },
      "outputs": [],
      "source": [
        "df_PTY_ID_MAIN.shape[1]"
      ]
    },
    {
      "cell_type": "code",
      "execution_count": null,
      "id": "TRpjqMdVonI9",
      "metadata": {
        "colab": {
          "base_uri": "https://localhost:8080/"
        },
        "id": "TRpjqMdVonI9",
        "outputId": "88bc5ae6-dafd-4134-ca06-9ba3c97e4fc2"
      },
      "outputs": [],
      "source": [
        "df_PTY_ID_MAIN.isnull().sum().sum()"
      ]
    },
    {
      "cell_type": "code",
      "execution_count": null,
      "id": "2vjCMzgtnSoJ",
      "metadata": {
        "colab": {
          "base_uri": "https://localhost:8080/",
          "height": 356
        },
        "id": "2vjCMzgtnSoJ",
        "outputId": "f72f74dc-4feb-403e-8608-7f8d9d0bbf56"
      },
      "outputs": [],
      "source": [
        "df_HIST_TRX.describe()"
      ]
    },
    {
      "cell_type": "code",
      "execution_count": null,
      "id": "NllBpKeNnStZ",
      "metadata": {
        "colab": {
          "base_uri": "https://localhost:8080/"
        },
        "id": "NllBpKeNnStZ",
        "outputId": "7bf9c1df-35f2-4ece-c466-99e8a563fe52"
      },
      "outputs": [],
      "source": [
        "df_HIST_TRX.shape[0]"
      ]
    },
    {
      "cell_type": "code",
      "execution_count": null,
      "id": "MN0IfanPnSyD",
      "metadata": {
        "colab": {
          "base_uri": "https://localhost:8080/"
        },
        "id": "MN0IfanPnSyD",
        "outputId": "cdf7eb88-4239-4726-87f1-20a73a71af0e"
      },
      "outputs": [],
      "source": [
        "df_HIST_TRX.shape[1]"
      ]
    },
    {
      "cell_type": "code",
      "execution_count": null,
      "id": "khiW08xmo-Cg",
      "metadata": {
        "colab": {
          "base_uri": "https://localhost:8080/"
        },
        "id": "khiW08xmo-Cg",
        "outputId": "4d69248d-2beb-4433-cd9d-48dc207ee1cb"
      },
      "outputs": [],
      "source": [
        "df_HIST_TRX.isnull().sum().sum()"
      ]
    },
    {
      "cell_type": "code",
      "execution_count": null,
      "id": "JTIsylHLmgmH",
      "metadata": {
        "colab": {
          "base_uri": "https://localhost:8080/"
        },
        "id": "JTIsylHLmgmH",
        "outputId": "7bd8f3f8-d488-46de-9422-34d29401309c"
      },
      "outputs": [],
      "source": [
        "# Log insights in Vectice\n",
        "msg = \"\\nSize of Original Dataset:\\n\"\\\n",
        "\"PTY_ID_MAIN: Observations: \" + str(df_PTY_ID_MAIN.shape[0]) + \" - Features: \" + str(df_PTY_ID_MAIN.shape[1])  + \"- # of null values: \" + str(df_PTY_ID_MAIN.isnull().sum().sum()) + \"\\n\" \\\n",
        "\"HIST_TRX: Observations: \" + str(df_HIST_TRX.shape[0])  + \"- Features: \" + str(df_HIST_TRX.shape[1]) + \"- # of null values: \" + str(df_HIST_TRX.isnull().sum().sum()) + \"\\n\" \\\n",
        "\"LuxAir_Accts: Observations: \" + str(df_LuxAir_Accts.shape[0])  + \" - Features: \" + str(df_LuxAir_Accts.shape[1]) + \"- # of null values: \" + str(df_LuxAir_Accts.isnull().sum().sum()) + \"\\n\" \\\n",
        "\"OFAC_SDN: Observations: \" + str(df_OFAC_SDN.shape[0])  + \" - Features: \" + str(df_OFAC_SDN.shape[1]) + \"- # of null values: \" + str(df_OFAC_SDN.isnull().sum().sum())\n",
        "\n",
        "iteration.step_describe_data = \"The data properties have been reviewed for the datasets identified\\n\" + msg"
      ]
    },
    {
      "cell_type": "markdown",
      "id": "dpynjWMApz4i",
      "metadata": {
        "id": "dpynjWMApz4i"
      },
      "source": [
        "Visualize the data"
      ]
    },
    {
      "cell_type": "code",
      "execution_count": null,
      "id": "cTKg8SgKp2wq",
      "metadata": {
        "colab": {
          "base_uri": "https://localhost:8080/",
          "height": 1000
        },
        "id": "cTKg8SgKp2wq",
        "outputId": "de5d3ce4-89b1-4b58-d13a-138db1ed4054"
      },
      "outputs": [],
      "source": [
        "%matplotlib inline\n",
        "import matplotlib.pyplot as plt\n",
        "import seaborn as sb\n",
        "\n",
        "df_PTY_ID_MAIN.plot(kind='box', subplots=True, layout=(2,2), sharex=False, sharey=False)\n",
        "plt.savefig(\"PTY_ID_MAIN_boxplot.jpg\")\n",
        "plt.show()\n",
        "\n",
        "df_PTY_ID_MAIN.hist()\n",
        "histogram = plt.savefig(\"PTY_ID_MAIN_histogram.jpg\")\n",
        "plt.show()"
      ]
    },
    {
      "cell_type": "code",
      "execution_count": null,
      "id": "-9Kxmm0NvM1I",
      "metadata": {
        "colab": {
          "base_uri": "https://localhost:8080/",
          "height": 1000
        },
        "id": "-9Kxmm0NvM1I",
        "outputId": "8ca47acb-de54-4cef-f04e-7f7b034a107b"
      },
      "outputs": [],
      "source": [
        "print(\"HIST_TRX Visualizations:\")\n",
        "\n",
        "df_HIST_TRX.plot(kind='box', subplots=True, layout=(2,2), sharex=False, sharey=False)\n",
        "plt.savefig(\"HIST_TRX_boxplot.jpg\")\n",
        "plt.show()\n",
        "df_HIST_TRX.hist()\n",
        "histogram = plt.savefig(\"HIST_TRX_histogram.jpg\")\n",
        "plt.show()"
      ]
    },
    {
      "cell_type": "code",
      "execution_count": null,
      "id": "0hLkUcHnxG4d",
      "metadata": {
        "colab": {
          "base_uri": "https://localhost:8080/",
          "height": 1000
        },
        "id": "0hLkUcHnxG4d",
        "outputId": "eb1a97fd-d8bf-42a1-f6d3-8ca93da567ca"
      },
      "outputs": [],
      "source": [
        "print(\"LuxAir_Accts Visualizations:\")\n",
        "\n",
        "df_LuxAir_Accts.plot(kind='box', subplots=True, layout=(2,2), sharex=False, sharey=False)\n",
        "plt.savefig(\"LuxAir_Accts_boxplot.jpg\")\n",
        "plt.show()\n",
        "df_LuxAir_Accts.hist()\n",
        "histogram = plt.savefig(\"LuxAir_Accts_histogram.jpg\")\n",
        "plt.show()"
      ]
    },
    {
      "cell_type": "code",
      "execution_count": null,
      "id": "D0xT2qRZxne9",
      "metadata": {
        "colab": {
          "base_uri": "https://localhost:8080/"
        },
        "id": "D0xT2qRZxne9",
        "outputId": "3ba44c51-ea52-4f06-b046-20ca80fb868d"
      },
      "outputs": [],
      "source": [
        "# Capture the visualizations in Vectice\n",
        "\n",
        "iteration.step_explore_data = \"PTY_ID_MAIN_plot.jpg\"\n",
        "#iteration.step_explore_data += \"PTY_ID_MAIN_boxplot.jpg\"\n",
        "#iteration.step_explore_data += \"PTY_ID_MAIN_histogram.jpg\"\n",
        "\n",
        "#iteration.step_explore_data += \"HIST_TRX_plot.jpg\"\n",
        "#iteration.step_explore_data += \"HIST_TRX_boxplot.jpg\"\n",
        "#iteration.step_explore_data += \"HIST_TRX_histogram.jpg\"\n",
        "\n",
        "#iteration.step_explore_data += \"LuxAir_Accts_plot.jpg\"\n",
        "#iteration.step_explore_data += \"LuxAir_Accts_boxplot.jpg\"\n",
        "#iteration.step_explore_data += \"LuxAir_Accts_histogram.jpg\"\n",
        "\n"
      ]
    },
    {
      "cell_type": "code",
      "execution_count": null,
      "id": "fRT_1BwpRiO1",
      "metadata": {
        "colab": {
          "base_uri": "https://localhost:8080/"
        },
        "id": "fRT_1BwpRiO1",
        "outputId": "40d4737c-8613-4be9-c9d6-6f0a2cb7f8ad"
      },
      "outputs": [],
      "source": [
        "iteration.complete()"
      ]
    }
  ],
  "metadata": {
    "colab": {
      "provenance": []
    },
    "kernelspec": {
      "display_name": "Python 3 (ipykernel)",
      "language": "python",
      "name": "python3"
    },
    "language_info": {
      "codemirror_mode": {
        "name": "ipython",
        "version": 3
      },
      "file_extension": ".py",
      "mimetype": "text/x-python",
      "name": "python",
      "nbconvert_exporter": "python",
      "pygments_lexer": "ipython3",
      "version": "3.9.2"
    }
  },
  "nbformat": 4,
  "nbformat_minor": 5
}
