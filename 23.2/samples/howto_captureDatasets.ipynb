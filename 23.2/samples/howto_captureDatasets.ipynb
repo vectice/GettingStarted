{
 "cells": [
  {
   "cell_type": "code",
   "execution_count": null,
   "metadata": {},
   "outputs": [],
   "source": [
    "# Install Vectice and other packages\n",
    "%pip install -q vectice -U\n",
    "%pip install boto3\n",
    "%pip install botocore"
   ]
  },
  {
   "attachments": {},
   "cell_type": "markdown",
   "metadata": {},
   "source": [
    "### Instructions\n",
    "\n",
    "Paste your API token below and execute the block. (your token can be generated [here](https://app.vectice.com/account/api-keys) )   \n",
    "\n",
    "Dataset used can be found here: https://vectice-examples.s3.us-west-1.amazonaws.com/Tutorial/ForecastTutorial/items.csv"
   ]
  },
  {
   "cell_type": "code",
   "execution_count": 1,
   "metadata": {},
   "outputs": [],
   "source": [
    "!wget https://vectice-examples.s3.us-west-1.amazonaws.com/Tutorial/ForecastTutorial/items.csv -q --no-check-certificate"
   ]
  },
  {
   "cell_type": "code",
   "execution_count": 3,
   "metadata": {},
   "outputs": [
    {
     "name": "stderr",
     "output_type": "stream",
     "text": [
      "Welcome, 'Eric Barre'. You`re now successfully connected to the workspace 'Samples' in Vectice.\n",
      "\n",
      "To access a specific project, use workspace.project(Project ID)\n",
      "To get a list of projects you can access and their IDs, use workspace.list_projects()\n",
      "\n",
      "For quick access to the list of projects in the Vectice web app, visit:\n",
      "https://app.vectice.com/workspace/projects?w=2110\n"
     ]
    }
   ],
   "source": [
    "# Import vectice package\n",
    "import vectice as vct\n",
    "from vectice import DatasetType, DatasetSourceUsage, Dataset, FileResource, S3Resource\n",
    "\n",
    "\n",
    "# Connect using your token API - Your token can be found here: https://app.vectice.com/account/api-keys\n",
    "conn = vct.connect(\n",
    "    api_token='YOUR API TOKEN', \n",
    "    host='https://app.vectice.com',\n",
    "    workspace='Samples'\n",
    ")\n",
    "\n",
    "# Optional Vectice flags\n",
    "vct.code_capture = False #ON by default\n",
    "\n",
    "# Open the project\n",
    "#conn = conn.workspace('Samples')\n",
    "project = conn.project(\"How To: Reporting your Milestones\")"
   ]
  },
  {
   "attachments": {},
   "cell_type": "markdown",
   "metadata": {},
   "source": [
    "#### Alternate methods of connecting:  \n",
    "<ul>project = vct.connect(config='~/.config/vectice-config.json')</ul>  \n",
    "provided the json file contains the \"WORKSPACE\" and \"PROJECT\" entries,  \n",
    "OR  \n",
    "<ul>project = vct.connect(config='~/.config/vectice-config.json', workspace=\"ws_name\", project=\"project_name\")</ul>  \n",
    "Both will return a project object\n",
    "\n",
    "[API Reference](https://api-docs.vectice.com/reference/vectice/connection/)"
   ]
  },
  {
   "attachments": {},
   "cell_type": "markdown",
   "metadata": {},
   "source": [
    "#### Capture your dataset and their usage\n",
    "\n",
    "This sample uses data from our Vectice S3 bucket. \n",
    "     \n",
    "We will use boto3 as a client.   "
   ]
  },
  {
   "cell_type": "code",
   "execution_count": 4,
   "metadata": {},
   "outputs": [],
   "source": [
    "from boto3 import client  # Used to create a client and read from S3\n",
    "from botocore import UNSIGNED\n",
    "from botocore.client import Config\n",
    "from vectice import FileResource, S3Resource, GCSResource, DatasetSourceUsage\n",
    "\n",
    "s3_client = client('s3', config=Config(signature_version=UNSIGNED), region_name='us-west-1')"
   ]
  },
  {
   "attachments": {},
   "cell_type": "markdown",
   "metadata": {},
   "source": [
    "\n",
    "The first cell illustrates how to create a Vectice metadataset object, set it as an origin asset, and add it's lineage to the source of the data    \n",
    "\n",
    "The second cell shows how to tag/attach a clean dataset ready for modeling to your project   \n",
    "\n",
    "The third one captures the definition of you modeling dataset (compound dataset - training, testing, validation)"
   ]
  },
  {
   "cell_type": "code",
   "execution_count": 5,
   "metadata": {},
   "outputs": [
    {
     "name": "stdout",
     "output_type": "stream",
     "text": [
      "There are 3 phases in the project 'How To: Reporting your Milestones'.\n",
      "\n",
      "**Legend**     [C]  Completed     [IP] In Progress\n",
      "               [IR] In Review     [NS] Not Started\n",
      "\n"
     ]
    },
    {
     "data": {
      "text/html": [
       "<pre style=\"white-space:pre;overflow-x:auto;line-height:normal;font-family:Menlo,'DejaVu Sans Mono',consolas,'Courier New',monospace\"><span style=\"font-weight: bold\"> phase id          </span>┃<span style=\"font-weight: bold\"> name                           </span>┃<span style=\"font-weight: bold\"> owner          </span>┃<span style=\"font-weight: bold\"> status         </span>┃<span style=\"font-weight: bold\"> iterations    </span>┃<span style=\"font-weight: bold\"> steps           </span>\n",
       "━━━━━━━━━━━━━━━━━━━╇━━━━━━━━━━━━━━━━━━━━━━━━━━━━━━━━╇━━━━━━━━━━━━━━━━╇━━━━━━━━━━━━━━━━╇━━━━━━━━━━━━━━━╇━━━━━━━━━━━━━━━━━\n",
       " 34424             │ Document Dataset               │ Unassigned     │ [IP]           │ 1/1           │ 3               \n",
       " 34425             │ Logging a model                │ Unassigned     │ [IP]           │ 0/1           │ 1               \n",
       " 34426             │ Advanced Logging               │ Unassigned     │ [NS]           │ 0/0           │ 1               \n",
       "</pre>\n"
      ],
      "text/plain": [
       "\u001b[1m \u001b[0m\u001b[1mphase id         \u001b[0m\u001b[1m \u001b[0m┃\u001b[1m \u001b[0m\u001b[1mname                          \u001b[0m\u001b[1m \u001b[0m┃\u001b[1m \u001b[0m\u001b[1mowner         \u001b[0m\u001b[1m \u001b[0m┃\u001b[1m \u001b[0m\u001b[1mstatus        \u001b[0m\u001b[1m \u001b[0m┃\u001b[1m \u001b[0m\u001b[1miterations   \u001b[0m\u001b[1m \u001b[0m┃\u001b[1m \u001b[0m\u001b[1msteps          \u001b[0m\u001b[1m \u001b[0m\n",
       "━━━━━━━━━━━━━━━━━━━╇━━━━━━━━━━━━━━━━━━━━━━━━━━━━━━━━╇━━━━━━━━━━━━━━━━╇━━━━━━━━━━━━━━━━╇━━━━━━━━━━━━━━━╇━━━━━━━━━━━━━━━━━\n",
       " 34424             │ Document Dataset               │ Unassigned     │ [IP]           │ 1/1           │ 3               \n",
       " 34425             │ Logging a model                │ Unassigned     │ [IP]           │ 0/1           │ 1               \n",
       " 34426             │ Advanced Logging               │ Unassigned     │ [NS]           │ 0/0           │ 1               \n"
      ]
     },
     "metadata": {},
     "output_type": "display_data"
    },
    {
     "name": "stdout",
     "output_type": "stream",
     "text": [
      "\n",
      ">> To access a specific phase, use project.phase(PhaseID)\n",
      ">> To access an array of phases, use project.phases\n",
      "\n",
      "For quick access to the list of phases for this project, visit:\n",
      "https://app.vectice.com/project?w=2110&resourceId=8054\n",
      "\n"
     ]
    }
   ],
   "source": [
    "# Data Scientist code to build data frames with data\n",
    "# ...\n",
    "\n",
    "# Let's list out the phases and status - Vectice is bi-directional\n",
    "project.list_phases()"
   ]
  },
  {
   "cell_type": "code",
   "execution_count": 6,
   "metadata": {},
   "outputs": [
    {
     "name": "stderr",
     "output_type": "stream",
     "text": [
      "Phase 'Document Dataset' successfully retrieved.\n",
      "New Iteration number 2 created.\n",
      "Iteration number 2 successfully retrieved.\n"
     ]
    },
    {
     "name": "stdout",
     "output_type": "stream",
     "text": [
      "There are 3 steps in iteration 2.\n",
      "\n"
     ]
    },
    {
     "data": {
      "text/html": [
       "<pre style=\"white-space:pre;overflow-x:auto;line-height:normal;font-family:Menlo,'DejaVu Sans Mono',consolas,'Courier New',monospace\"><span style=\"font-weight: bold\"> step id         </span>┃<span style=\"font-weight: bold\"> shortcut                                            </span>┃<span style=\"font-weight: bold\"> artifacts                </span>┃<span style=\"font-weight: bold\"> comment             </span>\n",
       "━━━━━━━━━━━━━━━━━╇━━━━━━━━━━━━━━━━━━━━━━━━━━━━━━━━━━━━━━━━━━━━━━━━━━━━━╇━━━━━━━━━━━━━━━━━━━━━━━━━━╇━━━━━━━━━━━━━━━━━━━━━\n",
       " 22420           │ step_identify_source_datasets                       │                          │                     \n",
       " 22422           │ step_prep_datasets                                  │                          │                     \n",
       " 22421           │ step_partition_dataset                              │                          │                     \n",
       "</pre>\n"
      ],
      "text/plain": [
       "\u001b[1m \u001b[0m\u001b[1mstep id        \u001b[0m\u001b[1m \u001b[0m┃\u001b[1m \u001b[0m\u001b[1mshortcut                                           \u001b[0m\u001b[1m \u001b[0m┃\u001b[1m \u001b[0m\u001b[1martifacts               \u001b[0m\u001b[1m \u001b[0m┃\u001b[1m \u001b[0m\u001b[1mcomment            \u001b[0m\u001b[1m \u001b[0m\n",
       "━━━━━━━━━━━━━━━━━╇━━━━━━━━━━━━━━━━━━━━━━━━━━━━━━━━━━━━━━━━━━━━━━━━━━━━━╇━━━━━━━━━━━━━━━━━━━━━━━━━━╇━━━━━━━━━━━━━━━━━━━━━\n",
       " 22420           │ step_identify_source_datasets                       │                          │                     \n",
       " 22422           │ step_prep_datasets                                  │                          │                     \n",
       " 22421           │ step_partition_dataset                              │                          │                     \n"
      ]
     },
     "metadata": {},
     "output_type": "display_data"
    },
    {
     "name": "stdout",
     "output_type": "stream",
     "text": [
      "\n",
      ">> To access a specific step, use iteration.step(Step ID)\n",
      ">> To access an array of steps, use iteration.steps\n",
      "\n",
      "For quick access to the list of steps in the Vectice web app, visit:\n",
      "https://app.vectice.com/project/phase/iteration?w=2110&iterationId=6352\n",
      "\n"
     ]
    }
   ],
   "source": [
    "# Let's instanciate an iteration for the second phase in the list above (Document Dataset)\n",
    "phase_iter = project.phase(\"Document Dataset\").iteration()\n",
    "\n",
    "# Let's have a look at the steps needed to be completed\n",
    "phase_iter.list_steps()"
   ]
  },
  {
   "cell_type": "code",
   "execution_count": 7,
   "metadata": {},
   "outputs": [
    {
     "name": "stderr",
     "output_type": "stream",
     "text": [
      "Successfully registered Dataset(name='Stores', id=23997, version='Version 1', type=ORIGIN).\n",
      "Existing Dataset: 'Stores' Version: 'Version 1' added to Step: Identify source datasets\n",
      "Link to Step: https://app.vectice.com/project/phase/iteration?w=2110&iterationId=6352\n",
      "\n",
      "Iteration number 2 successfully retrieved.\n",
      "Successfully registered Dataset(name='Transactions', id=23998, version='Version 1', type=ORIGIN).\n",
      "Successfully added Dataset(name='Transactions', id=23998, version='Version 1', type=ORIGIN) to Identify source datasets\n",
      "File: items.csv wrapped successfully.\n",
      "Iteration number 2 successfully retrieved.\n",
      "Successfully registered Dataset(name='Items', id=24414, version='Version 2', type=ORIGIN).\n",
      "Successfully added Dataset(name='Items', id=24414, version='Version 2', type=ORIGIN) to Identify source datasets\n"
     ]
    }
   ],
   "source": [
    "# Great I now know the structure of my projects and the items I need to complete\n",
    "\n",
    "# Document the original datasets used for this iteration (step_identify_source_datasets)\n",
    "\n",
    "# Using a S3Resource object for files on AWS S3:\n",
    "phase_iter.step_identify_source_datasets = Dataset.origin( name=\"Stores\", resource=S3Resource(s3_client=s3_client,bucket_name='vectice-examples',resource_path=\"Tutorial/ForecastTutorial/stores.csv\"))\n",
    "phase_iter.step_identify_source_datasets += Dataset.origin(name=\"Transactions\",resource=S3Resource(s3_client=s3_client,bucket_name='vectice-examples',resource_path=\"Tutorial/ForecastTutorial/transactions.csv\"))\n",
    "\n",
    "# Using a FileResource for local files\n",
    "local_file = FileResource(path=\"items.csv\")\n",
    "phase_iter.step_identify_source_datasets += Dataset.origin(name=\"Items\",resource=local_file)\n",
    "\n",
    "# More examples here: https://docs.vectice.com/python-api-docs/how-to-register-datasets\n",
    "\n",
    "\n",
    "#Adding a commnent to the step\n",
    "phase_iter.step_identify_source_datasets = \"The datasets for the project have been identified as \\'stores.csv\\' and \\'transaction.csv'.\\nBoth files are located under the \\'vectice-example' S3 bucket.\\n We also identified a local file to help with feature engineering.\""
   ]
  },
  {
   "cell_type": "code",
   "execution_count": 8,
   "metadata": {},
   "outputs": [
    {
     "name": "stderr",
     "output_type": "stream",
     "text": [
      "Successfully registered Dataset(name='Normalized_Cleaned', id=24000, version='Version 1', type=CLEAN).\n",
      "Existing Dataset: 'Normalized_Cleaned' Version: 'Version 1' added to Step: Prep datasets\n",
      "Link to Step: https://app.vectice.com/project/phase/iteration?w=2110&iterationId=6352\n",
      "\n"
     ]
    }
   ],
   "source": [
    "# Data Scientist code for data preparation, normalization, etc...\n",
    "# ...\n",
    "\n",
    "# Register the cleaned dataset in Vectice\n",
    "phase_iter.step_prep_datasets = Dataset.clean( name=\"Normalized_Cleaned\", resource=S3Resource(s3_client=s3_client,bucket_name='vectice-examples',resource_path=\"Tutorial/ForecastTutorial/train_clean.csv\"))\n",
    "\n",
    "msg = \"As part of our standard Data Pipeline process we applied the following preparation to our datasets: - Handling of missing data - Applied standard scaler to numerical attributes - Converted categorical data into numerical - Split values in numerical value..\"\n",
    "phase_iter.step_prep_datasets = msg"
   ]
  },
  {
   "cell_type": "code",
   "execution_count": 9,
   "metadata": {},
   "outputs": [
    {
     "name": "stdout",
     "output_type": "stream",
     "text": [
      "There are 3 steps in iteration 2.\n",
      "\n"
     ]
    },
    {
     "data": {
      "text/html": [
       "<pre style=\"white-space:pre;overflow-x:auto;line-height:normal;font-family:Menlo,'DejaVu Sans Mono',consolas,'Courier New',monospace\"><span style=\"font-weight: bold\"> step id     </span>┃<span style=\"font-weight: bold\"> shortcut                             </span>┃<span style=\"font-weight: bold\"> artifacts                   </span>┃<span style=\"font-weight: bold\"> comment                             </span>\n",
       "━━━━━━━━━━━━━╇━━━━━━━━━━━━━━━━━━━━━━━━━━━━━━━━━━━━━━╇━━━━━━━━━━━━━━━━━━━━━━━━━━━━━╇━━━━━━━━━━━━━━━━━━━━━━━━━━━━━━━━━━━━━\n",
       " 22420       │ step_identify_source_datasets        │ 1. DataSetVersion 23997     │ The datasets for the project have … \n",
       "             │                                      │                             │ Both files are located under the '… \n",
       "             │                                      │                             │  We also identified a local file t… \n",
       "             │                                      │ 2. DataSetVersion 23998     │                                     \n",
       "             │                                      │ 3. DataSetVersion 24414     │                                     \n",
       " 22422       │ step_prep_datasets                   │ 1. DataSetVersion 24000     │ As part of our standard Data Pipel… \n",
       " 22421       │ step_partition_dataset               │                             │                                     \n",
       "</pre>\n"
      ],
      "text/plain": [
       "\u001b[1m \u001b[0m\u001b[1mstep id    \u001b[0m\u001b[1m \u001b[0m┃\u001b[1m \u001b[0m\u001b[1mshortcut                            \u001b[0m\u001b[1m \u001b[0m┃\u001b[1m \u001b[0m\u001b[1martifacts                  \u001b[0m\u001b[1m \u001b[0m┃\u001b[1m \u001b[0m\u001b[1mcomment                            \u001b[0m\u001b[1m \u001b[0m\n",
       "━━━━━━━━━━━━━╇━━━━━━━━━━━━━━━━━━━━━━━━━━━━━━━━━━━━━━╇━━━━━━━━━━━━━━━━━━━━━━━━━━━━━╇━━━━━━━━━━━━━━━━━━━━━━━━━━━━━━━━━━━━━\n",
       " 22420       │ step_identify_source_datasets        │ 1. DataSetVersion 23997     │ The datasets for the project have … \n",
       "             │                                      │                             │ Both files are located under the '… \n",
       "             │                                      │                             │  We also identified a local file t… \n",
       "             │                                      │ 2. DataSetVersion 23998     │                                     \n",
       "             │                                      │ 3. DataSetVersion 24414     │                                     \n",
       " 22422       │ step_prep_datasets                   │ 1. DataSetVersion 24000     │ As part of our standard Data Pipel… \n",
       " 22421       │ step_partition_dataset               │                             │                                     \n"
      ]
     },
     "metadata": {},
     "output_type": "display_data"
    },
    {
     "name": "stdout",
     "output_type": "stream",
     "text": [
      "\n",
      ">> To access a specific step, use iteration.step(Step ID)\n",
      ">> To access an array of steps, use iteration.steps\n",
      "\n",
      "For quick access to the list of steps in the Vectice web app, visit:\n",
      "https://app.vectice.com/project/phase/iteration?w=2110&iterationId=6352\n",
      "\n"
     ]
    }
   ],
   "source": [
    "# Hmmmmm, which step am I on again? \n",
    "# Vectice makes it easy to follow your progress\n",
    "phase_iter.list_steps()\n",
    "\n",
    "# Ok, looks like I am working on the \"step_partition_dataset\""
   ]
  },
  {
   "cell_type": "code",
   "execution_count": 10,
   "metadata": {},
   "outputs": [
    {
     "name": "stderr",
     "output_type": "stream",
     "text": [
      "Successfully registered Dataset(name='Modeling Dataset', id=24415, version='Version 1', type=MODELING).\n",
      "New Dataset: 'Modeling Dataset' Version: 'Version 1' added to Step: Partition dataset\n",
      "Link to Step: https://app.vectice.com/project/phase/iteration?w=2110&iterationId=6352\n",
      "\n"
     ]
    }
   ],
   "source": [
    "# Data Scientist code to generate training, testing, and validation dataframes\n",
    "# ...\n",
    "\n",
    "# Define testing, training and validation resources\n",
    "train_ds = S3Resource(s3_client=s3_client, bucket_name='vectice-examples', resource_path=\"Tutorial/ForecastTutorial/traindataset.csv\")\n",
    "test_ds = S3Resource(s3_client=s3_client, bucket_name='vectice-examples', resource_path=\"Tutorial/ForecastTutorial/testdataset.csv\")\n",
    "validate_ds = S3Resource(s3_client=s3_client, bucket_name='vectice-examples', resource_path=\"Tutorial/ForecastTutorial/validatedataset.csv\")\n",
    "\n",
    "dataset = Dataset.modeling(\n",
    "    name=\"Modeling Dataset\",\n",
    "    training_resource=train_ds,\n",
    "    testing_resource=test_ds,\n",
    "    validation_resource=validate_ds,\n",
    ")\n",
    "phase_iter.step_partition_dataset = dataset\n",
    "# Document the step and automatically attach the dataset\n",
    "phase_iter.step_partition_dataset = \"We split the cleaned dataset in a training, testing and validation datasets. 40% of the data is set aside for testing and our seed to generate repeatable datasets is 42\""
   ]
  }
 ],
 "metadata": {
  "kernelspec": {
   "display_name": "Python 3",
   "language": "python",
   "name": "python3"
  },
  "language_info": {
   "codemirror_mode": {
    "name": "ipython",
    "version": 3
   },
   "file_extension": ".py",
   "mimetype": "text/x-python",
   "name": "python",
   "nbconvert_exporter": "python",
   "pygments_lexer": "ipython3",
   "version": "3.9.2"
  },
  "orig_nbformat": 4,
  "vscode": {
   "interpreter": {
    "hash": "397704579725e15f5c7cb49fe5f0341eb7531c82d19f2c29d197e8b64ab5776b"
   }
  }
 },
 "nbformat": 4,
 "nbformat_minor": 2
}
