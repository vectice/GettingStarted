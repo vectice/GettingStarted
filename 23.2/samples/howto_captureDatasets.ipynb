{
 "cells": [
  {
   "cell_type": "code",
   "execution_count": 14,
   "metadata": {},
   "outputs": [
    {
     "name": "stdout",
     "output_type": "stream",
     "text": [
      "Note: you may need to restart the kernel to use updated packages.\n",
      "Requirement already satisfied: boto3 in /Library/Frameworks/Python.framework/Versions/3.9/lib/python3.9/site-packages (1.26.49)\n",
      "Requirement already satisfied: botocore<1.30.0,>=1.29.49 in /Library/Frameworks/Python.framework/Versions/3.9/lib/python3.9/site-packages (from boto3) (1.29.76)\n",
      "Requirement already satisfied: jmespath<2.0.0,>=0.7.1 in /Library/Frameworks/Python.framework/Versions/3.9/lib/python3.9/site-packages (from boto3) (1.0.1)\n",
      "Requirement already satisfied: s3transfer<0.7.0,>=0.6.0 in /Library/Frameworks/Python.framework/Versions/3.9/lib/python3.9/site-packages (from boto3) (0.6.0)\n",
      "Requirement already satisfied: python-dateutil<3.0.0,>=2.1 in /Library/Frameworks/Python.framework/Versions/3.9/lib/python3.9/site-packages (from botocore<1.30.0,>=1.29.49->boto3) (2.8.2)\n",
      "Requirement already satisfied: urllib3<1.27,>=1.25.4 in /Library/Frameworks/Python.framework/Versions/3.9/lib/python3.9/site-packages (from botocore<1.30.0,>=1.29.49->boto3) (1.26.15)\n",
      "Requirement already satisfied: six>=1.5 in /Library/Frameworks/Python.framework/Versions/3.9/lib/python3.9/site-packages (from python-dateutil<3.0.0,>=2.1->botocore<1.30.0,>=1.29.49->boto3) (1.16.0)\n",
      "Note: you may need to restart the kernel to use updated packages.\n",
      "Requirement already satisfied: botocore in /Library/Frameworks/Python.framework/Versions/3.9/lib/python3.9/site-packages (1.29.76)\n",
      "Requirement already satisfied: jmespath<2.0.0,>=0.7.1 in /Library/Frameworks/Python.framework/Versions/3.9/lib/python3.9/site-packages (from botocore) (1.0.1)\n",
      "Requirement already satisfied: python-dateutil<3.0.0,>=2.1 in /Library/Frameworks/Python.framework/Versions/3.9/lib/python3.9/site-packages (from botocore) (2.8.2)\n",
      "Requirement already satisfied: urllib3<1.27,>=1.25.4 in /Library/Frameworks/Python.framework/Versions/3.9/lib/python3.9/site-packages (from botocore) (1.26.15)\n",
      "Requirement already satisfied: six>=1.5 in /Library/Frameworks/Python.framework/Versions/3.9/lib/python3.9/site-packages (from python-dateutil<3.0.0,>=2.1->botocore) (1.16.0)\n",
      "Note: you may need to restart the kernel to use updated packages.\n"
     ]
    }
   ],
   "source": [
    "# Install Vectice and other packages\n",
    "%pip install -q vectice -U\n",
    "%pip install boto3\n",
    "%pip install botocore"
   ]
  },
  {
   "attachments": {},
   "cell_type": "markdown",
   "metadata": {},
   "source": [
    "### Instructions\n",
    "\n",
    "Paste your API token below and execute the block. (your token can be generated [here](https://app.vectice.com/account/api-keys) )   \n",
    "\n",
    "Dataset used can be found here: https://vectice-examples.s3.us-west-1.amazonaws.com/Tutorial/ForecastTutorial/items.csv"
   ]
  },
  {
   "cell_type": "code",
   "execution_count": 15,
   "metadata": {},
   "outputs": [],
   "source": [
    "!wget https://vectice-examples.s3.us-west-1.amazonaws.com/Tutorial/ForecastTutorial/items.csv -q --no-check-certificate"
   ]
  },
  {
   "cell_type": "code",
   "execution_count": 16,
   "metadata": {},
   "outputs": [
    {
     "name": "stderr",
     "output_type": "stream",
     "text": [
      "Workspace 'Samples' successfully retrieved.\"\n",
      "\n",
      "For quick access to the workspace in the Vectice web app, visit:\n",
      "https://app.vectice.com/workspace/dashboard/project-progress?w=2110\n",
      "Welcome, 'Eric Barre'. You`re now successfully connected to the workspace 'Samples' in Vectice.\n",
      "\n",
      "To access a specific project, use \u001b[1mworkspace\u001b[0m.project(Project ID)\n",
      "To get a list of projects you can access and their IDs, use \u001b[1mworkspace\u001b[0m.list_projects()\n",
      "\n",
      "For quick access to the list of projects in the Vectice web app, visit:\n",
      "https://app.vectice.com/workspace/projects?w=2110\n"
     ]
    }
   ],
   "source": [
    "# Import vectice package\n",
    "import vectice as vct\n",
    "\n",
    "# Connect using your token API - Your token can be found here: https://app.vectice.com/account/api-keys\n",
    "conn = vct.connect(\n",
    "    api_token='YOUR API TOKEN', \n",
    "    host='https://app.vectice.com',\n",
    "    workspace='Samples'\n",
    ")\n",
    "\n",
    "# Open the project\n",
    "#conn = conn.workspace('Samples')\n",
    "project = conn.project(\"How To: Reporting your Milestones\")"
   ]
  },
  {
   "attachments": {},
   "cell_type": "markdown",
   "metadata": {},
   "source": [
    "#### Alternate methods of connecting:  \n",
    "<ul>project = vct.connect(config='~/.config/vectice-config.json')</ul>  \n",
    "provided the json file contains the \"WORKSPACE\" and \"PROJECT\" entries,  \n",
    "OR  \n",
    "<ul>project = vct.connect(config='~/.config/vectice-config.json', workspace=\"ws_name\", project=\"project_name\")</ul>  \n",
    "Both will return a project object\n",
    "\n",
    "[API Reference](https://api-docs.vectice.com/reference/vectice/connection/)"
   ]
  },
  {
   "attachments": {},
   "cell_type": "markdown",
   "metadata": {},
   "source": [
    "#### Capture your dataset and their usage\n",
    "\n",
    "This sample uses data from our Vectice S3 bucket. \n",
    "     \n",
    "We will use boto3 as a client.   "
   ]
  },
  {
   "cell_type": "code",
   "execution_count": 17,
   "metadata": {},
   "outputs": [],
   "source": [
    "from boto3 import client  # Used to create a client and read from S3\n",
    "from botocore import UNSIGNED\n",
    "from botocore.client import Config\n",
    "from vectice import FileResource, S3Resource, Dataset\n",
    "\n",
    "s3_client = client('s3', config=Config(signature_version=UNSIGNED), region_name='us-west-1')"
   ]
  },
  {
   "attachments": {},
   "cell_type": "markdown",
   "metadata": {},
   "source": [
    "\n",
    "The first cell illustrates how to create a Vectice metadataset object, set it as an origin asset, and add it's lineage to the source of the data    \n",
    "\n",
    "The second cell shows how to tag/attach a clean dataset ready for modeling to your project   \n",
    "\n",
    "The third one captures the definition of you modeling dataset (compound dataset - training, testing, validation)"
   ]
  },
  {
   "cell_type": "code",
   "execution_count": 18,
   "metadata": {},
   "outputs": [
    {
     "name": "stdout",
     "output_type": "stream",
     "text": [
      "Successful S3 get_object response. Status - 200\n",
      "    store_nbr           city                           state type  cluster\n",
      "0           1          Quito                       Pichincha    D       13\n",
      "1           2          Quito                       Pichincha    D       13\n",
      "2           3          Quito                       Pichincha    D        8\n",
      "3           4          Quito                       Pichincha    D        9\n",
      "4           5  Santo Domingo  Santo Domingo de los Tsachilas    D        4\n",
      "5           6          Quito                       Pichincha    D       13\n",
      "6           7          Quito                       Pichincha    D        8\n",
      "7           8          Quito                       Pichincha    D        8\n",
      "8           9          Quito                       Pichincha    B        6\n",
      "9          10          Quito                       Pichincha    C       15\n",
      "10         11        Cayambe                       Pichincha    B        6\n",
      "11         12      Latacunga                        Cotopaxi    C       15\n",
      "12         13      Latacunga                        Cotopaxi    C       15\n",
      "13         14       Riobamba                      Chimborazo    C        7\n",
      "14         15         Ibarra                        Imbabura    C       15\n",
      "15         16  Santo Domingo  Santo Domingo de los Tsachilas    C        3\n",
      "16         17          Quito                       Pichincha    C       12\n",
      "17         18          Quito                       Pichincha    B       16\n",
      "18         19       Guaranda                         Bolivar    C       15\n",
      "19         20          Quito                       Pichincha    B        6\n",
      "20         21  Santo Domingo  Santo Domingo de los Tsachilas    B        6\n",
      "21         22           Puyo                         Pastaza    C        7\n",
      "22         23         Ambato                      Tungurahua    D        9\n",
      "23         24      Guayaquil                          Guayas    D        1\n",
      "24         25        Salinas                     Santa Elena    D        1\n",
      "25         26      Guayaquil                          Guayas    D       10\n",
      "26         27          Daule                          Guayas    D        1\n",
      "27         28      Guayaquil                          Guayas    E       10\n",
      "28         29      Guayaquil                          Guayas    E       10\n",
      "29         30      Guayaquil                          Guayas    C        3\n",
      "30         31       Babahoyo                        Los Rios    B       10\n",
      "31         32      Guayaquil                          Guayas    C        3\n",
      "32         33        Quevedo                        Los Rios    C        3\n",
      "33         34      Guayaquil                          Guayas    B        6\n",
      "34         35         Playas                          Guayas    C        3\n",
      "35         36       Libertad                          Guayas    E       10\n",
      "36         37         Cuenca                           Azuay    D        2\n",
      "37         38           Loja                            Loja    D        4\n",
      "38         39         Cuenca                           Azuay    B        6\n",
      "39         40        Machala                          El Oro    C        3\n",
      "40         41        Machala                          El Oro    D        4\n",
      "41         42         Cuenca                           Azuay    D        2\n",
      "42         43     Esmeraldas                      Esmeraldas    E       10\n",
      "43         44          Quito                       Pichincha    A        5\n",
      "44         45          Quito                       Pichincha    A       11\n",
      "45         46          Quito                       Pichincha    A       14\n",
      "46         47          Quito                       Pichincha    A       14\n",
      "47         48          Quito                       Pichincha    A       14\n",
      "48         49          Quito                       Pichincha    A       11\n",
      "49         50         Ambato                      Tungurahua    A       14\n",
      "50         51      Guayaquil                          Guayas    A       17\n",
      "51         52          Manta                          Manabi    A       11\n",
      "52         53          Manta                          Manabi    D       13\n",
      "53         54      El Carmen                          Manabi    C        3\n",
      "Successful S3 get_object response. Status - 200\n",
      "    store_nbr           city                           state type  cluster\n",
      "0           1          Quito                       Pichincha    D       13\n",
      "1           2          Quito                       Pichincha    D       13\n",
      "2           3          Quito                       Pichincha    D        8\n",
      "3           4          Quito                       Pichincha    D        9\n",
      "4           5  Santo Domingo  Santo Domingo de los Tsachilas    D        4\n",
      "5           6          Quito                       Pichincha    D       13\n",
      "6           7          Quito                       Pichincha    D        8\n",
      "7           8          Quito                       Pichincha    D        8\n",
      "8           9          Quito                       Pichincha    B        6\n",
      "9          10          Quito                       Pichincha    C       15\n",
      "10         11        Cayambe                       Pichincha    B        6\n",
      "11         12      Latacunga                        Cotopaxi    C       15\n",
      "12         13      Latacunga                        Cotopaxi    C       15\n",
      "13         14       Riobamba                      Chimborazo    C        7\n",
      "14         15         Ibarra                        Imbabura    C       15\n",
      "15         16  Santo Domingo  Santo Domingo de los Tsachilas    C        3\n",
      "16         17          Quito                       Pichincha    C       12\n",
      "17         18          Quito                       Pichincha    B       16\n",
      "18         19       Guaranda                         Bolivar    C       15\n",
      "19         20          Quito                       Pichincha    B        6\n",
      "20         21  Santo Domingo  Santo Domingo de los Tsachilas    B        6\n",
      "21         22           Puyo                         Pastaza    C        7\n",
      "22         23         Ambato                      Tungurahua    D        9\n",
      "23         24      Guayaquil                          Guayas    D        1\n",
      "24         25        Salinas                     Santa Elena    D        1\n",
      "25         26      Guayaquil                          Guayas    D       10\n",
      "26         27          Daule                          Guayas    D        1\n",
      "27         28      Guayaquil                          Guayas    E       10\n",
      "28         29      Guayaquil                          Guayas    E       10\n",
      "29         30      Guayaquil                          Guayas    C        3\n",
      "30         31       Babahoyo                        Los Rios    B       10\n",
      "31         32      Guayaquil                          Guayas    C        3\n",
      "32         33        Quevedo                        Los Rios    C        3\n",
      "33         34      Guayaquil                          Guayas    B        6\n",
      "34         35         Playas                          Guayas    C        3\n",
      "35         36       Libertad                          Guayas    E       10\n",
      "36         37         Cuenca                           Azuay    D        2\n",
      "37         38           Loja                            Loja    D        4\n",
      "38         39         Cuenca                           Azuay    B        6\n",
      "39         40        Machala                          El Oro    C        3\n",
      "40         41        Machala                          El Oro    D        4\n",
      "41         42         Cuenca                           Azuay    D        2\n",
      "42         43     Esmeraldas                      Esmeraldas    E       10\n",
      "43         44          Quito                       Pichincha    A        5\n",
      "44         45          Quito                       Pichincha    A       11\n",
      "45         46          Quito                       Pichincha    A       14\n",
      "46         47          Quito                       Pichincha    A       14\n",
      "47         48          Quito                       Pichincha    A       14\n",
      "48         49          Quito                       Pichincha    A       11\n",
      "49         50         Ambato                      Tungurahua    A       14\n",
      "50         51      Guayaquil                          Guayas    A       17\n",
      "51         52          Manta                          Manabi    A       11\n",
      "52         53          Manta                          Manabi    D       13\n",
      "53         54      El Carmen                          Manabi    C        3\n"
     ]
    }
   ],
   "source": [
    "import pandas as pd\n",
    "# Here would be your code to capture your source datasets as part of your DS workflow\n",
    "# and build one or more dataframes for your EDA/Data Prep \n",
    "# ...\n",
    "response = s3_client.get_object(Bucket=\"vectice-examples\", Key=\"Tutorial/ForecastTutorial/stores.csv\")\n",
    "status = response.get(\"ResponseMetadata\", {}).get(\"HTTPStatusCode\")\n",
    "if status == 200:\n",
    "    print(f\"Successful S3 get_object response. Status - {status}\")\n",
    "    stores_df=pd.read_csv(response.get(\"Body\"))\n",
    "    print(stores_df)\n",
    "else:\n",
    "    print(f\"Unsuccessful S3 get_object response. Status - {status}\")\n",
    "\n",
    "response = s3_client.get_object(Bucket=\"vectice-examples\", Key=\"Tutorial/ForecastTutorial/transactions.csv\")\n",
    "status = response.get(\"ResponseMetadata\", {}).get(\"HTTPStatusCode\")\n",
    "if status == 200:\n",
    "    print(f\"Successful S3 get_object response. Status - {status}\")\n",
    "    transaction_df=pd.read_csv(response.get(\"Body\"))\n",
    "    print(stores_df)\n",
    "else:\n",
    "    print(f\"Unsuccessful S3 get_object response. Status - {status}\")"
   ]
  },
  {
   "cell_type": "code",
   "execution_count": 19,
   "metadata": {},
   "outputs": [
    {
     "name": "stdout",
     "output_type": "stream",
     "text": [
      "There are 3 phases in the project 'How To: Reporting your Milestones' and a maximum of 10 phases are displayed in the table below:\n",
      "\n",
      "**Legend**     [C]  Completed     [IP] In Progress\n",
      "               [IR] In Review     [NS] Not Started\n",
      "\n"
     ]
    },
    {
     "data": {
      "text/html": [
       "<pre style=\"white-space:pre;overflow-x:auto;line-height:normal;font-family:Menlo,'DejaVu Sans Mono',consolas,'Courier New',monospace\"><span style=\"font-weight: bold\"> phase id          </span>┃<span style=\"font-weight: bold\"> name                           </span>┃<span style=\"font-weight: bold\"> owner          </span>┃<span style=\"font-weight: bold\"> status         </span>┃<span style=\"font-weight: bold\"> iterations    </span>┃<span style=\"font-weight: bold\"> steps           </span>\n",
       "━━━━━━━━━━━━━━━━━━━╇━━━━━━━━━━━━━━━━━━━━━━━━━━━━━━━━╇━━━━━━━━━━━━━━━━╇━━━━━━━━━━━━━━━━╇━━━━━━━━━━━━━━━╇━━━━━━━━━━━━━━━━━\n",
       " 35324             │ Document Dataset               │ Unassigned     │ [IP]           │ 0/1           │ 3               \n",
       " 35323             │ Logging a model                │ Unassigned     │ [IP]           │ 0/1           │ 1               \n",
       " 35325             │ Advanced Logging               │ Unassigned     │ [IP]           │ 0/1           │ 1               \n",
       "</pre>\n"
      ],
      "text/plain": [
       "\u001b[1m \u001b[0m\u001b[1mphase id         \u001b[0m\u001b[1m \u001b[0m┃\u001b[1m \u001b[0m\u001b[1mname                          \u001b[0m\u001b[1m \u001b[0m┃\u001b[1m \u001b[0m\u001b[1mowner         \u001b[0m\u001b[1m \u001b[0m┃\u001b[1m \u001b[0m\u001b[1mstatus        \u001b[0m\u001b[1m \u001b[0m┃\u001b[1m \u001b[0m\u001b[1miterations   \u001b[0m\u001b[1m \u001b[0m┃\u001b[1m \u001b[0m\u001b[1msteps          \u001b[0m\u001b[1m \u001b[0m\n",
       "━━━━━━━━━━━━━━━━━━━╇━━━━━━━━━━━━━━━━━━━━━━━━━━━━━━━━╇━━━━━━━━━━━━━━━━╇━━━━━━━━━━━━━━━━╇━━━━━━━━━━━━━━━╇━━━━━━━━━━━━━━━━━\n",
       " 35324             │ Document Dataset               │ Unassigned     │ [IP]           │ 0/1           │ 3               \n",
       " 35323             │ Logging a model                │ Unassigned     │ [IP]           │ 0/1           │ 1               \n",
       " 35325             │ Advanced Logging               │ Unassigned     │ [IP]           │ 0/1           │ 1               \n"
      ]
     },
     "metadata": {},
     "output_type": "display_data"
    },
    {
     "name": "stdout",
     "output_type": "stream",
     "text": [
      "\n",
      "To access a specific phase, use \u001b[1mproject\u001b[0m.phase(Phase ID)\n",
      "\n",
      "For quick access to the list of phases for this project, visit:\n",
      "https://app.vectice.com/project?w=2110&resourceId=8218\n",
      "\n"
     ]
    }
   ],
   "source": [
    "# Now that we have identified our data, let's document this milestone\n",
    "# Where were we...\n",
    "project.list_phases()"
   ]
  },
  {
   "cell_type": "code",
   "execution_count": 20,
   "metadata": {},
   "outputs": [
    {
     "name": "stderr",
     "output_type": "stream",
     "text": [
      "Phase 'Document Dataset' successfully retrieved.\"\n",
      "\n",
      "For quick access to the Phase in the Vectice web app, visit:\n",
      "https://app.vectice.com/project/phase?w=2110&pageId=35324\n",
      "New Iteration number '2' created.\n",
      "\n",
      "For quick access to the Iteration in the Vectice web app, visit:\n",
      "https://app.vectice.com/project/phase/iteration?w=2110&iterationId=6539\n"
     ]
    },
    {
     "name": "stdout",
     "output_type": "stream",
     "text": [
      "There are 3 steps in Iteration '2' and a maximum of 10 steps are displayed in the table below:\n",
      "\n"
     ]
    },
    {
     "data": {
      "text/html": [
       "<pre style=\"white-space:pre;overflow-x:auto;line-height:normal;font-family:Menlo,'DejaVu Sans Mono',consolas,'Courier New',monospace\"><span style=\"font-weight: bold\"> index           </span>┃<span style=\"font-weight: bold\"> shortcut                                            </span>┃<span style=\"font-weight: bold\"> artifacts                </span>┃<span style=\"font-weight: bold\"> comment             </span>\n",
       "━━━━━━━━━━━━━━━━━╇━━━━━━━━━━━━━━━━━━━━━━━━━━━━━━━━━━━━━━━━━━━━━━━━━━━━━╇━━━━━━━━━━━━━━━━━━━━━━━━━━╇━━━━━━━━━━━━━━━━━━━━━\n",
       " 1               │ step_identify_source_datasets                       │ 0                        │ False               \n",
       " 2               │ step_prep_datasets                                  │ 0                        │ False               \n",
       " 3               │ step_partition_dataset                              │ 0                        │ False               \n",
       "</pre>\n"
      ],
      "text/plain": [
       "\u001b[1m \u001b[0m\u001b[1mindex          \u001b[0m\u001b[1m \u001b[0m┃\u001b[1m \u001b[0m\u001b[1mshortcut                                           \u001b[0m\u001b[1m \u001b[0m┃\u001b[1m \u001b[0m\u001b[1martifacts               \u001b[0m\u001b[1m \u001b[0m┃\u001b[1m \u001b[0m\u001b[1mcomment            \u001b[0m\u001b[1m \u001b[0m\n",
       "━━━━━━━━━━━━━━━━━╇━━━━━━━━━━━━━━━━━━━━━━━━━━━━━━━━━━━━━━━━━━━━━━━━━━━━━╇━━━━━━━━━━━━━━━━━━━━━━━━━━╇━━━━━━━━━━━━━━━━━━━━━\n",
       " 1               │ step_identify_source_datasets                       │ 0                        │ False               \n",
       " 2               │ step_prep_datasets                                  │ 0                        │ False               \n",
       " 3               │ step_partition_dataset                              │ 0                        │ False               \n"
      ]
     },
     "metadata": {},
     "output_type": "display_data"
    },
    {
     "name": "stdout",
     "output_type": "stream",
     "text": [
      "\n",
      "To access a specific step, use the step shortcut \u001b[1iiteration\u001b[0m.step_my_step_name\n",
      "The step reference is referred to as shortcut\n",
      "\n",
      "For quick access to the list of steps in the Vectice web app, visit:\n",
      "https://app.vectice.com/project/phase/iteration?w=2110&iterationId=6539\n",
      "\n"
     ]
    }
   ],
   "source": [
    "\n",
    "# Let's instanciate an iteration for the first phase in the list above (Document Dataset)\n",
    "phase_iter = project.phase(\"Document Dataset\").create_iteration() #We could have used its ID\n",
    "\n",
    "# Let's have a look at the steps needed to be completed\n",
    "phase_iter.list_steps()"
   ]
  },
  {
   "cell_type": "code",
   "execution_count": 21,
   "metadata": {},
   "outputs": [
    {
     "name": "stderr",
     "output_type": "stream",
     "text": [
      "New Version: 'Version 1' of Dataset: 'Stores' added to Step: Identify source datasets\n",
      "Attachments: None\n",
      "Link to Step: https://app.vectice.com/project/phase/iteration?w=2110&iterationId=6539\n",
      "\n",
      "New Version: 'Version 1' of Dataset: 'Transactions' added to Step: Identify source datasets\n",
      "Attachments: None\n",
      "Link to Step: https://app.vectice.com/project/phase/iteration?w=2110&iterationId=6539\n",
      "\n",
      "File: items.csv wrapped successfully.\n",
      "New Version: 'Version 1' of Dataset: 'Items' added to Step: Identify source datasets\n",
      "Attachments: None\n",
      "Link to Step: https://app.vectice.com/project/phase/iteration?w=2110&iterationId=6539\n",
      "\n",
      "Added Comment to Step: Identify source datasets\n",
      "\n",
      "Link to Step: https://app.vectice.com/project/phase/iteration?w=2110&iterationId=6539\n",
      "\n"
     ]
    }
   ],
   "source": [
    "# Great I now know the structure of my projects and the steps I need to document\n",
    "\n",
    "# Document the origin datasets used for this iteration - documenting the source data\n",
    "# Vectice uses your existing objects, like a dataframe, to calculate relevant metrics and publish them straight to Vectice\n",
    "phase_iter.step_identify_source_datasets = Dataset.origin( \n",
    "    name=\"Stores\", \n",
    "    resource=S3Resource(\n",
    "        uris=\"s3://vectice-examples/Tutorial/ForecastTutorial/stores.csv\", \n",
    "        dataframes=stores_df\n",
    "        )\n",
    "    )\n",
    "\n",
    "phase_iter.step_identify_source_datasets += Dataset.origin(\n",
    "    name=\"Transactions\",\n",
    "    resource=S3Resource(\n",
    "        uris=\"s3://vectice-examples/Tutorial/ForecastTutorial/transactions.csv\", \n",
    "        dataframes=transaction_df\n",
    "        )\n",
    "    )\n",
    "\n",
    "# Easily document datasets from various sources...Using a FileResource for local files\n",
    "phase_iter.step_identify_source_datasets += Dataset.origin(name=\"Items\",resource=FileResource(paths=\"items.csv\"))\n",
    "\n",
    "# More examples here: https://docs.vectice.com/python-api-docs/how-to-register-datasets\n",
    "\n",
    "\n",
    "#Adding a commnent to the step\n",
    "phase_iter.step_identify_source_datasets = \"The datasets for the project have been identified as \\'stores.csv\\' and \\'transaction.csv'.\\nBoth files are located under the \\'vectice-example' S3 bucket.\\n We also identified a local file to help with feature engineering.\""
   ]
  },
  {
   "cell_type": "code",
   "execution_count": 22,
   "metadata": {},
   "outputs": [
    {
     "name": "stdout",
     "output_type": "stream",
     "text": [
      "Successful S3 get_object response. Status - 200\n",
      "    store_nbr           city                           state type  cluster\n",
      "0           1          Quito                       Pichincha    D       13\n",
      "1           2          Quito                       Pichincha    D       13\n",
      "2           3          Quito                       Pichincha    D        8\n",
      "3           4          Quito                       Pichincha    D        9\n",
      "4           5  Santo Domingo  Santo Domingo de los Tsachilas    D        4\n",
      "5           6          Quito                       Pichincha    D       13\n",
      "6           7          Quito                       Pichincha    D        8\n",
      "7           8          Quito                       Pichincha    D        8\n",
      "8           9          Quito                       Pichincha    B        6\n",
      "9          10          Quito                       Pichincha    C       15\n",
      "10         11        Cayambe                       Pichincha    B        6\n",
      "11         12      Latacunga                        Cotopaxi    C       15\n",
      "12         13      Latacunga                        Cotopaxi    C       15\n",
      "13         14       Riobamba                      Chimborazo    C        7\n",
      "14         15         Ibarra                        Imbabura    C       15\n",
      "15         16  Santo Domingo  Santo Domingo de los Tsachilas    C        3\n",
      "16         17          Quito                       Pichincha    C       12\n",
      "17         18          Quito                       Pichincha    B       16\n",
      "18         19       Guaranda                         Bolivar    C       15\n",
      "19         20          Quito                       Pichincha    B        6\n",
      "20         21  Santo Domingo  Santo Domingo de los Tsachilas    B        6\n",
      "21         22           Puyo                         Pastaza    C        7\n",
      "22         23         Ambato                      Tungurahua    D        9\n",
      "23         24      Guayaquil                          Guayas    D        1\n",
      "24         25        Salinas                     Santa Elena    D        1\n",
      "25         26      Guayaquil                          Guayas    D       10\n",
      "26         27          Daule                          Guayas    D        1\n",
      "27         28      Guayaquil                          Guayas    E       10\n",
      "28         29      Guayaquil                          Guayas    E       10\n",
      "29         30      Guayaquil                          Guayas    C        3\n",
      "30         31       Babahoyo                        Los Rios    B       10\n",
      "31         32      Guayaquil                          Guayas    C        3\n",
      "32         33        Quevedo                        Los Rios    C        3\n",
      "33         34      Guayaquil                          Guayas    B        6\n",
      "34         35         Playas                          Guayas    C        3\n",
      "35         36       Libertad                          Guayas    E       10\n",
      "36         37         Cuenca                           Azuay    D        2\n",
      "37         38           Loja                            Loja    D        4\n",
      "38         39         Cuenca                           Azuay    B        6\n",
      "39         40        Machala                          El Oro    C        3\n",
      "40         41        Machala                          El Oro    D        4\n",
      "41         42         Cuenca                           Azuay    D        2\n",
      "42         43     Esmeraldas                      Esmeraldas    E       10\n",
      "43         44          Quito                       Pichincha    A        5\n",
      "44         45          Quito                       Pichincha    A       11\n",
      "45         46          Quito                       Pichincha    A       14\n",
      "46         47          Quito                       Pichincha    A       14\n",
      "47         48          Quito                       Pichincha    A       14\n",
      "48         49          Quito                       Pichincha    A       11\n",
      "49         50         Ambato                      Tungurahua    A       14\n",
      "50         51      Guayaquil                          Guayas    A       17\n",
      "51         52          Manta                          Manabi    A       11\n",
      "52         53          Manta                          Manabi    D       13\n",
      "53         54      El Carmen                          Manabi    C        3\n"
     ]
    }
   ],
   "source": [
    "# Data Scientist code for data preparation, normalization, etc...\n",
    "# Here you would execute your EDA, and other Data Prep pipeline you might have\n",
    "\n",
    "response = s3_client.get_object(Bucket=\"vectice-examples\", Key=\"Tutorial/ForecastTutorial/train_reduced.csv\")\n",
    "status = response.get(\"ResponseMetadata\", {}).get(\"HTTPStatusCode\")\n",
    "if status == 200:\n",
    "    print(f\"Successful S3 get_object response. Status - {status}\")\n",
    "    train_clean_df=pd.read_csv(response.get(\"Body\"))\n",
    "    print(stores_df)\n",
    "else:\n",
    "    print(f\"Unsuccessful S3 get_object response. Status - {status}\")\n"
   ]
  },
  {
   "cell_type": "code",
   "execution_count": 23,
   "metadata": {},
   "outputs": [
    {
     "name": "stderr",
     "output_type": "stream",
     "text": [
      "New Version: 'Version 1' of Dataset: 'Normalized_Cleaned' added to Step: Prep datasets\n",
      "Attachments: None\n",
      "Link to Step: https://app.vectice.com/project/phase/iteration?w=2110&iterationId=6539\n",
      "\n",
      "Added Comment to Step: Prep datasets\n",
      "\n",
      "Link to Step: https://app.vectice.com/project/phase/iteration?w=2110&iterationId=6539\n",
      "\n"
     ]
    }
   ],
   "source": [
    "\n",
    "# This time let's documnet our clean dataset in Vectice...\n",
    "phase_iter.step_prep_datasets = Dataset.clean( \n",
    "    name=\"Normalized_Cleaned\", \n",
    "    resource=S3Resource(\n",
    "        uris=\"s3://vectice-examples/Tutorial/ForecastTutorial/train_reduced.csv\", \n",
    "        dataframes=train_clean_df))\n",
    "\n",
    "msg = \"As part of our standard Data Pipeline process we applied the following preparation to our datasets: - Handling of missing data - Applied standard scaler to numerical attributes - Converted categorical data into numerical - Split values in numerical value..\"\n",
    "phase_iter.step_prep_datasets = msg"
   ]
  },
  {
   "cell_type": "code",
   "execution_count": 24,
   "metadata": {},
   "outputs": [
    {
     "name": "stdout",
     "output_type": "stream",
     "text": [
      "There are 3 steps in Iteration '2' and a maximum of 10 steps are displayed in the table below:\n",
      "\n"
     ]
    },
    {
     "data": {
      "text/html": [
       "<pre style=\"white-space:pre;overflow-x:auto;line-height:normal;font-family:Menlo,'DejaVu Sans Mono',consolas,'Courier New',monospace\"><span style=\"font-weight: bold\"> index           </span>┃<span style=\"font-weight: bold\"> shortcut                                            </span>┃<span style=\"font-weight: bold\"> artifacts                </span>┃<span style=\"font-weight: bold\"> comment             </span>\n",
       "━━━━━━━━━━━━━━━━━╇━━━━━━━━━━━━━━━━━━━━━━━━━━━━━━━━━━━━━━━━━━━━━━━━━━━━━╇━━━━━━━━━━━━━━━━━━━━━━━━━━╇━━━━━━━━━━━━━━━━━━━━━\n",
       " 1               │ step_identify_source_datasets                       │ 4                        │ True                \n",
       " 2               │ step_prep_datasets                                  │ 2                        │ True                \n",
       " 3               │ step_partition_dataset                              │ 0                        │ False               \n",
       "</pre>\n"
      ],
      "text/plain": [
       "\u001b[1m \u001b[0m\u001b[1mindex          \u001b[0m\u001b[1m \u001b[0m┃\u001b[1m \u001b[0m\u001b[1mshortcut                                           \u001b[0m\u001b[1m \u001b[0m┃\u001b[1m \u001b[0m\u001b[1martifacts               \u001b[0m\u001b[1m \u001b[0m┃\u001b[1m \u001b[0m\u001b[1mcomment            \u001b[0m\u001b[1m \u001b[0m\n",
       "━━━━━━━━━━━━━━━━━╇━━━━━━━━━━━━━━━━━━━━━━━━━━━━━━━━━━━━━━━━━━━━━━━━━━━━━╇━━━━━━━━━━━━━━━━━━━━━━━━━━╇━━━━━━━━━━━━━━━━━━━━━\n",
       " 1               │ step_identify_source_datasets                       │ 4                        │ True                \n",
       " 2               │ step_prep_datasets                                  │ 2                        │ True                \n",
       " 3               │ step_partition_dataset                              │ 0                        │ False               \n"
      ]
     },
     "metadata": {},
     "output_type": "display_data"
    },
    {
     "name": "stdout",
     "output_type": "stream",
     "text": [
      "\n",
      "To access a specific step, use the step shortcut \u001b[1iiteration\u001b[0m.step_my_step_name\n",
      "The step reference is referred to as shortcut\n",
      "\n",
      "For quick access to the list of steps in the Vectice web app, visit:\n",
      "https://app.vectice.com/project/phase/iteration?w=2110&iterationId=6539\n",
      "\n"
     ]
    }
   ],
   "source": [
    "# Hmmmmm, which step am I on again? \n",
    "# Vectice makes it easy to follow your progress\n",
    "phase_iter.list_steps()\n",
    "\n",
    "# Ok, looks like I am working on the \"step_partition_dataset\""
   ]
  },
  {
   "cell_type": "code",
   "execution_count": 25,
   "metadata": {},
   "outputs": [
    {
     "name": "stderr",
     "output_type": "stream",
     "text": [
      "New Version: 'Version 1' of Dataset: 'Modeling Dataset' added to Step: Partition dataset\n",
      "Attachments: None\n",
      "Link to Step: https://app.vectice.com/project/phase/iteration?w=2110&iterationId=6539\n",
      "\n",
      "Added Comment to Step: Partition dataset\n",
      "\n",
      "Link to Step: https://app.vectice.com/project/phase/iteration?w=2110&iterationId=6539\n",
      "\n",
      "Iteration with index 2 completed.\n",
      "\n",
      "For quick access to the Iteration in the Vectice web app, visit:\n",
      "https://app.vectice.com/project/phase/iteration?w=2110&iterationId=6539\n"
     ]
    }
   ],
   "source": [
    "# Data Scientist code to generate training, testing, and validation dataframes\n",
    "# ...\n",
    "\n",
    "# Define testing, training and validation resources\n",
    "train_ds = S3Resource(uris=\"s3://vectice-examples/Tutorial/ForecastTutorial/traindataset.csv\")\n",
    "test_ds = S3Resource(uris=\"s3://vectice-examples/Tutorial/ForecastTutorial/testdataset.csv\")\n",
    "validate_ds = S3Resource(uris=\"s3://vectice-examples/Tutorial/ForecastTutorial/validatedataset.csv\")\n",
    "\n",
    "dataset = Dataset.modeling(\n",
    "    name=\"Modeling Dataset\",\n",
    "    training_resource=train_ds,\n",
    "    testing_resource=test_ds,\n",
    "    validation_resource=validate_ds,\n",
    ")\n",
    "phase_iter.step_partition_dataset = dataset\n",
    "# Document the step and automatically attach the dataset\n",
    "phase_iter.step_partition_dataset = \"We split the cleaned dataset in a training, testing and validation datasets. 40% of the data is set aside for testing and our seed to generate repeatable datasets is 42\"\n",
    "phase_iter.complete()"
   ]
  }
 ],
 "metadata": {
  "kernelspec": {
   "display_name": "Python 3",
   "language": "python",
   "name": "python3"
  },
  "language_info": {
   "codemirror_mode": {
    "name": "ipython",
    "version": 3
   },
   "file_extension": ".py",
   "mimetype": "text/x-python",
   "name": "python",
   "nbconvert_exporter": "python",
   "pygments_lexer": "ipython3",
   "version": "3.9.2"
  },
  "orig_nbformat": 4,
  "vscode": {
   "interpreter": {
    "hash": "397704579725e15f5c7cb49fe5f0341eb7531c82d19f2c29d197e8b64ab5776b"
   }
  }
 },
 "nbformat": 4,
 "nbformat_minor": 2
}
