{
  "cells": [
    {
      "attachments": {},
      "cell_type": "markdown",
      "metadata": {},
      "source": [
        "# References"
      ]
    },
    {
      "attachments": {},
      "cell_type": "markdown",
      "metadata": {},
      "source": [
        "Vectice Documentation: https://docs.vectice.com/ </br>\n",
        "</br>\n",
        "Vectice API documentation: https://api-docs.vectice.com/sdk/index.html"
      ]
    },
    {
      "attachments": {},
      "cell_type": "markdown",
      "metadata": {
        "id": "BWxVwtAdgSbj"
      },
      "source": [
        "## Install the latest Vectice Python client library"
      ]
    },
    {
      "cell_type": "code",
      "execution_count": null,
      "metadata": {
        "id": "bin0M8rKdfBU"
      },
      "outputs": [],
      "source": [
        "%pip install seaborn\n",
        "%pip install scikit-learn\n",
        "%pip install vectice"
      ]
    },
    {
      "cell_type": "code",
      "execution_count": null,
      "metadata": {},
      "outputs": [],
      "source": [
        "import seaborn as sns\n",
        "import matplotlib.pyplot as plt"
      ]
    },
    {
      "attachments": {},
      "cell_type": "markdown",
      "metadata": {
        "id": "1bwpySvqf5Ce"
      },
      "source": [
        "## Get started by connecting to Vectice"
      ]
    },
    {
      "cell_type": "code",
      "execution_count": null,
      "metadata": {
        "colab": {
          "base_uri": "https://localhost:8080/"
        },
        "id": "ovcY0CX-eoZX",
        "outputId": "d580834b-2f0b-480e-fe45-0198efb50f2d"
      },
      "outputs": [],
      "source": [
        "import vectice\n",
        "\n",
        "vct = vectice.connect(api_token=\"your_api_token\") #Put your API token as explained in the Quickstart documentation"
      ]
    },
    {
      "attachments": {},
      "cell_type": "markdown",
      "metadata": {
        "id": "X5h5ghH2gc-S"
      },
      "source": [
        "## Specify which project phase you want to document"
      ]
    },
    {
      "attachments": {},
      "cell_type": "markdown",
      "metadata": {},
      "source": [
        "In Vectice UI, navigate to your personal workspace inside your default Tutorial project go to the modeling phase and copy paste your Phase Id below."
      ]
    },
    {
      "cell_type": "code",
      "execution_count": null,
      "metadata": {
        "colab": {
          "base_uri": "https://localhost:8080/"
        },
        "id": "6aN4waWKeo5D",
        "outputId": "a2aeabd7-4eb7-4c46-ba18-a9f98188783a"
      },
      "outputs": [],
      "source": [
        "phase = vct.phase('PHA-xxxx') #Your Phase Id"
      ]
    },
    {
      "attachments": {},
      "cell_type": "markdown",
      "metadata": {
        "id": "jRPNU5blklRw"
      },
      "source": [
        "## Next we are going to create an iteration"
      ]
    },
    {
      "attachments": {},
      "cell_type": "markdown",
      "metadata": {},
      "source": [
        "### An iteration allows you to organize your work in repeatable sequences of steps. You can have multiple iteration within a phase"
      ]
    },
    {
      "cell_type": "code",
      "execution_count": null,
      "metadata": {
        "colab": {
          "base_uri": "https://localhost:8080/"
        },
        "id": "vE0dEteRepDI",
        "outputId": "77555ecc-64dc-4a57-efb0-43a5af62b542"
      },
      "outputs": [],
      "source": [
        "iteration = phase.create_iteration()"
      ]
    },
    {
      "attachments": {},
      "cell_type": "markdown",
      "metadata": {
        "id": "FYeCGcgLlsOL"
      },
      "source": [
        "## Use these 3 main type of items that we can register within an iteration"
      ]
    },
    {
      "attachments": {},
      "cell_type": "markdown",
      "metadata": {
        "id": "wFewo-zTo5bn"
      },
      "source": [
        "### Push a comment"
      ]
    },
    {
      "cell_type": "code",
      "execution_count": null,
      "metadata": {
        "colab": {
          "base_uri": "https://localhost:8080/"
        },
        "id": "Qnlqgd7Yo7-J",
        "outputId": "263e3ab1-94fd-4574-fa55-86b819aa70be"
      },
      "outputs": [],
      "source": [
        "iteration.step_build_model += \"My first log into Vectice\""
      ]
    },
    {
      "attachments": {},
      "cell_type": "markdown",
      "metadata": {
        "id": "TCcxg4Gklxcl"
      },
      "source": [
        "### Push a dataset with an image as attachements"
      ]
    },
    {
      "attachments": {},
      "cell_type": "markdown",
      "metadata": {
        "id": "6VvbrEsKl5bH"
      },
      "source": [
        "Use the following code block to create a local dataset and generate an image:"
      ]
    },
    {
      "cell_type": "code",
      "execution_count": null,
      "metadata": {
        "colab": {
          "base_uri": "https://localhost:8080/"
        },
        "id": "jMC05CI6epHw",
        "outputId": "ea7854b8-de8a-48e7-da55-02c8b89e4cf3"
      },
      "outputs": [],
      "source": [
        "import pandas as pd\n",
        "from sklearn import datasets\n",
        "\n",
        "iris = datasets.load_iris()\n",
        "\n",
        "df_iris = pd.DataFrame(data=iris.data, columns=iris.feature_names)\n",
        "df_iris['species'] = iris.target_names[iris.target]\n",
        "df_iris.to_csv('cleaned_dataset.csv')"
      ]
    },
    {
      "cell_type": "code",
      "execution_count": null,
      "metadata": {},
      "outputs": [],
      "source": [
        "sns.scatterplot(data=df_iris, x='sepal length (cm)',\n",
        "                y='petal width (cm)', hue='species')\n",
        "plt.plot()\n",
        "plt.savefig('Scatter_plot_iris.png')"
      ]
    },
    {
      "attachments": {},
      "cell_type": "markdown",
      "metadata": {
        "id": "4zUUM4HynZuV"
      },
      "source": [
        "Register dataset metadata and statistics to Vectice"
      ]
    },
    {
      "cell_type": "code",
      "execution_count": null,
      "metadata": {
        "colab": {
          "base_uri": "https://localhost:8080/"
        },
        "id": "ntJfS6_inYyK",
        "outputId": "f59d71df-525a-4387-daa7-d5ba42b89af1"
      },
      "outputs": [],
      "source": [
        "from vectice import Dataset, FileResource\n",
        "\n",
        "clean_dataset = Dataset.clean(name=\"Cleaned Dataset\", resource=FileResource(paths=\"cleaned_dataset.csv\", dataframes=df_iris), attachments='Scatter_plot_iris.png')\n",
        "\n",
        "iteration.step_build_model += clean_dataset"
      ]
    },
    {
      "attachments": {},
      "cell_type": "markdown",
      "metadata": {},
      "source": [
        "### You can verify what was saved in Vectice by clicking on the UI link above"
      ]
    },
    {
      "attachments": {},
      "cell_type": "markdown",
      "metadata": {
        "id": "Q8wbMhVTotUK"
      },
      "source": [
        "### Push a model"
      ]
    },
    {
      "cell_type": "code",
      "execution_count": null,
      "metadata": {},
      "outputs": [],
      "source": [
        "from sklearn.neighbors import KNeighborsClassifier\n",
        "\n",
        "#instantiate the model (with the default parameter)\n",
        "knn = KNeighborsClassifier()\n",
        "\n",
        "# fit the model with data (occurs in-place)\n",
        "knn.fit(df_iris[iris.feature_names],df_iris[\"species\"])"
      ]
    },
    {
      "cell_type": "code",
      "execution_count": null,
      "metadata": {
        "colab": {
          "base_uri": "https://localhost:8080/"
        },
        "id": "g5FOnLfHnY14",
        "outputId": "17d67d33-5ac7-46d1-9ff8-9dfa5cdb01a4"
      },
      "outputs": [],
      "source": [
        "from vectice import Model\n",
        "\n",
        "iteration.step_build_model += Model(library=\"scikit-learn\", technique=\"linear regression\", name=\"Unit Sales Predictor\", predictor=knn, properties=knn.get_params(), derived_from=[clean_dataset.latest_version_id])"
      ]
    },
    {
      "attachments": {},
      "cell_type": "markdown",
      "metadata": {
        "id": "ZV-eznItq8gu"
      },
      "source": [
        "#### ✴ You can view your registered assets and comments in the UI by clicking the links in the output messages. "
      ]
    },
    {
      "attachments": {},
      "cell_type": "markdown",
      "metadata": {
        "id": "YnmFUplTpMoW"
      },
      "source": [
        "## 🥇 Congrats! Learn how to use the Vectice UI by viewing our [Vectice UI Tuturial Project](https://https://docs.vectice.com/getting-started/tutorial)."
      ]
    }
  ],
  "metadata": {
    "colab": {
      "provenance": []
    },
    "kernelspec": {
      "display_name": "Python 3",
      "name": "python3"
    },
    "language_info": {
      "codemirror_mode": {
        "name": "ipython",
        "version": 3
      },
      "file_extension": ".py",
      "mimetype": "text/x-python",
      "name": "python",
      "nbconvert_exporter": "python",
      "pygments_lexer": "ipython3",
      "version": "3.9.6"
    }
  },
  "nbformat": 4,
  "nbformat_minor": 0
}
