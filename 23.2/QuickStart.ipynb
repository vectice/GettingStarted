{
  "cells": [
    {
      "attachments": {},
      "cell_type": "markdown",
      "metadata": {},
      "source": [
        "# References"
      ]
    },
    {
      "attachments": {},
      "cell_type": "markdown",
      "metadata": {},
      "source": [
        "*   Vectice Documentation: https://docs.vectice.com/ </br>\n",
        "*   Vectice API documentation: https://api-docs.vectice.com/\n"
      ]
    },
    {
      "attachments": {},
      "cell_type": "markdown",
      "metadata": {
        "id": "BWxVwtAdgSbj"
      },
      "source": [
        "## Install the latest Vectice Python client library"
      ]
    },
    {
      "cell_type": "code",
      "execution_count": null,
      "metadata": {
        "id": "bin0M8rKdfBU"
      },
      "outputs": [],
      "source": [
        "%pip install seaborn\n",
        "%pip install scikit-learn\n",
        "%pip install vectice"
      ]
    },
    {
      "attachments": {},
      "cell_type": "markdown",
      "metadata": {
        "id": "1bwpySvqf5Ce"
      },
      "source": [
        "## Get started by connecting to Vectice"
      ]
    },
    {
      "cell_type": "code",
      "execution_count": 43,
      "metadata": {
        "colab": {
          "base_uri": "https://localhost:8080/"
        },
        "id": "ovcY0CX-eoZX",
        "outputId": "d580834b-2f0b-480e-fe45-0198efb50f2d"
      },
      "outputs": [
        {
          "name": "stdout",
          "output_type": "stream",
          "text": [
            "Welcome, bryan. You`re now successfully connected to Vectice.\n",
            "\n",
            "To access your personal workspace, use \u001b[1mconnection\u001b[0m.my_workspace\n",
            "To access a specific workspace, use \u001b[1mconnection\u001b[0m.workspace(Workspace ID)\n",
            "To get a list of workspaces you can access and their IDs, use \u001b[1mconnection\u001b[0m.list_workspaces()\n",
            "\n",
            "If you are using a notebook you can call the help by using a Vectice returned object with the builtin notebook \"?\":\n",
            ">> connection?\n",
            "\n",
            "If you are using an IDE you can call the help() method on any object returned by Vectice:\n",
            ">> help(connection)\n",
            "\n",
            "For quick access to your default workspace in the Vectice web app, visit:\n",
            "https://qa.vectice.com/browse/workspace/WSP-4953\n"
          ]
        }
      ],
      "source": [
        "import vectice\n",
        "\n",
        "vct = vectice.connect(api_token=\"my_api_token\") #Put your API token as explained in the Quickstart documentation"
      ]
    },
    {
      "attachments": {},
      "cell_type": "markdown",
      "metadata": {
        "id": "X5h5ghH2gc-S"
      },
      "source": [
        "## Specify which project phase you want to document"
      ]
    },
    {
      "attachments": {},
      "cell_type": "markdown",
      "metadata": {},
      "source": [
        "In Vectice UI, navigate to your personal workspace inside your default Tutorial project go to the modeling phase and copy paste your Phase Id below."
      ]
    },
    {
      "cell_type": "code",
      "execution_count": 44,
      "metadata": {
        "colab": {
          "base_uri": "https://localhost:8080/"
        },
        "id": "6aN4waWKeo5D",
        "outputId": "a2aeabd7-4eb7-4c46-ba18-a9f98188783a"
      },
      "outputs": [
        {
          "name": "stdout",
          "output_type": "stream",
          "text": [
            "Phase 'Modeling' successfully retrieved.\"\n",
            "\n",
            "For quick access to the Phase in the Vectice web app, visit:\n",
            "https://qa.vectice.com/browse/phase/PHA-35890\n"
          ]
        }
      ],
      "source": [
        "phase = vct.phase('PHA-xxxx') #Your Phase Id"
      ]
    },
    {
      "attachments": {},
      "cell_type": "markdown",
      "metadata": {
        "id": "jRPNU5blklRw"
      },
      "source": [
        "## Next we are going to create an iteration"
      ]
    },
    {
      "attachments": {},
      "cell_type": "markdown",
      "metadata": {},
      "source": [
        "### An iteration allows you to organize your work in repeatable sequences of steps. You can have multiple iteration within a phase"
      ]
    },
    {
      "cell_type": "code",
      "execution_count": 45,
      "metadata": {
        "colab": {
          "base_uri": "https://localhost:8080/"
        },
        "id": "vE0dEteRepDI",
        "outputId": "77555ecc-64dc-4a57-efb0-43a5af62b542"
      },
      "outputs": [
        {
          "name": "stdout",
          "output_type": "stream",
          "text": [
            "New Iteration number '3' created.\n",
            "\n",
            "For quick access to the Iteration in the Vectice web app, visit:\n",
            "https://qa.vectice.com/browse/iteration/ITR-25083\n"
          ]
        }
      ],
      "source": [
        "iteration = phase.create_iteration()"
      ]
    },
    {
      "attachments": {},
      "cell_type": "markdown",
      "metadata": {
        "id": "FYeCGcgLlsOL"
      },
      "source": [
        "## Use these 3 main type of items that we can register within an iteration"
      ]
    },
    {
      "attachments": {},
      "cell_type": "markdown",
      "metadata": {
        "id": "wFewo-zTo5bn"
      },
      "source": [
        "### Push a comment"
      ]
    },
    {
      "cell_type": "code",
      "execution_count": 46,
      "metadata": {
        "colab": {
          "base_uri": "https://localhost:8080/"
        },
        "id": "Qnlqgd7Yo7-J",
        "outputId": "263e3ab1-94fd-4574-fa55-86b819aa70be"
      },
      "outputs": [
        {
          "name": "stdout",
          "output_type": "stream",
          "text": [
            "Added Comment to Step: Build Model\n",
            "\n",
            "Link to Step: https://qa.vectice.com/browse/iteration/ITR-25083\n",
            "\n"
          ]
        }
      ],
      "source": [
        "iteration.step_build_model += \"My first log into Vectice\""
      ]
    },
    {
      "attachments": {},
      "cell_type": "markdown",
      "metadata": {
        "id": "TCcxg4Gklxcl"
      },
      "source": [
        "### Push a dataset with an image as attachements"
      ]
    },
    {
      "attachments": {},
      "cell_type": "markdown",
      "metadata": {
        "id": "6VvbrEsKl5bH"
      },
      "source": [
        "Use the following code block to create a local dataset and generate an image:"
      ]
    },
    {
      "cell_type": "code",
      "execution_count": 47,
      "metadata": {
        "colab": {
          "base_uri": "https://localhost:8080/"
        },
        "id": "jMC05CI6epHw",
        "outputId": "ea7854b8-de8a-48e7-da55-02c8b89e4cf3"
      },
      "outputs": [],
      "source": [
        "import pandas as pd\n",
        "from sklearn import datasets\n",
        "\n",
        "iris = datasets.load_iris()\n",
        "\n",
        "df_iris = pd.DataFrame(data=iris.data, columns=iris.feature_names)\n",
        "df_iris['species'] = iris.target_names[iris.target]\n",
        "df_iris.to_csv('cleaned_dataset.csv')"
      ]
    },
    {
      "cell_type": "code",
      "execution_count": 48,
      "metadata": {},
      "outputs": [
        {
          "data": {
            "image/png": "[encoded data removed]",
            "text/plain": [
              "<Figure size 640x480 with 1 Axes>"
            ]
          },
          "metadata": {},
          "output_type": "display_data"
        }
      ],
      "source": [
        "import seaborn as sns\n",
        "import matplotlib.pyplot as plt\n",
        "\n",
        "sns.scatterplot(data=df_iris, x='sepal length (cm)',\n",
        "                y='petal width (cm)', hue='species')\n",
        "plt.plot()\n",
        "plt.savefig('Scatter_plot_iris.png')"
      ]
    },
    {
      "attachments": {},
      "cell_type": "markdown",
      "metadata": {
        "id": "4zUUM4HynZuV"
      },
      "source": [
        "Register dataset metadata and statistics to Vectice"
      ]
    },
    {
      "cell_type": "code",
      "execution_count": 49,
      "metadata": {
        "colab": {
          "base_uri": "https://localhost:8080/"
        },
        "id": "ntJfS6_inYyK",
        "outputId": "f59d71df-525a-4387-daa7-d5ba42b89af1"
      },
      "outputs": [
        {
          "name": "stdout",
          "output_type": "stream",
          "text": [
            "File: cleaned_dataset.csv wrapped successfully.\n",
            "Code captured the following changed files; 23.2/QuickStart.ipynb, 23.2/tutorial/Modeling_LR.ipynb\n",
            "New Version: 'Version 1' of Dataset: 'Cleaned Dataset' added to Step: Build Model\n",
            "Attachments: Scatter_plot_iris.png\n",
            "Link to Step: https://qa.vectice.com/browse/iteration/ITR-25083\n",
            "\n"
          ]
        }
      ],
      "source": [
        "from vectice import Dataset, FileResource\n",
        "\n",
        "clean_dataset = Dataset.clean(name=\"Cleaned Dataset\", resource=FileResource(paths=\"cleaned_dataset.csv\", dataframes=df_iris), attachments='Scatter_plot_iris.png')\n",
        "\n",
        "iteration.step_build_model += clean_dataset"
      ]
    },
    {
      "attachments": {},
      "cell_type": "markdown",
      "metadata": {},
      "source": [
        "### You can verify what was saved in Vectice by clicking on the UI link above"
      ]
    },
    {
      "attachments": {},
      "cell_type": "markdown",
      "metadata": {
        "id": "Q8wbMhVTotUK"
      },
      "source": [
        "### Push a model"
      ]
    },
    {
      "cell_type": "code",
      "execution_count": 50,
      "metadata": {},
      "outputs": [
        {
          "data": {
            "text/html": [
              "<style>#sk-container-id-4 {color: black;background-color: white;}#sk-container-id-4 pre{padding: 0;}#sk-container-id-4 div.sk-toggleable {background-color: white;}#sk-container-id-4 label.sk-toggleable__label {cursor: pointer;display: block;width: 100%;margin-bottom: 0;padding: 0.3em;box-sizing: border-box;text-align: center;}#sk-container-id-4 label.sk-toggleable__label-arrow:before {content: \"▸\";float: left;margin-right: 0.25em;color: #696969;}#sk-container-id-4 label.sk-toggleable__label-arrow:hover:before {color: black;}#sk-container-id-4 div.sk-estimator:hover label.sk-toggleable__label-arrow:before {color: black;}#sk-container-id-4 div.sk-toggleable__content {max-height: 0;max-width: 0;overflow: hidden;text-align: left;background-color: #f0f8ff;}#sk-container-id-4 div.sk-toggleable__content pre {margin: 0.2em;color: black;border-radius: 0.25em;background-color: #f0f8ff;}#sk-container-id-4 input.sk-toggleable__control:checked~div.sk-toggleable__content {max-height: 200px;max-width: 100%;overflow: auto;}#sk-container-id-4 input.sk-toggleable__control:checked~label.sk-toggleable__label-arrow:before {content: \"▾\";}#sk-container-id-4 div.sk-estimator input.sk-toggleable__control:checked~label.sk-toggleable__label {background-color: #d4ebff;}#sk-container-id-4 div.sk-label input.sk-toggleable__control:checked~label.sk-toggleable__label {background-color: #d4ebff;}#sk-container-id-4 input.sk-hidden--visually {border: 0;clip: rect(1px 1px 1px 1px);clip: rect(1px, 1px, 1px, 1px);height: 1px;margin: -1px;overflow: hidden;padding: 0;position: absolute;width: 1px;}#sk-container-id-4 div.sk-estimator {font-family: monospace;background-color: #f0f8ff;border: 1px dotted black;border-radius: 0.25em;box-sizing: border-box;margin-bottom: 0.5em;}#sk-container-id-4 div.sk-estimator:hover {background-color: #d4ebff;}#sk-container-id-4 div.sk-parallel-item::after {content: \"\";width: 100%;border-bottom: 1px solid gray;flex-grow: 1;}#sk-container-id-4 div.sk-label:hover label.sk-toggleable__label {background-color: #d4ebff;}#sk-container-id-4 div.sk-serial::before {content: \"\";position: absolute;border-left: 1px solid gray;box-sizing: border-box;top: 0;bottom: 0;left: 50%;z-index: 0;}#sk-container-id-4 div.sk-serial {display: flex;flex-direction: column;align-items: center;background-color: white;padding-right: 0.2em;padding-left: 0.2em;position: relative;}#sk-container-id-4 div.sk-item {position: relative;z-index: 1;}#sk-container-id-4 div.sk-parallel {display: flex;align-items: stretch;justify-content: center;background-color: white;position: relative;}#sk-container-id-4 div.sk-item::before, #sk-container-id-4 div.sk-parallel-item::before {content: \"\";position: absolute;border-left: 1px solid gray;box-sizing: border-box;top: 0;bottom: 0;left: 50%;z-index: -1;}#sk-container-id-4 div.sk-parallel-item {display: flex;flex-direction: column;z-index: 1;position: relative;background-color: white;}#sk-container-id-4 div.sk-parallel-item:first-child::after {align-self: flex-end;width: 50%;}#sk-container-id-4 div.sk-parallel-item:last-child::after {align-self: flex-start;width: 50%;}#sk-container-id-4 div.sk-parallel-item:only-child::after {width: 0;}#sk-container-id-4 div.sk-dashed-wrapped {border: 1px dashed gray;margin: 0 0.4em 0.5em 0.4em;box-sizing: border-box;padding-bottom: 0.4em;background-color: white;}#sk-container-id-4 div.sk-label label {font-family: monospace;font-weight: bold;display: inline-block;line-height: 1.2em;}#sk-container-id-4 div.sk-label-container {text-align: center;}#sk-container-id-4 div.sk-container {/* jupyter's `normalize.less` sets `[hidden] { display: none; }` but bootstrap.min.css set `[hidden] { display: none !important; }` so we also need the `!important` here to be able to override the default hidden behavior on the sphinx rendered scikit-learn.org. See: https://github.com/scikit-learn/scikit-learn/issues/21755 */display: inline-block !important;position: relative;}#sk-container-id-4 div.sk-text-repr-fallback {display: none;}</style><div id=\"sk-container-id-4\" class=\"sk-top-container\"><div class=\"sk-text-repr-fallback\"><pre>KNeighborsClassifier()</pre><b>In a Jupyter environment, please rerun this cell to show the HTML representation or trust the notebook. <br />On GitHub, the HTML representation is unable to render, please try loading this page with nbviewer.org.</b></div><div class=\"sk-container\" hidden><div class=\"sk-item\"><div class=\"sk-estimator sk-toggleable\"><input class=\"sk-toggleable__control sk-hidden--visually\" id=\"sk-estimator-id-4\" type=\"checkbox\" checked><label for=\"sk-estimator-id-4\" class=\"sk-toggleable__label sk-toggleable__label-arrow\">KNeighborsClassifier</label><div class=\"sk-toggleable__content\"><pre>KNeighborsClassifier()</pre></div></div></div></div></div>"
            ],
            "text/plain": [
              "KNeighborsClassifier()"
            ]
          },
          "execution_count": 50,
          "metadata": {},
          "output_type": "execute_result"
        }
      ],
      "source": [
        "from sklearn.neighbors import KNeighborsClassifier\n",
        "\n",
        "#instantiate the model (with the default parameter)\n",
        "knn = KNeighborsClassifier()\n",
        "\n",
        "# fit the model with data (occurs in-place)\n",
        "knn.fit(df_iris[iris.feature_names],df_iris[\"species\"])"
      ]
    },
    {
      "cell_type": "code",
      "execution_count": 51,
      "metadata": {
        "colab": {
          "base_uri": "https://localhost:8080/"
        },
        "id": "g5FOnLfHnY14",
        "outputId": "17d67d33-5ac7-46d1-9ff8-9dfa5cdb01a4"
      },
      "outputs": [
        {
          "name": "stdout",
          "output_type": "stream",
          "text": [
            "Model KNeighborsClassifier successfully attached to Model(name='Unit Sales Predictor', version='Version 3').\n",
            "New Version: 'Version 3' of Model: 'Unit Sales Predictor' added to Step: Build Model\n",
            "Attachments: None\n",
            "Link to Step: https://qa.vectice.com/browse/iteration/ITR-25083\n",
            "\n"
          ]
        }
      ],
      "source": [
        "from vectice import Model\n",
        "\n",
        "iteration.step_build_model += Model(library=\"scikit-learn\", technique=\"linear regression\", name=\"Unit Sales Predictor\", predictor=knn, properties=knn.get_params(), derived_from=[clean_dataset.latest_version_id])"
      ]
    },
    {
      "attachments": {},
      "cell_type": "markdown",
      "metadata": {
        "id": "ZV-eznItq8gu"
      },
      "source": [
        "#### ✴ You can view your registered assets and comments in the UI by clicking the links in the output messages. "
      ]
    },
    {
      "attachments": {},
      "cell_type": "markdown",
      "metadata": {
        "id": "YnmFUplTpMoW"
      },
      "source": [
        "## 🥇 Congrats! Learn how to use the Vectice UI by viewing our [Vectice UI Tuturial Project](https://https://docs.vectice.com/getting-started/tutorial)."
      ]
    }
  ],
  "metadata": {
    "colab": {
      "provenance": []
    },
    "kernelspec": {
      "display_name": "Python 3",
      "name": "python3"
    },
    "language_info": {
      "codemirror_mode": {
        "name": "ipython",
        "version": 3
      },
      "file_extension": ".py",
      "mimetype": "text/x-python",
      "name": "python",
      "nbconvert_exporter": "python",
      "pygments_lexer": "ipython3",
      "version": "3.9.6"
    }
  },
  "nbformat": 4,
  "nbformat_minor": 0
}
