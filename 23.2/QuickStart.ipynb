{
  "cells": [
    {
      "attachments": {},
      "cell_type": "markdown",
      "metadata": {
        "id": "BWxVwtAdgSbj"
      },
      "source": [
        "## Install the latest Vectice Python client library"
      ]
    },
    {
      "cell_type": "code",
      "execution_count": null,
      "metadata": {
        "id": "bin0M8rKdfBU"
      },
      "outputs": [],
      "source": [
        "%pip install vectice"
      ]
    },
    {
      "attachments": {},
      "cell_type": "markdown",
      "metadata": {
        "id": "1bwpySvqf5Ce"
      },
      "source": [
        "## Get started by connecting to Vectice"
      ]
    },
    {
      "cell_type": "code",
      "execution_count": null,
      "metadata": {
        "colab": {
          "base_uri": "https://localhost:8080/"
        },
        "id": "ovcY0CX-eoZX",
        "outputId": "d580834b-2f0b-480e-fe45-0198efb50f2d"
      },
      "outputs": [
        {
          "name": "stderr",
          "output_type": "stream",
          "text": [
            "/usr/local/lib/python3.10/dist-packages/ipykernel/ipkernel.py:283: DeprecationWarning: `should_run_async` will not call `transform_cell` automatically in the future. Please pass the result to `transformed_cell` argument and any exception that happen during thetransform in `preprocessing_exc_tuple` in IPython 7.17 and above.\n",
            "  and should_run_async(code)\n",
            "Welcome, trial. You`re now successfully connected to Vectice.\n",
            "\n",
            "To access your personal workspace, use \u001b[1mconnection\u001b[0m.my_workspace\n",
            "To access a specific workspace, use \u001b[1mconnection\u001b[0m.workspace(Workspace ID)\n",
            "To get a list of workspaces you can access and their IDs, use \u001b[1mconnection\u001b[0m.list_workspaces()\n",
            "\n",
            "If you are using a notebook you can call the help by using a Vectice returned object with the builtin notebook \"?\":\n",
            ">> connection?\n",
            "\n",
            "If you are using an IDE you can call the help() method on any object returned by Vectice:\n",
            ">> help(connection)\n",
            "\n",
            "For quick access to your default workspace in the Vectice web app, visit:\n",
            "https://qa.vectice.com/browse/workspace/WSP-315\n"
          ]
        }
      ],
      "source": [
        "import vectice\n",
        "\n",
        "conn = vectice.connect(api_token=\"BKyr58Zlm.nX7oP3e8JQ0EGaW2kDzgBKyr58Zlm69j1RwqVLrZNAd5OMxbp4\", host=\"qa.vectice.com\")"
      ]
    },
    {
      "attachments": {},
      "cell_type": "markdown",
      "metadata": {
        "id": "X5h5ghH2gc-S"
      },
      "source": [
        "## Access your personal workspace and list projects inside workspace"
      ]
    },
    {
      "cell_type": "code",
      "execution_count": null,
      "metadata": {
        "colab": {
          "base_uri": "https://localhost:8080/"
        },
        "id": "6aN4waWKeo5D",
        "outputId": "a2aeabd7-4eb7-4c46-ba18-a9f98188783a"
      },
      "outputs": [
        {
          "name": "stderr",
          "output_type": "stream",
          "text": [
            "/usr/local/lib/python3.10/dist-packages/ipykernel/ipkernel.py:283: DeprecationWarning: `should_run_async` will not call `transform_cell` automatically in the future. Please pass the result to `transformed_cell` argument and any exception that happen during thetransform in `preprocessing_exc_tuple` in IPython 7.17 and above.\n",
            "  and should_run_async(code)\n",
            "Workspace '.trial' successfully retrieved.\"\n",
            "\n",
            "For quick access to the workspace in the Vectice web app, visit:\n",
            "https://qa.vectice.com/browse/workspace/WSP-315\n"
          ]
        }
      ],
      "source": [
        "my_workspace = conn.my_workspace"
      ]
    },
    {
      "cell_type": "code",
      "execution_count": null,
      "metadata": {
        "colab": {
          "base_uri": "https://localhost:8080/",
          "height": 282
        },
        "id": "gIJkqfMHeo7V",
        "outputId": "6904dece-bc88-4a03-9f12-fcd5f0215274"
      },
      "outputs": [
        {
          "name": "stderr",
          "output_type": "stream",
          "text": [
            "/usr/local/lib/python3.10/dist-packages/ipykernel/ipkernel.py:283: DeprecationWarning: `should_run_async` will not call `transform_cell` automatically in the future. Please pass the result to `transformed_cell` argument and any exception that happen during thetransform in `preprocessing_exc_tuple` in IPython 7.17 and above.\n",
            "  and should_run_async(code)\n"
          ]
        },
        {
          "name": "stdout",
          "output_type": "stream",
          "text": [
            "There are 1 projects in the workspace '.trial' and a maximum of 10 projects are displayed in the table below:\n",
            "\n",
            "\n"
          ]
        },
        {
          "data": {
            "text/html": [
              "<pre style=\"white-space:pre;overflow-x:auto;line-height:normal;font-family:Menlo,'DejaVu Sans Mono',consolas,'Courier New',monospace\"><span style=\"font-weight: bold\"> project id       </span>┃<span style=\"font-weight: bold\"> name                    </span>┃<span style=\"font-weight: bold\"> description                                                               </span>\n",
              "━━━━━━━━━━━━━━━━━━╇━━━━━━━━━━━━━━━━━━━━━━━━━╇━━━━━━━━━━━━━━━━━━━━━━━━━━━━━━━━━━━━━━━━━━━━━━━━━━━━━━━━━━━━━━━━━━━━━━━━━━━\n",
              " PRJ-1282         │ Tutorial Project: Fore… │ You can quickly learn how to work with Vectice by following this tutoria… \n",
              "</pre>\n"
            ],
            "text/plain": [
              "\u001b[1m \u001b[0m\u001b[1mproject id      \u001b[0m\u001b[1m \u001b[0m┃\u001b[1m \u001b[0m\u001b[1mname                   \u001b[0m\u001b[1m \u001b[0m┃\u001b[1m \u001b[0m\u001b[1mdescription                                                              \u001b[0m\u001b[1m \u001b[0m\n",
              "━━━━━━━━━━━━━━━━━━╇━━━━━━━━━━━━━━━━━━━━━━━━━╇━━━━━━━━━━━━━━━━━━━━━━━━━━━━━━━━━━━━━━━━━━━━━━━━━━━━━━━━━━━━━━━━━━━━━━━━━━━\n",
              " PRJ-1282         │ Tutorial Project: Fore… │ You can quickly learn how to work with Vectice by following this tutoria… \n"
            ]
          },
          "metadata": {},
          "output_type": "display_data"
        },
        {
          "name": "stdout",
          "output_type": "stream",
          "text": [
            "\n",
            "To access a specific project, use \u001b[1mworkspace\u001b[0m.project(Project ID)\n",
            "\n",
            "For quick access to the list of projects in the Vectice web app, visit:\n",
            "https://qa.vectice.com/browse/workspace/WSP-315\n",
            "\n"
          ]
        }
      ],
      "source": [
        "my_workspace.list_projects()"
      ]
    },
    {
      "attachments": {},
      "cell_type": "markdown",
      "metadata": {
        "id": "LLkgXWlykZAg"
      },
      "source": [
        "## Retrieve the Tutorial Project"
      ]
    },
    {
      "cell_type": "code",
      "execution_count": null,
      "metadata": {
        "colab": {
          "base_uri": "https://localhost:8080/"
        },
        "id": "JRshnfuCepAH",
        "outputId": "f4ccd4fe-ddec-4051-ec87-3193bf524b37"
      },
      "outputs": [
        {
          "name": "stderr",
          "output_type": "stream",
          "text": [
            "/usr/local/lib/python3.10/dist-packages/ipykernel/ipkernel.py:283: DeprecationWarning: `should_run_async` will not call `transform_cell` automatically in the future. Please pass the result to `transformed_cell` argument and any exception that happen during thetransform in `preprocessing_exc_tuple` in IPython 7.17 and above.\n",
            "  and should_run_async(code)\n",
            "Project ''Tutorial Project: Forecast in store unit sales (23.1)'' successfully retrieved.\"\n",
            "\n",
            "For quick access to the Dataset in the Vectice web app, visit:\n",
            "https://qa.vectice.com/browse/project/PRJ-1282\n"
          ]
        }
      ],
      "source": [
        "project = my_workspace.project(\"Tutorial Project: Forecast in store unit sales (23.1)\")"
      ]
    },
    {
      "attachments": {},
      "cell_type": "markdown",
      "metadata": {
        "id": "jRPNU5blklRw"
      },
      "source": [
        "## Retrieve the Modeling phase and start an iteration"
      ]
    },
    {
      "cell_type": "code",
      "execution_count": null,
      "metadata": {
        "colab": {
          "base_uri": "https://localhost:8080/"
        },
        "id": "vE0dEteRepDI",
        "outputId": "77555ecc-64dc-4a57-efb0-43a5af62b542"
      },
      "outputs": [
        {
          "name": "stderr",
          "output_type": "stream",
          "text": [
            "/usr/local/lib/python3.10/dist-packages/ipykernel/ipkernel.py:283: DeprecationWarning: `should_run_async` will not call `transform_cell` automatically in the future. Please pass the result to `transformed_cell` argument and any exception that happen during thetransform in `preprocessing_exc_tuple` in IPython 7.17 and above.\n",
            "  and should_run_async(code)\n",
            "Phase 'Modeling' successfully retrieved.\"\n",
            "\n",
            "For quick access to the Phase in the Vectice web app, visit:\n",
            "https://qa.vectice.com/browse/phase/PHA-5715\n",
            "New Iteration number '2' created.\n",
            "\n",
            "For quick access to the Iteration in the Vectice web app, visit:\n",
            "https://qa.vectice.com/browse/iteration/ITR-2180\n"
          ]
        }
      ],
      "source": [
        "phase = project.phase(\"Modeling\")\n",
        "iteration = phase.create_iteration()"
      ]
    },
    {
      "attachments": {},
      "cell_type": "markdown",
      "metadata": {
        "id": "FYeCGcgLlsOL"
      },
      "source": [
        "## Use these 3 key API calls to register information to Vectice"
      ]
    },
    {
      "attachments": {},
      "cell_type": "markdown",
      "metadata": {
        "id": "TCcxg4Gklxcl"
      },
      "source": [
        "### Push a dataset"
      ]
    },
    {
      "attachments": {},
      "cell_type": "markdown",
      "metadata": {
        "id": "6VvbrEsKl5bH"
      },
      "source": [
        "Use the following code block to create a local dataset:"
      ]
    },
    {
      "cell_type": "code",
      "execution_count": null,
      "metadata": {
        "colab": {
          "base_uri": "https://localhost:8080/"
        },
        "id": "jMC05CI6epHw",
        "outputId": "ea7854b8-de8a-48e7-da55-02c8b89e4cf3"
      },
      "outputs": [
        {
          "name": "stderr",
          "output_type": "stream",
          "text": [
            "/usr/local/lib/python3.10/dist-packages/ipykernel/ipkernel.py:283: DeprecationWarning: `should_run_async` will not call `transform_cell` automatically in the future. Please pass the result to `transformed_cell` argument and any exception that happen during thetransform in `preprocessing_exc_tuple` in IPython 7.17 and above.\n",
            "  and should_run_async(code)\n"
          ]
        }
      ],
      "source": [
        "import pandas as pd\n",
        "\n",
        "csv_url = 'https://archive.ics.uci.edu/ml/machine-learning-databases/iris/iris.data'\n",
        "col_names = ['Sepal_Length','Sepal_Width','Petal_Length','Petal_Width','Class'] \n",
        "\n",
        "df =  pd.read_csv(csv_url, names = col_names)\n",
        "df.to_csv('cleaned_dataset.csv')"
      ]
    },
    {
      "attachments": {},
      "cell_type": "markdown",
      "metadata": {
        "id": "4zUUM4HynZuV"
      },
      "source": [
        "Register dataset metadata and statistics to Vectice"
      ]
    },
    {
      "cell_type": "code",
      "execution_count": null,
      "metadata": {
        "colab": {
          "base_uri": "https://localhost:8080/"
        },
        "id": "ntJfS6_inYyK",
        "outputId": "f59d71df-525a-4387-daa7-d5ba42b89af1"
      },
      "outputs": [
        {
          "name": "stderr",
          "output_type": "stream",
          "text": [
            "/usr/local/lib/python3.10/dist-packages/ipykernel/ipkernel.py:283: DeprecationWarning: `should_run_async` will not call `transform_cell` automatically in the future. Please pass the result to `transformed_cell` argument and any exception that happen during thetransform in `preprocessing_exc_tuple` in IPython 7.17 and above.\n",
            "  and should_run_async(code)\n",
            "File: cleaned_dataset.csv wrapped successfully.\n",
            "New Version: 'Version 2' of Dataset: 'Cleaned Dataset' added to Step: Generate Test Design\n",
            "Attachments: None\n",
            "Link to Step: https://qa.vectice.com/browse/iteration/ITR-2180\n",
            "\n"
          ]
        }
      ],
      "source": [
        "from vectice import Dataset, FileResource\n",
        "\n",
        "iteration.step_generate_test_design = Dataset.clean(name=\"Cleaned Dataset\", resource=FileResource(paths=\"cleaned_dataset.csv\", dataframes=df))"
      ]
    },
    {
      "attachments": {},
      "cell_type": "markdown",
      "metadata": {
        "id": "Q8wbMhVTotUK"
      },
      "source": [
        "### Push a model"
      ]
    },
    {
      "cell_type": "code",
      "execution_count": null,
      "metadata": {
        "colab": {
          "base_uri": "https://localhost:8080/"
        },
        "id": "g5FOnLfHnY14",
        "outputId": "17d67d33-5ac7-46d1-9ff8-9dfa5cdb01a4"
      },
      "outputs": [
        {
          "name": "stderr",
          "output_type": "stream",
          "text": [
            "/usr/local/lib/python3.10/dist-packages/ipykernel/ipkernel.py:283: DeprecationWarning: `should_run_async` will not call `transform_cell` automatically in the future. Please pass the result to `transformed_cell` argument and any exception that happen during thetransform in `preprocessing_exc_tuple` in IPython 7.17 and above.\n",
            "  and should_run_async(code)\n",
            "New Version: 'Version 2' of Model: 'Unit Sales Predictor' added to Step: Build Model\n",
            "Attachments: None\n",
            "Link to Step: https://qa.vectice.com/browse/iteration/ITR-2180\n",
            "\n"
          ]
        }
      ],
      "source": [
        "from vectice import Model\n",
        "\n",
        "iteration.step_build_model = Model(library=\"scikit-learn\", technique=\"linear regression\", name=\"Unit Sales Predictor\")"
      ]
    },
    {
      "attachments": {},
      "cell_type": "markdown",
      "metadata": {
        "id": "wFewo-zTo5bn"
      },
      "source": [
        "### Push a comment"
      ]
    },
    {
      "cell_type": "code",
      "execution_count": null,
      "metadata": {
        "colab": {
          "base_uri": "https://localhost:8080/"
        },
        "id": "Qnlqgd7Yo7-J",
        "outputId": "263e3ab1-94fd-4574-fa55-86b819aa70be"
      },
      "outputs": [
        {
          "name": "stderr",
          "output_type": "stream",
          "text": [
            "/usr/local/lib/python3.10/dist-packages/ipykernel/ipkernel.py:283: DeprecationWarning: `should_run_async` will not call `transform_cell` automatically in the future. Please pass the result to `transformed_cell` argument and any exception that happen during thetransform in `preprocessing_exc_tuple` in IPython 7.17 and above.\n",
            "  and should_run_async(code)\n",
            "Added Comment to Step: Build Model\n",
            "\n",
            "Link to Step: https://qa.vectice.com/browse/iteration/ITR-2180\n",
            "\n"
          ]
        }
      ],
      "source": [
        "iteration.step_build_model += \"Improved accuracy of sales predictor\""
      ]
    },
    {
      "attachments": {},
      "cell_type": "markdown",
      "metadata": {
        "id": "ZV-eznItq8gu"
      },
      "source": [
        "#### ✴ You can view your registered assets and comments in the UI by clicking the links in the output messages. "
      ]
    },
    {
      "attachments": {},
      "cell_type": "markdown",
      "metadata": {
        "id": "YnmFUplTpMoW"
      },
      "source": [
        "## 🥇 Congrats! You are now an expert! Learn how to use the Vectice UI by viewing our [Vectice UI Tuturial Project](https://https://docs.vectice.com/getting-started/tutorial)."
      ]
    }
  ],
  "metadata": {
    "colab": {
      "provenance": []
    },
    "kernelspec": {
      "display_name": "Python 3",
      "name": "python3"
    },
    "language_info": {
      "name": "python"
    }
  },
  "nbformat": 4,
  "nbformat_minor": 0
}
